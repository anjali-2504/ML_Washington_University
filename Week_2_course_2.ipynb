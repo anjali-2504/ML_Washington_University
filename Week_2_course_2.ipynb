{
  "nbformat": 4,
  "nbformat_minor": 0,
  "metadata": {
    "colab": {
      "name": "Week 2 course 2.ipynb",
      "provenance": [],
      "collapsed_sections": []
    },
    "kernelspec": {
      "name": "python3",
      "display_name": "Python 3"
    }
  },
  "cells": [
    {
      "cell_type": "code",
      "metadata": {
        "colab": {
          "resources": {
            "http://localhost:8080/nbextensions/google.colab/files.js": {
              "data": "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",
              "ok": true,
              "headers": [
                [
                  "content-type",
                  "application/javascript"
                ]
              ],
              "status": 200,
              "status_text": ""
            }
          },
          "base_uri": "https://localhost:8080/",
          "height": 72
        },
        "id": "GSkGQeDV6_le",
        "outputId": "7e8b9434-d5ef-4509-e589-cd1793115afb"
      },
      "source": [
        "from google.colab import files\r\n",
        "uploaded = files.upload()"
      ],
      "execution_count": null,
      "outputs": [
        {
          "output_type": "display_data",
          "data": {
            "text/html": [
              "\n",
              "     <input type=\"file\" id=\"files-f5e54d02-59ac-4533-967b-db69ced7d9c2\" name=\"files[]\" multiple disabled\n",
              "        style=\"border:none\" />\n",
              "     <output id=\"result-f5e54d02-59ac-4533-967b-db69ced7d9c2\">\n",
              "      Upload widget is only available when the cell has been executed in the\n",
              "      current browser session. Please rerun this cell to enable.\n",
              "      </output>\n",
              "      <script src=\"/nbextensions/google.colab/files.js\"></script> "
            ],
            "text/plain": [
              "<IPython.core.display.HTML object>"
            ]
          },
          "metadata": {
            "tags": []
          }
        },
        {
          "output_type": "stream",
          "text": [
            "Saving home_data.sframe.zip to home_data.sframe.zip\n"
          ],
          "name": "stdout"
        }
      ]
    },
    {
      "cell_type": "code",
      "metadata": {
        "colab": {
          "base_uri": "https://localhost:8080/"
        },
        "id": "wXylnfHy85Wj",
        "outputId": "473e505f-d837-43e5-e3de-4541a87d1736"
      },
      "source": [
        "from zipfile import ZipFile\r\n",
        "file_name = \"home_data.sframe.zip\"\r\n",
        "with ZipFile(file_name,'r')as zip:\r\n",
        "  zip.extractall()\r\n",
        "  print('Done')"
      ],
      "execution_count": null,
      "outputs": [
        {
          "output_type": "stream",
          "text": [
            "Done\n"
          ],
          "name": "stdout"
        }
      ]
    },
    {
      "cell_type": "code",
      "metadata": {
        "colab": {
          "base_uri": "https://localhost:8080/"
        },
        "id": "5Y6fkhBo9ioZ",
        "outputId": "e3b45c6d-7607-4f5a-bae1-89c4c58a0d62"
      },
      "source": [
        "!pip install turicreate\r\n"
      ],
      "execution_count": null,
      "outputs": [
        {
          "output_type": "stream",
          "text": [
            "Collecting turicreate\n",
            "\u001b[?25l  Downloading https://files.pythonhosted.org/packages/ea/63/00ef7586c56a1aa48a7acabe20e1118cd82794785a56137e190fc6fb049c/turicreate-6.4.1-cp36-cp36m-manylinux1_x86_64.whl (92.0MB)\n",
            "\u001b[K     |████████████████████████████████| 92.0MB 70kB/s \n",
            "\u001b[?25hCollecting tensorflow<2.1.0,>=2.0.0\n",
            "\u001b[?25l  Downloading https://files.pythonhosted.org/packages/0a/3e/714b89b3c104695be38fbf372fb3a6220f8320bbb506899c74c254728d0f/tensorflow-2.0.4-cp36-cp36m-manylinux2010_x86_64.whl (86.4MB)\n",
            "\u001b[K     |████████████████████████████████| 86.4MB 53kB/s \n",
            "\u001b[?25hRequirement already satisfied: decorator>=4.0.9 in /usr/local/lib/python3.6/dist-packages (from turicreate) (4.4.2)\n",
            "Requirement already satisfied: pandas>=0.23.2 in /usr/local/lib/python3.6/dist-packages (from turicreate) (1.1.5)\n",
            "Requirement already satisfied: requests>=2.9.1 in /usr/local/lib/python3.6/dist-packages (from turicreate) (2.23.0)\n",
            "Collecting resampy==0.2.1\n",
            "\u001b[?25l  Downloading https://files.pythonhosted.org/packages/14/b6/66a06d85474190b50aee1a6c09cdc95bb405ac47338b27e9b21409da1760/resampy-0.2.1.tar.gz (322kB)\n",
            "\u001b[K     |████████████████████████████████| 327kB 43.8MB/s \n",
            "\u001b[?25hCollecting coremltools==3.3\n",
            "\u001b[?25l  Downloading https://files.pythonhosted.org/packages/77/19/611916d1ef326d38857d93af5ba184f6ad7491642e0fa4f9082e7d82f034/coremltools-3.3-cp36-none-manylinux1_x86_64.whl (3.4MB)\n",
            "\u001b[K     |████████████████████████████████| 3.4MB 44.6MB/s \n",
            "\u001b[?25hRequirement already satisfied: scipy>=1.1.0 in /usr/local/lib/python3.6/dist-packages (from turicreate) (1.4.1)\n",
            "Requirement already satisfied: numpy in /usr/local/lib/python3.6/dist-packages (from turicreate) (1.19.5)\n",
            "Collecting prettytable==0.7.2\n",
            "  Downloading https://files.pythonhosted.org/packages/ef/30/4b0746848746ed5941f052479e7c23d2b56d174b82f4fd34a25e389831f5/prettytable-0.7.2.tar.bz2\n",
            "Requirement already satisfied: pillow>=5.2.0 in /usr/local/lib/python3.6/dist-packages (from turicreate) (7.0.0)\n",
            "Requirement already satisfied: six>=1.10.0 in /usr/local/lib/python3.6/dist-packages (from turicreate) (1.15.0)\n",
            "Collecting numba<0.51.0\n",
            "\u001b[?25l  Downloading https://files.pythonhosted.org/packages/ab/2a/c4c9f2ee4edb374af7faa407f66cdc3427489f1c4c4744aeab76230952b7/numba-0.50.1-cp36-cp36m-manylinux2014_x86_64.whl (3.6MB)\n",
            "\u001b[K     |████████████████████████████████| 3.6MB 39.0MB/s \n",
            "\u001b[?25hRequirement already satisfied: protobuf>=3.6.1 in /usr/local/lib/python3.6/dist-packages (from tensorflow<2.1.0,>=2.0.0->turicreate) (3.12.4)\n",
            "Collecting keras-applications>=1.0.8\n",
            "\u001b[?25l  Downloading https://files.pythonhosted.org/packages/71/e3/19762fdfc62877ae9102edf6342d71b28fbfd9dea3d2f96a882ce099b03f/Keras_Applications-1.0.8-py3-none-any.whl (50kB)\n",
            "\u001b[K     |████████████████████████████████| 51kB 9.5MB/s \n",
            "\u001b[?25hRequirement already satisfied: google-pasta>=0.1.6 in /usr/local/lib/python3.6/dist-packages (from tensorflow<2.1.0,>=2.0.0->turicreate) (0.2.0)\n",
            "Requirement already satisfied: absl-py>=0.7.0 in /usr/local/lib/python3.6/dist-packages (from tensorflow<2.1.0,>=2.0.0->turicreate) (0.10.0)\n",
            "Collecting tensorflow-estimator<2.1.0,>=2.0.0\n",
            "\u001b[?25l  Downloading https://files.pythonhosted.org/packages/fc/08/8b927337b7019c374719145d1dceba21a8bb909b93b1ad6f8fb7d22c1ca1/tensorflow_estimator-2.0.1-py2.py3-none-any.whl (449kB)\n",
            "\u001b[K     |████████████████████████████████| 450kB 56.7MB/s \n",
            "\u001b[?25hRequirement already satisfied: termcolor>=1.1.0 in /usr/local/lib/python3.6/dist-packages (from tensorflow<2.1.0,>=2.0.0->turicreate) (1.1.0)\n",
            "Requirement already satisfied: wrapt>=1.11.1 in /usr/local/lib/python3.6/dist-packages (from tensorflow<2.1.0,>=2.0.0->turicreate) (1.12.1)\n",
            "Requirement already satisfied: astor>=0.6.0 in /usr/local/lib/python3.6/dist-packages (from tensorflow<2.1.0,>=2.0.0->turicreate) (0.8.1)\n",
            "Requirement already satisfied: grpcio>=1.8.6 in /usr/local/lib/python3.6/dist-packages (from tensorflow<2.1.0,>=2.0.0->turicreate) (1.32.0)\n",
            "Requirement already satisfied: keras-preprocessing>=1.0.5 in /usr/local/lib/python3.6/dist-packages (from tensorflow<2.1.0,>=2.0.0->turicreate) (1.1.2)\n",
            "Requirement already satisfied: wheel>=0.26; python_version >= \"3\" in /usr/local/lib/python3.6/dist-packages (from tensorflow<2.1.0,>=2.0.0->turicreate) (0.36.2)\n",
            "Requirement already satisfied: h5py<=2.10.0 in /usr/local/lib/python3.6/dist-packages (from tensorflow<2.1.0,>=2.0.0->turicreate) (2.10.0)\n",
            "Collecting tensorboard<2.1.0,>=2.0.0\n",
            "\u001b[?25l  Downloading https://files.pythonhosted.org/packages/76/54/99b9d5d52d5cb732f099baaaf7740403e83fe6b0cedde940fabd2b13d75a/tensorboard-2.0.2-py3-none-any.whl (3.8MB)\n",
            "\u001b[K     |████████████████████████████████| 3.8MB 46.5MB/s \n",
            "\u001b[?25hRequirement already satisfied: opt-einsum>=2.3.2 in /usr/local/lib/python3.6/dist-packages (from tensorflow<2.1.0,>=2.0.0->turicreate) (3.3.0)\n",
            "Collecting gast==0.2.2\n",
            "  Downloading https://files.pythonhosted.org/packages/4e/35/11749bf99b2d4e3cceb4d55ca22590b0d7c2c62b9de38ac4a4a7f4687421/gast-0.2.2.tar.gz\n",
            "Requirement already satisfied: python-dateutil>=2.7.3 in /usr/local/lib/python3.6/dist-packages (from pandas>=0.23.2->turicreate) (2.8.1)\n",
            "Requirement already satisfied: pytz>=2017.2 in /usr/local/lib/python3.6/dist-packages (from pandas>=0.23.2->turicreate) (2018.9)\n",
            "Requirement already satisfied: chardet<4,>=3.0.2 in /usr/local/lib/python3.6/dist-packages (from requests>=2.9.1->turicreate) (3.0.4)\n",
            "Requirement already satisfied: urllib3!=1.25.0,!=1.25.1,<1.26,>=1.21.1 in /usr/local/lib/python3.6/dist-packages (from requests>=2.9.1->turicreate) (1.24.3)\n",
            "Requirement already satisfied: idna<3,>=2.5 in /usr/local/lib/python3.6/dist-packages (from requests>=2.9.1->turicreate) (2.10)\n",
            "Requirement already satisfied: certifi>=2017.4.17 in /usr/local/lib/python3.6/dist-packages (from requests>=2.9.1->turicreate) (2020.12.5)\n",
            "Requirement already satisfied: setuptools in /usr/local/lib/python3.6/dist-packages (from numba<0.51.0->turicreate) (53.0.0)\n",
            "Collecting llvmlite<0.34,>=0.33.0.dev0\n",
            "\u001b[?25l  Downloading https://files.pythonhosted.org/packages/d5/37/10d2c4ba0c131cf112d0a8fc97af7a77ca4a769aff626b2bfa2e57e679cf/llvmlite-0.33.0-cp36-cp36m-manylinux1_x86_64.whl (18.3MB)\n",
            "\u001b[K     |████████████████████████████████| 18.3MB 133kB/s \n",
            "\u001b[?25hRequirement already satisfied: markdown>=2.6.8 in /usr/local/lib/python3.6/dist-packages (from tensorboard<2.1.0,>=2.0.0->tensorflow<2.1.0,>=2.0.0->turicreate) (3.3.3)\n",
            "Requirement already satisfied: google-auth-oauthlib<0.5,>=0.4.1 in /usr/local/lib/python3.6/dist-packages (from tensorboard<2.1.0,>=2.0.0->tensorflow<2.1.0,>=2.0.0->turicreate) (0.4.2)\n",
            "Requirement already satisfied: werkzeug>=0.11.15 in /usr/local/lib/python3.6/dist-packages (from tensorboard<2.1.0,>=2.0.0->tensorflow<2.1.0,>=2.0.0->turicreate) (1.0.1)\n",
            "Requirement already satisfied: google-auth<2,>=1.6.3 in /usr/local/lib/python3.6/dist-packages (from tensorboard<2.1.0,>=2.0.0->tensorflow<2.1.0,>=2.0.0->turicreate) (1.25.0)\n",
            "Requirement already satisfied: importlib-metadata; python_version < \"3.8\" in /usr/local/lib/python3.6/dist-packages (from markdown>=2.6.8->tensorboard<2.1.0,>=2.0.0->tensorflow<2.1.0,>=2.0.0->turicreate) (3.4.0)\n",
            "Requirement already satisfied: requests-oauthlib>=0.7.0 in /usr/local/lib/python3.6/dist-packages (from google-auth-oauthlib<0.5,>=0.4.1->tensorboard<2.1.0,>=2.0.0->tensorflow<2.1.0,>=2.0.0->turicreate) (1.3.0)\n",
            "Requirement already satisfied: pyasn1-modules>=0.2.1 in /usr/local/lib/python3.6/dist-packages (from google-auth<2,>=1.6.3->tensorboard<2.1.0,>=2.0.0->tensorflow<2.1.0,>=2.0.0->turicreate) (0.2.8)\n",
            "Requirement already satisfied: rsa<5,>=3.1.4; python_version >= \"3.6\" in /usr/local/lib/python3.6/dist-packages (from google-auth<2,>=1.6.3->tensorboard<2.1.0,>=2.0.0->tensorflow<2.1.0,>=2.0.0->turicreate) (4.7)\n",
            "Requirement already satisfied: cachetools<5.0,>=2.0.0 in /usr/local/lib/python3.6/dist-packages (from google-auth<2,>=1.6.3->tensorboard<2.1.0,>=2.0.0->tensorflow<2.1.0,>=2.0.0->turicreate) (4.2.1)\n",
            "Requirement already satisfied: zipp>=0.5 in /usr/local/lib/python3.6/dist-packages (from importlib-metadata; python_version < \"3.8\"->markdown>=2.6.8->tensorboard<2.1.0,>=2.0.0->tensorflow<2.1.0,>=2.0.0->turicreate) (3.4.0)\n",
            "Requirement already satisfied: typing-extensions>=3.6.4; python_version < \"3.8\" in /usr/local/lib/python3.6/dist-packages (from importlib-metadata; python_version < \"3.8\"->markdown>=2.6.8->tensorboard<2.1.0,>=2.0.0->tensorflow<2.1.0,>=2.0.0->turicreate) (3.7.4.3)\n",
            "Requirement already satisfied: oauthlib>=3.0.0 in /usr/local/lib/python3.6/dist-packages (from requests-oauthlib>=0.7.0->google-auth-oauthlib<0.5,>=0.4.1->tensorboard<2.1.0,>=2.0.0->tensorflow<2.1.0,>=2.0.0->turicreate) (3.1.0)\n",
            "Requirement already satisfied: pyasn1<0.5.0,>=0.4.6 in /usr/local/lib/python3.6/dist-packages (from pyasn1-modules>=0.2.1->google-auth<2,>=1.6.3->tensorboard<2.1.0,>=2.0.0->tensorflow<2.1.0,>=2.0.0->turicreate) (0.4.8)\n",
            "Building wheels for collected packages: resampy, prettytable, gast\n",
            "  Building wheel for resampy (setup.py) ... \u001b[?25l\u001b[?25hdone\n",
            "  Created wheel for resampy: filename=resampy-0.2.1-cp36-none-any.whl size=320849 sha256=314f01f5f54eb2225a3619057a716d9a4ddfa57e9456af606ac1efea851327de\n",
            "  Stored in directory: /root/.cache/pip/wheels/ff/4f/ed/2e6c676c23efe5394bb40ade50662e90eb46e29b48324c5f9b\n",
            "  Building wheel for prettytable (setup.py) ... \u001b[?25l\u001b[?25hdone\n",
            "  Created wheel for prettytable: filename=prettytable-0.7.2-cp36-none-any.whl size=13702 sha256=3f3c40ae3bdbf2baa1e8bf3c8c985a9d5898703c7915a63d87ad9e7cced17ec7\n",
            "  Stored in directory: /root/.cache/pip/wheels/80/34/1c/3967380d9676d162cb59513bd9dc862d0584e045a162095606\n",
            "  Building wheel for gast (setup.py) ... \u001b[?25l\u001b[?25hdone\n",
            "  Created wheel for gast: filename=gast-0.2.2-cp36-none-any.whl size=7540 sha256=1ffc60c93c8a3c921c4665f1c0e4527091bb833ffa7a11c90772426d2227a757\n",
            "  Stored in directory: /root/.cache/pip/wheels/5c/2e/7e/a1d4d4fcebe6c381f378ce7743a3ced3699feb89bcfbdadadd\n",
            "Successfully built resampy prettytable gast\n",
            "\u001b[31mERROR: tensorflow 2.0.4 has requirement numpy<1.19.0,>=1.16.0, but you'll have numpy 1.19.5 which is incompatible.\u001b[0m\n",
            "\u001b[31mERROR: tensorflow-probability 0.12.1 has requirement gast>=0.3.2, but you'll have gast 0.2.2 which is incompatible.\u001b[0m\n",
            "\u001b[31mERROR: pynndescent 0.5.1 has requirement numba>=0.51.2, but you'll have numba 0.50.1 which is incompatible.\u001b[0m\n",
            "\u001b[31mERROR: librosa 0.8.0 has requirement resampy>=0.2.2, but you'll have resampy 0.2.1 which is incompatible.\u001b[0m\n",
            "Installing collected packages: keras-applications, tensorflow-estimator, tensorboard, gast, tensorflow, llvmlite, numba, resampy, coremltools, prettytable, turicreate\n",
            "  Found existing installation: tensorflow-estimator 2.4.0\n",
            "    Uninstalling tensorflow-estimator-2.4.0:\n",
            "      Successfully uninstalled tensorflow-estimator-2.4.0\n",
            "  Found existing installation: tensorboard 2.4.1\n",
            "    Uninstalling tensorboard-2.4.1:\n",
            "      Successfully uninstalled tensorboard-2.4.1\n",
            "  Found existing installation: gast 0.3.3\n",
            "    Uninstalling gast-0.3.3:\n",
            "      Successfully uninstalled gast-0.3.3\n",
            "  Found existing installation: tensorflow 2.4.1\n",
            "    Uninstalling tensorflow-2.4.1:\n",
            "      Successfully uninstalled tensorflow-2.4.1\n",
            "  Found existing installation: llvmlite 0.34.0\n",
            "    Uninstalling llvmlite-0.34.0:\n",
            "      Successfully uninstalled llvmlite-0.34.0\n",
            "  Found existing installation: numba 0.51.2\n",
            "    Uninstalling numba-0.51.2:\n",
            "      Successfully uninstalled numba-0.51.2\n",
            "  Found existing installation: resampy 0.2.2\n",
            "    Uninstalling resampy-0.2.2:\n",
            "      Successfully uninstalled resampy-0.2.2\n",
            "  Found existing installation: prettytable 2.0.0\n",
            "    Uninstalling prettytable-2.0.0:\n",
            "      Successfully uninstalled prettytable-2.0.0\n",
            "Successfully installed coremltools-3.3 gast-0.2.2 keras-applications-1.0.8 llvmlite-0.33.0 numba-0.50.1 prettytable-0.7.2 resampy-0.2.1 tensorboard-2.0.2 tensorflow-2.0.4 tensorflow-estimator-2.0.1 turicreate-6.4.1\n"
          ],
          "name": "stdout"
        }
      ]
    },
    {
      "cell_type": "code",
      "metadata": {
        "colab": {
          "base_uri": "https://localhost:8080/",
          "height": 701
        },
        "id": "wi6IcGzM9u75",
        "outputId": "daab6e3f-11e0-4878-b3db-fe4bca33f233"
      },
      "source": [
        "import turicreate\r\n",
        "sales= turicreate.SFrame('home_data.sframe/')\r\n",
        "sales"
      ],
      "execution_count": null,
      "outputs": [
        {
          "output_type": "execute_result",
          "data": {
            "text/html": [
              "<div style=\"max-height:1000px;max-width:1500px;overflow:auto;\"><table frame=\"box\" rules=\"cols\">\n",
              "    <tr>\n",
              "        <th style=\"padding-left: 1em; padding-right: 1em; text-align: center\">id</th>\n",
              "        <th style=\"padding-left: 1em; padding-right: 1em; text-align: center\">date</th>\n",
              "        <th style=\"padding-left: 1em; padding-right: 1em; text-align: center\">price</th>\n",
              "        <th style=\"padding-left: 1em; padding-right: 1em; text-align: center\">bedrooms</th>\n",
              "        <th style=\"padding-left: 1em; padding-right: 1em; text-align: center\">bathrooms</th>\n",
              "        <th style=\"padding-left: 1em; padding-right: 1em; text-align: center\">sqft_living</th>\n",
              "        <th style=\"padding-left: 1em; padding-right: 1em; text-align: center\">sqft_lot</th>\n",
              "        <th style=\"padding-left: 1em; padding-right: 1em; text-align: center\">floors</th>\n",
              "        <th style=\"padding-left: 1em; padding-right: 1em; text-align: center\">waterfront</th>\n",
              "    </tr>\n",
              "    <tr>\n",
              "        <td style=\"padding-left: 1em; padding-right: 1em; text-align: center; vertical-align: top\">7129300520</td>\n",
              "        <td style=\"padding-left: 1em; padding-right: 1em; text-align: center; vertical-align: top\">2014-10-13 00:00:00+00:00</td>\n",
              "        <td style=\"padding-left: 1em; padding-right: 1em; text-align: center; vertical-align: top\">221900.0</td>\n",
              "        <td style=\"padding-left: 1em; padding-right: 1em; text-align: center; vertical-align: top\">3.0</td>\n",
              "        <td style=\"padding-left: 1em; padding-right: 1em; text-align: center; vertical-align: top\">1.0</td>\n",
              "        <td style=\"padding-left: 1em; padding-right: 1em; text-align: center; vertical-align: top\">1180.0</td>\n",
              "        <td style=\"padding-left: 1em; padding-right: 1em; text-align: center; vertical-align: top\">5650.0</td>\n",
              "        <td style=\"padding-left: 1em; padding-right: 1em; text-align: center; vertical-align: top\">1.0</td>\n",
              "        <td style=\"padding-left: 1em; padding-right: 1em; text-align: center; vertical-align: top\">0</td>\n",
              "    </tr>\n",
              "    <tr>\n",
              "        <td style=\"padding-left: 1em; padding-right: 1em; text-align: center; vertical-align: top\">6414100192</td>\n",
              "        <td style=\"padding-left: 1em; padding-right: 1em; text-align: center; vertical-align: top\">2014-12-09 00:00:00+00:00</td>\n",
              "        <td style=\"padding-left: 1em; padding-right: 1em; text-align: center; vertical-align: top\">538000.0</td>\n",
              "        <td style=\"padding-left: 1em; padding-right: 1em; text-align: center; vertical-align: top\">3.0</td>\n",
              "        <td style=\"padding-left: 1em; padding-right: 1em; text-align: center; vertical-align: top\">2.25</td>\n",
              "        <td style=\"padding-left: 1em; padding-right: 1em; text-align: center; vertical-align: top\">2570.0</td>\n",
              "        <td style=\"padding-left: 1em; padding-right: 1em; text-align: center; vertical-align: top\">7242.0</td>\n",
              "        <td style=\"padding-left: 1em; padding-right: 1em; text-align: center; vertical-align: top\">2.0</td>\n",
              "        <td style=\"padding-left: 1em; padding-right: 1em; text-align: center; vertical-align: top\">0</td>\n",
              "    </tr>\n",
              "    <tr>\n",
              "        <td style=\"padding-left: 1em; padding-right: 1em; text-align: center; vertical-align: top\">5631500400</td>\n",
              "        <td style=\"padding-left: 1em; padding-right: 1em; text-align: center; vertical-align: top\">2015-02-25 00:00:00+00:00</td>\n",
              "        <td style=\"padding-left: 1em; padding-right: 1em; text-align: center; vertical-align: top\">180000.0</td>\n",
              "        <td style=\"padding-left: 1em; padding-right: 1em; text-align: center; vertical-align: top\">2.0</td>\n",
              "        <td style=\"padding-left: 1em; padding-right: 1em; text-align: center; vertical-align: top\">1.0</td>\n",
              "        <td style=\"padding-left: 1em; padding-right: 1em; text-align: center; vertical-align: top\">770.0</td>\n",
              "        <td style=\"padding-left: 1em; padding-right: 1em; text-align: center; vertical-align: top\">10000.0</td>\n",
              "        <td style=\"padding-left: 1em; padding-right: 1em; text-align: center; vertical-align: top\">1.0</td>\n",
              "        <td style=\"padding-left: 1em; padding-right: 1em; text-align: center; vertical-align: top\">0</td>\n",
              "    </tr>\n",
              "    <tr>\n",
              "        <td style=\"padding-left: 1em; padding-right: 1em; text-align: center; vertical-align: top\">2487200875</td>\n",
              "        <td style=\"padding-left: 1em; padding-right: 1em; text-align: center; vertical-align: top\">2014-12-09 00:00:00+00:00</td>\n",
              "        <td style=\"padding-left: 1em; padding-right: 1em; text-align: center; vertical-align: top\">604000.0</td>\n",
              "        <td style=\"padding-left: 1em; padding-right: 1em; text-align: center; vertical-align: top\">4.0</td>\n",
              "        <td style=\"padding-left: 1em; padding-right: 1em; text-align: center; vertical-align: top\">3.0</td>\n",
              "        <td style=\"padding-left: 1em; padding-right: 1em; text-align: center; vertical-align: top\">1960.0</td>\n",
              "        <td style=\"padding-left: 1em; padding-right: 1em; text-align: center; vertical-align: top\">5000.0</td>\n",
              "        <td style=\"padding-left: 1em; padding-right: 1em; text-align: center; vertical-align: top\">1.0</td>\n",
              "        <td style=\"padding-left: 1em; padding-right: 1em; text-align: center; vertical-align: top\">0</td>\n",
              "    </tr>\n",
              "    <tr>\n",
              "        <td style=\"padding-left: 1em; padding-right: 1em; text-align: center; vertical-align: top\">1954400510</td>\n",
              "        <td style=\"padding-left: 1em; padding-right: 1em; text-align: center; vertical-align: top\">2015-02-18 00:00:00+00:00</td>\n",
              "        <td style=\"padding-left: 1em; padding-right: 1em; text-align: center; vertical-align: top\">510000.0</td>\n",
              "        <td style=\"padding-left: 1em; padding-right: 1em; text-align: center; vertical-align: top\">3.0</td>\n",
              "        <td style=\"padding-left: 1em; padding-right: 1em; text-align: center; vertical-align: top\">2.0</td>\n",
              "        <td style=\"padding-left: 1em; padding-right: 1em; text-align: center; vertical-align: top\">1680.0</td>\n",
              "        <td style=\"padding-left: 1em; padding-right: 1em; text-align: center; vertical-align: top\">8080.0</td>\n",
              "        <td style=\"padding-left: 1em; padding-right: 1em; text-align: center; vertical-align: top\">1.0</td>\n",
              "        <td style=\"padding-left: 1em; padding-right: 1em; text-align: center; vertical-align: top\">0</td>\n",
              "    </tr>\n",
              "    <tr>\n",
              "        <td style=\"padding-left: 1em; padding-right: 1em; text-align: center; vertical-align: top\">7237550310</td>\n",
              "        <td style=\"padding-left: 1em; padding-right: 1em; text-align: center; vertical-align: top\">2014-05-12 00:00:00+00:00</td>\n",
              "        <td style=\"padding-left: 1em; padding-right: 1em; text-align: center; vertical-align: top\">1225000.0</td>\n",
              "        <td style=\"padding-left: 1em; padding-right: 1em; text-align: center; vertical-align: top\">4.0</td>\n",
              "        <td style=\"padding-left: 1em; padding-right: 1em; text-align: center; vertical-align: top\">4.5</td>\n",
              "        <td style=\"padding-left: 1em; padding-right: 1em; text-align: center; vertical-align: top\">5420.0</td>\n",
              "        <td style=\"padding-left: 1em; padding-right: 1em; text-align: center; vertical-align: top\">101930.0</td>\n",
              "        <td style=\"padding-left: 1em; padding-right: 1em; text-align: center; vertical-align: top\">1.0</td>\n",
              "        <td style=\"padding-left: 1em; padding-right: 1em; text-align: center; vertical-align: top\">0</td>\n",
              "    </tr>\n",
              "    <tr>\n",
              "        <td style=\"padding-left: 1em; padding-right: 1em; text-align: center; vertical-align: top\">1321400060</td>\n",
              "        <td style=\"padding-left: 1em; padding-right: 1em; text-align: center; vertical-align: top\">2014-06-27 00:00:00+00:00</td>\n",
              "        <td style=\"padding-left: 1em; padding-right: 1em; text-align: center; vertical-align: top\">257500.0</td>\n",
              "        <td style=\"padding-left: 1em; padding-right: 1em; text-align: center; vertical-align: top\">3.0</td>\n",
              "        <td style=\"padding-left: 1em; padding-right: 1em; text-align: center; vertical-align: top\">2.25</td>\n",
              "        <td style=\"padding-left: 1em; padding-right: 1em; text-align: center; vertical-align: top\">1715.0</td>\n",
              "        <td style=\"padding-left: 1em; padding-right: 1em; text-align: center; vertical-align: top\">6819.0</td>\n",
              "        <td style=\"padding-left: 1em; padding-right: 1em; text-align: center; vertical-align: top\">2.0</td>\n",
              "        <td style=\"padding-left: 1em; padding-right: 1em; text-align: center; vertical-align: top\">0</td>\n",
              "    </tr>\n",
              "    <tr>\n",
              "        <td style=\"padding-left: 1em; padding-right: 1em; text-align: center; vertical-align: top\">2008000270</td>\n",
              "        <td style=\"padding-left: 1em; padding-right: 1em; text-align: center; vertical-align: top\">2015-01-15 00:00:00+00:00</td>\n",
              "        <td style=\"padding-left: 1em; padding-right: 1em; text-align: center; vertical-align: top\">291850.0</td>\n",
              "        <td style=\"padding-left: 1em; padding-right: 1em; text-align: center; vertical-align: top\">3.0</td>\n",
              "        <td style=\"padding-left: 1em; padding-right: 1em; text-align: center; vertical-align: top\">1.5</td>\n",
              "        <td style=\"padding-left: 1em; padding-right: 1em; text-align: center; vertical-align: top\">1060.0</td>\n",
              "        <td style=\"padding-left: 1em; padding-right: 1em; text-align: center; vertical-align: top\">9711.0</td>\n",
              "        <td style=\"padding-left: 1em; padding-right: 1em; text-align: center; vertical-align: top\">1.0</td>\n",
              "        <td style=\"padding-left: 1em; padding-right: 1em; text-align: center; vertical-align: top\">0</td>\n",
              "    </tr>\n",
              "    <tr>\n",
              "        <td style=\"padding-left: 1em; padding-right: 1em; text-align: center; vertical-align: top\">2414600126</td>\n",
              "        <td style=\"padding-left: 1em; padding-right: 1em; text-align: center; vertical-align: top\">2015-04-15 00:00:00+00:00</td>\n",
              "        <td style=\"padding-left: 1em; padding-right: 1em; text-align: center; vertical-align: top\">229500.0</td>\n",
              "        <td style=\"padding-left: 1em; padding-right: 1em; text-align: center; vertical-align: top\">3.0</td>\n",
              "        <td style=\"padding-left: 1em; padding-right: 1em; text-align: center; vertical-align: top\">1.0</td>\n",
              "        <td style=\"padding-left: 1em; padding-right: 1em; text-align: center; vertical-align: top\">1780.0</td>\n",
              "        <td style=\"padding-left: 1em; padding-right: 1em; text-align: center; vertical-align: top\">7470.0</td>\n",
              "        <td style=\"padding-left: 1em; padding-right: 1em; text-align: center; vertical-align: top\">1.0</td>\n",
              "        <td style=\"padding-left: 1em; padding-right: 1em; text-align: center; vertical-align: top\">0</td>\n",
              "    </tr>\n",
              "    <tr>\n",
              "        <td style=\"padding-left: 1em; padding-right: 1em; text-align: center; vertical-align: top\">3793500160</td>\n",
              "        <td style=\"padding-left: 1em; padding-right: 1em; text-align: center; vertical-align: top\">2015-03-12 00:00:00+00:00</td>\n",
              "        <td style=\"padding-left: 1em; padding-right: 1em; text-align: center; vertical-align: top\">323000.0</td>\n",
              "        <td style=\"padding-left: 1em; padding-right: 1em; text-align: center; vertical-align: top\">3.0</td>\n",
              "        <td style=\"padding-left: 1em; padding-right: 1em; text-align: center; vertical-align: top\">2.5</td>\n",
              "        <td style=\"padding-left: 1em; padding-right: 1em; text-align: center; vertical-align: top\">1890.0</td>\n",
              "        <td style=\"padding-left: 1em; padding-right: 1em; text-align: center; vertical-align: top\">6560.0</td>\n",
              "        <td style=\"padding-left: 1em; padding-right: 1em; text-align: center; vertical-align: top\">2.0</td>\n",
              "        <td style=\"padding-left: 1em; padding-right: 1em; text-align: center; vertical-align: top\">0</td>\n",
              "    </tr>\n",
              "</table>\n",
              "<table frame=\"box\" rules=\"cols\">\n",
              "    <tr>\n",
              "        <th style=\"padding-left: 1em; padding-right: 1em; text-align: center\">view</th>\n",
              "        <th style=\"padding-left: 1em; padding-right: 1em; text-align: center\">condition</th>\n",
              "        <th style=\"padding-left: 1em; padding-right: 1em; text-align: center\">grade</th>\n",
              "        <th style=\"padding-left: 1em; padding-right: 1em; text-align: center\">sqft_above</th>\n",
              "        <th style=\"padding-left: 1em; padding-right: 1em; text-align: center\">sqft_basement</th>\n",
              "        <th style=\"padding-left: 1em; padding-right: 1em; text-align: center\">yr_built</th>\n",
              "        <th style=\"padding-left: 1em; padding-right: 1em; text-align: center\">yr_renovated</th>\n",
              "        <th style=\"padding-left: 1em; padding-right: 1em; text-align: center\">zipcode</th>\n",
              "        <th style=\"padding-left: 1em; padding-right: 1em; text-align: center\">lat</th>\n",
              "    </tr>\n",
              "    <tr>\n",
              "        <td style=\"padding-left: 1em; padding-right: 1em; text-align: center; vertical-align: top\">0</td>\n",
              "        <td style=\"padding-left: 1em; padding-right: 1em; text-align: center; vertical-align: top\">3</td>\n",
              "        <td style=\"padding-left: 1em; padding-right: 1em; text-align: center; vertical-align: top\">7.0</td>\n",
              "        <td style=\"padding-left: 1em; padding-right: 1em; text-align: center; vertical-align: top\">1180.0</td>\n",
              "        <td style=\"padding-left: 1em; padding-right: 1em; text-align: center; vertical-align: top\">0.0</td>\n",
              "        <td style=\"padding-left: 1em; padding-right: 1em; text-align: center; vertical-align: top\">1955.0</td>\n",
              "        <td style=\"padding-left: 1em; padding-right: 1em; text-align: center; vertical-align: top\">0.0</td>\n",
              "        <td style=\"padding-left: 1em; padding-right: 1em; text-align: center; vertical-align: top\">98178</td>\n",
              "        <td style=\"padding-left: 1em; padding-right: 1em; text-align: center; vertical-align: top\">47.51123398</td>\n",
              "    </tr>\n",
              "    <tr>\n",
              "        <td style=\"padding-left: 1em; padding-right: 1em; text-align: center; vertical-align: top\">0</td>\n",
              "        <td style=\"padding-left: 1em; padding-right: 1em; text-align: center; vertical-align: top\">3</td>\n",
              "        <td style=\"padding-left: 1em; padding-right: 1em; text-align: center; vertical-align: top\">7.0</td>\n",
              "        <td style=\"padding-left: 1em; padding-right: 1em; text-align: center; vertical-align: top\">2170.0</td>\n",
              "        <td style=\"padding-left: 1em; padding-right: 1em; text-align: center; vertical-align: top\">400.0</td>\n",
              "        <td style=\"padding-left: 1em; padding-right: 1em; text-align: center; vertical-align: top\">1951.0</td>\n",
              "        <td style=\"padding-left: 1em; padding-right: 1em; text-align: center; vertical-align: top\">1991.0</td>\n",
              "        <td style=\"padding-left: 1em; padding-right: 1em; text-align: center; vertical-align: top\">98125</td>\n",
              "        <td style=\"padding-left: 1em; padding-right: 1em; text-align: center; vertical-align: top\">47.72102274</td>\n",
              "    </tr>\n",
              "    <tr>\n",
              "        <td style=\"padding-left: 1em; padding-right: 1em; text-align: center; vertical-align: top\">0</td>\n",
              "        <td style=\"padding-left: 1em; padding-right: 1em; text-align: center; vertical-align: top\">3</td>\n",
              "        <td style=\"padding-left: 1em; padding-right: 1em; text-align: center; vertical-align: top\">6.0</td>\n",
              "        <td style=\"padding-left: 1em; padding-right: 1em; text-align: center; vertical-align: top\">770.0</td>\n",
              "        <td style=\"padding-left: 1em; padding-right: 1em; text-align: center; vertical-align: top\">0.0</td>\n",
              "        <td style=\"padding-left: 1em; padding-right: 1em; text-align: center; vertical-align: top\">1933.0</td>\n",
              "        <td style=\"padding-left: 1em; padding-right: 1em; text-align: center; vertical-align: top\">0.0</td>\n",
              "        <td style=\"padding-left: 1em; padding-right: 1em; text-align: center; vertical-align: top\">98028</td>\n",
              "        <td style=\"padding-left: 1em; padding-right: 1em; text-align: center; vertical-align: top\">47.73792661</td>\n",
              "    </tr>\n",
              "    <tr>\n",
              "        <td style=\"padding-left: 1em; padding-right: 1em; text-align: center; vertical-align: top\">0</td>\n",
              "        <td style=\"padding-left: 1em; padding-right: 1em; text-align: center; vertical-align: top\">5</td>\n",
              "        <td style=\"padding-left: 1em; padding-right: 1em; text-align: center; vertical-align: top\">7.0</td>\n",
              "        <td style=\"padding-left: 1em; padding-right: 1em; text-align: center; vertical-align: top\">1050.0</td>\n",
              "        <td style=\"padding-left: 1em; padding-right: 1em; text-align: center; vertical-align: top\">910.0</td>\n",
              "        <td style=\"padding-left: 1em; padding-right: 1em; text-align: center; vertical-align: top\">1965.0</td>\n",
              "        <td style=\"padding-left: 1em; padding-right: 1em; text-align: center; vertical-align: top\">0.0</td>\n",
              "        <td style=\"padding-left: 1em; padding-right: 1em; text-align: center; vertical-align: top\">98136</td>\n",
              "        <td style=\"padding-left: 1em; padding-right: 1em; text-align: center; vertical-align: top\">47.52082</td>\n",
              "    </tr>\n",
              "    <tr>\n",
              "        <td style=\"padding-left: 1em; padding-right: 1em; text-align: center; vertical-align: top\">0</td>\n",
              "        <td style=\"padding-left: 1em; padding-right: 1em; text-align: center; vertical-align: top\">3</td>\n",
              "        <td style=\"padding-left: 1em; padding-right: 1em; text-align: center; vertical-align: top\">8.0</td>\n",
              "        <td style=\"padding-left: 1em; padding-right: 1em; text-align: center; vertical-align: top\">1680.0</td>\n",
              "        <td style=\"padding-left: 1em; padding-right: 1em; text-align: center; vertical-align: top\">0.0</td>\n",
              "        <td style=\"padding-left: 1em; padding-right: 1em; text-align: center; vertical-align: top\">1987.0</td>\n",
              "        <td style=\"padding-left: 1em; padding-right: 1em; text-align: center; vertical-align: top\">0.0</td>\n",
              "        <td style=\"padding-left: 1em; padding-right: 1em; text-align: center; vertical-align: top\">98074</td>\n",
              "        <td style=\"padding-left: 1em; padding-right: 1em; text-align: center; vertical-align: top\">47.61681228</td>\n",
              "    </tr>\n",
              "    <tr>\n",
              "        <td style=\"padding-left: 1em; padding-right: 1em; text-align: center; vertical-align: top\">0</td>\n",
              "        <td style=\"padding-left: 1em; padding-right: 1em; text-align: center; vertical-align: top\">3</td>\n",
              "        <td style=\"padding-left: 1em; padding-right: 1em; text-align: center; vertical-align: top\">11.0</td>\n",
              "        <td style=\"padding-left: 1em; padding-right: 1em; text-align: center; vertical-align: top\">3890.0</td>\n",
              "        <td style=\"padding-left: 1em; padding-right: 1em; text-align: center; vertical-align: top\">1530.0</td>\n",
              "        <td style=\"padding-left: 1em; padding-right: 1em; text-align: center; vertical-align: top\">2001.0</td>\n",
              "        <td style=\"padding-left: 1em; padding-right: 1em; text-align: center; vertical-align: top\">0.0</td>\n",
              "        <td style=\"padding-left: 1em; padding-right: 1em; text-align: center; vertical-align: top\">98053</td>\n",
              "        <td style=\"padding-left: 1em; padding-right: 1em; text-align: center; vertical-align: top\">47.65611835</td>\n",
              "    </tr>\n",
              "    <tr>\n",
              "        <td style=\"padding-left: 1em; padding-right: 1em; text-align: center; vertical-align: top\">0</td>\n",
              "        <td style=\"padding-left: 1em; padding-right: 1em; text-align: center; vertical-align: top\">3</td>\n",
              "        <td style=\"padding-left: 1em; padding-right: 1em; text-align: center; vertical-align: top\">7.0</td>\n",
              "        <td style=\"padding-left: 1em; padding-right: 1em; text-align: center; vertical-align: top\">1715.0</td>\n",
              "        <td style=\"padding-left: 1em; padding-right: 1em; text-align: center; vertical-align: top\">0.0</td>\n",
              "        <td style=\"padding-left: 1em; padding-right: 1em; text-align: center; vertical-align: top\">1995.0</td>\n",
              "        <td style=\"padding-left: 1em; padding-right: 1em; text-align: center; vertical-align: top\">0.0</td>\n",
              "        <td style=\"padding-left: 1em; padding-right: 1em; text-align: center; vertical-align: top\">98003</td>\n",
              "        <td style=\"padding-left: 1em; padding-right: 1em; text-align: center; vertical-align: top\">47.30972002</td>\n",
              "    </tr>\n",
              "    <tr>\n",
              "        <td style=\"padding-left: 1em; padding-right: 1em; text-align: center; vertical-align: top\">0</td>\n",
              "        <td style=\"padding-left: 1em; padding-right: 1em; text-align: center; vertical-align: top\">3</td>\n",
              "        <td style=\"padding-left: 1em; padding-right: 1em; text-align: center; vertical-align: top\">7.0</td>\n",
              "        <td style=\"padding-left: 1em; padding-right: 1em; text-align: center; vertical-align: top\">1060.0</td>\n",
              "        <td style=\"padding-left: 1em; padding-right: 1em; text-align: center; vertical-align: top\">0.0</td>\n",
              "        <td style=\"padding-left: 1em; padding-right: 1em; text-align: center; vertical-align: top\">1963.0</td>\n",
              "        <td style=\"padding-left: 1em; padding-right: 1em; text-align: center; vertical-align: top\">0.0</td>\n",
              "        <td style=\"padding-left: 1em; padding-right: 1em; text-align: center; vertical-align: top\">98198</td>\n",
              "        <td style=\"padding-left: 1em; padding-right: 1em; text-align: center; vertical-align: top\">47.40949984</td>\n",
              "    </tr>\n",
              "    <tr>\n",
              "        <td style=\"padding-left: 1em; padding-right: 1em; text-align: center; vertical-align: top\">0</td>\n",
              "        <td style=\"padding-left: 1em; padding-right: 1em; text-align: center; vertical-align: top\">3</td>\n",
              "        <td style=\"padding-left: 1em; padding-right: 1em; text-align: center; vertical-align: top\">7.0</td>\n",
              "        <td style=\"padding-left: 1em; padding-right: 1em; text-align: center; vertical-align: top\">1050.0</td>\n",
              "        <td style=\"padding-left: 1em; padding-right: 1em; text-align: center; vertical-align: top\">730.0</td>\n",
              "        <td style=\"padding-left: 1em; padding-right: 1em; text-align: center; vertical-align: top\">1960.0</td>\n",
              "        <td style=\"padding-left: 1em; padding-right: 1em; text-align: center; vertical-align: top\">0.0</td>\n",
              "        <td style=\"padding-left: 1em; padding-right: 1em; text-align: center; vertical-align: top\">98146</td>\n",
              "        <td style=\"padding-left: 1em; padding-right: 1em; text-align: center; vertical-align: top\">47.51229381</td>\n",
              "    </tr>\n",
              "    <tr>\n",
              "        <td style=\"padding-left: 1em; padding-right: 1em; text-align: center; vertical-align: top\">0</td>\n",
              "        <td style=\"padding-left: 1em; padding-right: 1em; text-align: center; vertical-align: top\">3</td>\n",
              "        <td style=\"padding-left: 1em; padding-right: 1em; text-align: center; vertical-align: top\">7.0</td>\n",
              "        <td style=\"padding-left: 1em; padding-right: 1em; text-align: center; vertical-align: top\">1890.0</td>\n",
              "        <td style=\"padding-left: 1em; padding-right: 1em; text-align: center; vertical-align: top\">0.0</td>\n",
              "        <td style=\"padding-left: 1em; padding-right: 1em; text-align: center; vertical-align: top\">2003.0</td>\n",
              "        <td style=\"padding-left: 1em; padding-right: 1em; text-align: center; vertical-align: top\">0.0</td>\n",
              "        <td style=\"padding-left: 1em; padding-right: 1em; text-align: center; vertical-align: top\">98038</td>\n",
              "        <td style=\"padding-left: 1em; padding-right: 1em; text-align: center; vertical-align: top\">47.36840673</td>\n",
              "    </tr>\n",
              "</table>\n",
              "<table frame=\"box\" rules=\"cols\">\n",
              "    <tr>\n",
              "        <th style=\"padding-left: 1em; padding-right: 1em; text-align: center\">long</th>\n",
              "        <th style=\"padding-left: 1em; padding-right: 1em; text-align: center\">sqft_living15</th>\n",
              "        <th style=\"padding-left: 1em; padding-right: 1em; text-align: center\">sqft_lot15</th>\n",
              "    </tr>\n",
              "    <tr>\n",
              "        <td style=\"padding-left: 1em; padding-right: 1em; text-align: center; vertical-align: top\">-122.25677536</td>\n",
              "        <td style=\"padding-left: 1em; padding-right: 1em; text-align: center; vertical-align: top\">1340.0</td>\n",
              "        <td style=\"padding-left: 1em; padding-right: 1em; text-align: center; vertical-align: top\">5650.0</td>\n",
              "    </tr>\n",
              "    <tr>\n",
              "        <td style=\"padding-left: 1em; padding-right: 1em; text-align: center; vertical-align: top\">-122.3188624</td>\n",
              "        <td style=\"padding-left: 1em; padding-right: 1em; text-align: center; vertical-align: top\">1690.0</td>\n",
              "        <td style=\"padding-left: 1em; padding-right: 1em; text-align: center; vertical-align: top\">7639.0</td>\n",
              "    </tr>\n",
              "    <tr>\n",
              "        <td style=\"padding-left: 1em; padding-right: 1em; text-align: center; vertical-align: top\">-122.23319601</td>\n",
              "        <td style=\"padding-left: 1em; padding-right: 1em; text-align: center; vertical-align: top\">2720.0</td>\n",
              "        <td style=\"padding-left: 1em; padding-right: 1em; text-align: center; vertical-align: top\">8062.0</td>\n",
              "    </tr>\n",
              "    <tr>\n",
              "        <td style=\"padding-left: 1em; padding-right: 1em; text-align: center; vertical-align: top\">-122.39318505</td>\n",
              "        <td style=\"padding-left: 1em; padding-right: 1em; text-align: center; vertical-align: top\">1360.0</td>\n",
              "        <td style=\"padding-left: 1em; padding-right: 1em; text-align: center; vertical-align: top\">5000.0</td>\n",
              "    </tr>\n",
              "    <tr>\n",
              "        <td style=\"padding-left: 1em; padding-right: 1em; text-align: center; vertical-align: top\">-122.04490059</td>\n",
              "        <td style=\"padding-left: 1em; padding-right: 1em; text-align: center; vertical-align: top\">1800.0</td>\n",
              "        <td style=\"padding-left: 1em; padding-right: 1em; text-align: center; vertical-align: top\">7503.0</td>\n",
              "    </tr>\n",
              "    <tr>\n",
              "        <td style=\"padding-left: 1em; padding-right: 1em; text-align: center; vertical-align: top\">-122.00528655</td>\n",
              "        <td style=\"padding-left: 1em; padding-right: 1em; text-align: center; vertical-align: top\">4760.0</td>\n",
              "        <td style=\"padding-left: 1em; padding-right: 1em; text-align: center; vertical-align: top\">101930.0</td>\n",
              "    </tr>\n",
              "    <tr>\n",
              "        <td style=\"padding-left: 1em; padding-right: 1em; text-align: center; vertical-align: top\">-122.32704857</td>\n",
              "        <td style=\"padding-left: 1em; padding-right: 1em; text-align: center; vertical-align: top\">2238.0</td>\n",
              "        <td style=\"padding-left: 1em; padding-right: 1em; text-align: center; vertical-align: top\">6819.0</td>\n",
              "    </tr>\n",
              "    <tr>\n",
              "        <td style=\"padding-left: 1em; padding-right: 1em; text-align: center; vertical-align: top\">-122.31457273</td>\n",
              "        <td style=\"padding-left: 1em; padding-right: 1em; text-align: center; vertical-align: top\">1650.0</td>\n",
              "        <td style=\"padding-left: 1em; padding-right: 1em; text-align: center; vertical-align: top\">9711.0</td>\n",
              "    </tr>\n",
              "    <tr>\n",
              "        <td style=\"padding-left: 1em; padding-right: 1em; text-align: center; vertical-align: top\">-122.33659507</td>\n",
              "        <td style=\"padding-left: 1em; padding-right: 1em; text-align: center; vertical-align: top\">1780.0</td>\n",
              "        <td style=\"padding-left: 1em; padding-right: 1em; text-align: center; vertical-align: top\">8113.0</td>\n",
              "    </tr>\n",
              "    <tr>\n",
              "        <td style=\"padding-left: 1em; padding-right: 1em; text-align: center; vertical-align: top\">-122.0308176</td>\n",
              "        <td style=\"padding-left: 1em; padding-right: 1em; text-align: center; vertical-align: top\">2390.0</td>\n",
              "        <td style=\"padding-left: 1em; padding-right: 1em; text-align: center; vertical-align: top\">7570.0</td>\n",
              "    </tr>\n",
              "</table>\n",
              "[21613 rows x 21 columns]<br/>Note: Only the head of the SFrame is printed.<br/>You can use print_rows(num_rows=m, num_columns=n) to print more rows and columns.\n",
              "</div>"
            ],
            "text/plain": [
              "Columns:\n",
              "\tid\tstr\n",
              "\tdate\tdatetime\n",
              "\tprice\tfloat\n",
              "\tbedrooms\tfloat\n",
              "\tbathrooms\tfloat\n",
              "\tsqft_living\tfloat\n",
              "\tsqft_lot\tfloat\n",
              "\tfloors\tfloat\n",
              "\twaterfront\tint\n",
              "\tview\tint\n",
              "\tcondition\tint\n",
              "\tgrade\tfloat\n",
              "\tsqft_above\tfloat\n",
              "\tsqft_basement\tfloat\n",
              "\tyr_built\tfloat\n",
              "\tyr_renovated\tfloat\n",
              "\tzipcode\tstr\n",
              "\tlat\tfloat\n",
              "\tlong\tfloat\n",
              "\tsqft_living15\tfloat\n",
              "\tsqft_lot15\tfloat\n",
              "\n",
              "Rows: 21613\n",
              "\n",
              "Data:\n",
              "+------------+---------------------------+-----------+----------+-----------+\n",
              "|     id     |            date           |   price   | bedrooms | bathrooms |\n",
              "+------------+---------------------------+-----------+----------+-----------+\n",
              "| 7129300520 | 2014-10-13 00:00:00+00:00 |  221900.0 |   3.0    |    1.0    |\n",
              "| 6414100192 | 2014-12-09 00:00:00+00:00 |  538000.0 |   3.0    |    2.25   |\n",
              "| 5631500400 | 2015-02-25 00:00:00+00:00 |  180000.0 |   2.0    |    1.0    |\n",
              "| 2487200875 | 2014-12-09 00:00:00+00:00 |  604000.0 |   4.0    |    3.0    |\n",
              "| 1954400510 | 2015-02-18 00:00:00+00:00 |  510000.0 |   3.0    |    2.0    |\n",
              "| 7237550310 | 2014-05-12 00:00:00+00:00 | 1225000.0 |   4.0    |    4.5    |\n",
              "| 1321400060 | 2014-06-27 00:00:00+00:00 |  257500.0 |   3.0    |    2.25   |\n",
              "| 2008000270 | 2015-01-15 00:00:00+00:00 |  291850.0 |   3.0    |    1.5    |\n",
              "| 2414600126 | 2015-04-15 00:00:00+00:00 |  229500.0 |   3.0    |    1.0    |\n",
              "| 3793500160 | 2015-03-12 00:00:00+00:00 |  323000.0 |   3.0    |    2.5    |\n",
              "+------------+---------------------------+-----------+----------+-----------+\n",
              "+-------------+----------+--------+------------+------+-----------+-------+\n",
              "| sqft_living | sqft_lot | floors | waterfront | view | condition | grade |\n",
              "+-------------+----------+--------+------------+------+-----------+-------+\n",
              "|    1180.0   |  5650.0  |  1.0   |     0      |  0   |     3     |  7.0  |\n",
              "|    2570.0   |  7242.0  |  2.0   |     0      |  0   |     3     |  7.0  |\n",
              "|    770.0    | 10000.0  |  1.0   |     0      |  0   |     3     |  6.0  |\n",
              "|    1960.0   |  5000.0  |  1.0   |     0      |  0   |     5     |  7.0  |\n",
              "|    1680.0   |  8080.0  |  1.0   |     0      |  0   |     3     |  8.0  |\n",
              "|    5420.0   | 101930.0 |  1.0   |     0      |  0   |     3     |  11.0 |\n",
              "|    1715.0   |  6819.0  |  2.0   |     0      |  0   |     3     |  7.0  |\n",
              "|    1060.0   |  9711.0  |  1.0   |     0      |  0   |     3     |  7.0  |\n",
              "|    1780.0   |  7470.0  |  1.0   |     0      |  0   |     3     |  7.0  |\n",
              "|    1890.0   |  6560.0  |  2.0   |     0      |  0   |     3     |  7.0  |\n",
              "+-------------+----------+--------+------------+------+-----------+-------+\n",
              "+------------+---------------+----------+--------------+---------+-------------+\n",
              "| sqft_above | sqft_basement | yr_built | yr_renovated | zipcode |     lat     |\n",
              "+------------+---------------+----------+--------------+---------+-------------+\n",
              "|   1180.0   |      0.0      |  1955.0  |     0.0      |  98178  | 47.51123398 |\n",
              "|   2170.0   |     400.0     |  1951.0  |    1991.0    |  98125  | 47.72102274 |\n",
              "|   770.0    |      0.0      |  1933.0  |     0.0      |  98028  | 47.73792661 |\n",
              "|   1050.0   |     910.0     |  1965.0  |     0.0      |  98136  |   47.52082  |\n",
              "|   1680.0   |      0.0      |  1987.0  |     0.0      |  98074  | 47.61681228 |\n",
              "|   3890.0   |     1530.0    |  2001.0  |     0.0      |  98053  | 47.65611835 |\n",
              "|   1715.0   |      0.0      |  1995.0  |     0.0      |  98003  | 47.30972002 |\n",
              "|   1060.0   |      0.0      |  1963.0  |     0.0      |  98198  | 47.40949984 |\n",
              "|   1050.0   |     730.0     |  1960.0  |     0.0      |  98146  | 47.51229381 |\n",
              "|   1890.0   |      0.0      |  2003.0  |     0.0      |  98038  | 47.36840673 |\n",
              "+------------+---------------+----------+--------------+---------+-------------+\n",
              "+---------------+---------------+-----+\n",
              "|      long     | sqft_living15 | ... |\n",
              "+---------------+---------------+-----+\n",
              "| -122.25677536 |     1340.0    | ... |\n",
              "|  -122.3188624 |     1690.0    | ... |\n",
              "| -122.23319601 |     2720.0    | ... |\n",
              "| -122.39318505 |     1360.0    | ... |\n",
              "| -122.04490059 |     1800.0    | ... |\n",
              "| -122.00528655 |     4760.0    | ... |\n",
              "| -122.32704857 |     2238.0    | ... |\n",
              "| -122.31457273 |     1650.0    | ... |\n",
              "| -122.33659507 |     1780.0    | ... |\n",
              "|  -122.0308176 |     2390.0    | ... |\n",
              "+---------------+---------------+-----+\n",
              "[21613 rows x 21 columns]\n",
              "Note: Only the head of the SFrame is printed.\n",
              "You can use print_rows(num_rows=m, num_columns=n) to print more rows and columns."
            ]
          },
          "metadata": {
            "tags": []
          },
          "execution_count": 122
        }
      ]
    },
    {
      "cell_type": "code",
      "metadata": {
        "id": "x5nI7uG3-IlR"
      },
      "source": [
        "\r\n",
        "import math\r\n",
        "import numpy"
      ],
      "execution_count": null,
      "outputs": []
    },
    {
      "cell_type": "code",
      "metadata": {
        "colab": {
          "base_uri": "https://localhost:8080/",
          "height": 912
        },
        "id": "YSFQJsnr-fXb",
        "outputId": "abaf97cc-077c-44ce-c383-7bceca111cd8"
      },
      "source": [
        "sales['bedrooms_squared']=sales['bedrooms']*sales['bedrooms']\r\n",
        "sales['bed_bath_rooms']=sales['bedrooms']*sales['bathrooms']\r\n",
        "sales['log_sqft_living']=numpy.log(sales['sqft_living'])\r\n",
        "sales['lat_plus_long']=sales['lat']+sales['long']\r\n",
        "sales"
      ],
      "execution_count": null,
      "outputs": [
        {
          "output_type": "execute_result",
          "data": {
            "text/html": [
              "<div style=\"max-height:1000px;max-width:1500px;overflow:auto;\"><table frame=\"box\" rules=\"cols\">\n",
              "    <tr>\n",
              "        <th style=\"padding-left: 1em; padding-right: 1em; text-align: center\">id</th>\n",
              "        <th style=\"padding-left: 1em; padding-right: 1em; text-align: center\">date</th>\n",
              "        <th style=\"padding-left: 1em; padding-right: 1em; text-align: center\">price</th>\n",
              "        <th style=\"padding-left: 1em; padding-right: 1em; text-align: center\">bedrooms</th>\n",
              "        <th style=\"padding-left: 1em; padding-right: 1em; text-align: center\">bathrooms</th>\n",
              "        <th style=\"padding-left: 1em; padding-right: 1em; text-align: center\">sqft_living</th>\n",
              "        <th style=\"padding-left: 1em; padding-right: 1em; text-align: center\">sqft_lot</th>\n",
              "        <th style=\"padding-left: 1em; padding-right: 1em; text-align: center\">floors</th>\n",
              "        <th style=\"padding-left: 1em; padding-right: 1em; text-align: center\">waterfront</th>\n",
              "    </tr>\n",
              "    <tr>\n",
              "        <td style=\"padding-left: 1em; padding-right: 1em; text-align: center; vertical-align: top\">7129300520</td>\n",
              "        <td style=\"padding-left: 1em; padding-right: 1em; text-align: center; vertical-align: top\">2014-10-13 00:00:00+00:00</td>\n",
              "        <td style=\"padding-left: 1em; padding-right: 1em; text-align: center; vertical-align: top\">221900.0</td>\n",
              "        <td style=\"padding-left: 1em; padding-right: 1em; text-align: center; vertical-align: top\">3.0</td>\n",
              "        <td style=\"padding-left: 1em; padding-right: 1em; text-align: center; vertical-align: top\">1.0</td>\n",
              "        <td style=\"padding-left: 1em; padding-right: 1em; text-align: center; vertical-align: top\">1180.0</td>\n",
              "        <td style=\"padding-left: 1em; padding-right: 1em; text-align: center; vertical-align: top\">5650.0</td>\n",
              "        <td style=\"padding-left: 1em; padding-right: 1em; text-align: center; vertical-align: top\">1.0</td>\n",
              "        <td style=\"padding-left: 1em; padding-right: 1em; text-align: center; vertical-align: top\">0</td>\n",
              "    </tr>\n",
              "    <tr>\n",
              "        <td style=\"padding-left: 1em; padding-right: 1em; text-align: center; vertical-align: top\">6414100192</td>\n",
              "        <td style=\"padding-left: 1em; padding-right: 1em; text-align: center; vertical-align: top\">2014-12-09 00:00:00+00:00</td>\n",
              "        <td style=\"padding-left: 1em; padding-right: 1em; text-align: center; vertical-align: top\">538000.0</td>\n",
              "        <td style=\"padding-left: 1em; padding-right: 1em; text-align: center; vertical-align: top\">3.0</td>\n",
              "        <td style=\"padding-left: 1em; padding-right: 1em; text-align: center; vertical-align: top\">2.25</td>\n",
              "        <td style=\"padding-left: 1em; padding-right: 1em; text-align: center; vertical-align: top\">2570.0</td>\n",
              "        <td style=\"padding-left: 1em; padding-right: 1em; text-align: center; vertical-align: top\">7242.0</td>\n",
              "        <td style=\"padding-left: 1em; padding-right: 1em; text-align: center; vertical-align: top\">2.0</td>\n",
              "        <td style=\"padding-left: 1em; padding-right: 1em; text-align: center; vertical-align: top\">0</td>\n",
              "    </tr>\n",
              "    <tr>\n",
              "        <td style=\"padding-left: 1em; padding-right: 1em; text-align: center; vertical-align: top\">5631500400</td>\n",
              "        <td style=\"padding-left: 1em; padding-right: 1em; text-align: center; vertical-align: top\">2015-02-25 00:00:00+00:00</td>\n",
              "        <td style=\"padding-left: 1em; padding-right: 1em; text-align: center; vertical-align: top\">180000.0</td>\n",
              "        <td style=\"padding-left: 1em; padding-right: 1em; text-align: center; vertical-align: top\">2.0</td>\n",
              "        <td style=\"padding-left: 1em; padding-right: 1em; text-align: center; vertical-align: top\">1.0</td>\n",
              "        <td style=\"padding-left: 1em; padding-right: 1em; text-align: center; vertical-align: top\">770.0</td>\n",
              "        <td style=\"padding-left: 1em; padding-right: 1em; text-align: center; vertical-align: top\">10000.0</td>\n",
              "        <td style=\"padding-left: 1em; padding-right: 1em; text-align: center; vertical-align: top\">1.0</td>\n",
              "        <td style=\"padding-left: 1em; padding-right: 1em; text-align: center; vertical-align: top\">0</td>\n",
              "    </tr>\n",
              "    <tr>\n",
              "        <td style=\"padding-left: 1em; padding-right: 1em; text-align: center; vertical-align: top\">2487200875</td>\n",
              "        <td style=\"padding-left: 1em; padding-right: 1em; text-align: center; vertical-align: top\">2014-12-09 00:00:00+00:00</td>\n",
              "        <td style=\"padding-left: 1em; padding-right: 1em; text-align: center; vertical-align: top\">604000.0</td>\n",
              "        <td style=\"padding-left: 1em; padding-right: 1em; text-align: center; vertical-align: top\">4.0</td>\n",
              "        <td style=\"padding-left: 1em; padding-right: 1em; text-align: center; vertical-align: top\">3.0</td>\n",
              "        <td style=\"padding-left: 1em; padding-right: 1em; text-align: center; vertical-align: top\">1960.0</td>\n",
              "        <td style=\"padding-left: 1em; padding-right: 1em; text-align: center; vertical-align: top\">5000.0</td>\n",
              "        <td style=\"padding-left: 1em; padding-right: 1em; text-align: center; vertical-align: top\">1.0</td>\n",
              "        <td style=\"padding-left: 1em; padding-right: 1em; text-align: center; vertical-align: top\">0</td>\n",
              "    </tr>\n",
              "    <tr>\n",
              "        <td style=\"padding-left: 1em; padding-right: 1em; text-align: center; vertical-align: top\">1954400510</td>\n",
              "        <td style=\"padding-left: 1em; padding-right: 1em; text-align: center; vertical-align: top\">2015-02-18 00:00:00+00:00</td>\n",
              "        <td style=\"padding-left: 1em; padding-right: 1em; text-align: center; vertical-align: top\">510000.0</td>\n",
              "        <td style=\"padding-left: 1em; padding-right: 1em; text-align: center; vertical-align: top\">3.0</td>\n",
              "        <td style=\"padding-left: 1em; padding-right: 1em; text-align: center; vertical-align: top\">2.0</td>\n",
              "        <td style=\"padding-left: 1em; padding-right: 1em; text-align: center; vertical-align: top\">1680.0</td>\n",
              "        <td style=\"padding-left: 1em; padding-right: 1em; text-align: center; vertical-align: top\">8080.0</td>\n",
              "        <td style=\"padding-left: 1em; padding-right: 1em; text-align: center; vertical-align: top\">1.0</td>\n",
              "        <td style=\"padding-left: 1em; padding-right: 1em; text-align: center; vertical-align: top\">0</td>\n",
              "    </tr>\n",
              "    <tr>\n",
              "        <td style=\"padding-left: 1em; padding-right: 1em; text-align: center; vertical-align: top\">7237550310</td>\n",
              "        <td style=\"padding-left: 1em; padding-right: 1em; text-align: center; vertical-align: top\">2014-05-12 00:00:00+00:00</td>\n",
              "        <td style=\"padding-left: 1em; padding-right: 1em; text-align: center; vertical-align: top\">1225000.0</td>\n",
              "        <td style=\"padding-left: 1em; padding-right: 1em; text-align: center; vertical-align: top\">4.0</td>\n",
              "        <td style=\"padding-left: 1em; padding-right: 1em; text-align: center; vertical-align: top\">4.5</td>\n",
              "        <td style=\"padding-left: 1em; padding-right: 1em; text-align: center; vertical-align: top\">5420.0</td>\n",
              "        <td style=\"padding-left: 1em; padding-right: 1em; text-align: center; vertical-align: top\">101930.0</td>\n",
              "        <td style=\"padding-left: 1em; padding-right: 1em; text-align: center; vertical-align: top\">1.0</td>\n",
              "        <td style=\"padding-left: 1em; padding-right: 1em; text-align: center; vertical-align: top\">0</td>\n",
              "    </tr>\n",
              "    <tr>\n",
              "        <td style=\"padding-left: 1em; padding-right: 1em; text-align: center; vertical-align: top\">1321400060</td>\n",
              "        <td style=\"padding-left: 1em; padding-right: 1em; text-align: center; vertical-align: top\">2014-06-27 00:00:00+00:00</td>\n",
              "        <td style=\"padding-left: 1em; padding-right: 1em; text-align: center; vertical-align: top\">257500.0</td>\n",
              "        <td style=\"padding-left: 1em; padding-right: 1em; text-align: center; vertical-align: top\">3.0</td>\n",
              "        <td style=\"padding-left: 1em; padding-right: 1em; text-align: center; vertical-align: top\">2.25</td>\n",
              "        <td style=\"padding-left: 1em; padding-right: 1em; text-align: center; vertical-align: top\">1715.0</td>\n",
              "        <td style=\"padding-left: 1em; padding-right: 1em; text-align: center; vertical-align: top\">6819.0</td>\n",
              "        <td style=\"padding-left: 1em; padding-right: 1em; text-align: center; vertical-align: top\">2.0</td>\n",
              "        <td style=\"padding-left: 1em; padding-right: 1em; text-align: center; vertical-align: top\">0</td>\n",
              "    </tr>\n",
              "    <tr>\n",
              "        <td style=\"padding-left: 1em; padding-right: 1em; text-align: center; vertical-align: top\">2008000270</td>\n",
              "        <td style=\"padding-left: 1em; padding-right: 1em; text-align: center; vertical-align: top\">2015-01-15 00:00:00+00:00</td>\n",
              "        <td style=\"padding-left: 1em; padding-right: 1em; text-align: center; vertical-align: top\">291850.0</td>\n",
              "        <td style=\"padding-left: 1em; padding-right: 1em; text-align: center; vertical-align: top\">3.0</td>\n",
              "        <td style=\"padding-left: 1em; padding-right: 1em; text-align: center; vertical-align: top\">1.5</td>\n",
              "        <td style=\"padding-left: 1em; padding-right: 1em; text-align: center; vertical-align: top\">1060.0</td>\n",
              "        <td style=\"padding-left: 1em; padding-right: 1em; text-align: center; vertical-align: top\">9711.0</td>\n",
              "        <td style=\"padding-left: 1em; padding-right: 1em; text-align: center; vertical-align: top\">1.0</td>\n",
              "        <td style=\"padding-left: 1em; padding-right: 1em; text-align: center; vertical-align: top\">0</td>\n",
              "    </tr>\n",
              "    <tr>\n",
              "        <td style=\"padding-left: 1em; padding-right: 1em; text-align: center; vertical-align: top\">2414600126</td>\n",
              "        <td style=\"padding-left: 1em; padding-right: 1em; text-align: center; vertical-align: top\">2015-04-15 00:00:00+00:00</td>\n",
              "        <td style=\"padding-left: 1em; padding-right: 1em; text-align: center; vertical-align: top\">229500.0</td>\n",
              "        <td style=\"padding-left: 1em; padding-right: 1em; text-align: center; vertical-align: top\">3.0</td>\n",
              "        <td style=\"padding-left: 1em; padding-right: 1em; text-align: center; vertical-align: top\">1.0</td>\n",
              "        <td style=\"padding-left: 1em; padding-right: 1em; text-align: center; vertical-align: top\">1780.0</td>\n",
              "        <td style=\"padding-left: 1em; padding-right: 1em; text-align: center; vertical-align: top\">7470.0</td>\n",
              "        <td style=\"padding-left: 1em; padding-right: 1em; text-align: center; vertical-align: top\">1.0</td>\n",
              "        <td style=\"padding-left: 1em; padding-right: 1em; text-align: center; vertical-align: top\">0</td>\n",
              "    </tr>\n",
              "    <tr>\n",
              "        <td style=\"padding-left: 1em; padding-right: 1em; text-align: center; vertical-align: top\">3793500160</td>\n",
              "        <td style=\"padding-left: 1em; padding-right: 1em; text-align: center; vertical-align: top\">2015-03-12 00:00:00+00:00</td>\n",
              "        <td style=\"padding-left: 1em; padding-right: 1em; text-align: center; vertical-align: top\">323000.0</td>\n",
              "        <td style=\"padding-left: 1em; padding-right: 1em; text-align: center; vertical-align: top\">3.0</td>\n",
              "        <td style=\"padding-left: 1em; padding-right: 1em; text-align: center; vertical-align: top\">2.5</td>\n",
              "        <td style=\"padding-left: 1em; padding-right: 1em; text-align: center; vertical-align: top\">1890.0</td>\n",
              "        <td style=\"padding-left: 1em; padding-right: 1em; text-align: center; vertical-align: top\">6560.0</td>\n",
              "        <td style=\"padding-left: 1em; padding-right: 1em; text-align: center; vertical-align: top\">2.0</td>\n",
              "        <td style=\"padding-left: 1em; padding-right: 1em; text-align: center; vertical-align: top\">0</td>\n",
              "    </tr>\n",
              "</table>\n",
              "<table frame=\"box\" rules=\"cols\">\n",
              "    <tr>\n",
              "        <th style=\"padding-left: 1em; padding-right: 1em; text-align: center\">view</th>\n",
              "        <th style=\"padding-left: 1em; padding-right: 1em; text-align: center\">condition</th>\n",
              "        <th style=\"padding-left: 1em; padding-right: 1em; text-align: center\">grade</th>\n",
              "        <th style=\"padding-left: 1em; padding-right: 1em; text-align: center\">sqft_above</th>\n",
              "        <th style=\"padding-left: 1em; padding-right: 1em; text-align: center\">sqft_basement</th>\n",
              "        <th style=\"padding-left: 1em; padding-right: 1em; text-align: center\">yr_built</th>\n",
              "        <th style=\"padding-left: 1em; padding-right: 1em; text-align: center\">yr_renovated</th>\n",
              "        <th style=\"padding-left: 1em; padding-right: 1em; text-align: center\">zipcode</th>\n",
              "        <th style=\"padding-left: 1em; padding-right: 1em; text-align: center\">lat</th>\n",
              "    </tr>\n",
              "    <tr>\n",
              "        <td style=\"padding-left: 1em; padding-right: 1em; text-align: center; vertical-align: top\">0</td>\n",
              "        <td style=\"padding-left: 1em; padding-right: 1em; text-align: center; vertical-align: top\">3</td>\n",
              "        <td style=\"padding-left: 1em; padding-right: 1em; text-align: center; vertical-align: top\">7.0</td>\n",
              "        <td style=\"padding-left: 1em; padding-right: 1em; text-align: center; vertical-align: top\">1180.0</td>\n",
              "        <td style=\"padding-left: 1em; padding-right: 1em; text-align: center; vertical-align: top\">0.0</td>\n",
              "        <td style=\"padding-left: 1em; padding-right: 1em; text-align: center; vertical-align: top\">1955.0</td>\n",
              "        <td style=\"padding-left: 1em; padding-right: 1em; text-align: center; vertical-align: top\">0.0</td>\n",
              "        <td style=\"padding-left: 1em; padding-right: 1em; text-align: center; vertical-align: top\">98178</td>\n",
              "        <td style=\"padding-left: 1em; padding-right: 1em; text-align: center; vertical-align: top\">47.51123398</td>\n",
              "    </tr>\n",
              "    <tr>\n",
              "        <td style=\"padding-left: 1em; padding-right: 1em; text-align: center; vertical-align: top\">0</td>\n",
              "        <td style=\"padding-left: 1em; padding-right: 1em; text-align: center; vertical-align: top\">3</td>\n",
              "        <td style=\"padding-left: 1em; padding-right: 1em; text-align: center; vertical-align: top\">7.0</td>\n",
              "        <td style=\"padding-left: 1em; padding-right: 1em; text-align: center; vertical-align: top\">2170.0</td>\n",
              "        <td style=\"padding-left: 1em; padding-right: 1em; text-align: center; vertical-align: top\">400.0</td>\n",
              "        <td style=\"padding-left: 1em; padding-right: 1em; text-align: center; vertical-align: top\">1951.0</td>\n",
              "        <td style=\"padding-left: 1em; padding-right: 1em; text-align: center; vertical-align: top\">1991.0</td>\n",
              "        <td style=\"padding-left: 1em; padding-right: 1em; text-align: center; vertical-align: top\">98125</td>\n",
              "        <td style=\"padding-left: 1em; padding-right: 1em; text-align: center; vertical-align: top\">47.72102274</td>\n",
              "    </tr>\n",
              "    <tr>\n",
              "        <td style=\"padding-left: 1em; padding-right: 1em; text-align: center; vertical-align: top\">0</td>\n",
              "        <td style=\"padding-left: 1em; padding-right: 1em; text-align: center; vertical-align: top\">3</td>\n",
              "        <td style=\"padding-left: 1em; padding-right: 1em; text-align: center; vertical-align: top\">6.0</td>\n",
              "        <td style=\"padding-left: 1em; padding-right: 1em; text-align: center; vertical-align: top\">770.0</td>\n",
              "        <td style=\"padding-left: 1em; padding-right: 1em; text-align: center; vertical-align: top\">0.0</td>\n",
              "        <td style=\"padding-left: 1em; padding-right: 1em; text-align: center; vertical-align: top\">1933.0</td>\n",
              "        <td style=\"padding-left: 1em; padding-right: 1em; text-align: center; vertical-align: top\">0.0</td>\n",
              "        <td style=\"padding-left: 1em; padding-right: 1em; text-align: center; vertical-align: top\">98028</td>\n",
              "        <td style=\"padding-left: 1em; padding-right: 1em; text-align: center; vertical-align: top\">47.73792661</td>\n",
              "    </tr>\n",
              "    <tr>\n",
              "        <td style=\"padding-left: 1em; padding-right: 1em; text-align: center; vertical-align: top\">0</td>\n",
              "        <td style=\"padding-left: 1em; padding-right: 1em; text-align: center; vertical-align: top\">5</td>\n",
              "        <td style=\"padding-left: 1em; padding-right: 1em; text-align: center; vertical-align: top\">7.0</td>\n",
              "        <td style=\"padding-left: 1em; padding-right: 1em; text-align: center; vertical-align: top\">1050.0</td>\n",
              "        <td style=\"padding-left: 1em; padding-right: 1em; text-align: center; vertical-align: top\">910.0</td>\n",
              "        <td style=\"padding-left: 1em; padding-right: 1em; text-align: center; vertical-align: top\">1965.0</td>\n",
              "        <td style=\"padding-left: 1em; padding-right: 1em; text-align: center; vertical-align: top\">0.0</td>\n",
              "        <td style=\"padding-left: 1em; padding-right: 1em; text-align: center; vertical-align: top\">98136</td>\n",
              "        <td style=\"padding-left: 1em; padding-right: 1em; text-align: center; vertical-align: top\">47.52082</td>\n",
              "    </tr>\n",
              "    <tr>\n",
              "        <td style=\"padding-left: 1em; padding-right: 1em; text-align: center; vertical-align: top\">0</td>\n",
              "        <td style=\"padding-left: 1em; padding-right: 1em; text-align: center; vertical-align: top\">3</td>\n",
              "        <td style=\"padding-left: 1em; padding-right: 1em; text-align: center; vertical-align: top\">8.0</td>\n",
              "        <td style=\"padding-left: 1em; padding-right: 1em; text-align: center; vertical-align: top\">1680.0</td>\n",
              "        <td style=\"padding-left: 1em; padding-right: 1em; text-align: center; vertical-align: top\">0.0</td>\n",
              "        <td style=\"padding-left: 1em; padding-right: 1em; text-align: center; vertical-align: top\">1987.0</td>\n",
              "        <td style=\"padding-left: 1em; padding-right: 1em; text-align: center; vertical-align: top\">0.0</td>\n",
              "        <td style=\"padding-left: 1em; padding-right: 1em; text-align: center; vertical-align: top\">98074</td>\n",
              "        <td style=\"padding-left: 1em; padding-right: 1em; text-align: center; vertical-align: top\">47.61681228</td>\n",
              "    </tr>\n",
              "    <tr>\n",
              "        <td style=\"padding-left: 1em; padding-right: 1em; text-align: center; vertical-align: top\">0</td>\n",
              "        <td style=\"padding-left: 1em; padding-right: 1em; text-align: center; vertical-align: top\">3</td>\n",
              "        <td style=\"padding-left: 1em; padding-right: 1em; text-align: center; vertical-align: top\">11.0</td>\n",
              "        <td style=\"padding-left: 1em; padding-right: 1em; text-align: center; vertical-align: top\">3890.0</td>\n",
              "        <td style=\"padding-left: 1em; padding-right: 1em; text-align: center; vertical-align: top\">1530.0</td>\n",
              "        <td style=\"padding-left: 1em; padding-right: 1em; text-align: center; vertical-align: top\">2001.0</td>\n",
              "        <td style=\"padding-left: 1em; padding-right: 1em; text-align: center; vertical-align: top\">0.0</td>\n",
              "        <td style=\"padding-left: 1em; padding-right: 1em; text-align: center; vertical-align: top\">98053</td>\n",
              "        <td style=\"padding-left: 1em; padding-right: 1em; text-align: center; vertical-align: top\">47.65611835</td>\n",
              "    </tr>\n",
              "    <tr>\n",
              "        <td style=\"padding-left: 1em; padding-right: 1em; text-align: center; vertical-align: top\">0</td>\n",
              "        <td style=\"padding-left: 1em; padding-right: 1em; text-align: center; vertical-align: top\">3</td>\n",
              "        <td style=\"padding-left: 1em; padding-right: 1em; text-align: center; vertical-align: top\">7.0</td>\n",
              "        <td style=\"padding-left: 1em; padding-right: 1em; text-align: center; vertical-align: top\">1715.0</td>\n",
              "        <td style=\"padding-left: 1em; padding-right: 1em; text-align: center; vertical-align: top\">0.0</td>\n",
              "        <td style=\"padding-left: 1em; padding-right: 1em; text-align: center; vertical-align: top\">1995.0</td>\n",
              "        <td style=\"padding-left: 1em; padding-right: 1em; text-align: center; vertical-align: top\">0.0</td>\n",
              "        <td style=\"padding-left: 1em; padding-right: 1em; text-align: center; vertical-align: top\">98003</td>\n",
              "        <td style=\"padding-left: 1em; padding-right: 1em; text-align: center; vertical-align: top\">47.30972002</td>\n",
              "    </tr>\n",
              "    <tr>\n",
              "        <td style=\"padding-left: 1em; padding-right: 1em; text-align: center; vertical-align: top\">0</td>\n",
              "        <td style=\"padding-left: 1em; padding-right: 1em; text-align: center; vertical-align: top\">3</td>\n",
              "        <td style=\"padding-left: 1em; padding-right: 1em; text-align: center; vertical-align: top\">7.0</td>\n",
              "        <td style=\"padding-left: 1em; padding-right: 1em; text-align: center; vertical-align: top\">1060.0</td>\n",
              "        <td style=\"padding-left: 1em; padding-right: 1em; text-align: center; vertical-align: top\">0.0</td>\n",
              "        <td style=\"padding-left: 1em; padding-right: 1em; text-align: center; vertical-align: top\">1963.0</td>\n",
              "        <td style=\"padding-left: 1em; padding-right: 1em; text-align: center; vertical-align: top\">0.0</td>\n",
              "        <td style=\"padding-left: 1em; padding-right: 1em; text-align: center; vertical-align: top\">98198</td>\n",
              "        <td style=\"padding-left: 1em; padding-right: 1em; text-align: center; vertical-align: top\">47.40949984</td>\n",
              "    </tr>\n",
              "    <tr>\n",
              "        <td style=\"padding-left: 1em; padding-right: 1em; text-align: center; vertical-align: top\">0</td>\n",
              "        <td style=\"padding-left: 1em; padding-right: 1em; text-align: center; vertical-align: top\">3</td>\n",
              "        <td style=\"padding-left: 1em; padding-right: 1em; text-align: center; vertical-align: top\">7.0</td>\n",
              "        <td style=\"padding-left: 1em; padding-right: 1em; text-align: center; vertical-align: top\">1050.0</td>\n",
              "        <td style=\"padding-left: 1em; padding-right: 1em; text-align: center; vertical-align: top\">730.0</td>\n",
              "        <td style=\"padding-left: 1em; padding-right: 1em; text-align: center; vertical-align: top\">1960.0</td>\n",
              "        <td style=\"padding-left: 1em; padding-right: 1em; text-align: center; vertical-align: top\">0.0</td>\n",
              "        <td style=\"padding-left: 1em; padding-right: 1em; text-align: center; vertical-align: top\">98146</td>\n",
              "        <td style=\"padding-left: 1em; padding-right: 1em; text-align: center; vertical-align: top\">47.51229381</td>\n",
              "    </tr>\n",
              "    <tr>\n",
              "        <td style=\"padding-left: 1em; padding-right: 1em; text-align: center; vertical-align: top\">0</td>\n",
              "        <td style=\"padding-left: 1em; padding-right: 1em; text-align: center; vertical-align: top\">3</td>\n",
              "        <td style=\"padding-left: 1em; padding-right: 1em; text-align: center; vertical-align: top\">7.0</td>\n",
              "        <td style=\"padding-left: 1em; padding-right: 1em; text-align: center; vertical-align: top\">1890.0</td>\n",
              "        <td style=\"padding-left: 1em; padding-right: 1em; text-align: center; vertical-align: top\">0.0</td>\n",
              "        <td style=\"padding-left: 1em; padding-right: 1em; text-align: center; vertical-align: top\">2003.0</td>\n",
              "        <td style=\"padding-left: 1em; padding-right: 1em; text-align: center; vertical-align: top\">0.0</td>\n",
              "        <td style=\"padding-left: 1em; padding-right: 1em; text-align: center; vertical-align: top\">98038</td>\n",
              "        <td style=\"padding-left: 1em; padding-right: 1em; text-align: center; vertical-align: top\">47.36840673</td>\n",
              "    </tr>\n",
              "</table>\n",
              "<table frame=\"box\" rules=\"cols\">\n",
              "    <tr>\n",
              "        <th style=\"padding-left: 1em; padding-right: 1em; text-align: center\">long</th>\n",
              "        <th style=\"padding-left: 1em; padding-right: 1em; text-align: center\">sqft_living15</th>\n",
              "        <th style=\"padding-left: 1em; padding-right: 1em; text-align: center\">sqft_lot15</th>\n",
              "        <th style=\"padding-left: 1em; padding-right: 1em; text-align: center\">bedrooms_squared</th>\n",
              "        <th style=\"padding-left: 1em; padding-right: 1em; text-align: center\">bed_bath_rooms</th>\n",
              "        <th style=\"padding-left: 1em; padding-right: 1em; text-align: center\">log_sqft_living</th>\n",
              "    </tr>\n",
              "    <tr>\n",
              "        <td style=\"padding-left: 1em; padding-right: 1em; text-align: center; vertical-align: top\">-122.25677536</td>\n",
              "        <td style=\"padding-left: 1em; padding-right: 1em; text-align: center; vertical-align: top\">1340.0</td>\n",
              "        <td style=\"padding-left: 1em; padding-right: 1em; text-align: center; vertical-align: top\">5650.0</td>\n",
              "        <td style=\"padding-left: 1em; padding-right: 1em; text-align: center; vertical-align: top\">9.0</td>\n",
              "        <td style=\"padding-left: 1em; padding-right: 1em; text-align: center; vertical-align: top\">3.0</td>\n",
              "        <td style=\"padding-left: 1em; padding-right: 1em; text-align: center; vertical-align: top\">7.07326971745971</td>\n",
              "    </tr>\n",
              "    <tr>\n",
              "        <td style=\"padding-left: 1em; padding-right: 1em; text-align: center; vertical-align: top\">-122.3188624</td>\n",
              "        <td style=\"padding-left: 1em; padding-right: 1em; text-align: center; vertical-align: top\">1690.0</td>\n",
              "        <td style=\"padding-left: 1em; padding-right: 1em; text-align: center; vertical-align: top\">7639.0</td>\n",
              "        <td style=\"padding-left: 1em; padding-right: 1em; text-align: center; vertical-align: top\">9.0</td>\n",
              "        <td style=\"padding-left: 1em; padding-right: 1em; text-align: center; vertical-align: top\">6.75</td>\n",
              "        <td style=\"padding-left: 1em; padding-right: 1em; text-align: center; vertical-align: top\">7.851661177889265</td>\n",
              "    </tr>\n",
              "    <tr>\n",
              "        <td style=\"padding-left: 1em; padding-right: 1em; text-align: center; vertical-align: top\">-122.23319601</td>\n",
              "        <td style=\"padding-left: 1em; padding-right: 1em; text-align: center; vertical-align: top\">2720.0</td>\n",
              "        <td style=\"padding-left: 1em; padding-right: 1em; text-align: center; vertical-align: top\">8062.0</td>\n",
              "        <td style=\"padding-left: 1em; padding-right: 1em; text-align: center; vertical-align: top\">4.0</td>\n",
              "        <td style=\"padding-left: 1em; padding-right: 1em; text-align: center; vertical-align: top\">2.0</td>\n",
              "        <td style=\"padding-left: 1em; padding-right: 1em; text-align: center; vertical-align: top\">6.646390514847729</td>\n",
              "    </tr>\n",
              "    <tr>\n",
              "        <td style=\"padding-left: 1em; padding-right: 1em; text-align: center; vertical-align: top\">-122.39318505</td>\n",
              "        <td style=\"padding-left: 1em; padding-right: 1em; text-align: center; vertical-align: top\">1360.0</td>\n",
              "        <td style=\"padding-left: 1em; padding-right: 1em; text-align: center; vertical-align: top\">5000.0</td>\n",
              "        <td style=\"padding-left: 1em; padding-right: 1em; text-align: center; vertical-align: top\">16.0</td>\n",
              "        <td style=\"padding-left: 1em; padding-right: 1em; text-align: center; vertical-align: top\">12.0</td>\n",
              "        <td style=\"padding-left: 1em; padding-right: 1em; text-align: center; vertical-align: top\">7.580699752224563</td>\n",
              "    </tr>\n",
              "    <tr>\n",
              "        <td style=\"padding-left: 1em; padding-right: 1em; text-align: center; vertical-align: top\">-122.04490059</td>\n",
              "        <td style=\"padding-left: 1em; padding-right: 1em; text-align: center; vertical-align: top\">1800.0</td>\n",
              "        <td style=\"padding-left: 1em; padding-right: 1em; text-align: center; vertical-align: top\">7503.0</td>\n",
              "        <td style=\"padding-left: 1em; padding-right: 1em; text-align: center; vertical-align: top\">9.0</td>\n",
              "        <td style=\"padding-left: 1em; padding-right: 1em; text-align: center; vertical-align: top\">6.0</td>\n",
              "        <td style=\"padding-left: 1em; padding-right: 1em; text-align: center; vertical-align: top\">7.426549072397305</td>\n",
              "    </tr>\n",
              "    <tr>\n",
              "        <td style=\"padding-left: 1em; padding-right: 1em; text-align: center; vertical-align: top\">-122.00528655</td>\n",
              "        <td style=\"padding-left: 1em; padding-right: 1em; text-align: center; vertical-align: top\">4760.0</td>\n",
              "        <td style=\"padding-left: 1em; padding-right: 1em; text-align: center; vertical-align: top\">101930.0</td>\n",
              "        <td style=\"padding-left: 1em; padding-right: 1em; text-align: center; vertical-align: top\">16.0</td>\n",
              "        <td style=\"padding-left: 1em; padding-right: 1em; text-align: center; vertical-align: top\">18.0</td>\n",
              "        <td style=\"padding-left: 1em; padding-right: 1em; text-align: center; vertical-align: top\">8.597851094433691</td>\n",
              "    </tr>\n",
              "    <tr>\n",
              "        <td style=\"padding-left: 1em; padding-right: 1em; text-align: center; vertical-align: top\">-122.32704857</td>\n",
              "        <td style=\"padding-left: 1em; padding-right: 1em; text-align: center; vertical-align: top\">2238.0</td>\n",
              "        <td style=\"padding-left: 1em; padding-right: 1em; text-align: center; vertical-align: top\">6819.0</td>\n",
              "        <td style=\"padding-left: 1em; padding-right: 1em; text-align: center; vertical-align: top\">9.0</td>\n",
              "        <td style=\"padding-left: 1em; padding-right: 1em; text-align: center; vertical-align: top\">6.75</td>\n",
              "        <td style=\"padding-left: 1em; padding-right: 1em; text-align: center; vertical-align: top\">7.44716835960004</td>\n",
              "    </tr>\n",
              "    <tr>\n",
              "        <td style=\"padding-left: 1em; padding-right: 1em; text-align: center; vertical-align: top\">-122.31457273</td>\n",
              "        <td style=\"padding-left: 1em; padding-right: 1em; text-align: center; vertical-align: top\">1650.0</td>\n",
              "        <td style=\"padding-left: 1em; padding-right: 1em; text-align: center; vertical-align: top\">9711.0</td>\n",
              "        <td style=\"padding-left: 1em; padding-right: 1em; text-align: center; vertical-align: top\">9.0</td>\n",
              "        <td style=\"padding-left: 1em; padding-right: 1em; text-align: center; vertical-align: top\">4.5</td>\n",
              "        <td style=\"padding-left: 1em; padding-right: 1em; text-align: center; vertical-align: top\">6.966024187106113</td>\n",
              "    </tr>\n",
              "    <tr>\n",
              "        <td style=\"padding-left: 1em; padding-right: 1em; text-align: center; vertical-align: top\">-122.33659507</td>\n",
              "        <td style=\"padding-left: 1em; padding-right: 1em; text-align: center; vertical-align: top\">1780.0</td>\n",
              "        <td style=\"padding-left: 1em; padding-right: 1em; text-align: center; vertical-align: top\">8113.0</td>\n",
              "        <td style=\"padding-left: 1em; padding-right: 1em; text-align: center; vertical-align: top\">9.0</td>\n",
              "        <td style=\"padding-left: 1em; padding-right: 1em; text-align: center; vertical-align: top\">3.0</td>\n",
              "        <td style=\"padding-left: 1em; padding-right: 1em; text-align: center; vertical-align: top\">7.484368643286131</td>\n",
              "    </tr>\n",
              "    <tr>\n",
              "        <td style=\"padding-left: 1em; padding-right: 1em; text-align: center; vertical-align: top\">-122.0308176</td>\n",
              "        <td style=\"padding-left: 1em; padding-right: 1em; text-align: center; vertical-align: top\">2390.0</td>\n",
              "        <td style=\"padding-left: 1em; padding-right: 1em; text-align: center; vertical-align: top\">7570.0</td>\n",
              "        <td style=\"padding-left: 1em; padding-right: 1em; text-align: center; vertical-align: top\">9.0</td>\n",
              "        <td style=\"padding-left: 1em; padding-right: 1em; text-align: center; vertical-align: top\">7.5</td>\n",
              "        <td style=\"padding-left: 1em; padding-right: 1em; text-align: center; vertical-align: top\">7.5443321080536885</td>\n",
              "    </tr>\n",
              "</table>\n",
              "<table frame=\"box\" rules=\"cols\">\n",
              "    <tr>\n",
              "        <th style=\"padding-left: 1em; padding-right: 1em; text-align: center\">lat_plus_long</th>\n",
              "    </tr>\n",
              "    <tr>\n",
              "        <td style=\"padding-left: 1em; padding-right: 1em; text-align: center; vertical-align: top\">-74.74554138</td>\n",
              "    </tr>\n",
              "    <tr>\n",
              "        <td style=\"padding-left: 1em; padding-right: 1em; text-align: center; vertical-align: top\">-74.59783966</td>\n",
              "    </tr>\n",
              "    <tr>\n",
              "        <td style=\"padding-left: 1em; padding-right: 1em; text-align: center; vertical-align: top\">-74.4952694</td>\n",
              "    </tr>\n",
              "    <tr>\n",
              "        <td style=\"padding-left: 1em; padding-right: 1em; text-align: center; vertical-align: top\">-74.87236505</td>\n",
              "    </tr>\n",
              "    <tr>\n",
              "        <td style=\"padding-left: 1em; padding-right: 1em; text-align: center; vertical-align: top\">-74.42808830999999</td>\n",
              "    </tr>\n",
              "    <tr>\n",
              "        <td style=\"padding-left: 1em; padding-right: 1em; text-align: center; vertical-align: top\">-74.3491682</td>\n",
              "    </tr>\n",
              "    <tr>\n",
              "        <td style=\"padding-left: 1em; padding-right: 1em; text-align: center; vertical-align: top\">-75.01732855</td>\n",
              "    </tr>\n",
              "    <tr>\n",
              "        <td style=\"padding-left: 1em; padding-right: 1em; text-align: center; vertical-align: top\">-74.90507288999999</td>\n",
              "    </tr>\n",
              "    <tr>\n",
              "        <td style=\"padding-left: 1em; padding-right: 1em; text-align: center; vertical-align: top\">-74.82430126</td>\n",
              "    </tr>\n",
              "    <tr>\n",
              "        <td style=\"padding-left: 1em; padding-right: 1em; text-align: center; vertical-align: top\">-74.66241087</td>\n",
              "    </tr>\n",
              "</table>\n",
              "[21613 rows x 25 columns]<br/>Note: Only the head of the SFrame is printed.<br/>You can use print_rows(num_rows=m, num_columns=n) to print more rows and columns.\n",
              "</div>"
            ],
            "text/plain": [
              "Columns:\n",
              "\tid\tstr\n",
              "\tdate\tdatetime\n",
              "\tprice\tfloat\n",
              "\tbedrooms\tfloat\n",
              "\tbathrooms\tfloat\n",
              "\tsqft_living\tfloat\n",
              "\tsqft_lot\tfloat\n",
              "\tfloors\tfloat\n",
              "\twaterfront\tint\n",
              "\tview\tint\n",
              "\tcondition\tint\n",
              "\tgrade\tfloat\n",
              "\tsqft_above\tfloat\n",
              "\tsqft_basement\tfloat\n",
              "\tyr_built\tfloat\n",
              "\tyr_renovated\tfloat\n",
              "\tzipcode\tstr\n",
              "\tlat\tfloat\n",
              "\tlong\tfloat\n",
              "\tsqft_living15\tfloat\n",
              "\tsqft_lot15\tfloat\n",
              "\tbedrooms_squared\tfloat\n",
              "\tbed_bath_rooms\tfloat\n",
              "\tlog_sqft_living\tfloat\n",
              "\tlat_plus_long\tfloat\n",
              "\n",
              "Rows: 21613\n",
              "\n",
              "Data:\n",
              "+------------+---------------------------+-----------+----------+-----------+\n",
              "|     id     |            date           |   price   | bedrooms | bathrooms |\n",
              "+------------+---------------------------+-----------+----------+-----------+\n",
              "| 7129300520 | 2014-10-13 00:00:00+00:00 |  221900.0 |   3.0    |    1.0    |\n",
              "| 6414100192 | 2014-12-09 00:00:00+00:00 |  538000.0 |   3.0    |    2.25   |\n",
              "| 5631500400 | 2015-02-25 00:00:00+00:00 |  180000.0 |   2.0    |    1.0    |\n",
              "| 2487200875 | 2014-12-09 00:00:00+00:00 |  604000.0 |   4.0    |    3.0    |\n",
              "| 1954400510 | 2015-02-18 00:00:00+00:00 |  510000.0 |   3.0    |    2.0    |\n",
              "| 7237550310 | 2014-05-12 00:00:00+00:00 | 1225000.0 |   4.0    |    4.5    |\n",
              "| 1321400060 | 2014-06-27 00:00:00+00:00 |  257500.0 |   3.0    |    2.25   |\n",
              "| 2008000270 | 2015-01-15 00:00:00+00:00 |  291850.0 |   3.0    |    1.5    |\n",
              "| 2414600126 | 2015-04-15 00:00:00+00:00 |  229500.0 |   3.0    |    1.0    |\n",
              "| 3793500160 | 2015-03-12 00:00:00+00:00 |  323000.0 |   3.0    |    2.5    |\n",
              "+------------+---------------------------+-----------+----------+-----------+\n",
              "+-------------+----------+--------+------------+------+-----------+-------+\n",
              "| sqft_living | sqft_lot | floors | waterfront | view | condition | grade |\n",
              "+-------------+----------+--------+------------+------+-----------+-------+\n",
              "|    1180.0   |  5650.0  |  1.0   |     0      |  0   |     3     |  7.0  |\n",
              "|    2570.0   |  7242.0  |  2.0   |     0      |  0   |     3     |  7.0  |\n",
              "|    770.0    | 10000.0  |  1.0   |     0      |  0   |     3     |  6.0  |\n",
              "|    1960.0   |  5000.0  |  1.0   |     0      |  0   |     5     |  7.0  |\n",
              "|    1680.0   |  8080.0  |  1.0   |     0      |  0   |     3     |  8.0  |\n",
              "|    5420.0   | 101930.0 |  1.0   |     0      |  0   |     3     |  11.0 |\n",
              "|    1715.0   |  6819.0  |  2.0   |     0      |  0   |     3     |  7.0  |\n",
              "|    1060.0   |  9711.0  |  1.0   |     0      |  0   |     3     |  7.0  |\n",
              "|    1780.0   |  7470.0  |  1.0   |     0      |  0   |     3     |  7.0  |\n",
              "|    1890.0   |  6560.0  |  2.0   |     0      |  0   |     3     |  7.0  |\n",
              "+-------------+----------+--------+------------+------+-----------+-------+\n",
              "+------------+---------------+----------+--------------+---------+-------------+\n",
              "| sqft_above | sqft_basement | yr_built | yr_renovated | zipcode |     lat     |\n",
              "+------------+---------------+----------+--------------+---------+-------------+\n",
              "|   1180.0   |      0.0      |  1955.0  |     0.0      |  98178  | 47.51123398 |\n",
              "|   2170.0   |     400.0     |  1951.0  |    1991.0    |  98125  | 47.72102274 |\n",
              "|   770.0    |      0.0      |  1933.0  |     0.0      |  98028  | 47.73792661 |\n",
              "|   1050.0   |     910.0     |  1965.0  |     0.0      |  98136  |   47.52082  |\n",
              "|   1680.0   |      0.0      |  1987.0  |     0.0      |  98074  | 47.61681228 |\n",
              "|   3890.0   |     1530.0    |  2001.0  |     0.0      |  98053  | 47.65611835 |\n",
              "|   1715.0   |      0.0      |  1995.0  |     0.0      |  98003  | 47.30972002 |\n",
              "|   1060.0   |      0.0      |  1963.0  |     0.0      |  98198  | 47.40949984 |\n",
              "|   1050.0   |     730.0     |  1960.0  |     0.0      |  98146  | 47.51229381 |\n",
              "|   1890.0   |      0.0      |  2003.0  |     0.0      |  98038  | 47.36840673 |\n",
              "+------------+---------------+----------+--------------+---------+-------------+\n",
              "+---------------+---------------+-----+\n",
              "|      long     | sqft_living15 | ... |\n",
              "+---------------+---------------+-----+\n",
              "| -122.25677536 |     1340.0    | ... |\n",
              "|  -122.3188624 |     1690.0    | ... |\n",
              "| -122.23319601 |     2720.0    | ... |\n",
              "| -122.39318505 |     1360.0    | ... |\n",
              "| -122.04490059 |     1800.0    | ... |\n",
              "| -122.00528655 |     4760.0    | ... |\n",
              "| -122.32704857 |     2238.0    | ... |\n",
              "| -122.31457273 |     1650.0    | ... |\n",
              "| -122.33659507 |     1780.0    | ... |\n",
              "|  -122.0308176 |     2390.0    | ... |\n",
              "+---------------+---------------+-----+\n",
              "[21613 rows x 25 columns]\n",
              "Note: Only the head of the SFrame is printed.\n",
              "You can use print_rows(num_rows=m, num_columns=n) to print more rows and columns."
            ]
          },
          "metadata": {
            "tags": []
          },
          "execution_count": 20
        }
      ]
    },
    {
      "cell_type": "code",
      "metadata": {
        "id": "j-4gOCKdAV2B"
      },
      "source": [
        "train_data,test_data = sales.random_split(.8,seed=0)"
      ],
      "execution_count": null,
      "outputs": []
    },
    {
      "cell_type": "code",
      "metadata": {
        "colab": {
          "base_uri": "https://localhost:8080/"
        },
        "id": "rSjc7-l1B6Yh",
        "outputId": "5733e65f-632e-4c88-e072-b6ec694f2f27"
      },
      "source": [
        "print(\"%precision %.2f\",\r\n",
        "sales['bedrooms_squared'].mean())"
      ],
      "execution_count": null,
      "outputs": [
        {
          "output_type": "stream",
          "text": [
            "%precision %.2f 12.227548234858636\n"
          ],
          "name": "stdout"
        }
      ]
    },
    {
      "cell_type": "code",
      "metadata": {
        "colab": {
          "base_uri": "https://localhost:8080/"
        },
        "id": "I6YeDnLqCEPc",
        "outputId": "ab957c7b-35b1-4d46-ba3e-2fc9755b3a9e"
      },
      "source": [
        "test_data['bed_bath_rooms'].mean()"
      ],
      "execution_count": null,
      "outputs": [
        {
          "output_type": "execute_result",
          "data": {
            "text/plain": [
              "7.503901631591395"
            ]
          },
          "metadata": {
            "tags": []
          },
          "execution_count": 52
        }
      ]
    },
    {
      "cell_type": "code",
      "metadata": {
        "colab": {
          "base_uri": "https://localhost:8080/"
        },
        "id": "WXMALFRSLgzc",
        "outputId": "6da23a5f-8d3a-4945-8ec2-c2ad006a13e4"
      },
      "source": [
        "test_data['bedrooms_squared'].mean()"
      ],
      "execution_count": null,
      "outputs": [
        {
          "output_type": "execute_result",
          "data": {
            "text/plain": [
              "12.4466777015843"
            ]
          },
          "metadata": {
            "tags": []
          },
          "execution_count": 51
        }
      ]
    },
    {
      "cell_type": "code",
      "metadata": {
        "colab": {
          "base_uri": "https://localhost:8080/"
        },
        "id": "euk77OW7CIEU",
        "outputId": "02086b54-2bc5-4b4c-e965-0c36a163179e"
      },
      "source": [
        "test_data['log_sqft_living'].mean()"
      ],
      "execution_count": null,
      "outputs": [
        {
          "output_type": "execute_result",
          "data": {
            "text/plain": [
              "7.550274679645938"
            ]
          },
          "metadata": {
            "tags": []
          },
          "execution_count": 53
        }
      ]
    },
    {
      "cell_type": "code",
      "metadata": {
        "colab": {
          "base_uri": "https://localhost:8080/"
        },
        "id": "jd2XuZ-tC5_1",
        "outputId": "cd5cb6d7-297c-46fa-f5e2-da1b12bd1d6b"
      },
      "source": [
        "test_data['lat_plus_long'].mean()"
      ],
      "execution_count": null,
      "outputs": [
        {
          "output_type": "execute_result",
          "data": {
            "text/plain": [
              "-74.65333497217313"
            ]
          },
          "metadata": {
            "tags": []
          },
          "execution_count": 54
        }
      ]
    },
    {
      "cell_type": "code",
      "metadata": {
        "colab": {
          "base_uri": "https://localhost:8080/",
          "height": 1000
        },
        "id": "15DAyz7AGTE_",
        "outputId": "eb67e1ad-9bd2-400c-9882-531308a0494d"
      },
      "source": [
        "turicreate.show(sales[1:5000]['sqft_living15'],sales[1:5000]['price'])\r\n",
        "turicreate.show(sales[1:5000]['lat_plus_long'],sales[1:5000]['price'])"
      ],
      "execution_count": null,
      "outputs": [
        {
          "output_type": "display_data",
          "data": {
            "text/html": [
              "<pre>Materializing X axis SArray</pre>"
            ],
            "text/plain": [
              "Materializing X axis SArray"
            ]
          },
          "metadata": {
            "tags": []
          }
        },
        {
          "output_type": "display_data",
          "data": {
            "text/html": [
              "<pre>Materializing Y axis SArray</pre>"
            ],
            "text/plain": [
              "Materializing Y axis SArray"
            ]
          },
          "metadata": {
            "tags": []
          }
        },
        {
          "output_type": "display_data",
          "data": {
            "text/html": [
              "<html>                 <body>                     <iframe style=\"border:0;margin:0\" width=\"920\" height=\"770\" srcdoc='<html lang=\"en\">                         <head>                             <script src=\"https://cdnjs.cloudflare.com/ajax/libs/vega/5.4.0/vega.js\"></script>                             <script src=\"https://cdnjs.cloudflare.com/ajax/libs/vega-embed/4.0.0/vega-embed.js\"></script>                             <script src=\"https://cdnjs.cloudflare.com/ajax/libs/vega-tooltip/0.5.1/vega-tooltip.min.js\"></script>                             <link rel=\"stylesheet\" type=\"text/css\" href=\"https://cdnjs.cloudflare.com/ajax/libs/vega-tooltip/0.5.1/vega-tooltip.min.css\">                             <style>                             .vega-actions > a{                                 color:white;                                 text-decoration: none;                                 font-family: \"Arial\";                                 cursor:pointer;                                 padding:5px;                                 background:#AAAAAA;                                 border-radius:4px;                                 padding-left:10px;                                 padding-right:10px;                                 margin-right:5px;                             }                             .vega-actions{                                 margin-top:20px;                                 text-align:center                             }                            .vega-actions > a{                                 background:#999999;                            }                             </style>                         </head>                         <body>                             <div id=\"vis\">                             </div>                             <script>                                 var vega_json = \"{\\\"$schema\\\": \\\"https://vega.github.io/schema/vega/v4.json\\\", \\\"autosize\\\": {\\\"type\\\": \\\"fit\\\", \\\"resize\\\": false, \\\"contains\\\": \\\"padding\\\"}, \\\"padding\\\": 8, \\\"width\\\": 720, \\\"height\\\": 550, \\\"style\\\": \\\"cell\\\", \\\"title\\\": \\\"X vs. Y\\\", \\\"data\\\": [{\\\"name\\\": \\\"source_2\\\", \\\"values\\\": [{\\\"x\\\": 1690.0, \\\"y\\\": 538000.0}, {\\\"x\\\": 2720.0, \\\"y\\\": 180000.0}, {\\\"x\\\": 1360.0, \\\"y\\\": 604000.0}, {\\\"x\\\": 1800.0, \\\"y\\\": 510000.0}, {\\\"x\\\": 4760.0, \\\"y\\\": 1225000.0}, {\\\"x\\\": 2238.0, \\\"y\\\": 257500.0}, {\\\"x\\\": 1650.0, \\\"y\\\": 291850.0}, {\\\"x\\\": 1780.0, \\\"y\\\": 229500.0}, {\\\"x\\\": 2390.0, \\\"y\\\": 323000.0}, {\\\"x\\\": 2210.0, \\\"y\\\": 662500.0}, {\\\"x\\\": 1330.0, \\\"y\\\": 468000.0}, {\\\"x\\\": 1780.0, \\\"y\\\": 310000.0}, {\\\"x\\\": 1370.0, \\\"y\\\": 400000.0}, {\\\"x\\\": 1360.0, \\\"y\\\": 530000.0}, {\\\"x\\\": 2140.0, \\\"y\\\": 650000.0}, {\\\"x\\\": 1890.0, \\\"y\\\": 395000.0}, {\\\"x\\\": 1610.0, \\\"y\\\": 485000.0}, {\\\"x\\\": 1060.0, \\\"y\\\": 189000.0}, {\\\"x\\\": 1280.0, \\\"y\\\": 230000.0}, {\\\"x\\\": 1400.0, \\\"y\\\": 385000.0}, {\\\"x\\\": 4110.0, \\\"y\\\": 2000000.0}, {\\\"x\\\": 2240.0, \\\"y\\\": 285000.0}, {\\\"x\\\": 1220.0, \\\"y\\\": 252700.0}, {\\\"x\\\": 2200.0, \\\"y\\\": 329000.0}, {\\\"x\\\": 1030.0, \\\"y\\\": 233000.0}, {\\\"x\\\": 1760.0, \\\"y\\\": 937000.0}, {\\\"x\\\": 1860.0, \\\"y\\\": 667000.0}, {\\\"x\\\": 1520.0, \\\"y\\\": 438000.0}, {\\\"x\\\": 2630.0, \\\"y\\\": 719000.0}, {\\\"x\\\": 2580.0, \\\"y\\\": 580500.0}, {\\\"x\\\": 1390.0, \\\"y\\\": 280000.0}, {\\\"x\\\": 1460.0, \\\"y\\\": 687500.0}, {\\\"x\\\": 1570.0, \\\"y\\\": 535000.0}, {\\\"x\\\": 2020.0, \\\"y\\\": 322500.0}, {\\\"x\\\": 1590.0, \\\"y\\\": 696000.0}, {\\\"x\\\": 2160.0, \\\"y\\\": 550000.0}, {\\\"x\\\": 1730.0, \\\"y\\\": 640000.0}, {\\\"x\\\": 1290.0, \\\"y\\\": 240000.0}, {\\\"x\\\": 2620.0, \\\"y\\\": 605000.0}, {\\\"x\\\": 2470.0, \\\"y\\\": 625000.0}, {\\\"x\\\": 2410.0, \\\"y\\\": 775000.0}, {\\\"x\\\": 3625.0, \\\"y\\\": 861990.0}, {\\\"x\\\": 1580.0, \\\"y\\\": 685000.0}, {\\\"x\\\": 1340.0, \\\"y\\\": 309000.0}, {\\\"x\\\": 3050.0, \\\"y\\\": 488000.0}, {\\\"x\\\": 1228.0, \\\"y\\\": 210490.0}, {\\\"x\\\": 2680.0, \\\"y\\\": 785000.0}, {\\\"x\\\": 970.0, \\\"y\\\": 450000.0}, {\\\"x\\\": 2680.0, \\\"y\\\": 1350000.0}, {\\\"x\\\": 1190.0, \\\"y\\\": 228000.0}, {\\\"x\\\": 1990.0, \\\"y\\\": 345000.0}, {\\\"x\\\": 1410.0, \\\"y\\\": 600000.0}, {\\\"x\\\": 1480.0, \\\"y\\\": 585000.0}, {\\\"x\\\": 2730.0, \\\"y\\\": 920000.0}, {\\\"x\\\": 1950.0, \\\"y\\\": 885000.0}, {\\\"x\\\": 2250.0, \\\"y\\\": 292500.0}, {\\\"x\\\": 2690.0, \\\"y\\\": 301000.0}, {\\\"x\\\": 2960.0, \\\"y\\\": 951000.0}, {\\\"x\\\": 2270.0, \\\"y\\\": 430000.0}, {\\\"x\\\": 2570.0, \\\"y\\\": 650000.0}, {\\\"x\\\": 1290.0, \\\"y\\\": 289000.0}, {\\\"x\\\": 2500.0, \\\"y\\\": 505000.0}, {\\\"x\\\": 1580.0, \\\"y\\\": 549000.0}, {\\\"x\\\": 1440.0, \\\"y\\\": 425000.0}, {\\\"x\\\": 1440.0, \\\"y\\\": 317625.0}, {\\\"x\\\": 2750.0, \\\"y\\\": 975000.0}, {\\\"x\\\": 2221.0, \\\"y\\\": 287000.0}, {\\\"x\\\": 1010.0, \\\"y\\\": 204000.0}, {\\\"x\\\": 3390.0, \\\"y\\\": 1325000.0}, {\\\"x\\\": 3530.0, \\\"y\\\": 1040000.0}, {\\\"x\\\": 1640.0, \\\"y\\\": 325000.0}, {\\\"x\\\": 1510.0, \\\"y\\\": 571000.0}, {\\\"x\\\": 2420.0, \\\"y\\\": 360000.0}, {\\\"x\\\": 1940.0, \\\"y\\\": 349000.0}, {\\\"x\\\": 3240.0, \\\"y\\\": 832500.0}, {\\\"x\\\": 1680.0, \\\"y\\\": 380000.0}, {\\\"x\\\": 890.0, \\\"y\\\": 480000.0}, {\\\"x\\\": 1130.0, \\\"y\\\": 410000.0}, {\\\"x\\\": 3350.0, \\\"y\\\": 720000.0}, {\\\"x\\\": 2350.0, \\\"y\\\": 390000.0}, {\\\"x\\\": 1870.0, \\\"y\\\": 360000.0}, {\\\"x\\\": 1720.0, \\\"y\\\": 355000.0}, {\\\"x\\\": 1850.0, \\\"y\\\": 356000.0}, {\\\"x\\\": 1570.0, \\\"y\\\": 315000.0}, {\\\"x\\\": 2020.0, \\\"y\\\": 940000.0}, {\\\"x\\\": 1590.0, \\\"y\\\": 305000.0}, {\\\"x\\\": 1900.0, \\\"y\\\": 461000.0}, {\\\"x\\\": 1950.0, \\\"y\\\": 215000.0}, {\\\"x\\\": 1030.0, \\\"y\\\": 335000.0}, {\\\"x\\\": 1980.0, \\\"y\\\": 243500.0}, {\\\"x\\\": 2520.0, \\\"y\\\": 1099880.0}, {\\\"x\\\": 1350.0, \\\"y\\\": 153000.0}, {\\\"x\\\": 1570.0, \\\"y\\\": 430000.0}, {\\\"x\\\": 1570.0, \\\"y\\\": 700000.0}, {\\\"x\\\": 1950.0, \\\"y\\\": 905000.0}, {\\\"x\\\": 1750.0, \\\"y\\\": 247500.0}, {\\\"x\\\": 1160.0, \\\"y\\\": 199000.0}, {\\\"x\\\": 1650.0, \\\"y\\\": 314000.0}, {\\\"x\\\": 2550.0, \\\"y\\\": 437500.0}, {\\\"x\\\": 2200.0, \\\"y\\\": 850830.0}, {\\\"x\\\": 1610.0, \\\"y\\\": 555000.0}, {\\\"x\\\": 2570.0, \\\"y\\\": 699950.0}, {\\\"x\\\": 2370.0, \\\"y\\\": 1088000.0}, {\\\"x\\\": 1640.0, \\\"y\\\": 290000.0}, {\\\"x\\\": 2250.0, \\\"y\\\": 375000.0}, {\\\"x\\\": 1240.0, \\\"y\\\": 460000.0}, {\\\"x\\\": 1270.0, \\\"y\\\": 188500.0}, {\\\"x\\\": 2990.0, \\\"y\\\": 680000.0}, {\\\"x\\\": 2500.0, \\\"y\\\": 470000.0}, {\\\"x\\\": 1940.0, \\\"y\\\": 597750.0}, {\\\"x\\\": 1380.0, \\\"y\\\": 570000.0}, {\\\"x\\\": 1540.0, \\\"y\\\": 272500.0}, {\\\"x\\\": 2090.0, \\\"y\\\": 329950.0}, {\\\"x\\\": 2640.0, \\\"y\\\": 480000.0}, {\\\"x\\\": 1830.0, \\\"y\\\": 740500.0}, {\\\"x\\\": 1620.0, \\\"y\\\": 518500.0}, {\\\"x\\\": 1190.0, \\\"y\\\": 205425.0}, {\\\"x\\\": 1880.0, \\\"y\\\": 171800.0}, {\\\"x\\\": 1610.0, \\\"y\\\": 535000.0}, {\\\"x\\\": 2340.0, \\\"y\\\": 660000.0}, {\\\"x\\\": 1580.0, \\\"y\\\": 391500.0}, {\\\"x\\\": 1710.0, \\\"y\\\": 395000.0}, {\\\"x\\\": 1850.0, \\\"y\\\": 445000.0}, {\\\"x\\\": 2700.0, \\\"y\\\": 770000.0}, {\\\"x\\\": 3060.0, \\\"y\\\": 1450000.0}, {\\\"x\\\": 2660.0, \\\"y\\\": 445000.0}, {\\\"x\\\": 2090.0, \\\"y\\\": 260000.0}, {\\\"x\\\": 1700.0, \\\"y\\\": 822500.0}, {\\\"x\\\": 1970.0, \\\"y\\\": 430000.0}, {\\\"x\\\": 1420.0, \\\"y\\\": 212000.0}, {\\\"x\\\": 2060.0, \\\"y\\\": 660500.0}, {\\\"x\\\": 2480.0, \\\"y\\\": 784000.0}, {\\\"x\\\": 1690.0, \\\"y\\\": 453246.0}, {\\\"x\\\": 1540.0, \\\"y\\\": 675000.0}, {\\\"x\\\": 1550.0, \\\"y\\\": 199000.0}, {\\\"x\\\": 1750.0, \\\"y\\\": 220000.0}, {\\\"x\\\": 1550.0, \\\"y\\\": 452000.0}, {\\\"x\\\": 1060.0, \\\"y\\\": 382500.0}, {\\\"x\\\": 1350.0, \\\"y\\\": 519950.0}, {\\\"x\\\": 1170.0, \\\"y\\\": 665000.0}, {\\\"x\\\": 2820.0, \\\"y\\\": 527700.0}, {\\\"x\\\": 1610.0, \\\"y\\\": 205000.0}, {\\\"x\\\": 1560.0, \\\"y\\\": 420000.0}, {\\\"x\\\": 2230.0, \\\"y\\\": 500000.0}, {\\\"x\\\": 2840.0, \\\"y\\\": 921500.0}, {\\\"x\\\": 2200.0, \\\"y\\\": 890000.0}, {\\\"x\\\": 1940.0, \\\"y\\\": 430000.0}, {\\\"x\\\": 1360.0, \\\"y\\\": 258000.0}, {\\\"x\\\": 1450.0, \\\"y\\\": 511000.0}, {\\\"x\\\": 1500.0, \\\"y\\\": 532170.0}, {\\\"x\\\": 1420.0, \\\"y\\\": 560000.0}, {\\\"x\\\": 1680.0, \\\"y\\\": 282950.0}, {\\\"x\\\": 3160.0, \\\"y\\\": 2250000.0}, {\\\"x\\\": 1010.0, \\\"y\\\": 350000.0}, {\\\"x\\\": 1190.0, \\\"y\\\": 215000.0}, {\\\"x\\\": 2640.0, \\\"y\\\": 650000.0}, {\\\"x\\\": 1980.0, \\\"y\\\": 320000.0}, {\\\"x\\\": 1160.0, \\\"y\\\": 247000.0}, {\\\"x\\\": 1730.0, \\\"y\\\": 320000.0}, {\\\"x\\\": 1010.0, \\\"y\\\": 255000.0}, {\\\"x\\\": 1200.0, \\\"y\\\": 438000.0}, {\\\"x\\\": 3400.0, \\\"y\\\": 900000.0}, {\\\"x\\\": 1710.0, \\\"y\\\": 441000.0}, {\\\"x\\\": 2110.0, \\\"y\\\": 420000.0}, {\\\"x\\\": 1640.0, \\\"y\\\": 370000.0}, {\\\"x\\\": 1830.0, \\\"y\\\": 269950.0}, {\\\"x\\\": 2920.0, \\\"y\\\": 807100.0}, {\\\"x\\\": 2480.0, \\\"y\\\": 653000.0}, {\\\"x\\\": 1770.0, \\\"y\\\": 371500.0}, {\\\"x\\\": 1070.0, \\\"y\\\": 284000.0}, {\\\"x\\\": 1930.0, \\\"y\\\": 272000.0}, {\\\"x\\\": 1480.0, \\\"y\\\": 313000.0}, {\\\"x\\\": 3740.0, \\\"y\\\": 917500.0}, {\\\"x\\\": 2260.0, \\\"y\\\": 673000.0}, {\\\"x\\\": 1590.0, \\\"y\\\": 425000.0}, {\\\"x\\\": 1280.0, \\\"y\\\": 399950.0}, {\\\"x\\\": 1200.0, \\\"y\\\": 385000.0}, {\\\"x\\\": 1950.0, \\\"y\\\": 269950.0}, {\\\"x\\\": 1540.0, \\\"y\\\": 330000.0}, {\\\"x\\\": 1670.0, \\\"y\\\": 260000.0}, {\\\"x\\\": 1410.0, \\\"y\\\": 470000.0}, {\\\"x\\\": 2290.0, \\\"y\\\": 589000.0}, {\\\"x\\\": 1050.0, \\\"y\\\": 163500.0}, {\\\"x\\\": 2260.0, \\\"y\\\": 835000.0}, {\\\"x\\\": 2540.0, \\\"y\\\": 1095000.0}, {\\\"x\\\": 2190.0, \\\"y\\\": 269000.0}, {\\\"x\\\": 2030.0, \\\"y\\\": 560000.0}, {\\\"x\\\": 1330.0, \\\"y\\\": 615000.0}, {\\\"x\\\": 2230.0, \\\"y\\\": 585188.0}, {\\\"x\\\": 1540.0, \\\"y\\\": 305000.0}, {\\\"x\\\": 1230.0, \\\"y\\\": 166950.0}, {\\\"x\\\": 2680.0, \\\"y\\\": 799000.0}, {\\\"x\\\": 1900.0, \\\"y\\\": 400000.0}, {\\\"x\\\": 1570.0, \\\"y\\\": 230000.0}, {\\\"x\\\": 2550.0, \\\"y\\\": 256883.0}, {\\\"x\\\": 1500.0, \\\"y\\\": 423000.0}, {\\\"x\\\": 1750.0, \\\"y\\\": 465000.0}, {\\\"x\\\": 2330.0, \\\"y\\\": 440000.0}, {\\\"x\\\": 1560.0, \\\"y\\\": 385000.0}, {\\\"x\\\": 1300.0, \\\"y\\\": 210000.0}, {\\\"x\\\": 2030.0, \\\"y\\\": 297000.0}, {\\\"x\\\": 1680.0, \\\"y\\\": 470000.0}, {\\\"x\\\": 1430.0, \\\"y\\\": 226500.0}, {\\\"x\\\": 1400.0, \\\"y\\\": 274250.0}, {\\\"x\\\": 2770.0, \\\"y\\\": 840000.0}, {\\\"x\\\": 2750.0, \\\"y\\\": 677900.0}, {\\\"x\\\": 1290.0, \\\"y\\\": 425000.0}, {\\\"x\\\": 1250.0, \\\"y\\\": 180250.0}, {\\\"x\\\": 1560.0, \\\"y\\\": 464000.0}, {\\\"x\\\": 1630.0, \\\"y\\\": 320000.0}, {\\\"x\\\": 1160.0, \\\"y\\\": 625504.0}, {\\\"x\\\": 2520.0, \\\"y\\\": 592500.0}, {\\\"x\\\": 2590.0, \\\"y\\\": 465000.0}, {\\\"x\\\": 2130.0, \\\"y\\\": 477000.0}, {\\\"x\\\": 1100.0, \\\"y\\\": 280000.0}, {\\\"x\\\": 3836.0, \\\"y\\\": 1505000.0}, {\\\"x\\\": 1320.0, \\\"y\\\": 445838.0}, {\\\"x\\\": 2580.0, \\\"y\\\": 1072000.0}, {\\\"x\\\": 2120.0, \\\"y\\\": 467000.0}, {\\\"x\\\": 3070.0, \\\"y\\\": 686000.0}, {\\\"x\\\": 1900.0, \\\"y\\\": 279950.0}, {\\\"x\\\": 1910.0, \\\"y\\\": 527000.0}, {\\\"x\\\": 2080.0, \\\"y\\\": 325000.0}, {\\\"x\\\": 2020.0, \\\"y\\\": 328000.0}, {\\\"x\\\": 1280.0, \\\"y\\\": 390000.0}, {\\\"x\\\": 1640.0, \\\"y\\\": 479950.0}, {\\\"x\\\": 1510.0, \\\"y\\\": 264950.0}, {\\\"x\\\": 1960.0, \\\"y\\\": 235000.0}, {\\\"x\\\": 2250.0, \\\"y\\\": 516500.0}, {\\\"x\\\": 2030.0, \\\"y\\\": 655000.0}, {\\\"x\\\": 2280.0, \\\"y\\\": 500000.0}, {\\\"x\\\": 2120.0, \\\"y\\\": 315000.0}, {\\\"x\\\": 1150.0, \\\"y\\\": 213000.0}, {\\\"x\\\": 2090.0, \\\"y\\\": 475000.0}, {\\\"x\\\": 3430.0, \\\"y\\\": 1025000.0}, {\\\"x\\\": 2070.0, \\\"y\\\": 416000.0}, {\\\"x\\\": 1510.0, \\\"y\\\": 410000.0}, {\\\"x\\\": 2920.0, \\\"y\\\": 800000.0}, {\\\"x\\\": 2600.0, \\\"y\\\": 472000.0}, {\\\"x\\\": 1190.0, \\\"y\\\": 225000.0}, {\\\"x\\\": 830.0, \\\"y\\\": 210000.0}, {\\\"x\\\": 1450.0, \\\"y\\\": 455000.0}, {\\\"x\\\": 1260.0, \\\"y\\\": 225000.0}, {\\\"x\\\": 1390.0, \\\"y\\\": 480000.0}, {\\\"x\\\": 2570.0, \\\"y\\\": 363000.0}, {\\\"x\\\": 3120.0, \\\"y\\\": 2400000.0}, {\\\"x\\\": 1150.0, \\\"y\\\": 181000.0}, {\\\"x\\\": 2010.0, \\\"y\\\": 250000.0}, {\\\"x\\\": 1390.0, \\\"y\\\": 481000.0}, {\\\"x\\\": 1750.0, \\\"y\\\": 260000.0}, {\\\"x\\\": 3060.0, \\\"y\\\": 455000.0}, {\\\"x\\\": 1730.0, \\\"y\\\": 415000.0}, {\\\"x\\\": 1620.0, \\\"y\\\": 349500.0}, {\\\"x\\\": 1630.0, \\\"y\\\": 245000.0}, {\\\"x\\\": 1420.0, \\\"y\\\": 592500.0}, {\\\"x\\\": 1910.0, \\\"y\\\": 385000.0}, {\\\"x\\\": 1550.0, \\\"y\\\": 315000.0}, {\\\"x\\\": 1380.0, \\\"y\\\": 255000.0}, {\\\"x\\\": 2990.0, \\\"y\\\": 693000.0}, {\\\"x\\\": 1660.0, \\\"y\\\": 780000.0}, {\\\"x\\\": 1600.0, \\\"y\\\": 237000.0}, {\\\"x\\\": 2380.0, \\\"y\\\": 525000.0}, {\\\"x\\\": 1330.0, \\\"y\\\": 425000.0}, {\\\"x\\\": 1230.0, \\\"y\\\": 369900.0}, {\\\"x\\\": 1950.0, \\\"y\\\": 290000.0}, {\\\"x\\\": 1130.0, \\\"y\\\": 285000.0}, {\\\"x\\\": 1320.0, \\\"y\\\": 415000.0}, {\\\"x\\\": 2070.0, \\\"y\\\": 272500.0}, {\\\"x\\\": 3890.0, \\\"y\\\": 2900000.0}, {\\\"x\\\": 4180.0, \\\"y\\\": 1365000.0}, {\\\"x\\\": 1440.0, \\\"y\\\": 436000.0}, {\\\"x\\\": 1350.0, \\\"y\\\": 210000.0}, {\\\"x\\\": 1320.0, \\\"y\\\": 236000.0}, {\\\"x\\\": 1440.0, \\\"y\\\": 331000.0}, {\\\"x\\\": 2653.0, \\\"y\\\": 365000.0}, {\\\"x\\\": 1660.0, \\\"y\\\": 450000.0}, {\\\"x\\\": 1860.0, \\\"y\\\": 770000.0}, {\\\"x\\\": 2670.0, \\\"y\\\": 455000.0}, {\\\"x\\\": 2020.0, \\\"y\\\": 405000.0}, {\\\"x\\\": 1720.0, \\\"y\\\": 304900.0}, {\\\"x\\\": 1650.0, \\\"y\\\": 170000.0}, {\\\"x\\\": 3050.0, \\\"y\\\": 2050000.0}, {\\\"x\\\": 3920.0, \\\"y\\\": 780000.0}, {\\\"x\\\": 2570.0, \\\"y\\\": 330000.0}, {\\\"x\\\": 2410.0, \\\"y\\\": 370000.0}, {\\\"x\\\": 2300.0, \\\"y\\\": 467000.0}, {\\\"x\\\": 1670.0, \\\"y\\\": 405000.0}, {\\\"x\\\": 2310.0, \\\"y\\\": 675000.0}, {\\\"x\\\": 1520.0, \\\"y\\\": 500000.0}, {\\\"x\\\": 2410.0, \\\"y\\\": 389999.0}, {\\\"x\\\": 2120.0, \\\"y\\\": 630000.0}, {\\\"x\\\": 2280.0, \\\"y\\\": 360000.0}, {\\\"x\\\": 2320.0, \\\"y\\\": 580000.0}, {\\\"x\\\": 2390.0, \\\"y\\\": 550000.0}, {\\\"x\\\": 3150.0, \\\"y\\\": 879000.0}, {\\\"x\\\": 1740.0, \\\"y\\\": 265000.0}, {\\\"x\\\": 2400.0, \\\"y\\\": 446500.0}, {\\\"x\\\": 2140.0, \\\"y\\\": 404000.0}, {\\\"x\\\": 1630.0, \\\"y\\\": 267500.0}, {\\\"x\\\": 4550.0, \\\"y\\\": 3075000.0}, {\\\"x\\\": 2510.0, \\\"y\\\": 335000.0}, {\\\"x\\\": 2190.0, \\\"y\\\": 576000.0}, {\\\"x\\\": 2370.0, \\\"y\\\": 208633.0}, {\\\"x\\\": 1460.0, \\\"y\\\": 315000.0}, {\\\"x\\\": 1740.0, \\\"y\\\": 725000.0}, {\\\"x\\\": 1800.0, \\\"y\\\": 550000.0}, {\\\"x\\\": 2250.0, \\\"y\\\": 610750.0}, {\\\"x\\\": 1460.0, \\\"y\\\": 550700.0}, {\\\"x\\\": 2720.0, \\\"y\\\": 665000.0}, {\\\"x\\\": 2440.0, \\\"y\\\": 834000.0}, {\\\"x\\\": 1660.0, \\\"y\\\": 201000.0}, {\\\"x\\\": 2880.0, \\\"y\\\": 2384000.0}, {\\\"x\\\": 3860.0, \\\"y\\\": 1384000.0}, {\\\"x\\\": 3860.0, \\\"y\\\": 1400000.0}, {\\\"x\\\": 2150.0, \\\"y\\\": 305000.0}, {\\\"x\\\": 1570.0, \\\"y\\\": 487000.0}, {\\\"x\\\": 2350.0, \\\"y\\\": 390000.0}, {\\\"x\\\": 1570.0, \\\"y\\\": 548000.0}, {\\\"x\\\": 1310.0, \\\"y\\\": 268750.0}, {\\\"x\\\": 1560.0, \\\"y\\\": 819900.0}, {\\\"x\\\": 2660.0, \\\"y\\\": 520000.0}, {\\\"x\\\": 1520.0, \\\"y\\\": 230000.0}, {\\\"x\\\": 1510.0, \\\"y\\\": 240000.0}, {\\\"x\\\": 1820.0, \\\"y\\\": 232000.0}, {\\\"x\\\": 1820.0, \\\"y\\\": 240500.0}, {\\\"x\\\": 3080.0, \\\"y\\\": 274975.0}, {\\\"x\\\": 2320.0, \\\"y\\\": 740000.0}, {\\\"x\\\": 1150.0, \\\"y\\\": 186375.0}, {\\\"x\\\": 2500.0, \\\"y\\\": 790000.0}, {\\\"x\\\": 2370.0, \\\"y\\\": 880000.0}, {\\\"x\\\": 1590.0, \\\"y\\\": 279000.0}, {\\\"x\\\": 1910.0, \\\"y\\\": 295000.0}, {\\\"x\\\": 1710.0, \\\"y\\\": 640000.0}, {\\\"x\\\": 2770.0, \\\"y\\\": 940000.0}, {\\\"x\\\": 1800.0, \\\"y\\\": 260000.0}, {\\\"x\\\": 2580.0, \\\"y\\\": 559900.0}, {\\\"x\\\": 1820.0, \\\"y\\\": 791500.0}, {\\\"x\\\": 1740.0, \\\"y\\\": 265000.0}, {\\\"x\\\": 880.0, \\\"y\\\": 245000.0}, {\\\"x\\\": 2560.0, \\\"y\\\": 485000.0}, {\\\"x\\\": 3470.0, \\\"y\\\": 684000.0}, {\\\"x\\\": 1580.0, \\\"y\\\": 425000.0}, {\\\"x\\\": 1660.0, \\\"y\\\": 309600.0}, {\\\"x\\\": 2380.0, \\\"y\\\": 552250.0}, {\\\"x\\\": 1020.0, \\\"y\\\": 165000.0}, {\\\"x\\\": 1020.0, \\\"y\\\": 239900.0}, {\\\"x\\\": 1360.0, \\\"y\\\": 320000.0}, {\\\"x\\\": 1720.0, \\\"y\\\": 206600.0}, {\\\"x\\\": 2040.0, \\\"y\\\": 387000.0}, {\\\"x\\\": 1300.0, \\\"y\\\": 299000.0}, {\\\"x\\\": 2610.0, \\\"y\\\": 855000.0}, {\\\"x\\\": 1940.0, \\\"y\\\": 315000.0}, {\\\"x\\\": 1930.0, \\\"y\\\": 437500.0}, {\\\"x\\\": 1640.0, \\\"y\\\": 252000.0}, {\\\"x\\\": 1600.0, \\\"y\\\": 375000.0}, {\\\"x\\\": 2010.0, \\\"y\\\": 300000.0}, {\\\"x\\\": 1750.0, \\\"y\\\": 420000.0}, {\\\"x\\\": 1340.0, \\\"y\\\": 900000.0}, {\\\"x\\\": 1520.0, \\\"y\\\": 679900.0}, {\\\"x\\\": 1580.0, \\\"y\\\": 463000.0}, {\\\"x\\\": 2470.0, \\\"y\\\": 380000.0}, {\\\"x\\\": 1820.0, \\\"y\\\": 329500.0}, {\\\"x\\\": 2040.0, \\\"y\\\": 604950.0}, {\\\"x\\\": 2920.0, \\\"y\\\": 795000.0}, {\\\"x\\\": 1380.0, \\\"y\\\": 465000.0}, {\\\"x\\\": 2140.0, \\\"y\\\": 673000.0}, {\\\"x\\\": 3400.0, \\\"y\\\": 810000.0}, {\\\"x\\\": 2770.0, \\\"y\\\": 785000.0}, {\\\"x\\\": 1810.0, \\\"y\\\": 338000.0}, {\\\"x\\\": 1430.0, \\\"y\\\": 280000.0}, {\\\"x\\\": 1810.0, \\\"y\\\": 315000.0}, {\\\"x\\\": 1810.0, \\\"y\\\": 530000.0}, {\\\"x\\\": 2860.0, \\\"y\\\": 380000.0}, {\\\"x\\\": 1650.0, \\\"y\\\": 297000.0}, {\\\"x\\\": 3480.0, \\\"y\\\": 730000.0}, {\\\"x\\\": 1770.0, \\\"y\\\": 450000.0}, {\\\"x\\\": 1680.0, \\\"y\\\": 275000.0}, {\\\"x\\\": 1910.0, \\\"y\\\": 595000.0}, {\\\"x\\\": 1590.0, \\\"y\\\": 435000.0}, {\\\"x\\\": 3130.0, \\\"y\\\": 270000.0}, {\\\"x\\\": 3360.0, \\\"y\\\": 950000.0}, {\\\"x\\\": 2300.0, \\\"y\\\": 389000.0}, {\\\"x\\\": 2420.0, \\\"y\\\": 560000.0}, {\\\"x\\\": 4050.0, \\\"y\\\": 1350000.0}, {\\\"x\\\": 2450.0, \\\"y\\\": 799000.0}, {\\\"x\\\": 1410.0, \\\"y\\\": 365500.0}, {\\\"x\\\": 1710.0, \\\"y\\\": 252350.0}, {\\\"x\\\": 1880.0, \\\"y\\\": 403950.0}, {\\\"x\\\": 1610.0, \\\"y\\\": 385000.0}, {\\\"x\\\": 1450.0, \\\"y\\\": 345000.0}, {\\\"x\\\": 1950.0, \\\"y\\\": 490000.0}, {\\\"x\\\": 1790.0, \\\"y\\\": 330000.0}, {\\\"x\\\": 3180.0, \\\"y\\\": 927000.0}, {\\\"x\\\": 3600.0, \\\"y\\\": 1118000.0}, {\\\"x\\\": 2000.0, \\\"y\\\": 330000.0}, {\\\"x\\\": 2110.0, \\\"y\\\": 530000.0}, {\\\"x\\\": 2000.0, \\\"y\\\": 365000.0}, {\\\"x\\\": 1060.0, \\\"y\\\": 378750.0}, {\\\"x\\\": 1390.0, \\\"y\\\": 269900.0}, {\\\"x\\\": 1630.0, \\\"y\\\": 557000.0}, {\\\"x\\\": 1880.0, \\\"y\\\": 360000.0}, {\\\"x\\\": 1560.0, \\\"y\\\": 352000.0}, {\\\"x\\\": 2430.0, \\\"y\\\": 437000.0}, {\\\"x\\\": 1820.0, \\\"y\\\": 322500.0}, {\\\"x\\\": 1510.0, \\\"y\\\": 650000.0}, {\\\"x\\\": 1290.0, \\\"y\\\": 450000.0}, {\\\"x\\\": 1570.0, \\\"y\\\": 278500.0}, {\\\"x\\\": 2090.0, \\\"y\\\": 364950.0}, {\\\"x\\\": 3180.0, \\\"y\\\": 840000.0}, {\\\"x\\\": 1550.0, \\\"y\\\": 268000.0}, {\\\"x\\\": 1380.0, \\\"y\\\": 517534.0}, {\\\"x\\\": 2990.0, \\\"y\\\": 632925.0}, {\\\"x\\\": 2450.0, \\\"y\\\": 577500.0}, {\\\"x\\\": 2850.0, \\\"y\\\": 339000.0}, {\\\"x\\\": 2520.0, \\\"y\\\": 570000.0}, {\\\"x\\\": 2690.0, \\\"y\\\": 563500.0}, {\\\"x\\\": 1910.0, \\\"y\\\": 423000.0}, {\\\"x\\\": 2320.0, \\\"y\\\": 355000.0}, {\\\"x\\\": 4680.0, \\\"y\\\": 1550000.0}, {\\\"x\\\": 1320.0, \\\"y\\\": 482000.0}, {\\\"x\\\": 1580.0, \\\"y\\\": 625000.0}, {\\\"x\\\": 2360.0, \\\"y\\\": 538000.0}, {\\\"x\\\": 2310.0, \\\"y\\\": 380000.0}, {\\\"x\\\": 1300.0, \\\"y\\\": 375000.0}, {\\\"x\\\": 1850.0, \\\"y\\\": 245000.0}, {\\\"x\\\": 1620.0, \\\"y\\\": 310000.0}, {\\\"x\\\": 3530.0, \\\"y\\\": 1300000.0}, {\\\"x\\\": 1460.0, \\\"y\\\": 397000.0}, {\\\"x\\\": 2310.0, \\\"y\\\": 365000.0}, {\\\"x\\\": 2290.0, \\\"y\\\": 328500.0}, {\\\"x\\\": 3930.0, \\\"y\\\": 988000.0}, {\\\"x\\\": 1810.0, \\\"y\\\": 1000000.0}, {\\\"x\\\": 1490.0, \\\"y\\\": 237000.0}, {\\\"x\\\": 2300.0, \\\"y\\\": 525000.0}, {\\\"x\\\": 2140.0, \\\"y\\\": 749000.0}, {\\\"x\\\": 3180.0, \\\"y\\\": 722500.0}, {\\\"x\\\": 2860.0, \\\"y\\\": 843000.0}, {\\\"x\\\": 1610.0, \\\"y\\\": 438000.0}, {\\\"x\\\": 2460.0, \\\"y\\\": 578000.0}, {\\\"x\\\": 2077.0, \\\"y\\\": 227950.0}, {\\\"x\\\": 1890.0, \\\"y\\\": 196000.0}, {\\\"x\\\": 2400.0, \\\"y\\\": 641000.0}, {\\\"x\\\": 1930.0, \\\"y\\\": 350000.0}, {\\\"x\\\": 1150.0, \\\"y\\\": 205000.0}, {\\\"x\\\": 1920.0, \\\"y\\\": 400000.0}, {\\\"x\\\": 3630.0, \\\"y\\\": 1030000.0}, {\\\"x\\\": 1510.0, \\\"y\\\": 505000.0}, {\\\"x\\\": 1930.0, \\\"y\\\": 475000.0}, {\\\"x\\\": 2580.0, \\\"y\\\": 520000.0}, {\\\"x\\\": 2610.0, \\\"y\\\": 1450000.0}, {\\\"x\\\": 1630.0, \\\"y\\\": 333500.0}, {\\\"x\\\": 1230.0, \\\"y\\\": 232000.0}, {\\\"x\\\": 2120.0, \\\"y\\\": 691100.0}, {\\\"x\\\": 1900.0, \\\"y\\\": 811000.0}, {\\\"x\\\": 2500.0, \\\"y\\\": 551000.0}, {\\\"x\\\": 2350.0, \\\"y\\\": 496500.0}, {\\\"x\\\": 2280.0, \\\"y\\\": 705000.0}, {\\\"x\\\": 2460.0, \\\"y\\\": 578000.0}, {\\\"x\\\": 1490.0, \\\"y\\\": 255000.0}, {\\\"x\\\": 3220.0, \\\"y\\\": 1050000.0}, {\\\"x\\\": 2400.0, \\\"y\\\": 348000.0}, {\\\"x\\\": 1570.0, \\\"y\\\": 230000.0}, {\\\"x\\\": 2480.0, \\\"y\\\": 359500.0}, {\\\"x\\\": 1220.0, \\\"y\\\": 330000.0}, {\\\"x\\\": 1200.0, \\\"y\\\": 80000.0}, {\\\"x\\\": 1480.0, \\\"y\\\": 465000.0}, {\\\"x\\\": 2100.0, \\\"y\\\": 325000.0}, {\\\"x\\\": 1770.0, \\\"y\\\": 340500.0}, {\\\"x\\\": 1810.0, \\\"y\\\": 342500.0}, {\\\"x\\\": 1310.0, \\\"y\\\": 290900.0}, {\\\"x\\\": 3230.0, \\\"y\\\": 868700.0}, {\\\"x\\\": 2820.0, \\\"y\\\": 1199000.0}, {\\\"x\\\": 4300.0, \\\"y\\\": 1150000.0}, {\\\"x\\\": 3390.0, \\\"y\\\": 859900.0}, {\\\"x\\\": 1580.0, \\\"y\\\": 520000.0}, {\\\"x\\\": 1610.0, \\\"y\\\": 460000.0}, {\\\"x\\\": 1770.0, \\\"y\\\": 438924.0}, {\\\"x\\\": 1420.0, \\\"y\\\": 315000.0}, {\\\"x\\\": 2920.0, \\\"y\\\": 590000.0}, {\\\"x\\\": 1620.0, \\\"y\\\": 378500.0}, {\\\"x\\\": 2350.0, \\\"y\\\": 328500.0}, {\\\"x\\\": 2230.0, \\\"y\\\": 849950.0}, {\\\"x\\\": 1730.0, \\\"y\\\": 525000.0}, {\\\"x\\\": 3850.0, \\\"y\\\": 1385000.0}, {\\\"x\\\": 2060.0, \\\"y\\\": 295000.0}, {\\\"x\\\": 3600.0, \\\"y\\\": 1067000.0}, {\\\"x\\\": 1860.0, \\\"y\\\": 207950.0}, {\\\"x\\\": 2820.0, \\\"y\\\": 699900.0}, {\\\"x\\\": 3080.0, \\\"y\\\": 1280000.0}, {\\\"x\\\": 1560.0, \\\"y\\\": 452000.0}, {\\\"x\\\": 1680.0, \\\"y\\\": 370000.0}, {\\\"x\\\": 1300.0, \\\"y\\\": 232000.0}, {\\\"x\\\": 1910.0, \\\"y\\\": 669950.0}, {\\\"x\\\": 1660.0, \\\"y\\\": 397500.0}, {\\\"x\\\": 1240.0, \\\"y\\\": 490000.0}, {\\\"x\\\": 1440.0, \\\"y\\\": 725000.0}, {\\\"x\\\": 2424.0, \\\"y\\\": 299000.0}, {\\\"x\\\": 1590.0, \\\"y\\\": 625000.0}, {\\\"x\\\": 2530.0, \\\"y\\\": 437500.0}, {\\\"x\\\": 3030.0, \\\"y\\\": 650000.0}, {\\\"x\\\": 1460.0, \\\"y\\\": 475000.0}, {\\\"x\\\": 2200.0, \\\"y\\\": 342000.0}, {\\\"x\\\": 2720.0, \\\"y\\\": 1197354.0}, {\\\"x\\\": 1930.0, \\\"y\\\": 280000.0}, {\\\"x\\\": 1450.0, \\\"y\\\": 240000.0}, {\\\"x\\\": 1640.0, \\\"y\\\": 529000.0}, {\\\"x\\\": 1690.0, \\\"y\\\": 442000.0}, {\\\"x\\\": 1420.0, \\\"y\\\": 615000.0}, {\\\"x\\\": 2160.0, \\\"y\\\": 1485000.0}, {\\\"x\\\": 1980.0, \\\"y\\\": 585000.0}, {\\\"x\\\": 2830.0, \\\"y\\\": 480000.0}, {\\\"x\\\": 2900.0, \\\"y\\\": 1095000.0}, {\\\"x\\\": 1220.0, \\\"y\\\": 290000.0}, {\\\"x\\\": 1770.0, \\\"y\\\": 615000.0}, {\\\"x\\\": 1460.0, \\\"y\\\": 300000.0}, {\\\"x\\\": 1860.0, \\\"y\\\": 308000.0}, {\\\"x\\\": 2080.0, \\\"y\\\": 750000.0}, {\\\"x\\\": 2950.0, \\\"y\\\": 2250000.0}, {\\\"x\\\": 2200.0, \\\"y\\\": 890000.0}, {\\\"x\\\": 1190.0, \\\"y\\\": 288000.0}, {\\\"x\\\": 1470.0, \\\"y\\\": 190000.0}, {\\\"x\\\": 2290.0, \\\"y\\\": 515000.0}, {\\\"x\\\": 1690.0, \\\"y\\\": 235000.0}, {\\\"x\\\": 940.0, \\\"y\\\": 275000.0}, {\\\"x\\\": 1380.0, \\\"y\\\": 727500.0}, {\\\"x\\\": 2740.0, \\\"y\\\": 650000.0}, {\\\"x\\\": 4210.0, \\\"y\\\": 1600000.0}, {\\\"x\\\": 1320.0, \\\"y\\\": 365000.0}, {\\\"x\\\": 2590.0, \\\"y\\\": 662000.0}, {\\\"x\\\": 1680.0, \\\"y\\\": 270500.0}, {\\\"x\\\": 1360.0, \\\"y\\\": 200000.0}, {\\\"x\\\": 3340.0, \\\"y\\\": 970000.0}, {\\\"x\\\": 1400.0, \\\"y\\\": 160000.0}, {\\\"x\\\": 1580.0, \\\"y\\\": 204000.0}, {\\\"x\\\": 1780.0, \\\"y\\\": 358000.0}, {\\\"x\\\": 1870.0, \\\"y\\\": 452000.0}, {\\\"x\\\": 1920.0, \\\"y\\\": 595000.0}, {\\\"x\\\": 1360.0, \\\"y\\\": 249000.0}, {\\\"x\\\": 2230.0, \\\"y\\\": 346900.0}, {\\\"x\\\": 3980.0, \\\"y\\\": 2125000.0}, {\\\"x\\\": 1560.0, \\\"y\\\": 280000.0}, {\\\"x\\\": 2120.0, \\\"y\\\": 318888.0}, {\\\"x\\\": 2480.0, \\\"y\\\": 530000.0}, {\\\"x\\\": 2120.0, \\\"y\\\": 375000.0}, {\\\"x\\\": 3920.0, \\\"y\\\": 910000.0}, {\\\"x\\\": 2560.0, \\\"y\\\": 782000.0}, {\\\"x\\\": 1070.0, \\\"y\\\": 259950.0}, {\\\"x\\\": 1870.0, \\\"y\\\": 315000.0}, {\\\"x\\\": 1190.0, \\\"y\\\": 215000.0}, {\\\"x\\\": 2180.0, \\\"y\\\": 705000.0}, {\\\"x\\\": 3080.0, \\\"y\\\": 1450000.0}, {\\\"x\\\": 1520.0, \\\"y\\\": 451000.0}, {\\\"x\\\": 1340.0, \\\"y\\\": 261000.0}, {\\\"x\\\": 1570.0, \\\"y\\\": 396000.0}, {\\\"x\\\": 3715.0, \\\"y\\\": 725000.0}, {\\\"x\\\": 3230.0, \\\"y\\\": 1950000.0}, {\\\"x\\\": 1310.0, \\\"y\\\": 238000.0}, {\\\"x\\\": 2040.0, \\\"y\\\": 750000.0}, {\\\"x\\\": 2050.0, \\\"y\\\": 331500.0}, {\\\"x\\\": 1960.0, \\\"y\\\": 460000.0}, {\\\"x\\\": 2340.0, \\\"y\\\": 404950.0}, {\\\"x\\\": 1630.0, \\\"y\\\": 880000.0}, {\\\"x\\\": 3180.0, \\\"y\\\": 863000.0}, {\\\"x\\\": 1870.0, \\\"y\\\": 638700.0}, {\\\"x\\\": 1600.0, \\\"y\\\": 435000.0}, {\\\"x\\\": 1490.0, \\\"y\\\": 260000.0}, {\\\"x\\\": 2040.0, \\\"y\\\": 671500.0}, {\\\"x\\\": 1440.0, \\\"y\\\": 610000.0}, {\\\"x\\\": 1870.0, \\\"y\\\": 405000.0}, {\\\"x\\\": 1830.0, \\\"y\\\": 338900.0}, {\\\"x\\\": 3480.0, \\\"y\\\": 720000.0}, {\\\"x\\\": 1080.0, \\\"y\\\": 442000.0}, {\\\"x\\\": 1590.0, \\\"y\\\": 650000.0}, {\\\"x\\\": 1330.0, \\\"y\\\": 263500.0}, {\\\"x\\\": 2010.0, \\\"y\\\": 300000.0}, {\\\"x\\\": 2095.0, \\\"y\\\": 266000.0}, {\\\"x\\\": 2700.0, \\\"y\\\": 930000.0}, {\\\"x\\\": 2450.0, \\\"y\\\": 530000.0}, {\\\"x\\\": 1000.0, \\\"y\\\": 180000.0}, {\\\"x\\\": 3180.0, \\\"y\\\": 619000.0}, {\\\"x\\\": 1380.0, \\\"y\\\": 264000.0}, {\\\"x\\\": 2130.0, \\\"y\\\": 730000.0}, {\\\"x\\\": 2060.0, \\\"y\\\": 439000.0}, {\\\"x\\\": 1500.0, \\\"y\\\": 268500.0}, {\\\"x\\\": 1470.0, \\\"y\\\": 330000.0}, {\\\"x\\\": 2160.0, \\\"y\\\": 640000.0}, {\\\"x\\\": 3030.0, \\\"y\\\": 900000.0}, {\\\"x\\\": 2470.0, \\\"y\\\": 370000.0}, {\\\"x\\\": 1910.0, \\\"y\\\": 685000.0}, {\\\"x\\\": 2450.0, \\\"y\\\": 505000.0}, {\\\"x\\\": 2050.0, \\\"y\\\": 265000.0}, {\\\"x\\\": 1610.0, \\\"y\\\": 290000.0}, {\\\"x\\\": 2020.0, \\\"y\\\": 296000.0}, {\\\"x\\\": 1830.0, \\\"y\\\": 360000.0}, {\\\"x\\\": 1220.0, \\\"y\\\": 240500.0}, {\\\"x\\\": 1540.0, \\\"y\\\": 372500.0}, {\\\"x\\\": 3330.0, \\\"y\\\": 595000.0}, {\\\"x\\\": 2860.0, \\\"y\\\": 515000.0}, {\\\"x\\\": 3070.0, \\\"y\\\": 1220000.0}, {\\\"x\\\": 2170.0, \\\"y\\\": 507000.0}, {\\\"x\\\": 2560.0, \\\"y\\\": 399950.0}, {\\\"x\\\": 1560.0, \\\"y\\\": 185000.0}, {\\\"x\\\": 1440.0, \\\"y\\\": 460000.0}, {\\\"x\\\": 1560.0, \\\"y\\\": 435500.0}, {\\\"x\\\": 2050.0, \\\"y\\\": 469000.0}, {\\\"x\\\": 1290.0, \\\"y\\\": 531000.0}, {\\\"x\\\": 1150.0, \\\"y\\\": 443500.0}, {\\\"x\\\": 1660.0, \\\"y\\\": 223000.0}, {\\\"x\\\": 2200.0, \\\"y\\\": 590000.0}, {\\\"x\\\": 1200.0, \\\"y\\\": 340000.0}, {\\\"x\\\": 1780.0, \\\"y\\\": 650000.0}, {\\\"x\\\": 2190.0, \\\"y\\\": 533600.0}, {\\\"x\\\": 2600.0, \\\"y\\\": 695000.0}, {\\\"x\\\": 1500.0, \\\"y\\\": 242000.0}, {\\\"x\\\": 1810.0, \\\"y\\\": 425000.0}, {\\\"x\\\": 1290.0, \\\"y\\\": 525000.0}, {\\\"x\\\": 2040.0, \\\"y\\\": 485000.0}, {\\\"x\\\": 1390.0, \\\"y\\\": 175000.0}, {\\\"x\\\": 1700.0, \\\"y\\\": 210000.0}, {\\\"x\\\": 1930.0, \\\"y\\\": 260000.0}, {\\\"x\\\": 1920.0, \\\"y\\\": 577000.0}, {\\\"x\\\": 1408.0, \\\"y\\\": 200000.0}, {\\\"x\\\": 1530.0, \\\"y\\\": 605000.0}, {\\\"x\\\": 1440.0, \\\"y\\\": 325000.0}, {\\\"x\\\": 1200.0, \\\"y\\\": 289500.0}, {\\\"x\\\": 1660.0, \\\"y\\\": 559950.0}, {\\\"x\\\": 2760.0, \\\"y\\\": 1042500.0}, {\\\"x\\\": 1920.0, \\\"y\\\": 543500.0}, {\\\"x\\\": 3110.0, \\\"y\\\": 480000.0}, {\\\"x\\\": 1080.0, \\\"y\\\": 218000.0}, {\\\"x\\\": 1620.0, \\\"y\\\": 565000.0}, {\\\"x\\\": 1680.0, \\\"y\\\": 426700.0}, {\\\"x\\\": 2390.0, \\\"y\\\": 650000.0}, {\\\"x\\\": 1760.0, \\\"y\\\": 542000.0}, {\\\"x\\\": 1200.0, \\\"y\\\": 415000.0}, {\\\"x\\\": 1200.0, \\\"y\\\": 214000.0}, {\\\"x\\\": 1220.0, \\\"y\\\": 245000.0}, {\\\"x\\\": 2180.0, \\\"y\\\": 314500.0}, {\\\"x\\\": 1820.0, \\\"y\\\": 1120000.0}, {\\\"x\\\": 950.0, \\\"y\\\": 378000.0}, {\\\"x\\\": 1540.0, \\\"y\\\": 305000.0}, {\\\"x\\\": 2620.0, \\\"y\\\": 595000.0}, {\\\"x\\\": 1510.0, \\\"y\\\": 729500.0}, {\\\"x\\\": 2360.0, \\\"y\\\": 430000.0}, {\\\"x\\\": 1760.0, \\\"y\\\": 240000.0}, {\\\"x\\\": 1680.0, \\\"y\\\": 545000.0}, {\\\"x\\\": 1580.0, \\\"y\\\": 530000.0}, {\\\"x\\\": 1250.0, \\\"y\\\": 157000.0}, {\\\"x\\\": 1170.0, \\\"y\\\": 425000.0}, {\\\"x\\\": 1300.0, \\\"y\\\": 220000.0}, {\\\"x\\\": 2520.0, \\\"y\\\": 521000.0}, {\\\"x\\\": 2000.0, \\\"y\\\": 325000.0}, {\\\"x\\\": 1940.0, \\\"y\\\": 597500.0}, {\\\"x\\\": 1490.0, \\\"y\\\": 337000.0}, {\\\"x\\\": 3000.0, \\\"y\\\": 1000000.0}, {\\\"x\\\": 2730.0, \\\"y\\\": 3070000.0}, {\\\"x\\\": 1250.0, \\\"y\\\": 495000.0}, {\\\"x\\\": 2180.0, \\\"y\\\": 748000.0}, {\\\"x\\\": 1750.0, \\\"y\\\": 888000.0}, {\\\"x\\\": 1150.0, \\\"y\\\": 269900.0}, {\\\"x\\\": 2090.0, \\\"y\\\": 496500.0}, {\\\"x\\\": 1880.0, \\\"y\\\": 475000.0}, {\\\"x\\\": 1307.0, \\\"y\\\": 312000.0}, {\\\"x\\\": 1390.0, \\\"y\\\": 323000.0}, {\\\"x\\\": 1890.0, \\\"y\\\": 331000.0}, {\\\"x\\\": 1220.0, \\\"y\\\": 306000.0}, {\\\"x\\\": 1640.0, \\\"y\\\": 655000.0}, {\\\"x\\\": 1940.0, \\\"y\\\": 290000.0}, {\\\"x\\\": 2220.0, \\\"y\\\": 1250000.0}, {\\\"x\\\": 1880.0, \\\"y\\\": 460000.0}, {\\\"x\\\": 1380.0, \\\"y\\\": 435000.0}, {\\\"x\\\": 2390.0, \\\"y\\\": 664000.0}, {\\\"x\\\": 2180.0, \\\"y\\\": 865000.0}, {\\\"x\\\": 1800.0, \\\"y\\\": 385000.0}, {\\\"x\\\": 2230.0, \\\"y\\\": 497000.0}, {\\\"x\\\": 1150.0, \\\"y\\\": 280000.0}, {\\\"x\\\": 1690.0, \\\"y\\\": 188000.0}, {\\\"x\\\": 1850.0, \\\"y\\\": 478500.0}, {\\\"x\\\": 4190.0, \\\"y\\\": 1145000.0}, {\\\"x\\\": 1440.0, \\\"y\\\": 222000.0}, {\\\"x\\\": 3440.0, \\\"y\\\": 799000.0}, {\\\"x\\\": 3250.0, \\\"y\\\": 609900.0}, {\\\"x\\\": 1620.0, \\\"y\\\": 413000.0}, {\\\"x\\\": 1110.0, \\\"y\\\": 400000.0}, {\\\"x\\\": 2870.0, \\\"y\\\": 802541.0}, {\\\"x\\\": 2430.0, \\\"y\\\": 320000.0}, {\\\"x\\\": 2730.0, \\\"y\\\": 507000.0}, {\\\"x\\\": 1490.0, \\\"y\\\": 387500.0}, {\\\"x\\\": 1820.0, \\\"y\\\": 396000.0}, {\\\"x\\\": 2140.0, \\\"y\\\": 373000.0}, {\\\"x\\\": 3180.0, \\\"y\\\": 1484900.0}, {\\\"x\\\": 2330.0, \\\"y\\\": 359900.0}, {\\\"x\\\": 1210.0, \\\"y\\\": 410000.0}, {\\\"x\\\": 2900.0, \\\"y\\\": 690000.0}, {\\\"x\\\": 1670.0, \\\"y\\\": 245000.0}, {\\\"x\\\": 2670.0, \\\"y\\\": 700000.0}, {\\\"x\\\": 2400.0, \\\"y\\\": 268000.0}, {\\\"x\\\": 1350.0, \\\"y\\\": 225000.0}, {\\\"x\\\": 2300.0, \\\"y\\\": 980000.0}, {\\\"x\\\": 1500.0, \\\"y\\\": 795000.0}, {\\\"x\\\": 1170.0, \\\"y\\\": 195000.0}, {\\\"x\\\": 2180.0, \\\"y\\\": 480000.0}, {\\\"x\\\": 1630.0, \\\"y\\\": 485000.0}, {\\\"x\\\": 1410.0, \\\"y\\\": 130000.0}, {\\\"x\\\": 2240.0, \\\"y\\\": 325000.0}, {\\\"x\\\": 1530.0, \\\"y\\\": 440000.0}, {\\\"x\\\": 2910.0, \\\"y\\\": 550000.0}, {\\\"x\\\": 1350.0, \\\"y\\\": 310000.0}, {\\\"x\\\": 2700.0, \\\"y\\\": 530000.0}, {\\\"x\\\": 1970.0, \\\"y\\\": 390000.0}, {\\\"x\\\": 1210.0, \\\"y\\\": 243000.0}, {\\\"x\\\": 2440.0, \\\"y\\\": 639000.0}, {\\\"x\\\": 1540.0, \\\"y\\\": 215000.0}, {\\\"x\\\": 1420.0, \\\"y\\\": 405000.0}, {\\\"x\\\": 1770.0, \\\"y\\\": 250000.0}, {\\\"x\\\": 1300.0, \\\"y\\\": 405500.0}, {\\\"x\\\": 1120.0, \\\"y\\\": 452000.0}, {\\\"x\\\": 1120.0, \\\"y\\\": 730000.0}, {\\\"x\\\": 1430.0, \\\"y\\\": 267000.0}, {\\\"x\\\": 2390.0, \\\"y\\\": 289950.0}, {\\\"x\\\": 1300.0, \\\"y\\\": 565000.0}, {\\\"x\\\": 4230.0, \\\"y\\\": 1578000.0}, {\\\"x\\\": 2510.0, \\\"y\\\": 636000.0}, {\\\"x\\\": 1700.0, \\\"y\\\": 350000.0}, {\\\"x\\\": 1720.0, \\\"y\\\": 320000.0}, {\\\"x\\\": 1320.0, \\\"y\\\": 210000.0}, {\\\"x\\\": 1280.0, \\\"y\\\": 245000.0}, {\\\"x\\\": 1590.0, \\\"y\\\": 328000.0}, {\\\"x\\\": 3890.0, \\\"y\\\": 985000.0}, {\\\"x\\\": 2460.0, \\\"y\\\": 501000.0}, {\\\"x\\\": 1560.0, \\\"y\\\": 315000.0}, {\\\"x\\\": 2280.0, \\\"y\\\": 403000.0}, {\\\"x\\\": 2030.0, \\\"y\\\": 550000.0}, {\\\"x\\\": 1708.0, \\\"y\\\": 347500.0}, {\\\"x\\\": 2390.0, \\\"y\\\": 365000.0}, {\\\"x\\\": 1500.0, \\\"y\\\": 588000.0}, {\\\"x\\\": 2360.0, \\\"y\\\": 605000.0}, {\\\"x\\\": 3090.0, \\\"y\\\": 1300000.0}, {\\\"x\\\": 2020.0, \\\"y\\\": 233000.0}, {\\\"x\\\": 2210.0, \\\"y\\\": 360000.0}, {\\\"x\\\": 1170.0, \\\"y\\\": 459000.0}, {\\\"x\\\": 2290.0, \\\"y\\\": 740000.0}, {\\\"x\\\": 1160.0, \\\"y\\\": 305000.0}, {\\\"x\\\": 950.0, \\\"y\\\": 395000.0}, {\\\"x\\\": 2510.0, \\\"y\\\": 560000.0}, {\\\"x\\\": 2180.0, \\\"y\\\": 650000.0}, {\\\"x\\\": 2010.0, \\\"y\\\": 449950.0}, {\\\"x\\\": 2210.0, \\\"y\\\": 517500.0}, {\\\"x\\\": 1450.0, \\\"y\\\": 435000.0}, {\\\"x\\\": 1150.0, \\\"y\\\": 329999.0}, {\\\"x\\\": 2510.0, \\\"y\\\": 950000.0}, {\\\"x\\\": 1370.0, \\\"y\\\": 447000.0}, {\\\"x\\\": 1870.0, \\\"y\\\": 699800.0}, {\\\"x\\\": 1390.0, \\\"y\\\": 850000.0}, {\\\"x\\\": 2140.0, \\\"y\\\": 316500.0}, {\\\"x\\\": 3270.0, \\\"y\\\": 942500.0}, {\\\"x\\\": 3220.0, \\\"y\\\": 1310000.0}, {\\\"x\\\": 2580.0, \\\"y\\\": 856600.0}, {\\\"x\\\": 1480.0, \\\"y\\\": 405600.0}, {\\\"x\\\": 2560.0, \\\"y\\\": 565000.0}, {\\\"x\\\": 1210.0, \\\"y\\\": 400000.0}, {\\\"x\\\": 2230.0, \\\"y\\\": 330000.0}, {\\\"x\\\": 2230.0, \\\"y\\\": 374950.0}, {\\\"x\\\": 1920.0, \\\"y\\\": 405300.0}, {\\\"x\\\": 2160.0, \\\"y\\\": 560000.0}, {\\\"x\\\": 2360.0, \\\"y\\\": 824000.0}, {\\\"x\\\": 1400.0, \\\"y\\\": 260000.0}, {\\\"x\\\": 2180.0, \\\"y\\\": 760000.0}, {\\\"x\\\": 2970.0, \\\"y\\\": 405000.0}, {\\\"x\\\": 2240.0, \\\"y\\\": 429900.0}, {\\\"x\\\": 1320.0, \\\"y\\\": 341500.0}, {\\\"x\\\": 1940.0, \\\"y\\\": 465250.0}, {\\\"x\\\": 1390.0, \\\"y\\\": 450000.0}, {\\\"x\\\": 1370.0, \\\"y\\\": 390000.0}, {\\\"x\\\": 2070.0, \\\"y\\\": 420000.0}, {\\\"x\\\": 1910.0, \\\"y\\\": 269950.0}, {\\\"x\\\": 1520.0, \\\"y\\\": 493000.0}, {\\\"x\\\": 2520.0, \\\"y\\\": 370000.0}, {\\\"x\\\": 3150.0, \\\"y\\\": 2250000.0}, {\\\"x\\\": 1450.0, \\\"y\\\": 305000.0}, {\\\"x\\\": 2030.0, \\\"y\\\": 400000.0}, {\\\"x\\\": 1180.0, \\\"y\\\": 320000.0}, {\\\"x\\\": 1260.0, \\\"y\\\": 715000.0}, {\\\"x\\\": 2560.0, \\\"y\\\": 650000.0}, {\\\"x\\\": 2370.0, \\\"y\\\": 218000.0}, {\\\"x\\\": 1540.0, \\\"y\\\": 500000.0}, {\\\"x\\\": 2380.0, \\\"y\\\": 460000.0}, {\\\"x\\\": 1410.0, \\\"y\\\": 232500.0}, {\\\"x\\\": 1800.0, \\\"y\\\": 408200.0}, {\\\"x\\\": 1830.0, \\\"y\\\": 522000.0}, {\\\"x\\\": 3100.0, \\\"y\\\": 675000.0}, {\\\"x\\\": 4100.0, \\\"y\\\": 1355000.0}, {\\\"x\\\": 1570.0, \\\"y\\\": 249950.0}, {\\\"x\\\": 1460.0, \\\"y\\\": 210000.0}, {\\\"x\\\": 1180.0, \\\"y\\\": 429950.0}, {\\\"x\\\": 2930.0, \\\"y\\\": 737500.0}, {\\\"x\\\": 1850.0, \\\"y\\\": 710000.0}, {\\\"x\\\": 2100.0, \\\"y\\\": 470000.0}, {\\\"x\\\": 3510.0, \\\"y\\\": 1100000.0}, {\\\"x\\\": 2030.0, \\\"y\\\": 650000.0}, {\\\"x\\\": 3160.0, \\\"y\\\": 1216000.0}, {\\\"x\\\": 1380.0, \\\"y\\\": 422120.0}, {\\\"x\\\": 3150.0, \\\"y\\\": 625000.0}, {\\\"x\\\": 1220.0, \\\"y\\\": 385200.0}, {\\\"x\\\": 1800.0, \\\"y\\\": 500000.0}, {\\\"x\\\": 1910.0, \\\"y\\\": 308000.0}, {\\\"x\\\": 2140.0, \\\"y\\\": 565000.0}, {\\\"x\\\": 2600.0, \\\"y\\\": 581000.0}, {\\\"x\\\": 2330.0, \\\"y\\\": 361000.0}, {\\\"x\\\": 1530.0, \\\"y\\\": 345000.0}, {\\\"x\\\": 1310.0, \\\"y\\\": 419000.0}, {\\\"x\\\": 2160.0, \\\"y\\\": 347000.0}, {\\\"x\\\": 3000.0, \\\"y\\\": 625000.0}, {\\\"x\\\": 3470.0, \\\"y\\\": 2400000.0}, {\\\"x\\\": 1320.0, \\\"y\\\": 379000.0}, {\\\"x\\\": 1150.0, \\\"y\\\": 310000.0}, {\\\"x\\\": 1320.0, \\\"y\\\": 250000.0}, {\\\"x\\\": 2870.0, \\\"y\\\": 682000.0}, {\\\"x\\\": 1580.0, \\\"y\\\": 246500.0}, {\\\"x\\\": 1580.0, \\\"y\\\": 325000.0}, {\\\"x\\\": 2095.0, \\\"y\\\": 310950.0}, {\\\"x\\\": 2688.0, \\\"y\\\": 1100000.0}, {\\\"x\\\": 1810.0, \\\"y\\\": 287500.0}, {\\\"x\\\": 1810.0, \\\"y\\\": 431000.0}, {\\\"x\\\": 1290.0, \\\"y\\\": 226000.0}, {\\\"x\\\": 1600.0, \\\"y\\\": 825000.0}, {\\\"x\\\": 1240.0, \\\"y\\\": 175000.0}, {\\\"x\\\": 1800.0, \\\"y\\\": 465750.0}, {\\\"x\\\": 2550.0, \\\"y\\\": 659000.0}, {\\\"x\\\": 1630.0, \\\"y\\\": 595000.0}, {\\\"x\\\": 1780.0, \\\"y\\\": 350000.0}, {\\\"x\\\": 2120.0, \\\"y\\\": 270000.0}, {\\\"x\\\": 1850.0, \\\"y\\\": 662500.0}, {\\\"x\\\": 1490.0, \\\"y\\\": 249900.0}, {\\\"x\\\": 1980.0, \\\"y\\\": 324500.0}, {\\\"x\\\": 1350.0, \\\"y\\\": 430000.0}, {\\\"x\\\": 1350.0, \\\"y\\\": 419950.0}, {\\\"x\\\": 1790.0, \\\"y\\\": 285000.0}, {\\\"x\\\": 2100.0, \\\"y\\\": 332000.0}, {\\\"x\\\": 1340.0, \\\"y\\\": 282000.0}, {\\\"x\\\": 1020.0, \\\"y\\\": 320000.0}, {\\\"x\\\": 2440.0, \\\"y\\\": 428750.0}, {\\\"x\\\": 1760.0, \\\"y\\\": 330000.0}, {\\\"x\\\": 1440.0, \\\"y\\\": 456500.0}, {\\\"x\\\": 1870.0, \\\"y\\\": 352000.0}, {\\\"x\\\": 1860.0, \\\"y\\\": 664000.0}, {\\\"x\\\": 2530.0, \\\"y\\\": 628000.0}, {\\\"x\\\": 1780.0, \\\"y\\\": 512000.0}, {\\\"x\\\": 1630.0, \\\"y\\\": 254000.0}, {\\\"x\\\": 2030.0, \\\"y\\\": 535800.0}, {\\\"x\\\": 1610.0, \\\"y\\\": 287653.0}, {\\\"x\\\": 1270.0, \\\"y\\\": 438000.0}, {\\\"x\\\": 1840.0, \\\"y\\\": 450000.0}, {\\\"x\\\": 2400.0, \\\"y\\\": 327000.0}, {\\\"x\\\": 1950.0, \\\"y\\\": 370500.0}, {\\\"x\\\": 1570.0, \\\"y\\\": 265000.0}, {\\\"x\\\": 1920.0, \\\"y\\\": 450000.0}, {\\\"x\\\": 2640.0, \\\"y\\\": 425000.0}, {\\\"x\\\": 1330.0, \\\"y\\\": 166600.0}, {\\\"x\\\": 1170.0, \\\"y\\\": 245000.0}, {\\\"x\\\": 1520.0, \\\"y\\\": 565000.0}, {\\\"x\\\": 1930.0, \\\"y\\\": 539900.0}, {\\\"x\\\": 1980.0, \\\"y\\\": 910000.0}, {\\\"x\\\": 2050.0, \\\"y\\\": 280000.0}, {\\\"x\\\": 1560.0, \\\"y\\\": 275000.0}, {\\\"x\\\": 2490.0, \\\"y\\\": 467000.0}, {\\\"x\\\": 1730.0, \\\"y\\\": 457500.0}, {\\\"x\\\": 1270.0, \\\"y\\\": 381156.0}, {\\\"x\\\": 2050.0, \\\"y\\\": 289999.0}, {\\\"x\\\": 1950.0, \\\"y\\\": 642450.0}, {\\\"x\\\": 1600.0, \\\"y\\\": 469950.0}, {\\\"x\\\": 2920.0, \\\"y\\\": 795000.0}, {\\\"x\\\": 2820.0, \\\"y\\\": 785000.0}, {\\\"x\\\": 3060.0, \\\"y\\\": 860000.0}, {\\\"x\\\": 2360.0, \\\"y\\\": 1095000.0}, {\\\"x\\\": 1380.0, \\\"y\\\": 147500.0}, {\\\"x\\\": 2040.0, \\\"y\\\": 390000.0}, {\\\"x\\\": 1020.0, \\\"y\\\": 229000.0}, {\\\"x\\\": 1120.0, \\\"y\\\": 185000.0}, {\\\"x\\\": 1620.0, \\\"y\\\": 414900.0}, {\\\"x\\\": 1120.0, \\\"y\\\": 200000.0}, {\\\"x\\\": 2060.0, \\\"y\\\": 225000.0}, {\\\"x\\\": 1610.0, \\\"y\\\": 720000.0}, {\\\"x\\\": 2100.0, \\\"y\\\": 930000.0}, {\\\"x\\\": 4090.0, \\\"y\\\": 1270000.0}, {\\\"x\\\": 2100.0, \\\"y\\\": 700000.0}, {\\\"x\\\": 1170.0, \\\"y\\\": 466000.0}, {\\\"x\\\": 1460.0, \\\"y\\\": 374000.0}, {\\\"x\\\": 2810.0, \\\"y\\\": 480000.0}, {\\\"x\\\": 3000.0, \\\"y\\\": 740000.0}, {\\\"x\\\": 1820.0, \\\"y\\\": 1010000.0}, {\\\"x\\\": 2740.0, \\\"y\\\": 395000.0}, {\\\"x\\\": 1200.0, \\\"y\\\": 340000.0}, {\\\"x\\\": 1260.0, \\\"y\\\": 209000.0}, {\\\"x\\\": 1530.0, \\\"y\\\": 431650.0}, {\\\"x\\\": 3260.0, \\\"y\\\": 980000.0}, {\\\"x\\\": 2670.0, \\\"y\\\": 660000.0}, {\\\"x\\\": 2190.0, \\\"y\\\": 730000.0}, {\\\"x\\\": 1640.0, \\\"y\\\": 291500.0}, {\\\"x\\\": 3680.0, \\\"y\\\": 905000.0}, {\\\"x\\\": 3420.0, \\\"y\\\": 800000.0}, {\\\"x\\\": 3230.0, \\\"y\\\": 839900.0}, {\\\"x\\\": 1360.0, \\\"y\\\": 200000.0}, {\\\"x\\\": 1850.0, \\\"y\\\": 300000.0}, {\\\"x\\\": 1180.0, \\\"y\\\": 530000.0}, {\\\"x\\\": 1654.0, \\\"y\\\": 314950.0}, {\\\"x\\\": 1630.0, \\\"y\\\": 255000.0}, {\\\"x\\\": 2160.0, \\\"y\\\": 550000.0}, {\\\"x\\\": 1470.0, \\\"y\\\": 435000.0}, {\\\"x\\\": 1660.0, \\\"y\\\": 234000.0}, {\\\"x\\\": 2500.0, \\\"y\\\": 615000.0}, {\\\"x\\\": 1410.0, \\\"y\\\": 205000.0}, {\\\"x\\\": 1730.0, \\\"y\\\": 384000.0}, {\\\"x\\\": 2050.0, \\\"y\\\": 324000.0}, {\\\"x\\\": 1800.0, \\\"y\\\": 645000.0}, {\\\"x\\\": 1000.0, \\\"y\\\": 570000.0}, {\\\"x\\\": 1920.0, \\\"y\\\": 324000.0}, {\\\"x\\\": 1100.0, \\\"y\\\": 270000.0}, {\\\"x\\\": 1730.0, \\\"y\\\": 290000.0}, {\\\"x\\\": 1390.0, \\\"y\\\": 250000.0}, {\\\"x\\\": 1520.0, \\\"y\\\": 342000.0}, {\\\"x\\\": 1340.0, \\\"y\\\": 255000.0}, {\\\"x\\\": 2750.0, \\\"y\\\": 800000.0}, {\\\"x\\\": 1430.0, \\\"y\\\": 451000.0}, {\\\"x\\\": 2860.0, \\\"y\\\": 990000.0}, {\\\"x\\\": 1860.0, \\\"y\\\": 288400.0}, {\\\"x\\\": 1690.0, \\\"y\\\": 420000.0}, {\\\"x\\\": 1370.0, \\\"y\\\": 359000.0}, {\\\"x\\\": 2260.0, \\\"y\\\": 390000.0}, {\\\"x\\\": 1320.0, \\\"y\\\": 300000.0}, {\\\"x\\\": 2030.0, \\\"y\\\": 545000.0}, {\\\"x\\\": 1920.0, \\\"y\\\": 288349.0}, {\\\"x\\\": 1660.0, \\\"y\\\": 299900.0}, {\\\"x\\\": 2090.0, \\\"y\\\": 891000.0}, {\\\"x\\\": 2680.0, \\\"y\\\": 1200000.0}, {\\\"x\\\": 2820.0, \\\"y\\\": 378000.0}, {\\\"x\\\": 1850.0, \\\"y\\\": 299995.0}, {\\\"x\\\": 1710.0, \\\"y\\\": 253000.0}, {\\\"x\\\": 1980.0, \\\"y\\\": 350000.0}, {\\\"x\\\": 1290.0, \\\"y\\\": 565000.0}, {\\\"x\\\": 1490.0, \\\"y\\\": 315000.0}, {\\\"x\\\": 1990.0, \\\"y\\\": 570000.0}, {\\\"x\\\": 2010.0, \\\"y\\\": 971000.0}, {\\\"x\\\": 1460.0, \\\"y\\\": 915000.0}, {\\\"x\\\": 2150.0, \\\"y\\\": 419000.0}, {\\\"x\\\": 1870.0, \\\"y\\\": 260000.0}, {\\\"x\\\": 2260.0, \\\"y\\\": 1321500.0}, {\\\"x\\\": 1660.0, \\\"y\\\": 369950.0}, {\\\"x\\\": 3600.0, \\\"y\\\": 1029900.0}, {\\\"x\\\": 1360.0, \\\"y\\\": 435000.0}, {\\\"x\\\": 2600.0, \\\"y\\\": 601000.0}, {\\\"x\\\": 1730.0, \\\"y\\\": 460500.0}, {\\\"x\\\": 1920.0, \\\"y\\\": 720000.0}, {\\\"x\\\": 2840.0, \\\"y\\\": 851000.0}, {\\\"x\\\": 2300.0, \\\"y\\\": 550000.0}, {\\\"x\\\": 1810.0, \\\"y\\\": 700000.0}, {\\\"x\\\": 1930.0, \\\"y\\\": 323000.0}, {\\\"x\\\": 2080.0, \\\"y\\\": 345500.0}, {\\\"x\\\": 2140.0, \\\"y\\\": 378000.0}, {\\\"x\\\": 1760.0, \\\"y\\\": 650000.0}, {\\\"x\\\": 1650.0, \\\"y\\\": 385000.0}, {\\\"x\\\": 1670.0, \\\"y\\\": 425000.0}, {\\\"x\\\": 1390.0, \\\"y\\\": 210000.0}, {\\\"x\\\": 2740.0, \\\"y\\\": 630000.0}, {\\\"x\\\": 1590.0, \\\"y\\\": 335000.0}, {\\\"x\\\": 1320.0, \\\"y\\\": 196500.0}, {\\\"x\\\": 2290.0, \\\"y\\\": 582800.0}, {\\\"x\\\": 1540.0, \\\"y\\\": 440000.0}, {\\\"x\\\": 2360.0, \\\"y\\\": 752500.0}, {\\\"x\\\": 1500.0, \\\"y\\\": 532500.0}, {\\\"x\\\": 1840.0, \\\"y\\\": 265000.0}, {\\\"x\\\": 2560.0, \\\"y\\\": 397500.0}, {\\\"x\\\": 2120.0, \\\"y\\\": 524250.0}, {\\\"x\\\": 3080.0, \\\"y\\\": 765000.0}, {\\\"x\\\": 2590.0, \\\"y\\\": 648000.0}, {\\\"x\\\": 2100.0, \\\"y\\\": 469500.0}, {\\\"x\\\": 1360.0, \\\"y\\\": 237500.0}, {\\\"x\\\": 1420.0, \\\"y\\\": 216000.0}, {\\\"x\\\": 1270.0, \\\"y\\\": 427200.0}, {\\\"x\\\": 1730.0, \\\"y\\\": 280000.0}, {\\\"x\\\": 2550.0, \\\"y\\\": 718000.0}, {\\\"x\\\": 1870.0, \\\"y\\\": 420000.0}, {\\\"x\\\": 1050.0, \\\"y\\\": 379000.0}, {\\\"x\\\": 1370.0, \\\"y\\\": 326100.0}, {\\\"x\\\": 1365.0, \\\"y\\\": 535000.0}, {\\\"x\\\": 2130.0, \\\"y\\\": 283000.0}, {\\\"x\\\": 1460.0, \\\"y\\\": 260000.0}, {\\\"x\\\": 980.0, \\\"y\\\": 399000.0}, {\\\"x\\\": 1850.0, \\\"y\\\": 484950.0}, {\\\"x\\\": 2260.0, \\\"y\\\": 640000.0}, {\\\"x\\\": 1520.0, \\\"y\\\": 585000.0}, {\\\"x\\\": 2580.0, \\\"y\\\": 645000.0}, {\\\"x\\\": 1590.0, \\\"y\\\": 253000.0}, {\\\"x\\\": 1170.0, \\\"y\\\": 178500.0}, {\\\"x\\\": 1860.0, \\\"y\\\": 291000.0}, {\\\"x\\\": 1310.0, \\\"y\\\": 199950.0}, {\\\"x\\\": 1300.0, \\\"y\\\": 553500.0}, {\\\"x\\\": 1450.0, \\\"y\\\": 189950.0}, {\\\"x\\\": 2250.0, \\\"y\\\": 289000.0}, {\\\"x\\\": 1650.0, \\\"y\\\": 700000.0}, {\\\"x\\\": 1610.0, \\\"y\\\": 270000.0}, {\\\"x\\\": 1840.0, \\\"y\\\": 258000.0}, {\\\"x\\\": 1930.0, \\\"y\\\": 530000.0}, {\\\"x\\\": 1677.0, \\\"y\\\": 245000.0}, {\\\"x\\\": 1350.0, \\\"y\\\": 563000.0}, {\\\"x\\\": 2500.0, \\\"y\\\": 515000.0}, {\\\"x\\\": 2610.0, \\\"y\\\": 325000.0}, {\\\"x\\\": 2220.0, \\\"y\\\": 540000.0}, {\\\"x\\\": 1500.0, \\\"y\\\": 280300.0}, {\\\"x\\\": 1640.0, \\\"y\\\": 460000.0}, {\\\"x\\\": 2140.0, \\\"y\\\": 475000.0}, {\\\"x\\\": 2830.0, \\\"y\\\": 900000.0}, {\\\"x\\\": 1810.0, \\\"y\\\": 538200.0}, {\\\"x\\\": 2230.0, \\\"y\\\": 429000.0}, {\\\"x\\\": 1490.0, \\\"y\\\": 164808.0}, {\\\"x\\\": 1970.0, \\\"y\\\": 520000.0}, {\\\"x\\\": 1800.0, \\\"y\\\": 475000.0}, {\\\"x\\\": 1530.0, \\\"y\\\": 283000.0}, {\\\"x\\\": 1930.0, \\\"y\\\": 321500.0}, {\\\"x\\\": 3330.0, \\\"y\\\": 840000.0}, {\\\"x\\\": 1370.0, \\\"y\\\": 287000.0}, {\\\"x\\\": 1650.0, \\\"y\\\": 375000.0}, {\\\"x\\\": 1330.0, \\\"y\\\": 349500.0}, {\\\"x\\\": 1140.0, \\\"y\\\": 446450.0}, {\\\"x\\\": 1930.0, \\\"y\\\": 315000.0}, {\\\"x\\\": 1190.0, \\\"y\\\": 271310.0}, {\\\"x\\\": 1330.0, \\\"y\\\": 315000.0}, {\\\"x\\\": 1880.0, \\\"y\\\": 245000.0}, {\\\"x\\\": 1380.0, \\\"y\\\": 543115.0}, {\\\"x\\\": 1190.0, \\\"y\\\": 900000.0}, {\\\"x\\\": 3640.0, \\\"y\\\": 2450000.0}, {\\\"x\\\": 1670.0, \\\"y\\\": 554000.0}, {\\\"x\\\": 1690.0, \\\"y\\\": 249900.0}, {\\\"x\\\": 3460.0, \\\"y\\\": 768000.0}, {\\\"x\\\": 3140.0, \\\"y\\\": 980000.0}, {\\\"x\\\": 1950.0, \\\"y\\\": 395000.0}, {\\\"x\\\": 1360.0, \\\"y\\\": 415000.0}, {\\\"x\\\": 2430.0, \\\"y\\\": 380000.0}, {\\\"x\\\": 2170.0, \\\"y\\\": 566000.0}, {\\\"x\\\": 1502.0, \\\"y\\\": 218500.0}, {\\\"x\\\": 2200.0, \\\"y\\\": 550000.0}, {\\\"x\\\": 1420.0, \\\"y\\\": 512031.0}, {\\\"x\\\": 1660.0, \\\"y\\\": 197500.0}, {\\\"x\\\": 1780.0, \\\"y\\\": 470000.0}, {\\\"x\\\": 2320.0, \\\"y\\\": 590000.0}, {\\\"x\\\": 2030.0, \\\"y\\\": 465000.0}, {\\\"x\\\": 1850.0, \\\"y\\\": 499000.0}, {\\\"x\\\": 2260.0, \\\"y\\\": 515000.0}, {\\\"x\\\": 2300.0, \\\"y\\\": 716500.0}, {\\\"x\\\": 1440.0, \\\"y\\\": 410000.0}, {\\\"x\\\": 1750.0, \\\"y\\\": 850000.0}, {\\\"x\\\": 3440.0, \\\"y\\\": 1050000.0}, {\\\"x\\\": 2730.0, \\\"y\\\": 648000.0}, {\\\"x\\\": 1250.0, \\\"y\\\": 620000.0}, {\\\"x\\\": 4100.0, \\\"y\\\": 935000.0}, {\\\"x\\\": 1140.0, \\\"y\\\": 379000.0}, {\\\"x\\\": 1460.0, \\\"y\\\": 699000.0}, {\\\"x\\\": 1860.0, \\\"y\\\": 528000.0}, {\\\"x\\\": 2200.0, \\\"y\\\": 425000.0}, {\\\"x\\\": 1220.0, \\\"y\\\": 249500.0}, {\\\"x\\\": 3720.0, \\\"y\\\": 1035480.0}, {\\\"x\\\": 2790.0, \\\"y\\\": 790000.0}, {\\\"x\\\": 1750.0, \\\"y\\\": 399950.0}, {\\\"x\\\": 1910.0, \\\"y\\\": 275000.0}, {\\\"x\\\": 1880.0, \\\"y\\\": 550000.0}, {\\\"x\\\": 1790.0, \\\"y\\\": 140000.0}, {\\\"x\\\": 1760.0, \\\"y\\\": 250000.0}, {\\\"x\\\": 2050.0, \\\"y\\\": 318000.0}, {\\\"x\\\": 3050.0, \\\"y\\\": 505000.0}, {\\\"x\\\": 2090.0, \\\"y\\\": 470500.0}, {\\\"x\\\": 1380.0, \\\"y\\\": 360000.0}, {\\\"x\\\": 2940.0, \\\"y\\\": 1242500.0}, {\\\"x\\\": 2560.0, \\\"y\\\": 986000.0}, {\\\"x\\\": 1060.0, \\\"y\\\": 515000.0}, {\\\"x\\\": 1160.0, \\\"y\\\": 320000.0}, {\\\"x\\\": 1470.0, \\\"y\\\": 310000.0}, {\\\"x\\\": 990.0, \\\"y\\\": 356700.0}, {\\\"x\\\": 1840.0, \\\"y\\\": 775000.0}, {\\\"x\\\": 1140.0, \\\"y\\\": 325000.0}, {\\\"x\\\": 1740.0, \\\"y\\\": 208000.0}, {\\\"x\\\": 2440.0, \\\"y\\\": 825000.0}, {\\\"x\\\": 2390.0, \\\"y\\\": 515000.0}, {\\\"x\\\": 1940.0, \\\"y\\\": 490000.0}, {\\\"x\\\": 2820.0, \\\"y\\\": 675000.0}, {\\\"x\\\": 1340.0, \\\"y\\\": 360000.0}, {\\\"x\\\": 1340.0, \\\"y\\\": 550000.0}, {\\\"x\\\": 1400.0, \\\"y\\\": 225000.0}, {\\\"x\\\": 2260.0, \\\"y\\\": 500000.0}, {\\\"x\\\": 2110.0, \\\"y\\\": 385000.0}, {\\\"x\\\": 2890.0, \\\"y\\\": 837700.0}, {\\\"x\\\": 1560.0, \\\"y\\\": 448000.0}, {\\\"x\\\": 2600.0, \\\"y\\\": 730000.0}, {\\\"x\\\": 2240.0, \\\"y\\\": 575000.0}, {\\\"x\\\": 1460.0, \\\"y\\\": 430000.0}, {\\\"x\\\": 1600.0, \\\"y\\\": 435000.0}, {\\\"x\\\": 1200.0, \\\"y\\\": 241000.0}, {\\\"x\\\": 2120.0, \\\"y\\\": 453500.0}, {\\\"x\\\": 1050.0, \\\"y\\\": 285000.0}, {\\\"x\\\": 860.0, \\\"y\\\": 151000.0}, {\\\"x\\\": 4750.0, \\\"y\\\": 1570000.0}, {\\\"x\\\": 1320.0, \\\"y\\\": 631000.0}, {\\\"x\\\": 1580.0, \\\"y\\\": 285000.0}, {\\\"x\\\": 1140.0, \\\"y\\\": 195000.0}, {\\\"x\\\": 2720.0, \\\"y\\\": 817500.0}, {\\\"x\\\": 1490.0, \\\"y\\\": 550000.0}, {\\\"x\\\": 3000.0, \\\"y\\\": 1127000.0}, {\\\"x\\\": 1910.0, \\\"y\\\": 609850.0}, {\\\"x\\\": 1525.0, \\\"y\\\": 200000.0}, {\\\"x\\\": 2960.0, \\\"y\\\": 367000.0}, {\\\"x\\\": 2200.0, \\\"y\\\": 285167.0}, {\\\"x\\\": 1270.0, \\\"y\\\": 275000.0}, {\\\"x\\\": 2410.0, \\\"y\\\": 350900.0}, {\\\"x\\\": 2360.0, \\\"y\\\": 660000.0}, {\\\"x\\\": 1760.0, \\\"y\\\": 525000.0}, {\\\"x\\\": 1160.0, \\\"y\\\": 262000.0}, {\\\"x\\\": 1500.0, \\\"y\\\": 690000.0}, {\\\"x\\\": 3160.0, \\\"y\\\": 624000.0}, {\\\"x\\\": 1130.0, \\\"y\\\": 353000.0}, {\\\"x\\\": 1720.0, \\\"y\\\": 552500.0}, {\\\"x\\\": 1550.0, \\\"y\\\": 224500.0}, {\\\"x\\\": 1100.0, \\\"y\\\": 239000.0}, {\\\"x\\\": 3950.0, \\\"y\\\": 975000.0}, {\\\"x\\\": 5790.0, \\\"y\\\": 1200000.0}, {\\\"x\\\": 1690.0, \\\"y\\\": 505000.0}, {\\\"x\\\": 1650.0, \\\"y\\\": 302000.0}, {\\\"x\\\": 760.0, \\\"y\\\": 170000.0}, {\\\"x\\\": 1730.0, \\\"y\\\": 195000.0}, {\\\"x\\\": 1380.0, \\\"y\\\": 272000.0}, {\\\"x\\\": 1380.0, \\\"y\\\": 369000.0}, {\\\"x\\\": 1500.0, \\\"y\\\": 332500.0}, {\\\"x\\\": 2040.0, \\\"y\\\": 515000.0}, {\\\"x\\\": 1820.0, \\\"y\\\": 269000.0}, {\\\"x\\\": 3090.0, \\\"y\\\": 1278000.0}, {\\\"x\\\": 1660.0, \\\"y\\\": 303000.0}, {\\\"x\\\": 1850.0, \\\"y\\\": 420000.0}, {\\\"x\\\": 1800.0, \\\"y\\\": 400000.0}, {\\\"x\\\": 1420.0, \\\"y\\\": 225000.0}, {\\\"x\\\": 1310.0, \\\"y\\\": 219000.0}, {\\\"x\\\": 2490.0, \\\"y\\\": 605000.0}, {\\\"x\\\": 1250.0, \\\"y\\\": 625000.0}, {\\\"x\\\": 1380.0, \\\"y\\\": 380000.0}, {\\\"x\\\": 1710.0, \\\"y\\\": 620000.0}, {\\\"x\\\": 2850.0, \\\"y\\\": 687500.0}, {\\\"x\\\": 1530.0, \\\"y\\\": 225500.0}, {\\\"x\\\": 1980.0, \\\"y\\\": 252500.0}, {\\\"x\\\": 1840.0, \\\"y\\\": 510000.0}, {\\\"x\\\": 2260.0, \\\"y\\\": 510000.0}, {\\\"x\\\": 1440.0, \\\"y\\\": 725000.0}, {\\\"x\\\": 1160.0, \\\"y\\\": 75000.0}, {\\\"x\\\": 1370.0, \\\"y\\\": 492000.0}, {\\\"x\\\": 1470.0, \\\"y\\\": 425000.0}, {\\\"x\\\": 2630.0, \\\"y\\\": 1955000.0}, {\\\"x\\\": 1860.0, \\\"y\\\": 298900.0}, {\\\"x\\\": 2990.0, \\\"y\\\": 699000.0}, {\\\"x\\\": 1560.0, \\\"y\\\": 310000.0}, {\\\"x\\\": 1500.0, \\\"y\\\": 350000.0}, {\\\"x\\\": 2300.0, \\\"y\\\": 790000.0}, {\\\"x\\\": 2230.0, \\\"y\\\": 305000.0}, {\\\"x\\\": 1610.0, \\\"y\\\": 315000.0}, {\\\"x\\\": 1140.0, \\\"y\\\": 267500.0}, {\\\"x\\\": 3030.0, \\\"y\\\": 1750000.0}, {\\\"x\\\": 1940.0, \\\"y\\\": 435000.0}, {\\\"x\\\": 2010.0, \\\"y\\\": 482500.0}, {\\\"x\\\": 3430.0, \\\"y\\\": 5110800.0}, {\\\"x\\\": 1860.0, \\\"y\\\": 439995.0}, {\\\"x\\\": 2080.0, \\\"y\\\": 460000.0}, {\\\"x\\\": 1190.0, \\\"y\\\": 194000.0}, {\\\"x\\\": 880.0, \\\"y\\\": 290000.0}, {\\\"x\\\": 1370.0, \\\"y\\\": 274700.0}, {\\\"x\\\": 1510.0, \\\"y\\\": 900000.0}, {\\\"x\\\": 3470.0, \\\"y\\\": 1150000.0}, {\\\"x\\\": 2350.0, \\\"y\\\": 605000.0}, {\\\"x\\\": 1970.0, \\\"y\\\": 359000.0}, {\\\"x\\\": 1810.0, \\\"y\\\": 850000.0}, {\\\"x\\\": 1550.0, \\\"y\\\": 505000.0}, {\\\"x\\\": 2790.0, \\\"y\\\": 565000.0}, {\\\"x\\\": 1550.0, \\\"y\\\": 585000.0}, {\\\"x\\\": 1920.0, \\\"y\\\": 328000.0}, {\\\"x\\\": 2420.0, \\\"y\\\": 749950.0}, {\\\"x\\\": 3240.0, \\\"y\\\": 826000.0}, {\\\"x\\\": 1710.0, \\\"y\\\": 535000.0}, {\\\"x\\\": 2880.0, \\\"y\\\": 925000.0}, {\\\"x\\\": 1650.0, \\\"y\\\": 875000.0}, {\\\"x\\\": 3030.0, \\\"y\\\": 902000.0}, {\\\"x\\\": 1840.0, \\\"y\\\": 423000.0}, {\\\"x\\\": 2080.0, \\\"y\\\": 235000.0}, {\\\"x\\\": 2234.0, \\\"y\\\": 545000.0}, {\\\"x\\\": 1270.0, \\\"y\\\": 343000.0}, {\\\"x\\\": 1900.0, \\\"y\\\": 334950.0}, {\\\"x\\\": 1790.0, \\\"y\\\": 405000.0}, {\\\"x\\\": 1440.0, \\\"y\\\": 220000.0}, {\\\"x\\\": 960.0, \\\"y\\\": 173000.0}, {\\\"x\\\": 1710.0, \\\"y\\\": 655000.0}, {\\\"x\\\": 890.0, \\\"y\\\": 406000.0}, {\\\"x\\\": 2360.0, \\\"y\\\": 632000.0}, {\\\"x\\\": 1630.0, \\\"y\\\": 357000.0}, {\\\"x\\\": 1200.0, \\\"y\\\": 361000.0}, {\\\"x\\\": 1160.0, \\\"y\\\": 277000.0}, {\\\"x\\\": 3050.0, \\\"y\\\": 630000.0}, {\\\"x\\\": 2210.0, \\\"y\\\": 254000.0}, {\\\"x\\\": 2110.0, \\\"y\\\": 472800.0}, {\\\"x\\\": 2180.0, \\\"y\\\": 263000.0}, {\\\"x\\\": 2180.0, \\\"y\\\": 510000.0}, {\\\"x\\\": 1250.0, \\\"y\\\": 179950.0}, {\\\"x\\\": 2020.0, \\\"y\\\": 525000.0}, {\\\"x\\\": 1340.0, \\\"y\\\": 479000.0}, {\\\"x\\\": 1730.0, \\\"y\\\": 651000.0}, {\\\"x\\\": 3210.0, \\\"y\\\": 949000.0}, {\\\"x\\\": 1830.0, \\\"y\\\": 392400.0}, {\\\"x\\\": 1680.0, \\\"y\\\": 585000.0}, {\\\"x\\\": 2480.0, \\\"y\\\": 460000.0}, {\\\"x\\\": 1240.0, \\\"y\\\": 470000.0}, {\\\"x\\\": 1520.0, \\\"y\\\": 245000.0}, {\\\"x\\\": 2490.0, \\\"y\\\": 500000.0}, {\\\"x\\\": 2090.0, \\\"y\\\": 455000.0}, {\\\"x\\\": 2620.0, \\\"y\\\": 485500.0}, {\\\"x\\\": 3890.0, \\\"y\\\": 1875000.0}, {\\\"x\\\": 1480.0, \\\"y\\\": 100000.0}, {\\\"x\\\": 1550.0, \\\"y\\\": 307000.0}, {\\\"x\\\": 2780.0, \\\"y\\\": 475000.0}, {\\\"x\\\": 2070.0, \\\"y\\\": 330000.0}, {\\\"x\\\": 1440.0, \\\"y\\\": 130000.0}, {\\\"x\\\": 2370.0, \\\"y\\\": 320000.0}, {\\\"x\\\": 1390.0, \\\"y\\\": 735000.0}, {\\\"x\\\": 1340.0, \\\"y\\\": 365000.0}, {\\\"x\\\": 1350.0, \\\"y\\\": 234000.0}, {\\\"x\\\": 1710.0, \\\"y\\\": 211000.0}, {\\\"x\\\": 1720.0, \\\"y\\\": 680000.0}, {\\\"x\\\": 2800.0, \\\"y\\\": 457000.0}, {\\\"x\\\": 1640.0, \\\"y\\\": 349000.0}, {\\\"x\\\": 1910.0, \\\"y\\\": 360000.0}, {\\\"x\\\": 2330.0, \\\"y\\\": 350000.0}, {\\\"x\\\": 1010.0, \\\"y\\\": 208000.0}, {\\\"x\\\": 1930.0, \\\"y\\\": 250275.0}, {\\\"x\\\": 1930.0, \\\"y\\\": 435000.0}, {\\\"x\\\": 1440.0, \\\"y\\\": 270000.0}, {\\\"x\\\": 2830.0, \\\"y\\\": 438000.0}, {\\\"x\\\": 2300.0, \\\"y\\\": 659000.0}, {\\\"x\\\": 2020.0, \\\"y\\\": 645000.0}, {\\\"x\\\": 2450.0, \\\"y\\\": 685100.0}, {\\\"x\\\": 2150.0, \\\"y\\\": 350000.0}, {\\\"x\\\": 2550.0, \\\"y\\\": 375000.0}, {\\\"x\\\": 2220.0, \\\"y\\\": 170000.0}, {\\\"x\\\": 1080.0, \\\"y\\\": 880000.0}, {\\\"x\\\": 1400.0, \\\"y\\\": 410500.0}, {\\\"x\\\": 3600.0, \\\"y\\\": 780000.0}, {\\\"x\\\": 2950.0, \\\"y\\\": 1225000.0}, {\\\"x\\\": 1510.0, \\\"y\\\": 449000.0}, {\\\"x\\\": 1750.0, \\\"y\\\": 546000.0}, {\\\"x\\\": 1680.0, \\\"y\\\": 317000.0}, {\\\"x\\\": 1780.0, \\\"y\\\": 276900.0}, {\\\"x\\\": 1360.0, \\\"y\\\": 399000.0}, {\\\"x\\\": 2440.0, \\\"y\\\": 495000.0}, {\\\"x\\\": 2090.0, \\\"y\\\": 258000.0}, {\\\"x\\\": 2460.0, \\\"y\\\": 600000.0}, {\\\"x\\\": 1120.0, \\\"y\\\": 265000.0}, {\\\"x\\\": 1790.0, \\\"y\\\": 321000.0}, {\\\"x\\\": 1960.0, \\\"y\\\": 682000.0}, {\\\"x\\\": 2360.0, \\\"y\\\": 295700.0}, {\\\"x\\\": 2450.0, \\\"y\\\": 609000.0}, {\\\"x\\\": 2460.0, \\\"y\\\": 995000.0}, {\\\"x\\\": 2190.0, \\\"y\\\": 530000.0}, {\\\"x\\\": 1550.0, \\\"y\\\": 614000.0}, {\\\"x\\\": 2670.0, \\\"y\\\": 390000.0}, {\\\"x\\\": 2120.0, \\\"y\\\": 467000.0}, {\\\"x\\\": 2060.0, \\\"y\\\": 484000.0}, {\\\"x\\\": 1410.0, \\\"y\\\": 340000.0}, {\\\"x\\\": 2250.0, \\\"y\\\": 302495.0}, {\\\"x\\\": 1400.0, \\\"y\\\": 532500.0}, {\\\"x\\\": 2420.0, \\\"y\\\": 441500.0}, {\\\"x\\\": 1920.0, \\\"y\\\": 470000.0}, {\\\"x\\\": 2830.0, \\\"y\\\": 2300000.0}, {\\\"x\\\": 2800.0, \\\"y\\\": 590000.0}, {\\\"x\\\": 2030.0, \\\"y\\\": 320000.0}, {\\\"x\\\": 1150.0, \\\"y\\\": 363000.0}, {\\\"x\\\": 2880.0, \\\"y\\\": 747500.0}, {\\\"x\\\": 2305.0, \\\"y\\\": 750000.0}, {\\\"x\\\": 1670.0, \\\"y\\\": 831000.0}, {\\\"x\\\": 1970.0, \\\"y\\\": 403000.0}, {\\\"x\\\": 2470.0, \\\"y\\\": 445000.0}, {\\\"x\\\": 1410.0, \\\"y\\\": 345000.0}, {\\\"x\\\": 3110.0, \\\"y\\\": 2260000.0}, {\\\"x\\\": 2040.0, \\\"y\\\": 371025.0}, {\\\"x\\\": 1350.0, \\\"y\\\": 355000.0}, {\\\"x\\\": 2060.0, \\\"y\\\": 270000.0}, {\\\"x\\\": 2280.0, \\\"y\\\": 425000.0}, {\\\"x\\\": 1990.0, \\\"y\\\": 364808.0}, {\\\"x\\\": 1710.0, \\\"y\\\": 320000.0}, {\\\"x\\\": 2665.0, \\\"y\\\": 325000.0}, {\\\"x\\\": 1970.0, \\\"y\\\": 350000.0}, {\\\"x\\\": 1650.0, \\\"y\\\": 170000.0}, {\\\"x\\\": 1860.0, \\\"y\\\": 255000.0}, {\\\"x\\\": 2190.0, \\\"y\\\": 550000.0}, {\\\"x\\\": 3620.0, \\\"y\\\": 835000.0}, {\\\"x\\\": 1220.0, \\\"y\\\": 420000.0}, {\\\"x\\\": 1880.0, \\\"y\\\": 925000.0}, {\\\"x\\\": 1320.0, \\\"y\\\": 389250.0}, {\\\"x\\\": 1860.0, \\\"y\\\": 748000.0}, {\\\"x\\\": 1680.0, \\\"y\\\": 284000.0}, {\\\"x\\\": 1680.0, \\\"y\\\": 588000.0}, {\\\"x\\\": 1290.0, \\\"y\\\": 372500.0}, {\\\"x\\\": 1690.0, \\\"y\\\": 285000.0}, {\\\"x\\\": 1570.0, \\\"y\\\": 360000.0}, {\\\"x\\\": 1460.0, \\\"y\\\": 275000.0}, {\\\"x\\\": 1660.0, \\\"y\\\": 428000.0}, {\\\"x\\\": 2560.0, \\\"y\\\": 847000.0}, {\\\"x\\\": 1380.0, \\\"y\\\": 316000.0}, {\\\"x\\\": 2050.0, \\\"y\\\": 375000.0}, {\\\"x\\\": 1560.0, \\\"y\\\": 533000.0}, {\\\"x\\\": 3270.0, \\\"y\\\": 556000.0}, {\\\"x\\\": 1300.0, \\\"y\\\": 225000.0}, {\\\"x\\\": 2710.0, \\\"y\\\": 537250.0}, {\\\"x\\\": 1460.0, \\\"y\\\": 255000.0}, {\\\"x\\\": 2120.0, \\\"y\\\": 530000.0}, {\\\"x\\\": 4320.0, \\\"y\\\": 5300000.0}, {\\\"x\\\": 2650.0, \\\"y\\\": 595000.0}, {\\\"x\\\": 1280.0, \\\"y\\\": 548000.0}, {\\\"x\\\": 1280.0, \\\"y\\\": 234975.0}, {\\\"x\\\": 1750.0, \\\"y\\\": 600000.0}, {\\\"x\\\": 1550.0, \\\"y\\\": 432000.0}, {\\\"x\\\": 1420.0, \\\"y\\\": 455000.0}, {\\\"x\\\": 2080.0, \\\"y\\\": 279950.0}, {\\\"x\\\": 1710.0, \\\"y\\\": 267500.0}, {\\\"x\\\": 1890.0, \\\"y\\\": 620000.0}, {\\\"x\\\": 980.0, \\\"y\\\": 110000.0}, {\\\"x\\\": 1480.0, \\\"y\\\": 625000.0}, {\\\"x\\\": 1260.0, \\\"y\\\": 389000.0}, {\\\"x\\\": 2090.0, \\\"y\\\": 1200000.0}, {\\\"x\\\": 2510.0, \\\"y\\\": 788500.0}, {\\\"x\\\": 2100.0, \\\"y\\\": 567000.0}, {\\\"x\\\": 2690.0, \\\"y\\\": 515000.0}, {\\\"x\\\": 2430.0, \\\"y\\\": 605000.0}, {\\\"x\\\": 1180.0, \\\"y\\\": 430000.0}, {\\\"x\\\": 2360.0, \\\"y\\\": 805000.0}, {\\\"x\\\": 1530.0, \\\"y\\\": 567500.0}, {\\\"x\\\": 2020.0, \\\"y\\\": 647500.0}, {\\\"x\\\": 1500.0, \\\"y\\\": 495000.0}, {\\\"x\\\": 3370.0, \\\"y\\\": 825000.0}, {\\\"x\\\": 2390.0, \\\"y\\\": 435000.0}, {\\\"x\\\": 1520.0, \\\"y\\\": 445950.0}, {\\\"x\\\": 2860.0, \\\"y\\\": 960000.0}, {\\\"x\\\": 1770.0, \\\"y\\\": 780000.0}, {\\\"x\\\": 1930.0, \\\"y\\\": 274500.0}, {\\\"x\\\": 1509.0, \\\"y\\\": 729953.0}, {\\\"x\\\": 1230.0, \\\"y\\\": 464950.0}, {\\\"x\\\": 3050.0, \\\"y\\\": 620000.0}, {\\\"x\\\": 3080.0, \\\"y\\\": 735000.0}, {\\\"x\\\": 1890.0, \\\"y\\\": 450000.0}, {\\\"x\\\": 1140.0, \\\"y\\\": 450000.0}, {\\\"x\\\": 1720.0, \\\"y\\\": 842500.0}, {\\\"x\\\": 1890.0, \\\"y\\\": 360000.0}, {\\\"x\\\": 1277.0, \\\"y\\\": 585000.0}, {\\\"x\\\": 1780.0, \\\"y\\\": 461000.0}, {\\\"x\\\": 1470.0, \\\"y\\\": 345000.0}, {\\\"x\\\": 1550.0, \\\"y\\\": 1075000.0}, {\\\"x\\\": 2420.0, \\\"y\\\": 643000.0}, {\\\"x\\\": 2820.0, \\\"y\\\": 690000.0}, {\\\"x\\\": 1350.0, \\\"y\\\": 282000.0}, {\\\"x\\\": 2140.0, \\\"y\\\": 549000.0}, {\\\"x\\\": 2000.0, \\\"y\\\": 815000.0}, {\\\"x\\\": 3140.0, \\\"y\\\": 2200000.0}, {\\\"x\\\": 2050.0, \\\"y\\\": 700000.0}, {\\\"x\\\": 2720.0, \\\"y\\\": 933399.0}, {\\\"x\\\": 2200.0, \\\"y\\\": 290000.0}, {\\\"x\\\": 1500.0, \\\"y\\\": 372000.0}, {\\\"x\\\": 1500.0, \\\"y\\\": 450000.0}, {\\\"x\\\": 1981.0, \\\"y\\\": 303700.0}, {\\\"x\\\": 2820.0, \\\"y\\\": 672000.0}, {\\\"x\\\": 1480.0, \\\"y\\\": 334000.0}, {\\\"x\\\": 1270.0, \\\"y\\\": 260000.0}, {\\\"x\\\": 1680.0, \\\"y\\\": 749950.0}, {\\\"x\\\": 2030.0, \\\"y\\\": 330000.0}, {\\\"x\\\": 1620.0, \\\"y\\\": 830000.0}, {\\\"x\\\": 2720.0, \\\"y\\\": 1131000.0}, {\\\"x\\\": 1200.0, \\\"y\\\": 320000.0}, {\\\"x\\\": 1520.0, \\\"y\\\": 260000.0}, {\\\"x\\\": 1560.0, \\\"y\\\": 225000.0}, {\\\"x\\\": 1270.0, \\\"y\\\": 279200.0}, {\\\"x\\\": 1530.0, \\\"y\\\": 520000.0}, {\\\"x\\\": 1850.0, \\\"y\\\": 505000.0}, {\\\"x\\\": 1490.0, \\\"y\\\": 234000.0}, {\\\"x\\\": 2790.0, \\\"y\\\": 503000.0}, {\\\"x\\\": 2240.0, \\\"y\\\": 606000.0}, {\\\"x\\\": 1570.0, \\\"y\\\": 433500.0}, {\\\"x\\\": 2210.0, \\\"y\\\": 250000.0}, {\\\"x\\\": 2290.0, \\\"y\\\": 719000.0}, {\\\"x\\\": 1900.0, \\\"y\\\": 381000.0}, {\\\"x\\\": 2434.0, \\\"y\\\": 267000.0}, {\\\"x\\\": 1130.0, \\\"y\\\": 275000.0}, {\\\"x\\\": 2260.0, \\\"y\\\": 651000.0}, {\\\"x\\\": 1850.0, \\\"y\\\": 439000.0}, {\\\"x\\\": 860.0, \\\"y\\\": 325000.0}, {\\\"x\\\": 1340.0, \\\"y\\\": 490000.0}, {\\\"x\\\": 2380.0, \\\"y\\\": 519900.0}, {\\\"x\\\": 2580.0, \\\"y\\\": 545000.0}, {\\\"x\\\": 4640.0, \\\"y\\\": 1062500.0}, {\\\"x\\\": 1480.0, \\\"y\\\": 542000.0}, {\\\"x\\\": 2700.0, \\\"y\\\": 465000.0}, {\\\"x\\\": 1440.0, \\\"y\\\": 408000.0}, {\\\"x\\\": 2242.0, \\\"y\\\": 292000.0}, {\\\"x\\\": 1980.0, \\\"y\\\": 253000.0}, {\\\"x\\\": 890.0, \\\"y\\\": 280000.0}, {\\\"x\\\": 3040.0, \\\"y\\\": 658588.0}, {\\\"x\\\": 2250.0, \\\"y\\\": 635000.0}, {\\\"x\\\": 2340.0, \\\"y\\\": 439000.0}, {\\\"x\\\": 1310.0, \\\"y\\\": 300000.0}, {\\\"x\\\": 1900.0, \\\"y\\\": 345000.0}, {\\\"x\\\": 2190.0, \\\"y\\\": 283500.0}, {\\\"x\\\": 1390.0, \\\"y\\\": 425000.0}, {\\\"x\\\": 2210.0, \\\"y\\\": 685000.0}, {\\\"x\\\": 2480.0, \\\"y\\\": 750000.0}, {\\\"x\\\": 1420.0, \\\"y\\\": 245000.0}, {\\\"x\\\": 1940.0, \\\"y\\\": 585444.0}, {\\\"x\\\": 2880.0, \\\"y\\\": 706000.0}, {\\\"x\\\": 1430.0, \\\"y\\\": 445000.0}, {\\\"x\\\": 1870.0, \\\"y\\\": 241000.0}, {\\\"x\\\": 2410.0, \\\"y\\\": 1175000.0}, {\\\"x\\\": 1500.0, \\\"y\\\": 530000.0}, {\\\"x\\\": 1490.0, \\\"y\\\": 350000.0}, {\\\"x\\\": 2290.0, \\\"y\\\": 1700000.0}, {\\\"x\\\": 1300.0, \\\"y\\\": 389000.0}, {\\\"x\\\": 1980.0, \\\"y\\\": 799000.0}, {\\\"x\\\": 3160.0, \\\"y\\\": 1400000.0}, {\\\"x\\\": 1500.0, \\\"y\\\": 340895.0}, {\\\"x\\\": 2750.0, \\\"y\\\": 780000.0}, {\\\"x\\\": 1320.0, \\\"y\\\": 350000.0}, {\\\"x\\\": 2360.0, \\\"y\\\": 470000.0}, {\\\"x\\\": 3180.0, \\\"y\\\": 914600.0}, {\\\"x\\\": 2900.0, \\\"y\\\": 354000.0}, {\\\"x\\\": 2110.0, \\\"y\\\": 470000.0}, {\\\"x\\\": 1640.0, \\\"y\\\": 715000.0}, {\\\"x\\\": 1640.0, \\\"y\\\": 265000.0}, {\\\"x\\\": 3970.0, \\\"y\\\": 2537000.0}, {\\\"x\\\": 1500.0, \\\"y\\\": 640000.0}, {\\\"x\\\": 1710.0, \\\"y\\\": 290000.0}, {\\\"x\\\": 2750.0, \\\"y\\\": 480000.0}, {\\\"x\\\": 2120.0, \\\"y\\\": 535000.0}, {\\\"x\\\": 1980.0, \\\"y\\\": 907000.0}, {\\\"x\\\": 1380.0, \\\"y\\\": 459000.0}, {\\\"x\\\": 2830.0, \\\"y\\\": 1355000.0}, {\\\"x\\\": 1580.0, \\\"y\\\": 264950.0}, {\\\"x\\\": 1320.0, \\\"y\\\": 352950.0}, {\\\"x\\\": 2010.0, \\\"y\\\": 491500.0}, {\\\"x\\\": 3200.0, \\\"y\\\": 1229000.0}, {\\\"x\\\": 1330.0, \\\"y\\\": 369500.0}, {\\\"x\\\": 2520.0, \\\"y\\\": 566000.0}, {\\\"x\\\": 1480.0, \\\"y\\\": 290000.0}, {\\\"x\\\": 4600.0, \\\"y\\\": 5350000.0}, {\\\"x\\\": 840.0, \\\"y\\\": 180000.0}, {\\\"x\\\": 1610.0, \\\"y\\\": 215000.0}, {\\\"x\\\": 1610.0, \\\"y\\\": 302000.0}, {\\\"x\\\": 1490.0, \\\"y\\\": 352500.0}, {\\\"x\\\": 1150.0, \\\"y\\\": 235867.0}, {\\\"x\\\": 2080.0, \\\"y\\\": 500000.0}, {\\\"x\\\": 1760.0, \\\"y\\\": 382000.0}, {\\\"x\\\": 1200.0, \\\"y\\\": 515000.0}, {\\\"x\\\": 1560.0, \\\"y\\\": 250000.0}, {\\\"x\\\": 1540.0, \\\"y\\\": 672500.0}, {\\\"x\\\": 2480.0, \\\"y\\\": 755000.0}, {\\\"x\\\": 1820.0, \\\"y\\\": 707500.0}, {\\\"x\\\": 1560.0, \\\"y\\\": 459000.0}, {\\\"x\\\": 1380.0, \\\"y\\\": 140000.0}, {\\\"x\\\": 2050.0, \\\"y\\\": 495000.0}, {\\\"x\\\": 2950.0, \\\"y\\\": 757000.0}, {\\\"x\\\": 2950.0, \\\"y\\\": 765000.0}, {\\\"x\\\": 1510.0, \\\"y\\\": 359000.0}, {\\\"x\\\": 1380.0, \\\"y\\\": 440000.0}, {\\\"x\\\": 1630.0, \\\"y\\\": 400000.0}, {\\\"x\\\": 1480.0, \\\"y\\\": 652000.0}, {\\\"x\\\": 1220.0, \\\"y\\\": 260000.0}, {\\\"x\\\": 3290.0, \\\"y\\\": 1328000.0}, {\\\"x\\\": 1390.0, \\\"y\\\": 519500.0}, {\\\"x\\\": 1240.0, \\\"y\\\": 650000.0}, {\\\"x\\\": 2100.0, \\\"y\\\": 280000.0}, {\\\"x\\\": 2080.0, \\\"y\\\": 515000.0}, {\\\"x\\\": 1470.0, \\\"y\\\": 400000.0}, {\\\"x\\\": 2670.0, \\\"y\\\": 652100.0}, {\\\"x\\\": 2214.0, \\\"y\\\": 235000.0}, {\\\"x\\\": 1830.0, \\\"y\\\": 701000.0}, {\\\"x\\\": 2850.0, \\\"y\\\": 640000.0}, {\\\"x\\\": 1600.0, \\\"y\\\": 455800.0}, {\\\"x\\\": 2450.0, \\\"y\\\": 504750.0}, {\\\"x\\\": 2440.0, \\\"y\\\": 483000.0}, {\\\"x\\\": 1162.0, \\\"y\\\": 530000.0}, {\\\"x\\\": 1480.0, \\\"y\\\": 250000.0}, {\\\"x\\\": 1960.0, \\\"y\\\": 229950.0}, {\\\"x\\\": 3950.0, \\\"y\\\": 884744.0}, {\\\"x\\\": 1610.0, \\\"y\\\": 514000.0}, {\\\"x\\\": 2340.0, \\\"y\\\": 532000.0}, {\\\"x\\\": 2380.0, \\\"y\\\": 423000.0}, {\\\"x\\\": 1410.0, \\\"y\\\": 420000.0}, {\\\"x\\\": 2180.0, \\\"y\\\": 521000.0}, {\\\"x\\\": 2360.0, \\\"y\\\": 577000.0}, {\\\"x\\\": 1250.0, \\\"y\\\": 425000.0}, {\\\"x\\\": 2900.0, \\\"y\\\": 495000.0}, {\\\"x\\\": 2570.0, \\\"y\\\": 340000.0}, {\\\"x\\\": 1550.0, \\\"y\\\": 499950.0}, {\\\"x\\\": 2420.0, \\\"y\\\": 1218000.0}, {\\\"x\\\": 2460.0, \\\"y\\\": 720000.0}, {\\\"x\\\": 1440.0, \\\"y\\\": 249000.0}, {\\\"x\\\": 1650.0, \\\"y\\\": 206135.0}, {\\\"x\\\": 1240.0, \\\"y\\\": 300000.0}, {\\\"x\\\": 2170.0, \\\"y\\\": 612000.0}, {\\\"x\\\": 3160.0, \\\"y\\\": 1102030.0}, {\\\"x\\\": 1160.0, \\\"y\\\": 230000.0}, {\\\"x\\\": 1910.0, \\\"y\\\": 850000.0}, {\\\"x\\\": 2140.0, \\\"y\\\": 355000.0}, {\\\"x\\\": 2570.0, \\\"y\\\": 442000.0}, {\\\"x\\\": 3060.0, \\\"y\\\": 399000.0}, {\\\"x\\\": 2600.0, \\\"y\\\": 360000.0}, {\\\"x\\\": 2020.0, \\\"y\\\": 390000.0}, {\\\"x\\\": 2340.0, \\\"y\\\": 413000.0}, {\\\"x\\\": 1020.0, \\\"y\\\": 190000.0}, {\\\"x\\\": 2430.0, \\\"y\\\": 432900.0}, {\\\"x\\\": 2300.0, \\\"y\\\": 621138.0}, {\\\"x\\\": 2080.0, \\\"y\\\": 270000.0}, {\\\"x\\\": 2910.0, \\\"y\\\": 610000.0}, {\\\"x\\\": 1760.0, \\\"y\\\": 500000.0}, {\\\"x\\\": 2250.0, \\\"y\\\": 715000.0}, {\\\"x\\\": 1760.0, \\\"y\\\": 264000.0}, {\\\"x\\\": 1500.0, \\\"y\\\": 550000.0}, {\\\"x\\\": 2090.0, \\\"y\\\": 337000.0}, {\\\"x\\\": 1280.0, \\\"y\\\": 170000.0}, {\\\"x\\\": 1940.0, \\\"y\\\": 405000.0}, {\\\"x\\\": 2790.0, \\\"y\\\": 775000.0}, {\\\"x\\\": 1700.0, \\\"y\\\": 425000.0}, {\\\"x\\\": 2240.0, \\\"y\\\": 713000.0}, {\\\"x\\\": 2490.0, \\\"y\\\": 555000.0}, {\\\"x\\\": 3010.0, \\\"y\\\": 810000.0}, {\\\"x\\\": 5600.0, \\\"y\\\": 1250000.0}, {\\\"x\\\": 2040.0, \\\"y\\\": 819000.0}, {\\\"x\\\": 1690.0, \\\"y\\\": 409900.0}, {\\\"x\\\": 2320.0, \\\"y\\\": 935000.0}, {\\\"x\\\": 2170.0, \\\"y\\\": 657500.0}, {\\\"x\\\": 3820.0, \\\"y\\\": 900000.0}, {\\\"x\\\": 1670.0, \\\"y\\\": 932800.0}, {\\\"x\\\": 2190.0, \\\"y\\\": 391000.0}, {\\\"x\\\": 1650.0, \\\"y\\\": 420000.0}, {\\\"x\\\": 2610.0, \\\"y\\\": 1300000.0}, {\\\"x\\\": 1560.0, \\\"y\\\": 415000.0}, {\\\"x\\\": 1670.0, \\\"y\\\": 350000.0}, {\\\"x\\\": 1660.0, \\\"y\\\": 375000.0}, {\\\"x\\\": 3540.0, \\\"y\\\": 860000.0}, {\\\"x\\\": 2220.0, \\\"y\\\": 495000.0}, {\\\"x\\\": 1550.0, \\\"y\\\": 250000.0}, {\\\"x\\\": 2400.0, \\\"y\\\": 365000.0}, {\\\"x\\\": 1540.0, \\\"y\\\": 503000.0}, {\\\"x\\\": 1390.0, \\\"y\\\": 150000.0}, {\\\"x\\\": 1420.0, \\\"y\\\": 450000.0}, {\\\"x\\\": 2550.0, \\\"y\\\": 355000.0}, {\\\"x\\\": 1910.0, \\\"y\\\": 245000.0}, {\\\"x\\\": 1720.0, \\\"y\\\": 265900.0}, {\\\"x\\\": 1840.0, \\\"y\\\": 299000.0}, {\\\"x\\\": 2850.0, \\\"y\\\": 957500.0}, {\\\"x\\\": 1340.0, \\\"y\\\": 343000.0}, {\\\"x\\\": 1975.0, \\\"y\\\": 307500.0}, {\\\"x\\\": 3950.0, \\\"y\\\": 937500.0}, {\\\"x\\\": 1260.0, \\\"y\\\": 610000.0}, {\\\"x\\\": 2080.0, \\\"y\\\": 720000.0}, {\\\"x\\\": 1330.0, \\\"y\\\": 610000.0}, {\\\"x\\\": 1560.0, \\\"y\\\": 434500.0}, {\\\"x\\\": 1860.0, \\\"y\\\": 602500.0}, {\\\"x\\\": 2180.0, \\\"y\\\": 607010.0}, {\\\"x\\\": 1320.0, \\\"y\\\": 610000.0}, {\\\"x\\\": 3720.0, \\\"y\\\": 828500.0}, {\\\"x\\\": 1120.0, \\\"y\\\": 199990.0}, {\\\"x\\\": 1480.0, \\\"y\\\": 294000.0}, {\\\"x\\\": 2890.0, \\\"y\\\": 789500.0}, {\\\"x\\\": 3510.0, \\\"y\\\": 797000.0}, {\\\"x\\\": 2460.0, \\\"y\\\": 539950.0}, {\\\"x\\\": 1940.0, \\\"y\\\": 284950.0}, {\\\"x\\\": 1900.0, \\\"y\\\": 776500.0}, {\\\"x\\\": 2030.0, \\\"y\\\": 525000.0}, {\\\"x\\\": 2400.0, \\\"y\\\": 303000.0}, {\\\"x\\\": 2280.0, \\\"y\\\": 722080.0}, {\\\"x\\\": 1320.0, \\\"y\\\": 140000.0}, {\\\"x\\\": 1320.0, \\\"y\\\": 235000.0}, {\\\"x\\\": 1200.0, \\\"y\\\": 440000.0}, {\\\"x\\\": 1600.0, \\\"y\\\": 605000.0}, {\\\"x\\\": 1380.0, \\\"y\\\": 380000.0}, {\\\"x\\\": 1100.0, \\\"y\\\": 352000.0}, {\\\"x\\\": 2500.0, \\\"y\\\": 420000.0}, {\\\"x\\\": 2530.0, \\\"y\\\": 1175000.0}, {\\\"x\\\": 3030.0, \\\"y\\\": 1375000.0}, {\\\"x\\\": 1270.0, \\\"y\\\": 300000.0}, {\\\"x\\\": 4800.0, \\\"y\\\": 1150000.0}, {\\\"x\\\": 1530.0, \\\"y\\\": 453500.0}, {\\\"x\\\": 2220.0, \\\"y\\\": 443500.0}, {\\\"x\\\": 1300.0, \\\"y\\\": 332000.0}, {\\\"x\\\": 2250.0, \\\"y\\\": 655000.0}, {\\\"x\\\": 1420.0, \\\"y\\\": 475000.0}, {\\\"x\\\": 1630.0, \\\"y\\\": 372500.0}, {\\\"x\\\": 3210.0, \\\"y\\\": 1050000.0}, {\\\"x\\\": 1580.0, \\\"y\\\": 500000.0}, {\\\"x\\\": 2720.0, \\\"y\\\": 900000.0}, {\\\"x\\\": 1390.0, \\\"y\\\": 327500.0}, {\\\"x\\\": 1660.0, \\\"y\\\": 390000.0}, {\\\"x\\\": 1510.0, \\\"y\\\": 451101.0}, {\\\"x\\\": 1900.0, \\\"y\\\": 455000.0}, {\\\"x\\\": 3350.0, \\\"y\\\": 650000.0}, {\\\"x\\\": 2480.0, \\\"y\\\": 895000.0}, {\\\"x\\\": 2350.0, \\\"y\\\": 800000.0}, {\\\"x\\\": 2550.0, \\\"y\\\": 703770.0}, {\\\"x\\\": 1680.0, \\\"y\\\": 249950.0}, {\\\"x\\\": 1370.0, \\\"y\\\": 512000.0}, {\\\"x\\\": 2610.0, \\\"y\\\": 780000.0}, {\\\"x\\\": 2290.0, \\\"y\\\": 336000.0}, {\\\"x\\\": 1350.0, \\\"y\\\": 285000.0}, {\\\"x\\\": 1700.0, \\\"y\\\": 229900.0}, {\\\"x\\\": 1660.0, \\\"y\\\": 667500.0}, {\\\"x\\\": 1390.0, \\\"y\\\": 378000.0}, {\\\"x\\\": 1730.0, \\\"y\\\": 454000.0}, {\\\"x\\\": 2550.0, \\\"y\\\": 537500.0}, {\\\"x\\\": 1590.0, \\\"y\\\": 425000.0}, {\\\"x\\\": 2590.0, \\\"y\\\": 290000.0}, {\\\"x\\\": 1660.0, \\\"y\\\": 349500.0}, {\\\"x\\\": 1520.0, \\\"y\\\": 370000.0}, {\\\"x\\\": 2040.0, \\\"y\\\": 549500.0}, {\\\"x\\\": 740.0, \\\"y\\\": 245000.0}, {\\\"x\\\": 1480.0, \\\"y\\\": 208000.0}, {\\\"x\\\": 1970.0, \\\"y\\\": 248000.0}, {\\\"x\\\": 2800.0, \\\"y\\\": 610000.0}, {\\\"x\\\": 1910.0, \\\"y\\\": 550000.0}, {\\\"x\\\": 1580.0, \\\"y\\\": 750000.0}, {\\\"x\\\": 1980.0, \\\"y\\\": 192000.0}, {\\\"x\\\": 1700.0, \\\"y\\\": 169317.0}, {\\\"x\\\": 2030.0, \\\"y\\\": 1198000.0}, {\\\"x\\\": 2640.0, \\\"y\\\": 880000.0}, {\\\"x\\\": 1300.0, \\\"y\\\": 210000.0}, {\\\"x\\\": 1600.0, \\\"y\\\": 180500.0}, {\\\"x\\\": 2310.0, \\\"y\\\": 540000.0}, {\\\"x\\\": 2600.0, \\\"y\\\": 520000.0}, {\\\"x\\\": 1660.0, \\\"y\\\": 177500.0}, {\\\"x\\\": 2350.0, \\\"y\\\": 415000.0}, {\\\"x\\\": 1620.0, \\\"y\\\": 495000.0}, {\\\"x\\\": 1580.0, \\\"y\\\": 325000.0}, {\\\"x\\\": 1470.0, \\\"y\\\": 440000.0}, {\\\"x\\\": 1840.0, \\\"y\\\": 411000.0}, {\\\"x\\\": 2030.0, \\\"y\\\": 810000.0}, {\\\"x\\\": 1950.0, \\\"y\\\": 561750.0}, {\\\"x\\\": 2900.0, \\\"y\\\": 835100.0}, {\\\"x\\\": 1950.0, \\\"y\\\": 450000.0}, {\\\"x\\\": 1460.0, \\\"y\\\": 238000.0}, {\\\"x\\\": 1330.0, \\\"y\\\": 299000.0}, {\\\"x\\\": 1250.0, \\\"y\\\": 570000.0}, {\\\"x\\\": 3110.0, \\\"y\\\": 340000.0}, {\\\"x\\\": 1380.0, \\\"y\\\": 450000.0}, {\\\"x\\\": 1780.0, \\\"y\\\": 272750.0}, {\\\"x\\\": 1600.0, \\\"y\\\": 520000.0}, {\\\"x\\\": 1460.0, \\\"y\\\": 284950.0}, {\\\"x\\\": 1990.0, \\\"y\\\": 255000.0}, {\\\"x\\\": 1200.0, \\\"y\\\": 231500.0}, {\\\"x\\\": 2330.0, \\\"y\\\": 415000.0}, {\\\"x\\\": 2790.0, \\\"y\\\": 330000.0}, {\\\"x\\\": 2040.0, \\\"y\\\": 365000.0}, {\\\"x\\\": 1770.0, \\\"y\\\": 425000.0}, {\\\"x\\\": 1610.0, \\\"y\\\": 400000.0}, {\\\"x\\\": 2240.0, \\\"y\\\": 335000.0}, {\\\"x\\\": 1780.0, \\\"y\\\": 342000.0}, {\\\"x\\\": 1800.0, \\\"y\\\": 490000.0}, {\\\"x\\\": 1440.0, \\\"y\\\": 331500.0}, {\\\"x\\\": 2340.0, \\\"y\\\": 960000.0}, {\\\"x\\\": 2620.0, \\\"y\\\": 720500.0}, {\\\"x\\\": 1500.0, \\\"y\\\": 830000.0}, {\\\"x\\\": 1660.0, \\\"y\\\": 662990.0}, {\\\"x\\\": 990.0, \\\"y\\\": 220000.0}, {\\\"x\\\": 1350.0, \\\"y\\\": 349950.0}, {\\\"x\\\": 1810.0, \\\"y\\\": 550000.0}, {\\\"x\\\": 860.0, \\\"y\\\": 396000.0}, {\\\"x\\\": 1470.0, \\\"y\\\": 635000.0}, {\\\"x\\\": 1440.0, \\\"y\\\": 293000.0}, {\\\"x\\\": 1820.0, \\\"y\\\": 339000.0}, {\\\"x\\\": 1870.0, \\\"y\\\": 285000.0}, {\\\"x\\\": 1470.0, \\\"y\\\": 775000.0}, {\\\"x\\\": 1540.0, \\\"y\\\": 224000.0}, {\\\"x\\\": 3990.0, \\\"y\\\": 2250000.0}, {\\\"x\\\": 1210.0, \\\"y\\\": 165050.0}, {\\\"x\\\": 1310.0, \\\"y\\\": 275000.0}, {\\\"x\\\": 1400.0, \\\"y\\\": 445000.0}, {\\\"x\\\": 2900.0, \\\"y\\\": 510000.0}, {\\\"x\\\": 2320.0, \\\"y\\\": 1230000.0}, {\\\"x\\\": 1540.0, \\\"y\\\": 390000.0}, {\\\"x\\\": 2250.0, \\\"y\\\": 460000.0}, {\\\"x\\\": 2620.0, \\\"y\\\": 700000.0}, {\\\"x\\\": 3170.0, \\\"y\\\": 874150.0}, {\\\"x\\\": 2420.0, \\\"y\\\": 470000.0}, {\\\"x\\\": 1440.0, \\\"y\\\": 374000.0}, {\\\"x\\\": 2020.0, \\\"y\\\": 510000.0}, {\\\"x\\\": 1220.0, \\\"y\\\": 467000.0}, {\\\"x\\\": 2480.0, \\\"y\\\": 576000.0}, {\\\"x\\\": 1120.0, \\\"y\\\": 196440.0}, {\\\"x\\\": 3330.0, \\\"y\\\": 825000.0}, {\\\"x\\\": 1370.0, \\\"y\\\": 281000.0}, {\\\"x\\\": 1550.0, \\\"y\\\": 326000.0}, {\\\"x\\\": 1576.0, \\\"y\\\": 340000.0}, {\\\"x\\\": 2680.0, \\\"y\\\": 440000.0}, {\\\"x\\\": 2930.0, \\\"y\\\": 749000.0}, {\\\"x\\\": 1490.0, \\\"y\\\": 340000.0}, {\\\"x\\\": 1840.0, \\\"y\\\": 561000.0}, {\\\"x\\\": 1530.0, \\\"y\\\": 270000.0}, {\\\"x\\\": 2250.0, \\\"y\\\": 600000.0}, {\\\"x\\\": 1150.0, \\\"y\\\": 219900.0}, {\\\"x\\\": 1890.0, \\\"y\\\": 617000.0}, {\\\"x\\\": 1850.0, \\\"y\\\": 469000.0}, {\\\"x\\\": 1768.0, \\\"y\\\": 229000.0}, {\\\"x\\\": 2920.0, \\\"y\\\": 1265000.0}, {\\\"x\\\": 1640.0, \\\"y\\\": 365000.0}, {\\\"x\\\": 2730.0, \\\"y\\\": 429000.0}, {\\\"x\\\": 2820.0, \\\"y\\\": 550000.0}, {\\\"x\\\": 1870.0, \\\"y\\\": 453000.0}, {\\\"x\\\": 1180.0, \\\"y\\\": 187500.0}, {\\\"x\\\": 1510.0, \\\"y\\\": 520500.0}, {\\\"x\\\": 1680.0, \\\"y\\\": 300000.0}, {\\\"x\\\": 2520.0, \\\"y\\\": 799000.0}, {\\\"x\\\": 2500.0, \\\"y\\\": 338000.0}, {\\\"x\\\": 1610.0, \\\"y\\\": 800000.0}, {\\\"x\\\": 1350.0, \\\"y\\\": 360000.0}, {\\\"x\\\": 2290.0, \\\"y\\\": 442500.0}, {\\\"x\\\": 2560.0, \\\"y\\\": 700000.0}, {\\\"x\\\": 3180.0, \\\"y\\\": 830000.0}, {\\\"x\\\": 1700.0, \\\"y\\\": 360400.0}, {\\\"x\\\": 1310.0, \\\"y\\\": 345000.0}, {\\\"x\\\": 1320.0, \\\"y\\\": 300000.0}, {\\\"x\\\": 1810.0, \\\"y\\\": 350000.0}, {\\\"x\\\": 1960.0, \\\"y\\\": 368000.0}, {\\\"x\\\": 2000.0, \\\"y\\\": 264000.0}, {\\\"x\\\": 2660.0, \\\"y\\\": 435000.0}, {\\\"x\\\": 2190.0, \\\"y\\\": 200000.0}, {\\\"x\\\": 2000.0, \\\"y\\\": 620000.0}, {\\\"x\\\": 2180.0, \\\"y\\\": 1679000.0}, {\\\"x\\\": 1030.0, \\\"y\\\": 337000.0}, {\\\"x\\\": 3420.0, \\\"y\\\": 1928000.0}, {\\\"x\\\": 1960.0, \\\"y\\\": 544500.0}, {\\\"x\\\": 1010.0, \\\"y\\\": 252000.0}, {\\\"x\\\": 1730.0, \\\"y\\\": 445000.0}, {\\\"x\\\": 1550.0, \\\"y\\\": 379500.0}, {\\\"x\\\": 1060.0, \\\"y\\\": 189950.0}, {\\\"x\\\": 2130.0, \\\"y\\\": 469000.0}, {\\\"x\\\": 3210.0, \\\"y\\\": 600000.0}, {\\\"x\\\": 3720.0, \\\"y\\\": 785000.0}, {\\\"x\\\": 2390.0, \\\"y\\\": 372000.0}, {\\\"x\\\": 2160.0, \\\"y\\\": 445000.0}, {\\\"x\\\": 3230.0, \\\"y\\\": 508000.0}, {\\\"x\\\": 1750.0, \\\"y\\\": 780000.0}, {\\\"x\\\": 2440.0, \\\"y\\\": 541100.0}, {\\\"x\\\": 3010.0, \\\"y\\\": 729000.0}, {\\\"x\\\": 1700.0, \\\"y\\\": 397000.0}, {\\\"x\\\": 1420.0, \\\"y\\\": 451555.0}, {\\\"x\\\": 1160.0, \\\"y\\\": 300000.0}, {\\\"x\\\": 1790.0, \\\"y\\\": 416000.0}, {\\\"x\\\": 1510.0, \\\"y\\\": 490000.0}, {\\\"x\\\": 1530.0, \\\"y\\\": 480000.0}, {\\\"x\\\": 1780.0, \\\"y\\\": 368000.0}, {\\\"x\\\": 3860.0, \\\"y\\\": 1038000.0}, {\\\"x\\\": 2120.0, \\\"y\\\": 545000.0}, {\\\"x\\\": 3430.0, \\\"y\\\": 850000.0}, {\\\"x\\\": 3310.0, \\\"y\\\": 550000.0}, {\\\"x\\\": 2240.0, \\\"y\\\": 600000.0}, {\\\"x\\\": 2390.0, \\\"y\\\": 535000.0}, {\\\"x\\\": 1840.0, \\\"y\\\": 599950.0}, {\\\"x\\\": 2510.0, \\\"y\\\": 531000.0}, {\\\"x\\\": 1960.0, \\\"y\\\": 530000.0}, {\\\"x\\\": 2230.0, \\\"y\\\": 597326.0}, {\\\"x\\\": 2820.0, \\\"y\\\": 805000.0}, {\\\"x\\\": 2180.0, \\\"y\\\": 390000.0}, {\\\"x\\\": 1620.0, \\\"y\\\": 487250.0}, {\\\"x\\\": 1750.0, \\\"y\\\": 301000.0}, {\\\"x\\\": 2740.0, \\\"y\\\": 1175000.0}, {\\\"x\\\": 1170.0, \\\"y\\\": 299000.0}, {\\\"x\\\": 2980.0, \\\"y\\\": 2350000.0}, {\\\"x\\\": 1120.0, \\\"y\\\": 400000.0}, {\\\"x\\\": 2070.0, \\\"y\\\": 467500.0}, {\\\"x\\\": 2260.0, \\\"y\\\": 305000.0}, {\\\"x\\\": 1800.0, \\\"y\\\": 210000.0}, {\\\"x\\\": 1180.0, \\\"y\\\": 300000.0}, {\\\"x\\\": 1910.0, \\\"y\\\": 327500.0}, {\\\"x\\\": 1210.0, \\\"y\\\": 269000.0}, {\\\"x\\\": 3340.0, \\\"y\\\": 975000.0}, {\\\"x\\\": 1429.0, \\\"y\\\": 355000.0}, {\\\"x\\\": 1900.0, \\\"y\\\": 712000.0}, {\\\"x\\\": 3900.0, \\\"y\\\": 883000.0}, {\\\"x\\\": 1010.0, \\\"y\\\": 190000.0}, {\\\"x\\\": 1530.0, \\\"y\\\": 443000.0}, {\\\"x\\\": 2930.0, \\\"y\\\": 920000.0}, {\\\"x\\\": 2050.0, \\\"y\\\": 285000.0}, {\\\"x\\\": 1370.0, \\\"y\\\": 901000.0}, {\\\"x\\\": 1360.0, \\\"y\\\": 552500.0}, {\\\"x\\\": 1220.0, \\\"y\\\": 256000.0}, {\\\"x\\\": 1590.0, \\\"y\\\": 341000.0}, {\\\"x\\\": 1890.0, \\\"y\\\": 279000.0}, {\\\"x\\\": 3380.0, \\\"y\\\": 686000.0}, {\\\"x\\\": 820.0, \\\"y\\\": 225000.0}, {\\\"x\\\": 1510.0, \\\"y\\\": 215500.0}, {\\\"x\\\": 1090.0, \\\"y\\\": 950000.0}, {\\\"x\\\": 2940.0, \\\"y\\\": 503000.0}, {\\\"x\\\": 2610.0, \\\"y\\\": 780000.0}, {\\\"x\\\": 1670.0, \\\"y\\\": 212000.0}, {\\\"x\\\": 2060.0, \\\"y\\\": 580000.0}, {\\\"x\\\": 1660.0, \\\"y\\\": 465000.0}, {\\\"x\\\": 1750.0, \\\"y\\\": 206000.0}, {\\\"x\\\": 2440.0, \\\"y\\\": 615000.0}, {\\\"x\\\": 1590.0, \\\"y\\\": 519000.0}, {\\\"x\\\": 3720.0, \\\"y\\\": 1135000.0}, {\\\"x\\\": 2180.0, \\\"y\\\": 330000.0}, {\\\"x\\\": 2020.0, \\\"y\\\": 240000.0}, {\\\"x\\\": 2110.0, \\\"y\\\": 574000.0}, {\\\"x\\\": 4060.0, \\\"y\\\": 930000.0}, {\\\"x\\\": 2140.0, \\\"y\\\": 850000.0}, {\\\"x\\\": 1420.0, \\\"y\\\": 415000.0}, {\\\"x\\\": 1520.0, \\\"y\\\": 480000.0}, {\\\"x\\\": 1380.0, \\\"y\\\": 300000.0}, {\\\"x\\\": 1950.0, \\\"y\\\": 439000.0}, {\\\"x\\\": 1800.0, \\\"y\\\": 450000.0}, {\\\"x\\\": 2660.0, \\\"y\\\": 589000.0}, {\\\"x\\\": 1630.0, \\\"y\\\": 477000.0}, {\\\"x\\\": 1780.0, \\\"y\\\": 587500.0}, {\\\"x\\\": 3180.0, \\\"y\\\": 1315000.0}, {\\\"x\\\": 3390.0, \\\"y\\\": 1430000.0}, {\\\"x\\\": 2670.0, \\\"y\\\": 700000.0}, {\\\"x\\\": 1070.0, \\\"y\\\": 275000.0}, {\\\"x\\\": 1320.0, \\\"y\\\": 367500.0}, {\\\"x\\\": 2300.0, \\\"y\\\": 453250.0}, {\\\"x\\\": 1820.0, \\\"y\\\": 607000.0}, {\\\"x\\\": 2430.0, \\\"y\\\": 255000.0}, {\\\"x\\\": 1160.0, \\\"y\\\": 501000.0}, {\\\"x\\\": 1480.0, \\\"y\\\": 450000.0}, {\\\"x\\\": 2170.0, \\\"y\\\": 360000.0}, {\\\"x\\\": 1570.0, \\\"y\\\": 460000.0}, {\\\"x\\\": 1880.0, \\\"y\\\": 753000.0}, {\\\"x\\\": 1550.0, \\\"y\\\": 389950.0}, {\\\"x\\\": 1400.0, \\\"y\\\": 469000.0}, {\\\"x\\\": 2320.0, \\\"y\\\": 550000.0}, {\\\"x\\\": 2160.0, \\\"y\\\": 565000.0}, {\\\"x\\\": 1230.0, \\\"y\\\": 189650.0}, {\\\"x\\\": 2550.0, \\\"y\\\": 1525000.0}, {\\\"x\\\": 1690.0, \\\"y\\\": 260000.0}, {\\\"x\\\": 1840.0, \\\"y\\\": 243000.0}, {\\\"x\\\": 3460.0, \\\"y\\\": 1100000.0}, {\\\"x\\\": 1580.0, \\\"y\\\": 249000.0}, {\\\"x\\\": 2020.0, \\\"y\\\": 720000.0}, {\\\"x\\\": 3360.0, \\\"y\\\": 905000.0}, {\\\"x\\\": 1820.0, \\\"y\\\": 824500.0}, {\\\"x\\\": 2550.0, \\\"y\\\": 762500.0}, {\\\"x\\\": 1740.0, \\\"y\\\": 580000.0}, {\\\"x\\\": 2190.0, \\\"y\\\": 380000.0}, {\\\"x\\\": 1780.0, \\\"y\\\": 805000.0}, {\\\"x\\\": 1260.0, \\\"y\\\": 520000.0}, {\\\"x\\\": 2360.0, \\\"y\\\": 1569500.0}, {\\\"x\\\": 1380.0, \\\"y\\\": 175000.0}, {\\\"x\\\": 1860.0, \\\"y\\\": 353500.0}, {\\\"x\\\": 2570.0, \\\"y\\\": 500000.0}, {\\\"x\\\": 1380.0, \\\"y\\\": 386500.0}, {\\\"x\\\": 1190.0, \\\"y\\\": 210000.0}, {\\\"x\\\": 1600.0, \\\"y\\\": 439500.0}, {\\\"x\\\": 2740.0, \\\"y\\\": 315000.0}, {\\\"x\\\": 1830.0, \\\"y\\\": 339000.0}, {\\\"x\\\": 2420.0, \\\"y\\\": 655000.0}, {\\\"x\\\": 2170.0, \\\"y\\\": 740000.0}, {\\\"x\\\": 1900.0, \\\"y\\\": 685000.0}, {\\\"x\\\": 1900.0, \\\"y\\\": 550000.0}, {\\\"x\\\": 1530.0, \\\"y\\\": 405000.0}, {\\\"x\\\": 2620.0, \\\"y\\\": 765000.0}, {\\\"x\\\": 2340.0, \\\"y\\\": 625000.0}, {\\\"x\\\": 1340.0, \\\"y\\\": 207000.0}, {\\\"x\\\": 1340.0, \\\"y\\\": 370000.0}, {\\\"x\\\": 1550.0, \\\"y\\\": 475000.0}, {\\\"x\\\": 1080.0, \\\"y\\\": 365000.0}, {\\\"x\\\": 1560.0, \\\"y\\\": 411800.0}, {\\\"x\\\": 3030.0, \\\"y\\\": 668000.0}, {\\\"x\\\": 1820.0, \\\"y\\\": 618000.0}, {\\\"x\\\": 1260.0, \\\"y\\\": 247500.0}, {\\\"x\\\": 1420.0, \\\"y\\\": 345000.0}, {\\\"x\\\": 1820.0, \\\"y\\\": 616300.0}, {\\\"x\\\": 1320.0, \\\"y\\\": 348000.0}, {\\\"x\\\": 1770.0, \\\"y\\\": 425000.0}, {\\\"x\\\": 3910.0, \\\"y\\\": 850000.0}, {\\\"x\\\": 3170.0, \\\"y\\\": 820000.0}, {\\\"x\\\": 3190.0, \\\"y\\\": 832000.0}, {\\\"x\\\": 3450.0, \\\"y\\\": 835000.0}, {\\\"x\\\": 1420.0, \\\"y\\\": 350000.0}, {\\\"x\\\": 2280.0, \\\"y\\\": 349000.0}, {\\\"x\\\": 1600.0, \\\"y\\\": 1125000.0}, {\\\"x\\\": 1680.0, \\\"y\\\": 320000.0}, {\\\"x\\\": 1010.0, \\\"y\\\": 150000.0}, {\\\"x\\\": 1200.0, \\\"y\\\": 340000.0}, {\\\"x\\\": 3730.0, \\\"y\\\": 785500.0}, {\\\"x\\\": 2770.0, \\\"y\\\": 410500.0}, {\\\"x\\\": 2200.0, \\\"y\\\": 580000.0}, {\\\"x\\\": 830.0, \\\"y\\\": 345000.0}, {\\\"x\\\": 2540.0, \\\"y\\\": 550000.0}, {\\\"x\\\": 2250.0, \\\"y\\\": 449500.0}, {\\\"x\\\": 1720.0, \\\"y\\\": 300000.0}, {\\\"x\\\": 2890.0, \\\"y\\\": 915000.0}, {\\\"x\\\": 3040.0, \\\"y\\\": 1575000.0}, {\\\"x\\\": 1840.0, \\\"y\\\": 599000.0}, {\\\"x\\\": 1570.0, \\\"y\\\": 755000.0}, {\\\"x\\\": 1300.0, \\\"y\\\": 400000.0}, {\\\"x\\\": 1470.0, \\\"y\\\": 133000.0}, {\\\"x\\\": 1560.0, \\\"y\\\": 330000.0}, {\\\"x\\\": 1560.0, \\\"y\\\": 330000.0}, {\\\"x\\\": 1690.0, \\\"y\\\": 375000.0}, {\\\"x\\\": 2280.0, \\\"y\\\": 485000.0}, {\\\"x\\\": 1650.0, \\\"y\\\": 470000.0}, {\\\"x\\\": 1360.0, \\\"y\\\": 1045000.0}, {\\\"x\\\": 1360.0, \\\"y\\\": 548800.0}, {\\\"x\\\": 1250.0, \\\"y\\\": 315000.0}, {\\\"x\\\": 1990.0, \\\"y\\\": 590000.0}, {\\\"x\\\": 2330.0, \\\"y\\\": 439950.0}, {\\\"x\\\": 1830.0, \\\"y\\\": 325000.0}, {\\\"x\\\": 1370.0, \\\"y\\\": 400000.0}, {\\\"x\\\": 2730.0, \\\"y\\\": 685000.0}, {\\\"x\\\": 1420.0, \\\"y\\\": 339950.0}, {\\\"x\\\": 1490.0, \\\"y\\\": 315000.0}, {\\\"x\\\": 1600.0, \\\"y\\\": 411753.0}, {\\\"x\\\": 1500.0, \\\"y\\\": 577000.0}, {\\\"x\\\": 2060.0, \\\"y\\\": 500000.0}, {\\\"x\\\": 1580.0, \\\"y\\\": 210000.0}, {\\\"x\\\": 1940.0, \\\"y\\\": 640000.0}, {\\\"x\\\": 1560.0, \\\"y\\\": 460000.0}, {\\\"x\\\": 620.0, \\\"y\\\": 265000.0}, {\\\"x\\\": 3260.0, \\\"y\\\": 740000.0}, {\\\"x\\\": 1760.0, \\\"y\\\": 230000.0}, {\\\"x\\\": 1680.0, \\\"y\\\": 315000.0}, {\\\"x\\\": 2410.0, \\\"y\\\": 432000.0}, {\\\"x\\\": 1720.0, \\\"y\\\": 467000.0}, {\\\"x\\\": 1700.0, \\\"y\\\": 255000.0}, {\\\"x\\\": 1400.0, \\\"y\\\": 316500.0}, {\\\"x\\\": 1580.0, \\\"y\\\": 190000.0}, {\\\"x\\\": 1450.0, \\\"y\\\": 490000.0}, {\\\"x\\\": 1950.0, \\\"y\\\": 378000.0}, {\\\"x\\\": 1790.0, \\\"y\\\": 598800.0}, {\\\"x\\\": 1970.0, \\\"y\\\": 333800.0}, {\\\"x\\\": 1810.0, \\\"y\\\": 690000.0}, {\\\"x\\\": 1780.0, \\\"y\\\": 320000.0}, {\\\"x\\\": 2840.0, \\\"y\\\": 1249000.0}, {\\\"x\\\": 1520.0, \\\"y\\\": 335000.0}, {\\\"x\\\": 1970.0, \\\"y\\\": 840000.0}, {\\\"x\\\": 3020.0, \\\"y\\\": 608250.0}, {\\\"x\\\": 2770.0, \\\"y\\\": 550000.0}, {\\\"x\\\": 1300.0, \\\"y\\\": 240000.0}, {\\\"x\\\": 2690.0, \\\"y\\\": 998000.0}, {\\\"x\\\": 1740.0, \\\"y\\\": 275000.0}, {\\\"x\\\": 1470.0, \\\"y\\\": 284200.0}, {\\\"x\\\": 3760.0, \\\"y\\\": 1715000.0}, {\\\"x\\\": 3910.0, \\\"y\\\": 2400000.0}, {\\\"x\\\": 3320.0, \\\"y\\\": 930800.0}, {\\\"x\\\": 2820.0, \\\"y\\\": 930000.0}, {\\\"x\\\": 1390.0, \\\"y\\\": 215000.0}, {\\\"x\\\": 1132.0, \\\"y\\\": 480000.0}, {\\\"x\\\": 1090.0, \\\"y\\\": 483945.0}, {\\\"x\\\": 1370.0, \\\"y\\\": 347000.0}, {\\\"x\\\": 1640.0, \\\"y\\\": 232500.0}, {\\\"x\\\": 2490.0, \\\"y\\\": 390000.0}, {\\\"x\\\": 2180.0, \\\"y\\\": 550000.0}, {\\\"x\\\": 2510.0, \\\"y\\\": 590000.0}, {\\\"x\\\": 1320.0, \\\"y\\\": 420850.0}, {\\\"x\\\": 1990.0, \\\"y\\\": 345000.0}, {\\\"x\\\": 1970.0, \\\"y\\\": 429800.0}, {\\\"x\\\": 1530.0, \\\"y\\\": 302000.0}, {\\\"x\\\": 1200.0, \\\"y\\\": 800000.0}, {\\\"x\\\": 1940.0, \\\"y\\\": 250000.0}, {\\\"x\\\": 1790.0, \\\"y\\\": 605000.0}, {\\\"x\\\": 2450.0, \\\"y\\\": 412000.0}, {\\\"x\\\": 1290.0, \\\"y\\\": 252000.0}, {\\\"x\\\": 2280.0, \\\"y\\\": 375000.0}, {\\\"x\\\": 1360.0, \\\"y\\\": 725000.0}, {\\\"x\\\": 1740.0, \\\"y\\\": 471750.0}, {\\\"x\\\": 2120.0, \\\"y\\\": 490000.0}, {\\\"x\\\": 1330.0, \\\"y\\\": 439000.0}, {\\\"x\\\": 1010.0, \\\"y\\\": 355000.0}, {\\\"x\\\": 1930.0, \\\"y\\\": 250000.0}, {\\\"x\\\": 2840.0, \\\"y\\\": 780000.0}, {\\\"x\\\": 1190.0, \\\"y\\\": 409000.0}, {\\\"x\\\": 1230.0, \\\"y\\\": 420000.0}, {\\\"x\\\": 1580.0, \\\"y\\\": 200000.0}, {\\\"x\\\": 2670.0, \\\"y\\\": 830000.0}, {\\\"x\\\": 2540.0, \\\"y\\\": 695000.0}, {\\\"x\\\": 3600.0, \\\"y\\\": 815000.0}, {\\\"x\\\": 1260.0, \\\"y\\\": 210000.0}, {\\\"x\\\": 2880.0, \\\"y\\\": 635000.0}, {\\\"x\\\": 2590.0, \\\"y\\\": 562500.0}, {\\\"x\\\": 2820.0, \\\"y\\\": 402500.0}, {\\\"x\\\": 1920.0, \\\"y\\\": 555000.0}, {\\\"x\\\": 1320.0, \\\"y\\\": 310000.0}, {\\\"x\\\": 2500.0, \\\"y\\\": 500000.0}, {\\\"x\\\": 1220.0, \\\"y\\\": 430000.0}, {\\\"x\\\": 3300.0, \\\"y\\\": 1600000.0}, {\\\"x\\\": 1890.0, \\\"y\\\": 627500.0}, {\\\"x\\\": 1810.0, \\\"y\\\": 335000.0}, {\\\"x\\\": 2450.0, \\\"y\\\": 962000.0}, {\\\"x\\\": 1600.0, \\\"y\\\": 299000.0}, {\\\"x\\\": 2950.0, \\\"y\\\": 399950.0}, {\\\"x\\\": 1380.0, \\\"y\\\": 322000.0}, {\\\"x\\\": 1440.0, \\\"y\\\": 430000.0}, {\\\"x\\\": 1500.0, \\\"y\\\": 307000.0}, {\\\"x\\\": 980.0, \\\"y\\\": 194000.0}, {\\\"x\\\": 1060.0, \\\"y\\\": 180000.0}, {\\\"x\\\": 1810.0, \\\"y\\\": 465000.0}, {\\\"x\\\": 2730.0, \\\"y\\\": 722500.0}, {\\\"x\\\": 1800.0, \\\"y\\\": 470450.0}, {\\\"x\\\": 1750.0, \\\"y\\\": 280000.0}, {\\\"x\\\": 1030.0, \\\"y\\\": 176250.0}, {\\\"x\\\": 1880.0, \\\"y\\\": 560000.0}, {\\\"x\\\": 2760.0, \\\"y\\\": 830000.0}, {\\\"x\\\": 1280.0, \\\"y\\\": 276900.0}, {\\\"x\\\": 1660.0, \\\"y\\\": 625000.0}, {\\\"x\\\": 1600.0, \\\"y\\\": 1015000.0}, {\\\"x\\\": 1830.0, \\\"y\\\": 463500.0}, {\\\"x\\\": 2650.0, \\\"y\\\": 485000.0}, {\\\"x\\\": 1600.0, \\\"y\\\": 272000.0}, {\\\"x\\\": 1290.0, \\\"y\\\": 305000.0}, {\\\"x\\\": 2040.0, \\\"y\\\": 760000.0}, {\\\"x\\\": 1620.0, \\\"y\\\": 387500.0}, {\\\"x\\\": 2470.0, \\\"y\\\": 352000.0}, {\\\"x\\\": 2220.0, \\\"y\\\": 507000.0}, {\\\"x\\\": 1560.0, \\\"y\\\": 156000.0}, {\\\"x\\\": 1550.0, \\\"y\\\": 580000.0}, {\\\"x\\\": 2080.0, \\\"y\\\": 630000.0}, {\\\"x\\\": 1680.0, \\\"y\\\": 275000.0}, {\\\"x\\\": 3600.0, \\\"y\\\": 835000.0}, {\\\"x\\\": 1940.0, \\\"y\\\": 340000.0}, {\\\"x\\\": 840.0, \\\"y\\\": 329350.0}, {\\\"x\\\": 3770.0, \\\"y\\\": 1480000.0}, {\\\"x\\\": 3060.0, \\\"y\\\": 475000.0}, {\\\"x\\\": 1510.0, \\\"y\\\": 719950.0}, {\\\"x\\\": 980.0, \\\"y\\\": 235000.0}, {\\\"x\\\": 2160.0, \\\"y\\\": 875000.0}, {\\\"x\\\": 1540.0, \\\"y\\\": 380000.0}, {\\\"x\\\": 1730.0, \\\"y\\\": 325000.0}, {\\\"x\\\": 3320.0, \\\"y\\\": 475000.0}, {\\\"x\\\": 1290.0, \\\"y\\\": 152900.0}, {\\\"x\\\": 1190.0, \\\"y\\\": 210000.0}, {\\\"x\\\": 1450.0, \\\"y\\\": 350000.0}, {\\\"x\\\": 2080.0, \\\"y\\\": 505000.0}, {\\\"x\\\": 2030.0, \\\"y\\\": 464900.0}, {\\\"x\\\": 1590.0, \\\"y\\\": 650000.0}, {\\\"x\\\": 1370.0, \\\"y\\\": 369950.0}, {\\\"x\\\": 1540.0, \\\"y\\\": 250000.0}, {\\\"x\\\": 1540.0, \\\"y\\\": 320000.0}, {\\\"x\\\": 3960.0, \\\"y\\\": 2532000.0}, {\\\"x\\\": 2650.0, \\\"y\\\": 340000.0}, {\\\"x\\\": 1760.0, \\\"y\\\": 440000.0}, {\\\"x\\\": 1300.0, \\\"y\\\": 219950.0}, {\\\"x\\\": 2640.0, \\\"y\\\": 940000.0}, {\\\"x\\\": 990.0, \\\"y\\\": 399950.0}, {\\\"x\\\": 3480.0, \\\"y\\\": 1568000.0}, {\\\"x\\\": 1900.0, \\\"y\\\": 528000.0}, {\\\"x\\\": 2310.0, \\\"y\\\": 545000.0}, {\\\"x\\\": 1900.0, \\\"y\\\": 575000.0}, {\\\"x\\\": 2070.0, \\\"y\\\": 235000.0}, {\\\"x\\\": 1850.0, \\\"y\\\": 272000.0}, {\\\"x\\\": 1660.0, \\\"y\\\": 380000.0}, {\\\"x\\\": 1280.0, \\\"y\\\": 195000.0}, {\\\"x\\\": 1830.0, \\\"y\\\": 297000.0}, {\\\"x\\\": 2240.0, \\\"y\\\": 349000.0}, {\\\"x\\\": 1610.0, \\\"y\\\": 320000.0}, {\\\"x\\\": 1610.0, \\\"y\\\": 319990.0}, {\\\"x\\\": 1410.0, \\\"y\\\": 439900.0}, {\\\"x\\\": 2010.0, \\\"y\\\": 429000.0}, {\\\"x\\\": 2070.0, \\\"y\\\": 272500.0}, {\\\"x\\\": 1050.0, \\\"y\\\": 400000.0}, {\\\"x\\\": 1830.0, \\\"y\\\": 462000.0}, {\\\"x\\\": 1450.0, \\\"y\\\": 510000.0}, {\\\"x\\\": 1880.0, \\\"y\\\": 550000.0}, {\\\"x\\\": 870.0, \\\"y\\\": 150000.0}, {\\\"x\\\": 1870.0, \\\"y\\\": 460000.0}, {\\\"x\\\": 2660.0, \\\"y\\\": 632500.0}, {\\\"x\\\": 1340.0, \\\"y\\\": 361000.0}, {\\\"x\\\": 1300.0, \\\"y\\\": 437000.0}, {\\\"x\\\": 1230.0, \\\"y\\\": 370000.0}, {\\\"x\\\": 3560.0, \\\"y\\\": 884250.0}, {\\\"x\\\": 1200.0, \\\"y\\\": 225000.0}, {\\\"x\\\": 820.0, \\\"y\\\": 235000.0}, {\\\"x\\\": 1980.0, \\\"y\\\": 767500.0}, {\\\"x\\\": 2890.0, \\\"y\\\": 1200000.0}, {\\\"x\\\": 3370.0, \\\"y\\\": 715000.0}, {\\\"x\\\": 2010.0, \\\"y\\\": 417000.0}, {\\\"x\\\": 1030.0, \\\"y\\\": 199000.0}, {\\\"x\\\": 2970.0, \\\"y\\\": 875000.0}, {\\\"x\\\": 2030.0, \\\"y\\\": 545000.0}, {\\\"x\\\": 1820.0, \\\"y\\\": 192500.0}, {\\\"x\\\": 3140.0, \\\"y\\\": 822500.0}, {\\\"x\\\": 1900.0, \\\"y\\\": 800000.0}, {\\\"x\\\": 3300.0, \\\"y\\\": 1250000.0}, {\\\"x\\\": 4620.0, \\\"y\\\": 3850000.0}, {\\\"x\\\": 1830.0, \\\"y\\\": 295000.0}, {\\\"x\\\": 1350.0, \\\"y\\\": 419000.0}, {\\\"x\\\": 4050.0, \\\"y\\\": 1195000.0}, {\\\"x\\\": 3250.0, \\\"y\\\": 750000.0}, {\\\"x\\\": 1750.0, \\\"y\\\": 502000.0}, {\\\"x\\\": 2740.0, \\\"y\\\": 1025000.0}, {\\\"x\\\": 1120.0, \\\"y\\\": 398500.0}, {\\\"x\\\": 1850.0, \\\"y\\\": 700000.0}, {\\\"x\\\": 1480.0, \\\"y\\\": 248000.0}, {\\\"x\\\": 1990.0, \\\"y\\\": 800000.0}, {\\\"x\\\": 1650.0, \\\"y\\\": 383000.0}, {\\\"x\\\": 1900.0, \\\"y\\\": 688000.0}, {\\\"x\\\": 1870.0, \\\"y\\\": 521000.0}, {\\\"x\\\": 1230.0, \\\"y\\\": 365000.0}, {\\\"x\\\": 1750.0, \\\"y\\\": 491000.0}, {\\\"x\\\": 1780.0, \\\"y\\\": 643000.0}, {\\\"x\\\": 1390.0, \\\"y\\\": 279000.0}, {\\\"x\\\": 1300.0, \\\"y\\\": 583500.0}, {\\\"x\\\": 1790.0, \\\"y\\\": 310000.0}, {\\\"x\\\": 1810.0, \\\"y\\\": 310000.0}, {\\\"x\\\": 1260.0, \\\"y\\\": 280000.0}, {\\\"x\\\": 2390.0, \\\"y\\\": 272000.0}, {\\\"x\\\": 3520.0, \\\"y\\\": 870000.0}, {\\\"x\\\": 1790.0, \\\"y\\\": 307000.0}, {\\\"x\\\": 1900.0, \\\"y\\\": 490000.0}, {\\\"x\\\": 1680.0, \\\"y\\\": 399950.0}, {\\\"x\\\": 3450.0, \\\"y\\\": 1635000.0}, {\\\"x\\\": 3860.0, \\\"y\\\": 989000.0}, {\\\"x\\\": 1410.0, \\\"y\\\": 264950.0}, {\\\"x\\\": 1900.0, \\\"y\\\": 491500.0}, {\\\"x\\\": 2070.0, \\\"y\\\": 345000.0}, {\\\"x\\\": 2200.0, \\\"y\\\": 339900.0}, {\\\"x\\\": 1750.0, \\\"y\\\": 852000.0}, {\\\"x\\\": 2430.0, \\\"y\\\": 585000.0}, {\\\"x\\\": 2400.0, \\\"y\\\": 723000.0}, {\\\"x\\\": 3730.0, \\\"y\\\": 594000.0}, {\\\"x\\\": 1380.0, \\\"y\\\": 405000.0}, {\\\"x\\\": 2790.0, \\\"y\\\": 725500.0}, {\\\"x\\\": 1980.0, \\\"y\\\": 800000.0}, {\\\"x\\\": 3430.0, \\\"y\\\": 1325000.0}, {\\\"x\\\": 1770.0, \\\"y\\\": 180500.0}, {\\\"x\\\": 1770.0, \\\"y\\\": 325000.0}, {\\\"x\\\": 1250.0, \\\"y\\\": 235000.0}, {\\\"x\\\": 1310.0, \\\"y\\\": 330000.0}, {\\\"x\\\": 2150.0, \\\"y\\\": 678500.0}, {\\\"x\\\": 1980.0, \\\"y\\\": 463000.0}, {\\\"x\\\": 870.0, \\\"y\\\": 250000.0}, {\\\"x\\\": 1820.0, \\\"y\\\": 655000.0}, {\\\"x\\\": 1990.0, \\\"y\\\": 239900.0}, {\\\"x\\\": 1780.0, \\\"y\\\": 185000.0}, {\\\"x\\\": 2870.0, \\\"y\\\": 1735000.0}, {\\\"x\\\": 1810.0, \\\"y\\\": 251700.0}, {\\\"x\\\": 1870.0, \\\"y\\\": 400000.0}, {\\\"x\\\": 2060.0, \\\"y\\\": 735000.0}, {\\\"x\\\": 1880.0, \\\"y\\\": 1700000.0}, {\\\"x\\\": 1572.0, \\\"y\\\": 82500.0}, {\\\"x\\\": 3490.0, \\\"y\\\": 765000.0}, {\\\"x\\\": 2040.0, \\\"y\\\": 292500.0}, {\\\"x\\\": 1610.0, \\\"y\\\": 270000.0}, {\\\"x\\\": 1460.0, \\\"y\\\": 415000.0}, {\\\"x\\\": 2640.0, \\\"y\\\": 950000.0}, {\\\"x\\\": 2170.0, \\\"y\\\": 353000.0}, {\\\"x\\\": 1450.0, \\\"y\\\": 670950.0}, {\\\"x\\\": 1390.0, \\\"y\\\": 280950.0}, {\\\"x\\\": 2220.0, \\\"y\\\": 585000.0}, {\\\"x\\\": 1600.0, \\\"y\\\": 525000.0}, {\\\"x\\\": 1880.0, \\\"y\\\": 605000.0}, {\\\"x\\\": 1050.0, \\\"y\\\": 1010000.0}, {\\\"x\\\": 1350.0, \\\"y\\\": 245990.0}, {\\\"x\\\": 2810.0, \\\"y\\\": 535000.0}, {\\\"x\\\": 1230.0, \\\"y\\\": 410000.0}, {\\\"x\\\": 2080.0, \\\"y\\\": 550000.0}, {\\\"x\\\": 1950.0, \\\"y\\\": 665000.0}, {\\\"x\\\": 2390.0, \\\"y\\\": 455000.0}, {\\\"x\\\": 1750.0, \\\"y\\\": 440000.0}, {\\\"x\\\": 2320.0, \\\"y\\\": 332000.0}, {\\\"x\\\": 1760.0, \\\"y\\\": 280000.0}, {\\\"x\\\": 1460.0, \\\"y\\\": 570000.0}, {\\\"x\\\": 1510.0, \\\"y\\\": 250000.0}, {\\\"x\\\": 1088.0, \\\"y\\\": 238000.0}, {\\\"x\\\": 1060.0, \\\"y\\\": 265000.0}, {\\\"x\\\": 1850.0, \\\"y\\\": 306000.0}, {\\\"x\\\": 1950.0, \\\"y\\\": 345000.0}, {\\\"x\\\": 2290.0, \\\"y\\\": 765000.0}, {\\\"x\\\": 2400.0, \\\"y\\\": 346300.0}, {\\\"x\\\": 1080.0, \\\"y\\\": 342500.0}, {\\\"x\\\": 2460.0, \\\"y\\\": 501000.0}, {\\\"x\\\": 1490.0, \\\"y\\\": 270000.0}, {\\\"x\\\": 1650.0, \\\"y\\\": 638000.0}, {\\\"x\\\": 1370.0, \\\"y\\\": 460000.0}, {\\\"x\\\": 1910.0, \\\"y\\\": 760000.0}, {\\\"x\\\": 3150.0, \\\"y\\\": 1085000.0}, {\\\"x\\\": 1520.0, \\\"y\\\": 234000.0}, {\\\"x\\\": 2940.0, \\\"y\\\": 1650000.0}, {\\\"x\\\": 1510.0, \\\"y\\\": 488000.0}, {\\\"x\\\": 3020.0, \\\"y\\\": 1550000.0}, {\\\"x\\\": 1990.0, \\\"y\\\": 499000.0}, {\\\"x\\\": 1680.0, \\\"y\\\": 150000.0}, {\\\"x\\\": 2150.0, \\\"y\\\": 333000.0}, {\\\"x\\\": 2430.0, \\\"y\\\": 700000.0}, {\\\"x\\\": 1620.0, \\\"y\\\": 275000.0}, {\\\"x\\\": 1390.0, \\\"y\\\": 330000.0}, {\\\"x\\\": 1310.0, \\\"y\\\": 360000.0}, {\\\"x\\\": 1360.0, \\\"y\\\": 467000.0}, {\\\"x\\\": 3290.0, \\\"y\\\": 568000.0}, {\\\"x\\\": 2260.0, \\\"y\\\": 605000.0}, {\\\"x\\\": 3159.0, \\\"y\\\": 750000.0}, {\\\"x\\\": 3560.0, \\\"y\\\": 760000.0}, {\\\"x\\\": 1770.0, \\\"y\\\": 265000.0}, {\\\"x\\\": 1440.0, \\\"y\\\": 490000.0}, {\\\"x\\\": 2850.0, \\\"y\\\": 360000.0}, {\\\"x\\\": 2030.0, \\\"y\\\": 311750.0}, {\\\"x\\\": 2300.0, \\\"y\\\": 399000.0}, {\\\"x\\\": 2370.0, \\\"y\\\": 347000.0}, {\\\"x\\\": 4470.0, \\\"y\\\": 1680000.0}, {\\\"x\\\": 3110.0, \\\"y\\\": 585000.0}, {\\\"x\\\": 2280.0, \\\"y\\\": 340000.0}, {\\\"x\\\": 2120.0, \\\"y\\\": 612000.0}, {\\\"x\\\": 1470.0, \\\"y\\\": 230000.0}, {\\\"x\\\": 2690.0, \\\"y\\\": 604000.0}, {\\\"x\\\": 1630.0, \\\"y\\\": 250000.0}, {\\\"x\\\": 1630.0, \\\"y\\\": 258500.0}, {\\\"x\\\": 1970.0, \\\"y\\\": 783000.0}, {\\\"x\\\": 2860.0, \\\"y\\\": 1050000.0}, {\\\"x\\\": 3150.0, \\\"y\\\": 760000.0}, {\\\"x\\\": 1140.0, \\\"y\\\": 276000.0}, {\\\"x\\\": 1820.0, \\\"y\\\": 550000.0}, {\\\"x\\\": 1410.0, \\\"y\\\": 398000.0}, {\\\"x\\\": 1440.0, \\\"y\\\": 775000.0}, {\\\"x\\\": 2780.0, \\\"y\\\": 1027500.0}, {\\\"x\\\": 1310.0, \\\"y\\\": 327000.0}, {\\\"x\\\": 2860.0, \\\"y\\\": 564500.0}, {\\\"x\\\": 1360.0, \\\"y\\\": 782000.0}, {\\\"x\\\": 2820.0, \\\"y\\\": 398000.0}, {\\\"x\\\": 1510.0, \\\"y\\\": 257000.0}, {\\\"x\\\": 1550.0, \\\"y\\\": 235000.0}, {\\\"x\\\": 2130.0, \\\"y\\\": 453000.0}, {\\\"x\\\": 1760.0, \\\"y\\\": 535000.0}, {\\\"x\\\": 1700.0, \\\"y\\\": 275000.0}, {\\\"x\\\": 2640.0, \\\"y\\\": 665000.0}, {\\\"x\\\": 2230.0, \\\"y\\\": 670000.0}, {\\\"x\\\": 1490.0, \\\"y\\\": 465000.0}, {\\\"x\\\": 1170.0, \\\"y\\\": 210000.0}, {\\\"x\\\": 2040.0, \\\"y\\\": 265000.0}, {\\\"x\\\": 1570.0, \\\"y\\\": 426000.0}, {\\\"x\\\": 1820.0, \\\"y\\\": 529219.0}, {\\\"x\\\": 2460.0, \\\"y\\\": 600000.0}, {\\\"x\\\": 3570.0, \\\"y\\\": 875000.0}, {\\\"x\\\": 2670.0, \\\"y\\\": 608000.0}, {\\\"x\\\": 1660.0, \\\"y\\\": 220000.0}, {\\\"x\\\": 4890.0, \\\"y\\\": 1760000.0}, {\\\"x\\\": 1870.0, \\\"y\\\": 295450.0}, {\\\"x\\\": 1590.0, \\\"y\\\": 315000.0}, {\\\"x\\\": 1570.0, \\\"y\\\": 205000.0}, {\\\"x\\\": 1420.0, \\\"y\\\": 310000.0}, {\\\"x\\\": 2330.0, \\\"y\\\": 1000000.0}, {\\\"x\\\": 3190.0, \\\"y\\\": 525000.0}, {\\\"x\\\": 1340.0, \\\"y\\\": 284000.0}, {\\\"x\\\": 2090.0, \\\"y\\\": 510000.0}, {\\\"x\\\": 1420.0, \\\"y\\\": 405000.0}, {\\\"x\\\": 1800.0, \\\"y\\\": 509950.0}, {\\\"x\\\": 3420.0, \\\"y\\\": 600000.0}, {\\\"x\\\": 1880.0, \\\"y\\\": 990000.0}, {\\\"x\\\": 1130.0, \\\"y\\\": 280005.0}, {\\\"x\\\": 1980.0, \\\"y\\\": 700000.0}, {\\\"x\\\": 1030.0, \\\"y\\\": 330000.0}, {\\\"x\\\": 2040.0, \\\"y\\\": 340000.0}, {\\\"x\\\": 2130.0, \\\"y\\\": 468000.0}, {\\\"x\\\": 3690.0, \\\"y\\\": 1339000.0}, {\\\"x\\\": 2640.0, \\\"y\\\": 515000.0}, {\\\"x\\\": 1770.0, \\\"y\\\": 245000.0}, {\\\"x\\\": 1680.0, \\\"y\\\": 265000.0}, {\\\"x\\\": 2590.0, \\\"y\\\": 372400.0}, {\\\"x\\\": 1630.0, \\\"y\\\": 390000.0}, {\\\"x\\\": 1370.0, \\\"y\\\": 208000.0}, {\\\"x\\\": 1380.0, \\\"y\\\": 273000.0}, {\\\"x\\\": 2980.0, \\\"y\\\": 455000.0}, {\\\"x\\\": 1940.0, \\\"y\\\": 270000.0}, {\\\"x\\\": 1720.0, \\\"y\\\": 618000.0}, {\\\"x\\\": 1640.0, \\\"y\\\": 213550.0}, {\\\"x\\\": 1390.0, \\\"y\\\": 210000.0}, {\\\"x\\\": 3260.0, \\\"y\\\": 2750000.0}, {\\\"x\\\": 1100.0, \\\"y\\\": 403500.0}, {\\\"x\\\": 1570.0, \\\"y\\\": 235000.0}, {\\\"x\\\": 1720.0, \\\"y\\\": 287500.0}, {\\\"x\\\": 1710.0, \\\"y\\\": 546800.0}, {\\\"x\\\": 1260.0, \\\"y\\\": 183000.0}, {\\\"x\\\": 2360.0, \\\"y\\\": 560000.0}, {\\\"x\\\": 1630.0, \\\"y\\\": 299500.0}, {\\\"x\\\": 1790.0, \\\"y\\\": 610000.0}, {\\\"x\\\": 1800.0, \\\"y\\\": 288350.0}, {\\\"x\\\": 1670.0, \\\"y\\\": 500000.0}, {\\\"x\\\": 2140.0, \\\"y\\\": 625000.0}, {\\\"x\\\": 1550.0, \\\"y\\\": 418000.0}, {\\\"x\\\": 2260.0, \\\"y\\\": 660000.0}, {\\\"x\\\": 2170.0, \\\"y\\\": 775000.0}, {\\\"x\\\": 1770.0, \\\"y\\\": 429500.0}, {\\\"x\\\": 1600.0, \\\"y\\\": 569000.0}, {\\\"x\\\": 1950.0, \\\"y\\\": 250000.0}, {\\\"x\\\": 1430.0, \\\"y\\\": 225000.0}, {\\\"x\\\": 2650.0, \\\"y\\\": 530000.0}, {\\\"x\\\": 1170.0, \\\"y\\\": 306000.0}, {\\\"x\\\": 1760.0, \\\"y\\\": 517100.0}, {\\\"x\\\": 1660.0, \\\"y\\\": 354950.0}, {\\\"x\\\": 1010.0, \\\"y\\\": 348000.0}, {\\\"x\\\": 2340.0, \\\"y\\\": 522250.0}, {\\\"x\\\": 1720.0, \\\"y\\\": 275000.0}, {\\\"x\\\": 1600.0, \\\"y\\\": 390000.0}, {\\\"x\\\": 1530.0, \\\"y\\\": 260000.0}, {\\\"x\\\": 1920.0, \\\"y\\\": 585000.0}, {\\\"x\\\": 1600.0, \\\"y\\\": 605000.0}, {\\\"x\\\": 1860.0, \\\"y\\\": 342000.0}, {\\\"x\\\": 3280.0, \\\"y\\\": 900000.0}, {\\\"x\\\": 1430.0, \\\"y\\\": 252000.0}, {\\\"x\\\": 2800.0, \\\"y\\\": 357000.0}, {\\\"x\\\": 1000.0, \\\"y\\\": 370000.0}, {\\\"x\\\": 1110.0, \\\"y\\\": 322500.0}, {\\\"x\\\": 1340.0, \\\"y\\\": 210000.0}, {\\\"x\\\": 1610.0, \\\"y\\\": 290000.0}, {\\\"x\\\": 3680.0, \\\"y\\\": 860000.0}, {\\\"x\\\": 1640.0, \\\"y\\\": 302000.0}, {\\\"x\\\": 2360.0, \\\"y\\\": 369160.0}, {\\\"x\\\": 2083.0, \\\"y\\\": 1185000.0}, {\\\"x\\\": 2430.0, \\\"y\\\": 993000.0}, {\\\"x\\\": 1500.0, \\\"y\\\": 380000.0}, {\\\"x\\\": 1660.0, \\\"y\\\": 635000.0}, {\\\"x\\\": 1230.0, \\\"y\\\": 260000.0}, {\\\"x\\\": 1830.0, \\\"y\\\": 243000.0}, {\\\"x\\\": 2770.0, \\\"y\\\": 1400000.0}, {\\\"x\\\": 2090.0, \\\"y\\\": 665000.0}, {\\\"x\\\": 2630.0, \\\"y\\\": 898000.0}, {\\\"x\\\": 1390.0, \\\"y\\\": 583000.0}, {\\\"x\\\": 2080.0, \\\"y\\\": 429000.0}, {\\\"x\\\": 2010.0, \\\"y\\\": 471000.0}, {\\\"x\\\": 3780.0, \\\"y\\\": 1810000.0}, {\\\"x\\\": 2670.0, \\\"y\\\": 739500.0}, {\\\"x\\\": 2450.0, \\\"y\\\": 450000.0}, {\\\"x\\\": 1210.0, \\\"y\\\": 552500.0}, {\\\"x\\\": 1610.0, \\\"y\\\": 437000.0}, {\\\"x\\\": 1760.0, \\\"y\\\": 270000.0}, {\\\"x\\\": 2180.0, \\\"y\\\": 226740.0}, {\\\"x\\\": 2690.0, \\\"y\\\": 446500.0}, {\\\"x\\\": 1490.0, \\\"y\\\": 283000.0}, {\\\"x\\\": 1330.0, \\\"y\\\": 445000.0}, {\\\"x\\\": 740.0, \\\"y\\\": 250000.0}, {\\\"x\\\": 920.0, \\\"y\\\": 307000.0}, {\\\"x\\\": 2290.0, \\\"y\\\": 315000.0}, {\\\"x\\\": 2270.0, \\\"y\\\": 555000.0}, {\\\"x\\\": 1900.0, \\\"y\\\": 264900.0}, {\\\"x\\\": 1580.0, \\\"y\\\": 510000.0}, {\\\"x\\\": 1990.0, \\\"y\\\": 328000.0}, {\\\"x\\\": 1830.0, \\\"y\\\": 358000.0}, {\\\"x\\\": 2190.0, \\\"y\\\": 325000.0}, {\\\"x\\\": 2710.0, \\\"y\\\": 1365000.0}, {\\\"x\\\": 1190.0, \\\"y\\\": 230000.0}, {\\\"x\\\": 1880.0, \\\"y\\\": 545000.0}, {\\\"x\\\": 2130.0, \\\"y\\\": 705380.0}, {\\\"x\\\": 2160.0, \\\"y\\\": 459000.0}, {\\\"x\\\": 1610.0, \\\"y\\\": 815000.0}, {\\\"x\\\": 1400.0, \\\"y\\\": 495000.0}, {\\\"x\\\": 2240.0, \\\"y\\\": 520000.0}, {\\\"x\\\": 1320.0, \\\"y\\\": 430000.0}, {\\\"x\\\": 1950.0, \\\"y\\\": 255000.0}, {\\\"x\\\": 1580.0, \\\"y\\\": 588000.0}, {\\\"x\\\": 1180.0, \\\"y\\\": 350000.0}, {\\\"x\\\": 2540.0, \\\"y\\\": 625000.0}, {\\\"x\\\": 1490.0, \\\"y\\\": 172500.0}, {\\\"x\\\": 1530.0, \\\"y\\\": 554000.0}, {\\\"x\\\": 3050.0, \\\"y\\\": 775000.0}, {\\\"x\\\": 3430.0, \\\"y\\\": 1187500.0}, {\\\"x\\\": 2880.0, \\\"y\\\": 618000.0}, {\\\"x\\\": 1380.0, \\\"y\\\": 305000.0}, {\\\"x\\\": 1590.0, \\\"y\\\": 232000.0}, {\\\"x\\\": 1940.0, \\\"y\\\": 262000.0}, {\\\"x\\\": 1470.0, \\\"y\\\": 234000.0}, {\\\"x\\\": 1790.0, \\\"y\\\": 500000.0}, {\\\"x\\\": 890.0, \\\"y\\\": 278000.0}, {\\\"x\\\": 1920.0, \\\"y\\\": 230000.0}, {\\\"x\\\": 2290.0, \\\"y\\\": 500000.0}, {\\\"x\\\": 1010.0, \\\"y\\\": 366500.0}, {\\\"x\\\": 1520.0, \\\"y\\\": 665000.0}, {\\\"x\\\": 1670.0, \\\"y\\\": 1101000.0}, {\\\"x\\\": 1540.0, \\\"y\\\": 575000.0}, {\\\"x\\\": 2800.0, \\\"y\\\": 674750.0}, {\\\"x\\\": 1720.0, \\\"y\\\": 719000.0}, {\\\"x\\\": 1941.0, \\\"y\\\": 482000.0}, {\\\"x\\\": 1260.0, \\\"y\\\": 254000.0}, {\\\"x\\\": 1240.0, \\\"y\\\": 443725.0}, {\\\"x\\\": 2230.0, \\\"y\\\": 575000.0}, {\\\"x\\\": 2070.0, \\\"y\\\": 469000.0}, {\\\"x\\\": 1470.0, \\\"y\\\": 175000.0}, {\\\"x\\\": 2010.0, \\\"y\\\": 437000.0}, {\\\"x\\\": 1900.0, \\\"y\\\": 550000.0}, {\\\"x\\\": 1790.0, \\\"y\\\": 172040.0}, {\\\"x\\\": 1840.0, \\\"y\\\": 363000.0}, {\\\"x\\\": 1677.0, \\\"y\\\": 282000.0}, {\\\"x\\\": 1560.0, \\\"y\\\": 400000.0}, {\\\"x\\\": 1790.0, \\\"y\\\": 650000.0}, {\\\"x\\\": 1340.0, \\\"y\\\": 365000.0}, {\\\"x\\\": 1850.0, \\\"y\\\": 269950.0}, {\\\"x\\\": 1270.0, \\\"y\\\": 260000.0}, {\\\"x\\\": 1630.0, \\\"y\\\": 193000.0}, {\\\"x\\\": 2420.0, \\\"y\\\": 340000.0}, {\\\"x\\\": 3640.0, \\\"y\\\": 900000.0}, {\\\"x\\\": 2150.0, \\\"y\\\": 371000.0}, {\\\"x\\\": 1370.0, \\\"y\\\": 592000.0}, {\\\"x\\\": 1610.0, \\\"y\\\": 300000.0}, {\\\"x\\\": 2800.0, \\\"y\\\": 449950.0}, {\\\"x\\\": 2320.0, \\\"y\\\": 299500.0}, {\\\"x\\\": 2340.0, \\\"y\\\": 995000.0}, {\\\"x\\\": 1080.0, \\\"y\\\": 335000.0}, {\\\"x\\\": 2030.0, \\\"y\\\": 280000.0}, {\\\"x\\\": 1480.0, \\\"y\\\": 446000.0}, {\\\"x\\\": 3980.0, \\\"y\\\": 1544500.0}, {\\\"x\\\": 1140.0, \\\"y\\\": 325000.0}, {\\\"x\\\": 1610.0, \\\"y\\\": 450000.0}, {\\\"x\\\": 1850.0, \\\"y\\\": 322500.0}, {\\\"x\\\": 1700.0, \\\"y\\\": 453000.0}, {\\\"x\\\": 2460.0, \\\"y\\\": 655000.0}, {\\\"x\\\": 1500.0, \\\"y\\\": 603000.0}, {\\\"x\\\": 1270.0, \\\"y\\\": 235000.0}, {\\\"x\\\": 2470.0, \\\"y\\\": 968933.0}, {\\\"x\\\": 2530.0, \\\"y\\\": 1015000.0}, {\\\"x\\\": 2320.0, \\\"y\\\": 435000.0}, {\\\"x\\\": 1950.0, \\\"y\\\": 242000.0}, {\\\"x\\\": 2230.0, \\\"y\\\": 487000.0}, {\\\"x\\\": 3010.0, \\\"y\\\": 810000.0}, {\\\"x\\\": 2980.0, \\\"y\\\": 625000.0}, {\\\"x\\\": 1566.0, \\\"y\\\": 165000.0}, {\\\"x\\\": 1230.0, \\\"y\\\": 335000.0}, {\\\"x\\\": 1100.0, \\\"y\\\": 286700.0}, {\\\"x\\\": 1900.0, \\\"y\\\": 699000.0}, {\\\"x\\\": 1590.0, \\\"y\\\": 280000.0}, {\\\"x\\\": 2220.0, \\\"y\\\": 580000.0}, {\\\"x\\\": 1870.0, \\\"y\\\": 754800.0}, {\\\"x\\\": 2080.0, \\\"y\\\": 525000.0}, {\\\"x\\\": 2590.0, \\\"y\\\": 562000.0}, {\\\"x\\\": 1490.0, \\\"y\\\": 575000.0}, {\\\"x\\\": 3200.0, \\\"y\\\": 808900.0}, {\\\"x\\\": 2950.0, \\\"y\\\": 992000.0}, {\\\"x\\\": 2190.0, \\\"y\\\": 335000.0}, {\\\"x\\\": 1860.0, \\\"y\\\": 473000.0}, {\\\"x\\\": 2790.0, \\\"y\\\": 350000.0}, {\\\"x\\\": 2180.0, \\\"y\\\": 1600000.0}, {\\\"x\\\": 1550.0, \\\"y\\\": 305500.0}, {\\\"x\\\": 2200.0, \\\"y\\\": 306000.0}, {\\\"x\\\": 850.0, \\\"y\\\": 233000.0}, {\\\"x\\\": 1710.0, \\\"y\\\": 490000.0}, {\\\"x\\\": 2280.0, \\\"y\\\": 445000.0}, {\\\"x\\\": 2240.0, \\\"y\\\": 355000.0}, {\\\"x\\\": 2090.0, \\\"y\\\": 360000.0}, {\\\"x\\\": 1610.0, \\\"y\\\": 737500.0}, {\\\"x\\\": 2430.0, \\\"y\\\": 985000.0}, {\\\"x\\\": 1570.0, \\\"y\\\": 349950.0}, {\\\"x\\\": 2950.0, \\\"y\\\": 520000.0}, {\\\"x\\\": 1910.0, \\\"y\\\": 355950.0}, {\\\"x\\\": 2980.0, \\\"y\\\": 485000.0}, {\\\"x\\\": 960.0, \\\"y\\\": 143000.0}, {\\\"x\\\": 3120.0, \\\"y\\\": 3278000.0}, {\\\"x\\\": 1060.0, \\\"y\\\": 355000.0}, {\\\"x\\\": 3690.0, \\\"y\\\": 1126000.0}, {\\\"x\\\": 1370.0, \\\"y\\\": 200000.0}, {\\\"x\\\": 3370.0, \\\"y\\\": 913000.0}, {\\\"x\\\": 3390.0, \\\"y\\\": 1600000.0}, {\\\"x\\\": 2320.0, \\\"y\\\": 409900.0}, {\\\"x\\\": 1060.0, \\\"y\\\": 265000.0}, {\\\"x\\\": 2530.0, \\\"y\\\": 740000.0}, {\\\"x\\\": 2760.0, \\\"y\\\": 306000.0}, {\\\"x\\\": 1960.0, \\\"y\\\": 381000.0}, {\\\"x\\\": 2730.0, \\\"y\\\": 1220000.0}, {\\\"x\\\": 2600.0, \\\"y\\\": 1050000.0}, {\\\"x\\\": 830.0, \\\"y\\\": 408000.0}, {\\\"x\\\": 3150.0, \\\"y\\\": 739900.0}, {\\\"x\\\": 2740.0, \\\"y\\\": 674250.0}, {\\\"x\\\": 1700.0, \\\"y\\\": 438400.0}, {\\\"x\\\": 3030.0, \\\"y\\\": 1700000.0}, {\\\"x\\\": 1520.0, \\\"y\\\": 703000.0}, {\\\"x\\\": 1620.0, \\\"y\\\": 262000.0}, {\\\"x\\\": 1570.0, \\\"y\\\": 353000.0}, {\\\"x\\\": 2250.0, \\\"y\\\": 500000.0}, {\\\"x\\\": 2790.0, \\\"y\\\": 1280000.0}, {\\\"x\\\": 2590.0, \\\"y\\\": 332000.0}, {\\\"x\\\": 2810.0, \\\"y\\\": 824000.0}, {\\\"x\\\": 1150.0, \\\"y\\\": 290000.0}, {\\\"x\\\": 1820.0, \\\"y\\\": 700000.0}, {\\\"x\\\": 1380.0, \\\"y\\\": 550000.0}, {\\\"x\\\": 2210.0, \\\"y\\\": 549000.0}, {\\\"x\\\": 3260.0, \\\"y\\\": 1865000.0}, {\\\"x\\\": 3010.0, \\\"y\\\": 858000.0}, {\\\"x\\\": 1200.0, \\\"y\\\": 345000.0}, {\\\"x\\\": 2030.0, \\\"y\\\": 340000.0}, {\\\"x\\\": 2570.0, \\\"y\\\": 1215000.0}, {\\\"x\\\": 1190.0, \\\"y\\\": 275000.0}, {\\\"x\\\": 1420.0, \\\"y\\\": 405000.0}, {\\\"x\\\": 1400.0, \\\"y\\\": 432500.0}, {\\\"x\\\": 1720.0, \\\"y\\\": 236500.0}, {\\\"x\\\": 1470.0, \\\"y\\\": 679000.0}, {\\\"x\\\": 2060.0, \\\"y\\\": 543000.0}, {\\\"x\\\": 1460.0, \\\"y\\\": 294000.0}, {\\\"x\\\": 1620.0, \\\"y\\\": 340500.0}, {\\\"x\\\": 2730.0, \\\"y\\\": 1012000.0}, {\\\"x\\\": 1790.0, \\\"y\\\": 335000.0}, {\\\"x\\\": 1630.0, \\\"y\\\": 425000.0}, {\\\"x\\\": 2690.0, \\\"y\\\": 353000.0}, {\\\"x\\\": 1940.0, \\\"y\\\": 540000.0}, {\\\"x\\\": 2640.0, \\\"y\\\": 640000.0}, {\\\"x\\\": 1900.0, \\\"y\\\": 339950.0}, {\\\"x\\\": 1500.0, \\\"y\\\": 195000.0}, {\\\"x\\\": 1500.0, \\\"y\\\": 322000.0}, {\\\"x\\\": 2060.0, \\\"y\\\": 660000.0}, {\\\"x\\\": 2060.0, \\\"y\\\": 280000.0}, {\\\"x\\\": 2060.0, \\\"y\\\": 300000.0}, {\\\"x\\\": 1200.0, \\\"y\\\": 207500.0}, {\\\"x\\\": 1390.0, \\\"y\\\": 195000.0}, {\\\"x\\\": 1330.0, \\\"y\\\": 700000.0}, {\\\"x\\\": 1480.0, \\\"y\\\": 560000.0}, {\\\"x\\\": 1580.0, \\\"y\\\": 260000.0}, {\\\"x\\\": 1580.0, \\\"y\\\": 575000.0}, {\\\"x\\\": 2520.0, \\\"y\\\": 475000.0}, {\\\"x\\\": 1390.0, \\\"y\\\": 285000.0}, {\\\"x\\\": 3620.0, \\\"y\\\": 753888.0}, {\\\"x\\\": 2300.0, \\\"y\\\": 650000.0}, {\\\"x\\\": 1610.0, \\\"y\\\": 620000.0}, {\\\"x\\\": 2380.0, \\\"y\\\": 526000.0}, {\\\"x\\\": 1030.0, \\\"y\\\": 155000.0}, {\\\"x\\\": 1570.0, \\\"y\\\": 342000.0}, {\\\"x\\\": 1540.0, \\\"y\\\": 390000.0}, {\\\"x\\\": 3180.0, \\\"y\\\": 685000.0}, {\\\"x\\\": 2690.0, \\\"y\\\": 608000.0}, {\\\"x\\\": 1240.0, \\\"y\\\": 179900.0}, {\\\"x\\\": 2140.0, \\\"y\\\": 1245000.0}, {\\\"x\\\": 1370.0, \\\"y\\\": 166000.0}, {\\\"x\\\": 1860.0, \\\"y\\\": 462000.0}, {\\\"x\\\": 2090.0, \\\"y\\\": 545000.0}, {\\\"x\\\": 1660.0, \\\"y\\\": 415000.0}, {\\\"x\\\": 1560.0, \\\"y\\\": 269000.0}, {\\\"x\\\": 2430.0, \\\"y\\\": 356500.0}, {\\\"x\\\": 1190.0, \\\"y\\\": 225000.0}, {\\\"x\\\": 1200.0, \\\"y\\\": 175000.0}, {\\\"x\\\": 2270.0, \\\"y\\\": 549000.0}, {\\\"x\\\": 1710.0, \\\"y\\\": 535000.0}, {\\\"x\\\": 1720.0, \\\"y\\\": 627000.0}, {\\\"x\\\": 2040.0, \\\"y\\\": 565000.0}, {\\\"x\\\": 1710.0, \\\"y\\\": 392450.0}, {\\\"x\\\": 1870.0, \\\"y\\\": 509000.0}, {\\\"x\\\": 1440.0, \\\"y\\\": 340000.0}, {\\\"x\\\": 1440.0, \\\"y\\\": 537000.0}, {\\\"x\\\": 3430.0, \\\"y\\\": 865000.0}, {\\\"x\\\": 1030.0, \\\"y\\\": 358000.0}, {\\\"x\\\": 1960.0, \\\"y\\\": 595000.0}, {\\\"x\\\": 2496.0, \\\"y\\\": 661000.0}, {\\\"x\\\": 1890.0, \\\"y\\\": 419950.0}, {\\\"x\\\": 3200.0, \\\"y\\\": 490000.0}, {\\\"x\\\": 1310.0, \\\"y\\\": 525000.0}, {\\\"x\\\": 1380.0, \\\"y\\\": 350000.0}, {\\\"x\\\": 2490.0, \\\"y\\\": 552500.0}, {\\\"x\\\": 1040.0, \\\"y\\\": 210000.0}, {\\\"x\\\": 2510.0, \\\"y\\\": 390000.0}, {\\\"x\\\": 1790.0, \\\"y\\\": 336800.0}, {\\\"x\\\": 1650.0, \\\"y\\\": 465000.0}, {\\\"x\\\": 1950.0, \\\"y\\\": 299900.0}, {\\\"x\\\": 2670.0, \\\"y\\\": 715000.0}, {\\\"x\\\": 1810.0, \\\"y\\\": 235000.0}, {\\\"x\\\": 2434.0, \\\"y\\\": 276000.0}, {\\\"x\\\": 1830.0, \\\"y\\\": 265000.0}, {\\\"x\\\": 1540.0, \\\"y\\\": 425000.0}, {\\\"x\\\": 2210.0, \\\"y\\\": 313000.0}, {\\\"x\\\": 2340.0, \\\"y\\\": 715000.0}, {\\\"x\\\": 1410.0, \\\"y\\\": 265000.0}, {\\\"x\\\": 2440.0, \\\"y\\\": 646000.0}, {\\\"x\\\": 1220.0, \\\"y\\\": 175000.0}, {\\\"x\\\": 3410.0, \\\"y\\\": 649000.0}, {\\\"x\\\": 2310.0, \\\"y\\\": 785000.0}, {\\\"x\\\": 1770.0, \\\"y\\\": 890000.0}, {\\\"x\\\": 2200.0, \\\"y\\\": 612000.0}, {\\\"x\\\": 2610.0, \\\"y\\\": 330000.0}, {\\\"x\\\": 2290.0, \\\"y\\\": 493000.0}, {\\\"x\\\": 2230.0, \\\"y\\\": 1600000.0}, {\\\"x\\\": 3410.0, \\\"y\\\": 1619999.0}, {\\\"x\\\": 3410.0, \\\"y\\\": 1650000.0}, {\\\"x\\\": 1410.0, \\\"y\\\": 499000.0}, {\\\"x\\\": 2280.0, \\\"y\\\": 603500.0}, {\\\"x\\\": 1730.0, \\\"y\\\": 530000.0}, {\\\"x\\\": 2470.0, \\\"y\\\": 895000.0}, {\\\"x\\\": 1940.0, \\\"y\\\": 267345.0}, {\\\"x\\\": 1480.0, \\\"y\\\": 275000.0}, {\\\"x\\\": 2530.0, \\\"y\\\": 439950.0}, {\\\"x\\\": 1560.0, \\\"y\\\": 455000.0}, {\\\"x\\\": 1760.0, \\\"y\\\": 630000.0}, {\\\"x\\\": 2660.0, \\\"y\\\": 690000.0}, {\\\"x\\\": 1390.0, \\\"y\\\": 212000.0}, {\\\"x\\\": 1200.0, \\\"y\\\": 231500.0}, {\\\"x\\\": 4240.0, \\\"y\\\": 1237500.0}, {\\\"x\\\": 2370.0, \\\"y\\\": 378500.0}, {\\\"x\\\": 2780.0, \\\"y\\\": 482000.0}, {\\\"x\\\": 1800.0, \\\"y\\\": 695000.0}, {\\\"x\\\": 3890.0, \\\"y\\\": 965000.0}, {\\\"x\\\": 2920.0, \\\"y\\\": 675000.0}, {\\\"x\\\": 1620.0, \\\"y\\\": 387000.0}, {\\\"x\\\": 2000.0, \\\"y\\\": 347500.0}, {\\\"x\\\": 1640.0, \\\"y\\\": 385000.0}, {\\\"x\\\": 1100.0, \\\"y\\\": 265000.0}, {\\\"x\\\": 1140.0, \\\"y\\\": 406000.0}, {\\\"x\\\": 1040.0, \\\"y\\\": 134000.0}, {\\\"x\\\": 1360.0, \\\"y\\\": 415000.0}, {\\\"x\\\": 1790.0, \\\"y\\\": 375000.0}, {\\\"x\\\": 2350.0, \\\"y\\\": 620000.0}, {\\\"x\\\": 2010.0, \\\"y\\\": 337500.0}, {\\\"x\\\": 1950.0, \\\"y\\\": 565000.0}, {\\\"x\\\": 1210.0, \\\"y\\\": 399500.0}, {\\\"x\\\": 2180.0, \\\"y\\\": 1065000.0}, {\\\"x\\\": 2080.0, \\\"y\\\": 352500.0}, {\\\"x\\\": 1870.0, \\\"y\\\": 259000.0}, {\\\"x\\\": 1520.0, \\\"y\\\": 320000.0}, {\\\"x\\\": 3060.0, \\\"y\\\": 733000.0}, {\\\"x\\\": 1320.0, \\\"y\\\": 381500.0}, {\\\"x\\\": 1700.0, \\\"y\\\": 343000.0}, {\\\"x\\\": 1320.0, \\\"y\\\": 205500.0}, {\\\"x\\\": 1850.0, \\\"y\\\": 525000.0}, {\\\"x\\\": 1500.0, \\\"y\\\": 300000.0}, {\\\"x\\\": 1970.0, \\\"y\\\": 299000.0}, {\\\"x\\\": 2260.0, \\\"y\\\": 561000.0}, {\\\"x\\\": 1210.0, \\\"y\\\": 450000.0}, {\\\"x\\\": 1830.0, \\\"y\\\": 540000.0}, {\\\"x\\\": 1740.0, \\\"y\\\": 379000.0}, {\\\"x\\\": 1390.0, \\\"y\\\": 230000.0}, {\\\"x\\\": 1930.0, \\\"y\\\": 399950.0}, {\\\"x\\\": 2760.0, \\\"y\\\": 355000.0}, {\\\"x\\\": 2820.0, \\\"y\\\": 580000.0}, {\\\"x\\\": 2040.0, \\\"y\\\": 700000.0}, {\\\"x\\\": 1650.0, \\\"y\\\": 279900.0}, {\\\"x\\\": 1010.0, \\\"y\\\": 210000.0}, {\\\"x\\\": 2500.0, \\\"y\\\": 1165000.0}, {\\\"x\\\": 1400.0, \\\"y\\\": 290300.0}, {\\\"x\\\": 4670.0, \\\"y\\\": 1599950.0}, {\\\"x\\\": 1760.0, \\\"y\\\": 490000.0}, {\\\"x\\\": 2520.0, \\\"y\\\": 606000.0}, {\\\"x\\\": 990.0, \\\"y\\\": 359950.0}, {\\\"x\\\": 3130.0, \\\"y\\\": 677100.0}, {\\\"x\\\": 1570.0, \\\"y\\\": 465000.0}, {\\\"x\\\": 3030.0, \\\"y\\\": 4500000.0}, {\\\"x\\\": 2230.0, \\\"y\\\": 500000.0}, {\\\"x\\\": 1600.0, \\\"y\\\": 455000.0}, {\\\"x\\\": 2030.0, \\\"y\\\": 705000.0}, {\\\"x\\\": 2150.0, \\\"y\\\": 420000.0}, {\\\"x\\\": 1360.0, \\\"y\\\": 169575.0}, {\\\"x\\\": 1360.0, \\\"y\\\": 250000.0}, {\\\"x\\\": 1910.0, \\\"y\\\": 530000.0}, {\\\"x\\\": 2650.0, \\\"y\\\": 590000.0}, {\\\"x\\\": 1770.0, \\\"y\\\": 257500.0}, {\\\"x\\\": 2410.0, \\\"y\\\": 415000.0}, {\\\"x\\\": 1560.0, \\\"y\\\": 536000.0}, {\\\"x\\\": 1380.0, \\\"y\\\": 246500.0}, {\\\"x\\\": 1930.0, \\\"y\\\": 395000.0}, {\\\"x\\\": 2500.0, \\\"y\\\": 739000.0}, {\\\"x\\\": 4050.0, \\\"y\\\": 1272000.0}, {\\\"x\\\": 1470.0, \\\"y\\\": 190000.0}, {\\\"x\\\": 1540.0, \\\"y\\\": 305000.0}, {\\\"x\\\": 2200.0, \\\"y\\\": 925000.0}, {\\\"x\\\": 3140.0, \\\"y\\\": 895000.0}, {\\\"x\\\": 2120.0, \\\"y\\\": 656000.0}, {\\\"x\\\": 1400.0, \\\"y\\\": 560000.0}, {\\\"x\\\": 2530.0, \\\"y\\\": 610000.0}, {\\\"x\\\": 2980.0, \\\"y\\\": 645000.0}, {\\\"x\\\": 2434.0, \\\"y\\\": 259000.0}, {\\\"x\\\": 3310.0, \\\"y\\\": 980000.0}, {\\\"x\\\": 2260.0, \\\"y\\\": 872000.0}, {\\\"x\\\": 2990.0, \\\"y\\\": 1000000.0}, {\\\"x\\\": 1520.0, \\\"y\\\": 900000.0}, {\\\"x\\\": 1670.0, \\\"y\\\": 475000.0}, {\\\"x\\\": 2900.0, \\\"y\\\": 350000.0}, {\\\"x\\\": 2530.0, \\\"y\\\": 840000.0}, {\\\"x\\\": 2540.0, \\\"y\\\": 500000.0}, {\\\"x\\\": 1420.0, \\\"y\\\": 202500.0}, {\\\"x\\\": 2850.0, \\\"y\\\": 523000.0}, {\\\"x\\\": 1300.0, \\\"y\\\": 225000.0}, {\\\"x\\\": 2080.0, \\\"y\\\": 418200.0}, {\\\"x\\\": 2080.0, \\\"y\\\": 356500.0}, {\\\"x\\\": 1720.0, \\\"y\\\": 670000.0}, {\\\"x\\\": 1820.0, \\\"y\\\": 456150.0}, {\\\"x\\\": 2050.0, \\\"y\\\": 471000.0}, {\\\"x\\\": 1740.0, \\\"y\\\": 558000.0}, {\\\"x\\\": 4350.0, \\\"y\\\": 1380000.0}, {\\\"x\\\": 1420.0, \\\"y\\\": 161500.0}, {\\\"x\\\": 1310.0, \\\"y\\\": 311000.0}, {\\\"x\\\": 1840.0, \\\"y\\\": 470000.0}, {\\\"x\\\": 1750.0, \\\"y\\\": 569000.0}, {\\\"x\\\": 2200.0, \\\"y\\\": 689000.0}, {\\\"x\\\": 1580.0, \\\"y\\\": 271900.0}, {\\\"x\\\": 1860.0, \\\"y\\\": 278000.0}, {\\\"x\\\": 1560.0, \\\"y\\\": 820000.0}, {\\\"x\\\": 1560.0, \\\"y\\\": 399500.0}, {\\\"x\\\": 1800.0, \\\"y\\\": 462000.0}, {\\\"x\\\": 1810.0, \\\"y\\\": 347500.0}, {\\\"x\\\": 1440.0, \\\"y\\\": 562100.0}, {\\\"x\\\": 1160.0, \\\"y\\\": 230000.0}, {\\\"x\\\": 2370.0, \\\"y\\\": 687000.0}, {\\\"x\\\": 3630.0, \\\"y\\\": 725786.0}, {\\\"x\\\": 1480.0, \\\"y\\\": 315500.0}, {\\\"x\\\": 1560.0, \\\"y\\\": 312000.0}, {\\\"x\\\": 1650.0, \\\"y\\\": 343000.0}, {\\\"x\\\": 1440.0, \\\"y\\\": 385195.0}, {\\\"x\\\": 2150.0, \\\"y\\\": 415000.0}, {\\\"x\\\": 2290.0, \\\"y\\\": 461000.0}, {\\\"x\\\": 1960.0, \\\"y\\\": 369990.0}, {\\\"x\\\": 1820.0, \\\"y\\\": 349950.0}, {\\\"x\\\": 2060.0, \\\"y\\\": 285750.0}, {\\\"x\\\": 2170.0, \\\"y\\\": 542500.0}, {\\\"x\\\": 3620.0, \\\"y\\\": 830000.0}, {\\\"x\\\": 2020.0, \\\"y\\\": 705000.0}, {\\\"x\\\": 1640.0, \\\"y\\\": 615000.0}, {\\\"x\\\": 1440.0, \\\"y\\\": 184500.0}, {\\\"x\\\": 1250.0, \\\"y\\\": 412000.0}, {\\\"x\\\": 1250.0, \\\"y\\\": 250000.0}, {\\\"x\\\": 1770.0, \\\"y\\\": 580000.0}, {\\\"x\\\": 1080.0, \\\"y\\\": 220000.0}, {\\\"x\\\": 2360.0, \\\"y\\\": 675000.0}, {\\\"x\\\": 1300.0, \\\"y\\\": 373500.0}, {\\\"x\\\": 1770.0, \\\"y\\\": 662700.0}, {\\\"x\\\": 1060.0, \\\"y\\\": 239950.0}, {\\\"x\\\": 1410.0, \\\"y\\\": 383000.0}, {\\\"x\\\": 1950.0, \\\"y\\\": 485000.0}, {\\\"x\\\": 2300.0, \\\"y\\\": 610000.0}, {\\\"x\\\": 1820.0, \\\"y\\\": 545000.0}, {\\\"x\\\": 1890.0, \\\"y\\\": 780000.0}, {\\\"x\\\": 1714.0, \\\"y\\\": 305000.0}, {\\\"x\\\": 1330.0, \\\"y\\\": 405000.0}, {\\\"x\\\": 5380.0, \\\"y\\\": 1110000.0}, {\\\"x\\\": 1200.0, \\\"y\\\": 273000.0}, {\\\"x\\\": 1420.0, \\\"y\\\": 326500.0}, {\\\"x\\\": 1400.0, \\\"y\\\": 365000.0}, {\\\"x\\\": 3490.0, \\\"y\\\": 1000750.0}, {\\\"x\\\": 1400.0, \\\"y\\\": 422500.0}, {\\\"x\\\": 2130.0, \\\"y\\\": 354450.0}, {\\\"x\\\": 1250.0, \\\"y\\\": 320000.0}, {\\\"x\\\": 1470.0, \\\"y\\\": 223000.0}, {\\\"x\\\": 1290.0, \\\"y\\\": 410000.0}, {\\\"x\\\": 1390.0, \\\"y\\\": 438000.0}, {\\\"x\\\": 1590.0, \\\"y\\\": 390000.0}, {\\\"x\\\": 2030.0, \\\"y\\\": 298500.0}, {\\\"x\\\": 3430.0, \\\"y\\\": 749999.0}, {\\\"x\\\": 3490.0, \\\"y\\\": 779000.0}, {\\\"x\\\": 2810.0, \\\"y\\\": 570000.0}, {\\\"x\\\": 1520.0, \\\"y\\\": 385000.0}, {\\\"x\\\": 1790.0, \\\"y\\\": 649000.0}, {\\\"x\\\": 1070.0, \\\"y\\\": 283000.0}, {\\\"x\\\": 2230.0, \\\"y\\\": 699900.0}, {\\\"x\\\": 1520.0, \\\"y\\\": 278500.0}, {\\\"x\\\": 2470.0, \\\"y\\\": 700000.0}, {\\\"x\\\": 2710.0, \\\"y\\\": 535000.0}, {\\\"x\\\": 1840.0, \\\"y\\\": 234500.0}, {\\\"x\\\": 1240.0, \\\"y\\\": 374150.0}, {\\\"x\\\": 1990.0, \\\"y\\\": 397000.0}, {\\\"x\\\": 2800.0, \\\"y\\\": 613000.0}, {\\\"x\\\": 2820.0, \\\"y\\\": 1150000.0}, {\\\"x\\\": 1410.0, \\\"y\\\": 595000.0}, {\\\"x\\\": 2300.0, \\\"y\\\": 340000.0}, {\\\"x\\\": 3040.0, \\\"y\\\": 388000.0}, {\\\"x\\\": 1970.0, \\\"y\\\": 404000.0}, {\\\"x\\\": 2310.0, \\\"y\\\": 810000.0}, {\\\"x\\\": 2580.0, \\\"y\\\": 405000.0}, {\\\"x\\\": 2970.0, \\\"y\\\": 726000.0}, {\\\"x\\\": 1520.0, \\\"y\\\": 266000.0}, {\\\"x\\\": 2340.0, \\\"y\\\": 722500.0}, {\\\"x\\\": 1860.0, \\\"y\\\": 352000.0}, {\\\"x\\\": 1520.0, \\\"y\\\": 265000.0}, {\\\"x\\\": 1500.0, \\\"y\\\": 856000.0}, {\\\"x\\\": 2380.0, \\\"y\\\": 346950.0}, {\\\"x\\\": 3440.0, \\\"y\\\": 866059.0}, {\\\"x\\\": 2350.0, \\\"y\\\": 410000.0}, {\\\"x\\\": 1600.0, \\\"y\\\": 370000.0}, {\\\"x\\\": 1768.0, \\\"y\\\": 230000.0}, {\\\"x\\\": 1110.0, \\\"y\\\": 400000.0}, {\\\"x\\\": 1320.0, \\\"y\\\": 172000.0}, {\\\"x\\\": 1740.0, \\\"y\\\": 615000.0}, {\\\"x\\\": 3110.0, \\\"y\\\": 860000.0}, {\\\"x\\\": 1530.0, \\\"y\\\": 555000.0}, {\\\"x\\\": 1180.0, \\\"y\\\": 579000.0}, {\\\"x\\\": 1450.0, \\\"y\\\": 385000.0}, {\\\"x\\\": 2190.0, \\\"y\\\": 420000.0}, {\\\"x\\\": 1410.0, \\\"y\\\": 645000.0}, {\\\"x\\\": 1830.0, \\\"y\\\": 549950.0}, {\\\"x\\\": 2450.0, \\\"y\\\": 678000.0}, {\\\"x\\\": 1520.0, \\\"y\\\": 199000.0}, {\\\"x\\\": 2540.0, \\\"y\\\": 604000.0}, {\\\"x\\\": 1730.0, \\\"y\\\": 268000.0}, {\\\"x\\\": 4330.0, \\\"y\\\": 960000.0}, {\\\"x\\\": 2010.0, \\\"y\\\": 509250.0}, {\\\"x\\\": 1650.0, \\\"y\\\": 416000.0}, {\\\"x\\\": 1190.0, \\\"y\\\": 190000.0}, {\\\"x\\\": 2420.0, \\\"y\\\": 212000.0}, {\\\"x\\\": 2350.0, \\\"y\\\": 325900.0}, {\\\"x\\\": 1760.0, \\\"y\\\": 560000.0}, {\\\"x\\\": 1710.0, \\\"y\\\": 275000.0}, {\\\"x\\\": 2940.0, \\\"y\\\": 665000.0}, {\\\"x\\\": 2380.0, \\\"y\\\": 1505000.0}, {\\\"x\\\": 1160.0, \\\"y\\\": 375000.0}, {\\\"x\\\": 1280.0, \\\"y\\\": 359950.0}, {\\\"x\\\": 2490.0, \\\"y\\\": 340000.0}, {\\\"x\\\": 1100.0, \\\"y\\\": 401000.0}, {\\\"x\\\": 1780.0, \\\"y\\\": 669000.0}, {\\\"x\\\": 2310.0, \\\"y\\\": 638500.0}, {\\\"x\\\": 2130.0, \\\"y\\\": 545000.0}, {\\\"x\\\": 1570.0, \\\"y\\\": 524000.0}, {\\\"x\\\": 3340.0, \\\"y\\\": 1610000.0}, {\\\"x\\\": 1260.0, \\\"y\\\": 280000.0}, {\\\"x\\\": 3130.0, \\\"y\\\": 828000.0}, {\\\"x\\\": 1580.0, \\\"y\\\": 223000.0}, {\\\"x\\\": 2660.0, \\\"y\\\": 1289000.0}, {\\\"x\\\": 1860.0, \\\"y\\\": 750000.0}, {\\\"x\\\": 1500.0, \\\"y\\\": 430000.0}, {\\\"x\\\": 2180.0, \\\"y\\\": 711000.0}, {\\\"x\\\": 1990.0, \\\"y\\\": 310000.0}, {\\\"x\\\": 2190.0, \\\"y\\\": 415000.0}, {\\\"x\\\": 1970.0, \\\"y\\\": 274900.0}, {\\\"x\\\": 2310.0, \\\"y\\\": 525000.0}, {\\\"x\\\": 2300.0, \\\"y\\\": 179500.0}, {\\\"x\\\": 1410.0, \\\"y\\\": 478000.0}, {\\\"x\\\": 1660.0, \\\"y\\\": 195000.0}, {\\\"x\\\": 2330.0, \\\"y\\\": 385000.0}, {\\\"x\\\": 2080.0, \\\"y\\\": 401000.0}, {\\\"x\\\": 2770.0, \\\"y\\\": 522000.0}, {\\\"x\\\": 1600.0, \\\"y\\\": 330000.0}, {\\\"x\\\": 2190.0, \\\"y\\\": 503000.0}, {\\\"x\\\": 1800.0, \\\"y\\\": 175000.0}, {\\\"x\\\": 3830.0, \\\"y\\\": 963990.0}, {\\\"x\\\": 2700.0, \\\"y\\\": 845000.0}, {\\\"x\\\": 1210.0, \\\"y\\\": 157500.0}, {\\\"x\\\": 1460.0, \\\"y\\\": 450000.0}, {\\\"x\\\": 2500.0, \\\"y\\\": 925000.0}, {\\\"x\\\": 1230.0, \\\"y\\\": 600000.0}, {\\\"x\\\": 1740.0, \\\"y\\\": 709000.0}, {\\\"x\\\": 2010.0, \\\"y\\\": 1385000.0}, {\\\"x\\\": 1820.0, \\\"y\\\": 248000.0}, {\\\"x\\\": 950.0, \\\"y\\\": 245000.0}, {\\\"x\\\": 1500.0, \\\"y\\\": 332000.0}, {\\\"x\\\": 2400.0, \\\"y\\\": 459950.0}, {\\\"x\\\": 1500.0, \\\"y\\\": 425000.0}, {\\\"x\\\": 2270.0, \\\"y\\\": 460000.0}, {\\\"x\\\": 2300.0, \\\"y\\\": 838300.0}, {\\\"x\\\": 1350.0, \\\"y\\\": 256000.0}, {\\\"x\\\": 3060.0, \\\"y\\\": 864000.0}, {\\\"x\\\": 1780.0, \\\"y\\\": 900000.0}, {\\\"x\\\": 1170.0, \\\"y\\\": 145600.0}, {\\\"x\\\": 2370.0, \\\"y\\\": 865000.0}, {\\\"x\\\": 1990.0, \\\"y\\\": 250250.0}, {\\\"x\\\": 1440.0, \\\"y\\\": 162000.0}, {\\\"x\\\": 1870.0, \\\"y\\\": 450000.0}, {\\\"x\\\": 2060.0, \\\"y\\\": 675500.0}, {\\\"x\\\": 1560.0, \\\"y\\\": 697000.0}, {\\\"x\\\": 3110.0, \\\"y\\\": 1324050.0}, {\\\"x\\\": 1510.0, \\\"y\\\": 490000.0}, {\\\"x\\\": 1900.0, \\\"y\\\": 590000.0}, {\\\"x\\\": 1930.0, \\\"y\\\": 280000.0}, {\\\"x\\\": 1610.0, \\\"y\\\": 515000.0}, {\\\"x\\\": 1700.0, \\\"y\\\": 576000.0}, {\\\"x\\\": 1900.0, \\\"y\\\": 375000.0}, {\\\"x\\\": 1540.0, \\\"y\\\": 478000.0}, {\\\"x\\\": 1620.0, \\\"y\\\": 282000.0}, {\\\"x\\\": 2780.0, \\\"y\\\": 1400000.0}, {\\\"x\\\": 2680.0, \\\"y\\\": 593500.0}, {\\\"x\\\": 2720.0, \\\"y\\\": 724950.0}, {\\\"x\\\": 1600.0, \\\"y\\\": 306000.0}, {\\\"x\\\": 2100.0, \\\"y\\\": 341000.0}, {\\\"x\\\": 1060.0, \\\"y\\\": 399950.0}, {\\\"x\\\": 1740.0, \\\"y\\\": 534000.0}, {\\\"x\\\": 2620.0, \\\"y\\\": 635000.0}, {\\\"x\\\": 1670.0, \\\"y\\\": 350000.0}, {\\\"x\\\": 1970.0, \\\"y\\\": 856000.0}, {\\\"x\\\": 1700.0, \\\"y\\\": 582000.0}, {\\\"x\\\": 2970.0, \\\"y\\\": 799000.0}, {\\\"x\\\": 2090.0, \\\"y\\\": 423700.0}, {\\\"x\\\": 5000.0, \\\"y\\\": 1835000.0}, {\\\"x\\\": 1760.0, \\\"y\\\": 322000.0}, {\\\"x\\\": 3470.0, \\\"y\\\": 929000.0}, {\\\"x\\\": 1250.0, \\\"y\\\": 443000.0}, {\\\"x\\\": 1440.0, \\\"y\\\": 441500.0}, {\\\"x\\\": 2340.0, \\\"y\\\": 875000.0}, {\\\"x\\\": 3680.0, \\\"y\\\": 3600000.0}, {\\\"x\\\": 920.0, \\\"y\\\": 450000.0}, {\\\"x\\\": 1640.0, \\\"y\\\": 425000.0}, {\\\"x\\\": 2600.0, \\\"y\\\": 660000.0}, {\\\"x\\\": 1460.0, \\\"y\\\": 763101.0}, {\\\"x\\\": 2450.0, \\\"y\\\": 499000.0}, {\\\"x\\\": 2740.0, \\\"y\\\": 521000.0}, {\\\"x\\\": 1810.0, \\\"y\\\": 302000.0}, {\\\"x\\\": 2144.0, \\\"y\\\": 293000.0}, {\\\"x\\\": 2110.0, \\\"y\\\": 335000.0}, {\\\"x\\\": 1450.0, \\\"y\\\": 499000.0}, {\\\"x\\\": 1690.0, \\\"y\\\": 600000.0}, {\\\"x\\\": 2230.0, \\\"y\\\": 720000.0}, {\\\"x\\\": 1310.0, \\\"y\\\": 195000.0}, {\\\"x\\\": 1140.0, \\\"y\\\": 249000.0}, {\\\"x\\\": 1490.0, \\\"y\\\": 334000.0}, {\\\"x\\\": 2120.0, \\\"y\\\": 599950.0}, {\\\"x\\\": 1360.0, \\\"y\\\": 149900.0}, {\\\"x\\\": 1910.0, \\\"y\\\": 700000.0}, {\\\"x\\\": 2380.0, \\\"y\\\": 525000.0}, {\\\"x\\\": 3060.0, \\\"y\\\": 1049000.0}, {\\\"x\\\": 1960.0, \\\"y\\\": 402000.0}, {\\\"x\\\": 1450.0, \\\"y\\\": 450000.0}, {\\\"x\\\": 2470.0, \\\"y\\\": 520000.0}, {\\\"x\\\": 1470.0, \\\"y\\\": 205000.0}, {\\\"x\\\": 3170.0, \\\"y\\\": 635000.0}, {\\\"x\\\": 1310.0, \\\"y\\\": 210500.0}, {\\\"x\\\": 1770.0, \\\"y\\\": 406650.0}, {\\\"x\\\": 1860.0, \\\"y\\\": 350000.0}, {\\\"x\\\": 1590.0, \\\"y\\\": 425000.0}, {\\\"x\\\": 3230.0, \\\"y\\\": 798000.0}, {\\\"x\\\": 1850.0, \\\"y\\\": 180000.0}, {\\\"x\\\": 2360.0, \\\"y\\\": 1250000.0}, {\\\"x\\\": 1350.0, \\\"y\\\": 435000.0}, {\\\"x\\\": 1570.0, \\\"y\\\": 355000.0}, {\\\"x\\\": 2410.0, \\\"y\\\": 3000000.0}, {\\\"x\\\": 1810.0, \\\"y\\\": 685000.0}, {\\\"x\\\": 1680.0, \\\"y\\\": 311000.0}, {\\\"x\\\": 1710.0, \\\"y\\\": 305000.0}, {\\\"x\\\": 1700.0, \\\"y\\\": 675000.0}, {\\\"x\\\": 3380.0, \\\"y\\\": 769000.0}, {\\\"x\\\": 1570.0, \\\"y\\\": 430000.0}, {\\\"x\\\": 2250.0, \\\"y\\\": 516250.0}, {\\\"x\\\": 2580.0, \\\"y\\\": 760000.0}, {\\\"x\\\": 1494.0, \\\"y\\\": 579950.0}, {\\\"x\\\": 1660.0, \\\"y\\\": 476000.0}, {\\\"x\\\": 2010.0, \\\"y\\\": 510000.0}, {\\\"x\\\": 1357.0, \\\"y\\\": 205000.0}, {\\\"x\\\": 1720.0, \\\"y\\\": 240000.0}, {\\\"x\\\": 2980.0, \\\"y\\\": 738000.0}, {\\\"x\\\": 1440.0, \\\"y\\\": 420000.0}, {\\\"x\\\": 2070.0, \\\"y\\\": 455000.0}, {\\\"x\\\": 2350.0, \\\"y\\\": 765000.0}, {\\\"x\\\": 1350.0, \\\"y\\\": 372000.0}, {\\\"x\\\": 1570.0, \\\"y\\\": 160000.0}, {\\\"x\\\": 2990.0, \\\"y\\\": 772000.0}, {\\\"x\\\": 2050.0, \\\"y\\\": 1125000.0}, {\\\"x\\\": 1510.0, \\\"y\\\": 479000.0}, {\\\"x\\\": 1910.0, \\\"y\\\": 570000.0}, {\\\"x\\\": 1260.0, \\\"y\\\": 350000.0}, {\\\"x\\\": 1330.0, \\\"y\\\": 353000.0}, {\\\"x\\\": 3420.0, \\\"y\\\": 699000.0}, {\\\"x\\\": 1260.0, \\\"y\\\": 265000.0}, {\\\"x\\\": 930.0, \\\"y\\\": 167000.0}, {\\\"x\\\": 1800.0, \\\"y\\\": 500000.0}, {\\\"x\\\": 1640.0, \\\"y\\\": 700000.0}, {\\\"x\\\": 1030.0, \\\"y\\\": 295000.0}, {\\\"x\\\": 2430.0, \\\"y\\\": 1010000.0}, {\\\"x\\\": 920.0, \\\"y\\\": 209000.0}, {\\\"x\\\": 1740.0, \\\"y\\\": 276000.0}, {\\\"x\\\": 2090.0, \\\"y\\\": 380000.0}, {\\\"x\\\": 1680.0, \\\"y\\\": 315000.0}, {\\\"x\\\": 2780.0, \\\"y\\\": 685530.0}, {\\\"x\\\": 1390.0, \\\"y\\\": 254600.0}, {\\\"x\\\": 1120.0, \\\"y\\\": 230000.0}, {\\\"x\\\": 1020.0, \\\"y\\\": 335000.0}, {\\\"x\\\": 1940.0, \\\"y\\\": 550000.0}, {\\\"x\\\": 1360.0, \\\"y\\\": 123300.0}, {\\\"x\\\": 1490.0, \\\"y\\\": 275436.0}, {\\\"x\\\": 1920.0, \\\"y\\\": 325000.0}, {\\\"x\\\": 3170.0, \\\"y\\\": 635000.0}, {\\\"x\\\": 920.0, \\\"y\\\": 513000.0}, {\\\"x\\\": 3030.0, \\\"y\\\": 580000.0}, {\\\"x\\\": 1270.0, \\\"y\\\": 225000.0}, {\\\"x\\\": 1570.0, \\\"y\\\": 265000.0}, {\\\"x\\\": 1630.0, \\\"y\\\": 313000.0}, {\\\"x\\\": 1330.0, \\\"y\\\": 296000.0}, {\\\"x\\\": 1950.0, \\\"y\\\": 655500.0}, {\\\"x\\\": 1640.0, \\\"y\\\": 250750.0}, {\\\"x\\\": 2590.0, \\\"y\\\": 438000.0}, {\\\"x\\\": 2180.0, \\\"y\\\": 590000.0}, {\\\"x\\\": 1100.0, \\\"y\\\": 329500.0}, {\\\"x\\\": 3130.0, \\\"y\\\": 1195000.0}, {\\\"x\\\": 1670.0, \\\"y\\\": 415000.0}, {\\\"x\\\": 2950.0, \\\"y\\\": 900000.0}, {\\\"x\\\": 1460.0, \\\"y\\\": 378000.0}, {\\\"x\\\": 1760.0, \\\"y\\\": 474000.0}, {\\\"x\\\": 1660.0, \\\"y\\\": 464000.0}, {\\\"x\\\": 1210.0, \\\"y\\\": 310000.0}, {\\\"x\\\": 1670.0, \\\"y\\\": 580000.0}, {\\\"x\\\": 2120.0, \\\"y\\\": 999000.0}, {\\\"x\\\": 1920.0, \\\"y\\\": 510000.0}, {\\\"x\\\": 2320.0, \\\"y\\\": 650000.0}, {\\\"x\\\": 880.0, \\\"y\\\": 196000.0}, {\\\"x\\\": 1670.0, \\\"y\\\": 220000.0}, {\\\"x\\\": 3170.0, \\\"y\\\": 855000.0}, {\\\"x\\\": 1990.0, \\\"y\\\": 483000.0}, {\\\"x\\\": 1550.0, \\\"y\\\": 400000.0}, {\\\"x\\\": 2650.0, \\\"y\\\": 435000.0}, {\\\"x\\\": 1770.0, \\\"y\\\": 219500.0}, {\\\"x\\\": 3580.0, \\\"y\\\": 2950000.0}, {\\\"x\\\": 2050.0, \\\"y\\\": 427000.0}, {\\\"x\\\": 1390.0, \\\"y\\\": 430000.0}, {\\\"x\\\": 1390.0, \\\"y\\\": 685000.0}, {\\\"x\\\": 2070.0, \\\"y\\\": 495000.0}, {\\\"x\\\": 1870.0, \\\"y\\\": 299950.0}, {\\\"x\\\": 1920.0, \\\"y\\\": 390000.0}, {\\\"x\\\": 1590.0, \\\"y\\\": 385000.0}, {\\\"x\\\": 3140.0, \\\"y\\\": 740000.0}, {\\\"x\\\": 1610.0, \\\"y\\\": 991700.0}, {\\\"x\\\": 2060.0, \\\"y\\\": 765000.0}, {\\\"x\\\": 2550.0, \\\"y\\\": 802000.0}, {\\\"x\\\": 2650.0, \\\"y\\\": 950000.0}, {\\\"x\\\": 2300.0, \\\"y\\\": 392000.0}, {\\\"x\\\": 2650.0, \\\"y\\\": 590000.0}, {\\\"x\\\": 1530.0, \\\"y\\\": 425000.0}, {\\\"x\\\": 2390.0, \\\"y\\\": 765000.0}, {\\\"x\\\": 1390.0, \\\"y\\\": 313500.0}, {\\\"x\\\": 1410.0, \\\"y\\\": 320000.0}, {\\\"x\\\": 1380.0, \\\"y\\\": 604000.0}, {\\\"x\\\": 1540.0, \\\"y\\\": 570000.0}, {\\\"x\\\": 1800.0, \\\"y\\\": 639000.0}, {\\\"x\\\": 1820.0, \\\"y\\\": 335000.0}, {\\\"x\\\": 2100.0, \\\"y\\\": 896000.0}, {\\\"x\\\": 1470.0, \\\"y\\\": 259500.0}, {\\\"x\\\": 1260.0, \\\"y\\\": 637000.0}, {\\\"x\\\": 1990.0, \\\"y\\\": 307450.0}, {\\\"x\\\": 1820.0, \\\"y\\\": 535000.0}, {\\\"x\\\": 1410.0, \\\"y\\\": 669500.0}, {\\\"x\\\": 1150.0, \\\"y\\\": 259000.0}, {\\\"x\\\": 2020.0, \\\"y\\\": 441000.0}, {\\\"x\\\": 1460.0, \\\"y\\\": 228800.0}, {\\\"x\\\": 1570.0, \\\"y\\\": 530000.0}, {\\\"x\\\": 2170.0, \\\"y\\\": 524000.0}, {\\\"x\\\": 1410.0, \\\"y\\\": 430000.0}, {\\\"x\\\": 2470.0, \\\"y\\\": 1325000.0}, {\\\"x\\\": 1230.0, \\\"y\\\": 210000.0}, {\\\"x\\\": 1010.0, \\\"y\\\": 449000.0}, {\\\"x\\\": 1330.0, \\\"y\\\": 945000.0}, {\\\"x\\\": 1000.0, \\\"y\\\": 200450.0}, {\\\"x\\\": 1030.0, \\\"y\\\": 219950.0}, {\\\"x\\\": 2630.0, \\\"y\\\": 659500.0}, {\\\"x\\\": 2420.0, \\\"y\\\": 746000.0}, {\\\"x\\\": 1810.0, \\\"y\\\": 540000.0}, {\\\"x\\\": 1030.0, \\\"y\\\": 485000.0}, {\\\"x\\\": 740.0, \\\"y\\\": 202000.0}, {\\\"x\\\": 2560.0, \\\"y\\\": 2525000.0}, {\\\"x\\\": 2200.0, \\\"y\\\": 502000.0}, {\\\"x\\\": 1600.0, \\\"y\\\": 279000.0}, {\\\"x\\\": 1270.0, \\\"y\\\": 409500.0}, {\\\"x\\\": 1660.0, \\\"y\\\": 453000.0}, {\\\"x\\\": 1140.0, \\\"y\\\": 367000.0}, {\\\"x\\\": 1840.0, \\\"y\\\": 550000.0}, {\\\"x\\\": 1820.0, \\\"y\\\": 273500.0}, {\\\"x\\\": 1540.0, \\\"y\\\": 505000.0}, {\\\"x\\\": 2550.0, \\\"y\\\": 770000.0}, {\\\"x\\\": 2270.0, \\\"y\\\": 565000.0}, {\\\"x\\\": 1300.0, \\\"y\\\": 316000.0}, {\\\"x\\\": 1520.0, \\\"y\\\": 160000.0}, {\\\"x\\\": 1330.0, \\\"y\\\": 170000.0}, {\\\"x\\\": 1330.0, \\\"y\\\": 235000.0}, {\\\"x\\\": 4250.0, \\\"y\\\": 1799000.0}, {\\\"x\\\": 1200.0, \\\"y\\\": 310000.0}, {\\\"x\\\": 1780.0, \\\"y\\\": 285000.0}, {\\\"x\\\": 1010.0, \\\"y\\\": 280000.0}, {\\\"x\\\": 3430.0, \\\"y\\\": 2298000.0}, {\\\"x\\\": 2810.0, \\\"y\\\": 763776.0}, {\\\"x\\\": 2910.0, \\\"y\\\": 530000.0}, {\\\"x\\\": 1670.0, \\\"y\\\": 362000.0}, {\\\"x\\\": 990.0, \\\"y\\\": 430000.0}, {\\\"x\\\": 1290.0, \\\"y\\\": 456500.0}, {\\\"x\\\": 1430.0, \\\"y\\\": 445000.0}, {\\\"x\\\": 1460.0, \\\"y\\\": 386900.0}, {\\\"x\\\": 1430.0, \\\"y\\\": 479000.0}, {\\\"x\\\": 2400.0, \\\"y\\\": 525000.0}, {\\\"x\\\": 2090.0, \\\"y\\\": 272000.0}, {\\\"x\\\": 1580.0, \\\"y\\\": 517000.0}, {\\\"x\\\": 1950.0, \\\"y\\\": 615000.0}, {\\\"x\\\": 1460.0, \\\"y\\\": 439000.0}, {\\\"x\\\": 2580.0, \\\"y\\\": 716000.0}, {\\\"x\\\": 2100.0, \\\"y\\\": 308000.0}, {\\\"x\\\": 1210.0, \\\"y\\\": 800000.0}, {\\\"x\\\": 1420.0, \\\"y\\\": 575000.0}, {\\\"x\\\": 1610.0, \\\"y\\\": 219950.0}, {\\\"x\\\": 2460.0, \\\"y\\\": 770000.0}, {\\\"x\\\": 1510.0, \\\"y\\\": 424950.0}, {\\\"x\\\": 1910.0, \\\"y\\\": 387000.0}, {\\\"x\\\": 2440.0, \\\"y\\\": 790000.0}, {\\\"x\\\": 1290.0, \\\"y\\\": 156000.0}, {\\\"x\\\": 2160.0, \\\"y\\\": 580000.0}, {\\\"x\\\": 1800.0, \\\"y\\\": 490000.0}, {\\\"x\\\": 1940.0, \\\"y\\\": 950000.0}, {\\\"x\\\": 1410.0, \\\"y\\\": 400000.0}, {\\\"x\\\": 1350.0, \\\"y\\\": 325000.0}, {\\\"x\\\": 2810.0, \\\"y\\\": 365000.0}, {\\\"x\\\": 1610.0, \\\"y\\\": 255000.0}, {\\\"x\\\": 3080.0, \\\"y\\\": 985000.0}, {\\\"x\\\": 1610.0, \\\"y\\\": 595000.0}, {\\\"x\\\": 1350.0, \\\"y\\\": 427500.0}, {\\\"x\\\": 1940.0, \\\"y\\\": 728000.0}, {\\\"x\\\": 1780.0, \\\"y\\\": 549950.0}, {\\\"x\\\": 2260.0, \\\"y\\\": 650000.0}, {\\\"x\\\": 2810.0, \\\"y\\\": 1125000.0}, {\\\"x\\\": 920.0, \\\"y\\\": 203000.0}, {\\\"x\\\": 1380.0, \\\"y\\\": 311000.0}, {\\\"x\\\": 1290.0, \\\"y\\\": 387500.0}, {\\\"x\\\": 1500.0, \\\"y\\\": 370000.0}, {\\\"x\\\": 1550.0, \\\"y\\\": 228000.0}, {\\\"x\\\": 1310.0, \\\"y\\\": 740000.0}, {\\\"x\\\": 1550.0, \\\"y\\\": 200000.0}, {\\\"x\\\": 1650.0, \\\"y\\\": 660000.0}, {\\\"x\\\": 1190.0, \\\"y\\\": 275000.0}, {\\\"x\\\": 1510.0, \\\"y\\\": 708000.0}, {\\\"x\\\": 1270.0, \\\"y\\\": 280000.0}, {\\\"x\\\": 2450.0, \\\"y\\\": 325000.0}, {\\\"x\\\": 1890.0, \\\"y\\\": 495000.0}, {\\\"x\\\": 1690.0, \\\"y\\\": 691000.0}, {\\\"x\\\": 4080.0, \\\"y\\\": 2288000.0}, {\\\"x\\\": 2330.0, \\\"y\\\": 329500.0}, {\\\"x\\\": 2480.0, \\\"y\\\": 348000.0}, {\\\"x\\\": 1670.0, \\\"y\\\": 425000.0}, {\\\"x\\\": 1380.0, \\\"y\\\": 210000.0}, {\\\"x\\\": 1100.0, \\\"y\\\": 285000.0}, {\\\"x\\\": 1120.0, \\\"y\\\": 222000.0}, {\\\"x\\\": 1520.0, \\\"y\\\": 200000.0}, {\\\"x\\\": 1750.0, \\\"y\\\": 247500.0}, {\\\"x\\\": 4110.0, \\\"y\\\": 1500000.0}, {\\\"x\\\": 1350.0, \\\"y\\\": 190000.0}, {\\\"x\\\": 2300.0, \\\"y\\\": 975000.0}, {\\\"x\\\": 2720.0, \\\"y\\\": 1130000.0}, {\\\"x\\\": 2020.0, \\\"y\\\": 283200.0}, {\\\"x\\\": 2110.0, \\\"y\\\": 650000.0}, {\\\"x\\\": 2010.0, \\\"y\\\": 449500.0}, {\\\"x\\\": 1790.0, \\\"y\\\": 400000.0}, {\\\"x\\\": 890.0, \\\"y\\\": 89950.0}, {\\\"x\\\": 1110.0, \\\"y\\\": 158800.0}, {\\\"x\\\": 2240.0, \\\"y\\\": 870000.0}, {\\\"x\\\": 1610.0, \\\"y\\\": 196000.0}, {\\\"x\\\": 2280.0, \\\"y\\\": 850000.0}, {\\\"x\\\": 3010.0, \\\"y\\\": 775000.0}, {\\\"x\\\": 1670.0, \\\"y\\\": 483500.0}, {\\\"x\\\": 1600.0, \\\"y\\\": 387000.0}, {\\\"x\\\": 1750.0, \\\"y\\\": 900000.0}, {\\\"x\\\": 1050.0, \\\"y\\\": 336000.0}, {\\\"x\\\": 1240.0, \\\"y\\\": 415000.0}, {\\\"x\\\": 1470.0, \\\"y\\\": 380000.0}, {\\\"x\\\": 1350.0, \\\"y\\\": 350000.0}, {\\\"x\\\": 4190.0, \\\"y\\\": 1320000.0}, {\\\"x\\\": 2530.0, \\\"y\\\": 765000.0}, {\\\"x\\\": 2900.0, \\\"y\\\": 527000.0}, {\\\"x\\\": 1100.0, \\\"y\\\": 524000.0}, {\\\"x\\\": 1300.0, \\\"y\\\": 448000.0}, {\\\"x\\\": 3770.0, \\\"y\\\": 775000.0}, {\\\"x\\\": 930.0, \\\"y\\\": 176500.0}, {\\\"x\\\": 2210.0, \\\"y\\\": 750000.0}, {\\\"x\\\": 2370.0, \\\"y\\\": 1265000.0}, {\\\"x\\\": 1480.0, \\\"y\\\": 250000.0}, {\\\"x\\\": 2440.0, \\\"y\\\": 759000.0}, {\\\"x\\\": 1700.0, \\\"y\\\": 640000.0}, {\\\"x\\\": 2370.0, \\\"y\\\": 990000.0}, {\\\"x\\\": 1290.0, \\\"y\\\": 395000.0}, {\\\"x\\\": 1160.0, \\\"y\\\": 275000.0}, {\\\"x\\\": 2460.0, \\\"y\\\": 390000.0}, {\\\"x\\\": 1670.0, \\\"y\\\": 752500.0}, {\\\"x\\\": 1490.0, \\\"y\\\": 450000.0}, {\\\"x\\\": 1400.0, \\\"y\\\": 473000.0}, {\\\"x\\\": 1250.0, \\\"y\\\": 178500.0}, {\\\"x\\\": 2700.0, \\\"y\\\": 485000.0}, {\\\"x\\\": 1440.0, \\\"y\\\": 215000.0}, {\\\"x\\\": 1840.0, \\\"y\\\": 589000.0}, {\\\"x\\\": 1650.0, \\\"y\\\": 325000.0}, {\\\"x\\\": 1620.0, \\\"y\\\": 580000.0}, {\\\"x\\\": 1460.0, \\\"y\\\": 181100.0}, {\\\"x\\\": 1540.0, \\\"y\\\": 345000.0}, {\\\"x\\\": 2250.0, \\\"y\\\": 781000.0}, {\\\"x\\\": 1420.0, \\\"y\\\": 402500.0}, {\\\"x\\\": 1220.0, \\\"y\\\": 426000.0}, {\\\"x\\\": 2220.0, \\\"y\\\": 389000.0}, {\\\"x\\\": 3660.0, \\\"y\\\": 670000.0}, {\\\"x\\\": 3240.0, \\\"y\\\": 1506000.0}, {\\\"x\\\": 1620.0, \\\"y\\\": 288400.0}, {\\\"x\\\": 1520.0, \\\"y\\\": 700000.0}, {\\\"x\\\": 1400.0, \\\"y\\\": 830000.0}, {\\\"x\\\": 2310.0, \\\"y\\\": 1899000.0}, {\\\"x\\\": 1240.0, \\\"y\\\": 350500.0}, {\\\"x\\\": 1600.0, \\\"y\\\": 431000.0}, {\\\"x\\\": 1970.0, \\\"y\\\": 485000.0}, {\\\"x\\\": 2440.0, \\\"y\\\": 780000.0}, {\\\"x\\\": 1880.0, \\\"y\\\": 720000.0}, {\\\"x\\\": 2040.0, \\\"y\\\": 415000.0}, {\\\"x\\\": 1280.0, \\\"y\\\": 480000.0}, {\\\"x\\\": 2440.0, \\\"y\\\": 452250.0}, {\\\"x\\\": 1840.0, \\\"y\\\": 316000.0}, {\\\"x\\\": 1510.0, \\\"y\\\": 700000.0}, {\\\"x\\\": 1510.0, \\\"y\\\": 285000.0}, {\\\"x\\\": 1720.0, \\\"y\\\": 575000.0}, {\\\"x\\\": 2500.0, \\\"y\\\": 590000.0}, {\\\"x\\\": 2170.0, \\\"y\\\": 587500.0}, {\\\"x\\\": 1750.0, \\\"y\\\": 364000.0}, {\\\"x\\\": 2080.0, \\\"y\\\": 490000.0}, {\\\"x\\\": 2730.0, \\\"y\\\": 410000.0}, {\\\"x\\\": 2160.0, \\\"y\\\": 520000.0}, {\\\"x\\\": 1610.0, \\\"y\\\": 389000.0}, {\\\"x\\\": 1600.0, \\\"y\\\": 450000.0}, {\\\"x\\\": 2550.0, \\\"y\\\": 325000.0}, {\\\"x\\\": 1400.0, \\\"y\\\": 660000.0}, {\\\"x\\\": 1310.0, \\\"y\\\": 850000.0}, {\\\"x\\\": 1860.0, \\\"y\\\": 285000.0}, {\\\"x\\\": 1570.0, \\\"y\\\": 395000.0}, {\\\"x\\\": 1550.0, \\\"y\\\": 440000.0}, {\\\"x\\\": 2320.0, \\\"y\\\": 249000.0}, {\\\"x\\\": 2020.0, \\\"y\\\": 635000.0}, {\\\"x\\\": 2460.0, \\\"y\\\": 515000.0}, {\\\"x\\\": 3020.0, \\\"y\\\": 1400000.0}, {\\\"x\\\": 1620.0, \\\"y\\\": 200000.0}, {\\\"x\\\": 2120.0, \\\"y\\\": 1135000.0}, {\\\"x\\\": 1560.0, \\\"y\\\": 445000.0}, {\\\"x\\\": 1660.0, \\\"y\\\": 555000.0}, {\\\"x\\\": 1280.0, \\\"y\\\": 537000.0}, {\\\"x\\\": 1480.0, \\\"y\\\": 315000.0}, {\\\"x\\\": 3060.0, \\\"y\\\": 805000.0}, {\\\"x\\\": 2540.0, \\\"y\\\": 414000.0}, {\\\"x\\\": 1458.0, \\\"y\\\": 375000.0}, {\\\"x\\\": 2040.0, \\\"y\\\": 401000.0}, {\\\"x\\\": 1730.0, \\\"y\\\": 210000.0}, {\\\"x\\\": 1430.0, \\\"y\\\": 365000.0}, {\\\"x\\\": 1860.0, \\\"y\\\": 178000.0}, {\\\"x\\\": 1310.0, \\\"y\\\": 710000.0}, {\\\"x\\\": 1440.0, \\\"y\\\": 255000.0}, {\\\"x\\\": 2620.0, \\\"y\\\": 528000.0}, {\\\"x\\\": 3736.0, \\\"y\\\": 537000.0}, {\\\"x\\\": 1520.0, \\\"y\\\": 442000.0}, {\\\"x\\\": 1430.0, \\\"y\\\": 375000.0}, {\\\"x\\\": 2120.0, \\\"y\\\": 637250.0}, {\\\"x\\\": 1640.0, \\\"y\\\": 427500.0}, {\\\"x\\\": 2650.0, \\\"y\\\": 700000.0}, {\\\"x\\\": 2060.0, \\\"y\\\": 680000.0}, {\\\"x\\\": 1360.0, \\\"y\\\": 393820.0}, {\\\"x\\\": 1500.0, \\\"y\\\": 525000.0}, {\\\"x\\\": 1510.0, \\\"y\\\": 505000.0}, {\\\"x\\\": 2210.0, \\\"y\\\": 555565.0}, {\\\"x\\\": 3110.0, \\\"y\\\": 650000.0}, {\\\"x\\\": 2820.0, \\\"y\\\": 632500.0}, {\\\"x\\\": 1890.0, \\\"y\\\": 269000.0}, {\\\"x\\\": 2160.0, \\\"y\\\": 405000.0}, {\\\"x\\\": 3350.0, \\\"y\\\": 845000.0}, {\\\"x\\\": 1400.0, \\\"y\\\": 234000.0}, {\\\"x\\\": 1480.0, \\\"y\\\": 638000.0}, {\\\"x\\\": 1180.0, \\\"y\\\": 290000.0}, {\\\"x\\\": 1340.0, \\\"y\\\": 262000.0}, {\\\"x\\\": 3010.0, \\\"y\\\": 270000.0}, {\\\"x\\\": 1780.0, \\\"y\\\": 875000.0}, {\\\"x\\\": 2170.0, \\\"y\\\": 299000.0}, {\\\"x\\\": 1580.0, \\\"y\\\": 551000.0}, {\\\"x\\\": 2570.0, \\\"y\\\": 350000.0}, {\\\"x\\\": 2660.0, \\\"y\\\": 1901000.0}, {\\\"x\\\": 1690.0, \\\"y\\\": 511718.0}, {\\\"x\\\": 3140.0, \\\"y\\\": 965000.0}, {\\\"x\\\": 2460.0, \\\"y\\\": 475000.0}, {\\\"x\\\": 1600.0, \\\"y\\\": 1062000.0}, {\\\"x\\\": 1370.0, \\\"y\\\": 252000.0}, {\\\"x\\\": 1894.0, \\\"y\\\": 580000.0}, {\\\"x\\\": 1260.0, \\\"y\\\": 374950.0}, {\\\"x\\\": 3380.0, \\\"y\\\": 739000.0}, {\\\"x\\\": 1730.0, \\\"y\\\": 271000.0}, {\\\"x\\\": 1370.0, \\\"y\\\": 230000.0}, {\\\"x\\\": 1430.0, \\\"y\\\": 210000.0}, {\\\"x\\\": 1320.0, \\\"y\\\": 350000.0}, {\\\"x\\\": 2190.0, \\\"y\\\": 491500.0}, {\\\"x\\\": 1380.0, \\\"y\\\": 325000.0}, {\\\"x\\\": 1420.0, \\\"y\\\": 190000.0}, {\\\"x\\\": 1400.0, \\\"y\\\": 658600.0}, {\\\"x\\\": 2000.0, \\\"y\\\": 299950.0}, {\\\"x\\\": 1330.0, \\\"y\\\": 464000.0}, {\\\"x\\\": 1500.0, \\\"y\\\": 308000.0}, {\\\"x\\\": 1870.0, \\\"y\\\": 625000.0}, {\\\"x\\\": 1280.0, \\\"y\\\": 240000.0}, {\\\"x\\\": 2890.0, \\\"y\\\": 530000.0}, {\\\"x\\\": 2870.0, \\\"y\\\": 1000000.0}, {\\\"x\\\": 1580.0, \\\"y\\\": 439000.0}, {\\\"x\\\": 1440.0, \\\"y\\\": 575000.0}, {\\\"x\\\": 1580.0, \\\"y\\\": 418000.0}, {\\\"x\\\": 2340.0, \\\"y\\\": 1208000.0}, {\\\"x\\\": 1900.0, \\\"y\\\": 1100000.0}, {\\\"x\\\": 2510.0, \\\"y\\\": 1900000.0}, {\\\"x\\\": 2630.0, \\\"y\\\": 580000.0}, {\\\"x\\\": 1930.0, \\\"y\\\": 380000.0}, {\\\"x\\\": 980.0, \\\"y\\\": 256000.0}, {\\\"x\\\": 1400.0, \\\"y\\\": 349950.0}, {\\\"x\\\": 1790.0, \\\"y\\\": 691500.0}, {\\\"x\\\": 1420.0, \\\"y\\\": 556000.0}, {\\\"x\\\": 2170.0, \\\"y\\\": 218000.0}, {\\\"x\\\": 1900.0, \\\"y\\\": 425000.0}, {\\\"x\\\": 1680.0, \\\"y\\\": 935000.0}, {\\\"x\\\": 2290.0, \\\"y\\\": 732000.0}, {\\\"x\\\": 2080.0, \\\"y\\\": 805500.0}, {\\\"x\\\": 1500.0, \\\"y\\\": 507250.0}, {\\\"x\\\": 4600.0, \\\"y\\\": 800000.0}, {\\\"x\\\": 2420.0, \\\"y\\\": 600000.0}, {\\\"x\\\": 2200.0, \\\"y\\\": 627800.0}, {\\\"x\\\": 2010.0, \\\"y\\\": 660000.0}, {\\\"x\\\": 1400.0, \\\"y\\\": 153503.0}, {\\\"x\\\": 1960.0, \\\"y\\\": 456500.0}, {\\\"x\\\": 2070.0, \\\"y\\\": 1306000.0}, {\\\"x\\\": 3290.0, \\\"y\\\": 843500.0}, {\\\"x\\\": 2060.0, \\\"y\\\": 625000.0}, {\\\"x\\\": 1980.0, \\\"y\\\": 527000.0}, {\\\"x\\\": 2370.0, \\\"y\\\": 1965000.0}, {\\\"x\\\": 3600.0, \\\"y\\\": 1003000.0}, {\\\"x\\\": 1590.0, \\\"y\\\": 855000.0}, {\\\"x\\\": 3420.0, \\\"y\\\": 725000.0}, {\\\"x\\\": 1360.0, \\\"y\\\": 315000.0}, {\\\"x\\\": 1330.0, \\\"y\\\": 180000.0}, {\\\"x\\\": 1760.0, \\\"y\\\": 700000.0}, {\\\"x\\\": 2010.0, \\\"y\\\": 476500.0}, {\\\"x\\\": 1460.0, \\\"y\\\": 193000.0}, {\\\"x\\\": 1850.0, \\\"y\\\": 295000.0}, {\\\"x\\\": 1320.0, \\\"y\\\": 363000.0}, {\\\"x\\\": 3410.0, \\\"y\\\": 875000.0}, {\\\"x\\\": 1580.0, \\\"y\\\": 257200.0}, {\\\"x\\\": 2200.0, \\\"y\\\": 555000.0}, {\\\"x\\\": 1110.0, \\\"y\\\": 380000.0}, {\\\"x\\\": 1980.0, \\\"y\\\": 282000.0}, {\\\"x\\\": 1380.0, \\\"y\\\": 545000.0}, {\\\"x\\\": 2090.0, \\\"y\\\": 550000.0}, {\\\"x\\\": 2090.0, \\\"y\\\": 921500.0}, {\\\"x\\\": 2440.0, \\\"y\\\": 885000.0}, {\\\"x\\\": 1720.0, \\\"y\\\": 820000.0}, {\\\"x\\\": 1090.0, \\\"y\\\": 289000.0}, {\\\"x\\\": 1170.0, \\\"y\\\": 334000.0}, {\\\"x\\\": 970.0, \\\"y\\\": 206000.0}, {\\\"x\\\": 1740.0, \\\"y\\\": 491950.0}, {\\\"x\\\": 1360.0, \\\"y\\\": 430000.0}, {\\\"x\\\": 1540.0, \\\"y\\\": 208000.0}, {\\\"x\\\": 2110.0, \\\"y\\\": 245000.0}, {\\\"x\\\": 1460.0, \\\"y\\\": 426000.0}, {\\\"x\\\": 2250.0, \\\"y\\\": 400000.0}, {\\\"x\\\": 1500.0, \\\"y\\\": 553000.0}, {\\\"x\\\": 1450.0, \\\"y\\\": 296000.0}, {\\\"x\\\": 2400.0, \\\"y\\\": 428000.0}, {\\\"x\\\": 1590.0, \\\"y\\\": 325000.0}, {\\\"x\\\": 1580.0, \\\"y\\\": 294000.0}, {\\\"x\\\": 1970.0, \\\"y\\\": 410000.0}, {\\\"x\\\": 2037.0, \\\"y\\\": 590000.0}, {\\\"x\\\": 1650.0, \\\"y\\\": 445000.0}, {\\\"x\\\": 2530.0, \\\"y\\\": 921000.0}, {\\\"x\\\": 1470.0, \\\"y\\\": 496000.0}, {\\\"x\\\": 1490.0, \\\"y\\\": 95000.0}, {\\\"x\\\": 1180.0, \\\"y\\\": 359000.0}, {\\\"x\\\": 1560.0, \\\"y\\\": 452500.0}, {\\\"x\\\": 1800.0, \\\"y\\\": 555000.0}, {\\\"x\\\": 2580.0, \\\"y\\\": 549900.0}, {\\\"x\\\": 2720.0, \\\"y\\\": 569000.0}, {\\\"x\\\": 1480.0, \\\"y\\\": 318500.0}, {\\\"x\\\": 1295.0, \\\"y\\\": 487028.0}, {\\\"x\\\": 1470.0, \\\"y\\\": 240000.0}, {\\\"x\\\": 1590.0, \\\"y\\\": 253000.0}, {\\\"x\\\": 2360.0, \\\"y\\\": 380000.0}, {\\\"x\\\": 2010.0, \\\"y\\\": 250000.0}, {\\\"x\\\": 2400.0, \\\"y\\\": 368500.0}, {\\\"x\\\": 2180.0, \\\"y\\\": 340000.0}, {\\\"x\\\": 1060.0, \\\"y\\\": 400000.0}, {\\\"x\\\": 1760.0, \\\"y\\\": 835000.0}, {\\\"x\\\": 1960.0, \\\"y\\\": 299000.0}, {\\\"x\\\": 3280.0, \\\"y\\\": 1675000.0}, {\\\"x\\\": 1570.0, \\\"y\\\": 265000.0}, {\\\"x\\\": 2640.0, \\\"y\\\": 437500.0}, {\\\"x\\\": 1280.0, \\\"y\\\": 865000.0}, {\\\"x\\\": 2510.0, \\\"y\\\": 626000.0}, {\\\"x\\\": 1140.0, \\\"y\\\": 247300.0}, {\\\"x\\\": 3980.0, \\\"y\\\": 2075000.0}, {\\\"x\\\": 1060.0, \\\"y\\\": 425000.0}, {\\\"x\\\": 2700.0, \\\"y\\\": 905000.0}, {\\\"x\\\": 2200.0, \\\"y\\\": 641250.0}, {\\\"x\\\": 2290.0, \\\"y\\\": 675000.0}, {\\\"x\\\": 2970.0, \\\"y\\\": 845000.0}, {\\\"x\\\": 1470.0, \\\"y\\\": 401500.0}, {\\\"x\\\": 1300.0, \\\"y\\\": 395000.0}, {\\\"x\\\": 2370.0, \\\"y\\\": 1100000.0}, {\\\"x\\\": 1740.0, \\\"y\\\": 145000.0}, {\\\"x\\\": 1700.0, \\\"y\\\": 900000.0}, {\\\"x\\\": 1370.0, \\\"y\\\": 374500.0}, {\\\"x\\\": 1880.0, \\\"y\\\": 850000.0}, {\\\"x\\\": 1520.0, \\\"y\\\": 490000.0}, {\\\"x\\\": 2220.0, \\\"y\\\": 304000.0}, {\\\"x\\\": 2010.0, \\\"y\\\": 400000.0}, {\\\"x\\\": 1460.0, \\\"y\\\": 454000.0}, {\\\"x\\\": 1350.0, \\\"y\\\": 160000.0}, {\\\"x\\\": 1540.0, \\\"y\\\": 542000.0}, {\\\"x\\\": 2620.0, \\\"y\\\": 403500.0}, {\\\"x\\\": 2610.0, \\\"y\\\": 418000.0}, {\\\"x\\\": 1920.0, \\\"y\\\": 406000.0}, {\\\"x\\\": 1270.0, \\\"y\\\": 242500.0}, {\\\"x\\\": 2460.0, \\\"y\\\": 425000.0}, {\\\"x\\\": 1680.0, \\\"y\\\": 613000.0}, {\\\"x\\\": 1540.0, \\\"y\\\": 189000.0}, {\\\"x\\\": 1720.0, \\\"y\\\": 700000.0}, {\\\"x\\\": 1770.0, \\\"y\\\": 750000.0}, {\\\"x\\\": 1640.0, \\\"y\\\": 494000.0}, {\\\"x\\\": 2970.0, \\\"y\\\": 700000.0}, {\\\"x\\\": 1440.0, \\\"y\\\": 705000.0}, {\\\"x\\\": 1790.0, \\\"y\\\": 356000.0}, {\\\"x\\\": 1850.0, \\\"y\\\": 625000.0}, {\\\"x\\\": 1350.0, \\\"y\\\": 144975.0}, {\\\"x\\\": 4170.0, \\\"y\\\": 970000.0}, {\\\"x\\\": 1550.0, \\\"y\\\": 415000.0}, {\\\"x\\\": 1440.0, \\\"y\\\": 485000.0}, {\\\"x\\\": 2900.0, \\\"y\\\": 799950.0}, {\\\"x\\\": 4090.0, \\\"y\\\": 783350.0}, {\\\"x\\\": 1090.0, \\\"y\\\": 430000.0}, {\\\"x\\\": 3750.0, \\\"y\\\": 2544750.0}, {\\\"x\\\": 3630.0, \\\"y\\\": 975000.0}, {\\\"x\\\": 2920.0, \\\"y\\\": 950000.0}, {\\\"x\\\": 1820.0, \\\"y\\\": 350000.0}, {\\\"x\\\": 1510.0, \\\"y\\\": 637000.0}, {\\\"x\\\": 2760.0, \\\"y\\\": 895000.0}, {\\\"x\\\": 1760.0, \\\"y\\\": 579000.0}, {\\\"x\\\": 2460.0, \\\"y\\\": 314900.0}, {\\\"x\\\": 1300.0, \\\"y\\\": 122000.0}, {\\\"x\\\": 1300.0, \\\"y\\\": 405000.0}, {\\\"x\\\": 1430.0, \\\"y\\\": 553650.0}, {\\\"x\\\": 1770.0, \\\"y\\\": 369900.0}, {\\\"x\\\": 1980.0, \\\"y\\\": 225000.0}, {\\\"x\\\": 1780.0, \\\"y\\\": 160000.0}, {\\\"x\\\": 2220.0, \\\"y\\\": 449500.0}, {\\\"x\\\": 1300.0, \\\"y\\\": 650000.0}, {\\\"x\\\": 2850.0, \\\"y\\\": 542126.0}, {\\\"x\\\": 1210.0, \\\"y\\\": 309950.0}, {\\\"x\\\": 1350.0, \\\"y\\\": 115000.0}, {\\\"x\\\": 2250.0, \\\"y\\\": 221700.0}, {\\\"x\\\": 1010.0, \\\"y\\\": 726000.0}, {\\\"x\\\": 1260.0, \\\"y\\\": 515000.0}, {\\\"x\\\": 3090.0, \\\"y\\\": 756000.0}, {\\\"x\\\": 2940.0, \\\"y\\\": 1570000.0}, {\\\"x\\\": 2110.0, \\\"y\\\": 442000.0}, {\\\"x\\\": 1710.0, \\\"y\\\": 260000.0}, {\\\"x\\\": 1440.0, \\\"y\\\": 390000.0}, {\\\"x\\\": 1370.0, \\\"y\\\": 459500.0}, {\\\"x\\\": 1410.0, \\\"y\\\": 330000.0}, {\\\"x\\\": 1110.0, \\\"y\\\": 189000.0}, {\\\"x\\\": 1540.0, \\\"y\\\": 280000.0}, {\\\"x\\\": 1480.0, \\\"y\\\": 400000.0}, {\\\"x\\\": 1020.0, \\\"y\\\": 368000.0}, {\\\"x\\\": 2220.0, \\\"y\\\": 390000.0}, {\\\"x\\\": 1030.0, \\\"y\\\": 245000.0}, {\\\"x\\\": 1780.0, \\\"y\\\": 375000.0}, {\\\"x\\\": 1560.0, \\\"y\\\": 465000.0}, {\\\"x\\\": 1250.0, \\\"y\\\": 445000.0}, {\\\"x\\\": 1170.0, \\\"y\\\": 250000.0}, {\\\"x\\\": 1440.0, \\\"y\\\": 475500.0}, {\\\"x\\\": 2310.0, \\\"y\\\": 672324.0}, {\\\"x\\\": 1510.0, \\\"y\\\": 420000.0}, {\\\"x\\\": 1690.0, \\\"y\\\": 515000.0}, {\\\"x\\\": 2450.0, \\\"y\\\": 732350.0}, {\\\"x\\\": 2020.0, \\\"y\\\": 297500.0}, {\\\"x\\\": 1490.0, \\\"y\\\": 475000.0}, {\\\"x\\\": 2230.0, \\\"y\\\": 414000.0}, {\\\"x\\\": 1260.0, \\\"y\\\": 357250.0}, {\\\"x\\\": 950.0, \\\"y\\\": 289950.0}, {\\\"x\\\": 1290.0, \\\"y\\\": 550000.0}, {\\\"x\\\": 1460.0, \\\"y\\\": 446000.0}, {\\\"x\\\": 1590.0, \\\"y\\\": 279000.0}, {\\\"x\\\": 1890.0, \\\"y\\\": 370000.0}, {\\\"x\\\": 1300.0, \\\"y\\\": 216000.0}, {\\\"x\\\": 3050.0, \\\"y\\\": 1100000.0}, {\\\"x\\\": 3680.0, \\\"y\\\": 1280600.0}, {\\\"x\\\": 1500.0, \\\"y\\\": 355000.0}, {\\\"x\\\": 2330.0, \\\"y\\\": 699000.0}, {\\\"x\\\": 1509.0, \\\"y\\\": 412000.0}, {\\\"x\\\": 1110.0, \\\"y\\\": 276000.0}, {\\\"x\\\": 1380.0, \\\"y\\\": 100000.0}, {\\\"x\\\": 1900.0, \\\"y\\\": 955500.0}, {\\\"x\\\": 1560.0, \\\"y\\\": 199000.0}, {\\\"x\\\": 3550.0, \\\"y\\\": 762000.0}, {\\\"x\\\": 1520.0, \\\"y\\\": 425000.0}, {\\\"x\\\": 2050.0, \\\"y\\\": 546000.0}, {\\\"x\\\": 1890.0, \\\"y\\\": 419600.0}, {\\\"x\\\": 1800.0, \\\"y\\\": 735000.0}, {\\\"x\\\": 2440.0, \\\"y\\\": 1234568.0}, {\\\"x\\\": 1660.0, \\\"y\\\": 445000.0}, {\\\"x\\\": 2630.0, \\\"y\\\": 665000.0}, {\\\"x\\\": 1880.0, \\\"y\\\": 1290000.0}, {\\\"x\\\": 2520.0, \\\"y\\\": 508500.0}, {\\\"x\\\": 1390.0, \\\"y\\\": 345950.0}, {\\\"x\\\": 1200.0, \\\"y\\\": 207500.0}, {\\\"x\\\": 2380.0, \\\"y\\\": 1075000.0}, {\\\"x\\\": 1560.0, \\\"y\\\": 640000.0}, {\\\"x\\\": 1400.0, \\\"y\\\": 329500.0}, {\\\"x\\\": 2120.0, \\\"y\\\": 460000.0}, {\\\"x\\\": 2850.0, \\\"y\\\": 1230000.0}, {\\\"x\\\": 1840.0, \\\"y\\\": 805000.0}, {\\\"x\\\": 1230.0, \\\"y\\\": 200000.0}, {\\\"x\\\": 2460.0, \\\"y\\\": 749700.0}, {\\\"x\\\": 1430.0, \\\"y\\\": 288000.0}, {\\\"x\\\": 1470.0, \\\"y\\\": 535000.0}, {\\\"x\\\": 1620.0, \\\"y\\\": 330000.0}, {\\\"x\\\": 1500.0, \\\"y\\\": 479200.0}, {\\\"x\\\": 2340.0, \\\"y\\\": 373000.0}, {\\\"x\\\": 1710.0, \\\"y\\\": 355000.0}, {\\\"x\\\": 1620.0, \\\"y\\\": 275000.0}, {\\\"x\\\": 1660.0, \\\"y\\\": 380000.0}, {\\\"x\\\": 1390.0, \\\"y\\\": 417000.0}, {\\\"x\\\": 4630.0, \\\"y\\\": 1165000.0}, {\\\"x\\\": 2510.0, \\\"y\\\": 598500.0}, {\\\"x\\\": 1380.0, \\\"y\\\": 629000.0}, {\\\"x\\\": 1250.0, \\\"y\\\": 226950.0}, {\\\"x\\\": 2840.0, \\\"y\\\": 1225000.0}, {\\\"x\\\": 2350.0, \\\"y\\\": 415000.0}, {\\\"x\\\": 1940.0, \\\"y\\\": 595000.0}, {\\\"x\\\": 1050.0, \\\"y\\\": 209950.0}, {\\\"x\\\": 2320.0, \\\"y\\\": 568000.0}, {\\\"x\\\": 1760.0, \\\"y\\\": 119900.0}, {\\\"x\\\": 1230.0, \\\"y\\\": 207000.0}, {\\\"x\\\": 1880.0, \\\"y\\\": 195000.0}, {\\\"x\\\": 1400.0, \\\"y\\\": 324950.0}, {\\\"x\\\": 1420.0, \\\"y\\\": 210000.0}, {\\\"x\\\": 1890.0, \\\"y\\\": 1078000.0}, {\\\"x\\\": 1500.0, \\\"y\\\": 325088.0}, {\\\"x\\\": 1580.0, \\\"y\\\": 790000.0}, {\\\"x\\\": 2010.0, \\\"y\\\": 150000.0}, {\\\"x\\\": 2070.0, \\\"y\\\": 790000.0}, {\\\"x\\\": 1540.0, \\\"y\\\": 255000.0}, {\\\"x\\\": 1570.0, \\\"y\\\": 697000.0}, {\\\"x\\\": 1240.0, \\\"y\\\": 457500.0}, {\\\"x\\\": 1740.0, \\\"y\\\": 690000.0}, {\\\"x\\\": 1860.0, \\\"y\\\": 967000.0}, {\\\"x\\\": 2880.0, \\\"y\\\": 980000.0}, {\\\"x\\\": 2330.0, \\\"y\\\": 619420.0}, {\\\"x\\\": 1460.0, \\\"y\\\": 389000.0}, {\\\"x\\\": 1740.0, \\\"y\\\": 500000.0}, {\\\"x\\\": 2380.0, \\\"y\\\": 569000.0}, {\\\"x\\\": 1560.0, \\\"y\\\": 425000.0}, {\\\"x\\\": 1740.0, \\\"y\\\": 635000.0}, {\\\"x\\\": 1540.0, \\\"y\\\": 256500.0}, {\\\"x\\\": 2810.0, \\\"y\\\": 695000.0}, {\\\"x\\\": 1580.0, \\\"y\\\": 535000.0}, {\\\"x\\\": 2630.0, \\\"y\\\": 454200.0}, {\\\"x\\\": 1460.0, \\\"y\\\": 418500.0}, {\\\"x\\\": 2790.0, \\\"y\\\": 749950.0}, {\\\"x\\\": 1750.0, \\\"y\\\": 338500.0}, {\\\"x\\\": 3380.0, \\\"y\\\": 1250000.0}, {\\\"x\\\": 1890.0, \\\"y\\\": 299950.0}, {\\\"x\\\": 1760.0, \\\"y\\\": 325000.0}, {\\\"x\\\": 2090.0, \\\"y\\\": 434000.0}, {\\\"x\\\": 2220.0, \\\"y\\\": 328950.0}, {\\\"x\\\": 3910.0, \\\"y\\\": 2095000.0}, {\\\"x\\\": 2420.0, \\\"y\\\": 570000.0}, {\\\"x\\\": 1700.0, \\\"y\\\": 802000.0}, {\\\"x\\\": 2370.0, \\\"y\\\": 525000.0}, {\\\"x\\\": 2590.0, \\\"y\\\": 700000.0}, {\\\"x\\\": 2180.0, \\\"y\\\": 350000.0}, {\\\"x\\\": 1390.0, \\\"y\\\": 277500.0}, {\\\"x\\\": 3220.0, \\\"y\\\": 1575000.0}, {\\\"x\\\": 1210.0, \\\"y\\\": 195000.0}, {\\\"x\\\": 1430.0, \\\"y\\\": 222000.0}, {\\\"x\\\": 2260.0, \\\"y\\\": 865000.0}, {\\\"x\\\": 1540.0, \\\"y\\\": 445000.0}, {\\\"x\\\": 1740.0, \\\"y\\\": 495800.0}, {\\\"x\\\": 1720.0, \\\"y\\\": 548500.0}, {\\\"x\\\": 1590.0, \\\"y\\\": 310000.0}, {\\\"x\\\": 1740.0, \\\"y\\\": 205000.0}, {\\\"x\\\": 3000.0, \\\"y\\\": 470000.0}, {\\\"x\\\": 2480.0, \\\"y\\\": 430000.0}, {\\\"x\\\": 1439.0, \\\"y\\\": 310000.0}, {\\\"x\\\": 1330.0, \\\"y\\\": 355000.0}, {\\\"x\\\": 2600.0, \\\"y\\\": 621500.0}, {\\\"x\\\": 1780.0, \\\"y\\\": 175000.0}, {\\\"x\\\": 1780.0, \\\"y\\\": 326000.0}, {\\\"x\\\": 1500.0, \\\"y\\\": 690000.0}, {\\\"x\\\": 2270.0, \\\"y\\\": 335000.0}, {\\\"x\\\": 1340.0, \\\"y\\\": 197000.0}, {\\\"x\\\": 1790.0, \\\"y\\\": 312500.0}, {\\\"x\\\": 1880.0, \\\"y\\\": 436000.0}, {\\\"x\\\": 2080.0, \\\"y\\\": 1015000.0}, {\\\"x\\\": 3460.0, \\\"y\\\": 805000.0}, {\\\"x\\\": 2400.0, \\\"y\\\": 652427.0}, {\\\"x\\\": 2900.0, \\\"y\\\": 1008000.0}, {\\\"x\\\": 2520.0, \\\"y\\\": 355000.0}, {\\\"x\\\": 1960.0, \\\"y\\\": 334550.0}, {\\\"x\\\": 2160.0, \\\"y\\\": 557500.0}, {\\\"x\\\": 1640.0, \\\"y\\\": 277500.0}, {\\\"x\\\": 1430.0, \\\"y\\\": 300000.0}, {\\\"x\\\": 1230.0, \\\"y\\\": 325000.0}, {\\\"x\\\": 1480.0, \\\"y\\\": 402500.0}, {\\\"x\\\": 2250.0, \\\"y\\\": 461000.0}, {\\\"x\\\": 1270.0, \\\"y\\\": 540000.0}, {\\\"x\\\": 1090.0, \\\"y\\\": 385000.0}, {\\\"x\\\": 1470.0, \\\"y\\\": 480000.0}, {\\\"x\\\": 3500.0, \\\"y\\\": 539950.0}, {\\\"x\\\": 2580.0, \\\"y\\\": 529000.0}, {\\\"x\\\": 1320.0, \\\"y\\\": 417000.0}, {\\\"x\\\": 2310.0, \\\"y\\\": 405000.0}, {\\\"x\\\": 2080.0, \\\"y\\\": 299000.0}, {\\\"x\\\": 1330.0, \\\"y\\\": 299000.0}, {\\\"x\\\": 1680.0, \\\"y\\\": 372220.0}, {\\\"x\\\": 1850.0, \\\"y\\\": 494400.0}, {\\\"x\\\": 2520.0, \\\"y\\\": 280000.0}, {\\\"x\\\": 2091.0, \\\"y\\\": 277950.0}, {\\\"x\\\": 2190.0, \\\"y\\\": 770000.0}, {\\\"x\\\": 3510.0, \\\"y\\\": 760000.0}, {\\\"x\\\": 1510.0, \\\"y\\\": 230000.0}, {\\\"x\\\": 2000.0, \\\"y\\\": 525000.0}, {\\\"x\\\": 1210.0, \\\"y\\\": 307000.0}, {\\\"x\\\": 1820.0, \\\"y\\\": 253779.0}, {\\\"x\\\": 1820.0, \\\"y\\\": 405000.0}, {\\\"x\\\": 1620.0, \\\"y\\\": 360000.0}, {\\\"x\\\": 2540.0, \\\"y\\\": 521000.0}, {\\\"x\\\": 2940.0, \\\"y\\\": 680000.0}, {\\\"x\\\": 2830.0, \\\"y\\\": 355000.0}, {\\\"x\\\": 1240.0, \\\"y\\\": 200000.0}, {\\\"x\\\": 1930.0, \\\"y\\\": 330000.0}, {\\\"x\\\": 1600.0, \\\"y\\\": 221000.0}, {\\\"x\\\": 2660.0, \\\"y\\\": 1598888.0}, {\\\"x\\\": 1760.0, \\\"y\\\": 310000.0}, {\\\"x\\\": 2020.0, \\\"y\\\": 862000.0}, {\\\"x\\\": 1140.0, \\\"y\\\": 200000.0}, {\\\"x\\\": 1560.0, \\\"y\\\": 630000.0}, {\\\"x\\\": 1740.0, \\\"y\\\": 432250.0}, {\\\"x\\\": 2250.0, \\\"y\\\": 478000.0}, {\\\"x\\\": 1860.0, \\\"y\\\": 249000.0}, {\\\"x\\\": 1420.0, \\\"y\\\": 495000.0}, {\\\"x\\\": 2000.0, \\\"y\\\": 630000.0}, {\\\"x\\\": 2150.0, \\\"y\\\": 550000.0}, {\\\"x\\\": 2530.0, \\\"y\\\": 350000.0}, {\\\"x\\\": 1480.0, \\\"y\\\": 270000.0}, {\\\"x\\\": 1970.0, \\\"y\\\": 488250.0}, {\\\"x\\\": 1280.0, \\\"y\\\": 248000.0}, {\\\"x\\\": 1360.0, \\\"y\\\": 889000.0}, {\\\"x\\\": 2160.0, \\\"y\\\": 375000.0}, {\\\"x\\\": 1820.0, \\\"y\\\": 933000.0}, {\\\"x\\\": 2490.0, \\\"y\\\": 625000.0}, {\\\"x\\\": 1620.0, \\\"y\\\": 328000.0}, {\\\"x\\\": 2390.0, \\\"y\\\": 470000.0}, {\\\"x\\\": 2150.0, \\\"y\\\": 502500.0}, {\\\"x\\\": 1900.0, \\\"y\\\": 484000.0}, {\\\"x\\\": 1190.0, \\\"y\\\": 252500.0}, {\\\"x\\\": 2650.0, \\\"y\\\": 610000.0}, {\\\"x\\\": 2190.0, \\\"y\\\": 419000.0}, {\\\"x\\\": 2030.0, \\\"y\\\": 322500.0}, {\\\"x\\\": 1630.0, \\\"y\\\": 563000.0}, {\\\"x\\\": 2650.0, \\\"y\\\": 464000.0}, {\\\"x\\\": 2540.0, \\\"y\\\": 870000.0}, {\\\"x\\\": 1020.0, \\\"y\\\": 280000.0}, {\\\"x\\\": 3280.0, \\\"y\\\": 850000.0}, {\\\"x\\\": 1580.0, \\\"y\\\": 458950.0}, {\\\"x\\\": 1710.0, \\\"y\\\": 122000.0}, {\\\"x\\\": 1060.0, \\\"y\\\": 525000.0}, {\\\"x\\\": 1490.0, \\\"y\\\": 286300.0}, {\\\"x\\\": 1300.0, \\\"y\\\": 218450.0}, {\\\"x\\\": 1510.0, \\\"y\\\": 525000.0}, {\\\"x\\\": 1510.0, \\\"y\\\": 650000.0}, {\\\"x\\\": 1610.0, \\\"y\\\": 356000.0}, {\\\"x\\\": 1510.0, \\\"y\\\": 436500.0}, {\\\"x\\\": 1570.0, \\\"y\\\": 410000.0}, {\\\"x\\\": 1890.0, \\\"y\\\": 512500.0}, {\\\"x\\\": 1910.0, \\\"y\\\": 510000.0}, {\\\"x\\\": 2220.0, \\\"y\\\": 566000.0}, {\\\"x\\\": 2420.0, \\\"y\\\": 525000.0}, {\\\"x\\\": 1410.0, \\\"y\\\": 435000.0}, {\\\"x\\\": 2060.0, \\\"y\\\": 406500.0}, {\\\"x\\\": 2050.0, \\\"y\\\": 550000.0}, {\\\"x\\\": 1280.0, \\\"y\\\": 251000.0}, {\\\"x\\\": 2320.0, \\\"y\\\": 830000.0}, {\\\"x\\\": 2740.0, \\\"y\\\": 803000.0}, {\\\"x\\\": 1050.0, \\\"y\\\": 206000.0}, {\\\"x\\\": 1160.0, \\\"y\\\": 200000.0}, {\\\"x\\\": 900.0, \\\"y\\\": 219000.0}, {\\\"x\\\": 1930.0, \\\"y\\\": 777000.0}, {\\\"x\\\": 2180.0, \\\"y\\\": 593700.0}, {\\\"x\\\": 2350.0, \\\"y\\\": 712500.0}, {\\\"x\\\": 1740.0, \\\"y\\\": 600000.0}, {\\\"x\\\": 1850.0, \\\"y\\\": 554663.0}, {\\\"x\\\": 1470.0, \\\"y\\\": 267000.0}, {\\\"x\\\": 1430.0, \\\"y\\\": 390000.0}, {\\\"x\\\": 2020.0, \\\"y\\\": 335000.0}, {\\\"x\\\": 2530.0, \\\"y\\\": 938000.0}, {\\\"x\\\": 2060.0, \\\"y\\\": 370000.0}, {\\\"x\\\": 2200.0, \\\"y\\\": 335000.0}, {\\\"x\\\": 1780.0, \\\"y\\\": 695000.0}, {\\\"x\\\": 1640.0, \\\"y\\\": 387500.0}, {\\\"x\\\": 1650.0, \\\"y\\\": 245000.0}, {\\\"x\\\": 1360.0, \\\"y\\\": 308550.0}, {\\\"x\\\": 1270.0, \\\"y\\\": 225000.0}, {\\\"x\\\": 3100.0, \\\"y\\\": 715000.0}, {\\\"x\\\": 1170.0, \\\"y\\\": 335000.0}, {\\\"x\\\": 2370.0, \\\"y\\\": 634000.0}, {\\\"x\\\": 2000.0, \\\"y\\\": 337500.0}, {\\\"x\\\": 2160.0, \\\"y\\\": 440000.0}, {\\\"x\\\": 1260.0, \\\"y\\\": 350000.0}, {\\\"x\\\": 930.0, \\\"y\\\": 400000.0}, {\\\"x\\\": 3880.0, \\\"y\\\": 1288000.0}, {\\\"x\\\": 1060.0, \\\"y\\\": 435000.0}, {\\\"x\\\": 3130.0, \\\"y\\\": 681000.0}, {\\\"x\\\": 1360.0, \\\"y\\\": 397000.0}, {\\\"x\\\": 3600.0, \\\"y\\\": 775000.0}, {\\\"x\\\": 1960.0, \\\"y\\\": 480000.0}, {\\\"x\\\": 1780.0, \\\"y\\\": 158000.0}, {\\\"x\\\": 3180.0, \\\"y\\\": 590000.0}, {\\\"x\\\": 3450.0, \\\"y\\\": 772500.0}, {\\\"x\\\": 1580.0, \\\"y\\\": 464500.0}, {\\\"x\\\": 1600.0, \\\"y\\\": 281000.0}, {\\\"x\\\": 2970.0, \\\"y\\\": 620000.0}, {\\\"x\\\": 1500.0, \\\"y\\\": 475000.0}, {\\\"x\\\": 1280.0, \\\"y\\\": 245000.0}, {\\\"x\\\": 1780.0, \\\"y\\\": 660000.0}, {\\\"x\\\": 1910.0, \\\"y\\\": 527500.0}, {\\\"x\\\": 1350.0, \\\"y\\\": 135000.0}, {\\\"x\\\": 2960.0, \\\"y\\\": 275000.0}, {\\\"x\\\": 1560.0, \\\"y\\\": 430000.0}, {\\\"x\\\": 1420.0, \\\"y\\\": 213500.0}, {\\\"x\\\": 2680.0, \\\"y\\\": 535000.0}, {\\\"x\\\": 2660.0, \\\"y\\\": 641000.0}, {\\\"x\\\": 2030.0, \\\"y\\\": 436300.0}, {\\\"x\\\": 1280.0, \\\"y\\\": 1440000.0}, {\\\"x\\\": 2130.0, \\\"y\\\": 830000.0}, {\\\"x\\\": 1250.0, \\\"y\\\": 380000.0}, {\\\"x\\\": 850.0, \\\"y\\\": 132500.0}, {\\\"x\\\": 1320.0, \\\"y\\\": 179950.0}, {\\\"x\\\": 940.0, \\\"y\\\": 188200.0}, {\\\"x\\\": 2090.0, \\\"y\\\": 659000.0}, {\\\"x\\\": 1400.0, \\\"y\\\": 317000.0}, {\\\"x\\\": 1980.0, \\\"y\\\": 625000.0}, {\\\"x\\\": 1790.0, \\\"y\\\": 350000.0}, {\\\"x\\\": 1840.0, \\\"y\\\": 750000.0}, {\\\"x\\\": 2080.0, \\\"y\\\": 457000.0}, {\\\"x\\\": 1550.0, \\\"y\\\": 632500.0}, {\\\"x\\\": 1550.0, \\\"y\\\": 223000.0}, {\\\"x\\\": 2340.0, \\\"y\\\": 610000.0}, {\\\"x\\\": 1550.0, \\\"y\\\": 385000.0}, {\\\"x\\\": 1400.0, \\\"y\\\": 367500.0}, {\\\"x\\\": 1300.0, \\\"y\\\": 385100.0}, {\\\"x\\\": 1560.0, \\\"y\\\": 230000.0}, {\\\"x\\\": 1170.0, \\\"y\\\": 286000.0}, {\\\"x\\\": 1540.0, \\\"y\\\": 201700.0}, {\\\"x\\\": 4110.0, \\\"y\\\": 1350000.0}, {\\\"x\\\": 2370.0, \\\"y\\\": 525000.0}, {\\\"x\\\": 1680.0, \\\"y\\\": 361000.0}, {\\\"x\\\": 1590.0, \\\"y\\\": 530000.0}, {\\\"x\\\": 1630.0, \\\"y\\\": 455000.0}, {\\\"x\\\": 1600.0, \\\"y\\\": 421000.0}, {\\\"x\\\": 1910.0, \\\"y\\\": 640000.0}, {\\\"x\\\": 1660.0, \\\"y\\\": 240000.0}, {\\\"x\\\": 1740.0, \\\"y\\\": 360000.0}, {\\\"x\\\": 1460.0, \\\"y\\\": 157340.0}, {\\\"x\\\": 2100.0, \\\"y\\\": 1240000.0}, {\\\"x\\\": 1500.0, \\\"y\\\": 250000.0}, {\\\"x\\\": 2190.0, \\\"y\\\": 735000.0}, {\\\"x\\\": 2310.0, \\\"y\\\": 884900.0}, {\\\"x\\\": 2300.0, \\\"y\\\": 775000.0}, {\\\"x\\\": 2260.0, \\\"y\\\": 463000.0}, {\\\"x\\\": 1590.0, \\\"y\\\": 579000.0}, {\\\"x\\\": 3180.0, \\\"y\\\": 570000.0}, {\\\"x\\\": 3960.0, \\\"y\\\": 1060000.0}, {\\\"x\\\": 2850.0, \\\"y\\\": 375000.0}, {\\\"x\\\": 1200.0, \\\"y\\\": 422000.0}, {\\\"x\\\": 1220.0, \\\"y\\\": 866500.0}, {\\\"x\\\": 2580.0, \\\"y\\\": 705000.0}, {\\\"x\\\": 2090.0, \\\"y\\\": 470000.0}, {\\\"x\\\": 2140.0, \\\"y\\\": 360000.0}, {\\\"x\\\": 3470.0, \\\"y\\\": 795000.0}, {\\\"x\\\": 3100.0, \\\"y\\\": 800000.0}, {\\\"x\\\": 3710.0, \\\"y\\\": 2453500.0}, {\\\"x\\\": 1540.0, \\\"y\\\": 277284.0}, {\\\"x\\\": 1780.0, \\\"y\\\": 460000.0}, {\\\"x\\\": 2080.0, \\\"y\\\": 898888.0}, {\\\"x\\\": 1810.0, \\\"y\\\": 211000.0}, {\\\"x\\\": 1310.0, \\\"y\\\": 222000.0}, {\\\"x\\\": 2570.0, \\\"y\\\": 672000.0}, {\\\"x\\\": 3020.0, \\\"y\\\": 778000.0}, {\\\"x\\\": 2440.0, \\\"y\\\": 312500.0}, {\\\"x\\\": 2150.0, \\\"y\\\": 650000.0}, {\\\"x\\\": 2320.0, \\\"y\\\": 740000.0}, {\\\"x\\\": 2190.0, \\\"y\\\": 320000.0}, {\\\"x\\\": 2050.0, \\\"y\\\": 455000.0}, {\\\"x\\\": 2470.0, \\\"y\\\": 2450000.0}, {\\\"x\\\": 1550.0, \\\"y\\\": 500000.0}, {\\\"x\\\": 1610.0, \\\"y\\\": 325000.0}, {\\\"x\\\": 1610.0, \\\"y\\\": 416000.0}, {\\\"x\\\": 2190.0, \\\"y\\\": 495000.0}, {\\\"x\\\": 1520.0, \\\"y\\\": 549000.0}, {\\\"x\\\": 2200.0, \\\"y\\\": 589000.0}, {\\\"x\\\": 1616.0, \\\"y\\\": 194820.0}, {\\\"x\\\": 1790.0, \\\"y\\\": 405000.0}, {\\\"x\\\": 1790.0, \\\"y\\\": 625000.0}, {\\\"x\\\": 1440.0, \\\"y\\\": 205000.0}, {\\\"x\\\": 1950.0, \\\"y\\\": 345100.0}, {\\\"x\\\": 1250.0, \\\"y\\\": 200000.0}, {\\\"x\\\": 3520.0, \\\"y\\\": 1905000.0}, {\\\"x\\\": 1660.0, \\\"y\\\": 524500.0}, {\\\"x\\\": 2370.0, \\\"y\\\": 598600.0}, {\\\"x\\\": 1820.0, \\\"y\\\": 367777.0}, {\\\"x\\\": 1800.0, \\\"y\\\": 750000.0}, {\\\"x\\\": 2110.0, \\\"y\\\": 575000.0}, {\\\"x\\\": 1490.0, \\\"y\\\": 84000.0}, {\\\"x\\\": 1170.0, \\\"y\\\": 255000.0}, {\\\"x\\\": 3300.0, \\\"y\\\": 1740000.0}, {\\\"x\\\": 1200.0, \\\"y\\\": 415000.0}, {\\\"x\\\": 720.0, \\\"y\\\": 449900.0}, {\\\"x\\\": 1440.0, \\\"y\\\": 220000.0}, {\\\"x\\\": 3280.0, \\\"y\\\": 899000.0}, {\\\"x\\\": 1160.0, \\\"y\\\": 430000.0}, {\\\"x\\\": 2770.0, \\\"y\\\": 472500.0}, {\\\"x\\\": 2670.0, \\\"y\\\": 680000.0}, {\\\"x\\\": 3430.0, \\\"y\\\": 1650000.0}, {\\\"x\\\": 1920.0, \\\"y\\\": 810000.0}, {\\\"x\\\": 2090.0, \\\"y\\\": 605000.0}, {\\\"x\\\": 1830.0, \\\"y\\\": 522000.0}, {\\\"x\\\": 3480.0, \\\"y\\\": 759000.0}, {\\\"x\\\": 1660.0, \\\"y\\\": 411000.0}, {\\\"x\\\": 1890.0, \\\"y\\\": 286950.0}, {\\\"x\\\": 1720.0, \\\"y\\\": 440000.0}, {\\\"x\\\": 1500.0, \\\"y\\\": 149000.0}, {\\\"x\\\": 1500.0, \\\"y\\\": 284700.0}, {\\\"x\\\": 2230.0, \\\"y\\\": 374950.0}, {\\\"x\\\": 1660.0, \\\"y\\\": 816000.0}, {\\\"x\\\": 1840.0, \\\"y\\\": 533250.0}, {\\\"x\\\": 2390.0, \\\"y\\\": 689800.0}, {\\\"x\\\": 2430.0, \\\"y\\\": 775000.0}, {\\\"x\\\": 2060.0, \\\"y\\\": 702000.0}, {\\\"x\\\": 1300.0, \\\"y\\\": 160000.0}, {\\\"x\\\": 1300.0, \\\"y\\\": 255500.0}, {\\\"x\\\": 2980.0, \\\"y\\\": 949000.0}, {\\\"x\\\": 800.0, \\\"y\\\": 169500.0}, {\\\"x\\\": 2110.0, \\\"y\\\": 586000.0}, {\\\"x\\\": 2290.0, \\\"y\\\": 680000.0}, {\\\"x\\\": 1670.0, \\\"y\\\": 851500.0}, {\\\"x\\\": 1640.0, \\\"y\\\": 582500.0}, {\\\"x\\\": 1830.0, \\\"y\\\": 637000.0}, {\\\"x\\\": 1320.0, \\\"y\\\": 225000.0}, {\\\"x\\\": 1600.0, \\\"y\\\": 795000.0}, {\\\"x\\\": 1930.0, \\\"y\\\": 304999.0}, {\\\"x\\\": 970.0, \\\"y\\\": 95000.0}, {\\\"x\\\": 1150.0, \\\"y\\\": 240000.0}, {\\\"x\\\": 2140.0, \\\"y\\\": 772000.0}, {\\\"x\\\": 1460.0, \\\"y\\\": 245000.0}, {\\\"x\\\": 1980.0, \\\"y\\\": 430000.0}, {\\\"x\\\": 2700.0, \\\"y\\\": 799000.0}, {\\\"x\\\": 2250.0, \\\"y\\\": 880000.0}, {\\\"x\\\": 3450.0, \\\"y\\\": 750000.0}, {\\\"x\\\": 3930.0, \\\"y\\\": 2890000.0}, {\\\"x\\\": 2090.0, \\\"y\\\": 532000.0}, {\\\"x\\\": 2270.0, \\\"y\\\": 525000.0}, {\\\"x\\\": 1680.0, \\\"y\\\": 239000.0}, {\\\"x\\\": 1700.0, \\\"y\\\": 460000.0}, {\\\"x\\\": 2270.0, \\\"y\\\": 540000.0}, {\\\"x\\\": 1310.0, \\\"y\\\": 475000.0}, {\\\"x\\\": 1350.0, \\\"y\\\": 445000.0}, {\\\"x\\\": 3380.0, \\\"y\\\": 1575000.0}, {\\\"x\\\": 3640.0, \\\"y\\\": 549950.0}, {\\\"x\\\": 1630.0, \\\"y\\\": 294950.0}, {\\\"x\\\": 1980.0, \\\"y\\\": 736000.0}, {\\\"x\\\": 1750.0, \\\"y\\\": 214946.0}, {\\\"x\\\": 3260.0, \\\"y\\\": 856000.0}, {\\\"x\\\": 2315.0, \\\"y\\\": 775000.0}, {\\\"x\\\": 1564.0, \\\"y\\\": 205000.0}, {\\\"x\\\": 1110.0, \\\"y\\\": 429592.0}, {\\\"x\\\": 1470.0, \\\"y\\\": 414250.0}, {\\\"x\\\": 1040.0, \\\"y\\\": 399950.0}, {\\\"x\\\": 2050.0, \\\"y\\\": 319990.0}, {\\\"x\\\": 2100.0, \\\"y\\\": 524000.0}, {\\\"x\\\": 1600.0, \\\"y\\\": 349950.0}, {\\\"x\\\": 2070.0, \\\"y\\\": 889000.0}, {\\\"x\\\": 1060.0, \\\"y\\\": 300000.0}, {\\\"x\\\": 1520.0, \\\"y\\\": 395000.0}, {\\\"x\\\": 1280.0, \\\"y\\\": 348000.0}, {\\\"x\\\": 2450.0, \\\"y\\\": 830000.0}, {\\\"x\\\": 1240.0, \\\"y\\\": 173000.0}, {\\\"x\\\": 2500.0, \\\"y\\\": 585000.0}, {\\\"x\\\": 1450.0, \\\"y\\\": 576750.0}, {\\\"x\\\": 2020.0, \\\"y\\\": 495000.0}, {\\\"x\\\": 1220.0, \\\"y\\\": 216650.0}, {\\\"x\\\": 2750.0, \\\"y\\\": 615000.0}, {\\\"x\\\": 2740.0, \\\"y\\\": 675000.0}, {\\\"x\\\": 1830.0, \\\"y\\\": 510000.0}, {\\\"x\\\": 2020.0, \\\"y\\\": 630000.0}, {\\\"x\\\": 3010.0, \\\"y\\\": 359950.0}, {\\\"x\\\": 2080.0, \\\"y\\\": 265000.0}, {\\\"x\\\": 1540.0, \\\"y\\\": 210000.0}, {\\\"x\\\": 2180.0, \\\"y\\\": 367000.0}, {\\\"x\\\": 2880.0, \\\"y\\\": 1075000.0}, {\\\"x\\\": 2760.0, \\\"y\\\": 756000.0}, {\\\"x\\\": 1630.0, \\\"y\\\": 203000.0}, {\\\"x\\\": 2470.0, \\\"y\\\": 535000.0}, {\\\"x\\\": 1260.0, \\\"y\\\": 525000.0}, {\\\"x\\\": 1470.0, \\\"y\\\": 347500.0}, {\\\"x\\\": 1480.0, \\\"y\\\": 620000.0}, {\\\"x\\\": 2340.0, \\\"y\\\": 645000.0}, {\\\"x\\\": 3430.0, \\\"y\\\": 2200000.0}, {\\\"x\\\": 1330.0, \\\"y\\\": 280000.0}, {\\\"x\\\": 1690.0, \\\"y\\\": 432000.0}, {\\\"x\\\": 2610.0, \\\"y\\\": 790000.0}, {\\\"x\\\": 1680.0, \\\"y\\\": 635000.0}, {\\\"x\\\": 1590.0, \\\"y\\\": 442000.0}, {\\\"x\\\": 2640.0, \\\"y\\\": 490000.0}, {\\\"x\\\": 1740.0, \\\"y\\\": 250000.0}, {\\\"x\\\": 2440.0, \\\"y\\\": 1325000.0}, {\\\"x\\\": 1260.0, \\\"y\\\": 120000.0}, {\\\"x\\\": 4170.0, \\\"y\\\": 2950000.0}, {\\\"x\\\": 1670.0, \\\"y\\\": 325000.0}, {\\\"x\\\": 1490.0, \\\"y\\\": 210000.0}, {\\\"x\\\": 1360.0, \\\"y\\\": 215000.0}, {\\\"x\\\": 1800.0, \\\"y\\\": 387000.0}, {\\\"x\\\": 1160.0, \\\"y\\\": 408000.0}, {\\\"x\\\": 1470.0, \\\"y\\\": 410000.0}, {\\\"x\\\": 1520.0, \\\"y\\\": 216000.0}, {\\\"x\\\": 1520.0, \\\"y\\\": 390000.0}, {\\\"x\\\": 2020.0, \\\"y\\\": 357000.0}, {\\\"x\\\": 1750.0, \\\"y\\\": 215000.0}, {\\\"x\\\": 1610.0, \\\"y\\\": 265000.0}, {\\\"x\\\": 1520.0, \\\"y\\\": 589950.0}, {\\\"x\\\": 2650.0, \\\"y\\\": 440000.0}, {\\\"x\\\": 1420.0, \\\"y\\\": 248000.0}, {\\\"x\\\": 3080.0, \\\"y\\\": 730000.0}, {\\\"x\\\": 2767.0, \\\"y\\\": 425000.0}, {\\\"x\\\": 2620.0, \\\"y\\\": 680000.0}, {\\\"x\\\": 2160.0, \\\"y\\\": 341500.0}, {\\\"x\\\": 1110.0, \\\"y\\\": 395000.0}, {\\\"x\\\": 3721.0, \\\"y\\\": 1225000.0}, {\\\"x\\\": 2650.0, \\\"y\\\": 695500.0}, {\\\"x\\\": 1990.0, \\\"y\\\": 308000.0}, {\\\"x\\\": 1660.0, \\\"y\\\": 422500.0}, {\\\"x\\\": 1620.0, \\\"y\\\": 418000.0}, {\\\"x\\\": 1750.0, \\\"y\\\": 385000.0}, {\\\"x\\\": 2720.0, \\\"y\\\": 876650.0}, {\\\"x\\\": 1580.0, \\\"y\\\": 450000.0}, {\\\"x\\\": 1930.0, \\\"y\\\": 418800.0}, {\\\"x\\\": 1010.0, \\\"y\\\": 330000.0}, {\\\"x\\\": 2400.0, \\\"y\\\": 550000.0}, {\\\"x\\\": 2010.0, \\\"y\\\": 270000.0}, {\\\"x\\\": 3070.0, \\\"y\\\": 978500.0}, {\\\"x\\\": 3240.0, \\\"y\\\": 975000.0}, {\\\"x\\\": 1740.0, \\\"y\\\": 455000.0}, {\\\"x\\\": 2440.0, \\\"y\\\": 1415000.0}, {\\\"x\\\": 1350.0, \\\"y\\\": 220000.0}, {\\\"x\\\": 1380.0, \\\"y\\\": 490000.0}, {\\\"x\\\": 1710.0, \\\"y\\\": 420000.0}, {\\\"x\\\": 2640.0, \\\"y\\\": 408500.0}, {\\\"x\\\": 1260.0, \\\"y\\\": 716000.0}, {\\\"x\\\": 2320.0, \\\"y\\\": 965000.0}, {\\\"x\\\": 1690.0, \\\"y\\\": 357823.0}, {\\\"x\\\": 3930.0, \\\"y\\\": 7062500.0}, {\\\"x\\\": 1470.0, \\\"y\\\": 425000.0}, {\\\"x\\\": 1600.0, \\\"y\\\": 711777.0}, {\\\"x\\\": 1830.0, \\\"y\\\": 335000.0}, {\\\"x\\\": 1700.0, \\\"y\\\": 825000.0}, {\\\"x\\\": 1280.0, \\\"y\\\": 210000.0}, {\\\"x\\\": 2360.0, \\\"y\\\": 575000.0}, {\\\"x\\\": 4650.0, \\\"y\\\": 1208000.0}, {\\\"x\\\": 1365.0, \\\"y\\\": 431500.0}, {\\\"x\\\": 2100.0, \\\"y\\\": 475000.0}, {\\\"x\\\": 2800.0, \\\"y\\\": 1495000.0}, {\\\"x\\\": 2380.0, \\\"y\\\": 540000.0}, {\\\"x\\\": 3010.0, \\\"y\\\": 775000.0}, {\\\"x\\\": 1640.0, \\\"y\\\": 635000.0}, {\\\"x\\\": 4020.0, \\\"y\\\": 1300000.0}, {\\\"x\\\": 2060.0, \\\"y\\\": 405000.0}, {\\\"x\\\": 1320.0, \\\"y\\\": 210000.0}, {\\\"x\\\": 2240.0, \\\"y\\\": 880000.0}, {\\\"x\\\": 1360.0, \\\"y\\\": 239000.0}, {\\\"x\\\": 1710.0, \\\"y\\\": 515000.0}, {\\\"x\\\": 2850.0, \\\"y\\\": 1379900.0}, {\\\"x\\\": 1500.0, \\\"y\\\": 215000.0}, {\\\"x\\\": 1750.0, \\\"y\\\": 315000.0}, {\\\"x\\\": 1800.0, \\\"y\\\": 442500.0}, {\\\"x\\\": 1480.0, \\\"y\\\": 311000.0}, {\\\"x\\\": 1280.0, \\\"y\\\": 425000.0}, {\\\"x\\\": 1200.0, \\\"y\\\": 433500.0}, {\\\"x\\\": 1610.0, \\\"y\\\": 450000.0}, {\\\"x\\\": 1990.0, \\\"y\\\": 675000.0}, {\\\"x\\\": 1530.0, \\\"y\\\": 535000.0}, {\\\"x\\\": 1950.0, \\\"y\\\": 577000.0}, {\\\"x\\\": 1610.0, \\\"y\\\": 480000.0}, {\\\"x\\\": 2670.0, \\\"y\\\": 400000.0}, {\\\"x\\\": 1120.0, \\\"y\\\": 304000.0}, {\\\"x\\\": 1570.0, \\\"y\\\": 355000.0}, {\\\"x\\\": 2290.0, \\\"y\\\": 998000.0}, {\\\"x\\\": 2520.0, \\\"y\\\": 550000.0}, {\\\"x\\\": 2520.0, \\\"y\\\": 550000.0}, {\\\"x\\\": 1440.0, \\\"y\\\": 210000.0}, {\\\"x\\\": 2330.0, \\\"y\\\": 317000.0}, {\\\"x\\\": 2650.0, \\\"y\\\": 700000.0}, {\\\"x\\\": 1490.0, \\\"y\\\": 265000.0}, {\\\"x\\\": 3150.0, \\\"y\\\": 700000.0}, {\\\"x\\\": 3260.0, \\\"y\\\": 1020000.0}, {\\\"x\\\": 2840.0, \\\"y\\\": 1145000.0}, {\\\"x\\\": 2740.0, \\\"y\\\": 460000.0}, {\\\"x\\\": 1570.0, \\\"y\\\": 410000.0}, {\\\"x\\\": 1430.0, \\\"y\\\": 665000.0}, {\\\"x\\\": 2820.0, \\\"y\\\": 600000.0}, {\\\"x\\\": 1480.0, \\\"y\\\": 502000.0}, {\\\"x\\\": 1780.0, \\\"y\\\": 364950.0}, {\\\"x\\\": 1870.0, \\\"y\\\": 680000.0}, {\\\"x\\\": 2080.0, \\\"y\\\": 235500.0}, {\\\"x\\\": 2620.0, \\\"y\\\": 576000.0}, {\\\"x\\\": 1410.0, \\\"y\\\": 405000.0}, {\\\"x\\\": 2240.0, \\\"y\\\": 335000.0}, {\\\"x\\\": 1170.0, \\\"y\\\": 122000.0}, {\\\"x\\\": 2630.0, \\\"y\\\": 432000.0}, {\\\"x\\\": 2640.0, \\\"y\\\": 375000.0}, {\\\"x\\\": 1630.0, \\\"y\\\": 276000.0}, {\\\"x\\\": 2440.0, \\\"y\\\": 450000.0}, {\\\"x\\\": 2150.0, \\\"y\\\": 210000.0}, {\\\"x\\\": 2000.0, \\\"y\\\": 279000.0}, {\\\"x\\\": 1470.0, \\\"y\\\": 635000.0}, {\\\"x\\\": 2710.0, \\\"y\\\": 350000.0}, {\\\"x\\\": 1300.0, \\\"y\\\": 218000.0}, {\\\"x\\\": 1760.0, \\\"y\\\": 750000.0}, {\\\"x\\\": 2420.0, \\\"y\\\": 310597.0}, {\\\"x\\\": 1750.0, \\\"y\\\": 355000.0}, {\\\"x\\\": 3210.0, \\\"y\\\": 735000.0}, {\\\"x\\\": 1040.0, \\\"y\\\": 155000.0}, {\\\"x\\\": 2090.0, \\\"y\\\": 354000.0}, {\\\"x\\\": 2070.0, \\\"y\\\": 415000.0}, {\\\"x\\\": 780.0, \\\"y\\\": 202000.0}, {\\\"x\\\": 1500.0, \\\"y\\\": 580000.0}, {\\\"x\\\": 2500.0, \\\"y\\\": 1495000.0}, {\\\"x\\\": 3920.0, \\\"y\\\": 790000.0}, {\\\"x\\\": 2100.0, \\\"y\\\": 499900.0}, {\\\"x\\\": 1728.0, \\\"y\\\": 525000.0}, {\\\"x\\\": 2800.0, \\\"y\\\": 810000.0}, {\\\"x\\\": 1740.0, \\\"y\\\": 425000.0}, {\\\"x\\\": 1470.0, \\\"y\\\": 241250.0}, {\\\"x\\\": 2730.0, \\\"y\\\": 318700.0}, {\\\"x\\\": 1950.0, \\\"y\\\": 720000.0}, {\\\"x\\\": 1410.0, \\\"y\\\": 291000.0}, {\\\"x\\\": 1310.0, \\\"y\\\": 420000.0}, {\\\"x\\\": 1150.0, \\\"y\\\": 210000.0}, {\\\"x\\\": 2970.0, \\\"y\\\": 645000.0}, {\\\"x\\\": 1920.0, \\\"y\\\": 762000.0}, {\\\"x\\\": 1240.0, \\\"y\\\": 247500.0}, {\\\"x\\\": 1570.0, \\\"y\\\": 282500.0}, {\\\"x\\\": 2030.0, \\\"y\\\": 395000.0}, {\\\"x\\\": 1560.0, \\\"y\\\": 295000.0}, {\\\"x\\\": 2270.0, \\\"y\\\": 235000.0}, {\\\"x\\\": 1530.0, \\\"y\\\": 770000.0}, {\\\"x\\\": 1670.0, \\\"y\\\": 559950.0}, {\\\"x\\\": 1800.0, \\\"y\\\": 639000.0}, {\\\"x\\\": 1570.0, \\\"y\\\": 314950.0}, {\\\"x\\\": 1540.0, \\\"y\\\": 525000.0}, {\\\"x\\\": 3000.0, \\\"y\\\": 2400000.0}, {\\\"x\\\": 1290.0, \\\"y\\\": 820000.0}, {\\\"x\\\": 2490.0, \\\"y\\\": 1385000.0}, {\\\"x\\\": 1160.0, \\\"y\\\": 521450.0}, {\\\"x\\\": 3240.0, \\\"y\\\": 760750.0}, {\\\"x\\\": 2027.0, \\\"y\\\": 759600.0}, {\\\"x\\\": 2070.0, \\\"y\\\": 346150.0}, {\\\"x\\\": 1520.0, \\\"y\\\": 390000.0}, {\\\"x\\\": 2310.0, \\\"y\\\": 359950.0}, {\\\"x\\\": 1440.0, \\\"y\\\": 430000.0}, {\\\"x\\\": 3900.0, \\\"y\\\": 960000.0}, {\\\"x\\\": 2810.0, \\\"y\\\": 800000.0}, {\\\"x\\\": 2360.0, \\\"y\\\": 1010000.0}, {\\\"x\\\": 1360.0, \\\"y\\\": 290000.0}, {\\\"x\\\": 2500.0, \\\"y\\\": 1350000.0}, {\\\"x\\\": 3130.0, \\\"y\\\": 777000.0}, {\\\"x\\\": 1470.0, \\\"y\\\": 526000.0}, {\\\"x\\\": 1490.0, \\\"y\\\": 550000.0}, {\\\"x\\\": 1500.0, \\\"y\\\": 276000.0}, {\\\"x\\\": 4470.0, \\\"y\\\": 2500000.0}, {\\\"x\\\": 1230.0, \\\"y\\\": 325000.0}, {\\\"x\\\": 1780.0, \\\"y\\\": 365000.0}, {\\\"x\\\": 2050.0, \\\"y\\\": 2150000.0}, {\\\"x\\\": 2010.0, \\\"y\\\": 825050.0}, {\\\"x\\\": 1870.0, \\\"y\\\": 690000.0}, {\\\"x\\\": 1140.0, \\\"y\\\": 390000.0}, {\\\"x\\\": 1380.0, \\\"y\\\": 385000.0}, {\\\"x\\\": 2170.0, \\\"y\\\": 619000.0}, {\\\"x\\\": 2060.0, \\\"y\\\": 494000.0}, {\\\"x\\\": 2010.0, \\\"y\\\": 412450.0}, {\\\"x\\\": 1220.0, \\\"y\\\": 580000.0}, {\\\"x\\\": 1540.0, \\\"y\\\": 269900.0}, {\\\"x\\\": 1710.0, \\\"y\\\": 704300.0}, {\\\"x\\\": 1264.0, \\\"y\\\": 267000.0}, {\\\"x\\\": 1980.0, \\\"y\\\": 310000.0}, {\\\"x\\\": 1530.0, \\\"y\\\": 227064.0}, {\\\"x\\\": 1800.0, \\\"y\\\": 925000.0}, {\\\"x\\\": 1820.0, \\\"y\\\": 245000.0}, {\\\"x\\\": 1520.0, \\\"y\\\": 339888.0}, {\\\"x\\\": 1730.0, \\\"y\\\": 439000.0}, {\\\"x\\\": 1840.0, \\\"y\\\": 400000.0}, {\\\"x\\\": 2070.0, \\\"y\\\": 560000.0}, {\\\"x\\\": 2460.0, \\\"y\\\": 703011.0}, {\\\"x\\\": 1510.0, \\\"y\\\": 363000.0}, {\\\"x\\\": 2640.0, \\\"y\\\": 650000.0}, {\\\"x\\\": 1470.0, \\\"y\\\": 299950.0}, {\\\"x\\\": 1120.0, \\\"y\\\": 228950.0}, {\\\"x\\\": 1570.0, \\\"y\\\": 465000.0}, {\\\"x\\\": 2860.0, \\\"y\\\": 725000.0}, {\\\"x\\\": 1170.0, \\\"y\\\": 212500.0}, {\\\"x\\\": 2260.0, \\\"y\\\": 526000.0}, {\\\"x\\\": 2280.0, \\\"y\\\": 383000.0}, {\\\"x\\\": 1600.0, \\\"y\\\": 244000.0}, {\\\"x\\\": 1620.0, \\\"y\\\": 565000.0}, {\\\"x\\\": 1480.0, \\\"y\\\": 373000.0}, {\\\"x\\\": 1310.0, \\\"y\\\": 300000.0}, {\\\"x\\\": 2420.0, \\\"y\\\": 405000.0}, {\\\"x\\\": 2630.0, \\\"y\\\": 979000.0}, {\\\"x\\\": 1790.0, \\\"y\\\": 324888.0}, {\\\"x\\\": 1220.0, \\\"y\\\": 445000.0}, {\\\"x\\\": 1230.0, \\\"y\\\": 761000.0}, {\\\"x\\\": 1650.0, \\\"y\\\": 435000.0}, {\\\"x\\\": 1540.0, \\\"y\\\": 252000.0}, {\\\"x\\\": 1640.0, \\\"y\\\": 350000.0}, {\\\"x\\\": 1910.0, \\\"y\\\": 875000.0}, {\\\"x\\\": 1910.0, \\\"y\\\": 940000.0}, {\\\"x\\\": 2140.0, \\\"y\\\": 280000.0}, {\\\"x\\\": 2540.0, \\\"y\\\": 450000.0}, {\\\"x\\\": 2310.0, \\\"y\\\": 905000.0}, {\\\"x\\\": 2420.0, \\\"y\\\": 382450.0}, {\\\"x\\\": 1610.0, \\\"y\\\": 246700.0}, {\\\"x\\\": 1480.0, \\\"y\\\": 220000.0}, {\\\"x\\\": 1200.0, \\\"y\\\": 555750.0}, {\\\"x\\\": 1160.0, \\\"y\\\": 262500.0}, {\\\"x\\\": 1600.0, \\\"y\\\": 515000.0}, {\\\"x\\\": 2040.0, \\\"y\\\": 499500.0}, {\\\"x\\\": 1240.0, \\\"y\\\": 135000.0}, {\\\"x\\\": 1540.0, \\\"y\\\": 462500.0}, {\\\"x\\\": 3680.0, \\\"y\\\": 937500.0}, {\\\"x\\\": 1390.0, \\\"y\\\": 458000.0}, {\\\"x\\\": 2200.0, \\\"y\\\": 845000.0}, {\\\"x\\\": 2300.0, \\\"y\\\": 660000.0}, {\\\"x\\\": 1630.0, \\\"y\\\": 265000.0}, {\\\"x\\\": 1460.0, \\\"y\\\": 599999.0}, {\\\"x\\\": 1770.0, \\\"y\\\": 280000.0}, {\\\"x\\\": 3500.0, \\\"y\\\": 1055000.0}, {\\\"x\\\": 3160.0, \\\"y\\\": 875000.0}, {\\\"x\\\": 1120.0, \\\"y\\\": 125000.0}, {\\\"x\\\": 2600.0, \\\"y\\\": 634800.0}, {\\\"x\\\": 1740.0, \\\"y\\\": 269950.0}, {\\\"x\\\": 2180.0, \\\"y\\\": 359950.0}, {\\\"x\\\": 1970.0, \\\"y\\\": 417000.0}, {\\\"x\\\": 1350.0, \\\"y\\\": 389000.0}, {\\\"x\\\": 3710.0, \\\"y\\\": 1038000.0}, {\\\"x\\\": 2200.0, \\\"y\\\": 698000.0}, {\\\"x\\\": 1560.0, \\\"y\\\": 685000.0}, {\\\"x\\\": 1240.0, \\\"y\\\": 198500.0}, {\\\"x\\\": 2620.0, \\\"y\\\": 350000.0}, {\\\"x\\\": 2340.0, \\\"y\\\": 649950.0}, {\\\"x\\\": 1560.0, \\\"y\\\": 441000.0}, {\\\"x\\\": 2040.0, \\\"y\\\": 462600.0}, {\\\"x\\\": 2070.0, \\\"y\\\": 365070.0}, {\\\"x\\\": 1440.0, \\\"y\\\": 550000.0}, {\\\"x\\\": 1990.0, \\\"y\\\": 470000.0}, {\\\"x\\\": 1090.0, \\\"y\\\": 340000.0}, {\\\"x\\\": 3050.0, \\\"y\\\": 910000.0}, {\\\"x\\\": 1880.0, \\\"y\\\": 405000.0}, {\\\"x\\\": 1810.0, \\\"y\\\": 661000.0}, {\\\"x\\\": 2240.0, \\\"y\\\": 635000.0}, {\\\"x\\\": 1790.0, \\\"y\\\": 282000.0}, {\\\"x\\\": 1350.0, \\\"y\\\": 235000.0}, {\\\"x\\\": 1430.0, \\\"y\\\": 277500.0}, {\\\"x\\\": 1680.0, \\\"y\\\": 346500.0}, {\\\"x\\\": 2010.0, \\\"y\\\": 480000.0}, {\\\"x\\\": 2170.0, \\\"y\\\": 360000.0}, {\\\"x\\\": 1710.0, \\\"y\\\": 245000.0}, {\\\"x\\\": 1560.0, \\\"y\\\": 625000.0}, {\\\"x\\\": 2070.0, \\\"y\\\": 750500.0}, {\\\"x\\\": 1750.0, \\\"y\\\": 525000.0}, {\\\"x\\\": 2870.0, \\\"y\\\": 740000.0}, {\\\"x\\\": 1260.0, \\\"y\\\": 523000.0}, {\\\"x\\\": 1640.0, \\\"y\\\": 292000.0}, {\\\"x\\\": 2660.0, \\\"y\\\": 625000.0}, {\\\"x\\\": 4240.0, \\\"y\\\": 700000.0}, {\\\"x\\\": 1480.0, \\\"y\\\": 399950.0}, {\\\"x\\\": 1740.0, \\\"y\\\": 545000.0}, {\\\"x\\\": 1560.0, \\\"y\\\": 339999.0}, {\\\"x\\\": 2880.0, \\\"y\\\": 1210000.0}, {\\\"x\\\": 2280.0, \\\"y\\\": 545000.0}, {\\\"x\\\": 2080.0, \\\"y\\\": 260000.0}, {\\\"x\\\": 1680.0, \\\"y\\\": 526000.0}, {\\\"x\\\": 3040.0, \\\"y\\\": 701000.0}, {\\\"x\\\": 1480.0, \\\"y\\\": 290000.0}, {\\\"x\\\": 1260.0, \\\"y\\\": 330600.0}, {\\\"x\\\": 1950.0, \\\"y\\\": 550500.0}, {\\\"x\\\": 1360.0, \\\"y\\\": 430000.0}, {\\\"x\\\": 3140.0, \\\"y\\\": 4000000.0}, {\\\"x\\\": 1490.0, \\\"y\\\": 260600.0}, {\\\"x\\\": 2000.0, \\\"y\\\": 825000.0}, {\\\"x\\\": 1700.0, \\\"y\\\": 378950.0}, {\\\"x\\\": 2590.0, \\\"y\\\": 435000.0}, {\\\"x\\\": 1610.0, \\\"y\\\": 631000.0}, {\\\"x\\\": 2300.0, \\\"y\\\": 415000.0}, {\\\"x\\\": 1650.0, \\\"y\\\": 222000.0}, {\\\"x\\\": 1390.0, \\\"y\\\": 245000.0}, {\\\"x\\\": 2960.0, \\\"y\\\": 720000.0}, {\\\"x\\\": 1620.0, \\\"y\\\": 215000.0}, {\\\"x\\\": 1760.0, \\\"y\\\": 579100.0}, {\\\"x\\\": 2460.0, \\\"y\\\": 522500.0}, {\\\"x\\\": 1620.0, \\\"y\\\": 489000.0}, {\\\"x\\\": 1280.0, \\\"y\\\": 240000.0}, {\\\"x\\\": 1510.0, \\\"y\\\": 420250.0}, {\\\"x\\\": 2700.0, \\\"y\\\": 523000.0}, {\\\"x\\\": 2030.0, \\\"y\\\": 628000.0}, {\\\"x\\\": 2300.0, \\\"y\\\": 320000.0}, {\\\"x\\\": 1700.0, \\\"y\\\": 359950.0}, {\\\"x\\\": 1200.0, \\\"y\\\": 232000.0}, {\\\"x\\\": 2660.0, \\\"y\\\": 810000.0}, {\\\"x\\\": 1420.0, \\\"y\\\": 245000.0}, {\\\"x\\\": 1510.0, \\\"y\\\": 273000.0}, {\\\"x\\\": 3180.0, \\\"y\\\": 1191000.0}, {\\\"x\\\": 1950.0, \\\"y\\\": 438000.0}, {\\\"x\\\": 880.0, \\\"y\\\": 400000.0}, {\\\"x\\\": 1404.0, \\\"y\\\": 340000.0}, {\\\"x\\\": 1430.0, \\\"y\\\": 552000.0}, {\\\"x\\\": 1890.0, \\\"y\\\": 790000.0}, {\\\"x\\\": 1440.0, \\\"y\\\": 360000.0}, {\\\"x\\\": 1530.0, \\\"y\\\": 235000.0}, {\\\"x\\\": 1540.0, \\\"y\\\": 775000.0}, {\\\"x\\\": 1250.0, \\\"y\\\": 489200.0}, {\\\"x\\\": 1680.0, \\\"y\\\": 341000.0}, {\\\"x\\\": 2305.0, \\\"y\\\": 335000.0}, {\\\"x\\\": 1170.0, \\\"y\\\": 393500.0}, {\\\"x\\\": 2190.0, \\\"y\\\": 360000.0}, {\\\"x\\\": 1270.0, \\\"y\\\": 400800.0}, {\\\"x\\\": 1810.0, \\\"y\\\": 585000.0}, {\\\"x\\\": 3200.0, \\\"y\\\": 1600000.0}, {\\\"x\\\": 3420.0, \\\"y\\\": 2880500.0}, {\\\"x\\\": 1510.0, \\\"y\\\": 300000.0}, {\\\"x\\\": 2000.0, \\\"y\\\": 1045000.0}, {\\\"x\\\": 1220.0, \\\"y\\\": 360000.0}, {\\\"x\\\": 1660.0, \\\"y\\\": 665900.0}, {\\\"x\\\": 1800.0, \\\"y\\\": 470000.0}, {\\\"x\\\": 1310.0, \\\"y\\\": 581000.0}, {\\\"x\\\": 1400.0, \\\"y\\\": 527000.0}, {\\\"x\\\": 1550.0, \\\"y\\\": 423000.0}, {\\\"x\\\": 1860.0, \\\"y\\\": 875000.0}, {\\\"x\\\": 1440.0, \\\"y\\\": 410000.0}, {\\\"x\\\": 2320.0, \\\"y\\\": 606000.0}, {\\\"x\\\": 2570.0, \\\"y\\\": 654000.0}, {\\\"x\\\": 800.0, \\\"y\\\": 150000.0}, {\\\"x\\\": 1800.0, \\\"y\\\": 373000.0}, {\\\"x\\\": 1310.0, \\\"y\\\": 550000.0}, {\\\"x\\\": 1980.0, \\\"y\\\": 512500.0}, {\\\"x\\\": 2640.0, \\\"y\\\": 360000.0}, {\\\"x\\\": 1340.0, \\\"y\\\": 369000.0}, {\\\"x\\\": 3220.0, \\\"y\\\": 825000.0}, {\\\"x\\\": 1280.0, \\\"y\\\": 255000.0}, {\\\"x\\\": 3490.0, \\\"y\\\": 1285000.0}, {\\\"x\\\": 1780.0, \\\"y\\\": 270000.0}, {\\\"x\\\": 1610.0, \\\"y\\\": 480680.0}, {\\\"x\\\": 2160.0, \\\"y\\\": 525000.0}, {\\\"x\\\": 1170.0, \\\"y\\\": 291500.0}, {\\\"x\\\": 1730.0, \\\"y\\\": 305000.0}, {\\\"x\\\": 1620.0, \\\"y\\\": 285000.0}, {\\\"x\\\": 3530.0, \\\"y\\\": 1875000.0}, {\\\"x\\\": 2380.0, \\\"y\\\": 329500.0}, {\\\"x\\\": 2870.0, \\\"y\\\": 1570000.0}, {\\\"x\\\": 2100.0, \\\"y\\\": 379260.0}, {\\\"x\\\": 1590.0, \\\"y\\\": 356000.0}, {\\\"x\\\": 1360.0, \\\"y\\\": 571900.0}, {\\\"x\\\": 1980.0, \\\"y\\\": 271500.0}, {\\\"x\\\": 1520.0, \\\"y\\\": 390000.0}, {\\\"x\\\": 2770.0, \\\"y\\\": 550000.0}, {\\\"x\\\": 1920.0, \\\"y\\\": 755000.0}, {\\\"x\\\": 1880.0, \\\"y\\\": 509500.0}, {\\\"x\\\": 1200.0, \\\"y\\\": 486700.0}, {\\\"x\\\": 1530.0, \\\"y\\\": 527500.0}, {\\\"x\\\": 1780.0, \\\"y\\\": 475000.0}, {\\\"x\\\": 1800.0, \\\"y\\\": 268000.0}, {\\\"x\\\": 2370.0, \\\"y\\\": 562000.0}, {\\\"x\\\": 2810.0, \\\"y\\\": 780000.0}, {\\\"x\\\": 1960.0, \\\"y\\\": 700000.0}, {\\\"x\\\": 1790.0, \\\"y\\\": 710000.0}, {\\\"x\\\": 1500.0, \\\"y\\\": 445000.0}, {\\\"x\\\": 2760.0, \\\"y\\\": 729000.0}, {\\\"x\\\": 1459.0, \\\"y\\\": 384400.0}, {\\\"x\\\": 1920.0, \\\"y\\\": 815000.0}, {\\\"x\\\": 1810.0, \\\"y\\\": 865000.0}, {\\\"x\\\": 2250.0, \\\"y\\\": 514000.0}, {\\\"x\\\": 2580.0, \\\"y\\\": 615000.0}, {\\\"x\\\": 3460.0, \\\"y\\\": 865000.0}, {\\\"x\\\": 3090.0, \\\"y\\\": 755000.0}, {\\\"x\\\": 1580.0, \\\"y\\\": 425000.0}, {\\\"x\\\": 1330.0, \\\"y\\\": 375000.0}, {\\\"x\\\": 2750.0, \\\"y\\\": 750000.0}, {\\\"x\\\": 3160.0, \\\"y\\\": 722000.0}, {\\\"x\\\": 1790.0, \\\"y\\\": 1011000.0}, {\\\"x\\\": 2610.0, \\\"y\\\": 725000.0}, {\\\"x\\\": 1270.0, \\\"y\\\": 170000.0}, {\\\"x\\\": 1910.0, \\\"y\\\": 845000.0}, {\\\"x\\\": 1450.0, \\\"y\\\": 271900.0}, {\\\"x\\\": 1100.0, \\\"y\\\": 1300000.0}, {\\\"x\\\": 2210.0, \\\"y\\\": 261500.0}, {\\\"x\\\": 2170.0, \\\"y\\\": 619500.0}, {\\\"x\\\": 1300.0, \\\"y\\\": 435000.0}, {\\\"x\\\": 1320.0, \\\"y\\\": 210000.0}, {\\\"x\\\": 1350.0, \\\"y\\\": 489950.0}, {\\\"x\\\": 1480.0, \\\"y\\\": 260000.0}, {\\\"x\\\": 1370.0, \\\"y\\\": 300000.0}, {\\\"x\\\": 2310.0, \\\"y\\\": 530000.0}, {\\\"x\\\": 2100.0, \\\"y\\\": 235000.0}, {\\\"x\\\": 1370.0, \\\"y\\\": 593500.0}, {\\\"x\\\": 1830.0, \\\"y\\\": 562000.0}, {\\\"x\\\": 2930.0, \\\"y\\\": 585000.0}, {\\\"x\\\": 4020.0, \\\"y\\\": 2400000.0}, {\\\"x\\\": 1690.0, \\\"y\\\": 199500.0}, {\\\"x\\\": 1230.0, \\\"y\\\": 544500.0}, {\\\"x\\\": 1670.0, \\\"y\\\": 394900.0}, {\\\"x\\\": 1480.0, \\\"y\\\": 912000.0}, {\\\"x\\\": 1640.0, \\\"y\\\": 260000.0}, {\\\"x\\\": 2930.0, \\\"y\\\": 858000.0}, {\\\"x\\\": 3560.0, \\\"y\\\": 1275000.0}, {\\\"x\\\": 1180.0, \\\"y\\\": 242150.0}, {\\\"x\\\": 1540.0, \\\"y\\\": 220000.0}, {\\\"x\\\": 1690.0, \\\"y\\\": 235000.0}, {\\\"x\\\": 1940.0, \\\"y\\\": 370000.0}, {\\\"x\\\": 2410.0, \\\"y\\\": 450000.0}, {\\\"x\\\": 1870.0, \\\"y\\\": 534950.0}, {\\\"x\\\": 3450.0, \\\"y\\\": 730000.0}, {\\\"x\\\": 2350.0, \\\"y\\\": 465000.0}, {\\\"x\\\": 1770.0, \\\"y\\\": 178000.0}, {\\\"x\\\": 1800.0, \\\"y\\\": 215000.0}, {\\\"x\\\": 2450.0, \\\"y\\\": 300000.0}, {\\\"x\\\": 1950.0, \\\"y\\\": 430000.0}, {\\\"x\\\": 1280.0, \\\"y\\\": 183000.0}, {\\\"x\\\": 1760.0, \\\"y\\\": 585000.0}, {\\\"x\\\": 1090.0, \\\"y\\\": 192950.0}, {\\\"x\\\": 1340.0, \\\"y\\\": 599000.0}, {\\\"x\\\": 1060.0, \\\"y\\\": 326500.0}, {\\\"x\\\": 1040.0, \\\"y\\\": 358803.0}, {\\\"x\\\": 2610.0, \\\"y\\\": 537000.0}, {\\\"x\\\": 2800.0, \\\"y\\\": 1155000.0}, {\\\"x\\\": 1210.0, \\\"y\\\": 156000.0}, {\\\"x\\\": 1250.0, \\\"y\\\": 219000.0}, {\\\"x\\\": 2520.0, \\\"y\\\": 1190000.0}, {\\\"x\\\": 1920.0, \\\"y\\\": 248000.0}, {\\\"x\\\": 2250.0, \\\"y\\\": 340000.0}, {\\\"x\\\": 2440.0, \\\"y\\\": 899100.0}, {\\\"x\\\": 1850.0, \\\"y\\\": 346950.0}, {\\\"x\\\": 1520.0, \\\"y\\\": 330000.0}, {\\\"x\\\": 1580.0, \\\"y\\\": 325000.0}, {\\\"x\\\": 2050.0, \\\"y\\\": 315000.0}, {\\\"x\\\": 1680.0, \\\"y\\\": 649950.0}, {\\\"x\\\": 1350.0, \\\"y\\\": 316000.0}, {\\\"x\\\": 1750.0, \\\"y\\\": 386000.0}, {\\\"x\\\": 1830.0, \\\"y\\\": 535000.0}, {\\\"x\\\": 1520.0, \\\"y\\\": 600000.0}, {\\\"x\\\": 2630.0, \\\"y\\\": 339000.0}, {\\\"x\\\": 1740.0, \\\"y\\\": 167000.0}, {\\\"x\\\": 1600.0, \\\"y\\\": 430000.0}, {\\\"x\\\": 3920.0, \\\"y\\\": 688000.0}, {\\\"x\\\": 2780.0, \\\"y\\\": 834500.0}, {\\\"x\\\": 3110.0, \\\"y\\\": 1075000.0}, {\\\"x\\\": 1900.0, \\\"y\\\": 250000.0}, {\\\"x\\\": 1160.0, \\\"y\\\": 402500.0}, {\\\"x\\\": 2020.0, \\\"y\\\": 432500.0}, {\\\"x\\\": 2028.0, \\\"y\\\": 485000.0}, {\\\"x\\\": 2930.0, \\\"y\\\": 560000.0}, {\\\"x\\\": 1090.0, \\\"y\\\": 410000.0}, {\\\"x\\\": 1930.0, \\\"y\\\": 455000.0}, {\\\"x\\\": 1350.0, \\\"y\\\": 459500.0}, {\\\"x\\\": 1870.0, \\\"y\\\": 371000.0}, {\\\"x\\\": 2420.0, \\\"y\\\": 289500.0}, {\\\"x\\\": 1390.0, \\\"y\\\": 395000.0}, {\\\"x\\\": 1720.0, \\\"y\\\": 496752.0}, {\\\"x\\\": 1220.0, \\\"y\\\": 227000.0}, {\\\"x\\\": 1550.0, \\\"y\\\": 330000.0}, {\\\"x\\\": 1750.0, \\\"y\\\": 480000.0}, {\\\"x\\\": 1480.0, \\\"y\\\": 290000.0}, {\\\"x\\\": 1340.0, \\\"y\\\": 281000.0}, {\\\"x\\\": 1710.0, \\\"y\\\": 705000.0}, {\\\"x\\\": 2470.0, \\\"y\\\": 1400000.0}, {\\\"x\\\": 2320.0, \\\"y\\\": 485000.0}, {\\\"x\\\": 1550.0, \\\"y\\\": 622000.0}, {\\\"x\\\": 1600.0, \\\"y\\\": 380000.0}, {\\\"x\\\": 2750.0, \\\"y\\\": 2125000.0}, {\\\"x\\\": 1480.0, \\\"y\\\": 561500.0}, {\\\"x\\\": 1110.0, \\\"y\\\": 242000.0}, {\\\"x\\\": 1650.0, \\\"y\\\": 348500.0}, {\\\"x\\\": 1650.0, \\\"y\\\": 370000.0}, {\\\"x\\\": 1610.0, \\\"y\\\": 752000.0}, {\\\"x\\\": 1540.0, \\\"y\\\": 230000.0}, {\\\"x\\\": 1280.0, \\\"y\\\": 715000.0}, {\\\"x\\\": 1900.0, \\\"y\\\": 240415.0}, {\\\"x\\\": 1620.0, \\\"y\\\": 562000.0}, {\\\"x\\\": 920.0, \\\"y\\\": 360000.0}, {\\\"x\\\": 1610.0, \\\"y\\\": 659950.0}, {\\\"x\\\": 1780.0, \\\"y\\\": 458500.0}, {\\\"x\\\": 1070.0, \\\"y\\\": 259950.0}, {\\\"x\\\": 2220.0, \\\"y\\\": 366000.0}, {\\\"x\\\": 2890.0, \\\"y\\\": 978000.0}, {\\\"x\\\": 1800.0, \\\"y\\\": 525000.0}, {\\\"x\\\": 1690.0, \\\"y\\\": 926300.0}, {\\\"x\\\": 1650.0, \\\"y\\\": 750000.0}, {\\\"x\\\": 1460.0, \\\"y\\\": 660000.0}, {\\\"x\\\": 1280.0, \\\"y\\\": 305000.0}, {\\\"x\\\": 2170.0, \\\"y\\\": 800000.0}, {\\\"x\\\": 2020.0, \\\"y\\\": 600000.0}, {\\\"x\\\": 1640.0, \\\"y\\\": 435000.0}, {\\\"x\\\": 2150.0, \\\"y\\\": 1135000.0}, {\\\"x\\\": 1250.0, \\\"y\\\": 318000.0}, {\\\"x\\\": 1940.0, \\\"y\\\": 639000.0}, {\\\"x\\\": 1750.0, \\\"y\\\": 453000.0}, {\\\"x\\\": 2370.0, \\\"y\\\": 800000.0}, {\\\"x\\\": 1450.0, \\\"y\\\": 437000.0}, {\\\"x\\\": 2560.0, \\\"y\\\": 1150000.0}, {\\\"x\\\": 1930.0, \\\"y\\\": 490000.0}, {\\\"x\\\": 1520.0, \\\"y\\\": 499950.0}, {\\\"x\\\": 1190.0, \\\"y\\\": 160134.0}, {\\\"x\\\": 1180.0, \\\"y\\\": 191000.0}, {\\\"x\\\": 1450.0, \\\"y\\\": 221000.0}, {\\\"x\\\": 2080.0, \\\"y\\\": 352800.0}, {\\\"x\\\": 1560.0, \\\"y\\\": 350000.0}, {\\\"x\\\": 1710.0, \\\"y\\\": 458000.0}, {\\\"x\\\": 2370.0, \\\"y\\\": 359950.0}, {\\\"x\\\": 2820.0, \\\"y\\\": 1050000.0}, {\\\"x\\\": 1270.0, \\\"y\\\": 353000.0}, {\\\"x\\\": 3040.0, \\\"y\\\": 717550.0}, {\\\"x\\\": 1860.0, \\\"y\\\": 450000.0}, {\\\"x\\\": 1020.0, \\\"y\\\": 167500.0}, {\\\"x\\\": 2030.0, \\\"y\\\": 550000.0}, {\\\"x\\\": 2440.0, \\\"y\\\": 939000.0}, {\\\"x\\\": 2490.0, \\\"y\\\": 700000.0}, {\\\"x\\\": 2790.0, \\\"y\\\": 480000.0}, {\\\"x\\\": 1810.0, \\\"y\\\": 501000.0}, {\\\"x\\\": 1770.0, \\\"y\\\": 580000.0}, {\\\"x\\\": 1590.0, \\\"y\\\": 527550.0}, {\\\"x\\\": 2750.0, \\\"y\\\": 399000.0}, {\\\"x\\\": 1500.0, \\\"y\\\": 240000.0}, {\\\"x\\\": 2240.0, \\\"y\\\": 353000.0}, {\\\"x\\\": 1480.0, \\\"y\\\": 335000.0}, {\\\"x\\\": 1370.0, \\\"y\\\": 475000.0}, {\\\"x\\\": 1820.0, \\\"y\\\": 660000.0}, {\\\"x\\\": 1700.0, \\\"y\\\": 551000.0}, {\\\"x\\\": 1890.0, \\\"y\\\": 249950.0}, {\\\"x\\\": 3240.0, \\\"y\\\": 1150000.0}, {\\\"x\\\": 2040.0, \\\"y\\\": 575000.0}, {\\\"x\\\": 3200.0, \\\"y\\\": 1088889.0}, {\\\"x\\\": 2850.0, \\\"y\\\": 515000.0}, {\\\"x\\\": 1510.0, \\\"y\\\": 235000.0}, {\\\"x\\\": 1380.0, \\\"y\\\": 796000.0}, {\\\"x\\\": 1450.0, \\\"y\\\": 450000.0}, {\\\"x\\\": 2490.0, \\\"y\\\": 2050000.0}, {\\\"x\\\": 1760.0, \\\"y\\\": 270000.0}, {\\\"x\\\": 2580.0, \\\"y\\\": 1705000.0}, {\\\"x\\\": 1680.0, \\\"y\\\": 565000.0}, {\\\"x\\\": 1860.0, \\\"y\\\": 680000.0}, {\\\"x\\\": 3560.0, \\\"y\\\": 5570000.0}, {\\\"x\\\": 3210.0, \\\"y\\\": 864500.0}, {\\\"x\\\": 2610.0, \\\"y\\\": 1150000.0}, {\\\"x\\\": 2010.0, \\\"y\\\": 335000.0}, {\\\"x\\\": 3639.0, \\\"y\\\": 911000.0}, {\\\"x\\\": 1310.0, \\\"y\\\": 425000.0}, {\\\"x\\\": 2000.0, \\\"y\\\": 299950.0}, {\\\"x\\\": 3040.0, \\\"y\\\": 864000.0}, {\\\"x\\\": 1770.0, \\\"y\\\": 425000.0}, {\\\"x\\\": 1880.0, \\\"y\\\": 374950.0}, {\\\"x\\\": 1930.0, \\\"y\\\": 247000.0}, {\\\"x\\\": 1760.0, \\\"y\\\": 475000.0}, {\\\"x\\\": 2710.0, \\\"y\\\": 275000.0}, {\\\"x\\\": 2330.0, \\\"y\\\": 355000.0}, {\\\"x\\\": 2100.0, \\\"y\\\": 285000.0}, {\\\"x\\\": 2630.0, \\\"y\\\": 1338750.0}, {\\\"x\\\": 1790.0, \\\"y\\\": 325000.0}, {\\\"x\\\": 4320.0, \\\"y\\\": 1670000.0}, {\\\"x\\\": 2470.0, \\\"y\\\": 402000.0}, {\\\"x\\\": 2320.0, \\\"y\\\": 1100000.0}, {\\\"x\\\": 2190.0, \\\"y\\\": 375000.0}, {\\\"x\\\": 2210.0, \\\"y\\\": 396000.0}, {\\\"x\\\": 1900.0, \\\"y\\\": 320000.0}, {\\\"x\\\": 2330.0, \\\"y\\\": 610000.0}, {\\\"x\\\": 1540.0, \\\"y\\\": 249950.0}, {\\\"x\\\": 2400.0, \\\"y\\\": 675000.0}, {\\\"x\\\": 1300.0, \\\"y\\\": 448000.0}, {\\\"x\\\": 2510.0, \\\"y\\\": 819000.0}, {\\\"x\\\": 2920.0, \\\"y\\\": 1250000.0}, {\\\"x\\\": 1930.0, \\\"y\\\": 225000.0}, {\\\"x\\\": 1620.0, \\\"y\\\": 790000.0}, {\\\"x\\\": 2120.0, \\\"y\\\": 685000.0}, {\\\"x\\\": 3420.0, \\\"y\\\": 812000.0}, {\\\"x\\\": 2300.0, \\\"y\\\": 705000.0}, {\\\"x\\\": 1943.0, \\\"y\\\": 360000.0}, {\\\"x\\\": 1290.0, \\\"y\\\": 344000.0}, {\\\"x\\\": 3150.0, \\\"y\\\": 825000.0}, {\\\"x\\\": 1550.0, \\\"y\\\": 476500.0}, {\\\"x\\\": 1760.0, \\\"y\\\": 379500.0}, {\\\"x\\\": 2110.0, \\\"y\\\": 620000.0}, {\\\"x\\\": 1880.0, \\\"y\\\": 477590.0}, {\\\"x\\\": 1600.0, \\\"y\\\": 490000.0}, {\\\"x\\\": 1500.0, \\\"y\\\": 470000.0}, {\\\"x\\\": 1620.0, \\\"y\\\": 500000.0}, {\\\"x\\\": 1160.0, \\\"y\\\": 370000.0}, {\\\"x\\\": 1480.0, \\\"y\\\": 790000.0}, {\\\"x\\\": 2230.0, \\\"y\\\": 725000.0}, {\\\"x\\\": 1260.0, \\\"y\\\": 840000.0}, {\\\"x\\\": 2220.0, \\\"y\\\": 390000.0}, {\\\"x\\\": 1870.0, \\\"y\\\": 507000.0}, {\\\"x\\\": 1140.0, \\\"y\\\": 263500.0}, {\\\"x\\\": 1320.0, \\\"y\\\": 369000.0}, {\\\"x\\\": 3040.0, \\\"y\\\": 500000.0}, {\\\"x\\\": 1810.0, \\\"y\\\": 570000.0}, {\\\"x\\\": 1940.0, \\\"y\\\": 284000.0}, {\\\"x\\\": 1500.0, \\\"y\\\": 415000.0}, {\\\"x\\\": 980.0, \\\"y\\\": 197500.0}, {\\\"x\\\": 2880.0, \\\"y\\\": 925000.0}, {\\\"x\\\": 1510.0, \\\"y\\\": 468000.0}, {\\\"x\\\": 1340.0, \\\"y\\\": 355000.0}, {\\\"x\\\": 1540.0, \\\"y\\\": 639000.0}, {\\\"x\\\": 2820.0, \\\"y\\\": 720000.0}, {\\\"x\\\": 1060.0, \\\"y\\\": 381000.0}, {\\\"x\\\": 3630.0, \\\"y\\\": 1050000.0}, {\\\"x\\\": 2710.0, \\\"y\\\": 670000.0}, {\\\"x\\\": 1080.0, \\\"y\\\": 400000.0}, {\\\"x\\\": 3770.0, \\\"y\\\": 910000.0}, {\\\"x\\\": 1590.0, \\\"y\\\": 294000.0}, {\\\"x\\\": 1770.0, \\\"y\\\": 315001.0}, {\\\"x\\\": 1450.0, \\\"y\\\": 360000.0}, {\\\"x\\\": 1750.0, \\\"y\\\": 520000.0}, {\\\"x\\\": 1340.0, \\\"y\\\": 474000.0}, {\\\"x\\\": 2600.0, \\\"y\\\": 702000.0}, {\\\"x\\\": 2400.0, \\\"y\\\": 728000.0}, {\\\"x\\\": 2820.0, \\\"y\\\": 308000.0}, {\\\"x\\\": 2710.0, \\\"y\\\": 2000000.0}, {\\\"x\\\": 2160.0, \\\"y\\\": 340000.0}, {\\\"x\\\": 1500.0, \\\"y\\\": 306500.0}, {\\\"x\\\": 1250.0, \\\"y\\\": 716000.0}, {\\\"x\\\": 2010.0, \\\"y\\\": 950000.0}, {\\\"x\\\": 3425.0, \\\"y\\\": 673200.0}, {\\\"x\\\": 1980.0, \\\"y\\\": 564500.0}, {\\\"x\\\": 2000.0, \\\"y\\\": 393000.0}, {\\\"x\\\": 1200.0, \\\"y\\\": 425000.0}, {\\\"x\\\": 1120.0, \\\"y\\\": 150000.0}, {\\\"x\\\": 1620.0, \\\"y\\\": 327000.0}, {\\\"x\\\": 2980.0, \\\"y\\\": 444900.0}, {\\\"x\\\": 2370.0, \\\"y\\\": 305000.0}, {\\\"x\\\": 1800.0, \\\"y\\\": 469000.0}, {\\\"x\\\": 2150.0, \\\"y\\\": 525000.0}, {\\\"x\\\": 1530.0, \\\"y\\\": 330000.0}, {\\\"x\\\": 1340.0, \\\"y\\\": 618000.0}, {\\\"x\\\": 2350.0, \\\"y\\\": 295500.0}, {\\\"x\\\": 1640.0, \\\"y\\\": 567035.0}, {\\\"x\\\": 2500.0, \\\"y\\\": 518000.0}, {\\\"x\\\": 1520.0, \\\"y\\\": 303000.0}, {\\\"x\\\": 2641.0, \\\"y\\\": 300000.0}, {\\\"x\\\": 2000.0, \\\"y\\\": 413107.0}, {\\\"x\\\": 1350.0, \\\"y\\\": 400000.0}, {\\\"x\\\": 1560.0, \\\"y\\\": 535000.0}, {\\\"x\\\": 1680.0, \\\"y\\\": 555000.0}, {\\\"x\\\": 2550.0, \\\"y\\\": 312000.0}, {\\\"x\\\": 1800.0, \\\"y\\\": 785200.0}, {\\\"x\\\": 2040.0, \\\"y\\\": 749000.0}, {\\\"x\\\": 1000.0, \\\"y\\\": 285000.0}, {\\\"x\\\": 2440.0, \\\"y\\\": 425000.0}, {\\\"x\\\": 1900.0, \\\"y\\\": 360000.0}, {\\\"x\\\": 1230.0, \\\"y\\\": 260000.0}, {\\\"x\\\": 1840.0, \\\"y\\\": 369000.0}, {\\\"x\\\": 1950.0, \\\"y\\\": 275000.0}, {\\\"x\\\": 1430.0, \\\"y\\\": 407000.0}, {\\\"x\\\": 1330.0, \\\"y\\\": 575000.0}, {\\\"x\\\": 2320.0, \\\"y\\\": 1236000.0}, {\\\"x\\\": 2520.0, \\\"y\\\": 875000.0}, {\\\"x\\\": 1800.0, \\\"y\\\": 320000.0}, {\\\"x\\\": 3260.0, \\\"y\\\": 810000.0}, {\\\"x\\\": 1590.0, \\\"y\\\": 274000.0}, {\\\"x\\\": 1590.0, \\\"y\\\": 239900.0}, {\\\"x\\\": 1530.0, \\\"y\\\": 450000.0}, {\\\"x\\\": 1930.0, \\\"y\\\": 263400.0}, {\\\"x\\\": 1360.0, \\\"y\\\": 265000.0}, {\\\"x\\\": 2500.0, \\\"y\\\": 418000.0}, {\\\"x\\\": 1600.0, \\\"y\\\": 390000.0}, {\\\"x\\\": 1000.0, \\\"y\\\": 430000.0}, {\\\"x\\\": 2640.0, \\\"y\\\": 1442500.0}, {\\\"x\\\": 2180.0, \\\"y\\\": 297000.0}, {\\\"x\\\": 2220.0, \\\"y\\\": 650000.0}, {\\\"x\\\": 1250.0, \\\"y\\\": 195000.0}, {\\\"x\\\": 2250.0, \\\"y\\\": 554000.0}, {\\\"x\\\": 1870.0, \\\"y\\\": 550000.0}, {\\\"x\\\": 1760.0, \\\"y\\\": 700000.0}, {\\\"x\\\": 1400.0, \\\"y\\\": 300000.0}, {\\\"x\\\": 1310.0, \\\"y\\\": 315000.0}, {\\\"x\\\": 1790.0, \\\"y\\\": 603000.0}, {\\\"x\\\": 2000.0, \\\"y\\\": 530000.0}, {\\\"x\\\": 1740.0, \\\"y\\\": 397500.0}, {\\\"x\\\": 1240.0, \\\"y\\\": 221000.0}, {\\\"x\\\": 1820.0, \\\"y\\\": 466000.0}, {\\\"x\\\": 1710.0, \\\"y\\\": 197500.0}, {\\\"x\\\": 1450.0, \\\"y\\\": 280000.0}, {\\\"x\\\": 1240.0, \\\"y\\\": 412000.0}, {\\\"x\\\": 1240.0, \\\"y\\\": 454000.0}, {\\\"x\\\": 1780.0, \\\"y\\\": 540000.0}, {\\\"x\\\": 1620.0, \\\"y\\\": 250000.0}, {\\\"x\\\": 3160.0, \\\"y\\\": 900000.0}, {\\\"x\\\": 2220.0, \\\"y\\\": 245000.0}, {\\\"x\\\": 1520.0, \\\"y\\\": 290000.0}, {\\\"x\\\": 2240.0, \\\"y\\\": 160000.0}, {\\\"x\\\": 2970.0, \\\"y\\\": 1260000.0}, {\\\"x\\\": 1540.0, \\\"y\\\": 325000.0}, {\\\"x\\\": 1700.0, \\\"y\\\": 185000.0}, {\\\"x\\\": 1700.0, \\\"y\\\": 477000.0}, {\\\"x\\\": 1300.0, \\\"y\\\": 100000.0}, {\\\"x\\\": 2290.0, \\\"y\\\": 345000.0}, {\\\"x\\\": 2510.0, \\\"y\\\": 530000.0}, {\\\"x\\\": 1210.0, \\\"y\\\": 203000.0}, {\\\"x\\\": 2410.0, \\\"y\\\": 599000.0}, {\\\"x\\\": 1630.0, \\\"y\\\": 370000.0}, {\\\"x\\\": 1240.0, \\\"y\\\": 140000.0}, {\\\"x\\\": 1440.0, \\\"y\\\": 500000.0}, {\\\"x\\\": 1360.0, \\\"y\\\": 527200.0}, {\\\"x\\\": 2190.0, \\\"y\\\": 549900.0}, {\\\"x\\\": 2460.0, \\\"y\\\": 760000.0}, {\\\"x\\\": 1520.0, \\\"y\\\": 319000.0}, {\\\"x\\\": 2260.0, \\\"y\\\": 362300.0}, {\\\"x\\\": 1550.0, \\\"y\\\": 421000.0}, {\\\"x\\\": 1520.0, \\\"y\\\": 690000.0}, {\\\"x\\\": 1400.0, \\\"y\\\": 640000.0}, {\\\"x\\\": 1540.0, \\\"y\\\": 238000.0}, {\\\"x\\\": 2930.0, \\\"y\\\": 789000.0}, {\\\"x\\\": 4190.0, \\\"y\\\": 1050000.0}, {\\\"x\\\": 2250.0, \\\"y\\\": 302500.0}, {\\\"x\\\": 1910.0, \\\"y\\\": 259950.0}, {\\\"x\\\": 2080.0, \\\"y\\\": 456000.0}, {\\\"x\\\": 1090.0, \\\"y\\\": 369950.0}, {\\\"x\\\": 2114.0, \\\"y\\\": 363750.0}, {\\\"x\\\": 2900.0, \\\"y\\\": 585000.0}, {\\\"x\\\": 1700.0, \\\"y\\\": 268000.0}, {\\\"x\\\": 1340.0, \\\"y\\\": 1200000.0}, {\\\"x\\\": 1350.0, \\\"y\\\": 345000.0}, {\\\"x\\\": 1930.0, \\\"y\\\": 539000.0}, {\\\"x\\\": 2960.0, \\\"y\\\": 851000.0}, {\\\"x\\\": 2080.0, \\\"y\\\": 900000.0}, {\\\"x\\\": 1820.0, \\\"y\\\": 850000.0}, {\\\"x\\\": 1500.0, \\\"y\\\": 390000.0}, {\\\"x\\\": 1130.0, \\\"y\\\": 345000.0}, {\\\"x\\\": 1700.0, \\\"y\\\": 534500.0}, {\\\"x\\\": 1450.0, \\\"y\\\": 643500.0}, {\\\"x\\\": 3160.0, \\\"y\\\": 1206505.0}, {\\\"x\\\": 2250.0, \\\"y\\\": 495000.0}, {\\\"x\\\": 1760.0, \\\"y\\\": 535000.0}, {\\\"x\\\": 2190.0, \\\"y\\\": 435000.0}, {\\\"x\\\": 1310.0, \\\"y\\\": 305000.0}, {\\\"x\\\": 1700.0, \\\"y\\\": 799000.0}, {\\\"x\\\": 3030.0, \\\"y\\\": 700000.0}, {\\\"x\\\": 1410.0, \\\"y\\\": 467000.0}, {\\\"x\\\": 1270.0, \\\"y\\\": 263000.0}, {\\\"x\\\": 3300.0, \\\"y\\\": 760000.0}, {\\\"x\\\": 1950.0, \\\"y\\\": 293000.0}, {\\\"x\\\": 1650.0, \\\"y\\\": 245000.0}, {\\\"x\\\": 1660.0, \\\"y\\\": 181000.0}, {\\\"x\\\": 1430.0, \\\"y\\\": 240000.0}, {\\\"x\\\": 2500.0, \\\"y\\\": 880000.0}, {\\\"x\\\": 1600.0, \\\"y\\\": 285000.0}, {\\\"x\\\": 1670.0, \\\"y\\\": 407500.0}, {\\\"x\\\": 2420.0, \\\"y\\\": 325000.0}, {\\\"x\\\": 2000.0, \\\"y\\\": 405000.0}, {\\\"x\\\": 1470.0, \\\"y\\\": 291700.0}, {\\\"x\\\": 1850.0, \\\"y\\\": 370000.0}, {\\\"x\\\": 1560.0, \\\"y\\\": 270000.0}, {\\\"x\\\": 1950.0, \\\"y\\\": 800000.0}, {\\\"x\\\": 1420.0, \\\"y\\\": 626500.0}, {\\\"x\\\": 2770.0, \\\"y\\\": 1130000.0}, {\\\"x\\\": 2840.0, \\\"y\\\": 399950.0}, {\\\"x\\\": 2170.0, \\\"y\\\": 419000.0}, {\\\"x\\\": 3720.0, \\\"y\\\": 1160000.0}, {\\\"x\\\": 2650.0, \\\"y\\\": 1405000.0}, {\\\"x\\\": 1460.0, \\\"y\\\": 710000.0}, {\\\"x\\\": 1410.0, \\\"y\\\": 650000.0}, {\\\"x\\\": 2510.0, \\\"y\\\": 369900.0}, {\\\"x\\\": 2770.0, \\\"y\\\": 641000.0}, {\\\"x\\\": 1950.0, \\\"y\\\": 403000.0}, {\\\"x\\\": 1910.0, \\\"y\\\": 1015000.0}, {\\\"x\\\": 2630.0, \\\"y\\\": 865000.0}, {\\\"x\\\": 4230.0, \\\"y\\\": 2485000.0}, {\\\"x\\\": 1950.0, \\\"y\\\": 810000.0}, {\\\"x\\\": 1309.0, \\\"y\\\": 316750.0}, {\\\"x\\\": 2680.0, \\\"y\\\": 652500.0}, {\\\"x\\\": 2090.0, \\\"y\\\": 360000.0}, {\\\"x\\\": 970.0, \\\"y\\\": 208000.0}, {\\\"x\\\": 3210.0, \\\"y\\\": 898000.0}, {\\\"x\\\": 2080.0, \\\"y\\\": 295000.0}, {\\\"x\\\": 1850.0, \\\"y\\\": 652500.0}, {\\\"x\\\": 2010.0, \\\"y\\\": 560000.0}, {\\\"x\\\": 1690.0, \\\"y\\\": 280000.0}, {\\\"x\\\": 2160.0, \\\"y\\\": 289950.0}, {\\\"x\\\": 1900.0, \\\"y\\\": 397500.0}, {\\\"x\\\": 2570.0, \\\"y\\\": 380000.0}, {\\\"x\\\": 1510.0, \\\"y\\\": 415900.0}, {\\\"x\\\": 1280.0, \\\"y\\\": 475000.0}, {\\\"x\\\": 1350.0, \\\"y\\\": 125000.0}, {\\\"x\\\": 2640.0, \\\"y\\\": 238000.0}, {\\\"x\\\": 1540.0, \\\"y\\\": 296000.0}, {\\\"x\\\": 2120.0, \\\"y\\\": 475000.0}, {\\\"x\\\": 2060.0, \\\"y\\\": 390000.0}, {\\\"x\\\": 1280.0, \\\"y\\\": 425000.0}, {\\\"x\\\": 1600.0, \\\"y\\\": 725000.0}, {\\\"x\\\": 2320.0, \\\"y\\\": 605000.0}, {\\\"x\\\": 1310.0, \\\"y\\\": 302000.0}, {\\\"x\\\": 2000.0, \\\"y\\\": 886000.0}, {\\\"x\\\": 1630.0, \\\"y\\\": 540000.0}, {\\\"x\\\": 1910.0, \\\"y\\\": 435000.0}, {\\\"x\\\": 1300.0, \\\"y\\\": 409000.0}, {\\\"x\\\": 1690.0, \\\"y\\\": 405000.0}, {\\\"x\\\": 2320.0, \\\"y\\\": 560200.0}, {\\\"x\\\": 1820.0, \\\"y\\\": 324000.0}, {\\\"x\\\": 2690.0, \\\"y\\\": 390000.0}, {\\\"x\\\": 1220.0, \\\"y\\\": 414000.0}, {\\\"x\\\": 2420.0, \\\"y\\\": 441500.0}, {\\\"x\\\": 1230.0, \\\"y\\\": 375000.0}, {\\\"x\\\": 2710.0, \\\"y\\\": 668500.0}, {\\\"x\\\": 1900.0, \\\"y\\\": 540000.0}, {\\\"x\\\": 2412.0, \\\"y\\\": 1035000.0}, {\\\"x\\\": 2350.0, \\\"y\\\": 1345000.0}, {\\\"x\\\": 2090.0, \\\"y\\\": 758000.0}, {\\\"x\\\": 2290.0, \\\"y\\\": 949880.0}, {\\\"x\\\": 1440.0, \\\"y\\\": 570000.0}, {\\\"x\\\": 3130.0, \\\"y\\\": 736000.0}, {\\\"x\\\": 1560.0, \\\"y\\\": 670000.0}, {\\\"x\\\": 2370.0, \\\"y\\\": 1130000.0}, {\\\"x\\\": 1470.0, \\\"y\\\": 650000.0}, {\\\"x\\\": 1860.0, \\\"y\\\": 690000.0}, {\\\"x\\\": 3180.0, \\\"y\\\": 610000.0}, {\\\"x\\\": 1420.0, \\\"y\\\": 413500.0}, {\\\"x\\\": 2640.0, \\\"y\\\": 765000.0}, {\\\"x\\\": 3060.0, \\\"y\\\": 828200.0}, {\\\"x\\\": 1430.0, \\\"y\\\": 205000.0}, {\\\"x\\\": 1740.0, \\\"y\\\": 465000.0}, {\\\"x\\\": 2240.0, \\\"y\\\": 556000.0}, {\\\"x\\\": 1830.0, \\\"y\\\": 540000.0}, {\\\"x\\\": 2330.0, \\\"y\\\": 423000.0}, {\\\"x\\\": 2040.0, \\\"y\\\": 375000.0}, {\\\"x\\\": 1260.0, \\\"y\\\": 173250.0}, {\\\"x\\\": 1590.0, \\\"y\\\": 599900.0}, {\\\"x\\\": 1890.0, \\\"y\\\": 646000.0}, {\\\"x\\\": 3960.0, \\\"y\\\": 1075000.0}, {\\\"x\\\": 1520.0, \\\"y\\\": 558000.0}, {\\\"x\\\": 1230.0, \\\"y\\\": 354000.0}, {\\\"x\\\": 3330.0, \\\"y\\\": 1195000.0}, {\\\"x\\\": 1200.0, \\\"y\\\": 670000.0}, {\\\"x\\\": 3270.0, \\\"y\\\": 1125000.0}, {\\\"x\\\": 1620.0, \\\"y\\\": 267500.0}, {\\\"x\\\": 2517.0, \\\"y\\\": 299800.0}, {\\\"x\\\": 1650.0, \\\"y\\\": 430000.0}, {\\\"x\\\": 1910.0, \\\"y\\\": 775000.0}, {\\\"x\\\": 1490.0, \\\"y\\\": 333000.0}, {\\\"x\\\": 1500.0, \\\"y\\\": 336000.0}, {\\\"x\\\": 1360.0, \\\"y\\\": 323000.0}, {\\\"x\\\": 1870.0, \\\"y\\\": 575000.0}, {\\\"x\\\": 1420.0, \\\"y\\\": 328000.0}, {\\\"x\\\": 1770.0, \\\"y\\\": 572500.0}, {\\\"x\\\": 1540.0, \\\"y\\\": 600000.0}, {\\\"x\\\": 2430.0, \\\"y\\\": 412000.0}, {\\\"x\\\": 2050.0, \\\"y\\\": 827500.0}, {\\\"x\\\": 2330.0, \\\"y\\\": 300000.0}, {\\\"x\\\": 1500.0, \\\"y\\\": 415000.0}, {\\\"x\\\": 2510.0, \\\"y\\\": 750000.0}, {\\\"x\\\": 1800.0, \\\"y\\\": 800000.0}, {\\\"x\\\": 1240.0, \\\"y\\\": 420000.0}, {\\\"x\\\": 1320.0, \\\"y\\\": 266000.0}, {\\\"x\\\": 2330.0, \\\"y\\\": 499000.0}, {\\\"x\\\": 970.0, \\\"y\\\": 440000.0}, {\\\"x\\\": 2320.0, \\\"y\\\": 495000.0}, {\\\"x\\\": 1280.0, \\\"y\\\": 630000.0}, {\\\"x\\\": 1480.0, \\\"y\\\": 424000.0}, {\\\"x\\\": 2710.0, \\\"y\\\": 760000.0}, {\\\"x\\\": 3020.0, \\\"y\\\": 650000.0}, {\\\"x\\\": 1220.0, \\\"y\\\": 248500.0}, {\\\"x\\\": 1560.0, \\\"y\\\": 379600.0}, {\\\"x\\\": 1802.0, \\\"y\\\": 538000.0}, {\\\"x\\\": 2070.0, \\\"y\\\": 530000.0}, {\\\"x\\\": 2310.0, \\\"y\\\": 545000.0}, {\\\"x\\\": 3540.0, \\\"y\\\": 925000.0}, {\\\"x\\\": 1970.0, \\\"y\\\": 565000.0}, {\\\"x\\\": 1390.0, \\\"y\\\": 405100.0}, {\\\"x\\\": 1350.0, \\\"y\\\": 502000.0}, {\\\"x\\\": 1630.0, \\\"y\\\": 425000.0}, {\\\"x\\\": 1510.0, \\\"y\\\": 233500.0}, {\\\"x\\\": 1830.0, \\\"y\\\": 287000.0}, {\\\"x\\\": 1300.0, \\\"y\\\": 190000.0}, {\\\"x\\\": 2890.0, \\\"y\\\": 666000.0}, {\\\"x\\\": 1230.0, \\\"y\\\": 330000.0}, {\\\"x\\\": 2690.0, \\\"y\\\": 1490000.0}, {\\\"x\\\": 2040.0, \\\"y\\\": 393000.0}, {\\\"x\\\": 1910.0, \\\"y\\\": 353000.0}, {\\\"x\\\": 920.0, \\\"y\\\": 260000.0}, {\\\"x\\\": 2060.0, \\\"y\\\": 680000.0}, {\\\"x\\\": 2010.0, \\\"y\\\": 921000.0}, {\\\"x\\\": 1690.0, \\\"y\\\": 319000.0}, {\\\"x\\\": 1280.0, \\\"y\\\": 280000.0}, {\\\"x\\\": 740.0, \\\"y\\\": 220000.0}, {\\\"x\\\": 1540.0, \\\"y\\\": 219000.0}, {\\\"x\\\": 1960.0, \\\"y\\\": 528000.0}, {\\\"x\\\": 1450.0, \\\"y\\\": 405000.0}, {\\\"x\\\": 1690.0, \\\"y\\\": 372977.0}, {\\\"x\\\": 2320.0, \\\"y\\\": 934550.0}, {\\\"x\\\": 2860.0, \\\"y\\\": 1465000.0}, {\\\"x\\\": 2910.0, \\\"y\\\": 975000.0}, {\\\"x\\\": 3180.0, \\\"y\\\": 800866.0}, {\\\"x\\\": 3040.0, \\\"y\\\": 950000.0}, {\\\"x\\\": 1460.0, \\\"y\\\": 624000.0}, {\\\"x\\\": 3220.0, \\\"y\\\": 1850000.0}, {\\\"x\\\": 1760.0, \\\"y\\\": 310000.0}, {\\\"x\\\": 1500.0, \\\"y\\\": 315000.0}, {\\\"x\\\": 1920.0, \\\"y\\\": 675000.0}, {\\\"x\\\": 2210.0, \\\"y\\\": 490000.0}, {\\\"x\\\": 2060.0, \\\"y\\\": 600000.0}, {\\\"x\\\": 1880.0, \\\"y\\\": 154000.0}, {\\\"x\\\": 2430.0, \\\"y\\\": 480000.0}, {\\\"x\\\": 1250.0, \\\"y\\\": 196900.0}, {\\\"x\\\": 2960.0, \\\"y\\\": 735000.0}, {\\\"x\\\": 1510.0, \\\"y\\\": 205500.0}, {\\\"x\\\": 1210.0, \\\"y\\\": 357186.0}, {\\\"x\\\": 2120.0, \\\"y\\\": 275000.0}, {\\\"x\\\": 1700.0, \\\"y\\\": 248500.0}, {\\\"x\\\": 2340.0, \\\"y\\\": 350000.0}, {\\\"x\\\": 1250.0, \\\"y\\\": 390000.0}, {\\\"x\\\": 1880.0, \\\"y\\\": 390000.0}, {\\\"x\\\": 2180.0, \\\"y\\\": 660000.0}, {\\\"x\\\": 1140.0, \\\"y\\\": 310000.0}, {\\\"x\\\": 2480.0, \\\"y\\\": 717000.0}, {\\\"x\\\": 2240.0, \\\"y\\\": 260000.0}, {\\\"x\\\": 1230.0, \\\"y\\\": 745000.0}, {\\\"x\\\": 2160.0, \\\"y\\\": 470000.0}, {\\\"x\\\": 2340.0, \\\"y\\\": 429000.0}, {\\\"x\\\": 1610.0, \\\"y\\\": 220000.0}, {\\\"x\\\": 1910.0, \\\"y\\\": 497000.0}, {\\\"x\\\": 2140.0, \\\"y\\\": 716100.0}, {\\\"x\\\": 2430.0, \\\"y\\\": 371000.0}, {\\\"x\\\": 2170.0, \\\"y\\\": 379000.0}, {\\\"x\\\": 2790.0, \\\"y\\\": 937500.0}, {\\\"x\\\": 1740.0, \\\"y\\\": 720000.0}, {\\\"x\\\": 1560.0, \\\"y\\\": 616000.0}, {\\\"x\\\": 1530.0, \\\"y\\\": 259000.0}, {\\\"x\\\": 1720.0, \\\"y\\\": 538000.0}, {\\\"x\\\": 2820.0, \\\"y\\\": 605000.0}, {\\\"x\\\": 1260.0, \\\"y\\\": 369950.0}, {\\\"x\\\": 1670.0, \\\"y\\\": 310000.0}, {\\\"x\\\": 1210.0, \\\"y\\\": 227500.0}, {\\\"x\\\": 2260.0, \\\"y\\\": 274000.0}, {\\\"x\\\": 1770.0, \\\"y\\\": 410000.0}, {\\\"x\\\": 1620.0, \\\"y\\\": 354800.0}, {\\\"x\\\": 1810.0, \\\"y\\\": 650000.0}, {\\\"x\\\": 1550.0, \\\"y\\\": 353000.0}, {\\\"x\\\": 1160.0, \\\"y\\\": 224975.0}, {\\\"x\\\": 2440.0, \\\"y\\\": 600000.0}, {\\\"x\\\": 1610.0, \\\"y\\\": 437500.0}, {\\\"x\\\": 2540.0, \\\"y\\\": 567000.0}, {\\\"x\\\": 2040.0, \\\"y\\\": 225000.0}, {\\\"x\\\": 1900.0, \\\"y\\\": 255000.0}, {\\\"x\\\": 2660.0, \\\"y\\\": 2479000.0}, {\\\"x\\\": 1060.0, \\\"y\\\": 370000.0}, {\\\"x\\\": 2280.0, \\\"y\\\": 675000.0}, {\\\"x\\\": 1370.0, \\\"y\\\": 285000.0}, {\\\"x\\\": 2011.0, \\\"y\\\": 310000.0}, {\\\"x\\\": 1740.0, \\\"y\\\": 475000.0}, {\\\"x\\\": 2580.0, \\\"y\\\": 410000.0}, {\\\"x\\\": 2600.0, \\\"y\\\": 895000.0}, {\\\"x\\\": 1130.0, \\\"y\\\": 375000.0}, {\\\"x\\\": 1830.0, \\\"y\\\": 349000.0}, {\\\"x\\\": 1740.0, \\\"y\\\": 650500.0}, {\\\"x\\\": 1880.0, \\\"y\\\": 760000.0}, {\\\"x\\\": 1440.0, \\\"y\\\": 480000.0}, {\\\"x\\\": 3200.0, \\\"y\\\": 689000.0}, {\\\"x\\\": 1790.0, \\\"y\\\": 415000.0}, {\\\"x\\\": 1350.0, \\\"y\\\": 195000.0}, {\\\"x\\\": 2700.0, \\\"y\\\": 318000.0}, {\\\"x\\\": 2950.0, \\\"y\\\": 404000.0}, {\\\"x\\\": 1400.0, \\\"y\\\": 339950.0}, {\\\"x\\\": 1560.0, \\\"y\\\": 215000.0}, {\\\"x\\\": 2260.0, \\\"y\\\": 339900.0}, {\\\"x\\\": 1320.0, \\\"y\\\": 285000.0}, {\\\"x\\\": 1380.0, \\\"y\\\": 550000.0}, {\\\"x\\\": 1940.0, \\\"y\\\": 430000.0}, {\\\"x\\\": 1150.0, \\\"y\\\": 219000.0}, {\\\"x\\\": 1690.0, \\\"y\\\": 555000.0}, {\\\"x\\\": 1470.0, \\\"y\\\": 233000.0}, {\\\"x\\\": 1910.0, \\\"y\\\": 248000.0}, {\\\"x\\\": 2090.0, \\\"y\\\": 454000.0}, {\\\"x\\\": 2090.0, \\\"y\\\": 950000.0}, {\\\"x\\\": 2160.0, \\\"y\\\": 359000.0}, {\\\"x\\\": 2130.0, \\\"y\\\": 407500.0}, {\\\"x\\\": 1460.0, \\\"y\\\": 224000.0}, {\\\"x\\\": 1040.0, \\\"y\\\": 210000.0}, {\\\"x\\\": 1410.0, \\\"y\\\": 261000.0}, {\\\"x\\\": 1466.0, \\\"y\\\": 719000.0}, {\\\"x\\\": 1500.0, \\\"y\\\": 440000.0}, {\\\"x\\\": 2240.0, \\\"y\\\": 525000.0}, {\\\"x\\\": 1510.0, \\\"y\\\": 375000.0}, {\\\"x\\\": 1414.0, \\\"y\\\": 428000.0}, {\\\"x\\\": 3950.0, \\\"y\\\": 988830.0}, {\\\"x\\\": 1760.0, \\\"y\\\": 199950.0}, {\\\"x\\\": 1800.0, \\\"y\\\": 840000.0}, {\\\"x\\\": 1670.0, \\\"y\\\": 285000.0}, {\\\"x\\\": 3193.0, \\\"y\\\": 330000.0}, {\\\"x\\\": 1970.0, \\\"y\\\": 147500.0}, {\\\"x\\\": 2190.0, \\\"y\\\": 320000.0}, {\\\"x\\\": 1750.0, \\\"y\\\": 382500.0}, {\\\"x\\\": 3300.0, \\\"y\\\": 2048000.0}, {\\\"x\\\": 2270.0, \\\"y\\\": 596000.0}, {\\\"x\\\": 1910.0, \\\"y\\\": 220000.0}, {\\\"x\\\": 1970.0, \\\"y\\\": 325000.0}, {\\\"x\\\": 2850.0, \\\"y\\\": 679950.0}, {\\\"x\\\": 1120.0, \\\"y\\\": 175000.0}, {\\\"x\\\": 1720.0, \\\"y\\\": 268000.0}, {\\\"x\\\": 3470.0, \\\"y\\\": 715000.0}, {\\\"x\\\": 2460.0, \\\"y\\\": 600000.0}, {\\\"x\\\": 2170.0, \\\"y\\\": 228000.0}, {\\\"x\\\": 3450.0, \\\"y\\\": 950000.0}, {\\\"x\\\": 2350.0, \\\"y\\\": 475000.0}, {\\\"x\\\": 3320.0, \\\"y\\\": 700000.0}, {\\\"x\\\": 1930.0, \\\"y\\\": 275000.0}, {\\\"x\\\": 1930.0, \\\"y\\\": 369500.0}, {\\\"x\\\": 1720.0, \\\"y\\\": 215000.0}, {\\\"x\\\": 1910.0, \\\"y\\\": 593450.0}, {\\\"x\\\": 1680.0, \\\"y\\\": 498800.0}, {\\\"x\\\": 1620.0, \\\"y\\\": 849000.0}, {\\\"x\\\": 1790.0, \\\"y\\\": 1151250.0}, {\\\"x\\\": 3010.0, \\\"y\\\": 825000.0}, {\\\"x\\\": 1730.0, \\\"y\\\": 265000.0}, {\\\"x\\\": 1650.0, \\\"y\\\": 285000.0}, {\\\"x\\\": 1680.0, \\\"y\\\": 240000.0}, {\\\"x\\\": 1230.0, \\\"y\\\": 261000.0}, {\\\"x\\\": 2180.0, \\\"y\\\": 330000.0}, {\\\"x\\\": 1620.0, \\\"y\\\": 250000.0}, {\\\"x\\\": 1970.0, \\\"y\\\": 350000.0}, {\\\"x\\\": 3450.0, \\\"y\\\": 930000.0}, {\\\"x\\\": 1780.0, \\\"y\\\": 275000.0}, {\\\"x\\\": 2090.0, \\\"y\\\": 325000.0}, {\\\"x\\\": 1920.0, \\\"y\\\": 255000.0}, {\\\"x\\\": 1810.0, \\\"y\\\": 562200.0}, {\\\"x\\\": 3490.0, \\\"y\\\": 952000.0}, {\\\"x\\\": 2350.0, \\\"y\\\": 365000.0}, {\\\"x\\\": 1190.0, \\\"y\\\": 332900.0}, {\\\"x\\\": 2590.0, \\\"y\\\": 721000.0}, {\\\"x\\\": 2070.0, \\\"y\\\": 487275.0}, {\\\"x\\\": 1610.0, \\\"y\\\": 310000.0}, {\\\"x\\\": 1700.0, \\\"y\\\": 245000.0}, {\\\"x\\\": 1560.0, \\\"y\\\": 325000.0}, {\\\"x\\\": 2850.0, \\\"y\\\": 550000.0}, {\\\"x\\\": 1270.0, \\\"y\\\": 350000.0}, {\\\"x\\\": 1480.0, \\\"y\\\": 599000.0}, {\\\"x\\\": 1845.0, \\\"y\\\": 259950.0}, {\\\"x\\\": 1600.0, \\\"y\\\": 240000.0}, {\\\"x\\\": 1230.0, \\\"y\\\": 186000.0}, {\\\"x\\\": 1470.0, \\\"y\\\": 395000.0}, {\\\"x\\\": 3100.0, \\\"y\\\": 475000.0}, {\\\"x\\\": 3110.0, \\\"y\\\": 815000.0}, {\\\"x\\\": 1760.0, \\\"y\\\": 572000.0}, {\\\"x\\\": 1090.0, \\\"y\\\": 419500.0}, {\\\"x\\\": 2640.0, \\\"y\\\": 298700.0}, {\\\"x\\\": 1156.0, \\\"y\\\": 549000.0}, {\\\"x\\\": 1900.0, \\\"y\\\": 278000.0}, {\\\"x\\\": 1300.0, \\\"y\\\": 455000.0}, {\\\"x\\\": 3210.0, \\\"y\\\": 925000.0}, {\\\"x\\\": 1370.0, \\\"y\\\": 465000.0}, {\\\"x\\\": 2380.0, \\\"y\\\": 620000.0}, {\\\"x\\\": 2320.0, \\\"y\\\": 499900.0}, {\\\"x\\\": 2090.0, \\\"y\\\": 620000.0}, {\\\"x\\\": 1530.0, \\\"y\\\": 450000.0}, {\\\"x\\\": 2650.0, \\\"y\\\": 690000.0}, {\\\"x\\\": 3740.0, \\\"y\\\": 1895000.0}, {\\\"x\\\": 3740.0, \\\"y\\\": 1939999.0}, {\\\"x\\\": 1970.0, \\\"y\\\": 832500.0}, {\\\"x\\\": 1010.0, \\\"y\\\": 245000.0}, {\\\"x\\\": 3670.0, \\\"y\\\": 820000.0}, {\\\"x\\\": 2420.0, \\\"y\\\": 369000.0}, {\\\"x\\\": 4080.0, \\\"y\\\": 1050000.0}, {\\\"x\\\": 1820.0, \\\"y\\\": 653000.0}, {\\\"x\\\": 1340.0, \\\"y\\\": 220650.0}, {\\\"x\\\": 1940.0, \\\"y\\\": 300000.0}, {\\\"x\\\": 2150.0, \\\"y\\\": 970000.0}, {\\\"x\\\": 2240.0, \\\"y\\\": 360000.0}, {\\\"x\\\": 2450.0, \\\"y\\\": 672500.0}, {\\\"x\\\": 1110.0, \\\"y\\\": 268000.0}, {\\\"x\\\": 1380.0, \\\"y\\\": 440000.0}, {\\\"x\\\": 2030.0, \\\"y\\\": 1400000.0}, {\\\"x\\\": 2340.0, \\\"y\\\": 590000.0}, {\\\"x\\\": 1700.0, \\\"y\\\": 359000.0}, {\\\"x\\\": 1840.0, \\\"y\\\": 266500.0}, {\\\"x\\\": 2030.0, \\\"y\\\": 635000.0}, {\\\"x\\\": 2220.0, \\\"y\\\": 559000.0}, {\\\"x\\\": 3630.0, \\\"y\\\": 895000.0}, {\\\"x\\\": 2970.0, \\\"y\\\": 625000.0}, {\\\"x\\\": 1530.0, \\\"y\\\": 650000.0}, {\\\"x\\\": 2120.0, \\\"y\\\": 312500.0}, {\\\"x\\\": 1240.0, \\\"y\\\": 225000.0}, {\\\"x\\\": 1920.0, \\\"y\\\": 425000.0}, {\\\"x\\\": 2580.0, \\\"y\\\": 329999.0}, {\\\"x\\\": 2140.0, \\\"y\\\": 572000.0}, {\\\"x\\\": 3110.0, \\\"y\\\": 386500.0}, {\\\"x\\\": 1270.0, \\\"y\\\": 452000.0}, {\\\"x\\\": 1480.0, \\\"y\\\": 278000.0}, {\\\"x\\\": 2480.0, \\\"y\\\": 474900.0}, {\\\"x\\\": 2130.0, \\\"y\\\": 450000.0}, {\\\"x\\\": 1670.0, \\\"y\\\": 611000.0}, {\\\"x\\\": 1880.0, \\\"y\\\": 214100.0}, {\\\"x\\\": 2000.0, \\\"y\\\": 317000.0}, {\\\"x\\\": 2850.0, \\\"y\\\": 1000000.0}, {\\\"x\\\": 2190.0, \\\"y\\\": 1000000.0}, {\\\"x\\\": 2590.0, \\\"y\\\": 525000.0}, {\\\"x\\\": 1630.0, \\\"y\\\": 436000.0}, {\\\"x\\\": 1990.0, \\\"y\\\": 450000.0}, {\\\"x\\\": 2570.0, \\\"y\\\": 588500.0}, {\\\"x\\\": 1420.0, \\\"y\\\": 340000.0}, {\\\"x\\\": 1696.0, \\\"y\\\": 482000.0}, {\\\"x\\\": 5340.0, \\\"y\\\": 1575000.0}, {\\\"x\\\": 1810.0, \\\"y\\\": 749000.0}, {\\\"x\\\": 1800.0, \\\"y\\\": 330000.0}, {\\\"x\\\": 1740.0, \\\"y\\\": 568000.0}, {\\\"x\\\": 1430.0, \\\"y\\\": 239000.0}, {\\\"x\\\": 2470.0, \\\"y\\\": 528000.0}, {\\\"x\\\": 2090.0, \\\"y\\\": 385000.0}, {\\\"x\\\": 2760.0, \\\"y\\\": 825000.0}, {\\\"x\\\": 1520.0, \\\"y\\\": 815000.0}, {\\\"x\\\": 2080.0, \\\"y\\\": 625000.0}, {\\\"x\\\": 2200.0, \\\"y\\\": 690000.0}, {\\\"x\\\": 1540.0, \\\"y\\\": 210000.0}, {\\\"x\\\": 2230.0, \\\"y\\\": 599000.0}, {\\\"x\\\": 1630.0, \\\"y\\\": 860000.0}, {\\\"x\\\": 1400.0, \\\"y\\\": 147200.0}, {\\\"x\\\": 1460.0, \\\"y\\\": 476900.0}, {\\\"x\\\": 2360.0, \\\"y\\\": 450000.0}, {\\\"x\\\": 2400.0, \\\"y\\\": 570000.0}, {\\\"x\\\": 1440.0, \\\"y\\\": 567500.0}, {\\\"x\\\": 2890.0, \\\"y\\\": 790000.0}, {\\\"x\\\": 3020.0, \\\"y\\\": 875000.0}, {\\\"x\\\": 2300.0, \\\"y\\\": 490000.0}, {\\\"x\\\": 1980.0, \\\"y\\\": 335000.0}, {\\\"x\\\": 2290.0, \\\"y\\\": 550000.0}, {\\\"x\\\": 1230.0, \\\"y\\\": 385000.0}, {\\\"x\\\": 1700.0, \\\"y\\\": 395000.0}, {\\\"x\\\": 1570.0, \\\"y\\\": 650000.0}, {\\\"x\\\": 2900.0, \\\"y\\\": 637000.0}, {\\\"x\\\": 2290.0, \\\"y\\\": 692500.0}, {\\\"x\\\": 1990.0, \\\"y\\\": 322400.0}, {\\\"x\\\": 1400.0, \\\"y\\\": 233500.0}, {\\\"x\\\": 1570.0, \\\"y\\\": 400000.0}, {\\\"x\\\": 1300.0, \\\"y\\\": 547000.0}]}], \\\"marks\\\": [{\\\"name\\\": \\\"marks\\\", \\\"type\\\": \\\"symbol\\\", \\\"style\\\": [\\\"circle\\\"], \\\"from\\\": {\\\"data\\\": \\\"source_2\\\"}, \\\"encode\\\": {\\\"hover\\\": {\\\"fill\\\": {\\\"value\\\": \\\"#7EC2F3\\\"}}, \\\"update\\\": {\\\"x\\\": {\\\"scale\\\": \\\"x\\\", \\\"field\\\": \\\"x\\\"}, \\\"y\\\": {\\\"scale\\\": \\\"y\\\", \\\"field\\\": \\\"y\\\", \\\"title\\\": \\\"Miles per Gallon\\\"}, \\\"fill\\\": {\\\"value\\\": \\\"#108EE9\\\"}, \\\"shape\\\": {\\\"value\\\": \\\"circle\\\"}, \\\"opacity\\\": {\\\"value\\\": 0.7}}}}], \\\"scales\\\": [{\\\"name\\\": \\\"x\\\", \\\"type\\\": \\\"linear\\\", \\\"domain\\\": {\\\"data\\\": \\\"source_2\\\", \\\"field\\\": \\\"x\\\"}, \\\"range\\\": [0, {\\\"signal\\\": \\\"width\\\"}], \\\"nice\\\": true, \\\"zero\\\": false, \\\"padding\\\": 5}, {\\\"name\\\": \\\"y\\\", \\\"type\\\": \\\"linear\\\", \\\"domain\\\": {\\\"data\\\": \\\"source_2\\\", \\\"field\\\": \\\"y\\\"}, \\\"range\\\": [{\\\"signal\\\": \\\"height\\\"}, 0], \\\"nice\\\": true, \\\"zero\\\": false, \\\"padding\\\": 5}], \\\"axes\\\": [{\\\"scale\\\": \\\"x\\\", \\\"labelOverlap\\\": true, \\\"orient\\\": \\\"bottom\\\", \\\"tickCount\\\": {\\\"signal\\\": \\\"ceil(width/40)\\\"}, \\\"title\\\": \\\"X\\\", \\\"zindex\\\": 1}, {\\\"scale\\\": \\\"x\\\", \\\"domain\\\": false, \\\"grid\\\": true, \\\"labels\\\": false, \\\"maxExtent\\\": 0, \\\"minExtent\\\": 0, \\\"orient\\\": \\\"bottom\\\", \\\"tickCount\\\": {\\\"signal\\\": \\\"ceil(width/40)\\\"}, \\\"ticks\\\": false, \\\"zindex\\\": 0, \\\"gridScale\\\": \\\"y\\\"}, {\\\"scale\\\": \\\"y\\\", \\\"labelOverlap\\\": true, \\\"orient\\\": \\\"left\\\", \\\"tickCount\\\": {\\\"signal\\\": \\\"ceil(height/40)\\\"}, \\\"title\\\": \\\"Y\\\", \\\"zindex\\\": 1}, {\\\"scale\\\": \\\"y\\\", \\\"domain\\\": false, \\\"grid\\\": true, \\\"labels\\\": false, \\\"maxExtent\\\": 0, \\\"minExtent\\\": 0, \\\"orient\\\": \\\"left\\\", \\\"tickCount\\\": {\\\"signal\\\": \\\"ceil(height/40)\\\"}, \\\"ticks\\\": false, \\\"zindex\\\": 0, \\\"gridScale\\\": \\\"x\\\"}], \\\"config\\\": {\\\"axis\\\": {\\\"gridColor\\\": \\\"rgba(204,204,204,1.0)\\\", \\\"labelFont\\\": \\\"\\\\\\\"San Francisco\\\\\\\", HelveticaNeue, Arial\\\", \\\"labelFontSize\\\": 12, \\\"labelPadding\\\": 10, \\\"labelColor\\\": \\\"rgba(0,0,0,0.847)\\\", \\\"tickColor\\\": \\\"rgb(136,136,136)\\\", \\\"titleFont\\\": \\\"\\\\\\\"San Francisco\\\\\\\", HelveticaNeue, Arial\\\", \\\"titleFontWeight\\\": \\\"normal\\\", \\\"titlePadding\\\": 20, \\\"titleFontSize\\\": 14, \\\"titleColor\\\": \\\"rgba(0,0,0,0.847)\\\"}, \\\"axisY\\\": {\\\"minExtent\\\": 30}, \\\"legend\\\": {\\\"labelFont\\\": \\\"\\\\\\\"San Francisco\\\\\\\", HelveticaNeue, Arial\\\", \\\"labelColor\\\": \\\"rgba(0,0,0,0.847)\\\", \\\"titleFont\\\": \\\"\\\\\\\"San Francisco\\\\\\\", HelveticaNeue, Arial\\\", \\\"cornerRadius\\\": 30, \\\"gradientLength\\\": 608, \\\"titleColor\\\": \\\"rgba(0,0,0,0.847)\\\"}, \\\"range\\\": {\\\"heatmap\\\": {\\\"scheme\\\": \\\"greenblue\\\"}}, \\\"style\\\": {\\\"rect\\\": {\\\"stroke\\\": \\\"rgba(200, 200, 200, 0.5)\\\"}, \\\"cell\\\": {\\\"stroke\\\": \\\"transparent\\\"}, \\\"group-title\\\": {\\\"fontSize\\\": 29, \\\"font\\\": \\\"HelveticaNeue, Arial\\\", \\\"fontWeight\\\": \\\"normal\\\", \\\"fill\\\": \\\"rgba(0,0,0,0.65)\\\"}}, \\\"title\\\": {\\\"color\\\": \\\"rgba(0,0,0,0.847)\\\", \\\"font\\\": \\\"\\\\\\\"San Francisco\\\\\\\", HelveticaNeue, Arial\\\", \\\"fontSize\\\": 18, \\\"fontWeight\\\": \\\"normal\\\", \\\"offset\\\": 30}}}\";                                 var vega_json_parsed = JSON.parse(vega_json);                                 var toolTipOpts = {                                     showAllFields: true                                 };                                 if(vega_json_parsed[\"metadata\"] != null){                                     if(vega_json_parsed[\"metadata\"][\"bubbleOpts\"] != null){                                         toolTipOpts = vega_json_parsed[\"metadata\"][\"bubbleOpts\"];                                     };                                 };                                 vegaEmbed(\"#vis\", vega_json_parsed).then(function (result) {                                     vegaTooltip.vega(result.view, toolTipOpts);                                  });                             </script>                         </body>                     </html>' src=\"demo_iframe_srcdoc.htm\">                         <p>Your browser does not support iframes.</p>                     </iframe>                 </body>             </html>"
            ],
            "text/plain": [
              "<IPython.core.display.HTML object>"
            ]
          },
          "metadata": {
            "tags": []
          }
        },
        {
          "output_type": "display_data",
          "data": {
            "text/html": [
              "<pre>Materializing X axis SArray</pre>"
            ],
            "text/plain": [
              "Materializing X axis SArray"
            ]
          },
          "metadata": {
            "tags": []
          }
        },
        {
          "output_type": "display_data",
          "data": {
            "text/html": [
              "<pre>Materializing Y axis SArray</pre>"
            ],
            "text/plain": [
              "Materializing Y axis SArray"
            ]
          },
          "metadata": {
            "tags": []
          }
        },
        {
          "output_type": "display_data",
          "data": {
            "text/html": [
              "<html>                 <body>                     <iframe style=\"border:0;margin:0\" width=\"920\" height=\"770\" srcdoc='<html lang=\"en\">                         <head>                             <script src=\"https://cdnjs.cloudflare.com/ajax/libs/vega/5.4.0/vega.js\"></script>                             <script src=\"https://cdnjs.cloudflare.com/ajax/libs/vega-embed/4.0.0/vega-embed.js\"></script>                             <script src=\"https://cdnjs.cloudflare.com/ajax/libs/vega-tooltip/0.5.1/vega-tooltip.min.js\"></script>                             <link rel=\"stylesheet\" type=\"text/css\" href=\"https://cdnjs.cloudflare.com/ajax/libs/vega-tooltip/0.5.1/vega-tooltip.min.css\">                             <style>                             .vega-actions > a{                                 color:white;                                 text-decoration: none;                                 font-family: \"Arial\";                                 cursor:pointer;                                 padding:5px;                                 background:#AAAAAA;                                 border-radius:4px;                                 padding-left:10px;                                 padding-right:10px;                                 margin-right:5px;                             }                             .vega-actions{                                 margin-top:20px;                                 text-align:center                             }                            .vega-actions > a{                                 background:#999999;                            }                             </style>                         </head>                         <body>                             <div id=\"vis\">                             </div>                             <script>                                 var vega_json = \"{\\\"$schema\\\": \\\"https://vega.github.io/schema/vega/v4.json\\\", \\\"autosize\\\": {\\\"type\\\": \\\"fit\\\", \\\"resize\\\": false, \\\"contains\\\": \\\"padding\\\"}, \\\"padding\\\": 8, \\\"width\\\": 720, \\\"height\\\": 550, \\\"style\\\": \\\"cell\\\", \\\"title\\\": \\\"X vs. Y\\\", \\\"data\\\": [{\\\"name\\\": \\\"source_2\\\", \\\"values\\\": [{\\\"x\\\": -74.59784, \\\"y\\\": 538000.0}, {\\\"x\\\": -74.495269, \\\"y\\\": 180000.0}, {\\\"x\\\": -74.872365, \\\"y\\\": 604000.0}, {\\\"x\\\": -74.428088, \\\"y\\\": 510000.0}, {\\\"x\\\": -74.349168, \\\"y\\\": 1225000.0}, {\\\"x\\\": -75.017329, \\\"y\\\": 257500.0}, {\\\"x\\\": -74.905073, \\\"y\\\": 291850.0}, {\\\"x\\\": -74.824301, \\\"y\\\": 229500.0}, {\\\"x\\\": -74.662411, \\\"y\\\": 323000.0}, {\\\"x\\\": -74.544636, \\\"y\\\": 662500.0}, {\\\"x\\\": -74.602268, \\\"y\\\": 468000.0}, {\\\"x\\\": -74.472902, \\\"y\\\": 310000.0}, {\\\"x\\\": -74.432067, \\\"y\\\": 400000.0}, {\\\"x\\\": -74.72381, \\\"y\\\": 530000.0}, {\\\"x\\\": -74.804043, \\\"y\\\": 650000.0}, {\\\"x\\\": -74.23419, \\\"y\\\": 395000.0}, {\\\"x\\\": -74.67803, \\\"y\\\": 485000.0}, {\\\"x\\\": -74.901566, \\\"y\\\": 189000.0}, {\\\"x\\\": -74.971451, \\\"y\\\": 230000.0}, {\\\"x\\\": -74.638383, \\\"y\\\": 385000.0}, {\\\"x\\\": -74.701815, \\\"y\\\": 2000000.0}, {\\\"x\\\": -74.842346, \\\"y\\\": 285000.0}, {\\\"x\\\": -74.81283, \\\"y\\\": 252700.0}, {\\\"x\\\": -74.798427, \\\"y\\\": 329000.0}, {\\\"x\\\": -74.91292, \\\"y\\\": 233000.0}, {\\\"x\\\": -74.721298, \\\"y\\\": 937000.0}, {\\\"x\\\": -74.692243, \\\"y\\\": 667000.0}, {\\\"x\\\": -74.60855, \\\"y\\\": 438000.0}, {\\\"x\\\": -74.402976, \\\"y\\\": 719000.0}, {\\\"x\\\": -74.530605, \\\"y\\\": 580500.0}, {\\\"x\\\": -74.629626, \\\"y\\\": 280000.0}, {\\\"x\\\": -74.68532, \\\"y\\\": 687500.0}, {\\\"x\\\": -74.68634, \\\"y\\\": 535000.0}, {\\\"x\\\": -74.729344, \\\"y\\\": 322500.0}, {\\\"x\\\": -74.62758, \\\"y\\\": 696000.0}, {\\\"x\\\": -74.469848, \\\"y\\\": 550000.0}, {\\\"x\\\": -74.691355, \\\"y\\\": 640000.0}, {\\\"x\\\": -74.948194, \\\"y\\\": 240000.0}, {\\\"x\\\": -74.649868, \\\"y\\\": 605000.0}, {\\\"x\\\": -74.412234, \\\"y\\\": 625000.0}, {\\\"x\\\": -74.902165, \\\"y\\\": 775000.0}, {\\\"x\\\": -74.33156, \\\"y\\\": 861990.0}, {\\\"x\\\": -74.722845, \\\"y\\\": 685000.0}, {\\\"x\\\": -74.726548, \\\"y\\\": 309000.0}, {\\\"x\\\": -74.23295, \\\"y\\\": 488000.0}, {\\\"x\\\": -75.064431, \\\"y\\\": 210490.0}, {\\\"x\\\": -74.531805, \\\"y\\\": 785000.0}, {\\\"x\\\": -74.621436, \\\"y\\\": 450000.0}, {\\\"x\\\": -75.046844, \\\"y\\\": 1350000.0}, {\\\"x\\\": -74.896625, \\\"y\\\": 228000.0}, {\\\"x\\\": -74.695226, \\\"y\\\": 345000.0}, {\\\"x\\\": -74.702755, \\\"y\\\": 600000.0}, {\\\"x\\\": -74.670181, \\\"y\\\": 585000.0}, {\\\"x\\\": -74.623807, \\\"y\\\": 920000.0}, {\\\"x\\\": -74.63001, \\\"y\\\": 885000.0}, {\\\"x\\\": -74.747282, \\\"y\\\": 292500.0}, {\\\"x\\\": -74.755402, \\\"y\\\": 301000.0}, {\\\"x\\\": -74.528119, \\\"y\\\": 951000.0}, {\\\"x\\\": -74.643043, \\\"y\\\": 430000.0}, {\\\"x\\\": -74.905021, \\\"y\\\": 650000.0}, {\\\"x\\\": -74.898082, \\\"y\\\": 289000.0}, {\\\"x\\\": -74.90148, \\\"y\\\": 505000.0}, {\\\"x\\\": -74.64308, \\\"y\\\": 549000.0}, {\\\"x\\\": -74.68599, \\\"y\\\": 425000.0}, {\\\"x\\\": -74.728927, \\\"y\\\": 317625.0}, {\\\"x\\\": -74.610117, \\\"y\\\": 975000.0}, {\\\"x\\\": -74.918856, \\\"y\\\": 287000.0}, {\\\"x\\\": -74.747735, \\\"y\\\": 204000.0}, {\\\"x\\\": -74.584368, \\\"y\\\": 1325000.0}, {\\\"x\\\": -74.507857, \\\"y\\\": 1040000.0}, {\\\"x\\\": -74.443015, \\\"y\\\": 325000.0}, {\\\"x\\\": -74.570146, \\\"y\\\": 571000.0}, {\\\"x\\\": -74.675573, \\\"y\\\": 360000.0}, {\\\"x\\\": -74.72229, \\\"y\\\": 349000.0}, {\\\"x\\\": -74.405005, \\\"y\\\": 832500.0}, {\\\"x\\\": -74.52154, \\\"y\\\": 380000.0}, {\\\"x\\\": -74.830153, \\\"y\\\": 480000.0}, {\\\"x\\\": -74.632384, \\\"y\\\": 410000.0}, {\\\"x\\\": -74.683487, \\\"y\\\": 720000.0}, {\\\"x\\\": -74.656672, \\\"y\\\": 390000.0}, {\\\"x\\\": -74.682082, \\\"y\\\": 360000.0}, {\\\"x\\\": -74.743167, \\\"y\\\": 355000.0}, {\\\"x\\\": -74.667572, \\\"y\\\": 356000.0}, {\\\"x\\\": -74.583695, \\\"y\\\": 315000.0}, {\\\"x\\\": -74.73163, \\\"y\\\": 940000.0}, {\\\"x\\\": -74.897835, \\\"y\\\": 305000.0}, {\\\"x\\\": -74.676022, \\\"y\\\": 461000.0}, {\\\"x\\\": -74.675917, \\\"y\\\": 215000.0}, {\\\"x\\\": -74.847167, \\\"y\\\": 335000.0}, {\\\"x\\\": -75.082257, \\\"y\\\": 243500.0}, {\\\"x\\\": -74.740664, \\\"y\\\": 1099880.0}, {\\\"x\\\": -75.029425, \\\"y\\\": 153000.0}, {\\\"x\\\": -74.698734, \\\"y\\\": 430000.0}, {\\\"x\\\": -74.698734, \\\"y\\\": 700000.0}, {\\\"x\\\": -74.661433, \\\"y\\\": 905000.0}, {\\\"x\\\": -74.919815, \\\"y\\\": 247500.0}, {\\\"x\\\": -75.074243, \\\"y\\\": 199000.0}, {\\\"x\\\": -74.547171, \\\"y\\\": 314000.0}, {\\\"x\\\": -74.230069, \\\"y\\\": 437500.0}, {\\\"x\\\": -74.673888, \\\"y\\\": 850830.0}, {\\\"x\\\": -74.694769, \\\"y\\\": 555000.0}, {\\\"x\\\": -74.30676, \\\"y\\\": 699950.0}, {\\\"x\\\": -74.614788, \\\"y\\\": 1088000.0}, {\\\"x\\\": -74.746836, \\\"y\\\": 290000.0}, {\\\"x\\\": -74.689511, \\\"y\\\": 375000.0}, {\\\"x\\\": -74.69245, \\\"y\\\": 460000.0}, {\\\"x\\\": -74.940694, \\\"y\\\": 188500.0}, {\\\"x\\\": -74.351747, \\\"y\\\": 680000.0}, {\\\"x\\\": -74.467229, \\\"y\\\": 470000.0}, {\\\"x\\\": -74.514181, \\\"y\\\": 597750.0}, {\\\"x\\\": -74.66664, \\\"y\\\": 570000.0}, {\\\"x\\\": -74.668755, \\\"y\\\": 272500.0}, {\\\"x\\\": -74.748002, \\\"y\\\": 329950.0}, {\\\"x\\\": -74.935244, \\\"y\\\": 480000.0}, {\\\"x\\\": -74.670195, \\\"y\\\": 740500.0}, {\\\"x\\\": -74.664562, \\\"y\\\": 518500.0}, {\\\"x\\\": -74.746905, \\\"y\\\": 205425.0}, {\\\"x\\\": -74.806495, \\\"y\\\": 171800.0}, {\\\"x\\\": -74.707042, \\\"y\\\": 535000.0}, {\\\"x\\\": -74.613241, \\\"y\\\": 660000.0}, {\\\"x\\\": -74.497462, \\\"y\\\": 391500.0}, {\\\"x\\\": -74.664134, \\\"y\\\": 395000.0}, {\\\"x\\\": -74.736103, \\\"y\\\": 445000.0}, {\\\"x\\\": -74.40797, \\\"y\\\": 770000.0}, {\\\"x\\\": -74.597888, \\\"y\\\": 1450000.0}, {\\\"x\\\": -74.734532, \\\"y\\\": 445000.0}, {\\\"x\\\": -75.077307, \\\"y\\\": 260000.0}, {\\\"x\\\": -74.675696, \\\"y\\\": 822500.0}, {\\\"x\\\": -74.318229, \\\"y\\\": 430000.0}, {\\\"x\\\": -74.875398, \\\"y\\\": 212000.0}, {\\\"x\\\": -74.519311, \\\"y\\\": 660500.0}, {\\\"x\\\": -74.374745, \\\"y\\\": 784000.0}, {\\\"x\\\": -74.446563, \\\"y\\\": 453246.0}, {\\\"x\\\": -74.706717, \\\"y\\\": 675000.0}, {\\\"x\\\": -74.969906, \\\"y\\\": 199000.0}, {\\\"x\\\": -74.968065, \\\"y\\\": 220000.0}, {\\\"x\\\": -74.497411, \\\"y\\\": 452000.0}, {\\\"x\\\": -74.573881, \\\"y\\\": 382500.0}, {\\\"x\\\": -74.708604, \\\"y\\\": 519950.0}, {\\\"x\\\": -74.724231, \\\"y\\\": 665000.0}, {\\\"x\\\": -74.557764, \\\"y\\\": 527700.0}, {\\\"x\\\": -74.715226, \\\"y\\\": 205000.0}, {\\\"x\\\": -74.636351, \\\"y\\\": 420000.0}, {\\\"x\\\": -74.624043, \\\"y\\\": 500000.0}, {\\\"x\\\": -74.283874, \\\"y\\\": 921500.0}, {\\\"x\\\": -74.717471, \\\"y\\\": 890000.0}, {\\\"x\\\": -74.416524, \\\"y\\\": 430000.0}, {\\\"x\\\": -74.897536, \\\"y\\\": 258000.0}, {\\\"x\\\": -74.648832, \\\"y\\\": 511000.0}, {\\\"x\\\": -74.668771, \\\"y\\\": 532170.0}, {\\\"x\\\": -74.703711, \\\"y\\\": 560000.0}, {\\\"x\\\": -74.9787, \\\"y\\\": 282950.0}, {\\\"x\\\": -74.599936, \\\"y\\\": 2250000.0}, {\\\"x\\\": -74.620923, \\\"y\\\": 350000.0}, {\\\"x\\\": -74.728056, \\\"y\\\": 215000.0}, {\\\"x\\\": -74.647006, \\\"y\\\": 650000.0}, {\\\"x\\\": -75.055861, \\\"y\\\": 320000.0}, {\\\"x\\\": -74.787417, \\\"y\\\": 247000.0}, {\\\"x\\\": -74.645962, \\\"y\\\": 320000.0}, {\\\"x\\\": -74.847406, \\\"y\\\": 255000.0}, {\\\"x\\\": -74.476166, \\\"y\\\": 438000.0}, {\\\"x\\\": -74.421745, \\\"y\\\": 900000.0}, {\\\"x\\\": -74.491653, \\\"y\\\": 441000.0}, {\\\"x\\\": -74.565046, \\\"y\\\": 420000.0}, {\\\"x\\\": -74.447108, \\\"y\\\": 370000.0}, {\\\"x\\\": -74.919395, \\\"y\\\": 269950.0}, {\\\"x\\\": -74.559619, \\\"y\\\": 807100.0}, {\\\"x\\\": -74.528361, \\\"y\\\": 653000.0}, {\\\"x\\\": -74.585141, \\\"y\\\": 371500.0}, {\\\"x\\\": -74.859419, \\\"y\\\": 284000.0}, {\\\"x\\\": -75.071321, \\\"y\\\": 272000.0}, {\\\"x\\\": -74.573059, \\\"y\\\": 313000.0}, {\\\"x\\\": -74.534131, \\\"y\\\": 917500.0}, {\\\"x\\\": -74.562662, \\\"y\\\": 673000.0}, {\\\"x\\\": -74.699103, \\\"y\\\": 425000.0}, {\\\"x\\\": -74.720973, \\\"y\\\": 399950.0}, {\\\"x\\\": -74.696502, \\\"y\\\": 385000.0}, {\\\"x\\\": -74.801485, \\\"y\\\": 269950.0}, {\\\"x\\\": -74.635421, \\\"y\\\": 330000.0}, {\\\"x\\\": -74.828784, \\\"y\\\": 260000.0}, {\\\"x\\\": -74.837101, \\\"y\\\": 470000.0}, {\\\"x\\\": -74.495799, \\\"y\\\": 589000.0}, {\\\"x\\\": -74.654233, \\\"y\\\": 163500.0}, {\\\"x\\\": -74.402244, \\\"y\\\": 835000.0}, {\\\"x\\\": -74.525827, \\\"y\\\": 1095000.0}, {\\\"x\\\": -75.069339, \\\"y\\\": 269000.0}, {\\\"x\\\": -74.423246, \\\"y\\\": 560000.0}, {\\\"x\\\": -74.689511, \\\"y\\\": 615000.0}, {\\\"x\\\": -74.488114, \\\"y\\\": 585188.0}, {\\\"x\\\": -74.464803, \\\"y\\\": 305000.0}, {\\\"x\\\": -74.72232, \\\"y\\\": 166950.0}, {\\\"x\\\": -74.668931, \\\"y\\\": 799000.0}, {\\\"x\\\": -74.575367, \\\"y\\\": 400000.0}, {\\\"x\\\": -74.551578, \\\"y\\\": 230000.0}, {\\\"x\\\": -75.069157, \\\"y\\\": 256883.0}, {\\\"x\\\": -74.760914, \\\"y\\\": 423000.0}, {\\\"x\\\": -74.823573, \\\"y\\\": 465000.0}, {\\\"x\\\": -74.372943, \\\"y\\\": 440000.0}, {\\\"x\\\": -74.588155, \\\"y\\\": 385000.0}, {\\\"x\\\": -74.674629, \\\"y\\\": 210000.0}, {\\\"x\\\": -74.787194, \\\"y\\\": 297000.0}, {\\\"x\\\": -74.718645, \\\"y\\\": 470000.0}, {\\\"x\\\": -75.067086, \\\"y\\\": 226500.0}, {\\\"x\\\": -74.679398, \\\"y\\\": 274250.0}, {\\\"x\\\": -74.681095, \\\"y\\\": 840000.0}, {\\\"x\\\": -74.406305, \\\"y\\\": 677900.0}, {\\\"x\\\": -74.807748, \\\"y\\\": 425000.0}, {\\\"x\\\": -74.878571, \\\"y\\\": 180250.0}, {\\\"x\\\": -74.6359, \\\"y\\\": 464000.0}, {\\\"x\\\": -74.693206, \\\"y\\\": 320000.0}, {\\\"x\\\": -74.618899, \\\"y\\\": 625504.0}, {\\\"x\\\": -74.403084, \\\"y\\\": 592500.0}, {\\\"x\\\": -74.956456, \\\"y\\\": 465000.0}, {\\\"x\\\": -74.721817, \\\"y\\\": 477000.0}, {\\\"x\\\": -74.810353, \\\"y\\\": 280000.0}, {\\\"x\\\": -74.642688, \\\"y\\\": 1505000.0}, {\\\"x\\\": -74.865326, \\\"y\\\": 445838.0}, {\\\"x\\\": -74.702529, \\\"y\\\": 1072000.0}, {\\\"x\\\": -74.65234, \\\"y\\\": 467000.0}, {\\\"x\\\": -74.442532, \\\"y\\\": 686000.0}, {\\\"x\\\": -74.900636, \\\"y\\\": 279950.0}, {\\\"x\\\": -74.448793, \\\"y\\\": 527000.0}, {\\\"x\\\": -74.841287, \\\"y\\\": 325000.0}, {\\\"x\\\": -74.640088, \\\"y\\\": 328000.0}, {\\\"x\\\": -74.860889, \\\"y\\\": 390000.0}, {\\\"x\\\": -74.305011, \\\"y\\\": 479950.0}, {\\\"x\\\": -75.078784, \\\"y\\\": 264950.0}, {\\\"x\\\": -74.806102, \\\"y\\\": 235000.0}, {\\\"x\\\": -74.354219, \\\"y\\\": 516500.0}, {\\\"x\\\": -74.92502, \\\"y\\\": 655000.0}, {\\\"x\\\": -74.642383, \\\"y\\\": 500000.0}, {\\\"x\\\": -75.029082, \\\"y\\\": 315000.0}, {\\\"x\\\": -74.330189, \\\"y\\\": 213000.0}, {\\\"x\\\": -74.745225, \\\"y\\\": 475000.0}, {\\\"x\\\": -74.534299, \\\"y\\\": 1025000.0}, {\\\"x\\\": -74.60429, \\\"y\\\": 416000.0}, {\\\"x\\\": -74.689775, \\\"y\\\": 410000.0}, {\\\"x\\\": -74.259202, \\\"y\\\": 800000.0}, {\\\"x\\\": -74.986413, \\\"y\\\": 472000.0}, {\\\"x\\\": -75.002085, \\\"y\\\": 225000.0}, {\\\"x\\\": -74.845464, \\\"y\\\": 210000.0}, {\\\"x\\\": -74.626132, \\\"y\\\": 455000.0}, {\\\"x\\\": -74.894296, \\\"y\\\": 225000.0}, {\\\"x\\\": -74.675044, \\\"y\\\": 480000.0}, {\\\"x\\\": -75.087102, \\\"y\\\": 363000.0}, {\\\"x\\\": -74.438357, \\\"y\\\": 2400000.0}, {\\\"x\\\": -74.834885, \\\"y\\\": 181000.0}, {\\\"x\\\": -74.934159, \\\"y\\\": 250000.0}, {\\\"x\\\": -74.660569, \\\"y\\\": 481000.0}, {\\\"x\\\": -74.912785, \\\"y\\\": 260000.0}, {\\\"x\\\": -74.674071, \\\"y\\\": 455000.0}, {\\\"x\\\": -74.249765, \\\"y\\\": 415000.0}, {\\\"x\\\": -74.72961, \\\"y\\\": 349500.0}, {\\\"x\\\": -74.826804, \\\"y\\\": 245000.0}, {\\\"x\\\": -74.622198, \\\"y\\\": 592500.0}, {\\\"x\\\": -74.817463, \\\"y\\\": 385000.0}, {\\\"x\\\": -74.671785, \\\"y\\\": 315000.0}, {\\\"x\\\": -74.328051, \\\"y\\\": 255000.0}, {\\\"x\\\": -74.404211, \\\"y\\\": 693000.0}, {\\\"x\\\": -74.665689, \\\"y\\\": 780000.0}, {\\\"x\\\": -74.86946, \\\"y\\\": 237000.0}, {\\\"x\\\": -74.431551, \\\"y\\\": 525000.0}, {\\\"x\\\": -74.702907, \\\"y\\\": 425000.0}, {\\\"x\\\": -74.969725, \\\"y\\\": 369900.0}, {\\\"x\\\": -74.766429, \\\"y\\\": 290000.0}, {\\\"x\\\": -74.803573, \\\"y\\\": 285000.0}, {\\\"x\\\": -74.609467, \\\"y\\\": 415000.0}, {\\\"x\\\": -75.072508, \\\"y\\\": 272500.0}, {\\\"x\\\": -74.591514, \\\"y\\\": 2900000.0}, {\\\"x\\\": -74.313579, \\\"y\\\": 1365000.0}, {\\\"x\\\": -74.64177, \\\"y\\\": 436000.0}, {\\\"x\\\": -74.995795, \\\"y\\\": 210000.0}, {\\\"x\\\": -74.750014, \\\"y\\\": 236000.0}, {\\\"x\\\": -74.739698, \\\"y\\\": 331000.0}, {\\\"x\\\": -74.75115, \\\"y\\\": 365000.0}, {\\\"x\\\": -74.697991, \\\"y\\\": 450000.0}, {\\\"x\\\": -74.498915, \\\"y\\\": 770000.0}, {\\\"x\\\": -74.68866, \\\"y\\\": 455000.0}, {\\\"x\\\": -74.731462, \\\"y\\\": 405000.0}, {\\\"x\\\": -74.810799, \\\"y\\\": 304900.0}, {\\\"x\\\": -74.767402, \\\"y\\\": 170000.0}, {\\\"x\\\": -74.670129, \\\"y\\\": 2050000.0}, {\\\"x\\\": -74.343559, \\\"y\\\": 780000.0}, {\\\"x\\\": -74.481449, \\\"y\\\": 330000.0}, {\\\"x\\\": -74.784389, \\\"y\\\": 370000.0}, {\\\"x\\\": -74.387154, \\\"y\\\": 467000.0}, {\\\"x\\\": -74.473538, \\\"y\\\": 405000.0}, {\\\"x\\\": -74.605153, \\\"y\\\": 675000.0}, {\\\"x\\\": -74.57146, \\\"y\\\": 500000.0}, {\\\"x\\\": -74.915234, \\\"y\\\": 389999.0}, {\\\"x\\\": -74.51031, \\\"y\\\": 630000.0}, {\\\"x\\\": -74.921345, \\\"y\\\": 360000.0}, {\\\"x\\\": -74.641235, \\\"y\\\": 580000.0}, {\\\"x\\\": -74.803654, \\\"y\\\": 550000.0}, {\\\"x\\\": -74.422423, \\\"y\\\": 879000.0}, {\\\"x\\\": -74.79017, \\\"y\\\": 265000.0}, {\\\"x\\\": -74.645347, \\\"y\\\": 446500.0}, {\\\"x\\\": -74.752249, \\\"y\\\": 404000.0}, {\\\"x\\\": -74.831609, \\\"y\\\": 267500.0}, {\\\"x\\\": -74.471507, \\\"y\\\": 3075000.0}, {\\\"x\\\": -74.951243, \\\"y\\\": 335000.0}, {\\\"x\\\": -74.699376, \\\"y\\\": 576000.0}, {\\\"x\\\": -74.646457, \\\"y\\\": 208633.0}, {\\\"x\\\": -74.86072, \\\"y\\\": 315000.0}, {\\\"x\\\": -74.674166, \\\"y\\\": 725000.0}, {\\\"x\\\": -74.606103, \\\"y\\\": 550000.0}, {\\\"x\\\": -74.411844, \\\"y\\\": 610750.0}, {\\\"x\\\": -74.627803, \\\"y\\\": 550700.0}, {\\\"x\\\": -74.64219, \\\"y\\\": 665000.0}, {\\\"x\\\": -74.693047, \\\"y\\\": 834000.0}, {\\\"x\\\": -74.307856, \\\"y\\\": 201000.0}, {\\\"x\\\": -74.732812, \\\"y\\\": 2384000.0}, {\\\"x\\\": -74.551285, \\\"y\\\": 1384000.0}, {\\\"x\\\": -74.551285, \\\"y\\\": 1400000.0}, {\\\"x\\\": -74.68097, \\\"y\\\": 305000.0}, {\\\"x\\\": -74.597283, \\\"y\\\": 487000.0}, {\\\"x\\\": -74.810647, \\\"y\\\": 390000.0}, {\\\"x\\\": -74.681223, \\\"y\\\": 548000.0}, {\\\"x\\\": -74.85617, \\\"y\\\": 268750.0}, {\\\"x\\\": -74.475538, \\\"y\\\": 819900.0}, {\\\"x\\\": -74.54111, \\\"y\\\": 520000.0}, {\\\"x\\\": -74.988065, \\\"y\\\": 230000.0}, {\\\"x\\\": -75.078424, \\\"y\\\": 240000.0}, {\\\"x\\\": -74.856515, \\\"y\\\": 232000.0}, {\\\"x\\\": -74.856515, \\\"y\\\": 240500.0}, {\\\"x\\\": -74.320894, \\\"y\\\": 274975.0}, {\\\"x\\\": -74.674696, \\\"y\\\": 740000.0}, {\\\"x\\\": -74.872227, \\\"y\\\": 186375.0}, {\\\"x\\\": -74.574291, \\\"y\\\": 790000.0}, {\\\"x\\\": -74.606185, \\\"y\\\": 880000.0}, {\\\"x\\\": -74.903306, \\\"y\\\": 279000.0}, {\\\"x\\\": -74.820404, \\\"y\\\": 295000.0}, {\\\"x\\\": -74.663956, \\\"y\\\": 640000.0}, {\\\"x\\\": -74.653327, \\\"y\\\": 940000.0}, {\\\"x\\\": -74.703717, \\\"y\\\": 260000.0}, {\\\"x\\\": -74.399115, \\\"y\\\": 559900.0}, {\\\"x\\\": -74.677752, \\\"y\\\": 791500.0}, {\\\"x\\\": -74.600577, \\\"y\\\": 265000.0}, {\\\"x\\\": -74.725874, \\\"y\\\": 245000.0}, {\\\"x\\\": -74.398855, \\\"y\\\": 485000.0}, {\\\"x\\\": -74.634451, \\\"y\\\": 684000.0}, {\\\"x\\\": -74.597744, \\\"y\\\": 425000.0}, {\\\"x\\\": -75.110299, \\\"y\\\": 309600.0}, {\\\"x\\\": -74.337616, \\\"y\\\": 552250.0}, {\\\"x\\\": -74.750005, \\\"y\\\": 165000.0}, {\\\"x\\\": -74.750005, \\\"y\\\": 239900.0}, {\\\"x\\\": -74.606799, \\\"y\\\": 320000.0}, {\\\"x\\\": -74.814489, \\\"y\\\": 206600.0}, {\\\"x\\\": -74.535225, \\\"y\\\": 387000.0}, {\\\"x\\\": -74.179309, \\\"y\\\": 299000.0}, {\\\"x\\\": -74.661559, \\\"y\\\": 855000.0}, {\\\"x\\\": -74.922267, \\\"y\\\": 315000.0}, {\\\"x\\\": -74.672868, \\\"y\\\": 437500.0}, {\\\"x\\\": -74.957871, \\\"y\\\": 252000.0}, {\\\"x\\\": -74.736997, \\\"y\\\": 375000.0}, {\\\"x\\\": -74.673084, \\\"y\\\": 300000.0}, {\\\"x\\\": -74.561298, \\\"y\\\": 420000.0}, {\\\"x\\\": -74.469483, \\\"y\\\": 900000.0}, {\\\"x\\\": -74.816042, \\\"y\\\": 679900.0}, {\\\"x\\\": -74.338255, \\\"y\\\": 463000.0}, {\\\"x\\\": -74.663795, \\\"y\\\": 380000.0}, {\\\"x\\\": -74.644509, \\\"y\\\": 329500.0}, {\\\"x\\\": -74.510024, \\\"y\\\": 604950.0}, {\\\"x\\\": -74.598993, \\\"y\\\": 795000.0}, {\\\"x\\\": -74.223276, \\\"y\\\": 465000.0}, {\\\"x\\\": -74.908653, \\\"y\\\": 673000.0}, {\\\"x\\\": -74.378368, \\\"y\\\": 810000.0}, {\\\"x\\\": -74.447339, \\\"y\\\": 785000.0}, {\\\"x\\\": -74.693154, \\\"y\\\": 338000.0}, {\\\"x\\\": -74.678793, \\\"y\\\": 280000.0}, {\\\"x\\\": -74.570238, \\\"y\\\": 315000.0}, {\\\"x\\\": -74.570238, \\\"y\\\": 530000.0}, {\\\"x\\\": -75.063558, \\\"y\\\": 380000.0}, {\\\"x\\\": -74.685427, \\\"y\\\": 297000.0}, {\\\"x\\\": -74.387664, \\\"y\\\": 730000.0}, {\\\"x\\\": -74.587814, \\\"y\\\": 450000.0}, {\\\"x\\\": -74.682223, \\\"y\\\": 275000.0}, {\\\"x\\\": -74.645879, \\\"y\\\": 595000.0}, {\\\"x\\\": -74.714969, \\\"y\\\": 435000.0}, {\\\"x\\\": -74.44863, \\\"y\\\": 270000.0}, {\\\"x\\\": -74.333622, \\\"y\\\": 950000.0}, {\\\"x\\\": -74.235143, \\\"y\\\": 389000.0}, {\\\"x\\\": -74.466645, \\\"y\\\": 560000.0}, {\\\"x\\\": -74.593197, \\\"y\\\": 1350000.0}, {\\\"x\\\": -74.677262, \\\"y\\\": 799000.0}, {\\\"x\\\": -74.387341, \\\"y\\\": 365500.0}, {\\\"x\\\": -74.707747, \\\"y\\\": 252350.0}, {\\\"x\\\": -74.866113, \\\"y\\\": 403950.0}, {\\\"x\\\": -74.585681, \\\"y\\\": 385000.0}, {\\\"x\\\": -74.820929, \\\"y\\\": 345000.0}, {\\\"x\\\": -74.503573, \\\"y\\\": 490000.0}, {\\\"x\\\": -74.127454, \\\"y\\\": 330000.0}, {\\\"x\\\": -74.588719, \\\"y\\\": 927000.0}, {\\\"x\\\": -74.64919, \\\"y\\\": 1118000.0}, {\\\"x\\\": -74.50014, \\\"y\\\": 330000.0}, {\\\"x\\\": -74.520076, \\\"y\\\": 530000.0}, {\\\"x\\\": -74.556976, \\\"y\\\": 365000.0}, {\\\"x\\\": -74.724604, \\\"y\\\": 378750.0}, {\\\"x\\\": -74.70147, \\\"y\\\": 269900.0}, {\\\"x\\\": -74.699119, \\\"y\\\": 557000.0}, {\\\"x\\\": -74.844263, \\\"y\\\": 360000.0}, {\\\"x\\\": -74.69674, \\\"y\\\": 352000.0}, {\\\"x\\\": -74.298756, \\\"y\\\": 437000.0}, {\\\"x\\\": -74.64733, \\\"y\\\": 322500.0}, {\\\"x\\\": -74.820758, \\\"y\\\": 650000.0}, {\\\"x\\\": -74.683352, \\\"y\\\": 450000.0}, {\\\"x\\\": -74.872045, \\\"y\\\": 278500.0}, {\\\"x\\\": -74.759603, \\\"y\\\": 364950.0}, {\\\"x\\\": -74.624524, \\\"y\\\": 840000.0}, {\\\"x\\\": -74.787527, \\\"y\\\": 268000.0}, {\\\"x\\\": -75.093341, \\\"y\\\": 517534.0}, {\\\"x\\\": -74.322888, \\\"y\\\": 632925.0}, {\\\"x\\\": -74.493825, \\\"y\\\": 577500.0}, {\\\"x\\\": -74.723223, \\\"y\\\": 339000.0}, {\\\"x\\\": -74.462336, \\\"y\\\": 570000.0}, {\\\"x\\\": -74.374933, \\\"y\\\": 563500.0}, {\\\"x\\\": -74.588058, \\\"y\\\": 423000.0}, {\\\"x\\\": -74.250267, \\\"y\\\": 355000.0}, {\\\"x\\\": -74.354285, \\\"y\\\": 1550000.0}, {\\\"x\\\": -74.648305, \\\"y\\\": 482000.0}, {\\\"x\\\": -74.607085, \\\"y\\\": 625000.0}, {\\\"x\\\": -74.641711, \\\"y\\\": 538000.0}, {\\\"x\\\": -74.727363, \\\"y\\\": 380000.0}, {\\\"x\\\": -74.700692, \\\"y\\\": 375000.0}, {\\\"x\\\": -74.68642, \\\"y\\\": 245000.0}, {\\\"x\\\": -74.882407, \\\"y\\\": 310000.0}, {\\\"x\\\": -74.578414, \\\"y\\\": 1300000.0}, {\\\"x\\\": -74.475296, \\\"y\\\": 397000.0}, {\\\"x\\\": -74.741975, \\\"y\\\": 365000.0}, {\\\"x\\\": -74.781651, \\\"y\\\": 328500.0}, {\\\"x\\\": -74.406445, \\\"y\\\": 988000.0}, {\\\"x\\\": -74.666228, \\\"y\\\": 1000000.0}, {\\\"x\\\": -74.764253, \\\"y\\\": 237000.0}, {\\\"x\\\": -74.451135, \\\"y\\\": 525000.0}, {\\\"x\\\": -74.605441, \\\"y\\\": 749000.0}, {\\\"x\\\": -74.407691, \\\"y\\\": 722500.0}, {\\\"x\\\": -74.407517, \\\"y\\\": 843000.0}, {\\\"x\\\": -74.640484, \\\"y\\\": 438000.0}, {\\\"x\\\": -74.877576, \\\"y\\\": 578000.0}, {\\\"x\\\": -74.993973, \\\"y\\\": 227950.0}, {\\\"x\\\": -74.929695, \\\"y\\\": 196000.0}, {\\\"x\\\": -74.606067, \\\"y\\\": 641000.0}, {\\\"x\\\": -74.548943, \\\"y\\\": 350000.0}, {\\\"x\\\": -74.905139, \\\"y\\\": 205000.0}, {\\\"x\\\": -74.333539, \\\"y\\\": 400000.0}, {\\\"x\\\": -74.524706, \\\"y\\\": 1030000.0}, {\\\"x\\\": -74.444512, \\\"y\\\": 505000.0}, {\\\"x\\\": -74.490316, \\\"y\\\": 475000.0}, {\\\"x\\\": -74.493051, \\\"y\\\": 520000.0}, {\\\"x\\\": -74.539369, \\\"y\\\": 1450000.0}, {\\\"x\\\": -74.440346, \\\"y\\\": 333500.0}, {\\\"x\\\": -74.66683, \\\"y\\\": 232000.0}, {\\\"x\\\": -74.55132, \\\"y\\\": 691100.0}, {\\\"x\\\": -74.670032, \\\"y\\\": 811000.0}, {\\\"x\\\": -74.473806, \\\"y\\\": 551000.0}, {\\\"x\\\": -74.421023, \\\"y\\\": 496500.0}, {\\\"x\\\": -75.053772, \\\"y\\\": 705000.0}, {\\\"x\\\": -74.735107, \\\"y\\\": 578000.0}, {\\\"x\\\": -74.722465, \\\"y\\\": 255000.0}, {\\\"x\\\": -74.559232, \\\"y\\\": 1050000.0}, {\\\"x\\\": -74.748872, \\\"y\\\": 348000.0}, {\\\"x\\\": -74.775359, \\\"y\\\": 230000.0}, {\\\"x\\\": -75.04075, \\\"y\\\": 359500.0}, {\\\"x\\\": -74.59569, \\\"y\\\": 330000.0}, {\\\"x\\\": -74.25874, \\\"y\\\": 80000.0}, {\\\"x\\\": -74.621573, \\\"y\\\": 465000.0}, {\\\"x\\\": -74.736533, \\\"y\\\": 325000.0}, {\\\"x\\\": -74.832718, \\\"y\\\": 340500.0}, {\\\"x\\\": -74.669665, \\\"y\\\": 342500.0}, {\\\"x\\\": -74.780157, \\\"y\\\": 290900.0}, {\\\"x\\\": -74.43085, \\\"y\\\": 868700.0}, {\\\"x\\\": -74.563831, \\\"y\\\": 1199000.0}, {\\\"x\\\": -74.432419, \\\"y\\\": 1150000.0}, {\\\"x\\\": -74.471458, \\\"y\\\": 859900.0}, {\\\"x\\\": -74.452177, \\\"y\\\": 520000.0}, {\\\"x\\\": -74.722927, \\\"y\\\": 460000.0}, {\\\"x\\\": -74.595889, \\\"y\\\": 438924.0}, {\\\"x\\\": -74.831567, \\\"y\\\": 315000.0}, {\\\"x\\\": -74.522213, \\\"y\\\": 590000.0}, {\\\"x\\\": -74.576108, \\\"y\\\": 378500.0}, {\\\"x\\\": -74.773612, \\\"y\\\": 328500.0}, {\\\"x\\\": -74.539265, \\\"y\\\": 849950.0}, {\\\"x\\\": -74.863705, \\\"y\\\": 525000.0}, {\\\"x\\\": -74.387288, \\\"y\\\": 1385000.0}, {\\\"x\\\": -75.070392, \\\"y\\\": 295000.0}, {\\\"x\\\": -74.585405, \\\"y\\\": 1067000.0}, {\\\"x\\\": -74.7486, \\\"y\\\": 207950.0}, {\\\"x\\\": -74.378276, \\\"y\\\": 699900.0}, {\\\"x\\\": -74.51732, \\\"y\\\": 1280000.0}, {\\\"x\\\": -74.480768, \\\"y\\\": 452000.0}, {\\\"x\\\": -74.712296, \\\"y\\\": 370000.0}, {\\\"x\\\": -74.706237, \\\"y\\\": 232000.0}, {\\\"x\\\": -74.507189, \\\"y\\\": 669950.0}, {\\\"x\\\": -74.496623, \\\"y\\\": 397500.0}, {\\\"x\\\": -74.681508, \\\"y\\\": 490000.0}, {\\\"x\\\": -74.803894, \\\"y\\\": 725000.0}, {\\\"x\\\": -74.899729, \\\"y\\\": 299000.0}, {\\\"x\\\": -74.802844, \\\"y\\\": 625000.0}, {\\\"x\\\": -74.347809, \\\"y\\\": 437500.0}, {\\\"x\\\": -74.322935, \\\"y\\\": 650000.0}, {\\\"x\\\": -74.700869, \\\"y\\\": 475000.0}, {\\\"x\\\": -74.784084, \\\"y\\\": 342000.0}, {\\\"x\\\": -74.52126, \\\"y\\\": 1197354.0}, {\\\"x\\\": -74.750818, \\\"y\\\": 280000.0}, {\\\"x\\\": -74.834074, \\\"y\\\": 240000.0}, {\\\"x\\\": -74.690417, \\\"y\\\": 529000.0}, {\\\"x\\\": -74.850289, \\\"y\\\": 442000.0}, {\\\"x\\\": -74.728123, \\\"y\\\": 615000.0}, {\\\"x\\\": -74.514411, \\\"y\\\": 1485000.0}, {\\\"x\\\": -74.389197, \\\"y\\\": 585000.0}, {\\\"x\\\": -74.65134, \\\"y\\\": 480000.0}, {\\\"x\\\": -74.362149, \\\"y\\\": 1095000.0}, {\\\"x\\\": -74.61243, \\\"y\\\": 290000.0}, {\\\"x\\\": -74.813891, \\\"y\\\": 615000.0}, {\\\"x\\\": -74.595106, \\\"y\\\": 300000.0}, {\\\"x\\\": -74.843351, \\\"y\\\": 308000.0}, {\\\"x\\\": -74.499701, \\\"y\\\": 750000.0}, {\\\"x\\\": -74.643097, \\\"y\\\": 2250000.0}, {\\\"x\\\": -74.612804, \\\"y\\\": 890000.0}, {\\\"x\\\": -74.724682, \\\"y\\\": 288000.0}, {\\\"x\\\": -74.724178, \\\"y\\\": 190000.0}, {\\\"x\\\": -74.586311, \\\"y\\\": 515000.0}, {\\\"x\\\": -74.748315, \\\"y\\\": 235000.0}, {\\\"x\\\": -74.855154, \\\"y\\\": 275000.0}, {\\\"x\\\": -74.570453, \\\"y\\\": 727500.0}, {\\\"x\\\": -74.356155, \\\"y\\\": 650000.0}, {\\\"x\\\": -74.339834, \\\"y\\\": 1600000.0}, {\\\"x\\\": -74.573891, \\\"y\\\": 365000.0}, {\\\"x\\\": -74.392688, \\\"y\\\": 662000.0}, {\\\"x\\\": -74.695042, \\\"y\\\": 270500.0}, {\\\"x\\\": -74.904904, \\\"y\\\": 200000.0}, {\\\"x\\\": -74.478036, \\\"y\\\": 970000.0}, {\\\"x\\\": -74.906125, \\\"y\\\": 160000.0}, {\\\"x\\\": -74.710786, \\\"y\\\": 204000.0}, {\\\"x\\\": -74.731452, \\\"y\\\": 358000.0}, {\\\"x\\\": -74.459871, \\\"y\\\": 452000.0}, {\\\"x\\\": -74.687157, \\\"y\\\": 595000.0}, {\\\"x\\\": -74.80212, \\\"y\\\": 249000.0}, {\\\"x\\\": -74.755588, \\\"y\\\": 346900.0}, {\\\"x\\\": -74.930983, \\\"y\\\": 2125000.0}, {\\\"x\\\": -74.683551, \\\"y\\\": 280000.0}, {\\\"x\\\": -74.915775, \\\"y\\\": 318888.0}, {\\\"x\\\": -74.419655, \\\"y\\\": 530000.0}, {\\\"x\\\": -74.7773, \\\"y\\\": 375000.0}, {\\\"x\\\": -74.410908, \\\"y\\\": 910000.0}, {\\\"x\\\": -74.553674, \\\"y\\\": 782000.0}, {\\\"x\\\": -74.835458, \\\"y\\\": 259950.0}, {\\\"x\\\": -74.70817, \\\"y\\\": 315000.0}, {\\\"x\\\": -74.804823, \\\"y\\\": 215000.0}, {\\\"x\\\": -74.659245, \\\"y\\\": 705000.0}, {\\\"x\\\": -74.765451, \\\"y\\\": 1450000.0}, {\\\"x\\\": -74.556082, \\\"y\\\": 451000.0}, {\\\"x\\\": -74.725584, \\\"y\\\": 261000.0}, {\\\"x\\\": -74.5158, \\\"y\\\": 396000.0}, {\\\"x\\\": -74.60256, \\\"y\\\": 725000.0}, {\\\"x\\\": -74.66413, \\\"y\\\": 1950000.0}, {\\\"x\\\": -74.856778, \\\"y\\\": 238000.0}, {\\\"x\\\": -74.459816, \\\"y\\\": 750000.0}, {\\\"x\\\": -74.711738, \\\"y\\\": 331500.0}, {\\\"x\\\": -74.325317, \\\"y\\\": 460000.0}, {\\\"x\\\": -74.78812, \\\"y\\\": 404950.0}, {\\\"x\\\": -74.658781, \\\"y\\\": 880000.0}, {\\\"x\\\": -74.399531, \\\"y\\\": 863000.0}, {\\\"x\\\": -74.583714, \\\"y\\\": 638700.0}, {\\\"x\\\": -74.329169, \\\"y\\\": 435000.0}, {\\\"x\\\": -74.754191, \\\"y\\\": 260000.0}, {\\\"x\\\": -74.621695, \\\"y\\\": 671500.0}, {\\\"x\\\": -74.715005, \\\"y\\\": 610000.0}, {\\\"x\\\": -74.177104, \\\"y\\\": 405000.0}, {\\\"x\\\": -74.657918, \\\"y\\\": 338900.0}, {\\\"x\\\": -74.388677, \\\"y\\\": 720000.0}, {\\\"x\\\": -74.761197, \\\"y\\\": 442000.0}, {\\\"x\\\": -74.684886, \\\"y\\\": 650000.0}, {\\\"x\\\": -74.713045, \\\"y\\\": 263500.0}, {\\\"x\\\": -74.584921, \\\"y\\\": 300000.0}, {\\\"x\\\": -74.860271, \\\"y\\\": 266000.0}, {\\\"x\\\": -74.282428, \\\"y\\\": 930000.0}, {\\\"x\\\": -74.455999, \\\"y\\\": 530000.0}, {\\\"x\\\": -75.064442, \\\"y\\\": 180000.0}, {\\\"x\\\": -74.31784, \\\"y\\\": 619000.0}, {\\\"x\\\": -74.96909, \\\"y\\\": 264000.0}, {\\\"x\\\": -74.835522, \\\"y\\\": 730000.0}, {\\\"x\\\": -74.451237, \\\"y\\\": 439000.0}, {\\\"x\\\": -74.773665, \\\"y\\\": 268500.0}, {\\\"x\\\": -74.278764, \\\"y\\\": 330000.0}, {\\\"x\\\": -74.702602, \\\"y\\\": 640000.0}, {\\\"x\\\": -74.421529, \\\"y\\\": 900000.0}, {\\\"x\\\": -74.688003, \\\"y\\\": 370000.0}, {\\\"x\\\": -74.701965, \\\"y\\\": 685000.0}, {\\\"x\\\": -74.344682, \\\"y\\\": 505000.0}, {\\\"x\\\": -74.793985, \\\"y\\\": 265000.0}, {\\\"x\\\": -74.739418, \\\"y\\\": 290000.0}, {\\\"x\\\": -74.65066, \\\"y\\\": 296000.0}, {\\\"x\\\": -74.754366, \\\"y\\\": 360000.0}, {\\\"x\\\": -74.82498, \\\"y\\\": 240500.0}, {\\\"x\\\": -74.822947, \\\"y\\\": 372500.0}, {\\\"x\\\": -74.275475, \\\"y\\\": 595000.0}, {\\\"x\\\": -75.056321, \\\"y\\\": 515000.0}, {\\\"x\\\": -74.666194, \\\"y\\\": 1220000.0}, {\\\"x\\\": -74.314651, \\\"y\\\": 507000.0}, {\\\"x\\\": -74.80142, \\\"y\\\": 399950.0}, {\\\"x\\\": -74.684237, \\\"y\\\": 185000.0}, {\\\"x\\\": -74.430298, \\\"y\\\": 460000.0}, {\\\"x\\\": -74.451775, \\\"y\\\": 435500.0}, {\\\"x\\\": -74.858276, \\\"y\\\": 469000.0}, {\\\"x\\\": -74.676851, \\\"y\\\": 531000.0}, {\\\"x\\\": -74.668304, \\\"y\\\": 443500.0}, {\\\"x\\\": -74.717011, \\\"y\\\": 223000.0}, {\\\"x\\\": -74.494922, \\\"y\\\": 590000.0}, {\\\"x\\\": -74.652305, \\\"y\\\": 340000.0}, {\\\"x\\\": -74.757683, \\\"y\\\": 650000.0}, {\\\"x\\\": -74.432044, \\\"y\\\": 533600.0}, {\\\"x\\\": -74.402096, \\\"y\\\": 695000.0}, {\\\"x\\\": -74.791427, \\\"y\\\": 242000.0}, {\\\"x\\\": -74.592738, \\\"y\\\": 425000.0}, {\\\"x\\\": -74.42889, \\\"y\\\": 525000.0}, {\\\"x\\\": -74.444165, \\\"y\\\": 485000.0}, {\\\"x\\\": -74.323519, \\\"y\\\": 175000.0}, {\\\"x\\\": -74.870869, \\\"y\\\": 210000.0}, {\\\"x\\\": -74.769033, \\\"y\\\": 260000.0}, {\\\"x\\\": -74.82409, \\\"y\\\": 577000.0}, {\\\"x\\\": -74.924819, \\\"y\\\": 200000.0}, {\\\"x\\\": -74.689825, \\\"y\\\": 605000.0}, {\\\"x\\\": -74.618027, \\\"y\\\": 325000.0}, {\\\"x\\\": -74.742804, \\\"y\\\": 289500.0}, {\\\"x\\\": -74.721641, \\\"y\\\": 559950.0}, {\\\"x\\\": -74.590561, \\\"y\\\": 1042500.0}, {\\\"x\\\": -74.738041, \\\"y\\\": 543500.0}, {\\\"x\\\": -74.74428, \\\"y\\\": 480000.0}, {\\\"x\\\": -74.806427, \\\"y\\\": 218000.0}, {\\\"x\\\": -74.742484, \\\"y\\\": 565000.0}, {\\\"x\\\": -74.640279, \\\"y\\\": 426700.0}, {\\\"x\\\": -74.506356, \\\"y\\\": 650000.0}, {\\\"x\\\": -74.660133, \\\"y\\\": 542000.0}, {\\\"x\\\": -74.432363, \\\"y\\\": 415000.0}, {\\\"x\\\": -74.89314, \\\"y\\\": 214000.0}, {\\\"x\\\": -74.825975, \\\"y\\\": 245000.0}, {\\\"x\\\": -75.041588, \\\"y\\\": 314500.0}, {\\\"x\\\": -74.808098, \\\"y\\\": 1120000.0}, {\\\"x\\\": -74.850986, \\\"y\\\": 378000.0}, {\\\"x\\\": -74.933502, \\\"y\\\": 305000.0}, {\\\"x\\\": -74.493526, \\\"y\\\": 595000.0}, {\\\"x\\\": -74.820569, \\\"y\\\": 729500.0}, {\\\"x\\\": -74.320859, \\\"y\\\": 430000.0}, {\\\"x\\\": -74.685506, \\\"y\\\": 240000.0}, {\\\"x\\\": -74.850515, \\\"y\\\": 545000.0}, {\\\"x\\\": -74.637104, \\\"y\\\": 530000.0}, {\\\"x\\\": -74.8851, \\\"y\\\": 157000.0}, {\\\"x\\\": -74.845168, \\\"y\\\": 425000.0}, {\\\"x\\\": -74.866418, \\\"y\\\": 220000.0}, {\\\"x\\\": -74.312878, \\\"y\\\": 521000.0}, {\\\"x\\\": -74.754791, \\\"y\\\": 325000.0}, {\\\"x\\\": -74.824201, \\\"y\\\": 597500.0}, {\\\"x\\\": -74.300123, \\\"y\\\": 337000.0}, {\\\"x\\\": -74.469488, \\\"y\\\": 1000000.0}, {\\\"x\\\": -74.522062, \\\"y\\\": 3070000.0}, {\\\"x\\\": -74.595401, \\\"y\\\": 495000.0}, {\\\"x\\\": -74.475931, \\\"y\\\": 748000.0}, {\\\"x\\\": -74.573437, \\\"y\\\": 888000.0}, {\\\"x\\\": -74.281793, \\\"y\\\": 269900.0}, {\\\"x\\\": -74.522882, \\\"y\\\": 496500.0}, {\\\"x\\\": -74.525628, \\\"y\\\": 475000.0}, {\\\"x\\\": -74.596878, \\\"y\\\": 312000.0}, {\\\"x\\\": -74.369265, \\\"y\\\": 323000.0}, {\\\"x\\\": -74.675712, \\\"y\\\": 331000.0}, {\\\"x\\\": -74.648405, \\\"y\\\": 306000.0}, {\\\"x\\\": -74.689885, \\\"y\\\": 655000.0}, {\\\"x\\\": -74.983467, \\\"y\\\": 290000.0}, {\\\"x\\\": -74.614577, \\\"y\\\": 1250000.0}, {\\\"x\\\": -74.61027, \\\"y\\\": 460000.0}, {\\\"x\\\": -74.619808, \\\"y\\\": 435000.0}, {\\\"x\\\": -74.638683, \\\"y\\\": 664000.0}, {\\\"x\\\": -74.671793, \\\"y\\\": 865000.0}, {\\\"x\\\": -74.704993, \\\"y\\\": 385000.0}, {\\\"x\\\": -74.497375, \\\"y\\\": 497000.0}, {\\\"x\\\": -74.288253, \\\"y\\\": 280000.0}, {\\\"x\\\": -74.768832, \\\"y\\\": 188000.0}, {\\\"x\\\": -74.856565, \\\"y\\\": 478500.0}, {\\\"x\\\": -74.32788, \\\"y\\\": 1145000.0}, {\\\"x\\\": -75.076545, \\\"y\\\": 222000.0}, {\\\"x\\\": -74.31255, \\\"y\\\": 799000.0}, {\\\"x\\\": -74.648275, \\\"y\\\": 609900.0}, {\\\"x\\\": -74.805271, \\\"y\\\": 413000.0}, {\\\"x\\\": -74.626374, \\\"y\\\": 400000.0}, {\\\"x\\\": -74.63594, \\\"y\\\": 802541.0}, {\\\"x\\\": -75.054506, \\\"y\\\": 320000.0}, {\\\"x\\\": -74.337733, \\\"y\\\": 507000.0}, {\\\"x\\\": -74.60009, \\\"y\\\": 387500.0}, {\\\"x\\\": -74.359252, \\\"y\\\": 396000.0}, {\\\"x\\\": -74.737802, \\\"y\\\": 373000.0}, {\\\"x\\\": -74.664758, \\\"y\\\": 1484900.0}, {\\\"x\\\": -74.700445, \\\"y\\\": 359900.0}, {\\\"x\\\": -74.616183, \\\"y\\\": 410000.0}, {\\\"x\\\": -74.356891, \\\"y\\\": 690000.0}, {\\\"x\\\": -74.815039, \\\"y\\\": 245000.0}, {\\\"x\\\": -74.493599, \\\"y\\\": 700000.0}, {\\\"x\\\": -74.918397, \\\"y\\\": 268000.0}, {\\\"x\\\": -74.733812, \\\"y\\\": 225000.0}, {\\\"x\\\": -74.605263, \\\"y\\\": 980000.0}, {\\\"x\\\": -74.788148, \\\"y\\\": 795000.0}, {\\\"x\\\": -74.746669, \\\"y\\\": 195000.0}, {\\\"x\\\": -74.588223, \\\"y\\\": 480000.0}, {\\\"x\\\": -74.73147, \\\"y\\\": 485000.0}, {\\\"x\\\": -74.823937, \\\"y\\\": 130000.0}, {\\\"x\\\": -74.982674, \\\"y\\\": 325000.0}, {\\\"x\\\": -74.460386, \\\"y\\\": 440000.0}, {\\\"x\\\": -74.506333, \\\"y\\\": 550000.0}, {\\\"x\\\": -74.622823, \\\"y\\\": 310000.0}, {\\\"x\\\": -74.730497, \\\"y\\\": 530000.0}, {\\\"x\\\": -74.762256, \\\"y\\\": 390000.0}, {\\\"x\\\": -74.922917, \\\"y\\\": 243000.0}, {\\\"x\\\": -74.396502, \\\"y\\\": 639000.0}, {\\\"x\\\": -74.972581, \\\"y\\\": 215000.0}, {\\\"x\\\": -74.462785, \\\"y\\\": 405000.0}, {\\\"x\\\": -74.900047, \\\"y\\\": 250000.0}, {\\\"x\\\": -74.573451, \\\"y\\\": 405500.0}, {\\\"x\\\": -74.571305, \\\"y\\\": 452000.0}, {\\\"x\\\": -74.571305, \\\"y\\\": 730000.0}, {\\\"x\\\": -74.684989, \\\"y\\\": 267000.0}, {\\\"x\\\": -74.663745, \\\"y\\\": 289950.0}, {\\\"x\\\": -74.659678, \\\"y\\\": 565000.0}, {\\\"x\\\": -74.528831, \\\"y\\\": 1578000.0}, {\\\"x\\\": -74.465023, \\\"y\\\": 636000.0}, {\\\"x\\\": -74.761145, \\\"y\\\": 350000.0}, {\\\"x\\\": -74.709514, \\\"y\\\": 320000.0}, {\\\"x\\\": -74.936678, \\\"y\\\": 210000.0}, {\\\"x\\\": -74.843623, \\\"y\\\": 245000.0}, {\\\"x\\\": -74.679599, \\\"y\\\": 328000.0}, {\\\"x\\\": -74.348119, \\\"y\\\": 985000.0}, {\\\"x\\\": -74.734334, \\\"y\\\": 501000.0}, {\\\"x\\\": -74.316623, \\\"y\\\": 315000.0}, {\\\"x\\\": -74.231002, \\\"y\\\": 403000.0}, {\\\"x\\\": -74.520759, \\\"y\\\": 550000.0}, {\\\"x\\\": -74.841549, \\\"y\\\": 347500.0}, {\\\"x\\\": -74.723026, \\\"y\\\": 365000.0}, {\\\"x\\\": -74.667796, \\\"y\\\": 588000.0}, {\\\"x\\\": -74.567421, \\\"y\\\": 605000.0}, {\\\"x\\\": -74.614192, \\\"y\\\": 1300000.0}, {\\\"x\\\": -74.930571, \\\"y\\\": 233000.0}, {\\\"x\\\": -74.817792, \\\"y\\\": 360000.0}, {\\\"x\\\": -74.671419, \\\"y\\\": 459000.0}, {\\\"x\\\": -74.31365, \\\"y\\\": 740000.0}, {\\\"x\\\": -74.330555, \\\"y\\\": 305000.0}, {\\\"x\\\": -74.68765, \\\"y\\\": 395000.0}, {\\\"x\\\": -74.444915, \\\"y\\\": 560000.0}, {\\\"x\\\": -74.822458, \\\"y\\\": 650000.0}, {\\\"x\\\": -74.462001, \\\"y\\\": 449950.0}, {\\\"x\\\": -74.688382, \\\"y\\\": 517500.0}, {\\\"x\\\": -74.501815, \\\"y\\\": 435000.0}, {\\\"x\\\": -74.568604, \\\"y\\\": 329999.0}, {\\\"x\\\": -74.837456, \\\"y\\\": 950000.0}, {\\\"x\\\": -74.752448, \\\"y\\\": 447000.0}, {\\\"x\\\": -74.302612, \\\"y\\\": 699800.0}, {\\\"x\\\": -74.641361, \\\"y\\\": 850000.0}, {\\\"x\\\": -75.027753, \\\"y\\\": 316500.0}, {\\\"x\\\": -74.605773, \\\"y\\\": 942500.0}, {\\\"x\\\": -74.793161, \\\"y\\\": 1310000.0}, {\\\"x\\\": -74.578868, \\\"y\\\": 856600.0}, {\\\"x\\\": -74.749125, \\\"y\\\": 405600.0}, {\\\"x\\\": -74.336414, \\\"y\\\": 565000.0}, {\\\"x\\\": -74.805517, \\\"y\\\": 400000.0}, {\\\"x\\\": -74.176081, \\\"y\\\": 330000.0}, {\\\"x\\\": -74.681932, \\\"y\\\": 374950.0}, {\\\"x\\\": -74.667731, \\\"y\\\": 405300.0}, {\\\"x\\\": -74.434199, \\\"y\\\": 560000.0}, {\\\"x\\\": -74.589968, \\\"y\\\": 824000.0}, {\\\"x\\\": -74.717471, \\\"y\\\": 260000.0}, {\\\"x\\\": -74.60907, \\\"y\\\": 760000.0}, {\\\"x\\\": -74.997466, \\\"y\\\": 405000.0}, {\\\"x\\\": -74.689864, \\\"y\\\": 429900.0}, {\\\"x\\\": -74.680177, \\\"y\\\": 341500.0}, {\\\"x\\\": -74.604652, \\\"y\\\": 465250.0}, {\\\"x\\\": -74.682331, \\\"y\\\": 450000.0}, {\\\"x\\\": -74.56727, \\\"y\\\": 390000.0}, {\\\"x\\\": -74.495351, \\\"y\\\": 420000.0}, {\\\"x\\\": -74.798936, \\\"y\\\": 269950.0}, {\\\"x\\\": -74.68503, \\\"y\\\": 493000.0}, {\\\"x\\\": -74.840218, \\\"y\\\": 370000.0}, {\\\"x\\\": -74.665966, \\\"y\\\": 2250000.0}, {\\\"x\\\": -74.635079, \\\"y\\\": 305000.0}, {\\\"x\\\": -74.502576, \\\"y\\\": 400000.0}, {\\\"x\\\": -74.648449, \\\"y\\\": 320000.0}, {\\\"x\\\": -74.693016, \\\"y\\\": 715000.0}, {\\\"x\\\": -74.498501, \\\"y\\\": 650000.0}, {\\\"x\\\": -75.06539, \\\"y\\\": 218000.0}, {\\\"x\\\": -74.676168, \\\"y\\\": 500000.0}, {\\\"x\\\": -74.523959, \\\"y\\\": 460000.0}, {\\\"x\\\": -74.997687, \\\"y\\\": 232500.0}, {\\\"x\\\": -74.833454, \\\"y\\\": 408200.0}, {\\\"x\\\": -74.435878, \\\"y\\\": 522000.0}, {\\\"x\\\": -74.410352, \\\"y\\\": 675000.0}, {\\\"x\\\": -74.583051, \\\"y\\\": 1355000.0}, {\\\"x\\\": -74.840791, \\\"y\\\": 249950.0}, {\\\"x\\\": -74.816192, \\\"y\\\": 210000.0}, {\\\"x\\\": -74.650506, \\\"y\\\": 429950.0}, {\\\"x\\\": -74.363213, \\\"y\\\": 737500.0}, {\\\"x\\\": -74.516632, \\\"y\\\": 710000.0}, {\\\"x\\\": -74.332639, \\\"y\\\": 470000.0}, {\\\"x\\\": -74.343042, \\\"y\\\": 1100000.0}, {\\\"x\\\": -74.682781, \\\"y\\\": 650000.0}, {\\\"x\\\": -74.600431, \\\"y\\\": 1216000.0}, {\\\"x\\\": -74.490112, \\\"y\\\": 422120.0}, {\\\"x\\\": -74.471592, \\\"y\\\": 625000.0}, {\\\"x\\\": -74.85289, \\\"y\\\": 385200.0}, {\\\"x\\\": -74.433977, \\\"y\\\": 500000.0}, {\\\"x\\\": -74.717149, \\\"y\\\": 308000.0}, {\\\"x\\\": -74.641528, \\\"y\\\": 565000.0}, {\\\"x\\\": -74.353941, \\\"y\\\": 581000.0}, {\\\"x\\\": -74.763009, \\\"y\\\": 361000.0}, {\\\"x\\\": -74.487967, \\\"y\\\": 345000.0}, {\\\"x\\\": -74.696988, \\\"y\\\": 419000.0}, {\\\"x\\\": -74.699041, \\\"y\\\": 347000.0}, {\\\"x\\\": -74.407323, \\\"y\\\": 625000.0}, {\\\"x\\\": -74.667113, \\\"y\\\": 2400000.0}, {\\\"x\\\": -74.703086, \\\"y\\\": 379000.0}, {\\\"x\\\": -74.446623, \\\"y\\\": 310000.0}, {\\\"x\\\": -74.8414, \\\"y\\\": 250000.0}, {\\\"x\\\": -74.648904, \\\"y\\\": 682000.0}, {\\\"x\\\": -74.771462, \\\"y\\\": 246500.0}, {\\\"x\\\": -74.968483, \\\"y\\\": 325000.0}, {\\\"x\\\": -74.790732, \\\"y\\\": 310950.0}, {\\\"x\\\": -74.761379, \\\"y\\\": 1100000.0}, {\\\"x\\\": -74.601318, \\\"y\\\": 287500.0}, {\\\"x\\\": -74.601318, \\\"y\\\": 431000.0}, {\\\"x\\\": -74.751078, \\\"y\\\": 226000.0}, {\\\"x\\\": -74.665497, \\\"y\\\": 825000.0}, {\\\"x\\\": -74.807801, \\\"y\\\": 175000.0}, {\\\"x\\\": -74.486835, \\\"y\\\": 465750.0}, {\\\"x\\\": -74.473268, \\\"y\\\": 659000.0}, {\\\"x\\\": -74.636779, \\\"y\\\": 595000.0}, {\\\"x\\\": -74.664722, \\\"y\\\": 350000.0}, {\\\"x\\\": -75.070631, \\\"y\\\": 270000.0}, {\\\"x\\\": -74.510979, \\\"y\\\": 662500.0}, {\\\"x\\\": -74.987108, \\\"y\\\": 249900.0}, {\\\"x\\\": -75.035094, \\\"y\\\": 324500.0}, {\\\"x\\\": -74.315169, \\\"y\\\": 430000.0}, {\\\"x\\\": -74.315169, \\\"y\\\": 419950.0}, {\\\"x\\\": -74.900943, \\\"y\\\": 285000.0}, {\\\"x\\\": -74.857199, \\\"y\\\": 332000.0}, {\\\"x\\\": -74.796992, \\\"y\\\": 282000.0}, {\\\"x\\\": -74.607805, \\\"y\\\": 320000.0}, {\\\"x\\\": -74.54669, \\\"y\\\": 428750.0}, {\\\"x\\\": -74.689291, \\\"y\\\": 330000.0}, {\\\"x\\\": -74.658521, \\\"y\\\": 456500.0}, {\\\"x\\\": -74.648316, \\\"y\\\": 352000.0}, {\\\"x\\\": -74.660874, \\\"y\\\": 664000.0}, {\\\"x\\\": -74.428887, \\\"y\\\": 628000.0}, {\\\"x\\\": -74.474141, \\\"y\\\": 512000.0}, {\\\"x\\\": -75.06716, \\\"y\\\": 254000.0}, {\\\"x\\\": -74.427377, \\\"y\\\": 535800.0}, {\\\"x\\\": -74.622228, \\\"y\\\": 287653.0}, {\\\"x\\\": -74.840613, \\\"y\\\": 438000.0}, {\\\"x\\\": -74.481337, \\\"y\\\": 450000.0}, {\\\"x\\\": -74.945109, \\\"y\\\": 327000.0}, {\\\"x\\\": -74.645043, \\\"y\\\": 370500.0}, {\\\"x\\\": -74.658918, \\\"y\\\": 265000.0}, {\\\"x\\\": -74.681588, \\\"y\\\": 450000.0}, {\\\"x\\\": -74.584824, \\\"y\\\": 425000.0}, {\\\"x\\\": -74.741939, \\\"y\\\": 166600.0}, {\\\"x\\\": -74.841567, \\\"y\\\": 245000.0}, {\\\"x\\\": -74.610067, \\\"y\\\": 565000.0}, {\\\"x\\\": -74.472435, \\\"y\\\": 539900.0}, {\\\"x\\\": -74.711872, \\\"y\\\": 910000.0}, {\\\"x\\\": -74.953417, \\\"y\\\": 280000.0}, {\\\"x\\\": -74.681732, \\\"y\\\": 275000.0}, {\\\"x\\\": -74.707668, \\\"y\\\": 467000.0}, {\\\"x\\\": -74.436881, \\\"y\\\": 457500.0}, {\\\"x\\\": -74.724412, \\\"y\\\": 381156.0}, {\\\"x\\\": -74.878735, \\\"y\\\": 289999.0}, {\\\"x\\\": -74.691879, \\\"y\\\": 642450.0}, {\\\"x\\\": -74.529466, \\\"y\\\": 469950.0}, {\\\"x\\\": -74.52273, \\\"y\\\": 795000.0}, {\\\"x\\\": -74.4039, \\\"y\\\": 785000.0}, {\\\"x\\\": -74.545313, \\\"y\\\": 860000.0}, {\\\"x\\\": -74.685318, \\\"y\\\": 1095000.0}, {\\\"x\\\": -74.799274, \\\"y\\\": 147500.0}, {\\\"x\\\": -74.462706, \\\"y\\\": 390000.0}, {\\\"x\\\": -74.954942, \\\"y\\\": 229000.0}, {\\\"x\\\": -74.813066, \\\"y\\\": 185000.0}, {\\\"x\\\": -74.60443, \\\"y\\\": 414900.0}, {\\\"x\\\": -74.830728, \\\"y\\\": 200000.0}, {\\\"x\\\": -74.894793, \\\"y\\\": 225000.0}, {\\\"x\\\": -74.62131, \\\"y\\\": 720000.0}, {\\\"x\\\": -74.729598, \\\"y\\\": 930000.0}, {\\\"x\\\": -74.601344, \\\"y\\\": 1270000.0}, {\\\"x\\\": -74.681483, \\\"y\\\": 700000.0}, {\\\"x\\\": -74.672652, \\\"y\\\": 466000.0}, {\\\"x\\\": -74.456522, \\\"y\\\": 374000.0}, {\\\"x\\\": -74.428372, \\\"y\\\": 480000.0}, {\\\"x\\\": -74.340233, \\\"y\\\": 740000.0}, {\\\"x\\\": -74.670873, \\\"y\\\": 1010000.0}, {\\\"x\\\": -74.748921, \\\"y\\\": 395000.0}, {\\\"x\\\": -74.833471, \\\"y\\\": 340000.0}, {\\\"x\\\": -74.834721, \\\"y\\\": 209000.0}, {\\\"x\\\": -74.553374, \\\"y\\\": 431650.0}, {\\\"x\\\": -74.679431, \\\"y\\\": 980000.0}, {\\\"x\\\": -74.286437, \\\"y\\\": 660000.0}, {\\\"x\\\": -74.496225, \\\"y\\\": 730000.0}, {\\\"x\\\": -74.716467, \\\"y\\\": 291500.0}, {\\\"x\\\": -74.652718, \\\"y\\\": 905000.0}, {\\\"x\\\": -74.297309, \\\"y\\\": 800000.0}, {\\\"x\\\": -74.686781, \\\"y\\\": 839900.0}, {\\\"x\\\": -74.82252, \\\"y\\\": 200000.0}, {\\\"x\\\": -74.706182, \\\"y\\\": 300000.0}, {\\\"x\\\": -74.614356, \\\"y\\\": 530000.0}, {\\\"x\\\": -74.674461, \\\"y\\\": 314950.0}, {\\\"x\\\": -74.800804, \\\"y\\\": 255000.0}, {\\\"x\\\": -74.731179, \\\"y\\\": 550000.0}, {\\\"x\\\": -74.841607, \\\"y\\\": 435000.0}, {\\\"x\\\": -74.895282, \\\"y\\\": 234000.0}, {\\\"x\\\": -74.460972, \\\"y\\\": 615000.0}, {\\\"x\\\": -74.931379, \\\"y\\\": 205000.0}, {\\\"x\\\": -74.813313, \\\"y\\\": 384000.0}, {\\\"x\\\": -74.760703, \\\"y\\\": 324000.0}, {\\\"x\\\": -74.628101, \\\"y\\\": 645000.0}, {\\\"x\\\": -74.703717, \\\"y\\\": 570000.0}, {\\\"x\\\": -74.785483, \\\"y\\\": 324000.0}, {\\\"x\\\": -74.828974, \\\"y\\\": 270000.0}, {\\\"x\\\": -74.711773, \\\"y\\\": 290000.0}, {\\\"x\\\": -74.946951, \\\"y\\\": 250000.0}, {\\\"x\\\": -74.224468, \\\"y\\\": 342000.0}, {\\\"x\\\": -74.839288, \\\"y\\\": 255000.0}, {\\\"x\\\": -74.680442, \\\"y\\\": 800000.0}, {\\\"x\\\": -74.808492, \\\"y\\\": 451000.0}, {\\\"x\\\": -74.543961, \\\"y\\\": 990000.0}, {\\\"x\\\": -74.781068, \\\"y\\\": 288400.0}, {\\\"x\\\": -74.729308, \\\"y\\\": 420000.0}, {\\\"x\\\": -74.637265, \\\"y\\\": 359000.0}, {\\\"x\\\": -74.648788, \\\"y\\\": 390000.0}, {\\\"x\\\": -74.747864, \\\"y\\\": 300000.0}, {\\\"x\\\": -74.489488, \\\"y\\\": 545000.0}, {\\\"x\\\": -74.705446, \\\"y\\\": 288349.0}, {\\\"x\\\": -74.766632, \\\"y\\\": 299900.0}, {\\\"x\\\": -74.677273, \\\"y\\\": 891000.0}, {\\\"x\\\": -74.7025, \\\"y\\\": 1200000.0}, {\\\"x\\\": -74.669931, \\\"y\\\": 378000.0}, {\\\"x\\\": -74.56842, \\\"y\\\": 299995.0}, {\\\"x\\\": -74.803515, \\\"y\\\": 253000.0}, {\\\"x\\\": -74.293631, \\\"y\\\": 350000.0}, {\\\"x\\\": -74.706352, \\\"y\\\": 565000.0}, {\\\"x\\\": -74.72198, \\\"y\\\": 315000.0}, {\\\"x\\\": -74.836901, \\\"y\\\": 570000.0}, {\\\"x\\\": -74.564841, \\\"y\\\": 971000.0}, {\\\"x\\\": -74.663973, \\\"y\\\": 915000.0}, {\\\"x\\\": -74.902792, \\\"y\\\": 419000.0}, {\\\"x\\\": -75.034, \\\"y\\\": 260000.0}, {\\\"x\\\": -74.570158, \\\"y\\\": 1321500.0}, {\\\"x\\\": -74.297531, \\\"y\\\": 369950.0}, {\\\"x\\\": -74.571094, \\\"y\\\": 1029900.0}, {\\\"x\\\": -74.733065, \\\"y\\\": 435000.0}, {\\\"x\\\": -74.584563, \\\"y\\\": 601000.0}, {\\\"x\\\": -74.515014, \\\"y\\\": 460500.0}, {\\\"x\\\": -74.69435, \\\"y\\\": 720000.0}, {\\\"x\\\": -74.38781, \\\"y\\\": 851000.0}, {\\\"x\\\": -74.798953, \\\"y\\\": 550000.0}, {\\\"x\\\": -74.67039, \\\"y\\\": 700000.0}, {\\\"x\\\": -74.697248, \\\"y\\\": 323000.0}, {\\\"x\\\": -74.600585, \\\"y\\\": 345500.0}, {\\\"x\\\": -74.723282, \\\"y\\\": 378000.0}, {\\\"x\\\": -74.812237, \\\"y\\\": 650000.0}, {\\\"x\\\": -74.435085, \\\"y\\\": 385000.0}, {\\\"x\\\": -74.69602, \\\"y\\\": 425000.0}, {\\\"x\\\": -74.778601, \\\"y\\\": 210000.0}, {\\\"x\\\": -74.28425, \\\"y\\\": 630000.0}, {\\\"x\\\": -74.868377, \\\"y\\\": 335000.0}, {\\\"x\\\": -74.925781, \\\"y\\\": 196500.0}, {\\\"x\\\": -74.412442, \\\"y\\\": 582800.0}, {\\\"x\\\": -74.493586, \\\"y\\\": 440000.0}, {\\\"x\\\": -74.548079, \\\"y\\\": 752500.0}, {\\\"x\\\": -74.81141, \\\"y\\\": 532500.0}, {\\\"x\\\": -74.923846, \\\"y\\\": 265000.0}, {\\\"x\\\": -74.554168, \\\"y\\\": 397500.0}, {\\\"x\\\": -74.464912, \\\"y\\\": 524250.0}, {\\\"x\\\": -74.528379, \\\"y\\\": 765000.0}, {\\\"x\\\": -74.389369, \\\"y\\\": 648000.0}, {\\\"x\\\": -74.782238, \\\"y\\\": 469500.0}, {\\\"x\\\": -75.068383, \\\"y\\\": 237500.0}, {\\\"x\\\": -74.967265, \\\"y\\\": 216000.0}, {\\\"x\\\": -74.636732, \\\"y\\\": 427200.0}, {\\\"x\\\": -74.75341, \\\"y\\\": 280000.0}, {\\\"x\\\": -74.557463, \\\"y\\\": 718000.0}, {\\\"x\\\": -74.360257, \\\"y\\\": 420000.0}, {\\\"x\\\": -74.67535, \\\"y\\\": 379000.0}, {\\\"x\\\": -74.646001, \\\"y\\\": 326100.0}, {\\\"x\\\": -74.646846, \\\"y\\\": 535000.0}, {\\\"x\\\": -74.815137, \\\"y\\\": 283000.0}, {\\\"x\\\": -74.796059, \\\"y\\\": 260000.0}, {\\\"x\\\": -74.847861, \\\"y\\\": 399000.0}, {\\\"x\\\": -74.448604, \\\"y\\\": 484950.0}, {\\\"x\\\": -74.587439, \\\"y\\\": 640000.0}, {\\\"x\\\": -74.633324, \\\"y\\\": 585000.0}, {\\\"x\\\": -74.554958, \\\"y\\\": 645000.0}, {\\\"x\\\": -75.003586, \\\"y\\\": 253000.0}, {\\\"x\\\": -74.836699, \\\"y\\\": 178500.0}, {\\\"x\\\": -74.681006, \\\"y\\\": 291000.0}, {\\\"x\\\": -74.971643, \\\"y\\\": 199950.0}, {\\\"x\\\": -74.657206, \\\"y\\\": 553500.0}, {\\\"x\\\": -74.68317, \\\"y\\\": 189950.0}, {\\\"x\\\": -74.950625, \\\"y\\\": 289000.0}, {\\\"x\\\": -74.667254, \\\"y\\\": 700000.0}, {\\\"x\\\": -74.73999, \\\"y\\\": 270000.0}, {\\\"x\\\": -75.034126, \\\"y\\\": 258000.0}, {\\\"x\\\": -74.589668, \\\"y\\\": 530000.0}, {\\\"x\\\": -74.857353, \\\"y\\\": 245000.0}, {\\\"x\\\": -74.687979, \\\"y\\\": 563000.0}, {\\\"x\\\": -74.340676, \\\"y\\\": 515000.0}, {\\\"x\\\": -75.047188, \\\"y\\\": 325000.0}, {\\\"x\\\": -74.351436, \\\"y\\\": 540000.0}, {\\\"x\\\": -74.637205, \\\"y\\\": 280300.0}, {\\\"x\\\": -74.707719, \\\"y\\\": 460000.0}, {\\\"x\\\": -74.388327, \\\"y\\\": 475000.0}, {\\\"x\\\": -74.543067, \\\"y\\\": 900000.0}, {\\\"x\\\": -74.486663, \\\"y\\\": 538200.0}, {\\\"x\\\": -74.683492, \\\"y\\\": 429000.0}, {\\\"x\\\": -74.758862, \\\"y\\\": 164808.0}, {\\\"x\\\": -74.433542, \\\"y\\\": 520000.0}, {\\\"x\\\": -74.594997, \\\"y\\\": 475000.0}, {\\\"x\\\": -74.818938, \\\"y\\\": 283000.0}, {\\\"x\\\": -74.834242, \\\"y\\\": 321500.0}, {\\\"x\\\": -74.364931, \\\"y\\\": 840000.0}, {\\\"x\\\": -74.684966, \\\"y\\\": 287000.0}, {\\\"x\\\": -74.482156, \\\"y\\\": 375000.0}, {\\\"x\\\": -74.47867, \\\"y\\\": 349500.0}, {\\\"x\\\": -74.864512, \\\"y\\\": 446450.0}, {\\\"x\\\": -74.773713, \\\"y\\\": 315000.0}, {\\\"x\\\": -74.716981, \\\"y\\\": 271310.0}, {\\\"x\\\": -74.570816, \\\"y\\\": 315000.0}, {\\\"x\\\": -74.810719, \\\"y\\\": 245000.0}, {\\\"x\\\": -74.761032, \\\"y\\\": 543115.0}, {\\\"x\\\": -74.706431, \\\"y\\\": 900000.0}, {\\\"x\\\": -74.708246, \\\"y\\\": 2450000.0}, {\\\"x\\\": -74.320551, \\\"y\\\": 554000.0}, {\\\"x\\\": -74.983428, \\\"y\\\": 249900.0}, {\\\"x\\\": -74.562296, \\\"y\\\": 768000.0}, {\\\"x\\\": -74.762288, \\\"y\\\": 980000.0}, {\\\"x\\\": -74.86387, \\\"y\\\": 395000.0}, {\\\"x\\\": -74.653377, \\\"y\\\": 415000.0}, {\\\"x\\\": -74.657601, \\\"y\\\": 380000.0}, {\\\"x\\\": -74.417339, \\\"y\\\": 566000.0}, {\\\"x\\\": -74.90072, \\\"y\\\": 218500.0}, {\\\"x\\\": -74.430902, \\\"y\\\": 550000.0}, {\\\"x\\\": -74.682865, \\\"y\\\": 512031.0}, {\\\"x\\\": -74.738004, \\\"y\\\": 197500.0}, {\\\"x\\\": -74.470809, \\\"y\\\": 470000.0}, {\\\"x\\\": -74.306892, \\\"y\\\": 590000.0}, {\\\"x\\\": -74.425313, \\\"y\\\": 465000.0}, {\\\"x\\\": -74.593656, \\\"y\\\": 499000.0}, {\\\"x\\\": -74.638648, \\\"y\\\": 515000.0}, {\\\"x\\\": -74.620262, \\\"y\\\": 716500.0}, {\\\"x\\\": -74.731164, \\\"y\\\": 410000.0}, {\\\"x\\\": -74.84464, \\\"y\\\": 850000.0}, {\\\"x\\\": -74.53609, \\\"y\\\": 1050000.0}, {\\\"x\\\": -74.444589, \\\"y\\\": 648000.0}, {\\\"x\\\": -74.693777, \\\"y\\\": 620000.0}, {\\\"x\\\": -74.720845, \\\"y\\\": 935000.0}, {\\\"x\\\": -74.479361, \\\"y\\\": 379000.0}, {\\\"x\\\": -74.755725, \\\"y\\\": 699000.0}, {\\\"x\\\": -74.572202, \\\"y\\\": 528000.0}, {\\\"x\\\": -74.660685, \\\"y\\\": 425000.0}, {\\\"x\\\": -74.751052, \\\"y\\\": 249500.0}, {\\\"x\\\": -74.332675, \\\"y\\\": 1035480.0}, {\\\"x\\\": -74.858881, \\\"y\\\": 790000.0}, {\\\"x\\\": -74.517154, \\\"y\\\": 399950.0}, {\\\"x\\\": -74.586766, \\\"y\\\": 275000.0}, {\\\"x\\\": -74.716934, \\\"y\\\": 550000.0}, {\\\"x\\\": -74.748027, \\\"y\\\": 140000.0}, {\\\"x\\\": -74.726673, \\\"y\\\": 250000.0}, {\\\"x\\\": -74.911892, \\\"y\\\": 318000.0}, {\\\"x\\\": -74.462289, \\\"y\\\": 505000.0}, {\\\"x\\\": -74.63865, \\\"y\\\": 470500.0}, {\\\"x\\\": -74.59341, \\\"y\\\": 360000.0}, {\\\"x\\\": -74.592971, \\\"y\\\": 1242500.0}, {\\\"x\\\": -74.859415, \\\"y\\\": 986000.0}, {\\\"x\\\": -74.670327, \\\"y\\\": 515000.0}, {\\\"x\\\": -74.815245, \\\"y\\\": 320000.0}, {\\\"x\\\": -74.760362, \\\"y\\\": 310000.0}, {\\\"x\\\": -74.851725, \\\"y\\\": 356700.0}, {\\\"x\\\": -74.748244, \\\"y\\\": 775000.0}, {\\\"x\\\": -74.582848, \\\"y\\\": 325000.0}, {\\\"x\\\": -74.943417, \\\"y\\\": 208000.0}, {\\\"x\\\": -74.720273, \\\"y\\\": 825000.0}, {\\\"x\\\": -74.997512, \\\"y\\\": 515000.0}, {\\\"x\\\": -74.675319, \\\"y\\\": 490000.0}, {\\\"x\\\": -74.897413, \\\"y\\\": 675000.0}, {\\\"x\\\": -74.718212, \\\"y\\\": 360000.0}, {\\\"x\\\": -74.718212, \\\"y\\\": 550000.0}, {\\\"x\\\": -74.830741, \\\"y\\\": 225000.0}, {\\\"x\\\": -74.697355, \\\"y\\\": 500000.0}, {\\\"x\\\": -74.649413, \\\"y\\\": 385000.0}, {\\\"x\\\": -74.405774, \\\"y\\\": 837700.0}, {\\\"x\\\": -74.353026, \\\"y\\\": 448000.0}, {\\\"x\\\": -74.607763, \\\"y\\\": 730000.0}, {\\\"x\\\": -74.857043, \\\"y\\\": 575000.0}, {\\\"x\\\": -74.462231, \\\"y\\\": 430000.0}, {\\\"x\\\": -74.356047, \\\"y\\\": 435000.0}, {\\\"x\\\": -74.765881, \\\"y\\\": 241000.0}, {\\\"x\\\": -74.728804, \\\"y\\\": 453500.0}, {\\\"x\\\": -74.634003, \\\"y\\\": 285000.0}, {\\\"x\\\": -74.689742, \\\"y\\\": 151000.0}, {\\\"x\\\": -74.603579, \\\"y\\\": 1570000.0}, {\\\"x\\\": -74.714097, \\\"y\\\": 631000.0}, {\\\"x\\\": -74.822778, \\\"y\\\": 285000.0}, {\\\"x\\\": -75.020207, \\\"y\\\": 195000.0}, {\\\"x\\\": -74.405254, \\\"y\\\": 817500.0}, {\\\"x\\\": -74.544218, \\\"y\\\": 550000.0}, {\\\"x\\\": -74.524669, \\\"y\\\": 1127000.0}, {\\\"x\\\": -74.718197, \\\"y\\\": 609850.0}, {\\\"x\\\": -74.825477, \\\"y\\\": 200000.0}, {\\\"x\\\": -74.676488, \\\"y\\\": 367000.0}, {\\\"x\\\": -74.955397, \\\"y\\\": 285167.0}, {\\\"x\\\": -74.969666, \\\"y\\\": 275000.0}, {\\\"x\\\": -74.782417, \\\"y\\\": 350900.0}, {\\\"x\\\": -74.439649, \\\"y\\\": 660000.0}, {\\\"x\\\": -74.513018, \\\"y\\\": 525000.0}, {\\\"x\\\": -74.802135, \\\"y\\\": 262000.0}, {\\\"x\\\": -74.676124, \\\"y\\\": 690000.0}, {\\\"x\\\": -74.235864, \\\"y\\\": 624000.0}, {\\\"x\\\": -74.581182, \\\"y\\\": 353000.0}, {\\\"x\\\": -74.682401, \\\"y\\\": 552500.0}, {\\\"x\\\": -74.856551, \\\"y\\\": 224500.0}, {\\\"x\\\": -74.835163, \\\"y\\\": 239000.0}, {\\\"x\\\": -74.471177, \\\"y\\\": 975000.0}, {\\\"x\\\": -74.600803, \\\"y\\\": 1200000.0}, {\\\"x\\\": -74.669797, \\\"y\\\": 505000.0}, {\\\"x\\\": -74.660857, \\\"y\\\": 302000.0}, {\\\"x\\\": -74.84273, \\\"y\\\": 170000.0}, {\\\"x\\\": -74.515846, \\\"y\\\": 195000.0}, {\\\"x\\\": -74.670853, \\\"y\\\": 272000.0}, {\\\"x\\\": -74.670853, \\\"y\\\": 369000.0}, {\\\"x\\\": -74.584958, \\\"y\\\": 332500.0}, {\\\"x\\\": -74.493343, \\\"y\\\": 515000.0}, {\\\"x\\\": -74.763152, \\\"y\\\": 269000.0}, {\\\"x\\\": -74.614869, \\\"y\\\": 1278000.0}, {\\\"x\\\": -74.716162, \\\"y\\\": 303000.0}, {\\\"x\\\": -74.551124, \\\"y\\\": 420000.0}, {\\\"x\\\": -74.699521, \\\"y\\\": 400000.0}, {\\\"x\\\": -74.790654, \\\"y\\\": 225000.0}, {\\\"x\\\": -74.672361, \\\"y\\\": 219000.0}, {\\\"x\\\": -74.474765, \\\"y\\\": 605000.0}, {\\\"x\\\": -74.592487, \\\"y\\\": 625000.0}, {\\\"x\\\": -74.714128, \\\"y\\\": 380000.0}, {\\\"x\\\": -74.55396, \\\"y\\\": 620000.0}, {\\\"x\\\": -74.442841, \\\"y\\\": 687500.0}, {\\\"x\\\": -74.630283, \\\"y\\\": 225500.0}, {\\\"x\\\": -74.764643, \\\"y\\\": 252500.0}, {\\\"x\\\": -74.433796, \\\"y\\\": 510000.0}, {\\\"x\\\": -74.576949, \\\"y\\\": 510000.0}, {\\\"x\\\": -74.715269, \\\"y\\\": 725000.0}, {\\\"x\\\": -74.642602, \\\"y\\\": 75000.0}, {\\\"x\\\": -74.661708, \\\"y\\\": 492000.0}, {\\\"x\\\": -74.356806, \\\"y\\\": 425000.0}, {\\\"x\\\": -74.541999, \\\"y\\\": 1955000.0}, {\\\"x\\\": -74.841397, \\\"y\\\": 298900.0}, {\\\"x\\\": -74.583196, \\\"y\\\": 699000.0}, {\\\"x\\\": -74.661179, \\\"y\\\": 310000.0}, {\\\"x\\\": -74.503638, \\\"y\\\": 350000.0}, {\\\"x\\\": -74.727797, \\\"y\\\": 790000.0}, {\\\"x\\\": -74.792445, \\\"y\\\": 305000.0}, {\\\"x\\\": -74.74678, \\\"y\\\": 315000.0}, {\\\"x\\\": -74.741582, \\\"y\\\": 267500.0}, {\\\"x\\\": -74.588342, \\\"y\\\": 1750000.0}, {\\\"x\\\": -74.447261, \\\"y\\\": 435000.0}, {\\\"x\\\": -74.461011, \\\"y\\\": 482500.0}, {\\\"x\\\": -74.533974, \\\"y\\\": 5110800.0}, {\\\"x\\\": -74.58004, \\\"y\\\": 439995.0}, {\\\"x\\\": -74.453531, \\\"y\\\": 460000.0}, {\\\"x\\\": -75.054681, \\\"y\\\": 194000.0}, {\\\"x\\\": -75.077901, \\\"y\\\": 290000.0}, {\\\"x\\\": -74.76466, \\\"y\\\": 274700.0}, {\\\"x\\\": -74.663483, \\\"y\\\": 900000.0}, {\\\"x\\\": -74.362629, \\\"y\\\": 1150000.0}, {\\\"x\\\": -74.469959, \\\"y\\\": 605000.0}, {\\\"x\\\": -74.318708, \\\"y\\\": 359000.0}, {\\\"x\\\": -74.582183, \\\"y\\\": 850000.0}, {\\\"x\\\": -74.710339, \\\"y\\\": 505000.0}, {\\\"x\\\": -74.42885, \\\"y\\\": 565000.0}, {\\\"x\\\": -74.716626, \\\"y\\\": 585000.0}, {\\\"x\\\": -74.920924, \\\"y\\\": 328000.0}, {\\\"x\\\": -74.611957, \\\"y\\\": 749950.0}, {\\\"x\\\": -74.458385, \\\"y\\\": 826000.0}, {\\\"x\\\": -74.338491, \\\"y\\\": 535000.0}, {\\\"x\\\": -74.399806, \\\"y\\\": 925000.0}, {\\\"x\\\": -74.838126, \\\"y\\\": 875000.0}, {\\\"x\\\": -74.591012, \\\"y\\\": 902000.0}, {\\\"x\\\": -74.586598, \\\"y\\\": 423000.0}, {\\\"x\\\": -74.668586, \\\"y\\\": 235000.0}, {\\\"x\\\": -75.060074, \\\"y\\\": 545000.0}, {\\\"x\\\": -74.610183, \\\"y\\\": 343000.0}, {\\\"x\\\": -74.67124, \\\"y\\\": 334950.0}, {\\\"x\\\": -74.729705, \\\"y\\\": 405000.0}, {\\\"x\\\": -74.858712, \\\"y\\\": 220000.0}, {\\\"x\\\": -74.809503, \\\"y\\\": 173000.0}, {\\\"x\\\": -74.733223, \\\"y\\\": 655000.0}, {\\\"x\\\": -74.647623, \\\"y\\\": 406000.0}, {\\\"x\\\": -74.584924, \\\"y\\\": 632000.0}, {\\\"x\\\": -74.821257, \\\"y\\\": 357000.0}, {\\\"x\\\": -74.25782, \\\"y\\\": 361000.0}, {\\\"x\\\": -74.552502, \\\"y\\\": 277000.0}, {\\\"x\\\": -74.540399, \\\"y\\\": 630000.0}, {\\\"x\\\": -74.760431, \\\"y\\\": 254000.0}, {\\\"x\\\": -74.622815, \\\"y\\\": 472800.0}, {\\\"x\\\": -74.714224, \\\"y\\\": 263000.0}, {\\\"x\\\": -74.714224, \\\"y\\\": 510000.0}, {\\\"x\\\": -74.971572, \\\"y\\\": 179950.0}, {\\\"x\\\": -74.51715, \\\"y\\\": 525000.0}, {\\\"x\\\": -74.717825, \\\"y\\\": 479000.0}, {\\\"x\\\": -74.822652, \\\"y\\\": 651000.0}, {\\\"x\\\": -74.523708, \\\"y\\\": 949000.0}, {\\\"x\\\": -74.544769, \\\"y\\\": 392400.0}, {\\\"x\\\": -74.608973, \\\"y\\\": 585000.0}, {\\\"x\\\": -74.67479, \\\"y\\\": 460000.0}, {\\\"x\\\": -74.732878, \\\"y\\\": 470000.0}, {\\\"x\\\": -74.649741, \\\"y\\\": 245000.0}, {\\\"x\\\": -74.542517, \\\"y\\\": 500000.0}, {\\\"x\\\": -74.434555, \\\"y\\\": 455000.0}, {\\\"x\\\": -74.347603, \\\"y\\\": 485500.0}, {\\\"x\\\": -74.665291, \\\"y\\\": 1875000.0}, {\\\"x\\\": -74.969411, \\\"y\\\": 100000.0}, {\\\"x\\\": -74.219787, \\\"y\\\": 307000.0}, {\\\"x\\\": -75.088683, \\\"y\\\": 475000.0}, {\\\"x\\\": -74.439035, \\\"y\\\": 330000.0}, {\\\"x\\\": -74.492832, \\\"y\\\": 130000.0}, {\\\"x\\\": -74.92274, \\\"y\\\": 320000.0}, {\\\"x\\\": -74.72858, \\\"y\\\": 735000.0}, {\\\"x\\\": -74.527535, \\\"y\\\": 365000.0}, {\\\"x\\\": -74.738398, \\\"y\\\": 234000.0}, {\\\"x\\\": -74.77886, \\\"y\\\": 211000.0}, {\\\"x\\\": -74.717441, \\\"y\\\": 680000.0}, {\\\"x\\\": -74.65875, \\\"y\\\": 457000.0}, {\\\"x\\\": -74.456741, \\\"y\\\": 349000.0}, {\\\"x\\\": -74.758085, \\\"y\\\": 360000.0}, {\\\"x\\\": -74.795337, \\\"y\\\": 350000.0}, {\\\"x\\\": -74.930696, \\\"y\\\": 208000.0}, {\\\"x\\\": -74.907267, \\\"y\\\": 250275.0}, {\\\"x\\\": -74.907267, \\\"y\\\": 435000.0}, {\\\"x\\\": -74.806957, \\\"y\\\": 270000.0}, {\\\"x\\\": -74.50512, \\\"y\\\": 438000.0}, {\\\"x\\\": -74.336242, \\\"y\\\": 659000.0}, {\\\"x\\\": -74.823331, \\\"y\\\": 645000.0}, {\\\"x\\\": -74.408359, \\\"y\\\": 685100.0}, {\\\"x\\\": -74.672567, \\\"y\\\": 350000.0}, {\\\"x\\\": -74.354491, \\\"y\\\": 375000.0}, {\\\"x\\\": -74.780383, \\\"y\\\": 170000.0}, {\\\"x\\\": -74.69095, \\\"y\\\": 880000.0}, {\\\"x\\\": -74.259207, \\\"y\\\": 410500.0}, {\\\"x\\\": -74.384633, \\\"y\\\": 780000.0}, {\\\"x\\\": -74.669315, \\\"y\\\": 1225000.0}, {\\\"x\\\": -74.305054, \\\"y\\\": 449000.0}, {\\\"x\\\": -74.71273, \\\"y\\\": 546000.0}, {\\\"x\\\": -74.710651, \\\"y\\\": 317000.0}, {\\\"x\\\": -74.66769, \\\"y\\\": 276900.0}, {\\\"x\\\": -74.617753, \\\"y\\\": 399000.0}, {\\\"x\\\": -74.529254, \\\"y\\\": 495000.0}, {\\\"x\\\": -75.073724, \\\"y\\\": 258000.0}, {\\\"x\\\": -74.35558, \\\"y\\\": 600000.0}, {\\\"x\\\": -74.651593, \\\"y\\\": 265000.0}, {\\\"x\\\": -74.913586, \\\"y\\\": 321000.0}, {\\\"x\\\": -74.708496, \\\"y\\\": 682000.0}, {\\\"x\\\": -74.879169, \\\"y\\\": 295700.0}, {\\\"x\\\": -74.37522, \\\"y\\\": 609000.0}, {\\\"x\\\": -74.891247, \\\"y\\\": 995000.0}, {\\\"x\\\": -74.456469, \\\"y\\\": 530000.0}, {\\\"x\\\": -74.718093, \\\"y\\\": 614000.0}, {\\\"x\\\": -74.869576, \\\"y\\\": 390000.0}, {\\\"x\\\": -74.353773, \\\"y\\\": 467000.0}, {\\\"x\\\": -74.651168, \\\"y\\\": 484000.0}, {\\\"x\\\": -74.641618, \\\"y\\\": 340000.0}, {\\\"x\\\": -74.824519, \\\"y\\\": 302495.0}, {\\\"x\\\": -74.672705, \\\"y\\\": 532500.0}, {\\\"x\\\": -74.643784, \\\"y\\\": 441500.0}, {\\\"x\\\": -74.91444, \\\"y\\\": 470000.0}, {\\\"x\\\": -74.594725, \\\"y\\\": 2300000.0}, {\\\"x\\\": -74.692371, \\\"y\\\": 590000.0}, {\\\"x\\\": -74.582899, \\\"y\\\": 320000.0}, {\\\"x\\\": -74.702453, \\\"y\\\": 363000.0}, {\\\"x\\\": -74.509741, \\\"y\\\": 747500.0}, {\\\"x\\\": -74.31274, \\\"y\\\": 750000.0}, {\\\"x\\\": -74.671947, \\\"y\\\": 831000.0}, {\\\"x\\\": -74.324044, \\\"y\\\": 403000.0}, {\\\"x\\\": -74.674675, \\\"y\\\": 445000.0}, {\\\"x\\\": -74.35738, \\\"y\\\": 345000.0}, {\\\"x\\\": -74.591011, \\\"y\\\": 2260000.0}, {\\\"x\\\": -74.463061, \\\"y\\\": 371025.0}, {\\\"x\\\": -74.836954, \\\"y\\\": 355000.0}, {\\\"x\\\": -74.632478, \\\"y\\\": 270000.0}, {\\\"x\\\": -74.921301, \\\"y\\\": 425000.0}, {\\\"x\\\": -74.69325, \\\"y\\\": 364808.0}, {\\\"x\\\": -74.700554, \\\"y\\\": 320000.0}, {\\\"x\\\": -74.801744, \\\"y\\\": 325000.0}, {\\\"x\\\": -74.677827, \\\"y\\\": 350000.0}, {\\\"x\\\": -74.788908, \\\"y\\\": 170000.0}, {\\\"x\\\": -75.166637, \\\"y\\\": 255000.0}, {\\\"x\\\": -74.691995, \\\"y\\\": 550000.0}, {\\\"x\\\": -74.841079, \\\"y\\\": 835000.0}, {\\\"x\\\": -74.833715, \\\"y\\\": 420000.0}, {\\\"x\\\": -74.657749, \\\"y\\\": 925000.0}, {\\\"x\\\": -74.846355, \\\"y\\\": 389250.0}, {\\\"x\\\": -74.502112, \\\"y\\\": 748000.0}, {\\\"x\\\": -74.716299, \\\"y\\\": 284000.0}, {\\\"x\\\": -74.600193, \\\"y\\\": 588000.0}, {\\\"x\\\": -74.598271, \\\"y\\\": 372500.0}, {\\\"x\\\": -74.740197, \\\"y\\\": 285000.0}, {\\\"x\\\": -74.591174, \\\"y\\\": 360000.0}, {\\\"x\\\": -74.296764, \\\"y\\\": 275000.0}, {\\\"x\\\": -74.31934, \\\"y\\\": 428000.0}, {\\\"x\\\": -74.651436, \\\"y\\\": 847000.0}, {\\\"x\\\": -74.23858, \\\"y\\\": 316000.0}, {\\\"x\\\": -74.955377, \\\"y\\\": 375000.0}, {\\\"x\\\": -74.630872, \\\"y\\\": 533000.0}, {\\\"x\\\": -75.04268, \\\"y\\\": 556000.0}, {\\\"x\\\": -74.754738, \\\"y\\\": 225000.0}, {\\\"x\\\": -74.509915, \\\"y\\\": 537250.0}, {\\\"x\\\": -74.699087, \\\"y\\\": 255000.0}, {\\\"x\\\": -74.650363, \\\"y\\\": 530000.0}, {\\\"x\\\": -74.647423, \\\"y\\\": 5300000.0}, {\\\"x\\\": -74.300498, \\\"y\\\": 595000.0}, {\\\"x\\\": -74.512751, \\\"y\\\": 548000.0}, {\\\"x\\\": -74.862863, \\\"y\\\": 234975.0}, {\\\"x\\\": -74.671162, \\\"y\\\": 600000.0}, {\\\"x\\\": -74.353637, \\\"y\\\": 432000.0}, {\\\"x\\\": -74.508373, \\\"y\\\": 455000.0}, {\\\"x\\\": -74.570462, \\\"y\\\": 279950.0}, {\\\"x\\\": -74.842164, \\\"y\\\": 267500.0}, {\\\"x\\\": -74.618463, \\\"y\\\": 620000.0}, {\\\"x\\\": -74.856473, \\\"y\\\": 110000.0}, {\\\"x\\\": -74.698322, \\\"y\\\": 625000.0}, {\\\"x\\\": -74.604581, \\\"y\\\": 389000.0}, {\\\"x\\\": -74.687653, \\\"y\\\": 1200000.0}, {\\\"x\\\": -74.562634, \\\"y\\\": 788500.0}, {\\\"x\\\": -74.494955, \\\"y\\\": 567000.0}, {\\\"x\\\": -75.016561, \\\"y\\\": 515000.0}, {\\\"x\\\": -74.508428, \\\"y\\\": 605000.0}, {\\\"x\\\": -74.738528, \\\"y\\\": 430000.0}, {\\\"x\\\": -74.738207, \\\"y\\\": 805000.0}, {\\\"x\\\": -74.410546, \\\"y\\\": 567500.0}, {\\\"x\\\": -74.702945, \\\"y\\\": 647500.0}, {\\\"x\\\": -74.699319, \\\"y\\\": 495000.0}, {\\\"x\\\": -74.457232, \\\"y\\\": 825000.0}, {\\\"x\\\": -74.689542, \\\"y\\\": 435000.0}, {\\\"x\\\": -74.463328, \\\"y\\\": 445950.0}, {\\\"x\\\": -74.565693, \\\"y\\\": 960000.0}, {\\\"x\\\": -74.645792, \\\"y\\\": 780000.0}, {\\\"x\\\": -75.063895, \\\"y\\\": 274500.0}, {\\\"x\\\": -74.634292, \\\"y\\\": 729953.0}, {\\\"x\\\": -74.704013, \\\"y\\\": 464950.0}, {\\\"x\\\": -74.586556, \\\"y\\\": 620000.0}, {\\\"x\\\": -74.381307, \\\"y\\\": 735000.0}, {\\\"x\\\": -74.599591, \\\"y\\\": 450000.0}, {\\\"x\\\": -74.715335, \\\"y\\\": 450000.0}, {\\\"x\\\": -74.699879, \\\"y\\\": 842500.0}, {\\\"x\\\": -74.639279, \\\"y\\\": 360000.0}, {\\\"x\\\": -74.988332, \\\"y\\\": 585000.0}, {\\\"x\\\": -74.470136, \\\"y\\\": 461000.0}, {\\\"x\\\": -74.848908, \\\"y\\\": 345000.0}, {\\\"x\\\": -74.590809, \\\"y\\\": 1075000.0}, {\\\"x\\\": -74.439276, \\\"y\\\": 643000.0}, {\\\"x\\\": -74.401921, \\\"y\\\": 690000.0}, {\\\"x\\\": -74.553072, \\\"y\\\": 282000.0}, {\\\"x\\\": -74.69542, \\\"y\\\": 549000.0}, {\\\"x\\\": -74.746491, \\\"y\\\": 815000.0}, {\\\"x\\\": -74.457965, \\\"y\\\": 2200000.0}, {\\\"x\\\": -74.471227, \\\"y\\\": 700000.0}, {\\\"x\\\": -74.469377, \\\"y\\\": 933399.0}, {\\\"x\\\": -74.750693, \\\"y\\\": 290000.0}, {\\\"x\\\": -74.322802, \\\"y\\\": 372000.0}, {\\\"x\\\": -74.673455, \\\"y\\\": 450000.0}, {\\\"x\\\": -74.810983, \\\"y\\\": 303700.0}, {\\\"x\\\": -74.418698, \\\"y\\\": 672000.0}, {\\\"x\\\": -74.453625, \\\"y\\\": 334000.0}, {\\\"x\\\": -74.743334, \\\"y\\\": 260000.0}, {\\\"x\\\": -74.717785, \\\"y\\\": 749950.0}, {\\\"x\\\": -74.752629, \\\"y\\\": 330000.0}, {\\\"x\\\": -74.687828, \\\"y\\\": 830000.0}, {\\\"x\\\": -74.91233, \\\"y\\\": 1131000.0}, {\\\"x\\\": -74.572042, \\\"y\\\": 320000.0}, {\\\"x\\\": -74.638154, \\\"y\\\": 260000.0}, {\\\"x\\\": -74.853103, \\\"y\\\": 225000.0}, {\\\"x\\\": -74.66154, \\\"y\\\": 279200.0}, {\\\"x\\\": -74.570102, \\\"y\\\": 520000.0}, {\\\"x\\\": -74.449676, \\\"y\\\": 505000.0}, {\\\"x\\\": -74.76536, \\\"y\\\": 234000.0}, {\\\"x\\\": -74.498386, \\\"y\\\": 503000.0}, {\\\"x\\\": -74.491773, \\\"y\\\": 606000.0}, {\\\"x\\\": -74.597465, \\\"y\\\": 433500.0}, {\\\"x\\\": -74.676108, \\\"y\\\": 250000.0}, {\\\"x\\\": -74.592909, \\\"y\\\": 719000.0}, {\\\"x\\\": -74.922435, \\\"y\\\": 381000.0}, {\\\"x\\\": -74.994674, \\\"y\\\": 267000.0}, {\\\"x\\\": -74.64449, \\\"y\\\": 275000.0}, {\\\"x\\\": -74.387763, \\\"y\\\": 651000.0}, {\\\"x\\\": -74.609558, \\\"y\\\": 439000.0}, {\\\"x\\\": -74.862602, \\\"y\\\": 325000.0}, {\\\"x\\\": -74.629249, \\\"y\\\": 490000.0}, {\\\"x\\\": -74.497859, \\\"y\\\": 519900.0}, {\\\"x\\\": -74.624156, \\\"y\\\": 545000.0}, {\\\"x\\\": -74.381059, \\\"y\\\": 1062500.0}, {\\\"x\\\": -74.570639, \\\"y\\\": 542000.0}, {\\\"x\\\": -74.340038, \\\"y\\\": 465000.0}, {\\\"x\\\": -74.303662, \\\"y\\\": 408000.0}, {\\\"x\\\": -74.828984, \\\"y\\\": 292000.0}, {\\\"x\\\": -74.673112, \\\"y\\\": 253000.0}, {\\\"x\\\": -74.830457, \\\"y\\\": 280000.0}, {\\\"x\\\": -74.578191, \\\"y\\\": 658588.0}, {\\\"x\\\": -74.566117, \\\"y\\\": 635000.0}, {\\\"x\\\": -74.422499, \\\"y\\\": 439000.0}, {\\\"x\\\": -74.663155, \\\"y\\\": 300000.0}, {\\\"x\\\": -74.910759, \\\"y\\\": 345000.0}, {\\\"x\\\": -74.753873, \\\"y\\\": 283500.0}, {\\\"x\\\": -74.652323, \\\"y\\\": 425000.0}, {\\\"x\\\": -74.527057, \\\"y\\\": 685000.0}, {\\\"x\\\": -74.60199, \\\"y\\\": 750000.0}, {\\\"x\\\": -74.760059, \\\"y\\\": 245000.0}, {\\\"x\\\": -74.714494, \\\"y\\\": 585444.0}, {\\\"x\\\": -74.482478, \\\"y\\\": 706000.0}, {\\\"x\\\": -74.854479, \\\"y\\\": 445000.0}, {\\\"x\\\": -75.062101, \\\"y\\\": 241000.0}, {\\\"x\\\": -74.550073, \\\"y\\\": 1175000.0}, {\\\"x\\\": -74.808729, \\\"y\\\": 530000.0}, {\\\"x\\\": -74.595136, \\\"y\\\": 350000.0}, {\\\"x\\\": -74.734487, \\\"y\\\": 1700000.0}, {\\\"x\\\": -74.395169, \\\"y\\\": 389000.0}, {\\\"x\\\": -74.591204, \\\"y\\\": 799000.0}, {\\\"x\\\": -74.769402, \\\"y\\\": 1400000.0}, {\\\"x\\\": -74.567183, \\\"y\\\": 340895.0}, {\\\"x\\\": -74.406049, \\\"y\\\": 780000.0}, {\\\"x\\\": -74.995791, \\\"y\\\": 350000.0}, {\\\"x\\\": -74.345769, \\\"y\\\": 470000.0}, {\\\"x\\\": -74.400223, \\\"y\\\": 914600.0}, {\\\"x\\\": -74.763207, \\\"y\\\": 354000.0}, {\\\"x\\\": -74.503136, \\\"y\\\": 470000.0}, {\\\"x\\\": -74.674911, \\\"y\\\": 715000.0}, {\\\"x\\\": -74.757107, \\\"y\\\": 265000.0}, {\\\"x\\\": -74.591299, \\\"y\\\": 2537000.0}, {\\\"x\\\": -74.654858, \\\"y\\\": 640000.0}, {\\\"x\\\": -74.799891, \\\"y\\\": 290000.0}, {\\\"x\\\": -74.319081, \\\"y\\\": 480000.0}, {\\\"x\\\": -74.696972, \\\"y\\\": 535000.0}, {\\\"x\\\": -74.541624, \\\"y\\\": 907000.0}, {\\\"x\\\": -74.497766, \\\"y\\\": 459000.0}, {\\\"x\\\": -74.479514, \\\"y\\\": 1355000.0}, {\\\"x\\\": -74.825096, \\\"y\\\": 264950.0}, {\\\"x\\\": -74.688233, \\\"y\\\": 352950.0}, {\\\"x\\\": -74.632651, \\\"y\\\": 491500.0}, {\\\"x\\\": -74.504792, \\\"y\\\": 1229000.0}, {\\\"x\\\": -74.582908, \\\"y\\\": 369500.0}, {\\\"x\\\": -74.408702, \\\"y\\\": 566000.0}, {\\\"x\\\": -74.725157, \\\"y\\\": 290000.0}, {\\\"x\\\": -74.597316, \\\"y\\\": 5350000.0}, {\\\"x\\\": -74.708261, \\\"y\\\": 180000.0}, {\\\"x\\\": -74.581608, \\\"y\\\": 215000.0}, {\\\"x\\\": -74.581608, \\\"y\\\": 302000.0}, {\\\"x\\\": -74.936369, \\\"y\\\": 352500.0}, {\\\"x\\\": -74.694163, \\\"y\\\": 235867.0}, {\\\"x\\\": -74.426407, \\\"y\\\": 500000.0}, {\\\"x\\\": -74.233745, \\\"y\\\": 382000.0}, {\\\"x\\\": -74.689373, \\\"y\\\": 515000.0}, {\\\"x\\\": -74.731346, \\\"y\\\": 250000.0}, {\\\"x\\\": -74.695966, \\\"y\\\": 672500.0}, {\\\"x\\\": -74.408818, \\\"y\\\": 755000.0}, {\\\"x\\\": -74.726451, \\\"y\\\": 707500.0}, {\\\"x\\\": -74.676505, \\\"y\\\": 459000.0}, {\\\"x\\\": -74.919168, \\\"y\\\": 140000.0}, {\\\"x\\\": -74.666147, \\\"y\\\": 495000.0}, {\\\"x\\\": -74.448549, \\\"y\\\": 757000.0}, {\\\"x\\\": -74.448549, \\\"y\\\": 765000.0}, {\\\"x\\\": -74.594609, \\\"y\\\": 359000.0}, {\\\"x\\\": -74.848445, \\\"y\\\": 440000.0}, {\\\"x\\\": -74.609202, \\\"y\\\": 400000.0}, {\\\"x\\\": -74.714203, \\\"y\\\": 652000.0}, {\\\"x\\\": -74.900794, \\\"y\\\": 260000.0}, {\\\"x\\\": -74.686921, \\\"y\\\": 1328000.0}, {\\\"x\\\": -74.499363, \\\"y\\\": 519500.0}, {\\\"x\\\": -74.668234, \\\"y\\\": 650000.0}, {\\\"x\\\": -75.004017, \\\"y\\\": 280000.0}, {\\\"x\\\": -74.516106, \\\"y\\\": 515000.0}, {\\\"x\\\": -74.486661, \\\"y\\\": 400000.0}, {\\\"x\\\": -74.391535, \\\"y\\\": 652100.0}, {\\\"x\\\": -74.999568, \\\"y\\\": 235000.0}, {\\\"x\\\": -74.721624, \\\"y\\\": 701000.0}, {\\\"x\\\": -74.415294, \\\"y\\\": 640000.0}, {\\\"x\\\": -74.356124, \\\"y\\\": 455800.0}, {\\\"x\\\": -74.253923, \\\"y\\\": 504750.0}, {\\\"x\\\": -74.450024, \\\"y\\\": 483000.0}, {\\\"x\\\": -75.012345, \\\"y\\\": 530000.0}, {\\\"x\\\": -74.860048, \\\"y\\\": 250000.0}, {\\\"x\\\": -75.031848, \\\"y\\\": 229950.0}, {\\\"x\\\": -74.415081, \\\"y\\\": 884744.0}, {\\\"x\\\": -74.474577, \\\"y\\\": 514000.0}, {\\\"x\\\": -74.53919, \\\"y\\\": 532000.0}, {\\\"x\\\": -74.664091, \\\"y\\\": 423000.0}, {\\\"x\\\": -74.815502, \\\"y\\\": 420000.0}, {\\\"x\\\": -74.464487, \\\"y\\\": 521000.0}, {\\\"x\\\": -74.469865, \\\"y\\\": 577000.0}, {\\\"x\\\": -74.528747, \\\"y\\\": 425000.0}, {\\\"x\\\": -74.463288, \\\"y\\\": 495000.0}, {\\\"x\\\": -75.0479, \\\"y\\\": 340000.0}, {\\\"x\\\": -74.702028, \\\"y\\\": 499950.0}, {\\\"x\\\": -74.794803, \\\"y\\\": 1218000.0}, {\\\"x\\\": -74.677912, \\\"y\\\": 720000.0}, {\\\"x\\\": -74.752278, \\\"y\\\": 249000.0}, {\\\"x\\\": -74.825193, \\\"y\\\": 206135.0}, {\\\"x\\\": -74.745966, \\\"y\\\": 300000.0}, {\\\"x\\\": -74.735145, \\\"y\\\": 612000.0}, {\\\"x\\\": -74.633787, \\\"y\\\": 1102030.0}, {\\\"x\\\": -75.079616, \\\"y\\\": 230000.0}, {\\\"x\\\": -74.734076, \\\"y\\\": 850000.0}, {\\\"x\\\": -74.91634, \\\"y\\\": 355000.0}, {\\\"x\\\": -74.643845, \\\"y\\\": 442000.0}, {\\\"x\\\": -74.747491, \\\"y\\\": 399000.0}, {\\\"x\\\": -74.962961, \\\"y\\\": 360000.0}, {\\\"x\\\": -74.690935, \\\"y\\\": 390000.0}, {\\\"x\\\": -74.421309, \\\"y\\\": 413000.0}, {\\\"x\\\": -74.747001, \\\"y\\\": 190000.0}, {\\\"x\\\": -74.296622, \\\"y\\\": 432900.0}, {\\\"x\\\": -74.423813, \\\"y\\\": 621138.0}, {\\\"x\\\": -74.737108, \\\"y\\\": 270000.0}, {\\\"x\\\": -74.45811, \\\"y\\\": 610000.0}, {\\\"x\\\": -74.738596, \\\"y\\\": 500000.0}, {\\\"x\\\": -74.369314, \\\"y\\\": 715000.0}, {\\\"x\\\": -74.782586, \\\"y\\\": 264000.0}, {\\\"x\\\": -74.696433, \\\"y\\\": 550000.0}, {\\\"x\\\": -74.735257, \\\"y\\\": 337000.0}, {\\\"x\\\": -74.885456, \\\"y\\\": 170000.0}, {\\\"x\\\": -74.452461, \\\"y\\\": 405000.0}, {\\\"x\\\": -74.395965, \\\"y\\\": 775000.0}, {\\\"x\\\": -74.451781, \\\"y\\\": 425000.0}, {\\\"x\\\": -74.538908, \\\"y\\\": 713000.0}, {\\\"x\\\": -74.529949, \\\"y\\\": 555000.0}, {\\\"x\\\": -74.449429, \\\"y\\\": 810000.0}, {\\\"x\\\": -74.318557, \\\"y\\\": 1250000.0}, {\\\"x\\\": -74.755895, \\\"y\\\": 819000.0}, {\\\"x\\\": -74.827817, \\\"y\\\": 409900.0}, {\\\"x\\\": -74.596948, \\\"y\\\": 935000.0}, {\\\"x\\\": -74.7015, \\\"y\\\": 657500.0}, {\\\"x\\\": -74.635783, \\\"y\\\": 900000.0}, {\\\"x\\\": -74.601776, \\\"y\\\": 932800.0}, {\\\"x\\\": -74.638398, \\\"y\\\": 391000.0}, {\\\"x\\\": -74.655094, \\\"y\\\": 420000.0}, {\\\"x\\\": -74.548812, \\\"y\\\": 1300000.0}, {\\\"x\\\": -74.586786, \\\"y\\\": 415000.0}, {\\\"x\\\": -74.875355, \\\"y\\\": 350000.0}, {\\\"x\\\": -74.73289, \\\"y\\\": 375000.0}, {\\\"x\\\": -74.514204, \\\"y\\\": 860000.0}, {\\\"x\\\": -74.621364, \\\"y\\\": 495000.0}, {\\\"x\\\": -74.949407, \\\"y\\\": 250000.0}, {\\\"x\\\": -74.705221, \\\"y\\\": 365000.0}, {\\\"x\\\": -74.495442, \\\"y\\\": 503000.0}, {\\\"x\\\": -74.696313, \\\"y\\\": 150000.0}, {\\\"x\\\": -74.645303, \\\"y\\\": 450000.0}, {\\\"x\\\": -75.028194, \\\"y\\\": 355000.0}, {\\\"x\\\": -74.969171, \\\"y\\\": 245000.0}, {\\\"x\\\": -74.775806, \\\"y\\\": 265900.0}, {\\\"x\\\": -74.733305, \\\"y\\\": 299000.0}, {\\\"x\\\": -74.69253, \\\"y\\\": 957500.0}, {\\\"x\\\": -74.496373, \\\"y\\\": 343000.0}, {\\\"x\\\": -74.672467, \\\"y\\\": 307500.0}, {\\\"x\\\": -74.321794, \\\"y\\\": 937500.0}, {\\\"x\\\": -74.313578, \\\"y\\\": 610000.0}, {\\\"x\\\": -74.861592, \\\"y\\\": 720000.0}, {\\\"x\\\": -74.694889, \\\"y\\\": 610000.0}, {\\\"x\\\": -74.459281, \\\"y\\\": 434500.0}, {\\\"x\\\": -74.747412, \\\"y\\\": 602500.0}, {\\\"x\\\": -74.713965, \\\"y\\\": 607010.0}, {\\\"x\\\": -74.708655, \\\"y\\\": 610000.0}, {\\\"x\\\": -74.371755, \\\"y\\\": 828500.0}, {\\\"x\\\": -75.008744, \\\"y\\\": 199990.0}, {\\\"x\\\": -74.68455, \\\"y\\\": 294000.0}, {\\\"x\\\": -74.415385, \\\"y\\\": 789500.0}, {\\\"x\\\": -74.391498, \\\"y\\\": 797000.0}, {\\\"x\\\": -74.351296, \\\"y\\\": 539950.0}, {\\\"x\\\": -74.940477, \\\"y\\\": 284950.0}, {\\\"x\\\": -74.509867, \\\"y\\\": 776500.0}, {\\\"x\\\": -74.529664, \\\"y\\\": 525000.0}, {\\\"x\\\": -74.839113, \\\"y\\\": 303000.0}, {\\\"x\\\": -74.405268, \\\"y\\\": 722080.0}, {\\\"x\\\": -74.938796, \\\"y\\\": 140000.0}, {\\\"x\\\": -74.938796, \\\"y\\\": 235000.0}, {\\\"x\\\": -74.652974, \\\"y\\\": 440000.0}, {\\\"x\\\": -74.801917, \\\"y\\\": 605000.0}, {\\\"x\\\": -74.753297, \\\"y\\\": 380000.0}, {\\\"x\\\": -74.818764, \\\"y\\\": 352000.0}, {\\\"x\\\": -74.392075, \\\"y\\\": 420000.0}, {\\\"x\\\": -74.762811, \\\"y\\\": 1175000.0}, {\\\"x\\\": -74.588881, \\\"y\\\": 1375000.0}, {\\\"x\\\": -74.823306, \\\"y\\\": 300000.0}, {\\\"x\\\": -74.408509, \\\"y\\\": 1150000.0}, {\\\"x\\\": -74.854037, \\\"y\\\": 453500.0}, {\\\"x\\\": -74.589454, \\\"y\\\": 443500.0}, {\\\"x\\\": -74.587562, \\\"y\\\": 332000.0}, {\\\"x\\\": -74.425826, \\\"y\\\": 655000.0}, {\\\"x\\\": -74.617829, \\\"y\\\": 475000.0}, {\\\"x\\\": -74.280786, \\\"y\\\": 372500.0}, {\\\"x\\\": -74.693514, \\\"y\\\": 1050000.0}, {\\\"x\\\": -74.610847, \\\"y\\\": 500000.0}, {\\\"x\\\": -74.658715, \\\"y\\\": 900000.0}, {\\\"x\\\": -74.74579, \\\"y\\\": 327500.0}, {\\\"x\\\": -74.238361, \\\"y\\\": 390000.0}, {\\\"x\\\": -74.531771, \\\"y\\\": 451101.0}, {\\\"x\\\": -74.823311, \\\"y\\\": 455000.0}, {\\\"x\\\": -74.68189, \\\"y\\\": 650000.0}, {\\\"x\\\": -74.672174, \\\"y\\\": 895000.0}, {\\\"x\\\": -74.663223, \\\"y\\\": 800000.0}, {\\\"x\\\": -74.547086, \\\"y\\\": 703770.0}, {\\\"x\\\": -74.931817, \\\"y\\\": 249950.0}, {\\\"x\\\": -74.628243, \\\"y\\\": 512000.0}, {\\\"x\\\": -74.566504, \\\"y\\\": 780000.0}, {\\\"x\\\": -74.956074, \\\"y\\\": 336000.0}, {\\\"x\\\": -74.755752, \\\"y\\\": 285000.0}, {\\\"x\\\": -74.90571, \\\"y\\\": 229900.0}, {\\\"x\\\": -74.813555, \\\"y\\\": 667500.0}, {\\\"x\\\": -74.330776, \\\"y\\\": 378000.0}, {\\\"x\\\": -74.24771, \\\"y\\\": 454000.0}, {\\\"x\\\": -74.411427, \\\"y\\\": 537500.0}, {\\\"x\\\": -74.726713, \\\"y\\\": 425000.0}, {\\\"x\\\": -74.80026, \\\"y\\\": 290000.0}, {\\\"x\\\": -74.686801, \\\"y\\\": 349500.0}, {\\\"x\\\": -74.826705, \\\"y\\\": 370000.0}, {\\\"x\\\": -74.577964, \\\"y\\\": 549500.0}, {\\\"x\\\": -74.85946, \\\"y\\\": 245000.0}, {\\\"x\\\": -74.709485, \\\"y\\\": 208000.0}, {\\\"x\\\": -74.921916, \\\"y\\\": 248000.0}, {\\\"x\\\": -74.736448, \\\"y\\\": 610000.0}, {\\\"x\\\": -74.563514, \\\"y\\\": 550000.0}, {\\\"x\\\": -74.232384, \\\"y\\\": 750000.0}, {\\\"x\\\": -74.750827, \\\"y\\\": 192000.0}, {\\\"x\\\": -74.676664, \\\"y\\\": 169317.0}, {\\\"x\\\": -74.676355, \\\"y\\\": 1198000.0}, {\\\"x\\\": -74.670639, \\\"y\\\": 880000.0}, {\\\"x\\\": -74.609327, \\\"y\\\": 210000.0}, {\\\"x\\\": -74.716154, \\\"y\\\": 180500.0}, {\\\"x\\\": -74.409688, \\\"y\\\": 540000.0}, {\\\"x\\\": -74.366859, \\\"y\\\": 520000.0}, {\\\"x\\\": -74.73191, \\\"y\\\": 177500.0}, {\\\"x\\\": -74.74304, \\\"y\\\": 415000.0}, {\\\"x\\\": -74.472433, \\\"y\\\": 495000.0}, {\\\"x\\\": -74.815407, \\\"y\\\": 325000.0}, {\\\"x\\\": -74.479131, \\\"y\\\": 440000.0}, {\\\"x\\\": -74.534184, \\\"y\\\": 411000.0}, {\\\"x\\\": -74.720828, \\\"y\\\": 810000.0}, {\\\"x\\\": -74.529966, \\\"y\\\": 561750.0}, {\\\"x\\\": -74.577522, \\\"y\\\": 835100.0}, {\\\"x\\\": -74.439669, \\\"y\\\": 450000.0}, {\\\"x\\\": -74.763203, \\\"y\\\": 238000.0}, {\\\"x\\\": -74.967808, \\\"y\\\": 299000.0}, {\\\"x\\\": -74.75804, \\\"y\\\": 570000.0}, {\\\"x\\\": -74.769158, \\\"y\\\": 340000.0}, {\\\"x\\\": -74.812255, \\\"y\\\": 450000.0}, {\\\"x\\\": -74.846424, \\\"y\\\": 272750.0}, {\\\"x\\\": -74.607665, \\\"y\\\": 520000.0}, {\\\"x\\\": -74.643935, \\\"y\\\": 284950.0}, {\\\"x\\\": -74.830962, \\\"y\\\": 255000.0}, {\\\"x\\\": -74.816126, \\\"y\\\": 231500.0}, {\\\"x\\\": -74.311629, \\\"y\\\": 415000.0}, {\\\"x\\\": -74.984279, \\\"y\\\": 330000.0}, {\\\"x\\\": -74.50602, \\\"y\\\": 365000.0}, {\\\"x\\\": -74.917696, \\\"y\\\": 425000.0}, {\\\"x\\\": -74.760047, \\\"y\\\": 400000.0}, {\\\"x\\\": -75.083128, \\\"y\\\": 335000.0}, {\\\"x\\\": -74.70153, \\\"y\\\": 342000.0}, {\\\"x\\\": -74.694499, \\\"y\\\": 490000.0}, {\\\"x\\\": -74.672125, \\\"y\\\": 331500.0}, {\\\"x\\\": -74.439278, \\\"y\\\": 960000.0}, {\\\"x\\\": -74.385379, \\\"y\\\": 720500.0}, {\\\"x\\\": -74.835402, \\\"y\\\": 830000.0}, {\\\"x\\\": -74.825812, \\\"y\\\": 662990.0}, {\\\"x\\\": -74.820626, \\\"y\\\": 220000.0}, {\\\"x\\\": -74.729233, \\\"y\\\": 349950.0}, {\\\"x\\\": -74.717433, \\\"y\\\": 550000.0}, {\\\"x\\\": -74.805117, \\\"y\\\": 396000.0}, {\\\"x\\\": -74.684327, \\\"y\\\": 635000.0}, {\\\"x\\\": -74.63224, \\\"y\\\": 293000.0}, {\\\"x\\\": -74.708207, \\\"y\\\": 339000.0}, {\\\"x\\\": -74.811076, \\\"y\\\": 285000.0}, {\\\"x\\\": -74.662621, \\\"y\\\": 775000.0}, {\\\"x\\\": -74.901773, \\\"y\\\": 224000.0}, {\\\"x\\\": -74.708778, \\\"y\\\": 2250000.0}, {\\\"x\\\": -74.803611, \\\"y\\\": 165050.0}, {\\\"x\\\": -74.741029, \\\"y\\\": 275000.0}, {\\\"x\\\": -74.723788, \\\"y\\\": 445000.0}, {\\\"x\\\": -74.327619, \\\"y\\\": 510000.0}, {\\\"x\\\": -74.65026, \\\"y\\\": 1230000.0}, {\\\"x\\\": -74.542147, \\\"y\\\": 390000.0}, {\\\"x\\\": -74.51583, \\\"y\\\": 460000.0}, {\\\"x\\\": -74.577919, \\\"y\\\": 700000.0}, {\\\"x\\\": -74.536678, \\\"y\\\": 874150.0}, {\\\"x\\\": -74.522396, \\\"y\\\": 470000.0}, {\\\"x\\\": -74.477979, \\\"y\\\": 374000.0}, {\\\"x\\\": -74.990404, \\\"y\\\": 510000.0}, {\\\"x\\\": -74.711591, \\\"y\\\": 467000.0}, {\\\"x\\\": -74.498931, \\\"y\\\": 576000.0}, {\\\"x\\\": -74.970932, \\\"y\\\": 196440.0}, {\\\"x\\\": -74.364468, \\\"y\\\": 825000.0}, {\\\"x\\\": -74.43706, \\\"y\\\": 281000.0}, {\\\"x\\\": -74.589706, \\\"y\\\": 326000.0}, {\\\"x\\\": -74.569165, \\\"y\\\": 340000.0}, {\\\"x\\\": -74.738177, \\\"y\\\": 440000.0}, {\\\"x\\\": -74.453407, \\\"y\\\": 749000.0}, {\\\"x\\\": -74.513254, \\\"y\\\": 340000.0}, {\\\"x\\\": -74.847862, \\\"y\\\": 561000.0}, {\\\"x\\\": -74.688921, \\\"y\\\": 270000.0}, {\\\"x\\\": -74.69154, \\\"y\\\": 600000.0}, {\\\"x\\\": -74.724074, \\\"y\\\": 219900.0}, {\\\"x\\\": -74.821992, \\\"y\\\": 617000.0}, {\\\"x\\\": -74.515474, \\\"y\\\": 469000.0}, {\\\"x\\\": -75.00017, \\\"y\\\": 229000.0}, {\\\"x\\\": -74.688951, \\\"y\\\": 1265000.0}, {\\\"x\\\": -74.582954, \\\"y\\\": 365000.0}, {\\\"x\\\": -74.923066, \\\"y\\\": 429000.0}, {\\\"x\\\": -74.23755, \\\"y\\\": 550000.0}, {\\\"x\\\": -74.907164, \\\"y\\\": 453000.0}, {\\\"x\\\": -75.077063, \\\"y\\\": 187500.0}, {\\\"x\\\": -74.596522, \\\"y\\\": 520500.0}, {\\\"x\\\": -74.777325, \\\"y\\\": 300000.0}, {\\\"x\\\": -74.609425, \\\"y\\\": 799000.0}, {\\\"x\\\": -74.69571, \\\"y\\\": 338000.0}, {\\\"x\\\": -74.679744, \\\"y\\\": 800000.0}, {\\\"x\\\": -74.855136, \\\"y\\\": 360000.0}, {\\\"x\\\": -74.604591, \\\"y\\\": 442500.0}, {\\\"x\\\": -74.791674, \\\"y\\\": 700000.0}, {\\\"x\\\": -74.664108, \\\"y\\\": 830000.0}, {\\\"x\\\": -74.47058, \\\"y\\\": 360400.0}, {\\\"x\\\": -74.636338, \\\"y\\\": 345000.0}, {\\\"x\\\": -74.620385, \\\"y\\\": 300000.0}, {\\\"x\\\": -74.66139, \\\"y\\\": 350000.0}, {\\\"x\\\": -74.678566, \\\"y\\\": 368000.0}, {\\\"x\\\": -75.056092, \\\"y\\\": 264000.0}, {\\\"x\\\": -74.686264, \\\"y\\\": 435000.0}, {\\\"x\\\": -74.740845, \\\"y\\\": 200000.0}, {\\\"x\\\": -74.713215, \\\"y\\\": 620000.0}, {\\\"x\\\": -74.644906, \\\"y\\\": 1679000.0}, {\\\"x\\\": -74.793041, \\\"y\\\": 337000.0}, {\\\"x\\\": -74.574272, \\\"y\\\": 1928000.0}, {\\\"x\\\": -74.418034, \\\"y\\\": 544500.0}, {\\\"x\\\": -74.816133, \\\"y\\\": 252000.0}, {\\\"x\\\": -74.81324, \\\"y\\\": 445000.0}, {\\\"x\\\": -74.608488, \\\"y\\\": 379500.0}, {\\\"x\\\": -74.925459, \\\"y\\\": 189950.0}, {\\\"x\\\": -74.698336, \\\"y\\\": 469000.0}, {\\\"x\\\": -74.341818, \\\"y\\\": 600000.0}, {\\\"x\\\": -74.605243, \\\"y\\\": 785000.0}, {\\\"x\\\": -74.749012, \\\"y\\\": 372000.0}, {\\\"x\\\": -74.699297, \\\"y\\\": 445000.0}, {\\\"x\\\": -74.541763, \\\"y\\\": 508000.0}, {\\\"x\\\": -74.647423, \\\"y\\\": 780000.0}, {\\\"x\\\": -74.392397, \\\"y\\\": 541100.0}, {\\\"x\\\": -74.449955, \\\"y\\\": 729000.0}, {\\\"x\\\": -74.76328, \\\"y\\\": 397000.0}, {\\\"x\\\": -74.828946, \\\"y\\\": 451555.0}, {\\\"x\\\": -74.565368, \\\"y\\\": 300000.0}, {\\\"x\\\": -74.647447, \\\"y\\\": 416000.0}, {\\\"x\\\": -74.653446, \\\"y\\\": 490000.0}, {\\\"x\\\": -74.872766, \\\"y\\\": 480000.0}, {\\\"x\\\": -74.748529, \\\"y\\\": 368000.0}, {\\\"x\\\": -74.544107, \\\"y\\\": 1038000.0}, {\\\"x\\\": -74.873067, \\\"y\\\": 545000.0}, {\\\"x\\\": -74.464255, \\\"y\\\": 850000.0}, {\\\"x\\\": -74.719802, \\\"y\\\": 550000.0}, {\\\"x\\\": -74.41031, \\\"y\\\": 600000.0}, {\\\"x\\\": -74.524389, \\\"y\\\": 535000.0}, {\\\"x\\\": -74.723428, \\\"y\\\": 599950.0}, {\\\"x\\\": -74.74056, \\\"y\\\": 531000.0}, {\\\"x\\\": -74.625342, \\\"y\\\": 530000.0}, {\\\"x\\\": -74.647246, \\\"y\\\": 597326.0}, {\\\"x\\\": -74.332455, \\\"y\\\": 805000.0}, {\\\"x\\\": -74.689415, \\\"y\\\": 390000.0}, {\\\"x\\\": -74.682583, \\\"y\\\": 487250.0}, {\\\"x\\\": -74.531155, \\\"y\\\": 301000.0}, {\\\"x\\\": -74.713346, \\\"y\\\": 1175000.0}, {\\\"x\\\": -74.728631, \\\"y\\\": 299000.0}, {\\\"x\\\": -74.527582, \\\"y\\\": 2350000.0}, {\\\"x\\\": -74.82032, \\\"y\\\": 400000.0}, {\\\"x\\\": -74.446625, \\\"y\\\": 467500.0}, {\\\"x\\\": -75.074441, \\\"y\\\": 305000.0}, {\\\"x\\\": -74.158417, \\\"y\\\": 210000.0}, {\\\"x\\\": -74.266619, \\\"y\\\": 300000.0}, {\\\"x\\\": -74.67676, \\\"y\\\": 327500.0}, {\\\"x\\\": -74.803035, \\\"y\\\": 269000.0}, {\\\"x\\\": -74.547844, \\\"y\\\": 975000.0}, {\\\"x\\\": -74.643534, \\\"y\\\": 355000.0}, {\\\"x\\\": -74.689562, \\\"y\\\": 712000.0}, {\\\"x\\\": -74.399635, \\\"y\\\": 883000.0}, {\\\"x\\\": -74.706028, \\\"y\\\": 190000.0}, {\\\"x\\\": -74.583841, \\\"y\\\": 443000.0}, {\\\"x\\\": -74.421952, \\\"y\\\": 920000.0}, {\\\"x\\\": -75.073641, \\\"y\\\": 285000.0}, {\\\"x\\\": -74.845129, \\\"y\\\": 901000.0}, {\\\"x\\\": -74.733456, \\\"y\\\": 552500.0}, {\\\"x\\\": -74.842714, \\\"y\\\": 256000.0}, {\\\"x\\\": -74.560254, \\\"y\\\": 341000.0}, {\\\"x\\\": -74.733938, \\\"y\\\": 279000.0}, {\\\"x\\\": -74.60238, \\\"y\\\": 686000.0}, {\\\"x\\\": -74.581288, \\\"y\\\": 225000.0}, {\\\"x\\\": -74.979893, \\\"y\\\": 215500.0}, {\\\"x\\\": -74.712573, \\\"y\\\": 950000.0}, {\\\"x\\\": -74.32448, \\\"y\\\": 503000.0}, {\\\"x\\\": -74.4714, \\\"y\\\": 780000.0}, {\\\"x\\\": -74.77077, \\\"y\\\": 212000.0}, {\\\"x\\\": -74.652511, \\\"y\\\": 580000.0}, {\\\"x\\\": -74.732352, \\\"y\\\": 465000.0}, {\\\"x\\\": -74.965741, \\\"y\\\": 206000.0}, {\\\"x\\\": -74.548792, \\\"y\\\": 615000.0}, {\\\"x\\\": -74.724117, \\\"y\\\": 519000.0}, {\\\"x\\\": -74.629066, \\\"y\\\": 1135000.0}, {\\\"x\\\": -74.712182, \\\"y\\\": 330000.0}, {\\\"x\\\": -74.739227, \\\"y\\\": 240000.0}, {\\\"x\\\": -74.447861, \\\"y\\\": 574000.0}, {\\\"x\\\": -74.851313, \\\"y\\\": 930000.0}, {\\\"x\\\": -74.327324, \\\"y\\\": 850000.0}, {\\\"x\\\": -74.498128, \\\"y\\\": 415000.0}, {\\\"x\\\": -74.629618, \\\"y\\\": 480000.0}, {\\\"x\\\": -74.834391, \\\"y\\\": 300000.0}, {\\\"x\\\": -74.403417, \\\"y\\\": 439000.0}, {\\\"x\\\": -74.486242, \\\"y\\\": 450000.0}, {\\\"x\\\": -74.352316, \\\"y\\\": 589000.0}, {\\\"x\\\": -74.45122, \\\"y\\\": 477000.0}, {\\\"x\\\": -74.591686, \\\"y\\\": 587500.0}, {\\\"x\\\": -74.688061, \\\"y\\\": 1315000.0}, {\\\"x\\\": -74.595573, \\\"y\\\": 1430000.0}, {\\\"x\\\": -74.452454, \\\"y\\\": 700000.0}, {\\\"x\\\": -74.594488, \\\"y\\\": 275000.0}, {\\\"x\\\": -74.319006, \\\"y\\\": 367500.0}, {\\\"x\\\": -74.234044, \\\"y\\\": 453250.0}, {\\\"x\\\": -74.858969, \\\"y\\\": 607000.0}, {\\\"x\\\": -74.734492, \\\"y\\\": 255000.0}, {\\\"x\\\": -74.690232, \\\"y\\\": 501000.0}, {\\\"x\\\": -74.814954, \\\"y\\\": 450000.0}, {\\\"x\\\": -74.756035, \\\"y\\\": 360000.0}, {\\\"x\\\": -74.818376, \\\"y\\\": 460000.0}, {\\\"x\\\": -74.607446, \\\"y\\\": 753000.0}, {\\\"x\\\": -74.856315, \\\"y\\\": 389950.0}, {\\\"x\\\": -74.679762, \\\"y\\\": 469000.0}, {\\\"x\\\": -74.880109, \\\"y\\\": 550000.0}, {\\\"x\\\": -74.631981, \\\"y\\\": 565000.0}, {\\\"x\\\": -74.904544, \\\"y\\\": 189650.0}, {\\\"x\\\": -74.720376, \\\"y\\\": 1525000.0}, {\\\"x\\\": -74.678545, \\\"y\\\": 260000.0}, {\\\"x\\\": -74.918258, \\\"y\\\": 243000.0}, {\\\"x\\\": -74.590395, \\\"y\\\": 1100000.0}, {\\\"x\\\": -74.876054, \\\"y\\\": 249000.0}, {\\\"x\\\": -74.877971, \\\"y\\\": 720000.0}, {\\\"x\\\": -74.549769, \\\"y\\\": 905000.0}, {\\\"x\\\": -74.641337, \\\"y\\\": 824500.0}, {\\\"x\\\": -74.641347, \\\"y\\\": 762500.0}, {\\\"x\\\": -74.797562, \\\"y\\\": 580000.0}, {\\\"x\\\": -74.669481, \\\"y\\\": 380000.0}, {\\\"x\\\": -74.688164, \\\"y\\\": 805000.0}, {\\\"x\\\": -74.68897, \\\"y\\\": 520000.0}, {\\\"x\\\": -74.763456, \\\"y\\\": 1569500.0}, {\\\"x\\\": -74.919259, \\\"y\\\": 175000.0}, {\\\"x\\\": -74.733332, \\\"y\\\": 353500.0}, {\\\"x\\\": -74.916642, \\\"y\\\": 500000.0}, {\\\"x\\\": -74.45302, \\\"y\\\": 386500.0}, {\\\"x\\\": -74.742914, \\\"y\\\": 210000.0}, {\\\"x\\\": -74.54015, \\\"y\\\": 439500.0}, {\\\"x\\\": -74.732586, \\\"y\\\": 315000.0}, {\\\"x\\\": -74.657924, \\\"y\\\": 339000.0}, {\\\"x\\\": -74.580891, \\\"y\\\": 655000.0}, {\\\"x\\\": -74.298336, \\\"y\\\": 740000.0}, {\\\"x\\\": -74.496099, \\\"y\\\": 685000.0}, {\\\"x\\\": -74.584063, \\\"y\\\": 550000.0}, {\\\"x\\\": -74.853779, \\\"y\\\": 405000.0}, {\\\"x\\\": -74.49288, \\\"y\\\": 765000.0}, {\\\"x\\\": -74.798701, \\\"y\\\": 625000.0}, {\\\"x\\\": -74.751538, \\\"y\\\": 207000.0}, {\\\"x\\\": -74.751538, \\\"y\\\": 370000.0}, {\\\"x\\\": -74.487909, \\\"y\\\": 475000.0}, {\\\"x\\\": -74.60597, \\\"y\\\": 365000.0}, {\\\"x\\\": -74.45802, \\\"y\\\": 411800.0}, {\\\"x\\\": -74.53876, \\\"y\\\": 668000.0}, {\\\"x\\\": -74.700994, \\\"y\\\": 618000.0}, {\\\"x\\\": -74.90141, \\\"y\\\": 247500.0}, {\\\"x\\\": -74.82376, \\\"y\\\": 345000.0}, {\\\"x\\\": -74.507344, \\\"y\\\": 616300.0}, {\\\"x\\\": -74.582864, \\\"y\\\": 348000.0}, {\\\"x\\\": -74.424553, \\\"y\\\": 425000.0}, {\\\"x\\\": -74.517227, \\\"y\\\": 850000.0}, {\\\"x\\\": -74.464734, \\\"y\\\": 820000.0}, {\\\"x\\\": -74.481642, \\\"y\\\": 832000.0}, {\\\"x\\\": -74.522085, \\\"y\\\": 835000.0}, {\\\"x\\\": -74.662644, \\\"y\\\": 350000.0}, {\\\"x\\\": -74.698986, \\\"y\\\": 349000.0}, {\\\"x\\\": -74.646176, \\\"y\\\": 1125000.0}, {\\\"x\\\": -74.697053, \\\"y\\\": 320000.0}, {\\\"x\\\": -74.751393, \\\"y\\\": 150000.0}, {\\\"x\\\": -74.82487, \\\"y\\\": 340000.0}, {\\\"x\\\": -74.390726, \\\"y\\\": 785500.0}, {\\\"x\\\": -75.044944, \\\"y\\\": 410500.0}, {\\\"x\\\": -74.520876, \\\"y\\\": 580000.0}, {\\\"x\\\": -74.706051, \\\"y\\\": 345000.0}, {\\\"x\\\": -74.408999, \\\"y\\\": 550000.0}, {\\\"x\\\": -74.685144, \\\"y\\\": 449500.0}, {\\\"x\\\": -74.600054, \\\"y\\\": 300000.0}, {\\\"x\\\": -74.389899, \\\"y\\\": 915000.0}, {\\\"x\\\": -74.660492, \\\"y\\\": 1575000.0}, {\\\"x\\\": -74.686027, \\\"y\\\": 599000.0}, {\\\"x\\\": -74.58422, \\\"y\\\": 755000.0}, {\\\"x\\\": -74.572055, \\\"y\\\": 400000.0}, {\\\"x\\\": -74.938194, \\\"y\\\": 133000.0}, {\\\"x\\\": -74.564142, \\\"y\\\": 330000.0}, {\\\"x\\\": -74.716811, \\\"y\\\": 330000.0}, {\\\"x\\\": -74.577903, \\\"y\\\": 375000.0}, {\\\"x\\\": -74.448797, \\\"y\\\": 485000.0}, {\\\"x\\\": -74.435878, \\\"y\\\": 470000.0}, {\\\"x\\\": -74.727118, \\\"y\\\": 1045000.0}, {\\\"x\\\": -74.628154, \\\"y\\\": 548800.0}, {\\\"x\\\": -74.757812, \\\"y\\\": 315000.0}, {\\\"x\\\": -74.862185, \\\"y\\\": 590000.0}, {\\\"x\\\": -74.657097, \\\"y\\\": 439950.0}, {\\\"x\\\": -74.819841, \\\"y\\\": 325000.0}, {\\\"x\\\": -74.613816, \\\"y\\\": 400000.0}, {\\\"x\\\": -74.413768, \\\"y\\\": 685000.0}, {\\\"x\\\": -74.575469, \\\"y\\\": 339950.0}, {\\\"x\\\": -74.896771, \\\"y\\\": 315000.0}, {\\\"x\\\": -74.327431, \\\"y\\\": 411753.0}, {\\\"x\\\": -74.81501, \\\"y\\\": 577000.0}, {\\\"x\\\": -74.626463, \\\"y\\\": 500000.0}, {\\\"x\\\": -74.937662, \\\"y\\\": 210000.0}, {\\\"x\\\": -74.706802, \\\"y\\\": 640000.0}, {\\\"x\\\": -74.613741, \\\"y\\\": 460000.0}, {\\\"x\\\": -74.846946, \\\"y\\\": 265000.0}, {\\\"x\\\": -74.97637, \\\"y\\\": 740000.0}, {\\\"x\\\": -74.498266, \\\"y\\\": 230000.0}, {\\\"x\\\": -74.698142, \\\"y\\\": 315000.0}, {\\\"x\\\": -74.312647, \\\"y\\\": 432000.0}, {\\\"x\\\": -74.438396, \\\"y\\\": 467000.0}, {\\\"x\\\": -75.024728, \\\"y\\\": 255000.0}, {\\\"x\\\": -74.82196, \\\"y\\\": 316500.0}, {\\\"x\\\": -74.54376, \\\"y\\\": 190000.0}, {\\\"x\\\": -74.708105, \\\"y\\\": 490000.0}, {\\\"x\\\": -74.643237, \\\"y\\\": 378000.0}, {\\\"x\\\": -74.821057, \\\"y\\\": 598800.0}, {\\\"x\\\": -74.75781, \\\"y\\\": 333800.0}, {\\\"x\\\": -74.419514, \\\"y\\\": 690000.0}, {\\\"x\\\": -74.75576, \\\"y\\\": 320000.0}, {\\\"x\\\": -74.705566, \\\"y\\\": 1249000.0}, {\\\"x\\\": -74.471173, \\\"y\\\": 335000.0}, {\\\"x\\\": -74.368342, \\\"y\\\": 840000.0}, {\\\"x\\\": -74.890139, \\\"y\\\": 608250.0}, {\\\"x\\\": -74.415389, \\\"y\\\": 550000.0}, {\\\"x\\\": -74.962468, \\\"y\\\": 240000.0}, {\\\"x\\\": -74.602933, \\\"y\\\": 998000.0}, {\\\"x\\\": -74.784831, \\\"y\\\": 275000.0}, {\\\"x\\\": -74.933291, \\\"y\\\": 284200.0}, {\\\"x\\\": -74.658648, \\\"y\\\": 1715000.0}, {\\\"x\\\": -74.684762, \\\"y\\\": 2400000.0}, {\\\"x\\\": -74.378567, \\\"y\\\": 930800.0}, {\\\"x\\\": -74.528862, \\\"y\\\": 930000.0}, {\\\"x\\\": -75.080043, \\\"y\\\": 215000.0}, {\\\"x\\\": -75.093428, \\\"y\\\": 480000.0}, {\\\"x\\\": -74.834478, \\\"y\\\": 483945.0}, {\\\"x\\\": -74.433082, \\\"y\\\": 347000.0}, {\\\"x\\\": -75.083197, \\\"y\\\": 232500.0}, {\\\"x\\\": -74.709398, \\\"y\\\": 390000.0}, {\\\"x\\\": -74.514944, \\\"y\\\": 550000.0}, {\\\"x\\\": -74.443279, \\\"y\\\": 590000.0}, {\\\"x\\\": -74.168442, \\\"y\\\": 420850.0}, {\\\"x\\\": -74.830375, \\\"y\\\": 345000.0}, {\\\"x\\\": -74.668967, \\\"y\\\": 429800.0}, {\\\"x\\\": -74.699638, \\\"y\\\": 302000.0}, {\\\"x\\\": -74.663363, \\\"y\\\": 800000.0}, {\\\"x\\\": -74.959532, \\\"y\\\": 250000.0}, {\\\"x\\\": -74.763689, \\\"y\\\": 605000.0}, {\\\"x\\\": -74.764862, \\\"y\\\": 412000.0}, {\\\"x\\\": -74.744165, \\\"y\\\": 252000.0}, {\\\"x\\\": -74.719151, \\\"y\\\": 375000.0}, {\\\"x\\\": -74.694382, \\\"y\\\": 725000.0}, {\\\"x\\\": -74.701043, \\\"y\\\": 471750.0}, {\\\"x\\\": -74.543133, \\\"y\\\": 490000.0}, {\\\"x\\\": -74.710786, \\\"y\\\": 439000.0}, {\\\"x\\\": -74.893947, \\\"y\\\": 355000.0}, {\\\"x\\\": -74.237858, \\\"y\\\": 250000.0}, {\\\"x\\\": -74.548608, \\\"y\\\": 780000.0}, {\\\"x\\\": -74.817981, \\\"y\\\": 409000.0}, {\\\"x\\\": -74.704335, \\\"y\\\": 420000.0}, {\\\"x\\\": -74.609997, \\\"y\\\": 200000.0}, {\\\"x\\\": -74.507233, \\\"y\\\": 830000.0}, {\\\"x\\\": -74.405134, \\\"y\\\": 695000.0}, {\\\"x\\\": -74.407303, \\\"y\\\": 815000.0}, {\\\"x\\\": -74.800845, \\\"y\\\": 210000.0}, {\\\"x\\\": -74.645633, \\\"y\\\": 635000.0}, {\\\"x\\\": -74.643458, \\\"y\\\": 562500.0}, {\\\"x\\\": -75.034931, \\\"y\\\": 402500.0}, {\\\"x\\\": -74.607846, \\\"y\\\": 555000.0}, {\\\"x\\\": -74.501391, \\\"y\\\": 310000.0}, {\\\"x\\\": -74.226327, \\\"y\\\": 500000.0}, {\\\"x\\\": -74.576603, \\\"y\\\": 430000.0}, {\\\"x\\\": -74.659851, \\\"y\\\": 1600000.0}, {\\\"x\\\": -74.659458, \\\"y\\\": 627500.0}, {\\\"x\\\": -74.730967, \\\"y\\\": 335000.0}, {\\\"x\\\": -74.596024, \\\"y\\\": 962000.0}, {\\\"x\\\": -74.301191, \\\"y\\\": 299000.0}, {\\\"x\\\": -74.748076, \\\"y\\\": 399950.0}, {\\\"x\\\": -74.377561, \\\"y\\\": 322000.0}, {\\\"x\\\": -74.648698, \\\"y\\\": 430000.0}, {\\\"x\\\": -74.733199, \\\"y\\\": 307000.0}, {\\\"x\\\": -74.7857, \\\"y\\\": 194000.0}, {\\\"x\\\": -74.911379, \\\"y\\\": 180000.0}, {\\\"x\\\": -74.415977, \\\"y\\\": 465000.0}, {\\\"x\\\": -74.539263, \\\"y\\\": 722500.0}, {\\\"x\\\": -74.658034, \\\"y\\\": 470450.0}, {\\\"x\\\": -74.834128, \\\"y\\\": 280000.0}, {\\\"x\\\": -74.911624, \\\"y\\\": 176250.0}, {\\\"x\\\": -74.840128, \\\"y\\\": 560000.0}, {\\\"x\\\": -74.524622, \\\"y\\\": 830000.0}, {\\\"x\\\": -74.28168, \\\"y\\\": 276900.0}, {\\\"x\\\": -74.677967, \\\"y\\\": 625000.0}, {\\\"x\\\": -74.680966, \\\"y\\\": 1015000.0}, {\\\"x\\\": -74.728753, \\\"y\\\": 463500.0}, {\\\"x\\\": -74.710299, \\\"y\\\": 485000.0}, {\\\"x\\\": -74.938388, \\\"y\\\": 272000.0}, {\\\"x\\\": -74.328504, \\\"y\\\": 305000.0}, {\\\"x\\\": -74.65624, \\\"y\\\": 760000.0}, {\\\"x\\\": -74.619096, \\\"y\\\": 387500.0}, {\\\"x\\\": -74.695271, \\\"y\\\": 352000.0}, {\\\"x\\\": -74.6811, \\\"y\\\": 507000.0}, {\\\"x\\\": -74.824149, \\\"y\\\": 156000.0}, {\\\"x\\\": -74.688284, \\\"y\\\": 580000.0}, {\\\"x\\\": -74.419337, \\\"y\\\": 630000.0}, {\\\"x\\\": -74.851196, \\\"y\\\": 275000.0}, {\\\"x\\\": -74.525031, \\\"y\\\": 835000.0}, {\\\"x\\\": -74.765795, \\\"y\\\": 340000.0}, {\\\"x\\\": -74.661618, \\\"y\\\": 329350.0}, {\\\"x\\\": -74.515252, \\\"y\\\": 1480000.0}, {\\\"x\\\": -74.413642, \\\"y\\\": 475000.0}, {\\\"x\\\": -74.704098, \\\"y\\\": 719950.0}, {\\\"x\\\": -74.857648, \\\"y\\\": 235000.0}, {\\\"x\\\": -74.596776, \\\"y\\\": 875000.0}, {\\\"x\\\": -74.830212, \\\"y\\\": 380000.0}, {\\\"x\\\": -74.595263, \\\"y\\\": 325000.0}, {\\\"x\\\": -74.367159, \\\"y\\\": 475000.0}, {\\\"x\\\": -74.779265, \\\"y\\\": 152900.0}, {\\\"x\\\": -74.827084, \\\"y\\\": 210000.0}, {\\\"x\\\": -74.830908, \\\"y\\\": 350000.0}, {\\\"x\\\": -74.643646, \\\"y\\\": 505000.0}, {\\\"x\\\": -74.506456, \\\"y\\\": 464900.0}, {\\\"x\\\": -74.806396, \\\"y\\\": 650000.0}, {\\\"x\\\": -74.637202, \\\"y\\\": 369950.0}, {\\\"x\\\": -74.749599, \\\"y\\\": 250000.0}, {\\\"x\\\": -74.749599, \\\"y\\\": 320000.0}, {\\\"x\\\": -74.589726, \\\"y\\\": 2532000.0}, {\\\"x\\\": -74.783239, \\\"y\\\": 340000.0}, {\\\"x\\\": -74.709277, \\\"y\\\": 440000.0}, {\\\"x\\\": -74.796503, \\\"y\\\": 219950.0}, {\\\"x\\\": -74.658268, \\\"y\\\": 940000.0}, {\\\"x\\\": -74.834848, \\\"y\\\": 399950.0}, {\\\"x\\\": -74.656551, \\\"y\\\": 1568000.0}, {\\\"x\\\": -74.491845, \\\"y\\\": 528000.0}, {\\\"x\\\": -74.538729, \\\"y\\\": 545000.0}, {\\\"x\\\": -74.315984, \\\"y\\\": 575000.0}, {\\\"x\\\": -75.077599, \\\"y\\\": 235000.0}, {\\\"x\\\": -74.838778, \\\"y\\\": 272000.0}, {\\\"x\\\": -74.67833, \\\"y\\\": 380000.0}, {\\\"x\\\": -74.577681, \\\"y\\\": 195000.0}, {\\\"x\\\": -74.659078, \\\"y\\\": 297000.0}, {\\\"x\\\": -75.065032, \\\"y\\\": 349000.0}, {\\\"x\\\": -74.833279, \\\"y\\\": 320000.0}, {\\\"x\\\": -74.897698, \\\"y\\\": 319990.0}, {\\\"x\\\": -74.402128, \\\"y\\\": 439900.0}, {\\\"x\\\": -74.576102, \\\"y\\\": 429000.0}, {\\\"x\\\": -74.671558, \\\"y\\\": 272500.0}, {\\\"x\\\": -74.581527, \\\"y\\\": 400000.0}, {\\\"x\\\": -74.671987, \\\"y\\\": 462000.0}, {\\\"x\\\": -74.616053, \\\"y\\\": 510000.0}, {\\\"x\\\": -74.539892, \\\"y\\\": 550000.0}, {\\\"x\\\": -74.708848, \\\"y\\\": 150000.0}, {\\\"x\\\": -74.500421, \\\"y\\\": 460000.0}, {\\\"x\\\": -74.420645, \\\"y\\\": 632500.0}, {\\\"x\\\": -74.314623, \\\"y\\\": 361000.0}, {\\\"x\\\": -74.695644, \\\"y\\\": 437000.0}, {\\\"x\\\": -74.915864, \\\"y\\\": 370000.0}, {\\\"x\\\": -74.390471, \\\"y\\\": 884250.0}, {\\\"x\\\": -74.66794, \\\"y\\\": 225000.0}, {\\\"x\\\": -74.856057, \\\"y\\\": 235000.0}, {\\\"x\\\": -74.841571, \\\"y\\\": 767500.0}, {\\\"x\\\": -74.668324, \\\"y\\\": 1200000.0}, {\\\"x\\\": -74.369185, \\\"y\\\": 715000.0}, {\\\"x\\\": -74.608675, \\\"y\\\": 417000.0}, {\\\"x\\\": -74.727886, \\\"y\\\": 199000.0}, {\\\"x\\\": -74.685785, \\\"y\\\": 875000.0}, {\\\"x\\\": -74.677704, \\\"y\\\": 545000.0}, {\\\"x\\\": -74.807328, \\\"y\\\": 192500.0}, {\\\"x\\\": -74.421477, \\\"y\\\": 822500.0}, {\\\"x\\\": -74.648429, \\\"y\\\": 800000.0}, {\\\"x\\\": -74.658713, \\\"y\\\": 1250000.0}, {\\\"x\\\": -74.63653, \\\"y\\\": 3850000.0}, {\\\"x\\\": -74.649775, \\\"y\\\": 295000.0}, {\\\"x\\\": -74.304027, \\\"y\\\": 419000.0}, {\\\"x\\\": -74.55869, \\\"y\\\": 1195000.0}, {\\\"x\\\": -74.405204, \\\"y\\\": 750000.0}, {\\\"x\\\": -74.591252, \\\"y\\\": 502000.0}, {\\\"x\\\": -74.663318, \\\"y\\\": 1025000.0}, {\\\"x\\\": -74.582791, \\\"y\\\": 398500.0}, {\\\"x\\\": -74.804644, \\\"y\\\": 700000.0}, {\\\"x\\\": -74.820185, \\\"y\\\": 248000.0}, {\\\"x\\\": -74.678664, \\\"y\\\": 800000.0}, {\\\"x\\\": -74.877621, \\\"y\\\": 383000.0}, {\\\"x\\\": -74.732546, \\\"y\\\": 688000.0}, {\\\"x\\\": -74.593865, \\\"y\\\": 521000.0}, {\\\"x\\\": -74.600465, \\\"y\\\": 365000.0}, {\\\"x\\\": -74.693659, \\\"y\\\": 491000.0}, {\\\"x\\\": -74.485796, \\\"y\\\": 643000.0}, {\\\"x\\\": -75.079799, \\\"y\\\": 279000.0}, {\\\"x\\\": -74.703739, \\\"y\\\": 583500.0}, {\\\"x\\\": -74.657351, \\\"y\\\": 310000.0}, {\\\"x\\\": -74.692884, \\\"y\\\": 310000.0}, {\\\"x\\\": -74.910797, \\\"y\\\": 280000.0}, {\\\"x\\\": -74.714751, \\\"y\\\": 272000.0}, {\\\"x\\\": -74.461086, \\\"y\\\": 870000.0}, {\\\"x\\\": -74.706314, \\\"y\\\": 307000.0}, {\\\"x\\\": -74.809015, \\\"y\\\": 490000.0}, {\\\"x\\\": -74.583336, \\\"y\\\": 399950.0}, {\\\"x\\\": -74.60563, \\\"y\\\": 1635000.0}, {\\\"x\\\": -74.414248, \\\"y\\\": 989000.0}, {\\\"x\\\": -74.711431, \\\"y\\\": 264950.0}, {\\\"x\\\": -74.505401, \\\"y\\\": 491500.0}, {\\\"x\\\": -74.645347, \\\"y\\\": 345000.0}, {\\\"x\\\": -74.891967, \\\"y\\\": 339900.0}, {\\\"x\\\": -74.691835, \\\"y\\\": 852000.0}, {\\\"x\\\": -74.489437, \\\"y\\\": 585000.0}, {\\\"x\\\": -74.609315, \\\"y\\\": 723000.0}, {\\\"x\\\": -74.401904, \\\"y\\\": 594000.0}, {\\\"x\\\": -74.489705, \\\"y\\\": 405000.0}, {\\\"x\\\": -74.392861, \\\"y\\\": 725500.0}, {\\\"x\\\": -74.661905, \\\"y\\\": 800000.0}, {\\\"x\\\": -74.638617, \\\"y\\\": 1325000.0}, {\\\"x\\\": -74.820956, \\\"y\\\": 180500.0}, {\\\"x\\\": -74.820956, \\\"y\\\": 325000.0}, {\\\"x\\\": -74.875335, \\\"y\\\": 235000.0}, {\\\"x\\\": -74.869983, \\\"y\\\": 330000.0}, {\\\"x\\\": -74.861457, \\\"y\\\": 678500.0}, {\\\"x\\\": -74.45129, \\\"y\\\": 463000.0}, {\\\"x\\\": -74.821434, \\\"y\\\": 250000.0}, {\\\"x\\\": -74.707503, \\\"y\\\": 655000.0}, {\\\"x\\\": -75.026351, \\\"y\\\": 239900.0}, {\\\"x\\\": -74.939408, \\\"y\\\": 185000.0}, {\\\"x\\\": -74.621299, \\\"y\\\": 1735000.0}, {\\\"x\\\": -74.73143, \\\"y\\\": 251700.0}, {\\\"x\\\": -74.601607, \\\"y\\\": 400000.0}, {\\\"x\\\": -74.586852, \\\"y\\\": 735000.0}, {\\\"x\\\": -74.522601, \\\"y\\\": 1700000.0}, {\\\"x\\\": -74.816458, \\\"y\\\": 82500.0}, {\\\"x\\\": -74.38714, \\\"y\\\": 765000.0}, {\\\"x\\\": -75.067109, \\\"y\\\": 292500.0}, {\\\"x\\\": -74.711719, \\\"y\\\": 270000.0}, {\\\"x\\\": -74.642178, \\\"y\\\": 415000.0}, {\\\"x\\\": -74.610246, \\\"y\\\": 950000.0}, {\\\"x\\\": -74.64159, \\\"y\\\": 353000.0}, {\\\"x\\\": -74.707899, \\\"y\\\": 670950.0}, {\\\"x\\\": -74.72915, \\\"y\\\": 280950.0}, {\\\"x\\\": -74.5209, \\\"y\\\": 585000.0}, {\\\"x\\\": -74.496816, \\\"y\\\": 525000.0}, {\\\"x\\\": -74.474219, \\\"y\\\": 605000.0}, {\\\"x\\\": -74.686651, \\\"y\\\": 1010000.0}, {\\\"x\\\": -74.835656, \\\"y\\\": 245990.0}, {\\\"x\\\": -74.671453, \\\"y\\\": 535000.0}, {\\\"x\\\": -74.850504, \\\"y\\\": 410000.0}, {\\\"x\\\": -74.43615, \\\"y\\\": 550000.0}, {\\\"x\\\": -74.483392, \\\"y\\\": 665000.0}, {\\\"x\\\": -74.495069, \\\"y\\\": 455000.0}, {\\\"x\\\": -74.691234, \\\"y\\\": 440000.0}, {\\\"x\\\": -74.932826, \\\"y\\\": 332000.0}, {\\\"x\\\": -75.062071, \\\"y\\\": 280000.0}, {\\\"x\\\": -74.692133, \\\"y\\\": 570000.0}, {\\\"x\\\": -74.771287, \\\"y\\\": 250000.0}, {\\\"x\\\": -74.962268, \\\"y\\\": 238000.0}, {\\\"x\\\": -74.566712, \\\"y\\\": 265000.0}, {\\\"x\\\": -74.501205, \\\"y\\\": 306000.0}, {\\\"x\\\": -74.678752, \\\"y\\\": 345000.0}, {\\\"x\\\": -74.652687, \\\"y\\\": 765000.0}, {\\\"x\\\": -74.947378, \\\"y\\\": 346300.0}, {\\\"x\\\": -74.779183, \\\"y\\\": 342500.0}, {\\\"x\\\": -74.464179, \\\"y\\\": 501000.0}, {\\\"x\\\": -74.714511, \\\"y\\\": 270000.0}, {\\\"x\\\": -74.694462, \\\"y\\\": 638000.0}, {\\\"x\\\": -74.716836, \\\"y\\\": 460000.0}, {\\\"x\\\": -74.573181, \\\"y\\\": 760000.0}, {\\\"x\\\": -74.66483, \\\"y\\\": 1085000.0}, {\\\"x\\\": -74.238197, \\\"y\\\": 234000.0}, {\\\"x\\\": -74.648085, \\\"y\\\": 1650000.0}, {\\\"x\\\": -74.675439, \\\"y\\\": 488000.0}, {\\\"x\\\": -74.599454, \\\"y\\\": 1550000.0}, {\\\"x\\\": -74.610282, \\\"y\\\": 499000.0}, {\\\"x\\\": -74.738006, \\\"y\\\": 150000.0}, {\\\"x\\\": -75.042058, \\\"y\\\": 333000.0}, {\\\"x\\\": -74.546881, \\\"y\\\": 700000.0}, {\\\"x\\\": -74.826875, \\\"y\\\": 275000.0}, {\\\"x\\\": -74.838609, \\\"y\\\": 330000.0}, {\\\"x\\\": -74.572571, \\\"y\\\": 360000.0}, {\\\"x\\\": -74.594237, \\\"y\\\": 467000.0}, {\\\"x\\\": -74.439882, \\\"y\\\": 568000.0}, {\\\"x\\\": -74.462417, \\\"y\\\": 605000.0}, {\\\"x\\\": -74.399212, \\\"y\\\": 750000.0}, {\\\"x\\\": -74.356851, \\\"y\\\": 760000.0}, {\\\"x\\\": -74.719993, \\\"y\\\": 265000.0}, {\\\"x\\\": -74.607458, \\\"y\\\": 490000.0}, {\\\"x\\\": -74.670825, \\\"y\\\": 360000.0}, {\\\"x\\\": -75.024663, \\\"y\\\": 311750.0}, {\\\"x\\\": -74.493968, \\\"y\\\": 399000.0}, {\\\"x\\\": -74.752173, \\\"y\\\": 347000.0}, {\\\"x\\\": -74.515675, \\\"y\\\": 1680000.0}, {\\\"x\\\": -74.320462, \\\"y\\\": 585000.0}, {\\\"x\\\": -74.76529, \\\"y\\\": 340000.0}, {\\\"x\\\": -74.43433, \\\"y\\\": 612000.0}, {\\\"x\\\": -74.684071, \\\"y\\\": 230000.0}, {\\\"x\\\": -74.419588, \\\"y\\\": 604000.0}, {\\\"x\\\": -74.893454, \\\"y\\\": 250000.0}, {\\\"x\\\": -74.690219, \\\"y\\\": 258500.0}, {\\\"x\\\": -74.760475, \\\"y\\\": 783000.0}, {\\\"x\\\": -74.743631, \\\"y\\\": 1050000.0}, {\\\"x\\\": -74.475439, \\\"y\\\": 760000.0}, {\\\"x\\\": -74.80862, \\\"y\\\": 276000.0}, {\\\"x\\\": -74.479246, \\\"y\\\": 550000.0}, {\\\"x\\\": -74.584098, \\\"y\\\": 398000.0}, {\\\"x\\\": -74.693149, \\\"y\\\": 775000.0}, {\\\"x\\\": -74.60765, \\\"y\\\": 1027500.0}, {\\\"x\\\": -74.729409, \\\"y\\\": 327000.0}, {\\\"x\\\": -74.243399, \\\"y\\\": 564500.0}, {\\\"x\\\": -74.690752, \\\"y\\\": 782000.0}, {\\\"x\\\": -74.676686, \\\"y\\\": 398000.0}, {\\\"x\\\": -74.497188, \\\"y\\\": 257000.0}, {\\\"x\\\": -74.857538, \\\"y\\\": 235000.0}, {\\\"x\\\": -75.060009, \\\"y\\\": 453000.0}, {\\\"x\\\": -74.505975, \\\"y\\\": 535000.0}, {\\\"x\\\": -74.703676, \\\"y\\\": 275000.0}, {\\\"x\\\": -74.531072, \\\"y\\\": 665000.0}, {\\\"x\\\": -74.469121, \\\"y\\\": 670000.0}, {\\\"x\\\": -74.508907, \\\"y\\\": 465000.0}, {\\\"x\\\": -74.729818, \\\"y\\\": 210000.0}, {\\\"x\\\": -74.870439, \\\"y\\\": 265000.0}, {\\\"x\\\": -74.484142, \\\"y\\\": 426000.0}, {\\\"x\\\": -74.479736, \\\"y\\\": 529219.0}, {\\\"x\\\": -74.362761, \\\"y\\\": 600000.0}, {\\\"x\\\": -74.455432, \\\"y\\\": 875000.0}, {\\\"x\\\": -74.741979, \\\"y\\\": 608000.0}, {\\\"x\\\": -74.747591, \\\"y\\\": 220000.0}, {\\\"x\\\": -74.559805, \\\"y\\\": 1760000.0}, {\\\"x\\\": -74.889535, \\\"y\\\": 295450.0}, {\\\"x\\\": -74.722156, \\\"y\\\": 315000.0}, {\\\"x\\\": -74.801304, \\\"y\\\": 205000.0}, {\\\"x\\\": -74.903614, \\\"y\\\": 310000.0}, {\\\"x\\\": -74.7198, \\\"y\\\": 1000000.0}, {\\\"x\\\": -74.645293, \\\"y\\\": 525000.0}, {\\\"x\\\": -74.819027, \\\"y\\\": 284000.0}, {\\\"x\\\": -74.430052, \\\"y\\\": 510000.0}, {\\\"x\\\": -74.654851, \\\"y\\\": 405000.0}, {\\\"x\\\": -74.498374, \\\"y\\\": 509950.0}, {\\\"x\\\": -74.361647, \\\"y\\\": 600000.0}, {\\\"x\\\": -74.645812, \\\"y\\\": 990000.0}, {\\\"x\\\": -74.749121, \\\"y\\\": 280005.0}, {\\\"x\\\": -74.706004, \\\"y\\\": 700000.0}, {\\\"x\\\": -74.846836, \\\"y\\\": 330000.0}, {\\\"x\\\": -74.917908, \\\"y\\\": 340000.0}, {\\\"x\\\": -74.4666, \\\"y\\\": 468000.0}, {\\\"x\\\": -74.654136, \\\"y\\\": 1339000.0}, {\\\"x\\\": -74.618922, \\\"y\\\": 515000.0}, {\\\"x\\\": -74.802053, \\\"y\\\": 245000.0}, {\\\"x\\\": -74.790058, \\\"y\\\": 265000.0}, {\\\"x\\\": -74.793465, \\\"y\\\": 372400.0}, {\\\"x\\\": -74.574821, \\\"y\\\": 390000.0}, {\\\"x\\\": -74.926975, \\\"y\\\": 208000.0}, {\\\"x\\\": -74.546917, \\\"y\\\": 273000.0}, {\\\"x\\\": -74.231637, \\\"y\\\": 455000.0}, {\\\"x\\\": -75.049928, \\\"y\\\": 270000.0}, {\\\"x\\\": -74.520848, \\\"y\\\": 618000.0}, {\\\"x\\\": -74.955256, \\\"y\\\": 213550.0}, {\\\"x\\\": -74.901215, \\\"y\\\": 210000.0}, {\\\"x\\\": -74.614668, \\\"y\\\": 2750000.0}, {\\\"x\\\": -74.643992, \\\"y\\\": 403500.0}, {\\\"x\\\": -74.796411, \\\"y\\\": 235000.0}, {\\\"x\\\": -74.751891, \\\"y\\\": 287500.0}, {\\\"x\\\": -74.604408, \\\"y\\\": 546800.0}, {\\\"x\\\": -74.935075, \\\"y\\\": 183000.0}, {\\\"x\\\": -74.791057, \\\"y\\\": 560000.0}, {\\\"x\\\": -74.728442, \\\"y\\\": 299500.0}, {\\\"x\\\": -74.497225, \\\"y\\\": 610000.0}, {\\\"x\\\": -74.816487, \\\"y\\\": 288350.0}, {\\\"x\\\": -74.697554, \\\"y\\\": 500000.0}, {\\\"x\\\": -74.607755, \\\"y\\\": 625000.0}, {\\\"x\\\": -74.842379, \\\"y\\\": 418000.0}, {\\\"x\\\": -74.697524, \\\"y\\\": 660000.0}, {\\\"x\\\": -74.604737, \\\"y\\\": 775000.0}, {\\\"x\\\": -74.450457, \\\"y\\\": 429500.0}, {\\\"x\\\": -74.663155, \\\"y\\\": 569000.0}, {\\\"x\\\": -74.769862, \\\"y\\\": 250000.0}, {\\\"x\\\": -74.780118, \\\"y\\\": 225000.0}, {\\\"x\\\": -74.916475, \\\"y\\\": 530000.0}, {\\\"x\\\": -74.544734, \\\"y\\\": 306000.0}, {\\\"x\\\": -74.64052, \\\"y\\\": 517100.0}, {\\\"x\\\": -74.400242, \\\"y\\\": 354950.0}, {\\\"x\\\": -74.621137, \\\"y\\\": 348000.0}, {\\\"x\\\": -74.330683, \\\"y\\\": 522250.0}, {\\\"x\\\": -75.072399, \\\"y\\\": 275000.0}, {\\\"x\\\": -74.60046, \\\"y\\\": 390000.0}, {\\\"x\\\": -74.904643, \\\"y\\\": 260000.0}, {\\\"x\\\": -74.660892, \\\"y\\\": 585000.0}, {\\\"x\\\": -74.630631, \\\"y\\\": 605000.0}, {\\\"x\\\": -74.822624, \\\"y\\\": 342000.0}, {\\\"x\\\": -74.507876, \\\"y\\\": 900000.0}, {\\\"x\\\": -74.784177, \\\"y\\\": 252000.0}, {\\\"x\\\": -74.98789, \\\"y\\\": 357000.0}, {\\\"x\\\": -74.498616, \\\"y\\\": 370000.0}, {\\\"x\\\": -74.658137, \\\"y\\\": 322500.0}, {\\\"x\\\": -74.915358, \\\"y\\\": 210000.0}, {\\\"x\\\": -74.61849, \\\"y\\\": 290000.0}, {\\\"x\\\": -74.4948, \\\"y\\\": 860000.0}, {\\\"x\\\": -74.720762, \\\"y\\\": 302000.0}, {\\\"x\\\": -74.995262, \\\"y\\\": 369160.0}, {\\\"x\\\": -74.662997, \\\"y\\\": 1185000.0}, {\\\"x\\\": -74.614016, \\\"y\\\": 993000.0}, {\\\"x\\\": -74.501432, \\\"y\\\": 380000.0}, {\\\"x\\\": -74.636375, \\\"y\\\": 635000.0}, {\\\"x\\\": -74.329735, \\\"y\\\": 260000.0}, {\\\"x\\\": -74.733373, \\\"y\\\": 243000.0}, {\\\"x\\\": -74.609402, \\\"y\\\": 1400000.0}, {\\\"x\\\": -74.646525, \\\"y\\\": 665000.0}, {\\\"x\\\": -74.486287, \\\"y\\\": 898000.0}, {\\\"x\\\": -74.730531, \\\"y\\\": 583000.0}, {\\\"x\\\": -74.470917, \\\"y\\\": 429000.0}, {\\\"x\\\": -74.465163, \\\"y\\\": 471000.0}, {\\\"x\\\": -74.650714, \\\"y\\\": 1810000.0}, {\\\"x\\\": -74.777834, \\\"y\\\": 739500.0}, {\\\"x\\\": -74.551549, \\\"y\\\": 450000.0}, {\\\"x\\\": -74.68021, \\\"y\\\": 552500.0}, {\\\"x\\\": -74.574512, \\\"y\\\": 437000.0}, {\\\"x\\\": -74.745349, \\\"y\\\": 270000.0}, {\\\"x\\\": -74.890376, \\\"y\\\": 226740.0}, {\\\"x\\\": -74.493988, \\\"y\\\": 446500.0}, {\\\"x\\\": -74.788351, \\\"y\\\": 283000.0}, {\\\"x\\\": -74.401237, \\\"y\\\": 445000.0}, {\\\"x\\\": -74.857423, \\\"y\\\": 250000.0}, {\\\"x\\\": -74.858248, \\\"y\\\": 307000.0}, {\\\"x\\\": -75.075391, \\\"y\\\": 315000.0}, {\\\"x\\\": -74.879392, \\\"y\\\": 555000.0}, {\\\"x\\\": -74.770937, \\\"y\\\": 264900.0}, {\\\"x\\\": -74.645596, \\\"y\\\": 510000.0}, {\\\"x\\\": -74.725476, \\\"y\\\": 328000.0}, {\\\"x\\\": -74.658583, \\\"y\\\": 358000.0}, {\\\"x\\\": -74.764936, \\\"y\\\": 325000.0}, {\\\"x\\\": -74.491289, \\\"y\\\": 1365000.0}, {\\\"x\\\": -74.941369, \\\"y\\\": 230000.0}, {\\\"x\\\": -74.749266, \\\"y\\\": 545000.0}, {\\\"x\\\": -74.444202, \\\"y\\\": 705380.0}, {\\\"x\\\": -74.495537, \\\"y\\\": 459000.0}, {\\\"x\\\": -74.625563, \\\"y\\\": 815000.0}, {\\\"x\\\": -74.732116, \\\"y\\\": 495000.0}, {\\\"x\\\": -74.694493, \\\"y\\\": 520000.0}, {\\\"x\\\": -74.720113, \\\"y\\\": 430000.0}, {\\\"x\\\": -74.966754, \\\"y\\\": 255000.0}, {\\\"x\\\": -74.622256, \\\"y\\\": 588000.0}, {\\\"x\\\": -74.498046, \\\"y\\\": 350000.0}, {\\\"x\\\": -74.637323, \\\"y\\\": 625000.0}, {\\\"x\\\": -74.635188, \\\"y\\\": 172500.0}, {\\\"x\\\": -74.810259, \\\"y\\\": 554000.0}, {\\\"x\\\": -74.413141, \\\"y\\\": 775000.0}, {\\\"x\\\": -74.365637, \\\"y\\\": 1187500.0}, {\\\"x\\\": -74.516156, \\\"y\\\": 618000.0}, {\\\"x\\\": -74.899045, \\\"y\\\": 305000.0}, {\\\"x\\\": -74.702762, \\\"y\\\": 232000.0}, {\\\"x\\\": -74.967444, \\\"y\\\": 262000.0}, {\\\"x\\\": -74.939077, \\\"y\\\": 234000.0}, {\\\"x\\\": -74.593676, \\\"y\\\": 500000.0}, {\\\"x\\\": -74.883132, \\\"y\\\": 278000.0}, {\\\"x\\\": -74.818671, \\\"y\\\": 230000.0}, {\\\"x\\\": -74.518525, \\\"y\\\": 500000.0}, {\\\"x\\\": -74.578256, \\\"y\\\": 366500.0}, {\\\"x\\\": -74.72434, \\\"y\\\": 665000.0}, {\\\"x\\\": -74.817421, \\\"y\\\": 1101000.0}, {\\\"x\\\": -74.705234, \\\"y\\\": 575000.0}, {\\\"x\\\": -74.442406, \\\"y\\\": 674750.0}, {\\\"x\\\": -74.71757, \\\"y\\\": 719000.0}, {\\\"x\\\": -75.05105, \\\"y\\\": 482000.0}, {\\\"x\\\": -74.59846, \\\"y\\\": 254000.0}, {\\\"x\\\": -74.704693, \\\"y\\\": 443725.0}, {\\\"x\\\": -74.378894, \\\"y\\\": 575000.0}, {\\\"x\\\": -74.50044, \\\"y\\\": 469000.0}, {\\\"x\\\": -74.940205, \\\"y\\\": 175000.0}, {\\\"x\\\": -74.749624, \\\"y\\\": 437000.0}, {\\\"x\\\": -74.500708, \\\"y\\\": 550000.0}, {\\\"x\\\": -74.799445, \\\"y\\\": 172040.0}, {\\\"x\\\": -74.671323, \\\"y\\\": 363000.0}, {\\\"x\\\": -74.858436, \\\"y\\\": 282000.0}, {\\\"x\\\": -74.744111, \\\"y\\\": 400000.0}, {\\\"x\\\": -74.444177, \\\"y\\\": 650000.0}, {\\\"x\\\": -74.754045, \\\"y\\\": 365000.0}, {\\\"x\\\": -75.074332, \\\"y\\\": 269950.0}, {\\\"x\\\": -74.710083, \\\"y\\\": 260000.0}, {\\\"x\\\": -75.076976, \\\"y\\\": 193000.0}, {\\\"x\\\": -74.651367, \\\"y\\\": 340000.0}, {\\\"x\\\": -74.522718, \\\"y\\\": 900000.0}, {\\\"x\\\": -74.666085, \\\"y\\\": 371000.0}, {\\\"x\\\": -74.265893, \\\"y\\\": 592000.0}, {\\\"x\\\": -74.827833, \\\"y\\\": 300000.0}, {\\\"x\\\": -74.659485, \\\"y\\\": 449950.0}, {\\\"x\\\": -75.021273, \\\"y\\\": 299500.0}, {\\\"x\\\": -74.68376, \\\"y\\\": 995000.0}, {\\\"x\\\": -74.827583, \\\"y\\\": 335000.0}, {\\\"x\\\": -75.001874, \\\"y\\\": 280000.0}, {\\\"x\\\": -74.463858, \\\"y\\\": 446000.0}, {\\\"x\\\": -74.575869, \\\"y\\\": 1544500.0}, {\\\"x\\\": -74.737905, \\\"y\\\": 325000.0}, {\\\"x\\\": -74.511396, \\\"y\\\": 450000.0}, {\\\"x\\\": -74.647795, \\\"y\\\": 322500.0}, {\\\"x\\\": -74.574983, \\\"y\\\": 453000.0}, {\\\"x\\\": -74.524497, \\\"y\\\": 655000.0}, {\\\"x\\\": -74.629273, \\\"y\\\": 603000.0}, {\\\"x\\\": -74.977114, \\\"y\\\": 235000.0}, {\\\"x\\\": -74.486249, \\\"y\\\": 968933.0}, {\\\"x\\\": -74.446784, \\\"y\\\": 1015000.0}, {\\\"x\\\": -74.511348, \\\"y\\\": 435000.0}, {\\\"x\\\": -74.69072, \\\"y\\\": 242000.0}, {\\\"x\\\": -74.785356, \\\"y\\\": 487000.0}, {\\\"x\\\": -74.41423, \\\"y\\\": 810000.0}, {\\\"x\\\": -74.395152, \\\"y\\\": 625000.0}, {\\\"x\\\": -74.943776, \\\"y\\\": 165000.0}, {\\\"x\\\": -74.742862, \\\"y\\\": 335000.0}, {\\\"x\\\": -74.29738, \\\"y\\\": 286700.0}, {\\\"x\\\": -74.59175, \\\"y\\\": 699000.0}, {\\\"x\\\": -74.724556, \\\"y\\\": 280000.0}, {\\\"x\\\": -74.45052, \\\"y\\\": 580000.0}, {\\\"x\\\": -74.310311, \\\"y\\\": 754800.0}, {\\\"x\\\": -74.239751, \\\"y\\\": 525000.0}, {\\\"x\\\": -74.547201, \\\"y\\\": 562000.0}, {\\\"x\\\": -74.683756, \\\"y\\\": 575000.0}, {\\\"x\\\": -74.458231, \\\"y\\\": 808900.0}, {\\\"x\\\": -74.658358, \\\"y\\\": 992000.0}, {\\\"x\\\": -74.645459, \\\"y\\\": 335000.0}, {\\\"x\\\": -74.586823, \\\"y\\\": 473000.0}, {\\\"x\\\": -75.000655, \\\"y\\\": 350000.0}, {\\\"x\\\": -74.667413, \\\"y\\\": 1600000.0}, {\\\"x\\\": -74.552504, \\\"y\\\": 305500.0}, {\\\"x\\\": -74.335594, \\\"y\\\": 306000.0}, {\\\"x\\\": -74.637461, \\\"y\\\": 233000.0}, {\\\"x\\\": -74.606483, \\\"y\\\": 490000.0}, {\\\"x\\\": -74.734988, \\\"y\\\": 445000.0}, {\\\"x\\\": -74.761686, \\\"y\\\": 355000.0}, {\\\"x\\\": -74.73474, \\\"y\\\": 360000.0}, {\\\"x\\\": -74.595789, \\\"y\\\": 737500.0}, {\\\"x\\\": -74.611512, \\\"y\\\": 985000.0}, {\\\"x\\\": -74.826957, \\\"y\\\": 349950.0}, {\\\"x\\\": -74.340717, \\\"y\\\": 520000.0}, {\\\"x\\\": -74.59387, \\\"y\\\": 355950.0}, {\\\"x\\\": -74.762428, \\\"y\\\": 485000.0}, {\\\"x\\\": -74.867597, \\\"y\\\": 143000.0}, {\\\"x\\\": -74.507569, \\\"y\\\": 3278000.0}, {\\\"x\\\": -74.49072, \\\"y\\\": 355000.0}, {\\\"x\\\": -74.586889, \\\"y\\\": 1126000.0}, {\\\"x\\\": -74.639503, \\\"y\\\": 200000.0}, {\\\"x\\\": -74.389278, \\\"y\\\": 913000.0}, {\\\"x\\\": -74.601282, \\\"y\\\": 1600000.0}, {\\\"x\\\": -74.485242, \\\"y\\\": 409900.0}, {\\\"x\\\": -74.763964, \\\"y\\\": 265000.0}, {\\\"x\\\": -74.47186, \\\"y\\\": 740000.0}, {\\\"x\\\": -74.835399, \\\"y\\\": 306000.0}, {\\\"x\\\": -74.337948, \\\"y\\\": 381000.0}, {\\\"x\\\": -74.769589, \\\"y\\\": 1220000.0}, {\\\"x\\\": -74.90972, \\\"y\\\": 1050000.0}, {\\\"x\\\": -74.617426, \\\"y\\\": 408000.0}, {\\\"x\\\": -74.393818, \\\"y\\\": 739900.0}, {\\\"x\\\": -74.351944, \\\"y\\\": 674250.0}, {\\\"x\\\": -74.648262, \\\"y\\\": 438400.0}, {\\\"x\\\": -74.664068, \\\"y\\\": 1700000.0}, {\\\"x\\\": -74.802852, \\\"y\\\": 703000.0}, {\\\"x\\\": -75.066911, \\\"y\\\": 262000.0}, {\\\"x\\\": -74.283055, \\\"y\\\": 353000.0}, {\\\"x\\\": -74.47344, \\\"y\\\": 500000.0}, {\\\"x\\\": -74.79404, \\\"y\\\": 1280000.0}, {\\\"x\\\": -74.716588, \\\"y\\\": 332000.0}, {\\\"x\\\": -74.46357, \\\"y\\\": 824000.0}, {\\\"x\\\": -74.724605, \\\"y\\\": 290000.0}, {\\\"x\\\": -74.726253, \\\"y\\\": 700000.0}, {\\\"x\\\": -74.721637, \\\"y\\\": 550000.0}, {\\\"x\\\": -74.60952, \\\"y\\\": 549000.0}, {\\\"x\\\": -74.607864, \\\"y\\\": 1865000.0}, {\\\"x\\\": -74.538852, \\\"y\\\": 858000.0}, {\\\"x\\\": -74.605406, \\\"y\\\": 345000.0}, {\\\"x\\\": -74.810394, \\\"y\\\": 340000.0}, {\\\"x\\\": -74.661719, \\\"y\\\": 1215000.0}, {\\\"x\\\": -74.629053, \\\"y\\\": 275000.0}, {\\\"x\\\": -74.486246, \\\"y\\\": 405000.0}, {\\\"x\\\": -74.586063, \\\"y\\\": 432500.0}, {\\\"x\\\": -74.738648, \\\"y\\\": 236500.0}, {\\\"x\\\": -74.649325, \\\"y\\\": 679000.0}, {\\\"x\\\": -74.615819, \\\"y\\\": 543000.0}, {\\\"x\\\": -74.767669, \\\"y\\\": 294000.0}, {\\\"x\\\": -74.704237, \\\"y\\\": 340500.0}, {\\\"x\\\": -74.607346, \\\"y\\\": 1012000.0}, {\\\"x\\\": -74.472152, \\\"y\\\": 335000.0}, {\\\"x\\\": -74.468036, \\\"y\\\": 425000.0}, {\\\"x\\\": -74.823873, \\\"y\\\": 353000.0}, {\\\"x\\\": -74.428314, \\\"y\\\": 540000.0}, {\\\"x\\\": -74.448735, \\\"y\\\": 640000.0}, {\\\"x\\\": -74.487157, \\\"y\\\": 339950.0}, {\\\"x\\\": -74.323469, \\\"y\\\": 195000.0}, {\\\"x\\\": -74.323469, \\\"y\\\": 322000.0}, {\\\"x\\\": -74.560706, \\\"y\\\": 660000.0}, {\\\"x\\\": -74.888152, \\\"y\\\": 280000.0}, {\\\"x\\\": -74.888152, \\\"y\\\": 300000.0}, {\\\"x\\\": -75.062162, \\\"y\\\": 207500.0}, {\\\"x\\\": -74.854069, \\\"y\\\": 195000.0}, {\\\"x\\\": -74.705195, \\\"y\\\": 700000.0}, {\\\"x\\\": -74.810274, \\\"y\\\": 560000.0}, {\\\"x\\\": -74.853942, \\\"y\\\": 260000.0}, {\\\"x\\\": -74.853942, \\\"y\\\": 575000.0}, {\\\"x\\\": -74.422327, \\\"y\\\": 475000.0}, {\\\"x\\\": -74.739773, \\\"y\\\": 285000.0}, {\\\"x\\\": -74.451603, \\\"y\\\": 753888.0}, {\\\"x\\\": -74.442063, \\\"y\\\": 650000.0}, {\\\"x\\\": -74.694972, \\\"y\\\": 620000.0}, {\\\"x\\\": -74.428781, \\\"y\\\": 526000.0}, {\\\"x\\\": -74.682123, \\\"y\\\": 155000.0}, {\\\"x\\\": -74.459567, \\\"y\\\": 342000.0}, {\\\"x\\\": -74.204044, \\\"y\\\": 390000.0}, {\\\"x\\\": -74.39278, \\\"y\\\": 685000.0}, {\\\"x\\\": -74.348942, \\\"y\\\": 608000.0}, {\\\"x\\\": -74.802424, \\\"y\\\": 179900.0}, {\\\"x\\\": -74.693101, \\\"y\\\": 1245000.0}, {\\\"x\\\": -74.815986, \\\"y\\\": 166000.0}, {\\\"x\\\": -74.730958, \\\"y\\\": 462000.0}, {\\\"x\\\": -74.425482, \\\"y\\\": 545000.0}, {\\\"x\\\": -74.694181, \\\"y\\\": 415000.0}, {\\\"x\\\": -74.642072, \\\"y\\\": 269000.0}, {\\\"x\\\": -75.014794, \\\"y\\\": 356500.0}, {\\\"x\\\": -74.936121, \\\"y\\\": 225000.0}, {\\\"x\\\": -74.925272, \\\"y\\\": 175000.0}, {\\\"x\\\": -74.567163, \\\"y\\\": 549000.0}, {\\\"x\\\": -74.901082, \\\"y\\\": 535000.0}, {\\\"x\\\": -74.518074, \\\"y\\\": 627000.0}, {\\\"x\\\": -74.904016, \\\"y\\\": 565000.0}, {\\\"x\\\": -74.645132, \\\"y\\\": 392450.0}, {\\\"x\\\": -74.310889, \\\"y\\\": 509000.0}, {\\\"x\\\": -74.692126, \\\"y\\\": 340000.0}, {\\\"x\\\": -74.692126, \\\"y\\\": 537000.0}, {\\\"x\\\": -74.388554, \\\"y\\\": 865000.0}, {\\\"x\\\": -74.554817, \\\"y\\\": 358000.0}, {\\\"x\\\": -74.79929, \\\"y\\\": 595000.0}, {\\\"x\\\": -74.469902, \\\"y\\\": 661000.0}, {\\\"x\\\": -74.444547, \\\"y\\\": 419950.0}, {\\\"x\\\": -74.646465, \\\"y\\\": 490000.0}, {\\\"x\\\": -74.70202, \\\"y\\\": 525000.0}, {\\\"x\\\": -74.679896, \\\"y\\\": 350000.0}, {\\\"x\\\": -74.384512, \\\"y\\\": 552500.0}, {\\\"x\\\": -75.008518, \\\"y\\\": 210000.0}, {\\\"x\\\": -74.746225, \\\"y\\\": 390000.0}, {\\\"x\\\": -74.542055, \\\"y\\\": 336800.0}, {\\\"x\\\": -74.353084, \\\"y\\\": 465000.0}, {\\\"x\\\": -74.651868, \\\"y\\\": 299900.0}, {\\\"x\\\": -74.445791, \\\"y\\\": 715000.0}, {\\\"x\\\": -74.762374, \\\"y\\\": 235000.0}, {\\\"x\\\": -74.995036, \\\"y\\\": 276000.0}, {\\\"x\\\": -75.019262, \\\"y\\\": 265000.0}, {\\\"x\\\": -74.659787, \\\"y\\\": 425000.0}, {\\\"x\\\": -74.955068, \\\"y\\\": 313000.0}, {\\\"x\\\": -74.618565, \\\"y\\\": 715000.0}, {\\\"x\\\": -74.954303, \\\"y\\\": 265000.0}, {\\\"x\\\": -74.495582, \\\"y\\\": 646000.0}, {\\\"x\\\": -74.845747, \\\"y\\\": 175000.0}, {\\\"x\\\": -74.983682, \\\"y\\\": 649000.0}, {\\\"x\\\": -74.760809, \\\"y\\\": 785000.0}, {\\\"x\\\": -74.676937, \\\"y\\\": 890000.0}, {\\\"x\\\": -74.440523, \\\"y\\\": 612000.0}, {\\\"x\\\": -75.070208, \\\"y\\\": 330000.0}, {\\\"x\\\": -74.469429, \\\"y\\\": 493000.0}, {\\\"x\\\": -74.666321, \\\"y\\\": 1600000.0}, {\\\"x\\\": -74.597973, \\\"y\\\": 1619999.0}, {\\\"x\\\": -74.597973, \\\"y\\\": 1650000.0}, {\\\"x\\\": -74.707011, \\\"y\\\": 499000.0}, {\\\"x\\\": -74.623903, \\\"y\\\": 603500.0}, {\\\"x\\\": -74.801166, \\\"y\\\": 530000.0}, {\\\"x\\\": -74.603268, \\\"y\\\": 895000.0}, {\\\"x\\\": -75.06263, \\\"y\\\": 267345.0}, {\\\"x\\\": -74.273988, \\\"y\\\": 275000.0}, {\\\"x\\\": -74.187186, \\\"y\\\": 439950.0}, {\\\"x\\\": -74.45088, \\\"y\\\": 455000.0}, {\\\"x\\\": -74.599575, \\\"y\\\": 630000.0}, {\\\"x\\\": -74.438991, \\\"y\\\": 690000.0}, {\\\"x\\\": -75.079881, \\\"y\\\": 212000.0}, {\\\"x\\\": -74.807119, \\\"y\\\": 231500.0}, {\\\"x\\\": -74.401202, \\\"y\\\": 1237500.0}, {\\\"x\\\": -74.825274, \\\"y\\\": 378500.0}, {\\\"x\\\": -74.646979, \\\"y\\\": 482000.0}, {\\\"x\\\": -74.677941, \\\"y\\\": 695000.0}, {\\\"x\\\": -74.360899, \\\"y\\\": 965000.0}, {\\\"x\\\": -74.757989, \\\"y\\\": 675000.0}, {\\\"x\\\": -74.475199, \\\"y\\\": 387000.0}, {\\\"x\\\": -74.684779, \\\"y\\\": 347500.0}, {\\\"x\\\": -74.891814, \\\"y\\\": 385000.0}, {\\\"x\\\": -74.852654, \\\"y\\\": 265000.0}, {\\\"x\\\": -74.620582, \\\"y\\\": 406000.0}, {\\\"x\\\": -73.651468, \\\"y\\\": 134000.0}, {\\\"x\\\": -74.668159, \\\"y\\\": 415000.0}, {\\\"x\\\": -74.447205, \\\"y\\\": 375000.0}, {\\\"x\\\": -74.390165, \\\"y\\\": 620000.0}, {\\\"x\\\": -74.670198, \\\"y\\\": 337500.0}, {\\\"x\\\": -74.576892, \\\"y\\\": 565000.0}, {\\\"x\\\": -74.294202, \\\"y\\\": 399500.0}, {\\\"x\\\": -74.596252, \\\"y\\\": 1065000.0}, {\\\"x\\\": -74.668401, \\\"y\\\": 352500.0}, {\\\"x\\\": -74.816433, \\\"y\\\": 259000.0}, {\\\"x\\\": -74.815882, \\\"y\\\": 320000.0}, {\\\"x\\\": -74.471097, \\\"y\\\": 733000.0}, {\\\"x\\\": -74.636405, \\\"y\\\": 381500.0}, {\\\"x\\\": -74.724594, \\\"y\\\": 343000.0}, {\\\"x\\\": -74.780547, \\\"y\\\": 205500.0}, {\\\"x\\\": -74.433881, \\\"y\\\": 525000.0}, {\\\"x\\\": -74.702774, \\\"y\\\": 300000.0}, {\\\"x\\\": -74.365372, \\\"y\\\": 299000.0}, {\\\"x\\\": -74.423522, \\\"y\\\": 561000.0}, {\\\"x\\\": -74.714642, \\\"y\\\": 450000.0}, {\\\"x\\\": -74.411094, \\\"y\\\": 540000.0}, {\\\"x\\\": -74.24704, \\\"y\\\": 379000.0}, {\\\"x\\\": -74.90048, \\\"y\\\": 230000.0}, {\\\"x\\\": -74.718217, \\\"y\\\": 399950.0}, {\\\"x\\\": -74.731266, \\\"y\\\": 355000.0}, {\\\"x\\\": -74.523798, \\\"y\\\": 580000.0}, {\\\"x\\\": -74.716015, \\\"y\\\": 700000.0}, {\\\"x\\\": -74.944723, \\\"y\\\": 279900.0}, {\\\"x\\\": -74.78264, \\\"y\\\": 210000.0}, {\\\"x\\\": -74.681732, \\\"y\\\": 1165000.0}, {\\\"x\\\": -74.720688, \\\"y\\\": 290300.0}, {\\\"x\\\": -74.58217, \\\"y\\\": 1599950.0}, {\\\"x\\\": -74.615243, \\\"y\\\": 490000.0}, {\\\"x\\\": -74.527289, \\\"y\\\": 606000.0}, {\\\"x\\\": -74.635532, \\\"y\\\": 359950.0}, {\\\"x\\\": -74.432974, \\\"y\\\": 677100.0}, {\\\"x\\\": -74.433249, \\\"y\\\": 465000.0}, {\\\"x\\\": -74.53066, \\\"y\\\": 4500000.0}, {\\\"x\\\": -74.577309, \\\"y\\\": 500000.0}, {\\\"x\\\": -74.526793, \\\"y\\\": 455000.0}, {\\\"x\\\": -74.632035, \\\"y\\\": 705000.0}, {\\\"x\\\": -74.606709, \\\"y\\\": 420000.0}, {\\\"x\\\": -74.973464, \\\"y\\\": 169575.0}, {\\\"x\\\": -74.973464, \\\"y\\\": 250000.0}, {\\\"x\\\": -74.512459, \\\"y\\\": 530000.0}, {\\\"x\\\": -74.572394, \\\"y\\\": 590000.0}, {\\\"x\\\": -74.728495, \\\"y\\\": 257500.0}, {\\\"x\\\": -74.577665, \\\"y\\\": 415000.0}, {\\\"x\\\": -74.724733, \\\"y\\\": 536000.0}, {\\\"x\\\": -74.788518, \\\"y\\\": 246500.0}, {\\\"x\\\": -74.479674, \\\"y\\\": 395000.0}, {\\\"x\\\": -74.460017, \\\"y\\\": 739000.0}, {\\\"x\\\": -74.530464, \\\"y\\\": 1272000.0}, {\\\"x\\\": -75.026754, \\\"y\\\": 190000.0}, {\\\"x\\\": -74.850889, \\\"y\\\": 305000.0}, {\\\"x\\\": -74.473661, \\\"y\\\": 925000.0}, {\\\"x\\\": -74.68408, \\\"y\\\": 895000.0}, {\\\"x\\\": -74.598751, \\\"y\\\": 656000.0}, {\\\"x\\\": -74.694587, \\\"y\\\": 560000.0}, {\\\"x\\\": -74.420381, \\\"y\\\": 610000.0}, {\\\"x\\\": -74.407166, \\\"y\\\": 645000.0}, {\\\"x\\\": -74.995414, \\\"y\\\": 259000.0}, {\\\"x\\\": -74.52974, \\\"y\\\": 980000.0}, {\\\"x\\\": -74.651199, \\\"y\\\": 872000.0}, {\\\"x\\\": -74.639956, \\\"y\\\": 1000000.0}, {\\\"x\\\": -74.522048, \\\"y\\\": 900000.0}, {\\\"x\\\": -74.660353, \\\"y\\\": 475000.0}, {\\\"x\\\": -74.782828, \\\"y\\\": 350000.0}, {\\\"x\\\": -74.727538, \\\"y\\\": 840000.0}, {\\\"x\\\": -74.618742, \\\"y\\\": 500000.0}, {\\\"x\\\": -74.904122, \\\"y\\\": 202500.0}, {\\\"x\\\": -74.563419, \\\"y\\\": 523000.0}, {\\\"x\\\": -74.968811, \\\"y\\\": 225000.0}, {\\\"x\\\": -74.918707, \\\"y\\\": 418200.0}, {\\\"x\\\": -74.505061, \\\"y\\\": 356500.0}, {\\\"x\\\": -74.641911, \\\"y\\\": 670000.0}, {\\\"x\\\": -74.549558, \\\"y\\\": 456150.0}, {\\\"x\\\": -74.313794, \\\"y\\\": 471000.0}, {\\\"x\\\": -74.797604, \\\"y\\\": 558000.0}, {\\\"x\\\": -74.556243, \\\"y\\\": 1380000.0}, {\\\"x\\\": -74.932567, \\\"y\\\": 161500.0}, {\\\"x\\\": -74.512527, \\\"y\\\": 311000.0}, {\\\"x\\\": -74.461969, \\\"y\\\": 470000.0}, {\\\"x\\\": -74.749101, \\\"y\\\": 569000.0}, {\\\"x\\\": -74.448284, \\\"y\\\": 689000.0}, {\\\"x\\\": -74.327232, \\\"y\\\": 271900.0}, {\\\"x\\\": -74.831943, \\\"y\\\": 278000.0}, {\\\"x\\\": -74.669539, \\\"y\\\": 820000.0}, {\\\"x\\\": -74.638619, \\\"y\\\": 399500.0}, {\\\"x\\\": -74.503658, \\\"y\\\": 462000.0}, {\\\"x\\\": -74.730873, \\\"y\\\": 347500.0}, {\\\"x\\\": -74.693601, \\\"y\\\": 562100.0}, {\\\"x\\\": -74.726187, \\\"y\\\": 230000.0}, {\\\"x\\\": -74.494842, \\\"y\\\": 687000.0}, {\\\"x\\\": -74.495588, \\\"y\\\": 725786.0}, {\\\"x\\\": -74.357499, \\\"y\\\": 315500.0}, {\\\"x\\\": -74.861556, \\\"y\\\": 312000.0}, {\\\"x\\\": -74.644475, \\\"y\\\": 343000.0}, {\\\"x\\\": -74.740646, \\\"y\\\": 385195.0}, {\\\"x\\\": -74.664762, \\\"y\\\": 415000.0}, {\\\"x\\\": -74.477515, \\\"y\\\": 461000.0}, {\\\"x\\\": -74.696139, \\\"y\\\": 369990.0}, {\\\"x\\\": -74.250288, \\\"y\\\": 349950.0}, {\\\"x\\\": -74.765931, \\\"y\\\": 285750.0}, {\\\"x\\\": -74.567112, \\\"y\\\": 542500.0}, {\\\"x\\\": -74.408888, \\\"y\\\": 830000.0}, {\\\"x\\\": -74.531018, \\\"y\\\": 705000.0}, {\\\"x\\\": -74.710532, \\\"y\\\": 615000.0}, {\\\"x\\\": -74.764311, \\\"y\\\": 184500.0}, {\\\"x\\\": -74.707658, \\\"y\\\": 412000.0}, {\\\"x\\\": -74.81694, \\\"y\\\": 250000.0}, {\\\"x\\\": -74.636333, \\\"y\\\": 580000.0}, {\\\"x\\\": -74.73165, \\\"y\\\": 220000.0}, {\\\"x\\\": -74.545015, \\\"y\\\": 675000.0}, {\\\"x\\\": -74.701366, \\\"y\\\": 373500.0}, {\\\"x\\\": -74.714452, \\\"y\\\": 662700.0}, {\\\"x\\\": -74.795195, \\\"y\\\": 239950.0}, {\\\"x\\\": -74.483378, \\\"y\\\": 383000.0}, {\\\"x\\\": -74.501137, \\\"y\\\": 485000.0}, {\\\"x\\\": -74.461371, \\\"y\\\": 610000.0}, {\\\"x\\\": -74.81063, \\\"y\\\": 545000.0}, {\\\"x\\\": -74.676375, \\\"y\\\": 780000.0}, {\\\"x\\\": -74.760869, \\\"y\\\": 305000.0}, {\\\"x\\\": -74.401476, \\\"y\\\": 405000.0}, {\\\"x\\\": -74.327439, \\\"y\\\": 1110000.0}, {\\\"x\\\": -74.723044, \\\"y\\\": 273000.0}, {\\\"x\\\": -74.429567, \\\"y\\\": 326500.0}, {\\\"x\\\": -74.68474, \\\"y\\\": 365000.0}, {\\\"x\\\": -74.546431, \\\"y\\\": 1000750.0}, {\\\"x\\\": -74.692314, \\\"y\\\": 422500.0}, {\\\"x\\\": -74.921451, \\\"y\\\": 354450.0}, {\\\"x\\\": -74.316872, \\\"y\\\": 320000.0}, {\\\"x\\\": -74.930231, \\\"y\\\": 223000.0}, {\\\"x\\\": -74.328198, \\\"y\\\": 410000.0}, {\\\"x\\\": -74.7113, \\\"y\\\": 438000.0}, {\\\"x\\\": -74.733301, \\\"y\\\": 390000.0}, {\\\"x\\\": -74.864734, \\\"y\\\": 298500.0}, {\\\"x\\\": -74.558861, \\\"y\\\": 749999.0}, {\\\"x\\\": -74.586773, \\\"y\\\": 779000.0}, {\\\"x\\\": -74.532152, \\\"y\\\": 570000.0}, {\\\"x\\\": -74.745085, \\\"y\\\": 385000.0}, {\\\"x\\\": -74.475323, \\\"y\\\": 649000.0}, {\\\"x\\\": -74.824122, \\\"y\\\": 283000.0}, {\\\"x\\\": -74.507278, \\\"y\\\": 699900.0}, {\\\"x\\\": -74.724378, \\\"y\\\": 278500.0}, {\\\"x\\\": -74.468249, \\\"y\\\": 700000.0}, {\\\"x\\\": -74.249804, \\\"y\\\": 535000.0}, {\\\"x\\\": -74.798978, \\\"y\\\": 234500.0}, {\\\"x\\\": -74.597842, \\\"y\\\": 374150.0}, {\\\"x\\\": -74.916788, \\\"y\\\": 397000.0}, {\\\"x\\\": -74.535419, \\\"y\\\": 613000.0}, {\\\"x\\\": -74.587512, \\\"y\\\": 1150000.0}, {\\\"x\\\": -74.651676, \\\"y\\\": 595000.0}, {\\\"x\\\": -74.808746, \\\"y\\\": 340000.0}, {\\\"x\\\": -74.678089, \\\"y\\\": 388000.0}, {\\\"x\\\": -74.920887, \\\"y\\\": 404000.0}, {\\\"x\\\": -74.593379, \\\"y\\\": 810000.0}, {\\\"x\\\": -74.713782, \\\"y\\\": 405000.0}, {\\\"x\\\": -74.421071, \\\"y\\\": 726000.0}, {\\\"x\\\": -74.815622, \\\"y\\\": 266000.0}, {\\\"x\\\": -74.597008, \\\"y\\\": 722500.0}, {\\\"x\\\": -74.96973, \\\"y\\\": 352000.0}, {\\\"x\\\": -74.9386, \\\"y\\\": 265000.0}, {\\\"x\\\": -74.838989, \\\"y\\\": 856000.0}, {\\\"x\\\": -74.647326, \\\"y\\\": 346950.0}, {\\\"x\\\": -74.562201, \\\"y\\\": 866059.0}, {\\\"x\\\": -74.32263, \\\"y\\\": 410000.0}, {\\\"x\\\": -74.284755, \\\"y\\\": 370000.0}, {\\\"x\\\": -74.833015, \\\"y\\\": 230000.0}, {\\\"x\\\": -74.669584, \\\"y\\\": 400000.0}, {\\\"x\\\": -75.018181, \\\"y\\\": 172000.0}, {\\\"x\\\": -74.560704, \\\"y\\\": 615000.0}, {\\\"x\\\": -74.38612, \\\"y\\\": 860000.0}, {\\\"x\\\": -74.828361, \\\"y\\\": 555000.0}, {\\\"x\\\": -74.667346, \\\"y\\\": 579000.0}, {\\\"x\\\": -74.457902, \\\"y\\\": 385000.0}, {\\\"x\\\": -74.397894, \\\"y\\\": 420000.0}, {\\\"x\\\": -74.639104, \\\"y\\\": 645000.0}, {\\\"x\\\": -74.584673, \\\"y\\\": 549950.0}, {\\\"x\\\": -74.504593, \\\"y\\\": 678000.0}, {\\\"x\\\": -74.761867, \\\"y\\\": 199000.0}, {\\\"x\\\": -74.653447, \\\"y\\\": 604000.0}, {\\\"x\\\": -74.661529, \\\"y\\\": 268000.0}, {\\\"x\\\": -74.376813, \\\"y\\\": 960000.0}, {\\\"x\\\": -74.430532, \\\"y\\\": 509250.0}, {\\\"x\\\": -74.458473, \\\"y\\\": 416000.0}, {\\\"x\\\": -74.970659, \\\"y\\\": 190000.0}, {\\\"x\\\": -75.006191, \\\"y\\\": 212000.0}, {\\\"x\\\": -75.03983, \\\"y\\\": 325900.0}, {\\\"x\\\": -74.848575, \\\"y\\\": 560000.0}, {\\\"x\\\": -74.827061, \\\"y\\\": 275000.0}, {\\\"x\\\": -74.621954, \\\"y\\\": 665000.0}, {\\\"x\\\": -74.70518, \\\"y\\\": 1505000.0}, {\\\"x\\\": -74.835616, \\\"y\\\": 375000.0}, {\\\"x\\\": -74.856023, \\\"y\\\": 359950.0}, {\\\"x\\\": -74.917966, \\\"y\\\": 340000.0}, {\\\"x\\\": -74.664491, \\\"y\\\": 401000.0}, {\\\"x\\\": -74.926514, \\\"y\\\": 669000.0}, {\\\"x\\\": -74.397037, \\\"y\\\": 638500.0}, {\\\"x\\\": -74.689815, \\\"y\\\": 545000.0}, {\\\"x\\\": -74.459189, \\\"y\\\": 524000.0}, {\\\"x\\\": -74.628544, \\\"y\\\": 1610000.0}, {\\\"x\\\": -74.85679, \\\"y\\\": 280000.0}, {\\\"x\\\": -74.599594, \\\"y\\\": 828000.0}, {\\\"x\\\": -75.075953, \\\"y\\\": 223000.0}, {\\\"x\\\": -74.550905, \\\"y\\\": 1289000.0}, {\\\"x\\\": -74.233157, \\\"y\\\": 750000.0}, {\\\"x\\\": -74.567786, \\\"y\\\": 430000.0}, {\\\"x\\\": -74.645526, \\\"y\\\": 711000.0}, {\\\"x\\\": -74.770463, \\\"y\\\": 310000.0}, {\\\"x\\\": -74.749351, \\\"y\\\": 415000.0}, {\\\"x\\\": -74.818801, \\\"y\\\": 274900.0}, {\\\"x\\\": -74.531137, \\\"y\\\": 525000.0}, {\\\"x\\\": -74.866416, \\\"y\\\": 179500.0}, {\\\"x\\\": -74.647636, \\\"y\\\": 478000.0}, {\\\"x\\\": -74.724364, \\\"y\\\": 195000.0}, {\\\"x\\\": -74.671374, \\\"y\\\": 385000.0}, {\\\"x\\\": -74.4568, \\\"y\\\": 401000.0}, {\\\"x\\\": -74.64613, \\\"y\\\": 522000.0}, {\\\"x\\\": -74.282879, \\\"y\\\": 330000.0}, {\\\"x\\\": -74.542015, \\\"y\\\": 503000.0}, {\\\"x\\\": -75.003368, \\\"y\\\": 175000.0}, {\\\"x\\\": -74.331642, \\\"y\\\": 963990.0}, {\\\"x\\\": -74.581654, \\\"y\\\": 845000.0}, {\\\"x\\\": -74.799121, \\\"y\\\": 157500.0}, {\\\"x\\\": -74.70306, \\\"y\\\": 450000.0}, {\\\"x\\\": -74.586311, \\\"y\\\": 925000.0}, {\\\"x\\\": -74.592583, \\\"y\\\": 600000.0}, {\\\"x\\\": -74.670644, \\\"y\\\": 709000.0}, {\\\"x\\\": -74.762205, \\\"y\\\": 1385000.0}, {\\\"x\\\": -74.86659, \\\"y\\\": 248000.0}, {\\\"x\\\": -74.651753, \\\"y\\\": 245000.0}, {\\\"x\\\": -74.75262, \\\"y\\\": 332000.0}, {\\\"x\\\": -74.341399, \\\"y\\\": 459950.0}, {\\\"x\\\": -74.684102, \\\"y\\\": 425000.0}, {\\\"x\\\": -74.312055, \\\"y\\\": 460000.0}, {\\\"x\\\": -74.683534, \\\"y\\\": 838300.0}, {\\\"x\\\": -74.710247, \\\"y\\\": 256000.0}, {\\\"x\\\": -74.545178, \\\"y\\\": 864000.0}, {\\\"x\\\": -74.837912, \\\"y\\\": 900000.0}, {\\\"x\\\": -74.726298, \\\"y\\\": 145600.0}, {\\\"x\\\": -74.606906, \\\"y\\\": 865000.0}, {\\\"x\\\": -75.072254, \\\"y\\\": 250250.0}, {\\\"x\\\": -74.675066, \\\"y\\\": 162000.0}, {\\\"x\\\": -74.493556, \\\"y\\\": 450000.0}, {\\\"x\\\": -74.560338, \\\"y\\\": 675500.0}, {\\\"x\\\": -74.608735, \\\"y\\\": 697000.0}, {\\\"x\\\": -74.615275, \\\"y\\\": 1324050.0}, {\\\"x\\\": -74.474563, \\\"y\\\": 490000.0}, {\\\"x\\\": -74.628855, \\\"y\\\": 590000.0}, {\\\"x\\\": -75.020788, \\\"y\\\": 280000.0}, {\\\"x\\\": -74.83823, \\\"y\\\": 515000.0}, {\\\"x\\\": -74.627318, \\\"y\\\": 576000.0}, {\\\"x\\\": -74.451235, \\\"y\\\": 375000.0}, {\\\"x\\\": -74.42682, \\\"y\\\": 478000.0}, {\\\"x\\\": -74.726305, \\\"y\\\": 282000.0}, {\\\"x\\\": -74.66333, \\\"y\\\": 1400000.0}, {\\\"x\\\": -74.538933, \\\"y\\\": 593500.0}, {\\\"x\\\": -74.213385, \\\"y\\\": 724950.0}, {\\\"x\\\": -74.690982, \\\"y\\\": 306000.0}, {\\\"x\\\": -74.680731, \\\"y\\\": 341000.0}, {\\\"x\\\": -74.812236, \\\"y\\\": 399950.0}, {\\\"x\\\": -74.699125, \\\"y\\\": 534000.0}, {\\\"x\\\": -74.356175, \\\"y\\\": 635000.0}, {\\\"x\\\": -74.659508, \\\"y\\\": 350000.0}, {\\\"x\\\": -74.68119, \\\"y\\\": 856000.0}, {\\\"x\\\": -74.683526, \\\"y\\\": 582000.0}, {\\\"x\\\": -74.422532, \\\"y\\\": 799000.0}, {\\\"x\\\": -74.342519, \\\"y\\\": 423700.0}, {\\\"x\\\": -74.579074, \\\"y\\\": 1835000.0}, {\\\"x\\\": -74.583514, \\\"y\\\": 322000.0}, {\\\"x\\\": -74.363823, \\\"y\\\": 929000.0}, {\\\"x\\\": -74.618028, \\\"y\\\": 443000.0}, {\\\"x\\\": -74.466129, \\\"y\\\": 441500.0}, {\\\"x\\\": -74.426432, \\\"y\\\": 875000.0}, {\\\"x\\\": -74.694809, \\\"y\\\": 3600000.0}, {\\\"x\\\": -74.622264, \\\"y\\\": 450000.0}, {\\\"x\\\": -74.518254, \\\"y\\\": 425000.0}, {\\\"x\\\": -74.42532, \\\"y\\\": 660000.0}, {\\\"x\\\": -74.623288, \\\"y\\\": 763101.0}, {\\\"x\\\": -74.226773, \\\"y\\\": 499000.0}, {\\\"x\\\": -74.374137, \\\"y\\\": 521000.0}, {\\\"x\\\": -74.860083, \\\"y\\\": 302000.0}, {\\\"x\\\": -74.664577, \\\"y\\\": 293000.0}, {\\\"x\\\": -74.233729, \\\"y\\\": 335000.0}, {\\\"x\\\": -74.670963, \\\"y\\\": 499000.0}, {\\\"x\\\": -74.623642, \\\"y\\\": 600000.0}, {\\\"x\\\": -74.5766, \\\"y\\\": 720000.0}, {\\\"x\\\": -74.670028, \\\"y\\\": 195000.0}, {\\\"x\\\": -74.870367, \\\"y\\\": 249000.0}, {\\\"x\\\": -74.241693, \\\"y\\\": 334000.0}, {\\\"x\\\": -74.603779, \\\"y\\\": 599950.0}, {\\\"x\\\": -74.940863, \\\"y\\\": 149900.0}, {\\\"x\\\": -74.58418, \\\"y\\\": 700000.0}, {\\\"x\\\": -74.682058, \\\"y\\\": 525000.0}, {\\\"x\\\": -74.533827, \\\"y\\\": 1049000.0}, {\\\"x\\\": -74.453221, \\\"y\\\": 402000.0}, {\\\"x\\\": -74.648723, \\\"y\\\": 450000.0}, {\\\"x\\\": -74.533676, \\\"y\\\": 520000.0}, {\\\"x\\\": -75.079881, \\\"y\\\": 205000.0}, {\\\"x\\\": -74.58476, \\\"y\\\": 635000.0}, {\\\"x\\\": -75.020199, \\\"y\\\": 210500.0}, {\\\"x\\\": -74.807311, \\\"y\\\": 406650.0}, {\\\"x\\\": -74.715718, \\\"y\\\": 350000.0}, {\\\"x\\\": -74.608505, \\\"y\\\": 425000.0}, {\\\"x\\\": -74.429896, \\\"y\\\": 798000.0}, {\\\"x\\\": -74.666089, \\\"y\\\": 180000.0}, {\\\"x\\\": -74.686225, \\\"y\\\": 1250000.0}, {\\\"x\\\": -74.636134, \\\"y\\\": 435000.0}, {\\\"x\\\": -74.485314, \\\"y\\\": 355000.0}, {\\\"x\\\": -74.566007, \\\"y\\\": 3000000.0}, {\\\"x\\\": -74.527585, \\\"y\\\": 685000.0}, {\\\"x\\\": -74.657439, \\\"y\\\": 311000.0}, {\\\"x\\\": -74.799445, \\\"y\\\": 305000.0}, {\\\"x\\\": -74.711622, \\\"y\\\": 675000.0}, {\\\"x\\\": -74.659117, \\\"y\\\": 769000.0}, {\\\"x\\\": -74.56235, \\\"y\\\": 430000.0}, {\\\"x\\\": -74.456672, \\\"y\\\": 516250.0}, {\\\"x\\\": -74.555332, \\\"y\\\": 760000.0}, {\\\"x\\\": -74.641612, \\\"y\\\": 579950.0}, {\\\"x\\\": -74.595269, \\\"y\\\": 476000.0}, {\\\"x\\\": -74.528431, \\\"y\\\": 510000.0}, {\\\"x\\\": -74.832979, \\\"y\\\": 205000.0}, {\\\"x\\\": -74.924633, \\\"y\\\": 240000.0}, {\\\"x\\\": -74.908347, \\\"y\\\": 738000.0}, {\\\"x\\\": -74.556483, \\\"y\\\": 420000.0}, {\\\"x\\\": -74.464591, \\\"y\\\": 455000.0}, {\\\"x\\\": -74.713061, \\\"y\\\": 765000.0}, {\\\"x\\\": -74.6485, \\\"y\\\": 372000.0}, {\\\"x\\\": -74.739171, \\\"y\\\": 160000.0}, {\\\"x\\\": -74.395062, \\\"y\\\": 772000.0}, {\\\"x\\\": -74.686144, \\\"y\\\": 1125000.0}, {\\\"x\\\": -74.688853, \\\"y\\\": 479000.0}, {\\\"x\\\": -74.417089, \\\"y\\\": 570000.0}, {\\\"x\\\": -74.560893, \\\"y\\\": 350000.0}, {\\\"x\\\": -74.619979, \\\"y\\\": 353000.0}, {\\\"x\\\": -74.609965, \\\"y\\\": 699000.0}, {\\\"x\\\": -74.897142, \\\"y\\\": 265000.0}, {\\\"x\\\": -73.602041, \\\"y\\\": 167000.0}, {\\\"x\\\": -74.486645, \\\"y\\\": 500000.0}, {\\\"x\\\": -74.709891, \\\"y\\\": 700000.0}, {\\\"x\\\": -74.837293, \\\"y\\\": 295000.0}, {\\\"x\\\": -74.608536, \\\"y\\\": 1010000.0}, {\\\"x\\\": -74.717412, \\\"y\\\": 209000.0}, {\\\"x\\\": -75.020589, \\\"y\\\": 276000.0}, {\\\"x\\\": -74.667654, \\\"y\\\": 380000.0}, {\\\"x\\\": -74.335797, \\\"y\\\": 315000.0}, {\\\"x\\\": -74.29988, \\\"y\\\": 685530.0}, {\\\"x\\\": -74.782835, \\\"y\\\": 254600.0}, {\\\"x\\\": -74.690098, \\\"y\\\": 230000.0}, {\\\"x\\\": -74.643252, \\\"y\\\": 335000.0}, {\\\"x\\\": -74.437124, \\\"y\\\": 550000.0}, {\\\"x\\\": -74.92247, \\\"y\\\": 123300.0}, {\\\"x\\\": -74.814445, \\\"y\\\": 275436.0}, {\\\"x\\\": -74.836779, \\\"y\\\": 325000.0}, {\\\"x\\\": -74.353031, \\\"y\\\": 635000.0}, {\\\"x\\\": -74.700622, \\\"y\\\": 513000.0}, {\\\"x\\\": -74.45606, \\\"y\\\": 580000.0}, {\\\"x\\\": -74.899609, \\\"y\\\": 225000.0}, {\\\"x\\\": -74.809059, \\\"y\\\": 265000.0}, {\\\"x\\\": -74.709009, \\\"y\\\": 313000.0}, {\\\"x\\\": -74.601885, \\\"y\\\": 296000.0}, {\\\"x\\\": -74.540479, \\\"y\\\": 655500.0}, {\\\"x\\\": -74.897483, \\\"y\\\": 250750.0}, {\\\"x\\\": -74.648178, \\\"y\\\": 438000.0}, {\\\"x\\\": -74.357152, \\\"y\\\": 590000.0}, {\\\"x\\\": -74.604703, \\\"y\\\": 329500.0}, {\\\"x\\\": -74.59197, \\\"y\\\": 1195000.0}, {\\\"x\\\": -74.732981, \\\"y\\\": 415000.0}, {\\\"x\\\": -74.394487, \\\"y\\\": 900000.0}, {\\\"x\\\": -74.299373, \\\"y\\\": 378000.0}, {\\\"x\\\": -74.837228, \\\"y\\\": 474000.0}, {\\\"x\\\": -74.682948, \\\"y\\\": 464000.0}, {\\\"x\\\": -74.550682, \\\"y\\\": 310000.0}, {\\\"x\\\": -74.620101, \\\"y\\\": 580000.0}, {\\\"x\\\": -75.135811, \\\"y\\\": 999000.0}, {\\\"x\\\": -74.74861, \\\"y\\\": 510000.0}, {\\\"x\\\": -74.59992, \\\"y\\\": 650000.0}, {\\\"x\\\": -75.069274, \\\"y\\\": 196000.0}, {\\\"x\\\": -74.837124, \\\"y\\\": 220000.0}, {\\\"x\\\": -74.543022, \\\"y\\\": 855000.0}, {\\\"x\\\": -74.511693, \\\"y\\\": 483000.0}, {\\\"x\\\": -74.579809, \\\"y\\\": 400000.0}, {\\\"x\\\": -74.451118, \\\"y\\\": 435000.0}, {\\\"x\\\": -74.82383, \\\"y\\\": 219500.0}, {\\\"x\\\": -74.613239, \\\"y\\\": 2950000.0}, {\\\"x\\\": -74.582327, \\\"y\\\": 427000.0}, {\\\"x\\\": -74.672469, \\\"y\\\": 430000.0}, {\\\"x\\\": -74.672469, \\\"y\\\": 685000.0}, {\\\"x\\\": -74.742871, \\\"y\\\": 495000.0}, {\\\"x\\\": -74.936789, \\\"y\\\": 299950.0}, {\\\"x\\\": -74.856846, \\\"y\\\": 390000.0}, {\\\"x\\\": -74.741653, \\\"y\\\": 385000.0}, {\\\"x\\\": -74.513679, \\\"y\\\": 740000.0}, {\\\"x\\\": -74.840516, \\\"y\\\": 991700.0}, {\\\"x\\\": -74.683944, \\\"y\\\": 765000.0}, {\\\"x\\\": -74.593792, \\\"y\\\": 802000.0}, {\\\"x\\\": -74.608329, \\\"y\\\": 950000.0}, {\\\"x\\\": -74.766701, \\\"y\\\": 392000.0}, {\\\"x\\\": -74.285594, \\\"y\\\": 590000.0}, {\\\"x\\\": -74.854379, \\\"y\\\": 425000.0}, {\\\"x\\\": -74.875433, \\\"y\\\": 765000.0}, {\\\"x\\\": -74.436759, \\\"y\\\": 313500.0}, {\\\"x\\\": -74.572492, \\\"y\\\": 320000.0}, {\\\"x\\\": -74.760614, \\\"y\\\": 604000.0}, {\\\"x\\\": -74.678441, \\\"y\\\": 570000.0}, {\\\"x\\\": -74.378151, \\\"y\\\": 639000.0}, {\\\"x\\\": -74.6522, \\\"y\\\": 335000.0}, {\\\"x\\\": -74.633945, \\\"y\\\": 896000.0}, {\\\"x\\\": -74.839609, \\\"y\\\": 259500.0}, {\\\"x\\\": -74.591002, \\\"y\\\": 637000.0}, {\\\"x\\\": -75.074954, \\\"y\\\": 307450.0}, {\\\"x\\\": -74.71649, \\\"y\\\": 535000.0}, {\\\"x\\\": -74.693618, \\\"y\\\": 669500.0}, {\\\"x\\\": -74.87293, \\\"y\\\": 259000.0}, {\\\"x\\\": -74.691291, \\\"y\\\": 441000.0}, {\\\"x\\\": -74.743634, \\\"y\\\": 228800.0}, {\\\"x\\\": -74.303032, \\\"y\\\": 530000.0}, {\\\"x\\\": -74.648757, \\\"y\\\": 524000.0}, {\\\"x\\\": -74.818239, \\\"y\\\": 430000.0}, {\\\"x\\\": -74.677146, \\\"y\\\": 1325000.0}, {\\\"x\\\": -74.805613, \\\"y\\\": 210000.0}, {\\\"x\\\": -74.834233, \\\"y\\\": 449000.0}, {\\\"x\\\": -74.839727, \\\"y\\\": 945000.0}, {\\\"x\\\": -74.83468, \\\"y\\\": 200450.0}, {\\\"x\\\": -74.897265, \\\"y\\\": 219950.0}, {\\\"x\\\": -74.618963, \\\"y\\\": 659500.0}, {\\\"x\\\": -74.472735, \\\"y\\\": 746000.0}, {\\\"x\\\": -74.380111, \\\"y\\\": 540000.0}, {\\\"x\\\": -74.641611, \\\"y\\\": 485000.0}, {\\\"x\\\": -74.855434, \\\"y\\\": 202000.0}, {\\\"x\\\": -74.589154, \\\"y\\\": 2525000.0}, {\\\"x\\\": -74.480441, \\\"y\\\": 502000.0}, {\\\"x\\\": -74.998756, \\\"y\\\": 279000.0}, {\\\"x\\\": -74.660302, \\\"y\\\": 409500.0}, {\\\"x\\\": -74.473479, \\\"y\\\": 453000.0}, {\\\"x\\\": -74.844504, \\\"y\\\": 367000.0}, {\\\"x\\\": -74.685257, \\\"y\\\": 550000.0}, {\\\"x\\\": -74.797124, \\\"y\\\": 273500.0}, {\\\"x\\\": -74.595004, \\\"y\\\": 505000.0}, {\\\"x\\\": -74.395278, \\\"y\\\": 770000.0}, {\\\"x\\\": -74.534421, \\\"y\\\": 565000.0}, {\\\"x\\\": -74.316565, \\\"y\\\": 316000.0}, {\\\"x\\\": -74.939584, \\\"y\\\": 160000.0}, {\\\"x\\\": -74.88494, \\\"y\\\": 170000.0}, {\\\"x\\\": -74.88494, \\\"y\\\": 235000.0}, {\\\"x\\\": -74.518202, \\\"y\\\": 1799000.0}, {\\\"x\\\": -74.474315, \\\"y\\\": 310000.0}, {\\\"x\\\": -74.745128, \\\"y\\\": 285000.0}, {\\\"x\\\": -74.667729, \\\"y\\\": 280000.0}, {\\\"x\\\": -74.639164, \\\"y\\\": 2298000.0}, {\\\"x\\\": -74.475497, \\\"y\\\": 763776.0}, {\\\"x\\\": -74.907555, \\\"y\\\": 530000.0}, {\\\"x\\\": -74.16118, \\\"y\\\": 362000.0}, {\\\"x\\\": -74.674426, \\\"y\\\": 430000.0}, {\\\"x\\\": -74.704352, \\\"y\\\": 456500.0}, {\\\"x\\\": -74.60521, \\\"y\\\": 445000.0}, {\\\"x\\\": -74.475925, \\\"y\\\": 386900.0}, {\\\"x\\\": -74.574283, \\\"y\\\": 479000.0}, {\\\"x\\\": -74.334998, \\\"y\\\": 525000.0}, {\\\"x\\\": -75.021062, \\\"y\\\": 272000.0}, {\\\"x\\\": -74.591045, \\\"y\\\": 517000.0}, {\\\"x\\\": -74.678794, \\\"y\\\": 615000.0}, {\\\"x\\\": -74.489313, \\\"y\\\": 439000.0}, {\\\"x\\\": -74.459799, \\\"y\\\": 716000.0}, {\\\"x\\\": -74.737768, \\\"y\\\": 308000.0}, {\\\"x\\\": -74.717601, \\\"y\\\": 800000.0}, {\\\"x\\\": -74.720969, \\\"y\\\": 575000.0}, {\\\"x\\\": -74.740882, \\\"y\\\": 219950.0}, {\\\"x\\\": -74.605602, \\\"y\\\": 770000.0}, {\\\"x\\\": -74.461559, \\\"y\\\": 424950.0}, {\\\"x\\\": -74.353744, \\\"y\\\": 387000.0}, {\\\"x\\\": -74.543139, \\\"y\\\": 790000.0}, {\\\"x\\\": -74.832281, \\\"y\\\": 156000.0}, {\\\"x\\\": -74.735542, \\\"y\\\": 580000.0}, {\\\"x\\\": -74.492056, \\\"y\\\": 490000.0}, {\\\"x\\\": -74.69487, \\\"y\\\": 950000.0}, {\\\"x\\\": -74.803972, \\\"y\\\": 400000.0}, {\\\"x\\\": -74.647021, \\\"y\\\": 325000.0}, {\\\"x\\\": -74.848626, \\\"y\\\": 365000.0}, {\\\"x\\\": -74.916823, \\\"y\\\": 255000.0}, {\\\"x\\\": -74.559731, \\\"y\\\": 985000.0}, {\\\"x\\\": -74.605138, \\\"y\\\": 595000.0}, {\\\"x\\\": -74.57364, \\\"y\\\": 427500.0}, {\\\"x\\\": -74.670367, \\\"y\\\": 728000.0}, {\\\"x\\\": -74.693777, \\\"y\\\": 549950.0}, {\\\"x\\\": -74.609152, \\\"y\\\": 650000.0}, {\\\"x\\\": -74.524689, \\\"y\\\": 1125000.0}, {\\\"x\\\": -74.719449, \\\"y\\\": 203000.0}, {\\\"x\\\": -74.729578, \\\"y\\\": 311000.0}, {\\\"x\\\": -74.498827, \\\"y\\\": 387500.0}, {\\\"x\\\": -74.577091, \\\"y\\\": 370000.0}, {\\\"x\\\": -74.564586, \\\"y\\\": 228000.0}, {\\\"x\\\": -74.67267, \\\"y\\\": 740000.0}, {\\\"x\\\": -74.760573, \\\"y\\\": 200000.0}, {\\\"x\\\": -74.663577, \\\"y\\\": 660000.0}, {\\\"x\\\": -74.806842, \\\"y\\\": 275000.0}, {\\\"x\\\": -74.742269, \\\"y\\\": 708000.0}, {\\\"x\\\": -74.280206, \\\"y\\\": 280000.0}, {\\\"x\\\": -74.801706, \\\"y\\\": 325000.0}, {\\\"x\\\": -74.234473, \\\"y\\\": 495000.0}, {\\\"x\\\": -74.714517, \\\"y\\\": 691000.0}, {\\\"x\\\": -74.579519, \\\"y\\\": 2288000.0}, {\\\"x\\\": -74.924177, \\\"y\\\": 329500.0}, {\\\"x\\\": -75.046532, \\\"y\\\": 348000.0}, {\\\"x\\\": -74.566466, \\\"y\\\": 425000.0}, {\\\"x\\\": -74.805971, \\\"y\\\": 210000.0}, {\\\"x\\\": -74.852773, \\\"y\\\": 285000.0}, {\\\"x\\\": -75.063801, \\\"y\\\": 222000.0}, {\\\"x\\\": -74.896786, \\\"y\\\": 200000.0}, {\\\"x\\\": -75.074402, \\\"y\\\": 247500.0}, {\\\"x\\\": -74.664409, \\\"y\\\": 1500000.0}, {\\\"x\\\": -74.850428, \\\"y\\\": 190000.0}, {\\\"x\\\": -74.657381, \\\"y\\\": 975000.0}, {\\\"x\\\": -74.614612, \\\"y\\\": 1130000.0}, {\\\"x\\\": -74.988691, \\\"y\\\": 283200.0}, {\\\"x\\\": -74.642318, \\\"y\\\": 650000.0}, {\\\"x\\\": -74.572294, \\\"y\\\": 449500.0}, {\\\"x\\\": -74.494858, \\\"y\\\": 400000.0}, {\\\"x\\\": -74.824646, \\\"y\\\": 89950.0}, {\\\"x\\\": -74.833388, \\\"y\\\": 158800.0}, {\\\"x\\\": -74.851043, \\\"y\\\": 870000.0}, {\\\"x\\\": -74.973199, \\\"y\\\": 196000.0}, {\\\"x\\\": -74.760027, \\\"y\\\": 850000.0}, {\\\"x\\\": -74.415277, \\\"y\\\": 775000.0}, {\\\"x\\\": -74.51642, \\\"y\\\": 483500.0}, {\\\"x\\\": -74.136273, \\\"y\\\": 387000.0}, {\\\"x\\\": -74.517964, \\\"y\\\": 900000.0}, {\\\"x\\\": -74.794581, \\\"y\\\": 336000.0}, {\\\"x\\\": -74.714446, \\\"y\\\": 415000.0}, {\\\"x\\\": -74.641607, \\\"y\\\": 380000.0}, {\\\"x\\\": -74.669175, \\\"y\\\": 350000.0}, {\\\"x\\\": -74.606515, \\\"y\\\": 1320000.0}, {\\\"x\\\": -74.764246, \\\"y\\\": 765000.0}, {\\\"x\\\": -74.656559, \\\"y\\\": 527000.0}, {\\\"x\\\": -74.718012, \\\"y\\\": 524000.0}, {\\\"x\\\": -74.627545, \\\"y\\\": 448000.0}, {\\\"x\\\": -74.365865, \\\"y\\\": 775000.0}, {\\\"x\\\": -74.856686, \\\"y\\\": 176500.0}, {\\\"x\\\": -74.870905, \\\"y\\\": 750000.0}, {\\\"x\\\": -74.645493, \\\"y\\\": 1265000.0}, {\\\"x\\\": -74.861114, \\\"y\\\": 250000.0}, {\\\"x\\\": -74.682175, \\\"y\\\": 759000.0}, {\\\"x\\\": -74.753495, \\\"y\\\": 640000.0}, {\\\"x\\\": -74.63242, \\\"y\\\": 990000.0}, {\\\"x\\\": -74.558746, \\\"y\\\": 395000.0}, {\\\"x\\\": -74.547579, \\\"y\\\": 275000.0}, {\\\"x\\\": -74.666598, \\\"y\\\": 390000.0}, {\\\"x\\\": -74.701614, \\\"y\\\": 752500.0}, {\\\"x\\\": -74.723626, \\\"y\\\": 450000.0}, {\\\"x\\\": -74.697728, \\\"y\\\": 473000.0}, {\\\"x\\\": -74.330351, \\\"y\\\": 178500.0}, {\\\"x\\\": -74.622977, \\\"y\\\": 485000.0}, {\\\"x\\\": -75.076514, \\\"y\\\": 215000.0}, {\\\"x\\\": -74.809135, \\\"y\\\": 589000.0}, {\\\"x\\\": -74.471156, \\\"y\\\": 325000.0}, {\\\"x\\\": -74.797551, \\\"y\\\": 580000.0}, {\\\"x\\\": -74.910983, \\\"y\\\": 181100.0}, {\\\"x\\\": -74.737479, \\\"y\\\": 345000.0}, {\\\"x\\\": -74.578987, \\\"y\\\": 781000.0}, {\\\"x\\\": -74.693095, \\\"y\\\": 402500.0}, {\\\"x\\\": -74.818584, \\\"y\\\": 426000.0}, {\\\"x\\\": -74.336867, \\\"y\\\": 389000.0}, {\\\"x\\\": -74.543832, \\\"y\\\": 670000.0}, {\\\"x\\\": -74.683951, \\\"y\\\": 1506000.0}, {\\\"x\\\": -74.675219, \\\"y\\\": 288400.0}, {\\\"x\\\": -74.666626, \\\"y\\\": 700000.0}, {\\\"x\\\": -74.744198, \\\"y\\\": 830000.0}, {\\\"x\\\": -74.920684, \\\"y\\\": 1899000.0}, {\\\"x\\\": -74.628525, \\\"y\\\": 350500.0}, {\\\"x\\\": -74.907725, \\\"y\\\": 431000.0}, {\\\"x\\\": -74.601628, \\\"y\\\": 485000.0}, {\\\"x\\\": -74.679095, \\\"y\\\": 780000.0}, {\\\"x\\\": -74.860218, \\\"y\\\": 720000.0}, {\\\"x\\\": -74.366135, \\\"y\\\": 415000.0}, {\\\"x\\\": -74.702327, \\\"y\\\": 480000.0}, {\\\"x\\\": -74.489133, \\\"y\\\": 452250.0}, {\\\"x\\\": -75.034534, \\\"y\\\": 316000.0}, {\\\"x\\\": -74.735935, \\\"y\\\": 700000.0}, {\\\"x\\\": -74.747029, \\\"y\\\": 285000.0}, {\\\"x\\\": -74.635752, \\\"y\\\": 575000.0}, {\\\"x\\\": -74.912058, \\\"y\\\": 590000.0}, {\\\"x\\\": -74.906914, \\\"y\\\": 587500.0}, {\\\"x\\\": -74.548859, \\\"y\\\": 364000.0}, {\\\"x\\\": -74.413497, \\\"y\\\": 490000.0}, {\\\"x\\\": -74.544197, \\\"y\\\": 410000.0}, {\\\"x\\\": -74.464227, \\\"y\\\": 520000.0}, {\\\"x\\\": -74.634911, \\\"y\\\": 389000.0}, {\\\"x\\\": -74.719594, \\\"y\\\": 450000.0}, {\\\"x\\\": -74.770705, \\\"y\\\": 325000.0}, {\\\"x\\\": -74.673757, \\\"y\\\": 660000.0}, {\\\"x\\\": -74.849155, \\\"y\\\": 850000.0}, {\\\"x\\\": -74.73362, \\\"y\\\": 285000.0}, {\\\"x\\\": -74.703214, \\\"y\\\": 395000.0}, {\\\"x\\\": -74.693732, \\\"y\\\": 440000.0}, {\\\"x\\\": -74.682598, \\\"y\\\": 249000.0}, {\\\"x\\\": -74.625726, \\\"y\\\": 635000.0}, {\\\"x\\\": -75.009312, \\\"y\\\": 515000.0}, {\\\"x\\\": -74.656618, \\\"y\\\": 1400000.0}, {\\\"x\\\": -74.893688, \\\"y\\\": 200000.0}, {\\\"x\\\": -74.859535, \\\"y\\\": 1135000.0}, {\\\"x\\\": -74.813753, \\\"y\\\": 445000.0}, {\\\"x\\\": -74.68262, \\\"y\\\": 555000.0}, {\\\"x\\\": -74.821576, \\\"y\\\": 537000.0}, {\\\"x\\\": -74.724022, \\\"y\\\": 315000.0}, {\\\"x\\\": -74.467998, \\\"y\\\": 805000.0}, {\\\"x\\\": -75.066272, \\\"y\\\": 414000.0}, {\\\"x\\\": -74.701602, \\\"y\\\": 375000.0}, {\\\"x\\\": -74.608761, \\\"y\\\": 401000.0}, {\\\"x\\\": -74.906258, \\\"y\\\": 210000.0}, {\\\"x\\\": -74.614008, \\\"y\\\": 365000.0}, {\\\"x\\\": -74.768178, \\\"y\\\": 178000.0}, {\\\"x\\\": -74.660063, \\\"y\\\": 710000.0}, {\\\"x\\\": -74.84762, \\\"y\\\": 255000.0}, {\\\"x\\\": -74.311535, \\\"y\\\": 528000.0}, {\\\"x\\\": -74.95252, \\\"y\\\": 537000.0}, {\\\"x\\\": -74.820397, \\\"y\\\": 442000.0}, {\\\"x\\\": -74.211485, \\\"y\\\": 375000.0}, {\\\"x\\\": -74.416545, \\\"y\\\": 637250.0}, {\\\"x\\\": -74.874792, \\\"y\\\": 427500.0}, {\\\"x\\\": -74.347764, \\\"y\\\": 700000.0}, {\\\"x\\\": -74.800497, \\\"y\\\": 680000.0}, {\\\"x\\\": -74.603631, \\\"y\\\": 393820.0}, {\\\"x\\\": -74.75382, \\\"y\\\": 525000.0}, {\\\"x\\\": -74.689505, \\\"y\\\": 505000.0}, {\\\"x\\\": -74.527737, \\\"y\\\": 555565.0}, {\\\"x\\\": -74.674442, \\\"y\\\": 650000.0}, {\\\"x\\\": -74.336582, \\\"y\\\": 632500.0}, {\\\"x\\\": -74.678734, \\\"y\\\": 269000.0}, {\\\"x\\\": -74.492776, \\\"y\\\": 405000.0}, {\\\"x\\\": -74.334141, \\\"y\\\": 845000.0}, {\\\"x\\\": -74.928711, \\\"y\\\": 234000.0}, {\\\"x\\\": -74.729429, \\\"y\\\": 638000.0}, {\\\"x\\\": -74.277423, \\\"y\\\": 290000.0}, {\\\"x\\\": -74.786337, \\\"y\\\": 262000.0}, {\\\"x\\\": -74.803215, \\\"y\\\": 270000.0}, {\\\"x\\\": -74.717835, \\\"y\\\": 875000.0}, {\\\"x\\\": -74.912596, \\\"y\\\": 299000.0}, {\\\"x\\\": -74.503736, \\\"y\\\": 551000.0}, {\\\"x\\\": -74.903948, \\\"y\\\": 350000.0}, {\\\"x\\\": -74.566692, \\\"y\\\": 1901000.0}, {\\\"x\\\": -74.684544, \\\"y\\\": 511718.0}, {\\\"x\\\": -74.543587, \\\"y\\\": 965000.0}, {\\\"x\\\": -74.465364, \\\"y\\\": 475000.0}, {\\\"x\\\": -74.67904, \\\"y\\\": 1062000.0}, {\\\"x\\\": -75.02, \\\"y\\\": 252000.0}, {\\\"x\\\": -74.899906, \\\"y\\\": 580000.0}, {\\\"x\\\": -74.727832, \\\"y\\\": 374950.0}, {\\\"x\\\": -74.686172, \\\"y\\\": 739000.0}, {\\\"x\\\": -74.777469, \\\"y\\\": 271000.0}, {\\\"x\\\": -74.816595, \\\"y\\\": 230000.0}, {\\\"x\\\": -75.026329, \\\"y\\\": 210000.0}, {\\\"x\\\": -74.891833, \\\"y\\\": 350000.0}, {\\\"x\\\": -74.440112, \\\"y\\\": 491500.0}, {\\\"x\\\": -74.280508, \\\"y\\\": 325000.0}, {\\\"x\\\": -74.681774, \\\"y\\\": 190000.0}, {\\\"x\\\": -74.694963, \\\"y\\\": 658600.0}, {\\\"x\\\": -74.855341, \\\"y\\\": 299950.0}, {\\\"x\\\": -74.695276, \\\"y\\\": 464000.0}, {\\\"x\\\": -74.827393, \\\"y\\\": 308000.0}, {\\\"x\\\": -74.522815, \\\"y\\\": 625000.0}, {\\\"x\\\": -74.922204, \\\"y\\\": 240000.0}, {\\\"x\\\": -74.727117, \\\"y\\\": 530000.0}, {\\\"x\\\": -74.647925, \\\"y\\\": 1000000.0}, {\\\"x\\\": -74.681615, \\\"y\\\": 439000.0}, {\\\"x\\\": -74.649058, \\\"y\\\": 575000.0}, {\\\"x\\\": -74.552288, \\\"y\\\": 418000.0}, {\\\"x\\\": -74.579853, \\\"y\\\": 1208000.0}, {\\\"x\\\": -74.716338, \\\"y\\\": 1100000.0}, {\\\"x\\\": -74.645409, \\\"y\\\": 1900000.0}, {\\\"x\\\": -74.356977, \\\"y\\\": 580000.0}, {\\\"x\\\": -74.849216, \\\"y\\\": 380000.0}, {\\\"x\\\": -74.716712, \\\"y\\\": 256000.0}, {\\\"x\\\": -74.612377, \\\"y\\\": 349950.0}, {\\\"x\\\": -74.579233, \\\"y\\\": 691500.0}, {\\\"x\\\": -74.63238, \\\"y\\\": 556000.0}, {\\\"x\\\": -75.069759, \\\"y\\\": 218000.0}, {\\\"x\\\": -74.755542, \\\"y\\\": 425000.0}, {\\\"x\\\": -74.175118, \\\"y\\\": 935000.0}, {\\\"x\\\": -74.590073, \\\"y\\\": 732000.0}, {\\\"x\\\": -74.568279, \\\"y\\\": 805500.0}, {\\\"x\\\": -74.814537, \\\"y\\\": 507250.0}, {\\\"x\\\": -74.350161, \\\"y\\\": 800000.0}, {\\\"x\\\": -74.505675, \\\"y\\\": 600000.0}, {\\\"x\\\": -74.423134, \\\"y\\\": 627800.0}, {\\\"x\\\": -74.649256, \\\"y\\\": 660000.0}, {\\\"x\\\": -74.997946, \\\"y\\\": 153503.0}, {\\\"x\\\": -74.433672, \\\"y\\\": 456500.0}, {\\\"x\\\": -74.574204, \\\"y\\\": 1306000.0}, {\\\"x\\\": -74.391659, \\\"y\\\": 843500.0}, {\\\"x\\\": -74.665626, \\\"y\\\": 625000.0}, {\\\"x\\\": -74.661941, \\\"y\\\": 527000.0}, {\\\"x\\\": -74.591194, \\\"y\\\": 1965000.0}, {\\\"x\\\": -74.538744, \\\"y\\\": 1003000.0}, {\\\"x\\\": -74.688335, \\\"y\\\": 855000.0}, {\\\"x\\\": -74.599817, \\\"y\\\": 725000.0}, {\\\"x\\\": -74.848283, \\\"y\\\": 315000.0}, {\\\"x\\\": -74.97682, \\\"y\\\": 180000.0}, {\\\"x\\\": -74.85499, \\\"y\\\": 700000.0}, {\\\"x\\\": -74.517074, \\\"y\\\": 476500.0}, {\\\"x\\\": -74.895215, \\\"y\\\": 193000.0}, {\\\"x\\\": -74.832959, \\\"y\\\": 295000.0}, {\\\"x\\\": -74.845761, \\\"y\\\": 363000.0}, {\\\"x\\\": -74.359905, \\\"y\\\": 875000.0}, {\\\"x\\\": -74.902787, \\\"y\\\": 257200.0}, {\\\"x\\\": -74.481509, \\\"y\\\": 555000.0}, {\\\"x\\\": -74.490105, \\\"y\\\": 380000.0}, {\\\"x\\\": -75.052658, \\\"y\\\": 282000.0}, {\\\"x\\\": -74.628126, \\\"y\\\": 545000.0}, {\\\"x\\\": -74.616502, \\\"y\\\": 550000.0}, {\\\"x\\\": -74.616502, \\\"y\\\": 921500.0}, {\\\"x\\\": -74.681162, \\\"y\\\": 885000.0}, {\\\"x\\\": -74.718062, \\\"y\\\": 820000.0}, {\\\"x\\\": -74.670663, \\\"y\\\": 289000.0}, {\\\"x\\\": -74.83139, \\\"y\\\": 334000.0}, {\\\"x\\\": -74.688452, \\\"y\\\": 206000.0}, {\\\"x\\\": -74.584022, \\\"y\\\": 491950.0}, {\\\"x\\\": -74.405084, \\\"y\\\": 430000.0}, {\\\"x\\\": -74.724033, \\\"y\\\": 208000.0}, {\\\"x\\\": -75.048199, \\\"y\\\": 245000.0}, {\\\"x\\\": -74.683443, \\\"y\\\": 426000.0}, {\\\"x\\\": -74.650136, \\\"y\\\": 400000.0}, {\\\"x\\\": -74.607494, \\\"y\\\": 553000.0}, {\\\"x\\\": -74.679238, \\\"y\\\": 296000.0}, {\\\"x\\\": -74.77305, \\\"y\\\": 428000.0}, {\\\"x\\\": -74.805295, \\\"y\\\": 325000.0}, {\\\"x\\\": -74.589243, \\\"y\\\": 294000.0}, {\\\"x\\\": -74.649364, \\\"y\\\": 410000.0}, {\\\"x\\\": -75.010167, \\\"y\\\": 590000.0}, {\\\"x\\\": -74.450254, \\\"y\\\": 445000.0}, {\\\"x\\\": -74.679616, \\\"y\\\": 921000.0}, {\\\"x\\\": -74.285481, \\\"y\\\": 496000.0}, {\\\"x\\\": -74.886417, \\\"y\\\": 95000.0}, {\\\"x\\\": -74.830791, \\\"y\\\": 359000.0}, {\\\"x\\\": -74.235434, \\\"y\\\": 452500.0}, {\\\"x\\\": -74.838381, \\\"y\\\": 555000.0}, {\\\"x\\\": -74.746222, \\\"y\\\": 549900.0}, {\\\"x\\\": -74.517867, \\\"y\\\": 569000.0}, {\\\"x\\\": -74.70214, \\\"y\\\": 318500.0}, {\\\"x\\\": -74.679711, \\\"y\\\": 487028.0}, {\\\"x\\\": -74.924519, \\\"y\\\": 240000.0}, {\\\"x\\\": -74.826143, \\\"y\\\": 253000.0}, {\\\"x\\\": -74.929457, \\\"y\\\": 380000.0}, {\\\"x\\\": -74.82369, \\\"y\\\": 250000.0}, {\\\"x\\\": -74.888478, \\\"y\\\": 368500.0}, {\\\"x\\\": -74.768844, \\\"y\\\": 340000.0}, {\\\"x\\\": -74.844862, \\\"y\\\": 400000.0}, {\\\"x\\\": -74.719208, \\\"y\\\": 835000.0}, {\\\"x\\\": -75.054204, \\\"y\\\": 299000.0}, {\\\"x\\\": -74.674189, \\\"y\\\": 1675000.0}, {\\\"x\\\": -74.872385, \\\"y\\\": 265000.0}, {\\\"x\\\": -74.665774, \\\"y\\\": 437500.0}, {\\\"x\\\": -74.736791, \\\"y\\\": 865000.0}, {\\\"x\\\": -74.447586, \\\"y\\\": 626000.0}, {\\\"x\\\": -74.714682, \\\"y\\\": 247300.0}, {\\\"x\\\": -74.610595, \\\"y\\\": 2075000.0}, {\\\"x\\\": -74.77469, \\\"y\\\": 425000.0}, {\\\"x\\\": -74.498605, \\\"y\\\": 905000.0}, {\\\"x\\\": -74.697207, \\\"y\\\": 641250.0}, {\\\"x\\\": -74.522226, \\\"y\\\": 675000.0}, {\\\"x\\\": -74.26799, \\\"y\\\": 845000.0}, {\\\"x\\\": -74.59069, \\\"y\\\": 401500.0}, {\\\"x\\\": -74.414812, \\\"y\\\": 395000.0}, {\\\"x\\\": -74.648478, \\\"y\\\": 1100000.0}, {\\\"x\\\": -74.816365, \\\"y\\\": 145000.0}, {\\\"x\\\": -74.706511, \\\"y\\\": 900000.0}, {\\\"x\\\": -74.473605, \\\"y\\\": 374500.0}, {\\\"x\\\": -74.563123, \\\"y\\\": 850000.0}, {\\\"x\\\": -74.824189, \\\"y\\\": 490000.0}, {\\\"x\\\": -75.048944, \\\"y\\\": 304000.0}, {\\\"x\\\": -74.56536, \\\"y\\\": 400000.0}, {\\\"x\\\": -74.438486, \\\"y\\\": 454000.0}, {\\\"x\\\": -74.743108, \\\"y\\\": 160000.0}, {\\\"x\\\": -74.48545, \\\"y\\\": 542000.0}, {\\\"x\\\": -74.894546, \\\"y\\\": 403500.0}, {\\\"x\\\": -74.6616, \\\"y\\\": 418000.0}, {\\\"x\\\": -74.91834, \\\"y\\\": 406000.0}, {\\\"x\\\": -74.940976, \\\"y\\\": 242500.0}, {\\\"x\\\": -74.672555, \\\"y\\\": 425000.0}, {\\\"x\\\": -74.668734, \\\"y\\\": 613000.0}, {\\\"x\\\": -74.327771, \\\"y\\\": 189000.0}, {\\\"x\\\": -74.601069, \\\"y\\\": 700000.0}, {\\\"x\\\": -74.66939, \\\"y\\\": 750000.0}, {\\\"x\\\": -74.636871, \\\"y\\\": 494000.0}, {\\\"x\\\": -74.420892, \\\"y\\\": 700000.0}, {\\\"x\\\": -74.303475, \\\"y\\\": 705000.0}, {\\\"x\\\": -74.348474, \\\"y\\\": 356000.0}, {\\\"x\\\": -74.477875, \\\"y\\\": 625000.0}, {\\\"x\\\": -74.900989, \\\"y\\\": 144975.0}, {\\\"x\\\": -74.452718, \\\"y\\\": 970000.0}, {\\\"x\\\": -74.359547, \\\"y\\\": 415000.0}, {\\\"x\\\": -74.49652, \\\"y\\\": 485000.0}, {\\\"x\\\": -74.418401, \\\"y\\\": 799950.0}, {\\\"x\\\": -74.315261, \\\"y\\\": 783350.0}, {\\\"x\\\": -74.707745, \\\"y\\\": 430000.0}, {\\\"x\\\": -74.657323, \\\"y\\\": 2544750.0}, {\\\"x\\\": -74.361743, \\\"y\\\": 975000.0}, {\\\"x\\\": -74.587773, \\\"y\\\": 950000.0}, {\\\"x\\\": -74.635771, \\\"y\\\": 350000.0}, {\\\"x\\\": -74.595048, \\\"y\\\": 637000.0}, {\\\"x\\\": -74.671248, \\\"y\\\": 895000.0}, {\\\"x\\\": -74.710238, \\\"y\\\": 579000.0}, {\\\"x\\\": -75.005814, \\\"y\\\": 314900.0}, {\\\"x\\\": -74.774034, \\\"y\\\": 122000.0}, {\\\"x\\\": -74.66183, \\\"y\\\": 405000.0}, {\\\"x\\\": -74.666548, \\\"y\\\": 553650.0}, {\\\"x\\\": -74.823885, \\\"y\\\": 369900.0}, {\\\"x\\\": -75.018905, \\\"y\\\": 225000.0}, {\\\"x\\\": -74.769983, \\\"y\\\": 160000.0}, {\\\"x\\\": -74.617428, \\\"y\\\": 449500.0}, {\\\"x\\\": -74.565416, \\\"y\\\": 650000.0}, {\\\"x\\\": -74.304886, \\\"y\\\": 542126.0}, {\\\"x\\\": -74.279873, \\\"y\\\": 309950.0}, {\\\"x\\\": -74.970682, \\\"y\\\": 115000.0}, {\\\"x\\\": -74.89263, \\\"y\\\": 221700.0}, {\\\"x\\\": -74.698098, \\\"y\\\": 726000.0}, {\\\"x\\\": -74.816862, \\\"y\\\": 515000.0}, {\\\"x\\\": -74.591945, \\\"y\\\": 756000.0}, {\\\"x\\\": -74.65003, \\\"y\\\": 1570000.0}, {\\\"x\\\": -74.425493, \\\"y\\\": 442000.0}, {\\\"x\\\": -74.780887, \\\"y\\\": 260000.0}, {\\\"x\\\": -74.686351, \\\"y\\\": 390000.0}, {\\\"x\\\": -74.699755, \\\"y\\\": 459500.0}, {\\\"x\\\": -74.549902, \\\"y\\\": 330000.0}, {\\\"x\\\": -74.837012, \\\"y\\\": 189000.0}, {\\\"x\\\": -74.850025, \\\"y\\\": 280000.0}, {\\\"x\\\": -74.555601, \\\"y\\\": 400000.0}, {\\\"x\\\": -74.690547, \\\"y\\\": 368000.0}, {\\\"x\\\": -74.69023, \\\"y\\\": 390000.0}, {\\\"x\\\": -74.608434, \\\"y\\\": 245000.0}, {\\\"x\\\": -74.58997, \\\"y\\\": 375000.0}, {\\\"x\\\": -74.474365, \\\"y\\\": 465000.0}, {\\\"x\\\": -74.624315, \\\"y\\\": 445000.0}, {\\\"x\\\": -74.764153, \\\"y\\\": 250000.0}, {\\\"x\\\": -74.618307, \\\"y\\\": 475500.0}, {\\\"x\\\": -74.605082, \\\"y\\\": 672324.0}, {\\\"x\\\": -74.600747, \\\"y\\\": 420000.0}, {\\\"x\\\": -74.699574, \\\"y\\\": 515000.0}, {\\\"x\\\": -74.486939, \\\"y\\\": 732350.0}, {\\\"x\\\": -74.674963, \\\"y\\\": 297500.0}, {\\\"x\\\": -74.629793, \\\"y\\\": 475000.0}, {\\\"x\\\": -74.2329, \\\"y\\\": 414000.0}, {\\\"x\\\": -74.581298, \\\"y\\\": 357250.0}, {\\\"x\\\": -74.62351, \\\"y\\\": 289950.0}, {\\\"x\\\": -74.717058, \\\"y\\\": 550000.0}, {\\\"x\\\": -74.498452, \\\"y\\\": 446000.0}, {\\\"x\\\": -74.63349, \\\"y\\\": 279000.0}, {\\\"x\\\": -74.39883, \\\"y\\\": 370000.0}, {\\\"x\\\": -74.838931, \\\"y\\\": 216000.0}, {\\\"x\\\": -74.609939, \\\"y\\\": 1100000.0}, {\\\"x\\\": -74.66392, \\\"y\\\": 1280600.0}, {\\\"x\\\": -74.788241, \\\"y\\\": 355000.0}, {\\\"x\\\": -74.469238, \\\"y\\\": 699000.0}, {\\\"x\\\": -74.634636, \\\"y\\\": 412000.0}, {\\\"x\\\": -74.29602, \\\"y\\\": 276000.0}, {\\\"x\\\": -74.751323, \\\"y\\\": 100000.0}, {\\\"x\\\": -74.719828, \\\"y\\\": 955500.0}, {\\\"x\\\": -74.739999, \\\"y\\\": 199000.0}, {\\\"x\\\": -74.343273, \\\"y\\\": 762000.0}, {\\\"x\\\": -74.45687, \\\"y\\\": 425000.0}, {\\\"x\\\": -74.819271, \\\"y\\\": 546000.0}, {\\\"x\\\": -74.598117, \\\"y\\\": 419600.0}, {\\\"x\\\": -74.754778, \\\"y\\\": 735000.0}, {\\\"x\\\": -74.693729, \\\"y\\\": 1234568.0}, {\\\"x\\\": -74.716139, \\\"y\\\": 445000.0}, {\\\"x\\\": -74.271328, \\\"y\\\": 665000.0}, {\\\"x\\\": -74.502651, \\\"y\\\": 1290000.0}, {\\\"x\\\": -74.441261, \\\"y\\\": 508500.0}, {\\\"x\\\": -74.559449, \\\"y\\\": 345950.0}, {\\\"x\\\": -74.815813, \\\"y\\\": 207500.0}, {\\\"x\\\": -74.692098, \\\"y\\\": 1075000.0}, {\\\"x\\\": -74.668919, \\\"y\\\": 640000.0}, {\\\"x\\\": -75.013331, \\\"y\\\": 329500.0}, {\\\"x\\\": -74.487872, \\\"y\\\": 460000.0}, {\\\"x\\\": -74.605905, \\\"y\\\": 1230000.0}, {\\\"x\\\": -74.708471, \\\"y\\\": 805000.0}, {\\\"x\\\": -74.739819, \\\"y\\\": 200000.0}, {\\\"x\\\": -74.67082, \\\"y\\\": 749700.0}, {\\\"x\\\": -74.568114, \\\"y\\\": 288000.0}, {\\\"x\\\": -74.700166, \\\"y\\\": 535000.0}, {\\\"x\\\": -74.736709, \\\"y\\\": 330000.0}, {\\\"x\\\": -74.809623, \\\"y\\\": 479200.0}, {\\\"x\\\": -74.804314, \\\"y\\\": 373000.0}, {\\\"x\\\": -74.733139, \\\"y\\\": 355000.0}, {\\\"x\\\": -74.654506, \\\"y\\\": 275000.0}, {\\\"x\\\": -74.858294, \\\"y\\\": 380000.0}, {\\\"x\\\": -74.656466, \\\"y\\\": 417000.0}, {\\\"x\\\": -74.379968, \\\"y\\\": 1165000.0}, {\\\"x\\\": -74.424207, \\\"y\\\": 598500.0}, {\\\"x\\\": -74.76186, \\\"y\\\": 629000.0}, {\\\"x\\\": -74.843333, \\\"y\\\": 226950.0}, {\\\"x\\\": -74.669038, \\\"y\\\": 1225000.0}, {\\\"x\\\": -74.659758, \\\"y\\\": 415000.0}, {\\\"x\\\": -74.455703, \\\"y\\\": 595000.0}, {\\\"x\\\": -74.721879, \\\"y\\\": 209950.0}, {\\\"x\\\": -74.367972, \\\"y\\\": 568000.0}, {\\\"x\\\": -74.764412, \\\"y\\\": 119900.0}, {\\\"x\\\": -75.029629, \\\"y\\\": 207000.0}, {\\\"x\\\": -74.933872, \\\"y\\\": 195000.0}, {\\\"x\\\": -74.900829, \\\"y\\\": 324950.0}, {\\\"x\\\": -74.611266, \\\"y\\\": 210000.0}, {\\\"x\\\": -74.321732, \\\"y\\\": 1078000.0}, {\\\"x\\\": -74.757315, \\\"y\\\": 325088.0}, {\\\"x\\\": -74.743145, \\\"y\\\": 790000.0}, {\\\"x\\\": -74.643643, \\\"y\\\": 150000.0}, {\\\"x\\\": -74.593633, \\\"y\\\": 790000.0}, {\\\"x\\\": -74.798841, \\\"y\\\": 255000.0}, {\\\"x\\\": -74.685325, \\\"y\\\": 697000.0}, {\\\"x\\\": -74.690436, \\\"y\\\": 457500.0}, {\\\"x\\\": -74.624524, \\\"y\\\": 690000.0}, {\\\"x\\\": -74.672162, \\\"y\\\": 967000.0}, {\\\"x\\\": -74.663806, \\\"y\\\": 980000.0}, {\\\"x\\\": -74.636123, \\\"y\\\": 619420.0}, {\\\"x\\\": -74.67549, \\\"y\\\": 389000.0}, {\\\"x\\\": -74.713365, \\\"y\\\": 500000.0}, {\\\"x\\\": -74.608271, \\\"y\\\": 569000.0}, {\\\"x\\\": -74.456179, \\\"y\\\": 425000.0}, {\\\"x\\\": -74.715142, \\\"y\\\": 635000.0}, {\\\"x\\\": -75.056106, \\\"y\\\": 256500.0}, {\\\"x\\\": -74.482098, \\\"y\\\": 695000.0}, {\\\"x\\\": -74.719721, \\\"y\\\": 535000.0}, {\\\"x\\\": -74.665103, \\\"y\\\": 454200.0}, {\\\"x\\\": -74.663122, \\\"y\\\": 418500.0}, {\\\"x\\\": -74.359907, \\\"y\\\": 749950.0}, {\\\"x\\\": -75.007279, \\\"y\\\": 338500.0}, {\\\"x\\\": -74.63952, \\\"y\\\": 1250000.0}, {\\\"x\\\": -74.926848, \\\"y\\\": 299950.0}, {\\\"x\\\": -74.827319, \\\"y\\\": 325000.0}, {\\\"x\\\": -74.449686, \\\"y\\\": 434000.0}, {\\\"x\\\": -74.750663, \\\"y\\\": 328950.0}, {\\\"x\\\": -74.705863, \\\"y\\\": 2095000.0}, {\\\"x\\\": -74.487425, \\\"y\\\": 570000.0}, {\\\"x\\\": -74.644547, \\\"y\\\": 802000.0}, {\\\"x\\\": -74.678255, \\\"y\\\": 525000.0}, {\\\"x\\\": -74.733837, \\\"y\\\": 700000.0}, {\\\"x\\\": -74.708582, \\\"y\\\": 350000.0}, {\\\"x\\\": -74.62957, \\\"y\\\": 277500.0}, {\\\"x\\\": -74.602024, \\\"y\\\": 1575000.0}, {\\\"x\\\": -74.78205, \\\"y\\\": 195000.0}, {\\\"x\\\": -74.880029, \\\"y\\\": 222000.0}, {\\\"x\\\": -74.634438, \\\"y\\\": 865000.0}, {\\\"x\\\": -74.723208, \\\"y\\\": 445000.0}, {\\\"x\\\": -74.633131, \\\"y\\\": 495800.0}, {\\\"x\\\": -74.693771, \\\"y\\\": 548500.0}, {\\\"x\\\": -74.725146, \\\"y\\\": 310000.0}, {\\\"x\\\": -74.764604, \\\"y\\\": 205000.0}, {\\\"x\\\": -74.66304, \\\"y\\\": 470000.0}, {\\\"x\\\": -74.557891, \\\"y\\\": 430000.0}, {\\\"x\\\": -74.587872, \\\"y\\\": 310000.0}, {\\\"x\\\": -74.570999, \\\"y\\\": 355000.0}, {\\\"x\\\": -74.877892, \\\"y\\\": 621500.0}, {\\\"x\\\": -74.85325, \\\"y\\\": 175000.0}, {\\\"x\\\": -74.85325, \\\"y\\\": 326000.0}, {\\\"x\\\": -74.841258, \\\"y\\\": 690000.0}, {\\\"x\\\": -74.942327, \\\"y\\\": 335000.0}, {\\\"x\\\": -74.817167, \\\"y\\\": 197000.0}, {\\\"x\\\": -74.747276, \\\"y\\\": 312500.0}, {\\\"x\\\": -74.578294, \\\"y\\\": 436000.0}, {\\\"x\\\": -74.655607, \\\"y\\\": 1015000.0}, {\\\"x\\\": -74.543866, \\\"y\\\": 805000.0}, {\\\"x\\\": -74.423335, \\\"y\\\": 652427.0}, {\\\"x\\\": -74.514598, \\\"y\\\": 1008000.0}, {\\\"x\\\": -74.837096, \\\"y\\\": 355000.0}, {\\\"x\\\": -74.6124, \\\"y\\\": 334550.0}, {\\\"x\\\": -74.471551, \\\"y\\\": 557500.0}, {\\\"x\\\": -74.826583, \\\"y\\\": 277500.0}, {\\\"x\\\": -74.721386, \\\"y\\\": 300000.0}, {\\\"x\\\": -74.651906, \\\"y\\\": 325000.0}, {\\\"x\\\": -74.714164, \\\"y\\\": 402500.0}, {\\\"x\\\": -74.529779, \\\"y\\\": 461000.0}, {\\\"x\\\": -74.667799, \\\"y\\\": 540000.0}, {\\\"x\\\": -74.752598, \\\"y\\\": 385000.0}, {\\\"x\\\": -74.656434, \\\"y\\\": 480000.0}, {\\\"x\\\": -74.68016, \\\"y\\\": 539950.0}, {\\\"x\\\": -74.36818, \\\"y\\\": 529000.0}, {\\\"x\\\": -74.732648, \\\"y\\\": 417000.0}, {\\\"x\\\": -74.524474, \\\"y\\\": 405000.0}, {\\\"x\\\": -75.051167, \\\"y\\\": 299000.0}, {\\\"x\\\": -74.978211, \\\"y\\\": 299000.0}, {\\\"x\\\": -74.865341, \\\"y\\\": 372220.0}, {\\\"x\\\": -74.720251, \\\"y\\\": 494400.0}, {\\\"x\\\": -74.733496, \\\"y\\\": 280000.0}, {\\\"x\\\": -75.083316, \\\"y\\\": 277950.0}, {\\\"x\\\": -74.649734, \\\"y\\\": 770000.0}, {\\\"x\\\": -74.368943, \\\"y\\\": 760000.0}, {\\\"x\\\": -74.946665, \\\"y\\\": 230000.0}, {\\\"x\\\": -74.525914, \\\"y\\\": 525000.0}, {\\\"x\\\": -74.29107, \\\"y\\\": 307000.0}, {\\\"x\\\": -74.825695, \\\"y\\\": 253779.0}, {\\\"x\\\": -74.495567, \\\"y\\\": 405000.0}, {\\\"x\\\": -74.858385, \\\"y\\\": 360000.0}, {\\\"x\\\": -74.841685, \\\"y\\\": 521000.0}, {\\\"x\\\": -74.540815, \\\"y\\\": 680000.0}, {\\\"x\\\": -74.438243, \\\"y\\\": 355000.0}, {\\\"x\\\": -74.744638, \\\"y\\\": 200000.0}, {\\\"x\\\": -74.745861, \\\"y\\\": 330000.0}, {\\\"x\\\": -75.046733, \\\"y\\\": 221000.0}, {\\\"x\\\": -74.795722, \\\"y\\\": 1598888.0}, {\\\"x\\\": -74.600502, \\\"y\\\": 310000.0}, {\\\"x\\\": -74.75264, \\\"y\\\": 862000.0}, {\\\"x\\\": -74.802336, \\\"y\\\": 200000.0}, {\\\"x\\\": -74.491957, \\\"y\\\": 630000.0}, {\\\"x\\\": -74.451954, \\\"y\\\": 432250.0}, {\\\"x\\\": -74.500215, \\\"y\\\": 478000.0}, {\\\"x\\\": -74.923309, \\\"y\\\": 249000.0}, {\\\"x\\\": -74.753596, \\\"y\\\": 495000.0}, {\\\"x\\\": -74.499849, \\\"y\\\": 630000.0}, {\\\"x\\\": -74.332186, \\\"y\\\": 550000.0}, {\\\"x\\\": -74.759226, \\\"y\\\": 350000.0}, {\\\"x\\\": -74.706481, \\\"y\\\": 270000.0}, {\\\"x\\\": -74.481036, \\\"y\\\": 488250.0}, {\\\"x\\\": -75.045744, \\\"y\\\": 248000.0}, {\\\"x\\\": -74.872556, \\\"y\\\": 889000.0}, {\\\"x\\\": -74.69161, \\\"y\\\": 375000.0}, {\\\"x\\\": -74.702399, \\\"y\\\": 933000.0}, {\\\"x\\\": -74.574553, \\\"y\\\": 625000.0}, {\\\"x\\\": -74.8335, \\\"y\\\": 328000.0}, {\\\"x\\\": -74.896669, \\\"y\\\": 470000.0}, {\\\"x\\\": -74.67504, \\\"y\\\": 502500.0}, {\\\"x\\\": -74.348451, \\\"y\\\": 484000.0}, {\\\"x\\\": -74.26765, \\\"y\\\": 252500.0}, {\\\"x\\\": -74.603289, \\\"y\\\": 610000.0}, {\\\"x\\\": -74.511586, \\\"y\\\": 419000.0}, {\\\"x\\\": -74.95349, \\\"y\\\": 322500.0}, {\\\"x\\\": -74.7187, \\\"y\\\": 563000.0}, {\\\"x\\\": -74.763045, \\\"y\\\": 464000.0}, {\\\"x\\\": -74.578436, \\\"y\\\": 870000.0}, {\\\"x\\\": -74.643325, \\\"y\\\": 280000.0}, {\\\"x\\\": -74.56107, \\\"y\\\": 850000.0}, {\\\"x\\\": -74.618812, \\\"y\\\": 458950.0}, {\\\"x\\\": -74.847312, \\\"y\\\": 122000.0}, {\\\"x\\\": -74.705075, \\\"y\\\": 525000.0}, {\\\"x\\\": -74.30011, \\\"y\\\": 286300.0}, {\\\"x\\\": -74.863967, \\\"y\\\": 218450.0}, {\\\"x\\\": -74.704599, \\\"y\\\": 525000.0}, {\\\"x\\\": -74.704599, \\\"y\\\": 650000.0}, {\\\"x\\\": -74.294544, \\\"y\\\": 356000.0}, {\\\"x\\\": -74.719143, \\\"y\\\": 436500.0}, {\\\"x\\\": -74.496676, \\\"y\\\": 410000.0}, {\\\"x\\\": -74.588746, \\\"y\\\": 512500.0}, {\\\"x\\\": -74.708851, \\\"y\\\": 510000.0}, {\\\"x\\\": -74.560949, \\\"y\\\": 566000.0}, {\\\"x\\\": -74.906057, \\\"y\\\": 525000.0}, {\\\"x\\\": -74.839352, \\\"y\\\": 435000.0}, {\\\"x\\\": -74.228206, \\\"y\\\": 406500.0}, {\\\"x\\\": -74.472964, \\\"y\\\": 550000.0}, {\\\"x\\\": -74.791863, \\\"y\\\": 251000.0}, {\\\"x\\\": -74.656528, \\\"y\\\": 830000.0}, {\\\"x\\\": -74.466439, \\\"y\\\": 803000.0}, {\\\"x\\\": -74.944059, \\\"y\\\": 206000.0}, {\\\"x\\\": -74.740523, \\\"y\\\": 200000.0}, {\\\"x\\\": -74.83118, \\\"y\\\": 219000.0}, {\\\"x\\\": -74.732765, \\\"y\\\": 777000.0}, {\\\"x\\\": -74.490889, \\\"y\\\": 593700.0}, {\\\"x\\\": -74.612866, \\\"y\\\": 712500.0}, {\\\"x\\\": -74.815575, \\\"y\\\": 600000.0}, {\\\"x\\\": -74.607701, \\\"y\\\": 554663.0}, {\\\"x\\\": -74.814396, \\\"y\\\": 267000.0}, {\\\"x\\\": -74.565662, \\\"y\\\": 390000.0}, {\\\"x\\\": -74.760758, \\\"y\\\": 335000.0}, {\\\"x\\\": -74.687752, \\\"y\\\": 938000.0}, {\\\"x\\\": -74.932461, \\\"y\\\": 370000.0}, {\\\"x\\\": -74.755511, \\\"y\\\": 335000.0}, {\\\"x\\\": -74.683146, \\\"y\\\": 695000.0}, {\\\"x\\\": -74.916114, \\\"y\\\": 387500.0}, {\\\"x\\\": -74.78599, \\\"y\\\": 245000.0}, {\\\"x\\\": -74.290031, \\\"y\\\": 308550.0}, {\\\"x\\\": -75.004497, \\\"y\\\": 225000.0}, {\\\"x\\\": -74.35356, \\\"y\\\": 715000.0}, {\\\"x\\\": -74.597679, \\\"y\\\": 335000.0}, {\\\"x\\\": -74.469311, \\\"y\\\": 634000.0}, {\\\"x\\\": -74.755552, \\\"y\\\": 337500.0}, {\\\"x\\\": -74.712248, \\\"y\\\": 440000.0}, {\\\"x\\\": -74.274206, \\\"y\\\": 350000.0}, {\\\"x\\\": -74.833639, \\\"y\\\": 400000.0}, {\\\"x\\\": -74.58602, \\\"y\\\": 1288000.0}, {\\\"x\\\": -74.567173, \\\"y\\\": 435000.0}, {\\\"x\\\": -74.340791, \\\"y\\\": 681000.0}, {\\\"x\\\": -74.724691, \\\"y\\\": 397000.0}, {\\\"x\\\": -74.27274, \\\"y\\\": 775000.0}, {\\\"x\\\": -74.523651, \\\"y\\\": 480000.0}, {\\\"x\\\": -74.814448, \\\"y\\\": 158000.0}, {\\\"x\\\": -74.611267, \\\"y\\\": 590000.0}, {\\\"x\\\": -74.319333, \\\"y\\\": 772500.0}, {\\\"x\\\": -74.526976, \\\"y\\\": 464500.0}, {\\\"x\\\": -74.841698, \\\"y\\\": 281000.0}, {\\\"x\\\": -74.409475, \\\"y\\\": 620000.0}, {\\\"x\\\": -74.829041, \\\"y\\\": 475000.0}, {\\\"x\\\": -74.714546, \\\"y\\\": 245000.0}, {\\\"x\\\": -74.62591, \\\"y\\\": 660000.0}, {\\\"x\\\": -74.628888, \\\"y\\\": 527500.0}, {\\\"x\\\": -74.616306, \\\"y\\\": 135000.0}, {\\\"x\\\": -74.839389, \\\"y\\\": 275000.0}, {\\\"x\\\": -74.691816, \\\"y\\\": 430000.0}, {\\\"x\\\": -74.884081, \\\"y\\\": 213500.0}, {\\\"x\\\": -74.259612, \\\"y\\\": 535000.0}, {\\\"x\\\": -74.610417, \\\"y\\\": 641000.0}, {\\\"x\\\": -74.682368, \\\"y\\\": 436300.0}, {\\\"x\\\": -74.717816, \\\"y\\\": 1440000.0}, {\\\"x\\\": -74.651576, \\\"y\\\": 830000.0}, {\\\"x\\\": -74.714022, \\\"y\\\": 380000.0}, {\\\"x\\\": -74.853139, \\\"y\\\": 132500.0}, {\\\"x\\\": -74.849974, \\\"y\\\": 179950.0}, {\\\"x\\\": -74.925756, \\\"y\\\": 188200.0}, {\\\"x\\\": -74.64743, \\\"y\\\": 659000.0}, {\\\"x\\\": -74.761814, \\\"y\\\": 317000.0}, {\\\"x\\\": -74.739326, \\\"y\\\": 625000.0}, {\\\"x\\\": -74.518925, \\\"y\\\": 350000.0}, {\\\"x\\\": -74.696423, \\\"y\\\": 750000.0}, {\\\"x\\\": -74.59063, \\\"y\\\": 457000.0}, {\\\"x\\\": -74.710998, \\\"y\\\": 632500.0}, {\\\"x\\\": -74.787438, \\\"y\\\": 223000.0}, {\\\"x\\\": -74.435713, \\\"y\\\": 610000.0}, {\\\"x\\\": -74.568019, \\\"y\\\": 385000.0}, {\\\"x\\\": -74.729105, \\\"y\\\": 367500.0}, {\\\"x\\\": -74.574744, \\\"y\\\": 385100.0}, {\\\"x\\\": -74.725491, \\\"y\\\": 230000.0}, {\\\"x\\\": -74.803246, \\\"y\\\": 286000.0}, {\\\"x\\\": -74.976317, \\\"y\\\": 201700.0}, {\\\"x\\\": -74.653467, \\\"y\\\": 1350000.0}, {\\\"x\\\": -74.521683, \\\"y\\\": 525000.0}, {\\\"x\\\": -74.454581, \\\"y\\\": 361000.0}, {\\\"x\\\": -74.706629, \\\"y\\\": 530000.0}, {\\\"x\\\": -74.603319, \\\"y\\\": 455000.0}, {\\\"x\\\": -74.44954, \\\"y\\\": 421000.0}, {\\\"x\\\": -74.591232, \\\"y\\\": 640000.0}, {\\\"x\\\": -74.831262, \\\"y\\\": 240000.0}, {\\\"x\\\": -74.495317, \\\"y\\\": 360000.0}, {\\\"x\\\": -74.798263, \\\"y\\\": 157340.0}, {\\\"x\\\": -74.58769, \\\"y\\\": 1240000.0}, {\\\"x\\\": -74.593321, \\\"y\\\": 250000.0}, {\\\"x\\\": -74.405543, \\\"y\\\": 735000.0}, {\\\"x\\\": -74.684886, \\\"y\\\": 884900.0}, {\\\"x\\\": -74.340771, \\\"y\\\": 775000.0}, {\\\"x\\\": -74.529306, \\\"y\\\": 463000.0}, {\\\"x\\\": -74.679862, \\\"y\\\": 579000.0}, {\\\"x\\\": -74.665113, \\\"y\\\": 570000.0}, {\\\"x\\\": -74.383207, \\\"y\\\": 1060000.0}, {\\\"x\\\": -74.783054, \\\"y\\\": 375000.0}, {\\\"x\\\": -74.677949, \\\"y\\\": 422000.0}, {\\\"x\\\": -74.812826, \\\"y\\\": 866500.0}, {\\\"x\\\": -74.422203, \\\"y\\\": 705000.0}, {\\\"x\\\": -74.316719, \\\"y\\\": 470000.0}, {\\\"x\\\": -74.537084, \\\"y\\\": 360000.0}, {\\\"x\\\": -74.542098, \\\"y\\\": 795000.0}, {\\\"x\\\": -74.512137, \\\"y\\\": 800000.0}, {\\\"x\\\": -74.655922, \\\"y\\\": 2453500.0}, {\\\"x\\\": -74.806709, \\\"y\\\": 277284.0}, {\\\"x\\\": -74.811762, \\\"y\\\": 460000.0}, {\\\"x\\\": -74.525976, \\\"y\\\": 898888.0}, {\\\"x\\\": -74.244656, \\\"y\\\": 211000.0}, {\\\"x\\\": -74.67343, \\\"y\\\": 222000.0}, {\\\"x\\\": -74.320241, \\\"y\\\": 672000.0}, {\\\"x\\\": -74.54428, \\\"y\\\": 778000.0}, {\\\"x\\\": -74.682212, \\\"y\\\": 312500.0}, {\\\"x\\\": -74.61047, \\\"y\\\": 650000.0}, {\\\"x\\\": -74.55748, \\\"y\\\": 740000.0}, {\\\"x\\\": -74.641421, \\\"y\\\": 320000.0}, {\\\"x\\\": -74.235036, \\\"y\\\": 455000.0}, {\\\"x\\\": -74.599642, \\\"y\\\": 2450000.0}, {\\\"x\\\": -74.688357, \\\"y\\\": 500000.0}, {\\\"x\\\": -74.229219, \\\"y\\\": 325000.0}, {\\\"x\\\": -74.645365, \\\"y\\\": 416000.0}, {\\\"x\\\": -74.360288, \\\"y\\\": 495000.0}, {\\\"x\\\": -74.673948, \\\"y\\\": 549000.0}, {\\\"x\\\": -74.482212, \\\"y\\\": 589000.0}, {\\\"x\\\": -74.970759, \\\"y\\\": 194820.0}, {\\\"x\\\": -74.706899, \\\"y\\\": 405000.0}, {\\\"x\\\": -74.706899, \\\"y\\\": 625000.0}, {\\\"x\\\": -74.799406, \\\"y\\\": 205000.0}, {\\\"x\\\": -74.75299, \\\"y\\\": 345100.0}, {\\\"x\\\": -74.758898, \\\"y\\\": 200000.0}, {\\\"x\\\": -74.603904, \\\"y\\\": 1905000.0}, {\\\"x\\\": -74.275215, \\\"y\\\": 524500.0}, {\\\"x\\\": -74.261186, \\\"y\\\": 598600.0}, {\\\"x\\\": -74.724199, \\\"y\\\": 367777.0}, {\\\"x\\\": -74.727498, \\\"y\\\": 750000.0}, {\\\"x\\\": -74.450249, \\\"y\\\": 575000.0}, {\\\"x\\\": -74.796095, \\\"y\\\": 84000.0}, {\\\"x\\\": -74.74273, \\\"y\\\": 255000.0}, {\\\"x\\\": -74.618185, \\\"y\\\": 1740000.0}, {\\\"x\\\": -74.818693, \\\"y\\\": 415000.0}, {\\\"x\\\": -74.971706, \\\"y\\\": 449900.0}, {\\\"x\\\": -74.795947, \\\"y\\\": 220000.0}, {\\\"x\\\": -74.402329, \\\"y\\\": 899000.0}, {\\\"x\\\": -74.598473, \\\"y\\\": 430000.0}, {\\\"x\\\": -74.846206, \\\"y\\\": 472500.0}, {\\\"x\\\": -74.558678, \\\"y\\\": 680000.0}, {\\\"x\\\": -74.52283, \\\"y\\\": 1650000.0}, {\\\"x\\\": -74.617618, \\\"y\\\": 810000.0}, {\\\"x\\\": -74.54928, \\\"y\\\": 605000.0}, {\\\"x\\\": -74.485166, \\\"y\\\": 522000.0}, {\\\"x\\\": -74.387384, \\\"y\\\": 759000.0}, {\\\"x\\\": -74.758103, \\\"y\\\": 411000.0}, {\\\"x\\\": -74.933878, \\\"y\\\": 286950.0}, {\\\"x\\\": -74.687776, \\\"y\\\": 440000.0}, {\\\"x\\\": -74.846689, \\\"y\\\": 149000.0}, {\\\"x\\\": -74.846689, \\\"y\\\": 284700.0}, {\\\"x\\\": -74.467629, \\\"y\\\": 374950.0}, {\\\"x\\\": -74.575662, \\\"y\\\": 816000.0}, {\\\"x\\\": -74.523594, \\\"y\\\": 533250.0}, {\\\"x\\\": -74.610398, \\\"y\\\": 689800.0}, {\\\"x\\\": -74.568205, \\\"y\\\": 775000.0}, {\\\"x\\\": -74.514266, \\\"y\\\": 702000.0}, {\\\"x\\\": -74.839692, \\\"y\\\": 160000.0}, {\\\"x\\\": -74.839692, \\\"y\\\": 255500.0}, {\\\"x\\\": -74.524085, \\\"y\\\": 949000.0}, {\\\"x\\\": -74.695478, \\\"y\\\": 169500.0}, {\\\"x\\\": -74.587738, \\\"y\\\": 586000.0}, {\\\"x\\\": -74.390752, \\\"y\\\": 680000.0}, {\\\"x\\\": -74.568604, \\\"y\\\": 851500.0}, {\\\"x\\\": -74.739279, \\\"y\\\": 582500.0}, {\\\"x\\\": -74.151703, \\\"y\\\": 637000.0}, {\\\"x\\\": -74.862217, \\\"y\\\": 225000.0}, {\\\"x\\\": -74.719008, \\\"y\\\": 795000.0}, {\\\"x\\\": -75.028756, \\\"y\\\": 304999.0}, {\\\"x\\\": -74.909914, \\\"y\\\": 95000.0}, {\\\"x\\\": -74.692626, \\\"y\\\": 240000.0}, {\\\"x\\\": -74.584224, \\\"y\\\": 772000.0}, {\\\"x\\\": -74.943734, \\\"y\\\": 245000.0}, {\\\"x\\\": -74.818222, \\\"y\\\": 430000.0}, {\\\"x\\\": -74.70044, \\\"y\\\": 799000.0}, {\\\"x\\\": -74.486409, \\\"y\\\": 880000.0}, {\\\"x\\\": -74.373806, \\\"y\\\": 750000.0}, {\\\"x\\\": -74.650464, \\\"y\\\": 2890000.0}, {\\\"x\\\": -74.425712, \\\"y\\\": 532000.0}, {\\\"x\\\": -74.51119, \\\"y\\\": 525000.0}, {\\\"x\\\": -74.935662, \\\"y\\\": 239000.0}, {\\\"x\\\": -74.812916, \\\"y\\\": 460000.0}, {\\\"x\\\": -74.560841, \\\"y\\\": 540000.0}, {\\\"x\\\": -74.671495, \\\"y\\\": 475000.0}, {\\\"x\\\": -74.755017, \\\"y\\\": 445000.0}, {\\\"x\\\": -74.639731, \\\"y\\\": 1575000.0}, {\\\"x\\\": -74.659855, \\\"y\\\": 549950.0}, {\\\"x\\\": -74.829134, \\\"y\\\": 294950.0}, {\\\"x\\\": -74.714937, \\\"y\\\": 736000.0}, {\\\"x\\\": -74.714311, \\\"y\\\": 214946.0}, {\\\"x\\\": -74.451307, \\\"y\\\": 856000.0}, {\\\"x\\\": -74.308831, \\\"y\\\": 775000.0}, {\\\"x\\\": -74.921105, \\\"y\\\": 205000.0}, {\\\"x\\\": -75.119734, \\\"y\\\": 429592.0}, {\\\"x\\\": -74.356432, \\\"y\\\": 414250.0}, {\\\"x\\\": -74.812073, \\\"y\\\": 399950.0}, {\\\"x\\\": -74.772328, \\\"y\\\": 319990.0}, {\\\"x\\\": -74.483168, \\\"y\\\": 524000.0}, {\\\"x\\\": -74.244378, \\\"y\\\": 349950.0}, {\\\"x\\\": -74.621063, \\\"y\\\": 889000.0}, {\\\"x\\\": -74.831181, \\\"y\\\": 300000.0}, {\\\"x\\\": -74.721786, \\\"y\\\": 395000.0}, {\\\"x\\\": -74.660739, \\\"y\\\": 348000.0}, {\\\"x\\\": -74.528809, \\\"y\\\": 830000.0}, {\\\"x\\\": -74.773284, \\\"y\\\": 173000.0}, {\\\"x\\\": -74.675547, \\\"y\\\": 585000.0}, {\\\"x\\\": -74.81317, \\\"y\\\": 576750.0}, {\\\"x\\\": -74.814153, \\\"y\\\": 495000.0}, {\\\"x\\\": -74.779643, \\\"y\\\": 216650.0}, {\\\"x\\\": -74.507966, \\\"y\\\": 615000.0}, {\\\"x\\\": -74.558275, \\\"y\\\": 675000.0}, {\\\"x\\\": -74.40127, \\\"y\\\": 510000.0}, {\\\"x\\\": -74.625129, \\\"y\\\": 630000.0}, {\\\"x\\\": -74.803208, \\\"y\\\": 359950.0}, {\\\"x\\\": -74.690862, \\\"y\\\": 265000.0}, {\\\"x\\\": -74.75197, \\\"y\\\": 210000.0}, {\\\"x\\\": -74.676437, \\\"y\\\": 367000.0}, {\\\"x\\\": -74.67723, \\\"y\\\": 1075000.0}, {\\\"x\\\": -74.759342, \\\"y\\\": 756000.0}, {\\\"x\\\": -74.847437, \\\"y\\\": 203000.0}, {\\\"x\\\": -74.792628, \\\"y\\\": 535000.0}, {\\\"x\\\": -74.726906, \\\"y\\\": 525000.0}, {\\\"x\\\": -74.680462, \\\"y\\\": 347500.0}, {\\\"x\\\": -74.475272, \\\"y\\\": 620000.0}, {\\\"x\\\": -74.556226, \\\"y\\\": 645000.0}, {\\\"x\\\": -74.654469, \\\"y\\\": 2200000.0}, {\\\"x\\\": -74.819465, \\\"y\\\": 280000.0}, {\\\"x\\\": -74.614079, \\\"y\\\": 432000.0}, {\\\"x\\\": -74.795581, \\\"y\\\": 790000.0}, {\\\"x\\\": -74.489684, \\\"y\\\": 635000.0}, {\\\"x\\\": -74.845824, \\\"y\\\": 442000.0}, {\\\"x\\\": -74.350304, \\\"y\\\": 490000.0}, {\\\"x\\\": -74.9426, \\\"y\\\": 250000.0}, {\\\"x\\\": -74.732412, \\\"y\\\": 1325000.0}, {\\\"x\\\": -74.910825, \\\"y\\\": 120000.0}, {\\\"x\\\": -74.701143, \\\"y\\\": 2950000.0}, {\\\"x\\\": -74.674787, \\\"y\\\": 325000.0}, {\\\"x\\\": -74.878395, \\\"y\\\": 210000.0}, {\\\"x\\\": -74.880644, \\\"y\\\": 215000.0}, {\\\"x\\\": -74.660262, \\\"y\\\": 387000.0}, {\\\"x\\\": -74.661671, \\\"y\\\": 408000.0}, {\\\"x\\\": -74.889234, \\\"y\\\": 410000.0}, {\\\"x\\\": -74.845549, \\\"y\\\": 216000.0}, {\\\"x\\\": -74.845549, \\\"y\\\": 390000.0}, {\\\"x\\\": -74.865507, \\\"y\\\": 357000.0}, {\\\"x\\\": -74.787855, \\\"y\\\": 215000.0}, {\\\"x\\\": -74.743247, \\\"y\\\": 265000.0}, {\\\"x\\\": -74.832109, \\\"y\\\": 589950.0}, {\\\"x\\\": -74.540793, \\\"y\\\": 440000.0}, {\\\"x\\\": -74.498145, \\\"y\\\": 248000.0}, {\\\"x\\\": -74.377919, \\\"y\\\": 730000.0}, {\\\"x\\\": -75.044383, \\\"y\\\": 425000.0}, {\\\"x\\\": -74.565966, \\\"y\\\": 680000.0}, {\\\"x\\\": -75.030637, \\\"y\\\": 341500.0}, {\\\"x\\\": -74.616074, \\\"y\\\": 395000.0}, {\\\"x\\\": -74.502959, \\\"y\\\": 1225000.0}, {\\\"x\\\": -74.459273, \\\"y\\\": 695500.0}, {\\\"x\\\": -74.95297, \\\"y\\\": 308000.0}, {\\\"x\\\": -74.631903, \\\"y\\\": 422500.0}, {\\\"x\\\": -74.849886, \\\"y\\\": 418000.0}, {\\\"x\\\": -74.459152, \\\"y\\\": 385000.0}, {\\\"x\\\": -74.662874, \\\"y\\\": 876650.0}, {\\\"x\\\": -74.701843, \\\"y\\\": 450000.0}, {\\\"x\\\": -74.50508, \\\"y\\\": 418800.0}, {\\\"x\\\": -74.749134, \\\"y\\\": 330000.0}, {\\\"x\\\": -74.614625, \\\"y\\\": 550000.0}, {\\\"x\\\": -74.890474, \\\"y\\\": 270000.0}, {\\\"x\\\": -74.763758, \\\"y\\\": 978500.0}, {\\\"x\\\": -74.6013, \\\"y\\\": 975000.0}, {\\\"x\\\": -74.492713, \\\"y\\\": 455000.0}, {\\\"x\\\": -74.540474, \\\"y\\\": 1415000.0}, {\\\"x\\\": -74.825455, \\\"y\\\": 220000.0}, {\\\"x\\\": -74.502344, \\\"y\\\": 490000.0}, {\\\"x\\\": -74.445926, \\\"y\\\": 420000.0}, {\\\"x\\\": -74.837057, \\\"y\\\": 408500.0}, {\\\"x\\\": -74.717258, \\\"y\\\": 716000.0}, {\\\"x\\\": -74.664736, \\\"y\\\": 965000.0}, {\\\"x\\\": -74.338219, \\\"y\\\": 357823.0}, {\\\"x\\\": -74.563532, \\\"y\\\": 7062500.0}, {\\\"x\\\": -74.583317, \\\"y\\\": 425000.0}, {\\\"x\\\": -74.821929, \\\"y\\\": 711777.0}, {\\\"x\\\": -74.464461, \\\"y\\\": 335000.0}, {\\\"x\\\": -74.799068, \\\"y\\\": 825000.0}, {\\\"x\\\": -74.795141, \\\"y\\\": 210000.0}, {\\\"x\\\": -74.606807, \\\"y\\\": 575000.0}, {\\\"x\\\": -74.609845, \\\"y\\\": 1208000.0}, {\\\"x\\\": -74.307853, \\\"y\\\": 431500.0}, {\\\"x\\\": -74.544782, \\\"y\\\": 475000.0}, {\\\"x\\\": -74.671629, \\\"y\\\": 1495000.0}, {\\\"x\\\": -74.694153, \\\"y\\\": 540000.0}, {\\\"x\\\": -74.391822, \\\"y\\\": 775000.0}, {\\\"x\\\": -74.71077, \\\"y\\\": 635000.0}, {\\\"x\\\": -74.621633, \\\"y\\\": 1300000.0}, {\\\"x\\\": -74.585934, \\\"y\\\": 405000.0}, {\\\"x\\\": -74.821094, \\\"y\\\": 210000.0}, {\\\"x\\\": -74.670667, \\\"y\\\": 880000.0}, {\\\"x\\\": -74.846573, \\\"y\\\": 239000.0}, {\\\"x\\\": -74.808147, \\\"y\\\": 515000.0}, {\\\"x\\\": -75.057394, \\\"y\\\": 1379900.0}, {\\\"x\\\": -74.92424, \\\"y\\\": 215000.0}, {\\\"x\\\": -74.668921, \\\"y\\\": 315000.0}, {\\\"x\\\": -74.587415, \\\"y\\\": 442500.0}, {\\\"x\\\": -74.757634, \\\"y\\\": 311000.0}, {\\\"x\\\": -74.647394, \\\"y\\\": 425000.0}, {\\\"x\\\": -74.64954, \\\"y\\\": 433500.0}, {\\\"x\\\": -74.597059, \\\"y\\\": 450000.0}, {\\\"x\\\": -74.434465, \\\"y\\\": 675000.0}, {\\\"x\\\": -74.411119, \\\"y\\\": 535000.0}, {\\\"x\\\": -74.576459, \\\"y\\\": 577000.0}, {\\\"x\\\": -74.592828, \\\"y\\\": 480000.0}, {\\\"x\\\": -74.518148, \\\"y\\\": 400000.0}, {\\\"x\\\": -74.572127, \\\"y\\\": 304000.0}, {\\\"x\\\": -74.683695, \\\"y\\\": 355000.0}, {\\\"x\\\": -74.673188, \\\"y\\\": 998000.0}, {\\\"x\\\": -74.43836, \\\"y\\\": 550000.0}, {\\\"x\\\": -74.43836, \\\"y\\\": 550000.0}, {\\\"x\\\": -74.768085, \\\"y\\\": 210000.0}, {\\\"x\\\": -75.083994, \\\"y\\\": 317000.0}, {\\\"x\\\": -74.444126, \\\"y\\\": 700000.0}, {\\\"x\\\": -74.64118, \\\"y\\\": 265000.0}, {\\\"x\\\": -74.420268, \\\"y\\\": 700000.0}, {\\\"x\\\": -74.475059, \\\"y\\\": 1020000.0}, {\\\"x\\\": -74.576588, \\\"y\\\": 1145000.0}, {\\\"x\\\": -74.547396, \\\"y\\\": 460000.0}, {\\\"x\\\": -74.620975, \\\"y\\\": 410000.0}, {\\\"x\\\": -74.676401, \\\"y\\\": 665000.0}, {\\\"x\\\": -74.645753, \\\"y\\\": 600000.0}, {\\\"x\\\": -74.64841, \\\"y\\\": 502000.0}, {\\\"x\\\": -74.238288, \\\"y\\\": 364950.0}, {\\\"x\\\": -74.616755, \\\"y\\\": 680000.0}, {\\\"x\\\": -74.99307, \\\"y\\\": 235500.0}, {\\\"x\\\": -74.339489, \\\"y\\\": 576000.0}, {\\\"x\\\": -74.867681, \\\"y\\\": 405000.0}, {\\\"x\\\": -74.789826, \\\"y\\\": 335000.0}, {\\\"x\\\": -74.896587, \\\"y\\\": 122000.0}, {\\\"x\\\": -74.548891, \\\"y\\\": 432000.0}, {\\\"x\\\": -74.698213, \\\"y\\\": 375000.0}, {\\\"x\\\": -74.8934, \\\"y\\\": 276000.0}, {\\\"x\\\": -74.372046, \\\"y\\\": 450000.0}, {\\\"x\\\": -74.799438, \\\"y\\\": 210000.0}, {\\\"x\\\": -74.653015, \\\"y\\\": 279000.0}, {\\\"x\\\": -74.707525, \\\"y\\\": 635000.0}, {\\\"x\\\": -75.06327, \\\"y\\\": 350000.0}, {\\\"x\\\": -74.722661, \\\"y\\\": 218000.0}, {\\\"x\\\": -74.589492, \\\"y\\\": 750000.0}, {\\\"x\\\": -75.042235, \\\"y\\\": 310597.0}, {\\\"x\\\": -74.519761, \\\"y\\\": 355000.0}, {\\\"x\\\": -74.383026, \\\"y\\\": 735000.0}, {\\\"x\\\": -74.78974, \\\"y\\\": 155000.0}, {\\\"x\\\": -74.472086, \\\"y\\\": 354000.0}, {\\\"x\\\": -74.492918, \\\"y\\\": 415000.0}, {\\\"x\\\": -74.690383, \\\"y\\\": 202000.0}, {\\\"x\\\": -74.703499, \\\"y\\\": 580000.0}, {\\\"x\\\": -74.612022, \\\"y\\\": 1495000.0}, {\\\"x\\\": -74.344064, \\\"y\\\": 790000.0}, {\\\"x\\\": -74.332892, \\\"y\\\": 499900.0}, {\\\"x\\\": -74.986696, \\\"y\\\": 525000.0}, {\\\"x\\\": -74.598784, \\\"y\\\": 810000.0}, {\\\"x\\\": -74.612453, \\\"y\\\": 425000.0}, {\\\"x\\\": -74.711178, \\\"y\\\": 241250.0}, {\\\"x\\\": -74.980593, \\\"y\\\": 318700.0}, {\\\"x\\\": -74.685986, \\\"y\\\": 720000.0}, {\\\"x\\\": -74.327965, \\\"y\\\": 291000.0}, {\\\"x\\\": -74.328187, \\\"y\\\": 420000.0}, {\\\"x\\\": -74.938565, \\\"y\\\": 210000.0}, {\\\"x\\\": -74.799905, \\\"y\\\": 645000.0}, {\\\"x\\\": -74.712926, \\\"y\\\": 762000.0}, {\\\"x\\\": -74.853075, \\\"y\\\": 247500.0}, {\\\"x\\\": -74.727866, \\\"y\\\": 282500.0}, {\\\"x\\\": -74.544275, \\\"y\\\": 395000.0}, {\\\"x\\\": -74.895379, \\\"y\\\": 295000.0}, {\\\"x\\\": -74.687615, \\\"y\\\": 235000.0}, {\\\"x\\\": -74.608232, \\\"y\\\": 770000.0}, {\\\"x\\\": -74.302762, \\\"y\\\": 559950.0}, {\\\"x\\\": -74.755581, \\\"y\\\": 639000.0}, {\\\"x\\\": -74.711505, \\\"y\\\": 314950.0}, {\\\"x\\\": -74.715544, \\\"y\\\": 525000.0}, {\\\"x\\\": -74.497856, \\\"y\\\": 2400000.0}, {\\\"x\\\": -74.627777, \\\"y\\\": 820000.0}, {\\\"x\\\": -74.738089, \\\"y\\\": 1385000.0}, {\\\"x\\\": -74.825788, \\\"y\\\": 521450.0}, {\\\"x\\\": -74.440628, \\\"y\\\": 760750.0}, {\\\"x\\\": -74.803676, \\\"y\\\": 759600.0}, {\\\"x\\\": -74.676357, \\\"y\\\": 346150.0}, {\\\"x\\\": -74.649836, \\\"y\\\": 390000.0}, {\\\"x\\\": -74.677574, \\\"y\\\": 359950.0}, {\\\"x\\\": -74.834655, \\\"y\\\": 430000.0}, {\\\"x\\\": -74.381766, \\\"y\\\": 960000.0}, {\\\"x\\\": -74.9036, \\\"y\\\": 800000.0}, {\\\"x\\\": -74.538469, \\\"y\\\": 1010000.0}, {\\\"x\\\": -74.290938, \\\"y\\\": 290000.0}, {\\\"x\\\": -74.598973, \\\"y\\\": 1350000.0}, {\\\"x\\\": -74.54127, \\\"y\\\": 777000.0}, {\\\"x\\\": -74.722187, \\\"y\\\": 526000.0}, {\\\"x\\\": -74.711916, \\\"y\\\": 550000.0}, {\\\"x\\\": -74.901211, \\\"y\\\": 276000.0}, {\\\"x\\\": -74.707931, \\\"y\\\": 2500000.0}, {\\\"x\\\": -74.743771, \\\"y\\\": 325000.0}, {\\\"x\\\": -74.825072, \\\"y\\\": 365000.0}, {\\\"x\\\": -74.570597, \\\"y\\\": 2150000.0}, {\\\"x\\\": -74.625139, \\\"y\\\": 825050.0}, {\\\"x\\\": -74.622262, \\\"y\\\": 690000.0}, {\\\"x\\\": -74.831536, \\\"y\\\": 390000.0}, {\\\"x\\\": -74.679809, \\\"y\\\": 385000.0}, {\\\"x\\\": -74.449293, \\\"y\\\": 619000.0}, {\\\"x\\\": -74.262409, \\\"y\\\": 494000.0}, {\\\"x\\\": -74.519057, \\\"y\\\": 412450.0}, {\\\"x\\\": -74.693211, \\\"y\\\": 580000.0}, {\\\"x\\\": -74.729731, \\\"y\\\": 269900.0}, {\\\"x\\\": -74.715782, \\\"y\\\": 704300.0}, {\\\"x\\\": -74.778143, \\\"y\\\": 267000.0}, {\\\"x\\\": -75.035362, \\\"y\\\": 310000.0}, {\\\"x\\\": -74.735083, \\\"y\\\": 227064.0}, {\\\"x\\\": -74.598903, \\\"y\\\": 925000.0}, {\\\"x\\\": -74.823448, \\\"y\\\": 245000.0}, {\\\"x\\\": -74.49966, \\\"y\\\": 339888.0}, {\\\"x\\\": -74.452573, \\\"y\\\": 439000.0}, {\\\"x\\\": -74.595124, \\\"y\\\": 400000.0}, {\\\"x\\\": -74.51084, \\\"y\\\": 560000.0}, {\\\"x\\\": -74.758781, \\\"y\\\": 703011.0}, {\\\"x\\\": -74.80556, \\\"y\\\": 363000.0}, {\\\"x\\\": -74.48025, \\\"y\\\": 650000.0}, {\\\"x\\\": -74.454238, \\\"y\\\": 299950.0}, {\\\"x\\\": -74.844174, \\\"y\\\": 228950.0}, {\\\"x\\\": -74.526657, \\\"y\\\": 465000.0}, {\\\"x\\\": -74.548461, \\\"y\\\": 725000.0}, {\\\"x\\\": -74.987863, \\\"y\\\": 212500.0}, {\\\"x\\\": -74.711742, \\\"y\\\": 526000.0}, {\\\"x\\\": -74.469332, \\\"y\\\": 383000.0}, {\\\"x\\\": -74.720335, \\\"y\\\": 244000.0}, {\\\"x\\\": -74.65555, \\\"y\\\": 565000.0}, {\\\"x\\\": -74.719426, \\\"y\\\": 373000.0}, {\\\"x\\\": -74.511225, \\\"y\\\": 300000.0}, {\\\"x\\\": -74.668696, \\\"y\\\": 405000.0}, {\\\"x\\\": -74.603004, \\\"y\\\": 979000.0}, {\\\"x\\\": -74.797189, \\\"y\\\": 324888.0}, {\\\"x\\\": -74.682734, \\\"y\\\": 445000.0}, {\\\"x\\\": -74.682831, \\\"y\\\": 761000.0}, {\\\"x\\\": -74.44381, \\\"y\\\": 435000.0}, {\\\"x\\\": -74.795582, \\\"y\\\": 252000.0}, {\\\"x\\\": -74.590581, \\\"y\\\": 350000.0}, {\\\"x\\\": -74.602725, \\\"y\\\": 875000.0}, {\\\"x\\\": -74.602725, \\\"y\\\": 940000.0}, {\\\"x\\\": -74.86567, \\\"y\\\": 280000.0}, {\\\"x\\\": -74.453198, \\\"y\\\": 450000.0}, {\\\"x\\\": -74.787315, \\\"y\\\": 905000.0}, {\\\"x\\\": -74.977492, \\\"y\\\": 382450.0}, {\\\"x\\\": -74.793016, \\\"y\\\": 246700.0}, {\\\"x\\\": -74.550021, \\\"y\\\": 220000.0}, {\\\"x\\\": -74.733354, \\\"y\\\": 555750.0}, {\\\"x\\\": -74.753399, \\\"y\\\": 262500.0}, {\\\"x\\\": -74.60544, \\\"y\\\": 515000.0}, {\\\"x\\\": -74.624793, \\\"y\\\": 499500.0}, {\\\"x\\\": -74.819138, \\\"y\\\": 135000.0}, {\\\"x\\\": -74.84375, \\\"y\\\": 462500.0}, {\\\"x\\\": -74.612703, \\\"y\\\": 937500.0}, {\\\"x\\\": -74.603125, \\\"y\\\": 458000.0}, {\\\"x\\\": -74.754676, \\\"y\\\": 845000.0}, {\\\"x\\\": -74.46356, \\\"y\\\": 660000.0}, {\\\"x\\\": -74.826779, \\\"y\\\": 265000.0}, {\\\"x\\\": -74.645459, \\\"y\\\": 599999.0}, {\\\"x\\\": -75.088862, \\\"y\\\": 280000.0}, {\\\"x\\\": -74.391743, \\\"y\\\": 1055000.0}, {\\\"x\\\": -74.586343, \\\"y\\\": 875000.0}, {\\\"x\\\": -74.926465, \\\"y\\\": 125000.0}, {\\\"x\\\": -74.353088, \\\"y\\\": 634800.0}, {\\\"x\\\": -74.947072, \\\"y\\\": 269950.0}, {\\\"x\\\": -74.727955, \\\"y\\\": 359950.0}, {\\\"x\\\": -74.681546, \\\"y\\\": 417000.0}, {\\\"x\\\": -74.304188, \\\"y\\\": 389000.0}, {\\\"x\\\": -74.5644, \\\"y\\\": 1038000.0}, {\\\"x\\\": -74.53457, \\\"y\\\": 698000.0}, {\\\"x\\\": -74.554396, \\\"y\\\": 685000.0}, {\\\"x\\\": -74.819014, \\\"y\\\": 198500.0}, {\\\"x\\\": -74.711858, \\\"y\\\": 350000.0}, {\\\"x\\\": -74.519002, \\\"y\\\": 649950.0}, {\\\"x\\\": -74.45893, \\\"y\\\": 441000.0}, {\\\"x\\\": -74.488731, \\\"y\\\": 462600.0}, {\\\"x\\\": -74.808605, \\\"y\\\": 365070.0}, {\\\"x\\\": -74.568989, \\\"y\\\": 550000.0}, {\\\"x\\\": -74.741307, \\\"y\\\": 470000.0}, {\\\"x\\\": -74.324789, \\\"y\\\": 340000.0}, {\\\"x\\\": -74.510034, \\\"y\\\": 910000.0}, {\\\"x\\\": -74.482896, \\\"y\\\": 405000.0}, {\\\"x\\\": -74.815923, \\\"y\\\": 661000.0}, {\\\"x\\\": -74.524512, \\\"y\\\": 635000.0}, {\\\"x\\\": -74.602092, \\\"y\\\": 282000.0}, {\\\"x\\\": -74.833844, \\\"y\\\": 235000.0}, {\\\"x\\\": -75.076455, \\\"y\\\": 277500.0}, {\\\"x\\\": -74.691858, \\\"y\\\": 346500.0}, {\\\"x\\\": -74.860262, \\\"y\\\": 480000.0}, {\\\"x\\\": -74.231113, \\\"y\\\": 360000.0}, {\\\"x\\\": -74.856596, \\\"y\\\": 245000.0}, {\\\"x\\\": -74.694283, \\\"y\\\": 625000.0}, {\\\"x\\\": -74.644101, \\\"y\\\": 750500.0}, {\\\"x\\\": -74.393279, \\\"y\\\": 525000.0}, {\\\"x\\\": -74.330817, \\\"y\\\": 740000.0}, {\\\"x\\\": -74.521311, \\\"y\\\": 523000.0}, {\\\"x\\\": -74.739876, \\\"y\\\": 292000.0}, {\\\"x\\\": -74.612056, \\\"y\\\": 625000.0}, {\\\"x\\\": -74.32664, \\\"y\\\": 700000.0}, {\\\"x\\\": -74.697686, \\\"y\\\": 399950.0}, {\\\"x\\\": -74.700261, \\\"y\\\": 545000.0}, {\\\"x\\\": -74.586358, \\\"y\\\": 339999.0}, {\\\"x\\\": -74.676398, \\\"y\\\": 1210000.0}, {\\\"x\\\": -74.429039, \\\"y\\\": 545000.0}, {\\\"x\\\": -75.067557, \\\"y\\\": 260000.0}, {\\\"x\\\": -74.605514, \\\"y\\\": 526000.0}, {\\\"x\\\": -74.633724, \\\"y\\\": 701000.0}, {\\\"x\\\": -74.7254, \\\"y\\\": 290000.0}, {\\\"x\\\": -74.692396, \\\"y\\\": 330600.0}, {\\\"x\\\": -74.635913, \\\"y\\\": 550500.0}, {\\\"x\\\": -74.804982, \\\"y\\\": 430000.0}, {\\\"x\\\": -74.60908, \\\"y\\\": 4000000.0}, {\\\"x\\\": -74.833632, \\\"y\\\": 260600.0}, {\\\"x\\\": -74.676931, \\\"y\\\": 825000.0}, {\\\"x\\\": -74.56707, \\\"y\\\": 378950.0}, {\\\"x\\\": -74.233568, \\\"y\\\": 435000.0}, {\\\"x\\\": -74.606835, \\\"y\\\": 631000.0}, {\\\"x\\\": -74.695993, \\\"y\\\": 415000.0}, {\\\"x\\\": -74.966845, \\\"y\\\": 222000.0}, {\\\"x\\\": -74.722905, \\\"y\\\": 245000.0}, {\\\"x\\\": -74.404775, \\\"y\\\": 720000.0}, {\\\"x\\\": -74.908516, \\\"y\\\": 215000.0}, {\\\"x\\\": -74.655591, \\\"y\\\": 579100.0}, {\\\"x\\\": -74.634173, \\\"y\\\": 522500.0}, {\\\"x\\\": -74.638893, \\\"y\\\": 489000.0}, {\\\"x\\\": -74.835984, \\\"y\\\": 240000.0}, {\\\"x\\\": -74.306917, \\\"y\\\": 420250.0}, {\\\"x\\\": -74.523441, \\\"y\\\": 523000.0}, {\\\"x\\\": -74.610335, \\\"y\\\": 628000.0}, {\\\"x\\\": -74.786697, \\\"y\\\": 320000.0}, {\\\"x\\\": -74.74998, \\\"y\\\": 359950.0}, {\\\"x\\\": -74.903398, \\\"y\\\": 232000.0}, {\\\"x\\\": -74.584691, \\\"y\\\": 810000.0}, {\\\"x\\\": -74.915996, \\\"y\\\": 245000.0}, {\\\"x\\\": -75.036345, \\\"y\\\": 273000.0}, {\\\"x\\\": -74.566194, \\\"y\\\": 1191000.0}, {\\\"x\\\": -74.834793, \\\"y\\\": 438000.0}, {\\\"x\\\": -74.723341, \\\"y\\\": 400000.0}, {\\\"x\\\": -74.828985, \\\"y\\\": 340000.0}, {\\\"x\\\": -74.689334, \\\"y\\\": 552000.0}, {\\\"x\\\": -74.654998, \\\"y\\\": 790000.0}, {\\\"x\\\": -74.796761, \\\"y\\\": 360000.0}, {\\\"x\\\": -74.830706, \\\"y\\\": 235000.0}, {\\\"x\\\": -74.692765, \\\"y\\\": 775000.0}, {\\\"x\\\": -74.500401, \\\"y\\\": 489200.0}, {\\\"x\\\": -74.690741, \\\"y\\\": 341000.0}, {\\\"x\\\": -74.822255, \\\"y\\\": 335000.0}, {\\\"x\\\": -74.819692, \\\"y\\\": 393500.0}, {\\\"x\\\": -74.735419, \\\"y\\\": 360000.0}, {\\\"x\\\": -74.815112, \\\"y\\\": 400800.0}, {\\\"x\\\": -74.761703, \\\"y\\\": 585000.0}, {\\\"x\\\": -74.609425, \\\"y\\\": 1600000.0}, {\\\"x\\\": -74.64148, \\\"y\\\": 2880500.0}, {\\\"x\\\": -74.59187, \\\"y\\\": 300000.0}, {\\\"x\\\": -74.680994, \\\"y\\\": 1045000.0}, {\\\"x\\\": -74.668345, \\\"y\\\": 360000.0}, {\\\"x\\\": -74.875385, \\\"y\\\": 665900.0}, {\\\"x\\\": -74.754411, \\\"y\\\": 470000.0}, {\\\"x\\\": -74.483782, \\\"y\\\": 581000.0}, {\\\"x\\\": -74.576196, \\\"y\\\": 527000.0}, {\\\"x\\\": -74.544453, \\\"y\\\": 423000.0}, {\\\"x\\\": -74.658052, \\\"y\\\": 875000.0}, {\\\"x\\\": -74.820818, \\\"y\\\": 410000.0}, {\\\"x\\\": -74.427828, \\\"y\\\": 606000.0}, {\\\"x\\\": -74.244528, \\\"y\\\": 654000.0}, {\\\"x\\\": -73.604078, \\\"y\\\": 150000.0}, {\\\"x\\\": -74.829464, \\\"y\\\": 373000.0}, {\\\"x\\\": -74.634137, \\\"y\\\": 550000.0}, {\\\"x\\\": -74.487915, \\\"y\\\": 512500.0}, {\\\"x\\\": -74.676258, \\\"y\\\": 360000.0}, {\\\"x\\\": -74.703075, \\\"y\\\": 369000.0}, {\\\"x\\\": -74.474306, \\\"y\\\": 825000.0}, {\\\"x\\\": -74.280824, \\\"y\\\": 255000.0}, {\\\"x\\\": -74.590894, \\\"y\\\": 1285000.0}, {\\\"x\\\": -74.909519, \\\"y\\\": 270000.0}, {\\\"x\\\": -74.438134, \\\"y\\\": 480680.0}, {\\\"x\\\": -74.544014, \\\"y\\\": 525000.0}, {\\\"x\\\": -74.569518, \\\"y\\\": 291500.0}, {\\\"x\\\": -74.65588, \\\"y\\\": 305000.0}, {\\\"x\\\": -74.91555, \\\"y\\\": 285000.0}, {\\\"x\\\": -74.746431, \\\"y\\\": 1875000.0}, {\\\"x\\\": -74.840369, \\\"y\\\": 329500.0}, {\\\"x\\\": -74.692327, \\\"y\\\": 1570000.0}, {\\\"x\\\": -74.919347, \\\"y\\\": 379260.0}, {\\\"x\\\": -74.347245, \\\"y\\\": 356000.0}, {\\\"x\\\": -74.540456, \\\"y\\\": 571900.0}, {\\\"x\\\": -74.909418, \\\"y\\\": 271500.0}, {\\\"x\\\": -74.456548, \\\"y\\\": 390000.0}, {\\\"x\\\": -74.657566, \\\"y\\\": 550000.0}, {\\\"x\\\": -74.686612, \\\"y\\\": 755000.0}, {\\\"x\\\": -74.748968, \\\"y\\\": 509500.0}, {\\\"x\\\": -74.650811, \\\"y\\\": 486700.0}, {\\\"x\\\": -74.668647, \\\"y\\\": 527500.0}, {\\\"x\\\": -74.713656, \\\"y\\\": 475000.0}, {\\\"x\\\": -74.752505, \\\"y\\\": 268000.0}, {\\\"x\\\": -74.430935, \\\"y\\\": 562000.0}, {\\\"x\\\": -74.690519, \\\"y\\\": 780000.0}, {\\\"x\\\": -74.686418, \\\"y\\\": 700000.0}, {\\\"x\\\": -74.709016, \\\"y\\\": 710000.0}, {\\\"x\\\": -74.595315, \\\"y\\\": 445000.0}, {\\\"x\\\": -74.589332, \\\"y\\\": 729000.0}, {\\\"x\\\": -74.599476, \\\"y\\\": 384400.0}, {\\\"x\\\": -74.628623, \\\"y\\\": 815000.0}, {\\\"x\\\": -74.683634, \\\"y\\\": 865000.0}, {\\\"x\\\": -74.509255, \\\"y\\\": 514000.0}, {\\\"x\\\": -74.616407, \\\"y\\\": 615000.0}, {\\\"x\\\": -74.369836, \\\"y\\\": 865000.0}, {\\\"x\\\": -74.411103, \\\"y\\\": 755000.0}, {\\\"x\\\": -74.554792, \\\"y\\\": 425000.0}, {\\\"x\\\": -74.847661, \\\"y\\\": 375000.0}, {\\\"x\\\": -74.407225, \\\"y\\\": 750000.0}, {\\\"x\\\": -74.398158, \\\"y\\\": 722000.0}, {\\\"x\\\": -74.725595, \\\"y\\\": 1011000.0}, {\\\"x\\\": -74.471926, \\\"y\\\": 725000.0}, {\\\"x\\\": -74.747375, \\\"y\\\": 170000.0}, {\\\"x\\\": -74.504405, \\\"y\\\": 845000.0}, {\\\"x\\\": -74.794527, \\\"y\\\": 271900.0}, {\\\"x\\\": -74.815426, \\\"y\\\": 1300000.0}, {\\\"x\\\": -75.075606, \\\"y\\\": 261500.0}, {\\\"x\\\": -74.450556, \\\"y\\\": 619500.0}, {\\\"x\\\": -74.337956, \\\"y\\\": 435000.0}, {\\\"x\\\": -74.603545, \\\"y\\\": 210000.0}, {\\\"x\\\": -74.69362, \\\"y\\\": 489950.0}, {\\\"x\\\": -74.9053, \\\"y\\\": 260000.0}, {\\\"x\\\": -74.564992, \\\"y\\\": 300000.0}, {\\\"x\\\": -74.98565, \\\"y\\\": 530000.0}, {\\\"x\\\": -74.866005, \\\"y\\\": 235000.0}, {\\\"x\\\": -74.653449, \\\"y\\\": 593500.0}, {\\\"x\\\": -74.959846, \\\"y\\\": 562000.0}, {\\\"x\\\": -74.741191, \\\"y\\\": 585000.0}, {\\\"x\\\": -74.580702, \\\"y\\\": 2400000.0}, {\\\"x\\\": -74.82126, \\\"y\\\": 199500.0}, {\\\"x\\\": -74.650034, \\\"y\\\": 544500.0}, {\\\"x\\\": -74.509077, \\\"y\\\": 394900.0}, {\\\"x\\\": -74.665901, \\\"y\\\": 912000.0}, {\\\"x\\\": -74.720607, \\\"y\\\": 260000.0}, {\\\"x\\\": -74.63979, \\\"y\\\": 858000.0}, {\\\"x\\\": -74.666652, \\\"y\\\": 1275000.0}, {\\\"x\\\": -74.776766, \\\"y\\\": 242150.0}, {\\\"x\\\": -75.07534, \\\"y\\\": 220000.0}, {\\\"x\\\": -75.068537, \\\"y\\\": 235000.0}, {\\\"x\\\": -74.5789, \\\"y\\\": 370000.0}, {\\\"x\\\": -74.301206, \\\"y\\\": 450000.0}, {\\\"x\\\": -74.611187, \\\"y\\\": 534950.0}, {\\\"x\\\": -74.33459, \\\"y\\\": 730000.0}, {\\\"x\\\": -74.846863, \\\"y\\\": 465000.0}, {\\\"x\\\": -74.810302, \\\"y\\\": 178000.0}, {\\\"x\\\": -74.79462, \\\"y\\\": 215000.0}, {\\\"x\\\": -75.031933, \\\"y\\\": 300000.0}, {\\\"x\\\": -74.597486, \\\"y\\\": 430000.0}, {\\\"x\\\": -74.880368, \\\"y\\\": 183000.0}, {\\\"x\\\": -74.741378, \\\"y\\\": 585000.0}, {\\\"x\\\": -74.866392, \\\"y\\\": 192950.0}, {\\\"x\\\": -74.65722, \\\"y\\\": 599000.0}, {\\\"x\\\": -74.792674, \\\"y\\\": 326500.0}, {\\\"x\\\": -74.643758, \\\"y\\\": 358803.0}, {\\\"x\\\": -74.496906, \\\"y\\\": 537000.0}, {\\\"x\\\": -74.875647, \\\"y\\\": 1155000.0}, {\\\"x\\\": -74.917218, \\\"y\\\": 156000.0}, {\\\"x\\\": -74.788102, \\\"y\\\": 219000.0}, {\\\"x\\\": -74.723718, \\\"y\\\": 1190000.0}, {\\\"x\\\": -74.799392, \\\"y\\\": 248000.0}, {\\\"x\\\": -74.698598, \\\"y\\\": 340000.0}, {\\\"x\\\": -74.689055, \\\"y\\\": 899100.0}, {\\\"x\\\": -74.550495, \\\"y\\\": 346950.0}, {\\\"x\\\": -74.750954, \\\"y\\\": 330000.0}, {\\\"x\\\": -74.597741, \\\"y\\\": 325000.0}, {\\\"x\\\": -74.682738, \\\"y\\\": 315000.0}, {\\\"x\\\": -74.729492, \\\"y\\\": 649950.0}, {\\\"x\\\": -74.624838, \\\"y\\\": 316000.0}, {\\\"x\\\": -74.361555, \\\"y\\\": 386000.0}, {\\\"x\\\": -74.851466, \\\"y\\\": 535000.0}, {\\\"x\\\": -74.643915, \\\"y\\\": 600000.0}, {\\\"x\\\": -74.823188, \\\"y\\\": 339000.0}, {\\\"x\\\": -74.868265, \\\"y\\\": 167000.0}, {\\\"x\\\": -74.710841, \\\"y\\\": 430000.0}, {\\\"x\\\": -74.346199, \\\"y\\\": 688000.0}, {\\\"x\\\": -74.76193, \\\"y\\\": 834500.0}, {\\\"x\\\": -74.64451, \\\"y\\\": 1075000.0}, {\\\"x\\\": -74.818227, \\\"y\\\": 250000.0}, {\\\"x\\\": -74.730956, \\\"y\\\": 402500.0}, {\\\"x\\\": -74.468254, \\\"y\\\": 432500.0}, {\\\"x\\\": -74.478519, \\\"y\\\": 485000.0}, {\\\"x\\\": -75.061479, \\\"y\\\": 560000.0}, {\\\"x\\\": -74.569801, \\\"y\\\": 410000.0}, {\\\"x\\\": -74.479462, \\\"y\\\": 455000.0}, {\\\"x\\\": -74.54864, \\\"y\\\": 459500.0}, {\\\"x\\\": -74.448967, \\\"y\\\": 371000.0}, {\\\"x\\\": -74.83371, \\\"y\\\": 289500.0}, {\\\"x\\\": -74.732102, \\\"y\\\": 395000.0}, {\\\"x\\\": -74.70872, \\\"y\\\": 496752.0}, {\\\"x\\\": -74.609096, \\\"y\\\": 227000.0}, {\\\"x\\\": -74.673726, \\\"y\\\": 330000.0}, {\\\"x\\\": -74.514823, \\\"y\\\": 480000.0}, {\\\"x\\\": -74.173865, \\\"y\\\": 290000.0}, {\\\"x\\\": -74.870905, \\\"y\\\": 281000.0}, {\\\"x\\\": -74.705045, \\\"y\\\": 705000.0}, {\\\"x\\\": -74.6226, \\\"y\\\": 1400000.0}, {\\\"x\\\": -74.537618, \\\"y\\\": 485000.0}, {\\\"x\\\": -74.705727, \\\"y\\\": 622000.0}, {\\\"x\\\": -74.81349, \\\"y\\\": 380000.0}, {\\\"x\\\": -74.535734, \\\"y\\\": 2125000.0}, {\\\"x\\\": -74.618557, \\\"y\\\": 561500.0}, {\\\"x\\\": -74.322501, \\\"y\\\": 242000.0}, {\\\"x\\\": -74.638752, \\\"y\\\": 348500.0}, {\\\"x\\\": -74.638752, \\\"y\\\": 370000.0}, {\\\"x\\\": -74.646086, \\\"y\\\": 752000.0}, {\\\"x\\\": -74.723669, \\\"y\\\": 230000.0}, {\\\"x\\\": -74.727479, \\\"y\\\": 715000.0}, {\\\"x\\\": -74.941455, \\\"y\\\": 240415.0}, {\\\"x\\\": -74.654676, \\\"y\\\": 562000.0}, {\\\"x\\\": -74.846863, \\\"y\\\": 360000.0}, {\\\"x\\\": -74.732249, \\\"y\\\": 659950.0}, {\\\"x\\\": -74.84153, \\\"y\\\": 458500.0}, {\\\"x\\\": -74.835581, \\\"y\\\": 259950.0}, {\\\"x\\\": -74.757829, \\\"y\\\": 366000.0}, {\\\"x\\\": -74.635425, \\\"y\\\": 978000.0}, {\\\"x\\\": -74.607136, \\\"y\\\": 525000.0}, {\\\"x\\\": -74.72278, \\\"y\\\": 926300.0}, {\\\"x\\\": -74.653403, \\\"y\\\": 750000.0}, {\\\"x\\\": -74.537685, \\\"y\\\": 660000.0}, {\\\"x\\\": -74.582425, \\\"y\\\": 305000.0}, {\\\"x\\\": -74.317941, \\\"y\\\": 800000.0}, {\\\"x\\\": -74.459786, \\\"y\\\": 600000.0}, {\\\"x\\\": -74.546644, \\\"y\\\": 435000.0}, {\\\"x\\\": -74.719331, \\\"y\\\": 1135000.0}, {\\\"x\\\": -74.622886, \\\"y\\\": 318000.0}, {\\\"x\\\": -74.697444, \\\"y\\\": 639000.0}, {\\\"x\\\": -74.464909, \\\"y\\\": 453000.0}, {\\\"x\\\": -74.614137, \\\"y\\\": 800000.0}, {\\\"x\\\": -74.670427, \\\"y\\\": 437000.0}, {\\\"x\\\": -75.03543, \\\"y\\\": 1150000.0}, {\\\"x\\\": -74.492673, \\\"y\\\": 490000.0}, {\\\"x\\\": -74.455769, \\\"y\\\": 499950.0}, {\\\"x\\\": -74.699464, \\\"y\\\": 160134.0}, {\\\"x\\\": -74.906437, \\\"y\\\": 191000.0}, {\\\"x\\\": -74.944961, \\\"y\\\": 221000.0}, {\\\"x\\\": -74.739234, \\\"y\\\": 352800.0}, {\\\"x\\\": -74.24277, \\\"y\\\": 350000.0}, {\\\"x\\\": -74.663213, \\\"y\\\": 458000.0}, {\\\"x\\\": -74.821154, \\\"y\\\": 359950.0}, {\\\"x\\\": -74.877977, \\\"y\\\": 1050000.0}, {\\\"x\\\": -74.745448, \\\"y\\\": 353000.0}, {\\\"x\\\": -74.410198, \\\"y\\\": 717550.0}, {\\\"x\\\": -74.464971, \\\"y\\\": 450000.0}, {\\\"x\\\": -74.723392, \\\"y\\\": 167500.0}, {\\\"x\\\": -75.020285, \\\"y\\\": 550000.0}, {\\\"x\\\": -74.675629, \\\"y\\\": 939000.0}, {\\\"x\\\": -74.879558, \\\"y\\\": 700000.0}, {\\\"x\\\": -74.298609, \\\"y\\\": 480000.0}, {\\\"x\\\": -74.618797, \\\"y\\\": 501000.0}, {\\\"x\\\": -74.475786, \\\"y\\\": 580000.0}, {\\\"x\\\": -74.232673, \\\"y\\\": 527550.0}, {\\\"x\\\": -74.680146, \\\"y\\\": 399000.0}, {\\\"x\\\": -74.84934, \\\"y\\\": 240000.0}, {\\\"x\\\": -74.7998, \\\"y\\\": 353000.0}, {\\\"x\\\": -74.762036, \\\"y\\\": 335000.0}, {\\\"x\\\": -74.716282, \\\"y\\\": 475000.0}, {\\\"x\\\": -74.704142, \\\"y\\\": 660000.0}, {\\\"x\\\": -74.709961, \\\"y\\\": 551000.0}, {\\\"x\\\": -74.830415, \\\"y\\\": 249950.0}, {\\\"x\\\": -74.471263, \\\"y\\\": 1150000.0}, {\\\"x\\\": -74.821641, \\\"y\\\": 575000.0}, {\\\"x\\\": -74.584744, \\\"y\\\": 1088889.0}, {\\\"x\\\": -74.338003, \\\"y\\\": 515000.0}, {\\\"x\\\": -74.82862, \\\"y\\\": 235000.0}, {\\\"x\\\": -74.683906, \\\"y\\\": 796000.0}, {\\\"x\\\": -74.656607, \\\"y\\\": 450000.0}, {\\\"x\\\": -74.819216, \\\"y\\\": 2050000.0}, {\\\"x\\\": -74.790189, \\\"y\\\": 270000.0}, {\\\"x\\\": -74.84346, \\\"y\\\": 1705000.0}, {\\\"x\\\": -74.805986, \\\"y\\\": 565000.0}, {\\\"x\\\": -74.68633, \\\"y\\\": 680000.0}, {\\\"x\\\": -74.604581, \\\"y\\\": 5570000.0}, {\\\"x\\\": -74.291609, \\\"y\\\": 864500.0}, {\\\"x\\\": -74.675429, \\\"y\\\": 1150000.0}, {\\\"x\\\": -74.816148, \\\"y\\\": 335000.0}, {\\\"x\\\": -74.466134, \\\"y\\\": 911000.0}, {\\\"x\\\": -74.819531, \\\"y\\\": 425000.0}, {\\\"x\\\": -74.636478, \\\"y\\\": 299950.0}, {\\\"x\\\": -74.3932, \\\"y\\\": 864000.0}, {\\\"x\\\": -74.74512, \\\"y\\\": 425000.0}, {\\\"x\\\": -74.607664, \\\"y\\\": 374950.0}, {\\\"x\\\": -74.916615, \\\"y\\\": 247000.0}, {\\\"x\\\": -74.710782, \\\"y\\\": 475000.0}, {\\\"x\\\": -74.838834, \\\"y\\\": 275000.0}, {\\\"x\\\": -74.29973, \\\"y\\\": 355000.0}, {\\\"x\\\": -74.787479, \\\"y\\\": 285000.0}, {\\\"x\\\": -74.875646, \\\"y\\\": 1338750.0}, {\\\"x\\\": -74.127055, \\\"y\\\": 325000.0}, {\\\"x\\\": -74.540798, \\\"y\\\": 1670000.0}, {\\\"x\\\": -74.924388, \\\"y\\\": 402000.0}, {\\\"x\\\": -74.696348, \\\"y\\\": 1100000.0}, {\\\"x\\\": -74.516635, \\\"y\\\": 375000.0}, {\\\"x\\\": -74.491103, \\\"y\\\": 396000.0}, {\\\"x\\\": -74.686319, \\\"y\\\": 320000.0}, {\\\"x\\\": -74.350415, \\\"y\\\": 610000.0}, {\\\"x\\\": -74.718489, \\\"y\\\": 249950.0}, {\\\"x\\\": -74.778835, \\\"y\\\": 675000.0}, {\\\"x\\\": -74.83138, \\\"y\\\": 448000.0}, {\\\"x\\\": -74.73125, \\\"y\\\": 819000.0}, {\\\"x\\\": -74.617424, \\\"y\\\": 1250000.0}, {\\\"x\\\": -74.833285, \\\"y\\\": 225000.0}, {\\\"x\\\": -74.165665, \\\"y\\\": 790000.0}, {\\\"x\\\": -74.82965, \\\"y\\\": 685000.0}, {\\\"x\\\": -74.431668, \\\"y\\\": 812000.0}, {\\\"x\\\": -74.300011, \\\"y\\\": 705000.0}, {\\\"x\\\": -74.836092, \\\"y\\\": 360000.0}, {\\\"x\\\": -74.710881, \\\"y\\\": 344000.0}, {\\\"x\\\": -74.66612, \\\"y\\\": 825000.0}, {\\\"x\\\": -74.593638, \\\"y\\\": 476500.0}, {\\\"x\\\": -74.846457, \\\"y\\\": 379500.0}, {\\\"x\\\": -74.400711, \\\"y\\\": 620000.0}, {\\\"x\\\": -74.871558, \\\"y\\\": 477590.0}, {\\\"x\\\": -74.668039, \\\"y\\\": 490000.0}, {\\\"x\\\": -74.693695, \\\"y\\\": 470000.0}, {\\\"x\\\": -74.679532, \\\"y\\\": 500000.0}, {\\\"x\\\": -74.557888, \\\"y\\\": 370000.0}, {\\\"x\\\": -74.641701, \\\"y\\\": 790000.0}, {\\\"x\\\": -74.546675, \\\"y\\\": 725000.0}, {\\\"x\\\": -74.70287, \\\"y\\\": 840000.0}, {\\\"x\\\": -74.907156, \\\"y\\\": 390000.0}, {\\\"x\\\": -74.521184, \\\"y\\\": 507000.0}, {\\\"x\\\": -74.746127, \\\"y\\\": 263500.0}, {\\\"x\\\": -74.829286, \\\"y\\\": 369000.0}, {\\\"x\\\": -74.759723, \\\"y\\\": 500000.0}, {\\\"x\\\": -74.717548, \\\"y\\\": 570000.0}, {\\\"x\\\": -74.843284, \\\"y\\\": 284000.0}, {\\\"x\\\": -74.69383, \\\"y\\\": 415000.0}, {\\\"x\\\": -74.724945, \\\"y\\\": 197500.0}, {\\\"x\\\": -74.561415, \\\"y\\\": 925000.0}, {\\\"x\\\": -74.718613, \\\"y\\\": 468000.0}, {\\\"x\\\": -74.566229, \\\"y\\\": 355000.0}, {\\\"x\\\": -74.756165, \\\"y\\\": 639000.0}, {\\\"x\\\": -74.414838, \\\"y\\\": 720000.0}, {\\\"x\\\": -74.56652, \\\"y\\\": 381000.0}, {\\\"x\\\": -74.392704, \\\"y\\\": 1050000.0}, {\\\"x\\\": -74.441516, \\\"y\\\": 670000.0}, {\\\"x\\\": -74.63982, \\\"y\\\": 400000.0}, {\\\"x\\\": -74.328636, \\\"y\\\": 910000.0}, {\\\"x\\\": -74.449171, \\\"y\\\": 294000.0}, {\\\"x\\\": -74.73339, \\\"y\\\": 315001.0}, {\\\"x\\\": -74.642857, \\\"y\\\": 360000.0}, {\\\"x\\\": -74.699281, \\\"y\\\": 520000.0}, {\\\"x\\\": -74.673389, \\\"y\\\": 474000.0}, {\\\"x\\\": -74.353729, \\\"y\\\": 702000.0}, {\\\"x\\\": -74.599216, \\\"y\\\": 728000.0}, {\\\"x\\\": -74.757875, \\\"y\\\": 308000.0}, {\\\"x\\\": -74.49063, \\\"y\\\": 2000000.0}, {\\\"x\\\": -74.956173, \\\"y\\\": 340000.0}, {\\\"x\\\": -74.296576, \\\"y\\\": 306500.0}, {\\\"x\\\": -74.727232, \\\"y\\\": 716000.0}, {\\\"x\\\": -74.44587, \\\"y\\\": 950000.0}, {\\\"x\\\": -74.356568, \\\"y\\\": 673200.0}, {\\\"x\\\": -74.610356, \\\"y\\\": 564500.0}, {\\\"x\\\": -74.652968, \\\"y\\\": 393000.0}, {\\\"x\\\": -74.258335, \\\"y\\\": 425000.0}, {\\\"x\\\": -74.844674, \\\"y\\\": 150000.0}, {\\\"x\\\": -74.751284, \\\"y\\\": 327000.0}, {\\\"x\\\": -74.761821, \\\"y\\\": 444900.0}, {\\\"x\\\": -75.086973, \\\"y\\\": 305000.0}, {\\\"x\\\": -74.716439, \\\"y\\\": 469000.0}, {\\\"x\\\": -74.618954, \\\"y\\\": 525000.0}, {\\\"x\\\": -74.843581, \\\"y\\\": 330000.0}, {\\\"x\\\": -74.659266, \\\"y\\\": 618000.0}, {\\\"x\\\": -75.03238, \\\"y\\\": 295500.0}, {\\\"x\\\": -75.007921, \\\"y\\\": 567035.0}, {\\\"x\\\": -74.539811, \\\"y\\\": 518000.0}, {\\\"x\\\": -74.322843, \\\"y\\\": 303000.0}, {\\\"x\\\": -74.808792, \\\"y\\\": 300000.0}, {\\\"x\\\": -74.53288, \\\"y\\\": 413107.0}, {\\\"x\\\": -74.666107, \\\"y\\\": 400000.0}, {\\\"x\\\": -74.855315, \\\"y\\\": 535000.0}, {\\\"x\\\": -74.698613, \\\"y\\\": 555000.0}, {\\\"x\\\": -74.710112, \\\"y\\\": 312000.0}, {\\\"x\\\": -74.685988, \\\"y\\\": 785200.0}, {\\\"x\\\": -74.519282, \\\"y\\\": 749000.0}, {\\\"x\\\": -74.849611, \\\"y\\\": 285000.0}, {\\\"x\\\": -74.348765, \\\"y\\\": 425000.0}, {\\\"x\\\": -74.539039, \\\"y\\\": 360000.0}, {\\\"x\\\": -74.834571, \\\"y\\\": 260000.0}, {\\\"x\\\": -74.814522, \\\"y\\\": 369000.0}, {\\\"x\\\": -75.048581, \\\"y\\\": 275000.0}, {\\\"x\\\": -74.649053, \\\"y\\\": 407000.0}, {\\\"x\\\": -74.691872, \\\"y\\\": 575000.0}, {\\\"x\\\": -74.72988, \\\"y\\\": 1236000.0}, {\\\"x\\\": -74.765647, \\\"y\\\": 875000.0}, {\\\"x\\\": -74.68746, \\\"y\\\": 320000.0}, {\\\"x\\\": -74.596918, \\\"y\\\": 810000.0}, {\\\"x\\\": -74.682371, \\\"y\\\": 274000.0}, {\\\"x\\\": -74.843736, \\\"y\\\": 239900.0}, {\\\"x\\\": -74.568855, \\\"y\\\": 450000.0}, {\\\"x\\\": -74.993644, \\\"y\\\": 263400.0}, {\\\"x\\\": -74.758247, \\\"y\\\": 265000.0}, {\\\"x\\\": -74.737454, \\\"y\\\": 418000.0}, {\\\"x\\\": -74.498853, \\\"y\\\": 390000.0}, {\\\"x\\\": -74.797462, \\\"y\\\": 430000.0}, {\\\"x\\\": -74.472369, \\\"y\\\": 1442500.0}, {\\\"x\\\": -74.755573, \\\"y\\\": 297000.0}, {\\\"x\\\": -74.609911, \\\"y\\\": 650000.0}, {\\\"x\\\": -74.755464, \\\"y\\\": 195000.0}, {\\\"x\\\": -74.643416, \\\"y\\\": 554000.0}, {\\\"x\\\": -75.133133, \\\"y\\\": 550000.0}, {\\\"x\\\": -74.609481, \\\"y\\\": 700000.0}, {\\\"x\\\": -74.312805, \\\"y\\\": 300000.0}, {\\\"x\\\": -74.560199, \\\"y\\\": 315000.0}, {\\\"x\\\": -74.612847, \\\"y\\\": 603000.0}, {\\\"x\\\": -74.731952, \\\"y\\\": 530000.0}, {\\\"x\\\": -74.430821, \\\"y\\\": 397500.0}, {\\\"x\\\": -74.71415, \\\"y\\\": 221000.0}, {\\\"x\\\": -74.438356, \\\"y\\\": 466000.0}, {\\\"x\\\": -74.787618, \\\"y\\\": 197500.0}, {\\\"x\\\": -74.749351, \\\"y\\\": 280000.0}, {\\\"x\\\": -74.813194, \\\"y\\\": 412000.0}, {\\\"x\\\": -74.825708, \\\"y\\\": 454000.0}, {\\\"x\\\": -74.193394, \\\"y\\\": 540000.0}, {\\\"x\\\": -74.791264, \\\"y\\\": 250000.0}, {\\\"x\\\": -74.51072, \\\"y\\\": 900000.0}, {\\\"x\\\": -74.817398, \\\"y\\\": 245000.0}, {\\\"x\\\": -74.818366, \\\"y\\\": 290000.0}, {\\\"x\\\": -74.795437, \\\"y\\\": 160000.0}, {\\\"x\\\": -74.793875, \\\"y\\\": 1260000.0}, {\\\"x\\\": -74.617916, \\\"y\\\": 325000.0}, {\\\"x\\\": -74.831079, \\\"y\\\": 185000.0}, {\\\"x\\\": -74.694357, \\\"y\\\": 477000.0}, {\\\"x\\\": -74.882205, \\\"y\\\": 100000.0}, {\\\"x\\\": -74.97663, \\\"y\\\": 345000.0}, {\\\"x\\\": -74.915138, \\\"y\\\": 530000.0}, {\\\"x\\\": -74.830911, \\\"y\\\": 203000.0}, {\\\"x\\\": -74.353991, \\\"y\\\": 599000.0}, {\\\"x\\\": -74.712588, \\\"y\\\": 370000.0}, {\\\"x\\\": -74.89598, \\\"y\\\": 140000.0}, {\\\"x\\\": -74.848733, \\\"y\\\": 500000.0}, {\\\"x\\\": -74.730438, \\\"y\\\": 527200.0}, {\\\"x\\\": -74.866384, \\\"y\\\": 549900.0}, {\\\"x\\\": -74.402974, \\\"y\\\": 760000.0}, {\\\"x\\\": -74.73718, \\\"y\\\": 319000.0}, {\\\"x\\\": -74.827378, \\\"y\\\": 362300.0}, {\\\"x\\\": -74.980522, \\\"y\\\": 421000.0}, {\\\"x\\\": -74.701048, \\\"y\\\": 690000.0}, {\\\"x\\\": -74.515082, \\\"y\\\": 640000.0}, {\\\"x\\\": -74.930753, \\\"y\\\": 238000.0}, {\\\"x\\\": -75.058068, \\\"y\\\": 789000.0}, {\\\"x\\\": -74.643372, \\\"y\\\": 1050000.0}, {\\\"x\\\": -74.748192, \\\"y\\\": 302500.0}, {\\\"x\\\": -74.718024, \\\"y\\\": 259950.0}, {\\\"x\\\": -74.421617, \\\"y\\\": 456000.0}, {\\\"x\\\": -74.414519, \\\"y\\\": 369950.0}, {\\\"x\\\": -75.156808, \\\"y\\\": 363750.0}, {\\\"x\\\": -74.288351, \\\"y\\\": 585000.0}, {\\\"x\\\": -75.049637, \\\"y\\\": 268000.0}, {\\\"x\\\": -74.69553, \\\"y\\\": 1200000.0}, {\\\"x\\\": -74.753731, \\\"y\\\": 345000.0}, {\\\"x\\\": -74.539231, \\\"y\\\": 539000.0}, {\\\"x\\\": -74.549638, \\\"y\\\": 851000.0}, {\\\"x\\\": -74.837303, \\\"y\\\": 900000.0}, {\\\"x\\\": -74.688085, \\\"y\\\": 850000.0}, {\\\"x\\\": -74.493723, \\\"y\\\": 390000.0}, {\\\"x\\\": -74.568209, \\\"y\\\": 345000.0}, {\\\"x\\\": -74.447662, \\\"y\\\": 534500.0}, {\\\"x\\\": -74.80603, \\\"y\\\": 643500.0}, {\\\"x\\\": -74.667937, \\\"y\\\": 1206505.0}, {\\\"x\\\": -74.803201, \\\"y\\\": 495000.0}, {\\\"x\\\": -74.609688, \\\"y\\\": 535000.0}, {\\\"x\\\": -74.31666, \\\"y\\\": 435000.0}, {\\\"x\\\": -74.872814, \\\"y\\\": 305000.0}, {\\\"x\\\": -74.585788, \\\"y\\\": 799000.0}, {\\\"x\\\": -74.404297, \\\"y\\\": 700000.0}, {\\\"x\\\": -74.701028, \\\"y\\\": 467000.0}, {\\\"x\\\": -74.723777, \\\"y\\\": 263000.0}, {\\\"x\\\": -74.621184, \\\"y\\\": 760000.0}, {\\\"x\\\": -74.778128, \\\"y\\\": 293000.0}, {\\\"x\\\": -74.930806, \\\"y\\\": 245000.0}, {\\\"x\\\": -75.064662, \\\"y\\\": 181000.0}, {\\\"x\\\": -74.666032, \\\"y\\\": 240000.0}, {\\\"x\\\": -74.549349, \\\"y\\\": 880000.0}, {\\\"x\\\": -74.651766, \\\"y\\\": 285000.0}, {\\\"x\\\": -74.598891, \\\"y\\\": 407500.0}, {\\\"x\\\": -74.698576, \\\"y\\\": 325000.0}, {\\\"x\\\": -74.515762, \\\"y\\\": 405000.0}, {\\\"x\\\": -74.813629, \\\"y\\\": 291700.0}, {\\\"x\\\": -74.788696, \\\"y\\\": 370000.0}, {\\\"x\\\": -74.872651, \\\"y\\\": 270000.0}, {\\\"x\\\": -74.503415, \\\"y\\\": 800000.0}, {\\\"x\\\": -74.669766, \\\"y\\\": 626500.0}, {\\\"x\\\": -74.674073, \\\"y\\\": 1130000.0}, {\\\"x\\\": -74.663413, \\\"y\\\": 399950.0}, {\\\"x\\\": -74.920007, \\\"y\\\": 419000.0}, {\\\"x\\\": -74.443395, \\\"y\\\": 1160000.0}, {\\\"x\\\": -74.589927, \\\"y\\\": 1405000.0}, {\\\"x\\\": -74.512411, \\\"y\\\": 710000.0}, {\\\"x\\\": -74.539749, \\\"y\\\": 650000.0}, {\\\"x\\\": -74.357342, \\\"y\\\": 369900.0}, {\\\"x\\\": -74.298875, \\\"y\\\": 641000.0}, {\\\"x\\\": -74.534952, \\\"y\\\": 403000.0}, {\\\"x\\\": -74.763299, \\\"y\\\": 1015000.0}, {\\\"x\\\": -74.689153, \\\"y\\\": 865000.0}, {\\\"x\\\": -74.667169, \\\"y\\\": 2485000.0}, {\\\"x\\\": -74.8011, \\\"y\\\": 810000.0}, {\\\"x\\\": -74.596822, \\\"y\\\": 316750.0}, {\\\"x\\\": -74.401053, \\\"y\\\": 652500.0}, {\\\"x\\\": -74.815658, \\\"y\\\": 360000.0}, {\\\"x\\\": -74.672657, \\\"y\\\": 208000.0}, {\\\"x\\\": -74.319285, \\\"y\\\": 898000.0}, {\\\"x\\\": -74.508949, \\\"y\\\": 295000.0}, {\\\"x\\\": -74.608188, \\\"y\\\": 652500.0}, {\\\"x\\\": -74.431626, \\\"y\\\": 560000.0}, {\\\"x\\\": -74.689005, \\\"y\\\": 280000.0}, {\\\"x\\\": -74.863672, \\\"y\\\": 289950.0}, {\\\"x\\\": -74.749863, \\\"y\\\": 397500.0}, {\\\"x\\\": -74.339345, \\\"y\\\": 380000.0}, {\\\"x\\\": -74.285274, \\\"y\\\": 415900.0}, {\\\"x\\\": -74.612414, \\\"y\\\": 475000.0}, {\\\"x\\\": -74.83691, \\\"y\\\": 125000.0}, {\\\"x\\\": -74.762832, \\\"y\\\": 238000.0}, {\\\"x\\\": -74.851326, \\\"y\\\": 296000.0}, {\\\"x\\\": -74.467351, \\\"y\\\": 475000.0}, {\\\"x\\\": -74.835837, \\\"y\\\": 390000.0}, {\\\"x\\\": -74.809571, \\\"y\\\": 425000.0}, {\\\"x\\\": -74.684863, \\\"y\\\": 725000.0}, {\\\"x\\\": -74.470807, \\\"y\\\": 605000.0}, {\\\"x\\\": -74.709547, \\\"y\\\": 302000.0}, {\\\"x\\\": -74.746072, \\\"y\\\": 886000.0}, {\\\"x\\\": -74.628107, \\\"y\\\": 540000.0}, {\\\"x\\\": -74.439733, \\\"y\\\": 435000.0}, {\\\"x\\\": -74.861059, \\\"y\\\": 409000.0}, {\\\"x\\\": -74.430213, \\\"y\\\": 405000.0}, {\\\"x\\\": -74.425614, \\\"y\\\": 560200.0}, {\\\"x\\\": -74.683035, \\\"y\\\": 324000.0}, {\\\"x\\\": -74.840365, \\\"y\\\": 390000.0}, {\\\"x\\\": -74.712803, \\\"y\\\": 414000.0}, {\\\"x\\\": -74.333591, \\\"y\\\": 441500.0}, {\\\"x\\\": -74.829858, \\\"y\\\": 375000.0}, {\\\"x\\\": -74.42049, \\\"y\\\": 668500.0}, {\\\"x\\\": -74.589048, \\\"y\\\": 540000.0}, {\\\"x\\\": -74.915991, \\\"y\\\": 1035000.0}, {\\\"x\\\": -74.835889, \\\"y\\\": 1345000.0}, {\\\"x\\\": -74.546482, \\\"y\\\": 758000.0}, {\\\"x\\\": -74.614639, \\\"y\\\": 949880.0}, {\\\"x\\\": -74.811375, \\\"y\\\": 570000.0}, {\\\"x\\\": -74.545047, \\\"y\\\": 736000.0}, {\\\"x\\\": -74.681006, \\\"y\\\": 670000.0}, {\\\"x\\\": -74.592173, \\\"y\\\": 1130000.0}, {\\\"x\\\": -74.685516, \\\"y\\\": 650000.0}, {\\\"x\\\": -74.659037, \\\"y\\\": 690000.0}, {\\\"x\\\": -74.360076, \\\"y\\\": 610000.0}, {\\\"x\\\": -74.668598, \\\"y\\\": 413500.0}, {\\\"x\\\": -74.493954, \\\"y\\\": 765000.0}, {\\\"x\\\": -74.55645, \\\"y\\\": 828200.0}, {\\\"x\\\": -74.719623, \\\"y\\\": 205000.0}, {\\\"x\\\": -74.629731, \\\"y\\\": 465000.0}, {\\\"x\\\": -74.578332, \\\"y\\\": 556000.0}, {\\\"x\\\": -74.43608, \\\"y\\\": 540000.0}, {\\\"x\\\": -74.656641, \\\"y\\\": 423000.0}, {\\\"x\\\": -74.5565, \\\"y\\\": 375000.0}, {\\\"x\\\": -74.80148, \\\"y\\\": 173250.0}, {\\\"x\\\": -74.126297, \\\"y\\\": 599900.0}, {\\\"x\\\": -74.715496, \\\"y\\\": 646000.0}, {\\\"x\\\": -74.327893, \\\"y\\\": 1075000.0}, {\\\"x\\\": -74.694599, \\\"y\\\": 558000.0}, {\\\"x\\\": -74.849268, \\\"y\\\": 354000.0}, {\\\"x\\\": -74.63765, \\\"y\\\": 1195000.0}, {\\\"x\\\": -74.682957, \\\"y\\\": 670000.0}, {\\\"x\\\": -74.675665, \\\"y\\\": 1125000.0}, {\\\"x\\\": -74.956465, \\\"y\\\": 267500.0}, {\\\"x\\\": -74.859015, \\\"y\\\": 299800.0}, {\\\"x\\\": -74.518084, \\\"y\\\": 430000.0}, {\\\"x\\\": -74.683128, \\\"y\\\": 775000.0}, {\\\"x\\\": -74.842491, \\\"y\\\": 333000.0}, {\\\"x\\\": -74.56842, \\\"y\\\": 336000.0}, {\\\"x\\\": -74.749164, \\\"y\\\": 323000.0}, {\\\"x\\\": -74.589817, \\\"y\\\": 575000.0}, {\\\"x\\\": -74.827945, \\\"y\\\": 328000.0}, {\\\"x\\\": -74.718463, \\\"y\\\": 572500.0}, {\\\"x\\\": -74.63359, \\\"y\\\": 600000.0}, {\\\"x\\\": -74.662077, \\\"y\\\": 412000.0}, {\\\"x\\\": -74.522984, \\\"y\\\": 827500.0}, {\\\"x\\\": -75.057453, \\\"y\\\": 300000.0}, {\\\"x\\\": -74.714878, \\\"y\\\": 415000.0}, {\\\"x\\\": -74.671033, \\\"y\\\": 750000.0}, {\\\"x\\\": -74.674061, \\\"y\\\": 800000.0}, {\\\"x\\\": -74.732485, \\\"y\\\": 420000.0}, {\\\"x\\\": -74.688132, \\\"y\\\": 266000.0}, {\\\"x\\\": -74.231942, \\\"y\\\": 499000.0}, {\\\"x\\\": -74.832335, \\\"y\\\": 440000.0}, {\\\"x\\\": -74.895145, \\\"y\\\": 495000.0}, {\\\"x\\\": -74.66696, \\\"y\\\": 630000.0}, {\\\"x\\\": -74.469229, \\\"y\\\": 424000.0}, {\\\"x\\\": -74.423548, \\\"y\\\": 760000.0}, {\\\"x\\\": -74.416054, \\\"y\\\": 650000.0}, {\\\"x\\\": -74.757189, \\\"y\\\": 248500.0}, {\\\"x\\\": -74.6401, \\\"y\\\": 379600.0}, {\\\"x\\\": -74.602506, \\\"y\\\": 538000.0}, {\\\"x\\\": -74.446571, \\\"y\\\": 530000.0}, {\\\"x\\\": -74.527891, \\\"y\\\": 545000.0}, {\\\"x\\\": -74.376194, \\\"y\\\": 925000.0}, {\\\"x\\\": -74.362642, \\\"y\\\": 565000.0}, {\\\"x\\\": -74.73768, \\\"y\\\": 405100.0}, {\\\"x\\\": -74.496498, \\\"y\\\": 502000.0}, {\\\"x\\\": -74.451851, \\\"y\\\": 425000.0}, {\\\"x\\\": -74.775781, \\\"y\\\": 233500.0}, {\\\"x\\\": -74.821187, \\\"y\\\": 287000.0}, {\\\"x\\\": -74.938212, \\\"y\\\": 190000.0}, {\\\"x\\\": -74.353803, \\\"y\\\": 666000.0}, {\\\"x\\\": -74.724922, \\\"y\\\": 330000.0}, {\\\"x\\\": -74.640846, \\\"y\\\": 1490000.0}, {\\\"x\\\": -74.66916, \\\"y\\\": 393000.0}, {\\\"x\\\": -74.73002, \\\"y\\\": 353000.0}, {\\\"x\\\": -74.757643, \\\"y\\\": 260000.0}, {\\\"x\\\": -74.577241, \\\"y\\\": 680000.0}, {\\\"x\\\": -74.606126, \\\"y\\\": 921000.0}, {\\\"x\\\": -74.604498, \\\"y\\\": 319000.0}, {\\\"x\\\": -74.399089, \\\"y\\\": 280000.0}, {\\\"x\\\": -74.861548, \\\"y\\\": 220000.0}, {\\\"x\\\": -74.728345, \\\"y\\\": 219000.0}, {\\\"x\\\": -74.422313, \\\"y\\\": 528000.0}, {\\\"x\\\": -74.595866, \\\"y\\\": 405000.0}, {\\\"x\\\": -74.446416, \\\"y\\\": 372977.0}, {\\\"x\\\": -74.694821, \\\"y\\\": 934550.0}, {\\\"x\\\": -74.679424, \\\"y\\\": 1465000.0}, {\\\"x\\\": -74.767762, \\\"y\\\": 975000.0}, {\\\"x\\\": -74.530103, \\\"y\\\": 800866.0}, {\\\"x\\\": -74.52899, \\\"y\\\": 950000.0}, {\\\"x\\\": -74.723133, \\\"y\\\": 624000.0}, {\\\"x\\\": -74.497212, \\\"y\\\": 1850000.0}, {\\\"x\\\": -74.498278, \\\"y\\\": 310000.0}, {\\\"x\\\": -74.724997, \\\"y\\\": 315000.0}, {\\\"x\\\": -74.536525, \\\"y\\\": 675000.0}, {\\\"x\\\": -74.561834, \\\"y\\\": 490000.0}, {\\\"x\\\": -74.823133, \\\"y\\\": 600000.0}, {\\\"x\\\": -74.176617, \\\"y\\\": 154000.0}, {\\\"x\\\": -74.922747, \\\"y\\\": 480000.0}, {\\\"x\\\": -74.895075, \\\"y\\\": 196900.0}, {\\\"x\\\": -74.456465, \\\"y\\\": 735000.0}, {\\\"x\\\": -75.036472, \\\"y\\\": 205500.0}, {\\\"x\\\": -74.446739, \\\"y\\\": 357186.0}, {\\\"x\\\": -74.820865, \\\"y\\\": 275000.0}, {\\\"x\\\": -74.907743, \\\"y\\\": 248500.0}, {\\\"x\\\": -74.864274, \\\"y\\\": 350000.0}, {\\\"x\\\": -74.216009, \\\"y\\\": 390000.0}, {\\\"x\\\": -74.517928, \\\"y\\\": 390000.0}, {\\\"x\\\": -74.435274, \\\"y\\\": 660000.0}, {\\\"x\\\": -74.585898, \\\"y\\\": 310000.0}, {\\\"x\\\": -74.479628, \\\"y\\\": 717000.0}, {\\\"x\\\": -74.916473, \\\"y\\\": 260000.0}, {\\\"x\\\": -74.647951, \\\"y\\\": 745000.0}, {\\\"x\\\": -74.397044, \\\"y\\\": 470000.0}, {\\\"x\\\": -74.785071, \\\"y\\\": 429000.0}, {\\\"x\\\": -74.536617, \\\"y\\\": 220000.0}, {\\\"x\\\": -74.719056, \\\"y\\\": 497000.0}, {\\\"x\\\": -74.694478, \\\"y\\\": 716100.0}, {\\\"x\\\": -74.420233, \\\"y\\\": 371000.0}, {\\\"x\\\": -74.590586, \\\"y\\\": 379000.0}, {\\\"x\\\": -74.607705, \\\"y\\\": 937500.0}, {\\\"x\\\": -74.660303, \\\"y\\\": 720000.0}, {\\\"x\\\": -74.848389, \\\"y\\\": 616000.0}, {\\\"x\\\": -74.800391, \\\"y\\\": 259000.0}, {\\\"x\\\": -74.713253, \\\"y\\\": 538000.0}, {\\\"x\\\": -74.452335, \\\"y\\\": 605000.0}, {\\\"x\\\": -74.497732, \\\"y\\\": 369950.0}, {\\\"x\\\": -74.644526, \\\"y\\\": 310000.0}, {\\\"x\\\": -74.953659, \\\"y\\\": 227500.0}, {\\\"x\\\": -75.062281, \\\"y\\\": 274000.0}, {\\\"x\\\": -74.49631, \\\"y\\\": 410000.0}, {\\\"x\\\": -74.694108, \\\"y\\\": 354800.0}, {\\\"x\\\": -74.755265, \\\"y\\\": 650000.0}, {\\\"x\\\": -74.815267, \\\"y\\\": 353000.0}, {\\\"x\\\": -74.668093, \\\"y\\\": 224975.0}, {\\\"x\\\": -74.548194, \\\"y\\\": 600000.0}, {\\\"x\\\": -74.447404, \\\"y\\\": 437500.0}, {\\\"x\\\": -74.531501, \\\"y\\\": 567000.0}, {\\\"x\\\": -74.911919, \\\"y\\\": 225000.0}, {\\\"x\\\": -74.728098, \\\"y\\\": 255000.0}, {\\\"x\\\": -74.693534, \\\"y\\\": 2479000.0}, {\\\"x\\\": -74.669432, \\\"y\\\": 370000.0}, {\\\"x\\\": -74.538962, \\\"y\\\": 675000.0}, {\\\"x\\\": -74.746561, \\\"y\\\": 285000.0}, {\\\"x\\\": -74.761195, \\\"y\\\": 310000.0}, {\\\"x\\\": -74.453605, \\\"y\\\": 475000.0}, {\\\"x\\\": -74.763056, \\\"y\\\": 410000.0}, {\\\"x\\\": -74.707911, \\\"y\\\": 895000.0}, {\\\"x\\\": -74.568766, \\\"y\\\": 375000.0}, {\\\"x\\\": -74.658724, \\\"y\\\": 349000.0}, {\\\"x\\\": -74.680788, \\\"y\\\": 650500.0}, {\\\"x\\\": -74.597912, \\\"y\\\": 760000.0}, {\\\"x\\\": -74.813643, \\\"y\\\": 480000.0}, {\\\"x\\\": -74.416344, \\\"y\\\": 689000.0}, {\\\"x\\\": -74.759357, \\\"y\\\": 415000.0}, {\\\"x\\\": -74.881895, \\\"y\\\": 195000.0}, {\\\"x\\\": -74.858195, \\\"y\\\": 318000.0}, {\\\"x\\\": -74.801917, \\\"y\\\": 404000.0}, {\\\"x\\\": -74.725339, \\\"y\\\": 339950.0}, {\\\"x\\\": -74.807956, \\\"y\\\": 215000.0}, {\\\"x\\\": -74.865571, \\\"y\\\": 339900.0}, {\\\"x\\\": -74.490434, \\\"y\\\": 285000.0}, {\\\"x\\\": -74.702561, \\\"y\\\": 550000.0}, {\\\"x\\\": -74.636208, \\\"y\\\": 430000.0}, {\\\"x\\\": -75.008399, \\\"y\\\": 219000.0}, {\\\"x\\\": -74.709529, \\\"y\\\": 555000.0}, {\\\"x\\\": -74.691733, \\\"y\\\": 233000.0}, {\\\"x\\\": -74.981226, \\\"y\\\": 248000.0}, {\\\"x\\\": -74.89521, \\\"y\\\": 454000.0}, {\\\"x\\\": -74.65653, \\\"y\\\": 950000.0}, {\\\"x\\\": -74.756798, \\\"y\\\": 359000.0}, {\\\"x\\\": -74.561627, \\\"y\\\": 407500.0}, {\\\"x\\\": -74.938378, \\\"y\\\": 224000.0}, {\\\"x\\\": -74.82889, \\\"y\\\": 210000.0}, {\\\"x\\\": -74.709311, \\\"y\\\": 261000.0}, {\\\"x\\\": -74.642209, \\\"y\\\": 719000.0}, {\\\"x\\\": -74.809045, \\\"y\\\": 440000.0}, {\\\"x\\\": -73.982584, \\\"y\\\": 525000.0}, {\\\"x\\\": -74.466419, \\\"y\\\": 375000.0}, {\\\"x\\\": -74.646754, \\\"y\\\": 428000.0}, {\\\"x\\\": -74.330974, \\\"y\\\": 988830.0}, {\\\"x\\\": -74.907991, \\\"y\\\": 199950.0}, {\\\"x\\\": -74.663805, \\\"y\\\": 840000.0}, {\\\"x\\\": -74.785857, \\\"y\\\": 285000.0}, {\\\"x\\\": -74.982197, \\\"y\\\": 330000.0}, {\\\"x\\\": -74.902433, \\\"y\\\": 147500.0}, {\\\"x\\\": -74.91443, \\\"y\\\": 320000.0}, {\\\"x\\\": -74.518049, \\\"y\\\": 382500.0}, {\\\"x\\\": -74.671737, \\\"y\\\": 2048000.0}, {\\\"x\\\": -74.581631, \\\"y\\\": 596000.0}, {\\\"x\\\": -75.073954, \\\"y\\\": 220000.0}, {\\\"x\\\": -74.76282, \\\"y\\\": 325000.0}, {\\\"x\\\": -74.412542, \\\"y\\\": 679950.0}, {\\\"x\\\": -74.603421, \\\"y\\\": 175000.0}, {\\\"x\\\": -75.007075, \\\"y\\\": 268000.0}, {\\\"x\\\": -74.353867, \\\"y\\\": 715000.0}, {\\\"x\\\": -74.537707, \\\"y\\\": 600000.0}, {\\\"x\\\": -74.735388, \\\"y\\\": 228000.0}, {\\\"x\\\": -74.381611, \\\"y\\\": 950000.0}, {\\\"x\\\": -74.898019, \\\"y\\\": 475000.0}, {\\\"x\\\": -74.46766, \\\"y\\\": 700000.0}, {\\\"x\\\": -74.345386, \\\"y\\\": 275000.0}, {\\\"x\\\": -74.345386, \\\"y\\\": 369500.0}, {\\\"x\\\": -74.912675, \\\"y\\\": 215000.0}, {\\\"x\\\": -74.4853, \\\"y\\\": 593450.0}, {\\\"x\\\": -74.305777, \\\"y\\\": 498800.0}, {\\\"x\\\": -74.593387, \\\"y\\\": 849000.0}, {\\\"x\\\": -74.661449, \\\"y\\\": 1151250.0}, {\\\"x\\\": -74.450056, \\\"y\\\": 825000.0}, {\\\"x\\\": -74.662986, \\\"y\\\": 265000.0}, {\\\"x\\\": -75.07234, \\\"y\\\": 285000.0}, {\\\"x\\\": -74.687158, \\\"y\\\": 240000.0}, {\\\"x\\\": -74.956559, \\\"y\\\": 261000.0}, {\\\"x\\\": -74.91029, \\\"y\\\": 330000.0}, {\\\"x\\\": -74.910078, \\\"y\\\": 250000.0}, {\\\"x\\\": -75.039679, \\\"y\\\": 350000.0}, {\\\"x\\\": -74.369391, \\\"y\\\": 930000.0}, {\\\"x\\\": -74.799864, \\\"y\\\": 275000.0}, {\\\"x\\\": -74.81673, \\\"y\\\": 325000.0}, {\\\"x\\\": -74.790714, \\\"y\\\": 255000.0}, {\\\"x\\\": -74.692963, \\\"y\\\": 562200.0}, {\\\"x\\\": -74.566166, \\\"y\\\": 952000.0}, {\\\"x\\\": -74.721651, \\\"y\\\": 365000.0}, {\\\"x\\\": -74.315141, \\\"y\\\": 332900.0}, {\\\"x\\\": -74.439137, \\\"y\\\": 721000.0}, {\\\"x\\\": -74.342895, \\\"y\\\": 487275.0}, {\\\"x\\\": -74.745336, \\\"y\\\": 310000.0}, {\\\"x\\\": -74.719002, \\\"y\\\": 245000.0}, {\\\"x\\\": -74.751716, \\\"y\\\": 325000.0}, {\\\"x\\\": -74.48995, \\\"y\\\": 550000.0}, {\\\"x\\\": -74.725606, \\\"y\\\": 350000.0}, {\\\"x\\\": -74.660847, \\\"y\\\": 599000.0}, {\\\"x\\\": -74.874204, \\\"y\\\": 259950.0}, {\\\"x\\\": -74.651167, \\\"y\\\": 240000.0}, {\\\"x\\\": -74.809072, \\\"y\\\": 186000.0}, {\\\"x\\\": -74.404346, \\\"y\\\": 395000.0}, {\\\"x\\\": -74.659714, \\\"y\\\": 475000.0}, {\\\"x\\\": -74.385091, \\\"y\\\": 815000.0}, {\\\"x\\\": -74.654886, \\\"y\\\": 572000.0}, {\\\"x\\\": -74.413194, \\\"y\\\": 419500.0}, {\\\"x\\\": -75.031833, \\\"y\\\": 298700.0}, {\\\"x\\\": -75.171317, \\\"y\\\": 549000.0}, {\\\"x\\\": -74.82844, \\\"y\\\": 278000.0}, {\\\"x\\\": -74.715826, \\\"y\\\": 455000.0}, {\\\"x\\\": -74.91338, \\\"y\\\": 925000.0}, {\\\"x\\\": -74.700124, \\\"y\\\": 465000.0}, {\\\"x\\\": -74.462616, \\\"y\\\": 620000.0}, {\\\"x\\\": -74.541668, \\\"y\\\": 499900.0}, {\\\"x\\\": -74.630192, \\\"y\\\": 620000.0}, {\\\"x\\\": -74.594167, \\\"y\\\": 450000.0}, {\\\"x\\\": -74.447703, \\\"y\\\": 690000.0}, {\\\"x\\\": -74.572764, \\\"y\\\": 1895000.0}, {\\\"x\\\": -74.572764, \\\"y\\\": 1939999.0}, {\\\"x\\\": -74.646583, \\\"y\\\": 832500.0}, {\\\"x\\\": -74.845695, \\\"y\\\": 245000.0}, {\\\"x\\\": -74.365377, \\\"y\\\": 820000.0}, {\\\"x\\\": -74.65188, \\\"y\\\": 369000.0}, {\\\"x\\\": -74.327993, \\\"y\\\": 1050000.0}, {\\\"x\\\": -74.725997, \\\"y\\\": 653000.0}, {\\\"x\\\": -74.321651, \\\"y\\\": 220650.0}, {\\\"x\\\": -74.823659, \\\"y\\\": 300000.0}, {\\\"x\\\": -74.457212, \\\"y\\\": 970000.0}, {\\\"x\\\": -74.710215, \\\"y\\\": 360000.0}, {\\\"x\\\": -74.411868, \\\"y\\\": 672500.0}, {\\\"x\\\": -74.673041, \\\"y\\\": 268000.0}, {\\\"x\\\": -74.83088, \\\"y\\\": 440000.0}, {\\\"x\\\": -74.68848, \\\"y\\\": 1400000.0}, {\\\"x\\\": -74.401426, \\\"y\\\": 590000.0}, {\\\"x\\\": -74.945667, \\\"y\\\": 359000.0}, {\\\"x\\\": -75.064941, \\\"y\\\": 266500.0}, {\\\"x\\\": -74.673717, \\\"y\\\": 635000.0}, {\\\"x\\\": -74.796042, \\\"y\\\": 559000.0}, {\\\"x\\\": -74.362385, \\\"y\\\": 895000.0}, {\\\"x\\\": -74.381214, \\\"y\\\": 625000.0}, {\\\"x\\\": -74.541803, \\\"y\\\": 650000.0}, {\\\"x\\\": -74.743157, \\\"y\\\": 312500.0}, {\\\"x\\\": -74.808588, \\\"y\\\": 225000.0}, {\\\"x\\\": -74.479493, \\\"y\\\": 425000.0}, {\\\"x\\\": -74.762251, \\\"y\\\": 329999.0}, {\\\"x\\\": -74.460797, \\\"y\\\": 572000.0}, {\\\"x\\\": -74.74691, \\\"y\\\": 386500.0}, {\\\"x\\\": -74.694602, \\\"y\\\": 452000.0}, {\\\"x\\\": -74.687685, \\\"y\\\": 278000.0}, {\\\"x\\\": -74.356519, \\\"y\\\": 474900.0}, {\\\"x\\\": -74.75838, \\\"y\\\": 450000.0}, {\\\"x\\\": -74.650951, \\\"y\\\": 611000.0}, {\\\"x\\\": -74.940465, \\\"y\\\": 214100.0}, {\\\"x\\\": -74.698833, \\\"y\\\": 317000.0}, {\\\"x\\\": -74.673546, \\\"y\\\": 1000000.0}, {\\\"x\\\": -74.605093, \\\"y\\\": 1000000.0}, {\\\"x\\\": -74.647615, \\\"y\\\": 525000.0}, {\\\"x\\\": -74.493757, \\\"y\\\": 436000.0}, {\\\"x\\\": -74.421332, \\\"y\\\": 450000.0}, {\\\"x\\\": -74.419325, \\\"y\\\": 588500.0}, {\\\"x\\\": -74.870676, \\\"y\\\": 340000.0}, {\\\"x\\\": -74.964041, \\\"y\\\": 482000.0}, {\\\"x\\\": -74.350417, \\\"y\\\": 1575000.0}, {\\\"x\\\": -74.494725, \\\"y\\\": 749000.0}, {\\\"x\\\": -74.691932, \\\"y\\\": 330000.0}, {\\\"x\\\": -74.797633, \\\"y\\\": 568000.0}, {\\\"x\\\": -74.797882, \\\"y\\\": 239000.0}, {\\\"x\\\": -74.452794, \\\"y\\\": 528000.0}, {\\\"x\\\": -74.812988, \\\"y\\\": 385000.0}, {\\\"x\\\": -74.525428, \\\"y\\\": 825000.0}, {\\\"x\\\": -74.872793, \\\"y\\\": 815000.0}, {\\\"x\\\": -74.345098, \\\"y\\\": 625000.0}, {\\\"x\\\": -74.859731, \\\"y\\\": 690000.0}, {\\\"x\\\": -74.837923, \\\"y\\\": 210000.0}, {\\\"x\\\": -74.667791, \\\"y\\\": 599000.0}, {\\\"x\\\": -74.76267, \\\"y\\\": 860000.0}, {\\\"x\\\": -74.869144, \\\"y\\\": 147200.0}, {\\\"x\\\": -74.829032, \\\"y\\\": 476900.0}, {\\\"x\\\": -74.535633, \\\"y\\\": 450000.0}, {\\\"x\\\": -74.23459, \\\"y\\\": 570000.0}, {\\\"x\\\": -74.630572, \\\"y\\\": 567500.0}, {\\\"x\\\": -74.493008, \\\"y\\\": 790000.0}, {\\\"x\\\": -74.606202, \\\"y\\\": 875000.0}, {\\\"x\\\": -74.524283, \\\"y\\\": 490000.0}, {\\\"x\\\": -74.645831, \\\"y\\\": 335000.0}, {\\\"x\\\": -74.620765, \\\"y\\\": 550000.0}, {\\\"x\\\": -74.397324, \\\"y\\\": 385000.0}, {\\\"x\\\": -74.462393, \\\"y\\\": 395000.0}, {\\\"x\\\": -74.804639, \\\"y\\\": 650000.0}, {\\\"x\\\": -74.495401, \\\"y\\\": 637000.0}, {\\\"x\\\": -74.514794, \\\"y\\\": 692500.0}, {\\\"x\\\": -74.629046, \\\"y\\\": 322400.0}, {\\\"x\\\": -74.923866, \\\"y\\\": 233500.0}, {\\\"x\\\": -74.40184, \\\"y\\\": 400000.0}, {\\\"x\\\": -74.663228, \\\"y\\\": 547000.0}]}], \\\"marks\\\": [{\\\"name\\\": \\\"marks\\\", \\\"type\\\": \\\"symbol\\\", \\\"style\\\": [\\\"circle\\\"], \\\"from\\\": {\\\"data\\\": \\\"source_2\\\"}, \\\"encode\\\": {\\\"hover\\\": {\\\"fill\\\": {\\\"value\\\": \\\"#7EC2F3\\\"}}, \\\"update\\\": {\\\"x\\\": {\\\"scale\\\": \\\"x\\\", \\\"field\\\": \\\"x\\\"}, \\\"y\\\": {\\\"scale\\\": \\\"y\\\", \\\"field\\\": \\\"y\\\", \\\"title\\\": \\\"Miles per Gallon\\\"}, \\\"fill\\\": {\\\"value\\\": \\\"#108EE9\\\"}, \\\"shape\\\": {\\\"value\\\": \\\"circle\\\"}, \\\"opacity\\\": {\\\"value\\\": 0.7}}}}], \\\"scales\\\": [{\\\"name\\\": \\\"x\\\", \\\"type\\\": \\\"linear\\\", \\\"domain\\\": {\\\"data\\\": \\\"source_2\\\", \\\"field\\\": \\\"x\\\"}, \\\"range\\\": [0, {\\\"signal\\\": \\\"width\\\"}], \\\"nice\\\": true, \\\"zero\\\": false, \\\"padding\\\": 5}, {\\\"name\\\": \\\"y\\\", \\\"type\\\": \\\"linear\\\", \\\"domain\\\": {\\\"data\\\": \\\"source_2\\\", \\\"field\\\": \\\"y\\\"}, \\\"range\\\": [{\\\"signal\\\": \\\"height\\\"}, 0], \\\"nice\\\": true, \\\"zero\\\": false, \\\"padding\\\": 5}], \\\"axes\\\": [{\\\"scale\\\": \\\"x\\\", \\\"labelOverlap\\\": true, \\\"orient\\\": \\\"bottom\\\", \\\"tickCount\\\": {\\\"signal\\\": \\\"ceil(width/40)\\\"}, \\\"title\\\": \\\"X\\\", \\\"zindex\\\": 1}, {\\\"scale\\\": \\\"x\\\", \\\"domain\\\": false, \\\"grid\\\": true, \\\"labels\\\": false, \\\"maxExtent\\\": 0, \\\"minExtent\\\": 0, \\\"orient\\\": \\\"bottom\\\", \\\"tickCount\\\": {\\\"signal\\\": \\\"ceil(width/40)\\\"}, \\\"ticks\\\": false, \\\"zindex\\\": 0, \\\"gridScale\\\": \\\"y\\\"}, {\\\"scale\\\": \\\"y\\\", \\\"labelOverlap\\\": true, \\\"orient\\\": \\\"left\\\", \\\"tickCount\\\": {\\\"signal\\\": \\\"ceil(height/40)\\\"}, \\\"title\\\": \\\"Y\\\", \\\"zindex\\\": 1}, {\\\"scale\\\": \\\"y\\\", \\\"domain\\\": false, \\\"grid\\\": true, \\\"labels\\\": false, \\\"maxExtent\\\": 0, \\\"minExtent\\\": 0, \\\"orient\\\": \\\"left\\\", \\\"tickCount\\\": {\\\"signal\\\": \\\"ceil(height/40)\\\"}, \\\"ticks\\\": false, \\\"zindex\\\": 0, \\\"gridScale\\\": \\\"x\\\"}], \\\"config\\\": {\\\"axis\\\": {\\\"gridColor\\\": \\\"rgba(204,204,204,1.0)\\\", \\\"labelFont\\\": \\\"\\\\\\\"San Francisco\\\\\\\", HelveticaNeue, Arial\\\", \\\"labelFontSize\\\": 12, \\\"labelPadding\\\": 10, \\\"labelColor\\\": \\\"rgba(0,0,0,0.847)\\\", \\\"tickColor\\\": \\\"rgb(136,136,136)\\\", \\\"titleFont\\\": \\\"\\\\\\\"San Francisco\\\\\\\", HelveticaNeue, Arial\\\", \\\"titleFontWeight\\\": \\\"normal\\\", \\\"titlePadding\\\": 20, \\\"titleFontSize\\\": 14, \\\"titleColor\\\": \\\"rgba(0,0,0,0.847)\\\"}, \\\"axisY\\\": {\\\"minExtent\\\": 30}, \\\"legend\\\": {\\\"labelFont\\\": \\\"\\\\\\\"San Francisco\\\\\\\", HelveticaNeue, Arial\\\", \\\"labelColor\\\": \\\"rgba(0,0,0,0.847)\\\", \\\"titleFont\\\": \\\"\\\\\\\"San Francisco\\\\\\\", HelveticaNeue, Arial\\\", \\\"cornerRadius\\\": 30, \\\"gradientLength\\\": 608, \\\"titleColor\\\": \\\"rgba(0,0,0,0.847)\\\"}, \\\"range\\\": {\\\"heatmap\\\": {\\\"scheme\\\": \\\"greenblue\\\"}}, \\\"style\\\": {\\\"rect\\\": {\\\"stroke\\\": \\\"rgba(200, 200, 200, 0.5)\\\"}, \\\"cell\\\": {\\\"stroke\\\": \\\"transparent\\\"}, \\\"group-title\\\": {\\\"fontSize\\\": 29, \\\"font\\\": \\\"HelveticaNeue, Arial\\\", \\\"fontWeight\\\": \\\"normal\\\", \\\"fill\\\": \\\"rgba(0,0,0,0.65)\\\"}}, \\\"title\\\": {\\\"color\\\": \\\"rgba(0,0,0,0.847)\\\", \\\"font\\\": \\\"\\\\\\\"San Francisco\\\\\\\", HelveticaNeue, Arial\\\", \\\"fontSize\\\": 18, \\\"fontWeight\\\": \\\"normal\\\", \\\"offset\\\": 30}}}\";                                 var vega_json_parsed = JSON.parse(vega_json);                                 var toolTipOpts = {                                     showAllFields: true                                 };                                 if(vega_json_parsed[\"metadata\"] != null){                                     if(vega_json_parsed[\"metadata\"][\"bubbleOpts\"] != null){                                         toolTipOpts = vega_json_parsed[\"metadata\"][\"bubbleOpts\"];                                     };                                 };                                 vegaEmbed(\"#vis\", vega_json_parsed).then(function (result) {                                     vegaTooltip.vega(result.view, toolTipOpts);                                  });                             </script>                         </body>                     </html>' src=\"demo_iframe_srcdoc.htm\">                         <p>Your browser does not support iframes.</p>                     </iframe>                 </body>             </html>"
            ],
            "text/plain": [
              "<IPython.core.display.HTML object>"
            ]
          },
          "metadata": {
            "tags": []
          }
        }
      ]
    },
    {
      "cell_type": "code",
      "metadata": {
        "colab": {
          "base_uri": "https://localhost:8080/",
          "height": 901
        },
        "id": "62kOoSLpC974",
        "outputId": "d2fa2741-c6bb-4b99-da5b-dabab58b6098"
      },
      "source": [
        "model1=turicreate.linear_regression.create(train_data,target='price',features=['sqft_living', 'bedrooms', 'bathrooms', 'lat', 'long'],validation_set=None)\r\n",
        "model1"
      ],
      "execution_count": null,
      "outputs": [
        {
          "output_type": "display_data",
          "data": {
            "text/html": [
              "<pre>Linear regression:</pre>"
            ],
            "text/plain": [
              "Linear regression:"
            ]
          },
          "metadata": {
            "tags": []
          }
        },
        {
          "output_type": "display_data",
          "data": {
            "text/html": [
              "<pre>--------------------------------------------------------</pre>"
            ],
            "text/plain": [
              "--------------------------------------------------------"
            ]
          },
          "metadata": {
            "tags": []
          }
        },
        {
          "output_type": "display_data",
          "data": {
            "text/html": [
              "<pre>Number of examples          : 17384</pre>"
            ],
            "text/plain": [
              "Number of examples          : 17384"
            ]
          },
          "metadata": {
            "tags": []
          }
        },
        {
          "output_type": "display_data",
          "data": {
            "text/html": [
              "<pre>Number of features          : 5</pre>"
            ],
            "text/plain": [
              "Number of features          : 5"
            ]
          },
          "metadata": {
            "tags": []
          }
        },
        {
          "output_type": "display_data",
          "data": {
            "text/html": [
              "<pre>Number of unpacked features : 5</pre>"
            ],
            "text/plain": [
              "Number of unpacked features : 5"
            ]
          },
          "metadata": {
            "tags": []
          }
        },
        {
          "output_type": "display_data",
          "data": {
            "text/html": [
              "<pre>Number of coefficients    : 6</pre>"
            ],
            "text/plain": [
              "Number of coefficients    : 6"
            ]
          },
          "metadata": {
            "tags": []
          }
        },
        {
          "output_type": "display_data",
          "data": {
            "text/html": [
              "<pre>Starting Newton Method</pre>"
            ],
            "text/plain": [
              "Starting Newton Method"
            ]
          },
          "metadata": {
            "tags": []
          }
        },
        {
          "output_type": "display_data",
          "data": {
            "text/html": [
              "<pre>--------------------------------------------------------</pre>"
            ],
            "text/plain": [
              "--------------------------------------------------------"
            ]
          },
          "metadata": {
            "tags": []
          }
        },
        {
          "output_type": "display_data",
          "data": {
            "text/html": [
              "<pre>+-----------+----------+--------------+--------------------+---------------------------------+</pre>"
            ],
            "text/plain": [
              "+-----------+----------+--------------+--------------------+---------------------------------+"
            ]
          },
          "metadata": {
            "tags": []
          }
        },
        {
          "output_type": "display_data",
          "data": {
            "text/html": [
              "<pre>| Iteration | Passes   | Elapsed Time | Training Max Error | Training Root-Mean-Square Error |</pre>"
            ],
            "text/plain": [
              "| Iteration | Passes   | Elapsed Time | Training Max Error | Training Root-Mean-Square Error |"
            ]
          },
          "metadata": {
            "tags": []
          }
        },
        {
          "output_type": "display_data",
          "data": {
            "text/html": [
              "<pre>+-----------+----------+--------------+--------------------+---------------------------------+</pre>"
            ],
            "text/plain": [
              "+-----------+----------+--------------+--------------------+---------------------------------+"
            ]
          },
          "metadata": {
            "tags": []
          }
        },
        {
          "output_type": "display_data",
          "data": {
            "text/html": [
              "<pre>| 1         | 2        | 0.012829     | 4074878.213103     | 236378.596455                   |</pre>"
            ],
            "text/plain": [
              "| 1         | 2        | 0.012829     | 4074878.213103     | 236378.596455                   |"
            ]
          },
          "metadata": {
            "tags": []
          }
        },
        {
          "output_type": "display_data",
          "data": {
            "text/html": [
              "<pre>| 2         | 3        | 0.036876     | 4074878.213108     | 236378.596455                   |</pre>"
            ],
            "text/plain": [
              "| 2         | 3        | 0.036876     | 4074878.213108     | 236378.596455                   |"
            ]
          },
          "metadata": {
            "tags": []
          }
        },
        {
          "output_type": "display_data",
          "data": {
            "text/html": [
              "<pre>+-----------+----------+--------------+--------------------+---------------------------------+</pre>"
            ],
            "text/plain": [
              "+-----------+----------+--------------+--------------------+---------------------------------+"
            ]
          },
          "metadata": {
            "tags": []
          }
        },
        {
          "output_type": "display_data",
          "data": {
            "text/html": [
              "<pre>SUCCESS: Optimal solution found.</pre>"
            ],
            "text/plain": [
              "SUCCESS: Optimal solution found."
            ]
          },
          "metadata": {
            "tags": []
          }
        },
        {
          "output_type": "display_data",
          "data": {
            "text/html": [
              "<pre></pre>"
            ],
            "text/plain": [
              ""
            ]
          },
          "metadata": {
            "tags": []
          }
        },
        {
          "output_type": "execute_result",
          "data": {
            "text/plain": [
              "Class                          : LinearRegression\n",
              "\n",
              "Schema\n",
              "------\n",
              "Number of coefficients         : 6\n",
              "Number of examples             : 17384\n",
              "Number of feature columns      : 5\n",
              "Number of unpacked features    : 5\n",
              "\n",
              "Hyperparameters\n",
              "---------------\n",
              "L1 penalty                     : 0.0\n",
              "L2 penalty                     : 0.01\n",
              "\n",
              "Training Summary\n",
              "----------------\n",
              "Solver                         : newton\n",
              "Solver iterations              : 2\n",
              "Solver status                  : SUCCESS: Optimal solution found.\n",
              "Training time (sec)            : 0.0475\n",
              "\n",
              "Settings\n",
              "--------\n",
              "Residual sum of squares        : 971328233545434.4\n",
              "Training RMSE                  : 236378.5965\n",
              "\n",
              "Highest Positive Coefficients\n",
              "-----------------------------\n",
              "lat                            : 629865.7895\n",
              "bathrooms                      : 13811.8405\n",
              "sqft_living                    : 310.2633\n",
              "\n",
              "Lowest Negative Coefficients\n",
              "----------------------------\n",
              "(intercept)                    : -56140675.7411\n",
              "long                           : -214790.2852\n",
              "bedrooms                       : -59577.1161"
            ]
          },
          "metadata": {
            "tags": []
          },
          "execution_count": 65
        }
      ]
    },
    {
      "cell_type": "code",
      "metadata": {
        "colab": {
          "base_uri": "https://localhost:8080/"
        },
        "id": "T2LAYxmGVYPU",
        "outputId": "aac08a8f-ef57-4cb2-93b5-5749db6f8abb"
      },
      "source": [
        "predictions1=model1.predict(test_data)\r\n",
        "predictions1"
      ],
      "execution_count": null,
      "outputs": [
        {
          "output_type": "execute_result",
          "data": {
            "text/plain": [
              "dtype: float\n",
              "Rows: 4229\n",
              "[471399.7599674091, 826356.0443938337, 285645.71720182896, 597581.5281494409, 355207.4621696435, 649123.2150128372, 1124405.2740967087, 416850.5385061614, 250676.21805938333, 823092.7454519533, 305175.1244648509, 279683.9062411934, 340326.3471117951, 405782.21861263737, 451174.58351639286, 720709.5879791044, 878014.4895162471, 387958.2896868177, 666071.4122031815, 356701.83779329434, 710143.8162947781, 160735.42438405007, 418894.85017728433, 436629.0428842008, 677758.9726373106, 370072.11988662556, 1114452.0083806217, 321822.85928780213, 300651.91448670626, 398487.9096516669, 120330.97039424628, 608492.0047914572, 750143.0388282984, 198050.5888176933, 374116.71654682606, 492784.12683850527, 257578.89220891148, 1039490.2829399593, 1010851.7407554649, 367984.9351711534, 569009.3587392941, 243079.3134084195, 305360.5415579155, 553299.7520692684, 205307.9307369627, 1049226.7907056995, 983857.561734885, 801873.8905027807, 399100.5458797291, 568278.6381912418, 378975.36859352514, 574531.6652752608, 1173513.1803036109, 1173513.1803036109, 510379.29499964043, 487076.67737481, 186514.70591044053, 334730.03481416777, 566852.6323186606, 384926.22633628175, 631104.9522403628, 952724.3517604694, 504058.57064038515, 812102.5132020302, 575787.6789832301, 210197.34361191466, 185861.87494896352, 571978.1279770732, 373363.01222167537, 378123.2712642588, 738463.9484452158, 960739.8156824373, 465991.5114672296, 695603.2656218112, 538256.0498350523, 632725.947483968, 513907.85623892024, 550362.9891696498, 485623.3950492181, 934279.3042310998, 646216.4807619676, 369634.93972790986, 277334.4925441295, 454766.2319605537, 557636.2710283324, 892788.9875087887, 683365.1251605488, 362851.45589351654, 696172.1888059899, 1205080.8799621388, 762273.9802950546, 142996.51795504242, 97945.33550583944, 424599.66073815525, 147369.4040338248, 580712.9523327909, 293641.70510040596, 594945.5159199089, 438274.7837815583, 184714.91636494547, ... ]"
            ]
          },
          "metadata": {
            "tags": []
          },
          "execution_count": 76
        }
      ]
    },
    {
      "cell_type": "code",
      "metadata": {
        "id": "hzFcKYWrVsHl"
      },
      "source": [
        "\r\n",
        "def get_residual_sum_of_squares(model, data, outcome):\r\n",
        "    # First get the predictions\r\n",
        "    predictions = model.predict(data)\r\n",
        "    # Then compute the residuals/errors\r\n",
        "    residuals = outcome - predictions\r\n",
        "    # Then square and add them up\r\n",
        "    RSS = (residuals * residuals).sum()\r\n",
        "    return(RSS)"
      ],
      "execution_count": null,
      "outputs": []
    },
    {
      "cell_type": "code",
      "metadata": {
        "colab": {
          "base_uri": "https://localhost:8080/"
        },
        "id": "hSMJXJdrVvJs",
        "outputId": "0f79a5fb-947c-44ae-e5dc-0da453a90ffa"
      },
      "source": [
        "rss_example_train = get_residual_sum_of_squares(model1, test_data, test_data['price'])\r\n",
        "rss_example_train"
      ],
      "execution_count": null,
      "outputs": [
        {
          "output_type": "execute_result",
          "data": {
            "text/plain": [
              "226568089093160.38"
            ]
          },
          "metadata": {
            "tags": []
          },
          "execution_count": 82
        }
      ]
    },
    {
      "cell_type": "code",
      "metadata": {
        "colab": {
          "base_uri": "https://localhost:8080/",
          "height": 918
        },
        "id": "1lq0dFYoHkpB",
        "outputId": "31a7b0cc-e312-477b-cd3e-4b5b4504b151"
      },
      "source": [
        "model2=turicreate.linear_regression.create(train_data,target='price',features=['sqft_living', 'bedrooms', 'bathrooms', 'lat', 'long', 'bed_bath_rooms'],validation_set=None)\r\n",
        "model2"
      ],
      "execution_count": null,
      "outputs": [
        {
          "output_type": "display_data",
          "data": {
            "text/html": [
              "<pre>Linear regression:</pre>"
            ],
            "text/plain": [
              "Linear regression:"
            ]
          },
          "metadata": {
            "tags": []
          }
        },
        {
          "output_type": "display_data",
          "data": {
            "text/html": [
              "<pre>--------------------------------------------------------</pre>"
            ],
            "text/plain": [
              "--------------------------------------------------------"
            ]
          },
          "metadata": {
            "tags": []
          }
        },
        {
          "output_type": "display_data",
          "data": {
            "text/html": [
              "<pre>Number of examples          : 17384</pre>"
            ],
            "text/plain": [
              "Number of examples          : 17384"
            ]
          },
          "metadata": {
            "tags": []
          }
        },
        {
          "output_type": "display_data",
          "data": {
            "text/html": [
              "<pre>Number of features          : 6</pre>"
            ],
            "text/plain": [
              "Number of features          : 6"
            ]
          },
          "metadata": {
            "tags": []
          }
        },
        {
          "output_type": "display_data",
          "data": {
            "text/html": [
              "<pre>Number of unpacked features : 6</pre>"
            ],
            "text/plain": [
              "Number of unpacked features : 6"
            ]
          },
          "metadata": {
            "tags": []
          }
        },
        {
          "output_type": "display_data",
          "data": {
            "text/html": [
              "<pre>Number of coefficients    : 7</pre>"
            ],
            "text/plain": [
              "Number of coefficients    : 7"
            ]
          },
          "metadata": {
            "tags": []
          }
        },
        {
          "output_type": "display_data",
          "data": {
            "text/html": [
              "<pre>Starting Newton Method</pre>"
            ],
            "text/plain": [
              "Starting Newton Method"
            ]
          },
          "metadata": {
            "tags": []
          }
        },
        {
          "output_type": "display_data",
          "data": {
            "text/html": [
              "<pre>--------------------------------------------------------</pre>"
            ],
            "text/plain": [
              "--------------------------------------------------------"
            ]
          },
          "metadata": {
            "tags": []
          }
        },
        {
          "output_type": "display_data",
          "data": {
            "text/html": [
              "<pre>+-----------+----------+--------------+--------------------+---------------------------------+</pre>"
            ],
            "text/plain": [
              "+-----------+----------+--------------+--------------------+---------------------------------+"
            ]
          },
          "metadata": {
            "tags": []
          }
        },
        {
          "output_type": "display_data",
          "data": {
            "text/html": [
              "<pre>| Iteration | Passes   | Elapsed Time | Training Max Error | Training Root-Mean-Square Error |</pre>"
            ],
            "text/plain": [
              "| Iteration | Passes   | Elapsed Time | Training Max Error | Training Root-Mean-Square Error |"
            ]
          },
          "metadata": {
            "tags": []
          }
        },
        {
          "output_type": "display_data",
          "data": {
            "text/html": [
              "<pre>+-----------+----------+--------------+--------------------+---------------------------------+</pre>"
            ],
            "text/plain": [
              "+-----------+----------+--------------+--------------------+---------------------------------+"
            ]
          },
          "metadata": {
            "tags": []
          }
        },
        {
          "output_type": "display_data",
          "data": {
            "text/html": [
              "<pre>| 1         | 2        | 0.033024     | 4014170.932940     | 235190.935428                   |</pre>"
            ],
            "text/plain": [
              "| 1         | 2        | 0.033024     | 4014170.932940     | 235190.935428                   |"
            ]
          },
          "metadata": {
            "tags": []
          }
        },
        {
          "output_type": "display_data",
          "data": {
            "text/html": [
              "<pre>| 2         | 3        | 0.050315     | 4014170.932936     | 235190.935429                   |</pre>"
            ],
            "text/plain": [
              "| 2         | 3        | 0.050315     | 4014170.932936     | 235190.935429                   |"
            ]
          },
          "metadata": {
            "tags": []
          }
        },
        {
          "output_type": "display_data",
          "data": {
            "text/html": [
              "<pre>+-----------+----------+--------------+--------------------+---------------------------------+</pre>"
            ],
            "text/plain": [
              "+-----------+----------+--------------+--------------------+---------------------------------+"
            ]
          },
          "metadata": {
            "tags": []
          }
        },
        {
          "output_type": "display_data",
          "data": {
            "text/html": [
              "<pre>SUCCESS: Optimal solution found.</pre>"
            ],
            "text/plain": [
              "SUCCESS: Optimal solution found."
            ]
          },
          "metadata": {
            "tags": []
          }
        },
        {
          "output_type": "display_data",
          "data": {
            "text/html": [
              "<pre></pre>"
            ],
            "text/plain": [
              ""
            ]
          },
          "metadata": {
            "tags": []
          }
        },
        {
          "output_type": "execute_result",
          "data": {
            "text/plain": [
              "Class                          : LinearRegression\n",
              "\n",
              "Schema\n",
              "------\n",
              "Number of coefficients         : 7\n",
              "Number of examples             : 17384\n",
              "Number of feature columns      : 6\n",
              "Number of unpacked features    : 6\n",
              "\n",
              "Hyperparameters\n",
              "---------------\n",
              "L1 penalty                     : 0.0\n",
              "L2 penalty                     : 0.01\n",
              "\n",
              "Training Summary\n",
              "----------------\n",
              "Solver                         : newton\n",
              "Solver iterations              : 2\n",
              "Solver status                  : SUCCESS: Optimal solution found.\n",
              "Training time (sec)            : 0.0578\n",
              "\n",
              "Settings\n",
              "--------\n",
              "Residual sum of squares        : 961592067857509.2\n",
              "Training RMSE                  : 235190.9354\n",
              "\n",
              "Highest Positive Coefficients\n",
              "-----------------------------\n",
              "lat                            : 625433.8349\n",
              "bed_bath_rooms                 : 26961.6249\n",
              "sqft_living                    : 304.4493\n",
              "\n",
              "Lowest Negative Coefficients\n",
              "----------------------------\n",
              "(intercept)                    : -54410676.1118\n",
              "long                           : -203958.6029\n",
              "bedrooms                       : -116366.0432\n",
              "bathrooms                      : -77972.3305"
            ]
          },
          "metadata": {
            "tags": []
          },
          "execution_count": 83
        }
      ]
    },
    {
      "cell_type": "code",
      "metadata": {
        "colab": {
          "base_uri": "https://localhost:8080/"
        },
        "id": "zsqnEECGV8gE",
        "outputId": "2c165133-e817-4789-94b7-a92431128462"
      },
      "source": [
        "rss_example_train1 = get_residual_sum_of_squares(model2, test_data, test_data['price'])\r\n",
        "rss_example_train1"
      ],
      "execution_count": null,
      "outputs": [
        {
          "output_type": "execute_result",
          "data": {
            "text/plain": [
              "224368799993971.25"
            ]
          },
          "metadata": {
            "tags": []
          },
          "execution_count": 84
        }
      ]
    },
    {
      "cell_type": "code",
      "metadata": {
        "colab": {
          "base_uri": "https://localhost:8080/",
          "height": 272
        },
        "id": "0NdFIQKeIdAT",
        "outputId": "3a305213-8747-466b-8052-7a1916b68e51"
      },
      "source": [
        "model3=turicreate.linear_regression.create(train_data,target='price',features=['sqft_living', 'bedrooms', 'bathrooms', 'lat', 'long', 'bed_bath_rooms','bedrooms_squared', 'log_sqft_living',  'lat_plus_long'],validation_set=None)"
      ],
      "execution_count": null,
      "outputs": [
        {
          "output_type": "display_data",
          "data": {
            "text/html": [
              "<pre>Linear regression:</pre>"
            ],
            "text/plain": [
              "Linear regression:"
            ]
          },
          "metadata": {
            "tags": []
          }
        },
        {
          "output_type": "display_data",
          "data": {
            "text/html": [
              "<pre>--------------------------------------------------------</pre>"
            ],
            "text/plain": [
              "--------------------------------------------------------"
            ]
          },
          "metadata": {
            "tags": []
          }
        },
        {
          "output_type": "display_data",
          "data": {
            "text/html": [
              "<pre>Number of examples          : 17384</pre>"
            ],
            "text/plain": [
              "Number of examples          : 17384"
            ]
          },
          "metadata": {
            "tags": []
          }
        },
        {
          "output_type": "display_data",
          "data": {
            "text/html": [
              "<pre>Number of features          : 9</pre>"
            ],
            "text/plain": [
              "Number of features          : 9"
            ]
          },
          "metadata": {
            "tags": []
          }
        },
        {
          "output_type": "display_data",
          "data": {
            "text/html": [
              "<pre>Number of unpacked features : 9</pre>"
            ],
            "text/plain": [
              "Number of unpacked features : 9"
            ]
          },
          "metadata": {
            "tags": []
          }
        },
        {
          "output_type": "display_data",
          "data": {
            "text/html": [
              "<pre>Number of coefficients    : 10</pre>"
            ],
            "text/plain": [
              "Number of coefficients    : 10"
            ]
          },
          "metadata": {
            "tags": []
          }
        },
        {
          "output_type": "display_data",
          "data": {
            "text/html": [
              "<pre>Starting Newton Method</pre>"
            ],
            "text/plain": [
              "Starting Newton Method"
            ]
          },
          "metadata": {
            "tags": []
          }
        },
        {
          "output_type": "display_data",
          "data": {
            "text/html": [
              "<pre>--------------------------------------------------------</pre>"
            ],
            "text/plain": [
              "--------------------------------------------------------"
            ]
          },
          "metadata": {
            "tags": []
          }
        },
        {
          "output_type": "display_data",
          "data": {
            "text/html": [
              "<pre>+-----------+----------+--------------+--------------------+---------------------------------+</pre>"
            ],
            "text/plain": [
              "+-----------+----------+--------------+--------------------+---------------------------------+"
            ]
          },
          "metadata": {
            "tags": []
          }
        },
        {
          "output_type": "display_data",
          "data": {
            "text/html": [
              "<pre>| Iteration | Passes   | Elapsed Time | Training Max Error | Training Root-Mean-Square Error |</pre>"
            ],
            "text/plain": [
              "| Iteration | Passes   | Elapsed Time | Training Max Error | Training Root-Mean-Square Error |"
            ]
          },
          "metadata": {
            "tags": []
          }
        },
        {
          "output_type": "display_data",
          "data": {
            "text/html": [
              "<pre>+-----------+----------+--------------+--------------------+---------------------------------+</pre>"
            ],
            "text/plain": [
              "+-----------+----------+--------------+--------------------+---------------------------------+"
            ]
          },
          "metadata": {
            "tags": []
          }
        },
        {
          "output_type": "display_data",
          "data": {
            "text/html": [
              "<pre>| 1         | 2        | 0.024526     | 3193229.177888     | 228200.043155                   |</pre>"
            ],
            "text/plain": [
              "| 1         | 2        | 0.024526     | 3193229.177888     | 228200.043155                   |"
            ]
          },
          "metadata": {
            "tags": []
          }
        },
        {
          "output_type": "display_data",
          "data": {
            "text/html": [
              "<pre>| 2         | 3        | 0.050943     | 3193229.177873     | 228200.043155                   |</pre>"
            ],
            "text/plain": [
              "| 2         | 3        | 0.050943     | 3193229.177873     | 228200.043155                   |"
            ]
          },
          "metadata": {
            "tags": []
          }
        },
        {
          "output_type": "display_data",
          "data": {
            "text/html": [
              "<pre>+-----------+----------+--------------+--------------------+---------------------------------+</pre>"
            ],
            "text/plain": [
              "+-----------+----------+--------------+--------------------+---------------------------------+"
            ]
          },
          "metadata": {
            "tags": []
          }
        },
        {
          "output_type": "display_data",
          "data": {
            "text/html": [
              "<pre>SUCCESS: Optimal solution found.</pre>"
            ],
            "text/plain": [
              "SUCCESS: Optimal solution found."
            ]
          },
          "metadata": {
            "tags": []
          }
        },
        {
          "output_type": "display_data",
          "data": {
            "text/html": [
              "<pre></pre>"
            ],
            "text/plain": [
              ""
            ]
          },
          "metadata": {
            "tags": []
          }
        }
      ]
    },
    {
      "cell_type": "code",
      "metadata": {
        "id": "bIOWUKnyJaM0"
      },
      "source": [
        "import numpy as np"
      ],
      "execution_count": null,
      "outputs": []
    },
    {
      "cell_type": "code",
      "metadata": {
        "colab": {
          "base_uri": "https://localhost:8080/"
        },
        "id": "lt-mdmwCWGfO",
        "outputId": "35166178-6e99-4f4c-862c-10dedfa4f6ac"
      },
      "source": [
        "\r\n",
        "rss_example_train2 = get_residual_sum_of_squares(model3, test_data, test_data['price'])\r\n",
        "rss_example_train2"
      ],
      "execution_count": null,
      "outputs": [
        {
          "output_type": "execute_result",
          "data": {
            "text/plain": [
              "251829318963159.2"
            ]
          },
          "metadata": {
            "tags": []
          },
          "execution_count": 86
        }
      ]
    },
    {
      "cell_type": "code",
      "metadata": {
        "colab": {
          "base_uri": "https://localhost:8080/"
        },
        "id": "FATeQNhWKTpl",
        "outputId": "5dd83c71-ef72-481a-a156-b599a5512f1a"
      },
      "source": [
        "min(215385359200506.3,\r\n",
        "225515255773957.56,\r\n",
        "228607513344905.22)"
      ],
      "execution_count": null,
      "outputs": [
        {
          "output_type": "execute_result",
          "data": {
            "text/plain": [
              "215385359200506.3"
            ]
          },
          "metadata": {
            "tags": []
          },
          "execution_count": 61
        }
      ]
    },
    {
      "cell_type": "code",
      "metadata": {
        "id": "UH1Cq_bXOJrJ"
      },
      "source": [
        "mylist = [1., 2., 3., 4.]\r\n",
        "mynparray = np.array(mylist)\r\n",
        "mynparray\r\n",
        "import math"
      ],
      "execution_count": null,
      "outputs": []
    },
    {
      "cell_type": "code",
      "metadata": {
        "colab": {
          "base_uri": "https://localhost:8080/"
        },
        "id": "HyclijfwYhlj",
        "outputId": "353f3d83-c926-4361-eb70-fa3008f53c15"
      },
      "source": [
        "one_vector =5*np.ones(4)\r\n",
        "print (one_vector) # using print removes the array() portion"
      ],
      "execution_count": null,
      "outputs": [
        {
          "output_type": "stream",
          "text": [
            "[5. 5. 5. 5.]\n"
          ],
          "name": "stdout"
        }
      ]
    },
    {
      "cell_type": "code",
      "metadata": {
        "colab": {
          "base_uri": "https://localhost:8080/"
        },
        "id": "4xI3muiDYtDs",
        "outputId": "81f4ad12-6ba3-4d59-f1c6-6e54817f34c9"
      },
      "source": [
        "one2Darray = np.ones((2, 4)) # an 2D array with 2 \"rows\" and 4 \"columns\"\r\n",
        "one2Darray"
      ],
      "execution_count": null,
      "outputs": [
        {
          "output_type": "execute_result",
          "data": {
            "text/plain": [
              "array([[1., 1., 1., 1.],\n",
              "       [1., 1., 1., 1.]])"
            ]
          },
          "metadata": {
            "tags": []
          },
          "execution_count": 91
        }
      ]
    },
    {
      "cell_type": "code",
      "metadata": {
        "colab": {
          "base_uri": "https://localhost:8080/",
          "height": 180
        },
        "id": "YsHghojYYzBU",
        "outputId": "7bb539b1-05c3-40c3-bdac-b240f4de82c5"
      },
      "source": [
        "empty_vector = np.empty(5)\r\n",
        "print(empty_vector)"
      ],
      "execution_count": null,
      "outputs": [
        {
          "output_type": "error",
          "ename": "TypeError",
          "evalue": "ignored",
          "traceback": [
            "\u001b[0;31m---------------------------------------------------------------------------\u001b[0m",
            "\u001b[0;31mTypeError\u001b[0m                                 Traceback (most recent call last)",
            "\u001b[0;32m<ipython-input-112-0c60cda49bdf>\u001b[0m in \u001b[0;36m<module>\u001b[0;34m()\u001b[0m\n\u001b[0;32m----> 1\u001b[0;31m \u001b[0mempty_vector\u001b[0m \u001b[0;34m=\u001b[0m \u001b[0mnp\u001b[0m\u001b[0;34m.\u001b[0m\u001b[0mempty\u001b[0m\u001b[0;34m(\u001b[0m\u001b[0;36m5\u001b[0m\u001b[0;34m,\u001b[0m\u001b[0;36m1\u001b[0m\u001b[0;34m)\u001b[0m\u001b[0;34m\u001b[0m\u001b[0;34m\u001b[0m\u001b[0m\n\u001b[0m\u001b[1;32m      2\u001b[0m \u001b[0mprint\u001b[0m\u001b[0;34m(\u001b[0m\u001b[0mempty_vector\u001b[0m\u001b[0;34m)\u001b[0m\u001b[0;34m\u001b[0m\u001b[0;34m\u001b[0m\u001b[0m\n",
            "\u001b[0;31mTypeError\u001b[0m: Cannot interpret '1' as a data type"
          ]
        }
      ]
    },
    {
      "cell_type": "code",
      "metadata": {
        "colab": {
          "base_uri": "https://localhost:8080/"
        },
        "id": "_mpWvC3pY9t_",
        "outputId": "4575340b-f782-460c-9b97-1f13acca1458"
      },
      "source": [
        "my_matrix = np.array([[1, 2, 3], [4, 5, 6]])\r\n",
        "my_matrix[0, 0:3]"
      ],
      "execution_count": null,
      "outputs": [
        {
          "output_type": "execute_result",
          "data": {
            "text/plain": [
              "array([1, 2, 3])"
            ]
          },
          "metadata": {
            "tags": []
          },
          "execution_count": 98
        }
      ]
    },
    {
      "cell_type": "code",
      "metadata": {
        "colab": {
          "base_uri": "https://localhost:8080/"
        },
        "id": "5oMr02wmZpWM",
        "outputId": "1ffdd23c-5420-494f-d795-611ac01cbf94"
      },
      "source": [
        "my_matrix[0:2, 2]"
      ],
      "execution_count": null,
      "outputs": [
        {
          "output_type": "execute_result",
          "data": {
            "text/plain": [
              "array([3, 6])"
            ]
          },
          "metadata": {
            "tags": []
          },
          "execution_count": 99
        }
      ]
    },
    {
      "cell_type": "code",
      "metadata": {
        "colab": {
          "base_uri": "https://localhost:8080/"
        },
        "id": "TCuWsXFpZ6Bd",
        "outputId": "2a0a3b74-87e2-4ec2-f081-3770e54936c3"
      },
      "source": [
        "fib_indices = np.array([1, 1, 2, 3])\r\n",
        "random_vector = np.random.random(10) # 10 random numbers between 0 and 1\r\n",
        "random_vector"
      ],
      "execution_count": null,
      "outputs": [
        {
          "output_type": "execute_result",
          "data": {
            "text/plain": [
              "array([0.46261334, 0.78561586, 0.56106142, 0.34373192, 0.95563477,\n",
              "       0.39239207, 0.73721973, 0.38201863, 0.51591784, 0.2588628 ])"
            ]
          },
          "metadata": {
            "tags": []
          },
          "execution_count": 100
        }
      ]
    },
    {
      "cell_type": "code",
      "metadata": {
        "colab": {
          "base_uri": "https://localhost:8080/"
        },
        "id": "rbujhvNwaFDU",
        "outputId": "0817b06d-8afd-45be-f2d2-c2a2b05e795f"
      },
      "source": [
        "random_vector[fib_indices]"
      ],
      "execution_count": null,
      "outputs": [
        {
          "output_type": "execute_result",
          "data": {
            "text/plain": [
              "array([0.78561586, 0.78561586, 0.56106142, 0.34373192])"
            ]
          },
          "metadata": {
            "tags": []
          },
          "execution_count": 101
        }
      ]
    },
    {
      "cell_type": "code",
      "metadata": {
        "colab": {
          "base_uri": "https://localhost:8080/"
        },
        "id": "MIO5sgpHaLDg",
        "outputId": "c3765c65-cd1b-4433-8dd4-842ce842e5d4"
      },
      "source": [
        "my_vector = np.array([1, 2, 3, 4])\r\n",
        "select_index = np.array([True, False, True, False])\r\n",
        "my_vector[select_index]"
      ],
      "execution_count": null,
      "outputs": [
        {
          "output_type": "execute_result",
          "data": {
            "text/plain": [
              "array([1, 3])"
            ]
          },
          "metadata": {
            "tags": []
          },
          "execution_count": 102
        }
      ]
    },
    {
      "cell_type": "code",
      "metadata": {
        "id": "Dc9wy6Xbabti"
      },
      "source": [
        "matrix_1 = np.array([[1., 2., 3.],[4., 5., 6.]])\r\n",
        "matrix_2 = np.array([[1., 2.], [3., 4.], [5., 6.]])"
      ],
      "execution_count": null,
      "outputs": []
    },
    {
      "cell_type": "code",
      "metadata": {
        "colab": {
          "base_uri": "https://localhost:8080/"
        },
        "id": "27oR7SqCan8g",
        "outputId": "753ee5da-cdba-47c2-d87e-66fb9e3914ed"
      },
      "source": [
        " np.dot(matrix_1, matrix_2)"
      ],
      "execution_count": null,
      "outputs": [
        {
          "output_type": "execute_result",
          "data": {
            "text/plain": [
              "array([[22., 28.],\n",
              "       [49., 64.]])"
            ]
          },
          "metadata": {
            "tags": []
          },
          "execution_count": 104
        }
      ]
    },
    {
      "cell_type": "code",
      "metadata": {
        "colab": {
          "base_uri": "https://localhost:8080/"
        },
        "id": "rqUJ1_PhauQ6",
        "outputId": "58132de6-de49-4fa7-9aa0-ec646951fa63"
      },
      "source": [
        "array1 = np.array([1., 2., 3., 4.])\r\n",
        "array2 = np.array([2., 3., 4., 5.])\r\n",
        "np.dot(array1, array2)"
      ],
      "execution_count": null,
      "outputs": [
        {
          "output_type": "execute_result",
          "data": {
            "text/plain": [
              "40.0"
            ]
          },
          "metadata": {
            "tags": []
          },
          "execution_count": 105
        }
      ]
    },
    {
      "cell_type": "code",
      "metadata": {
        "colab": {
          "base_uri": "https://localhost:8080/"
        },
        "id": "4H-VSfEsa2zl",
        "outputId": "6eff8936-ca3c-42db-e923-c2451fdb17d5"
      },
      "source": [
        "array1_mag = np.sqrt(np.dot(array1, array1))\r\n",
        "print( array1_mag)"
      ],
      "execution_count": null,
      "outputs": [
        {
          "output_type": "stream",
          "text": [
            "5.477225575051661\n"
          ],
          "name": "stdout"
        }
      ]
    },
    {
      "cell_type": "code",
      "metadata": {
        "colab": {
          "base_uri": "https://localhost:8080/"
        },
        "id": "ELes5ocKbHIr",
        "outputId": "e049aed5-626b-4910-e595-080ede72f207"
      },
      "source": [
        "np.sqrt(np.sum(array1*array1))"
      ],
      "execution_count": null,
      "outputs": [
        {
          "output_type": "execute_result",
          "data": {
            "text/plain": [
              "5.477225575051661"
            ]
          },
          "metadata": {
            "tags": []
          },
          "execution_count": 109
        }
      ]
    },
    {
      "cell_type": "markdown",
      "metadata": {
        "id": "Wl-fKvudCCvc"
      },
      "source": [
        "ASSIGNMENT 2"
      ]
    },
    {
      "cell_type": "code",
      "metadata": {
        "colab": {
          "resources": {
            "http://localhost:8080/nbextensions/google.colab/files.js": {
              "data": "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",
              "ok": true,
              "headers": [
                [
                  "content-type",
                  "application/javascript"
                ]
              ],
              "status": 200,
              "status_text": ""
            }
          },
          "base_uri": "https://localhost:8080/",
          "height": 72
        },
        "id": "-rY1bMMuCEIh",
        "outputId": "8ee257c5-c2fd-490b-9978-f399b8b3ae89"
      },
      "source": [
        "from google.colab import files\r\n",
        "uploaded = files.upload()"
      ],
      "execution_count": null,
      "outputs": [
        {
          "output_type": "display_data",
          "data": {
            "text/html": [
              "\n",
              "     <input type=\"file\" id=\"files-3757d61b-7061-4146-ac61-f10948baafa3\" name=\"files[]\" multiple disabled\n",
              "        style=\"border:none\" />\n",
              "     <output id=\"result-3757d61b-7061-4146-ac61-f10948baafa3\">\n",
              "      Upload widget is only available when the cell has been executed in the\n",
              "      current browser session. Please rerun this cell to enable.\n",
              "      </output>\n",
              "      <script src=\"/nbextensions/google.colab/files.js\"></script> "
            ],
            "text/plain": [
              "<IPython.core.display.HTML object>"
            ]
          },
          "metadata": {
            "tags": []
          }
        },
        {
          "output_type": "stream",
          "text": [
            "Saving _home_data.sframe.zip to _home_data.sframe.zip\n"
          ],
          "name": "stdout"
        }
      ]
    },
    {
      "cell_type": "code",
      "metadata": {
        "colab": {
          "base_uri": "https://localhost:8080/"
        },
        "id": "EaGFCJ9FCr9h",
        "outputId": "82e525f7-d9d4-44ac-b80e-5e1130cfe8da"
      },
      "source": [
        "from zipfile import ZipFile\r\n",
        "file_name = \"_home_data.sframe.zip\"\r\n",
        "with ZipFile(file_name,'r')as zip:\r\n",
        "  zip.extractall()\r\n",
        "  print('Done')"
      ],
      "execution_count": null,
      "outputs": [
        {
          "output_type": "stream",
          "text": [
            "Done\n"
          ],
          "name": "stdout"
        }
      ]
    },
    {
      "cell_type": "code",
      "metadata": {
        "colab": {
          "base_uri": "https://localhost:8080/",
          "height": 701
        },
        "id": "way34y78DgCs",
        "outputId": "e9340e89-377c-43e9-8fab-b4d88d086e51"
      },
      "source": [
        "sales1= turicreate.SFrame('home_data.sframe/')\r\n",
        "sales1"
      ],
      "execution_count": null,
      "outputs": [
        {
          "output_type": "execute_result",
          "data": {
            "text/html": [
              "<div style=\"max-height:1000px;max-width:1500px;overflow:auto;\"><table frame=\"box\" rules=\"cols\">\n",
              "    <tr>\n",
              "        <th style=\"padding-left: 1em; padding-right: 1em; text-align: center\">id</th>\n",
              "        <th style=\"padding-left: 1em; padding-right: 1em; text-align: center\">date</th>\n",
              "        <th style=\"padding-left: 1em; padding-right: 1em; text-align: center\">price</th>\n",
              "        <th style=\"padding-left: 1em; padding-right: 1em; text-align: center\">bedrooms</th>\n",
              "        <th style=\"padding-left: 1em; padding-right: 1em; text-align: center\">bathrooms</th>\n",
              "        <th style=\"padding-left: 1em; padding-right: 1em; text-align: center\">sqft_living</th>\n",
              "        <th style=\"padding-left: 1em; padding-right: 1em; text-align: center\">sqft_lot</th>\n",
              "        <th style=\"padding-left: 1em; padding-right: 1em; text-align: center\">floors</th>\n",
              "        <th style=\"padding-left: 1em; padding-right: 1em; text-align: center\">waterfront</th>\n",
              "    </tr>\n",
              "    <tr>\n",
              "        <td style=\"padding-left: 1em; padding-right: 1em; text-align: center; vertical-align: top\">7129300520</td>\n",
              "        <td style=\"padding-left: 1em; padding-right: 1em; text-align: center; vertical-align: top\">2014-10-13 00:00:00+00:00</td>\n",
              "        <td style=\"padding-left: 1em; padding-right: 1em; text-align: center; vertical-align: top\">221900.0</td>\n",
              "        <td style=\"padding-left: 1em; padding-right: 1em; text-align: center; vertical-align: top\">3.0</td>\n",
              "        <td style=\"padding-left: 1em; padding-right: 1em; text-align: center; vertical-align: top\">1.0</td>\n",
              "        <td style=\"padding-left: 1em; padding-right: 1em; text-align: center; vertical-align: top\">1180.0</td>\n",
              "        <td style=\"padding-left: 1em; padding-right: 1em; text-align: center; vertical-align: top\">5650.0</td>\n",
              "        <td style=\"padding-left: 1em; padding-right: 1em; text-align: center; vertical-align: top\">1.0</td>\n",
              "        <td style=\"padding-left: 1em; padding-right: 1em; text-align: center; vertical-align: top\">0</td>\n",
              "    </tr>\n",
              "    <tr>\n",
              "        <td style=\"padding-left: 1em; padding-right: 1em; text-align: center; vertical-align: top\">6414100192</td>\n",
              "        <td style=\"padding-left: 1em; padding-right: 1em; text-align: center; vertical-align: top\">2014-12-09 00:00:00+00:00</td>\n",
              "        <td style=\"padding-left: 1em; padding-right: 1em; text-align: center; vertical-align: top\">538000.0</td>\n",
              "        <td style=\"padding-left: 1em; padding-right: 1em; text-align: center; vertical-align: top\">3.0</td>\n",
              "        <td style=\"padding-left: 1em; padding-right: 1em; text-align: center; vertical-align: top\">2.25</td>\n",
              "        <td style=\"padding-left: 1em; padding-right: 1em; text-align: center; vertical-align: top\">2570.0</td>\n",
              "        <td style=\"padding-left: 1em; padding-right: 1em; text-align: center; vertical-align: top\">7242.0</td>\n",
              "        <td style=\"padding-left: 1em; padding-right: 1em; text-align: center; vertical-align: top\">2.0</td>\n",
              "        <td style=\"padding-left: 1em; padding-right: 1em; text-align: center; vertical-align: top\">0</td>\n",
              "    </tr>\n",
              "    <tr>\n",
              "        <td style=\"padding-left: 1em; padding-right: 1em; text-align: center; vertical-align: top\">5631500400</td>\n",
              "        <td style=\"padding-left: 1em; padding-right: 1em; text-align: center; vertical-align: top\">2015-02-25 00:00:00+00:00</td>\n",
              "        <td style=\"padding-left: 1em; padding-right: 1em; text-align: center; vertical-align: top\">180000.0</td>\n",
              "        <td style=\"padding-left: 1em; padding-right: 1em; text-align: center; vertical-align: top\">2.0</td>\n",
              "        <td style=\"padding-left: 1em; padding-right: 1em; text-align: center; vertical-align: top\">1.0</td>\n",
              "        <td style=\"padding-left: 1em; padding-right: 1em; text-align: center; vertical-align: top\">770.0</td>\n",
              "        <td style=\"padding-left: 1em; padding-right: 1em; text-align: center; vertical-align: top\">10000.0</td>\n",
              "        <td style=\"padding-left: 1em; padding-right: 1em; text-align: center; vertical-align: top\">1.0</td>\n",
              "        <td style=\"padding-left: 1em; padding-right: 1em; text-align: center; vertical-align: top\">0</td>\n",
              "    </tr>\n",
              "    <tr>\n",
              "        <td style=\"padding-left: 1em; padding-right: 1em; text-align: center; vertical-align: top\">2487200875</td>\n",
              "        <td style=\"padding-left: 1em; padding-right: 1em; text-align: center; vertical-align: top\">2014-12-09 00:00:00+00:00</td>\n",
              "        <td style=\"padding-left: 1em; padding-right: 1em; text-align: center; vertical-align: top\">604000.0</td>\n",
              "        <td style=\"padding-left: 1em; padding-right: 1em; text-align: center; vertical-align: top\">4.0</td>\n",
              "        <td style=\"padding-left: 1em; padding-right: 1em; text-align: center; vertical-align: top\">3.0</td>\n",
              "        <td style=\"padding-left: 1em; padding-right: 1em; text-align: center; vertical-align: top\">1960.0</td>\n",
              "        <td style=\"padding-left: 1em; padding-right: 1em; text-align: center; vertical-align: top\">5000.0</td>\n",
              "        <td style=\"padding-left: 1em; padding-right: 1em; text-align: center; vertical-align: top\">1.0</td>\n",
              "        <td style=\"padding-left: 1em; padding-right: 1em; text-align: center; vertical-align: top\">0</td>\n",
              "    </tr>\n",
              "    <tr>\n",
              "        <td style=\"padding-left: 1em; padding-right: 1em; text-align: center; vertical-align: top\">1954400510</td>\n",
              "        <td style=\"padding-left: 1em; padding-right: 1em; text-align: center; vertical-align: top\">2015-02-18 00:00:00+00:00</td>\n",
              "        <td style=\"padding-left: 1em; padding-right: 1em; text-align: center; vertical-align: top\">510000.0</td>\n",
              "        <td style=\"padding-left: 1em; padding-right: 1em; text-align: center; vertical-align: top\">3.0</td>\n",
              "        <td style=\"padding-left: 1em; padding-right: 1em; text-align: center; vertical-align: top\">2.0</td>\n",
              "        <td style=\"padding-left: 1em; padding-right: 1em; text-align: center; vertical-align: top\">1680.0</td>\n",
              "        <td style=\"padding-left: 1em; padding-right: 1em; text-align: center; vertical-align: top\">8080.0</td>\n",
              "        <td style=\"padding-left: 1em; padding-right: 1em; text-align: center; vertical-align: top\">1.0</td>\n",
              "        <td style=\"padding-left: 1em; padding-right: 1em; text-align: center; vertical-align: top\">0</td>\n",
              "    </tr>\n",
              "    <tr>\n",
              "        <td style=\"padding-left: 1em; padding-right: 1em; text-align: center; vertical-align: top\">7237550310</td>\n",
              "        <td style=\"padding-left: 1em; padding-right: 1em; text-align: center; vertical-align: top\">2014-05-12 00:00:00+00:00</td>\n",
              "        <td style=\"padding-left: 1em; padding-right: 1em; text-align: center; vertical-align: top\">1225000.0</td>\n",
              "        <td style=\"padding-left: 1em; padding-right: 1em; text-align: center; vertical-align: top\">4.0</td>\n",
              "        <td style=\"padding-left: 1em; padding-right: 1em; text-align: center; vertical-align: top\">4.5</td>\n",
              "        <td style=\"padding-left: 1em; padding-right: 1em; text-align: center; vertical-align: top\">5420.0</td>\n",
              "        <td style=\"padding-left: 1em; padding-right: 1em; text-align: center; vertical-align: top\">101930.0</td>\n",
              "        <td style=\"padding-left: 1em; padding-right: 1em; text-align: center; vertical-align: top\">1.0</td>\n",
              "        <td style=\"padding-left: 1em; padding-right: 1em; text-align: center; vertical-align: top\">0</td>\n",
              "    </tr>\n",
              "    <tr>\n",
              "        <td style=\"padding-left: 1em; padding-right: 1em; text-align: center; vertical-align: top\">1321400060</td>\n",
              "        <td style=\"padding-left: 1em; padding-right: 1em; text-align: center; vertical-align: top\">2014-06-27 00:00:00+00:00</td>\n",
              "        <td style=\"padding-left: 1em; padding-right: 1em; text-align: center; vertical-align: top\">257500.0</td>\n",
              "        <td style=\"padding-left: 1em; padding-right: 1em; text-align: center; vertical-align: top\">3.0</td>\n",
              "        <td style=\"padding-left: 1em; padding-right: 1em; text-align: center; vertical-align: top\">2.25</td>\n",
              "        <td style=\"padding-left: 1em; padding-right: 1em; text-align: center; vertical-align: top\">1715.0</td>\n",
              "        <td style=\"padding-left: 1em; padding-right: 1em; text-align: center; vertical-align: top\">6819.0</td>\n",
              "        <td style=\"padding-left: 1em; padding-right: 1em; text-align: center; vertical-align: top\">2.0</td>\n",
              "        <td style=\"padding-left: 1em; padding-right: 1em; text-align: center; vertical-align: top\">0</td>\n",
              "    </tr>\n",
              "    <tr>\n",
              "        <td style=\"padding-left: 1em; padding-right: 1em; text-align: center; vertical-align: top\">2008000270</td>\n",
              "        <td style=\"padding-left: 1em; padding-right: 1em; text-align: center; vertical-align: top\">2015-01-15 00:00:00+00:00</td>\n",
              "        <td style=\"padding-left: 1em; padding-right: 1em; text-align: center; vertical-align: top\">291850.0</td>\n",
              "        <td style=\"padding-left: 1em; padding-right: 1em; text-align: center; vertical-align: top\">3.0</td>\n",
              "        <td style=\"padding-left: 1em; padding-right: 1em; text-align: center; vertical-align: top\">1.5</td>\n",
              "        <td style=\"padding-left: 1em; padding-right: 1em; text-align: center; vertical-align: top\">1060.0</td>\n",
              "        <td style=\"padding-left: 1em; padding-right: 1em; text-align: center; vertical-align: top\">9711.0</td>\n",
              "        <td style=\"padding-left: 1em; padding-right: 1em; text-align: center; vertical-align: top\">1.0</td>\n",
              "        <td style=\"padding-left: 1em; padding-right: 1em; text-align: center; vertical-align: top\">0</td>\n",
              "    </tr>\n",
              "    <tr>\n",
              "        <td style=\"padding-left: 1em; padding-right: 1em; text-align: center; vertical-align: top\">2414600126</td>\n",
              "        <td style=\"padding-left: 1em; padding-right: 1em; text-align: center; vertical-align: top\">2015-04-15 00:00:00+00:00</td>\n",
              "        <td style=\"padding-left: 1em; padding-right: 1em; text-align: center; vertical-align: top\">229500.0</td>\n",
              "        <td style=\"padding-left: 1em; padding-right: 1em; text-align: center; vertical-align: top\">3.0</td>\n",
              "        <td style=\"padding-left: 1em; padding-right: 1em; text-align: center; vertical-align: top\">1.0</td>\n",
              "        <td style=\"padding-left: 1em; padding-right: 1em; text-align: center; vertical-align: top\">1780.0</td>\n",
              "        <td style=\"padding-left: 1em; padding-right: 1em; text-align: center; vertical-align: top\">7470.0</td>\n",
              "        <td style=\"padding-left: 1em; padding-right: 1em; text-align: center; vertical-align: top\">1.0</td>\n",
              "        <td style=\"padding-left: 1em; padding-right: 1em; text-align: center; vertical-align: top\">0</td>\n",
              "    </tr>\n",
              "    <tr>\n",
              "        <td style=\"padding-left: 1em; padding-right: 1em; text-align: center; vertical-align: top\">3793500160</td>\n",
              "        <td style=\"padding-left: 1em; padding-right: 1em; text-align: center; vertical-align: top\">2015-03-12 00:00:00+00:00</td>\n",
              "        <td style=\"padding-left: 1em; padding-right: 1em; text-align: center; vertical-align: top\">323000.0</td>\n",
              "        <td style=\"padding-left: 1em; padding-right: 1em; text-align: center; vertical-align: top\">3.0</td>\n",
              "        <td style=\"padding-left: 1em; padding-right: 1em; text-align: center; vertical-align: top\">2.5</td>\n",
              "        <td style=\"padding-left: 1em; padding-right: 1em; text-align: center; vertical-align: top\">1890.0</td>\n",
              "        <td style=\"padding-left: 1em; padding-right: 1em; text-align: center; vertical-align: top\">6560.0</td>\n",
              "        <td style=\"padding-left: 1em; padding-right: 1em; text-align: center; vertical-align: top\">2.0</td>\n",
              "        <td style=\"padding-left: 1em; padding-right: 1em; text-align: center; vertical-align: top\">0</td>\n",
              "    </tr>\n",
              "</table>\n",
              "<table frame=\"box\" rules=\"cols\">\n",
              "    <tr>\n",
              "        <th style=\"padding-left: 1em; padding-right: 1em; text-align: center\">view</th>\n",
              "        <th style=\"padding-left: 1em; padding-right: 1em; text-align: center\">condition</th>\n",
              "        <th style=\"padding-left: 1em; padding-right: 1em; text-align: center\">grade</th>\n",
              "        <th style=\"padding-left: 1em; padding-right: 1em; text-align: center\">sqft_above</th>\n",
              "        <th style=\"padding-left: 1em; padding-right: 1em; text-align: center\">sqft_basement</th>\n",
              "        <th style=\"padding-left: 1em; padding-right: 1em; text-align: center\">yr_built</th>\n",
              "        <th style=\"padding-left: 1em; padding-right: 1em; text-align: center\">yr_renovated</th>\n",
              "        <th style=\"padding-left: 1em; padding-right: 1em; text-align: center\">zipcode</th>\n",
              "        <th style=\"padding-left: 1em; padding-right: 1em; text-align: center\">lat</th>\n",
              "    </tr>\n",
              "    <tr>\n",
              "        <td style=\"padding-left: 1em; padding-right: 1em; text-align: center; vertical-align: top\">0</td>\n",
              "        <td style=\"padding-left: 1em; padding-right: 1em; text-align: center; vertical-align: top\">3</td>\n",
              "        <td style=\"padding-left: 1em; padding-right: 1em; text-align: center; vertical-align: top\">7.0</td>\n",
              "        <td style=\"padding-left: 1em; padding-right: 1em; text-align: center; vertical-align: top\">1180.0</td>\n",
              "        <td style=\"padding-left: 1em; padding-right: 1em; text-align: center; vertical-align: top\">0.0</td>\n",
              "        <td style=\"padding-left: 1em; padding-right: 1em; text-align: center; vertical-align: top\">1955.0</td>\n",
              "        <td style=\"padding-left: 1em; padding-right: 1em; text-align: center; vertical-align: top\">0.0</td>\n",
              "        <td style=\"padding-left: 1em; padding-right: 1em; text-align: center; vertical-align: top\">98178</td>\n",
              "        <td style=\"padding-left: 1em; padding-right: 1em; text-align: center; vertical-align: top\">47.51123398</td>\n",
              "    </tr>\n",
              "    <tr>\n",
              "        <td style=\"padding-left: 1em; padding-right: 1em; text-align: center; vertical-align: top\">0</td>\n",
              "        <td style=\"padding-left: 1em; padding-right: 1em; text-align: center; vertical-align: top\">3</td>\n",
              "        <td style=\"padding-left: 1em; padding-right: 1em; text-align: center; vertical-align: top\">7.0</td>\n",
              "        <td style=\"padding-left: 1em; padding-right: 1em; text-align: center; vertical-align: top\">2170.0</td>\n",
              "        <td style=\"padding-left: 1em; padding-right: 1em; text-align: center; vertical-align: top\">400.0</td>\n",
              "        <td style=\"padding-left: 1em; padding-right: 1em; text-align: center; vertical-align: top\">1951.0</td>\n",
              "        <td style=\"padding-left: 1em; padding-right: 1em; text-align: center; vertical-align: top\">1991.0</td>\n",
              "        <td style=\"padding-left: 1em; padding-right: 1em; text-align: center; vertical-align: top\">98125</td>\n",
              "        <td style=\"padding-left: 1em; padding-right: 1em; text-align: center; vertical-align: top\">47.72102274</td>\n",
              "    </tr>\n",
              "    <tr>\n",
              "        <td style=\"padding-left: 1em; padding-right: 1em; text-align: center; vertical-align: top\">0</td>\n",
              "        <td style=\"padding-left: 1em; padding-right: 1em; text-align: center; vertical-align: top\">3</td>\n",
              "        <td style=\"padding-left: 1em; padding-right: 1em; text-align: center; vertical-align: top\">6.0</td>\n",
              "        <td style=\"padding-left: 1em; padding-right: 1em; text-align: center; vertical-align: top\">770.0</td>\n",
              "        <td style=\"padding-left: 1em; padding-right: 1em; text-align: center; vertical-align: top\">0.0</td>\n",
              "        <td style=\"padding-left: 1em; padding-right: 1em; text-align: center; vertical-align: top\">1933.0</td>\n",
              "        <td style=\"padding-left: 1em; padding-right: 1em; text-align: center; vertical-align: top\">0.0</td>\n",
              "        <td style=\"padding-left: 1em; padding-right: 1em; text-align: center; vertical-align: top\">98028</td>\n",
              "        <td style=\"padding-left: 1em; padding-right: 1em; text-align: center; vertical-align: top\">47.73792661</td>\n",
              "    </tr>\n",
              "    <tr>\n",
              "        <td style=\"padding-left: 1em; padding-right: 1em; text-align: center; vertical-align: top\">0</td>\n",
              "        <td style=\"padding-left: 1em; padding-right: 1em; text-align: center; vertical-align: top\">5</td>\n",
              "        <td style=\"padding-left: 1em; padding-right: 1em; text-align: center; vertical-align: top\">7.0</td>\n",
              "        <td style=\"padding-left: 1em; padding-right: 1em; text-align: center; vertical-align: top\">1050.0</td>\n",
              "        <td style=\"padding-left: 1em; padding-right: 1em; text-align: center; vertical-align: top\">910.0</td>\n",
              "        <td style=\"padding-left: 1em; padding-right: 1em; text-align: center; vertical-align: top\">1965.0</td>\n",
              "        <td style=\"padding-left: 1em; padding-right: 1em; text-align: center; vertical-align: top\">0.0</td>\n",
              "        <td style=\"padding-left: 1em; padding-right: 1em; text-align: center; vertical-align: top\">98136</td>\n",
              "        <td style=\"padding-left: 1em; padding-right: 1em; text-align: center; vertical-align: top\">47.52082</td>\n",
              "    </tr>\n",
              "    <tr>\n",
              "        <td style=\"padding-left: 1em; padding-right: 1em; text-align: center; vertical-align: top\">0</td>\n",
              "        <td style=\"padding-left: 1em; padding-right: 1em; text-align: center; vertical-align: top\">3</td>\n",
              "        <td style=\"padding-left: 1em; padding-right: 1em; text-align: center; vertical-align: top\">8.0</td>\n",
              "        <td style=\"padding-left: 1em; padding-right: 1em; text-align: center; vertical-align: top\">1680.0</td>\n",
              "        <td style=\"padding-left: 1em; padding-right: 1em; text-align: center; vertical-align: top\">0.0</td>\n",
              "        <td style=\"padding-left: 1em; padding-right: 1em; text-align: center; vertical-align: top\">1987.0</td>\n",
              "        <td style=\"padding-left: 1em; padding-right: 1em; text-align: center; vertical-align: top\">0.0</td>\n",
              "        <td style=\"padding-left: 1em; padding-right: 1em; text-align: center; vertical-align: top\">98074</td>\n",
              "        <td style=\"padding-left: 1em; padding-right: 1em; text-align: center; vertical-align: top\">47.61681228</td>\n",
              "    </tr>\n",
              "    <tr>\n",
              "        <td style=\"padding-left: 1em; padding-right: 1em; text-align: center; vertical-align: top\">0</td>\n",
              "        <td style=\"padding-left: 1em; padding-right: 1em; text-align: center; vertical-align: top\">3</td>\n",
              "        <td style=\"padding-left: 1em; padding-right: 1em; text-align: center; vertical-align: top\">11.0</td>\n",
              "        <td style=\"padding-left: 1em; padding-right: 1em; text-align: center; vertical-align: top\">3890.0</td>\n",
              "        <td style=\"padding-left: 1em; padding-right: 1em; text-align: center; vertical-align: top\">1530.0</td>\n",
              "        <td style=\"padding-left: 1em; padding-right: 1em; text-align: center; vertical-align: top\">2001.0</td>\n",
              "        <td style=\"padding-left: 1em; padding-right: 1em; text-align: center; vertical-align: top\">0.0</td>\n",
              "        <td style=\"padding-left: 1em; padding-right: 1em; text-align: center; vertical-align: top\">98053</td>\n",
              "        <td style=\"padding-left: 1em; padding-right: 1em; text-align: center; vertical-align: top\">47.65611835</td>\n",
              "    </tr>\n",
              "    <tr>\n",
              "        <td style=\"padding-left: 1em; padding-right: 1em; text-align: center; vertical-align: top\">0</td>\n",
              "        <td style=\"padding-left: 1em; padding-right: 1em; text-align: center; vertical-align: top\">3</td>\n",
              "        <td style=\"padding-left: 1em; padding-right: 1em; text-align: center; vertical-align: top\">7.0</td>\n",
              "        <td style=\"padding-left: 1em; padding-right: 1em; text-align: center; vertical-align: top\">1715.0</td>\n",
              "        <td style=\"padding-left: 1em; padding-right: 1em; text-align: center; vertical-align: top\">0.0</td>\n",
              "        <td style=\"padding-left: 1em; padding-right: 1em; text-align: center; vertical-align: top\">1995.0</td>\n",
              "        <td style=\"padding-left: 1em; padding-right: 1em; text-align: center; vertical-align: top\">0.0</td>\n",
              "        <td style=\"padding-left: 1em; padding-right: 1em; text-align: center; vertical-align: top\">98003</td>\n",
              "        <td style=\"padding-left: 1em; padding-right: 1em; text-align: center; vertical-align: top\">47.30972002</td>\n",
              "    </tr>\n",
              "    <tr>\n",
              "        <td style=\"padding-left: 1em; padding-right: 1em; text-align: center; vertical-align: top\">0</td>\n",
              "        <td style=\"padding-left: 1em; padding-right: 1em; text-align: center; vertical-align: top\">3</td>\n",
              "        <td style=\"padding-left: 1em; padding-right: 1em; text-align: center; vertical-align: top\">7.0</td>\n",
              "        <td style=\"padding-left: 1em; padding-right: 1em; text-align: center; vertical-align: top\">1060.0</td>\n",
              "        <td style=\"padding-left: 1em; padding-right: 1em; text-align: center; vertical-align: top\">0.0</td>\n",
              "        <td style=\"padding-left: 1em; padding-right: 1em; text-align: center; vertical-align: top\">1963.0</td>\n",
              "        <td style=\"padding-left: 1em; padding-right: 1em; text-align: center; vertical-align: top\">0.0</td>\n",
              "        <td style=\"padding-left: 1em; padding-right: 1em; text-align: center; vertical-align: top\">98198</td>\n",
              "        <td style=\"padding-left: 1em; padding-right: 1em; text-align: center; vertical-align: top\">47.40949984</td>\n",
              "    </tr>\n",
              "    <tr>\n",
              "        <td style=\"padding-left: 1em; padding-right: 1em; text-align: center; vertical-align: top\">0</td>\n",
              "        <td style=\"padding-left: 1em; padding-right: 1em; text-align: center; vertical-align: top\">3</td>\n",
              "        <td style=\"padding-left: 1em; padding-right: 1em; text-align: center; vertical-align: top\">7.0</td>\n",
              "        <td style=\"padding-left: 1em; padding-right: 1em; text-align: center; vertical-align: top\">1050.0</td>\n",
              "        <td style=\"padding-left: 1em; padding-right: 1em; text-align: center; vertical-align: top\">730.0</td>\n",
              "        <td style=\"padding-left: 1em; padding-right: 1em; text-align: center; vertical-align: top\">1960.0</td>\n",
              "        <td style=\"padding-left: 1em; padding-right: 1em; text-align: center; vertical-align: top\">0.0</td>\n",
              "        <td style=\"padding-left: 1em; padding-right: 1em; text-align: center; vertical-align: top\">98146</td>\n",
              "        <td style=\"padding-left: 1em; padding-right: 1em; text-align: center; vertical-align: top\">47.51229381</td>\n",
              "    </tr>\n",
              "    <tr>\n",
              "        <td style=\"padding-left: 1em; padding-right: 1em; text-align: center; vertical-align: top\">0</td>\n",
              "        <td style=\"padding-left: 1em; padding-right: 1em; text-align: center; vertical-align: top\">3</td>\n",
              "        <td style=\"padding-left: 1em; padding-right: 1em; text-align: center; vertical-align: top\">7.0</td>\n",
              "        <td style=\"padding-left: 1em; padding-right: 1em; text-align: center; vertical-align: top\">1890.0</td>\n",
              "        <td style=\"padding-left: 1em; padding-right: 1em; text-align: center; vertical-align: top\">0.0</td>\n",
              "        <td style=\"padding-left: 1em; padding-right: 1em; text-align: center; vertical-align: top\">2003.0</td>\n",
              "        <td style=\"padding-left: 1em; padding-right: 1em; text-align: center; vertical-align: top\">0.0</td>\n",
              "        <td style=\"padding-left: 1em; padding-right: 1em; text-align: center; vertical-align: top\">98038</td>\n",
              "        <td style=\"padding-left: 1em; padding-right: 1em; text-align: center; vertical-align: top\">47.36840673</td>\n",
              "    </tr>\n",
              "</table>\n",
              "<table frame=\"box\" rules=\"cols\">\n",
              "    <tr>\n",
              "        <th style=\"padding-left: 1em; padding-right: 1em; text-align: center\">long</th>\n",
              "        <th style=\"padding-left: 1em; padding-right: 1em; text-align: center\">sqft_living15</th>\n",
              "        <th style=\"padding-left: 1em; padding-right: 1em; text-align: center\">sqft_lot15</th>\n",
              "    </tr>\n",
              "    <tr>\n",
              "        <td style=\"padding-left: 1em; padding-right: 1em; text-align: center; vertical-align: top\">-122.25677536</td>\n",
              "        <td style=\"padding-left: 1em; padding-right: 1em; text-align: center; vertical-align: top\">1340.0</td>\n",
              "        <td style=\"padding-left: 1em; padding-right: 1em; text-align: center; vertical-align: top\">5650.0</td>\n",
              "    </tr>\n",
              "    <tr>\n",
              "        <td style=\"padding-left: 1em; padding-right: 1em; text-align: center; vertical-align: top\">-122.3188624</td>\n",
              "        <td style=\"padding-left: 1em; padding-right: 1em; text-align: center; vertical-align: top\">1690.0</td>\n",
              "        <td style=\"padding-left: 1em; padding-right: 1em; text-align: center; vertical-align: top\">7639.0</td>\n",
              "    </tr>\n",
              "    <tr>\n",
              "        <td style=\"padding-left: 1em; padding-right: 1em; text-align: center; vertical-align: top\">-122.23319601</td>\n",
              "        <td style=\"padding-left: 1em; padding-right: 1em; text-align: center; vertical-align: top\">2720.0</td>\n",
              "        <td style=\"padding-left: 1em; padding-right: 1em; text-align: center; vertical-align: top\">8062.0</td>\n",
              "    </tr>\n",
              "    <tr>\n",
              "        <td style=\"padding-left: 1em; padding-right: 1em; text-align: center; vertical-align: top\">-122.39318505</td>\n",
              "        <td style=\"padding-left: 1em; padding-right: 1em; text-align: center; vertical-align: top\">1360.0</td>\n",
              "        <td style=\"padding-left: 1em; padding-right: 1em; text-align: center; vertical-align: top\">5000.0</td>\n",
              "    </tr>\n",
              "    <tr>\n",
              "        <td style=\"padding-left: 1em; padding-right: 1em; text-align: center; vertical-align: top\">-122.04490059</td>\n",
              "        <td style=\"padding-left: 1em; padding-right: 1em; text-align: center; vertical-align: top\">1800.0</td>\n",
              "        <td style=\"padding-left: 1em; padding-right: 1em; text-align: center; vertical-align: top\">7503.0</td>\n",
              "    </tr>\n",
              "    <tr>\n",
              "        <td style=\"padding-left: 1em; padding-right: 1em; text-align: center; vertical-align: top\">-122.00528655</td>\n",
              "        <td style=\"padding-left: 1em; padding-right: 1em; text-align: center; vertical-align: top\">4760.0</td>\n",
              "        <td style=\"padding-left: 1em; padding-right: 1em; text-align: center; vertical-align: top\">101930.0</td>\n",
              "    </tr>\n",
              "    <tr>\n",
              "        <td style=\"padding-left: 1em; padding-right: 1em; text-align: center; vertical-align: top\">-122.32704857</td>\n",
              "        <td style=\"padding-left: 1em; padding-right: 1em; text-align: center; vertical-align: top\">2238.0</td>\n",
              "        <td style=\"padding-left: 1em; padding-right: 1em; text-align: center; vertical-align: top\">6819.0</td>\n",
              "    </tr>\n",
              "    <tr>\n",
              "        <td style=\"padding-left: 1em; padding-right: 1em; text-align: center; vertical-align: top\">-122.31457273</td>\n",
              "        <td style=\"padding-left: 1em; padding-right: 1em; text-align: center; vertical-align: top\">1650.0</td>\n",
              "        <td style=\"padding-left: 1em; padding-right: 1em; text-align: center; vertical-align: top\">9711.0</td>\n",
              "    </tr>\n",
              "    <tr>\n",
              "        <td style=\"padding-left: 1em; padding-right: 1em; text-align: center; vertical-align: top\">-122.33659507</td>\n",
              "        <td style=\"padding-left: 1em; padding-right: 1em; text-align: center; vertical-align: top\">1780.0</td>\n",
              "        <td style=\"padding-left: 1em; padding-right: 1em; text-align: center; vertical-align: top\">8113.0</td>\n",
              "    </tr>\n",
              "    <tr>\n",
              "        <td style=\"padding-left: 1em; padding-right: 1em; text-align: center; vertical-align: top\">-122.0308176</td>\n",
              "        <td style=\"padding-left: 1em; padding-right: 1em; text-align: center; vertical-align: top\">2390.0</td>\n",
              "        <td style=\"padding-left: 1em; padding-right: 1em; text-align: center; vertical-align: top\">7570.0</td>\n",
              "    </tr>\n",
              "</table>\n",
              "[21613 rows x 21 columns]<br/>Note: Only the head of the SFrame is printed.<br/>You can use print_rows(num_rows=m, num_columns=n) to print more rows and columns.\n",
              "</div>"
            ],
            "text/plain": [
              "Columns:\n",
              "\tid\tstr\n",
              "\tdate\tdatetime\n",
              "\tprice\tfloat\n",
              "\tbedrooms\tfloat\n",
              "\tbathrooms\tfloat\n",
              "\tsqft_living\tfloat\n",
              "\tsqft_lot\tfloat\n",
              "\tfloors\tfloat\n",
              "\twaterfront\tint\n",
              "\tview\tint\n",
              "\tcondition\tint\n",
              "\tgrade\tfloat\n",
              "\tsqft_above\tfloat\n",
              "\tsqft_basement\tfloat\n",
              "\tyr_built\tfloat\n",
              "\tyr_renovated\tfloat\n",
              "\tzipcode\tstr\n",
              "\tlat\tfloat\n",
              "\tlong\tfloat\n",
              "\tsqft_living15\tfloat\n",
              "\tsqft_lot15\tfloat\n",
              "\n",
              "Rows: 21613\n",
              "\n",
              "Data:\n",
              "+------------+---------------------------+-----------+----------+-----------+\n",
              "|     id     |            date           |   price   | bedrooms | bathrooms |\n",
              "+------------+---------------------------+-----------+----------+-----------+\n",
              "| 7129300520 | 2014-10-13 00:00:00+00:00 |  221900.0 |   3.0    |    1.0    |\n",
              "| 6414100192 | 2014-12-09 00:00:00+00:00 |  538000.0 |   3.0    |    2.25   |\n",
              "| 5631500400 | 2015-02-25 00:00:00+00:00 |  180000.0 |   2.0    |    1.0    |\n",
              "| 2487200875 | 2014-12-09 00:00:00+00:00 |  604000.0 |   4.0    |    3.0    |\n",
              "| 1954400510 | 2015-02-18 00:00:00+00:00 |  510000.0 |   3.0    |    2.0    |\n",
              "| 7237550310 | 2014-05-12 00:00:00+00:00 | 1225000.0 |   4.0    |    4.5    |\n",
              "| 1321400060 | 2014-06-27 00:00:00+00:00 |  257500.0 |   3.0    |    2.25   |\n",
              "| 2008000270 | 2015-01-15 00:00:00+00:00 |  291850.0 |   3.0    |    1.5    |\n",
              "| 2414600126 | 2015-04-15 00:00:00+00:00 |  229500.0 |   3.0    |    1.0    |\n",
              "| 3793500160 | 2015-03-12 00:00:00+00:00 |  323000.0 |   3.0    |    2.5    |\n",
              "+------------+---------------------------+-----------+----------+-----------+\n",
              "+-------------+----------+--------+------------+------+-----------+-------+\n",
              "| sqft_living | sqft_lot | floors | waterfront | view | condition | grade |\n",
              "+-------------+----------+--------+------------+------+-----------+-------+\n",
              "|    1180.0   |  5650.0  |  1.0   |     0      |  0   |     3     |  7.0  |\n",
              "|    2570.0   |  7242.0  |  2.0   |     0      |  0   |     3     |  7.0  |\n",
              "|    770.0    | 10000.0  |  1.0   |     0      |  0   |     3     |  6.0  |\n",
              "|    1960.0   |  5000.0  |  1.0   |     0      |  0   |     5     |  7.0  |\n",
              "|    1680.0   |  8080.0  |  1.0   |     0      |  0   |     3     |  8.0  |\n",
              "|    5420.0   | 101930.0 |  1.0   |     0      |  0   |     3     |  11.0 |\n",
              "|    1715.0   |  6819.0  |  2.0   |     0      |  0   |     3     |  7.0  |\n",
              "|    1060.0   |  9711.0  |  1.0   |     0      |  0   |     3     |  7.0  |\n",
              "|    1780.0   |  7470.0  |  1.0   |     0      |  0   |     3     |  7.0  |\n",
              "|    1890.0   |  6560.0  |  2.0   |     0      |  0   |     3     |  7.0  |\n",
              "+-------------+----------+--------+------------+------+-----------+-------+\n",
              "+------------+---------------+----------+--------------+---------+-------------+\n",
              "| sqft_above | sqft_basement | yr_built | yr_renovated | zipcode |     lat     |\n",
              "+------------+---------------+----------+--------------+---------+-------------+\n",
              "|   1180.0   |      0.0      |  1955.0  |     0.0      |  98178  | 47.51123398 |\n",
              "|   2170.0   |     400.0     |  1951.0  |    1991.0    |  98125  | 47.72102274 |\n",
              "|   770.0    |      0.0      |  1933.0  |     0.0      |  98028  | 47.73792661 |\n",
              "|   1050.0   |     910.0     |  1965.0  |     0.0      |  98136  |   47.52082  |\n",
              "|   1680.0   |      0.0      |  1987.0  |     0.0      |  98074  | 47.61681228 |\n",
              "|   3890.0   |     1530.0    |  2001.0  |     0.0      |  98053  | 47.65611835 |\n",
              "|   1715.0   |      0.0      |  1995.0  |     0.0      |  98003  | 47.30972002 |\n",
              "|   1060.0   |      0.0      |  1963.0  |     0.0      |  98198  | 47.40949984 |\n",
              "|   1050.0   |     730.0     |  1960.0  |     0.0      |  98146  | 47.51229381 |\n",
              "|   1890.0   |      0.0      |  2003.0  |     0.0      |  98038  | 47.36840673 |\n",
              "+------------+---------------+----------+--------------+---------+-------------+\n",
              "+---------------+---------------+-----+\n",
              "|      long     | sqft_living15 | ... |\n",
              "+---------------+---------------+-----+\n",
              "| -122.25677536 |     1340.0    | ... |\n",
              "|  -122.3188624 |     1690.0    | ... |\n",
              "| -122.23319601 |     2720.0    | ... |\n",
              "| -122.39318505 |     1360.0    | ... |\n",
              "| -122.04490059 |     1800.0    | ... |\n",
              "| -122.00528655 |     4760.0    | ... |\n",
              "| -122.32704857 |     2238.0    | ... |\n",
              "| -122.31457273 |     1650.0    | ... |\n",
              "| -122.33659507 |     1780.0    | ... |\n",
              "|  -122.0308176 |     2390.0    | ... |\n",
              "+---------------+---------------+-----+\n",
              "[21613 rows x 21 columns]\n",
              "Note: Only the head of the SFrame is printed.\n",
              "You can use print_rows(num_rows=m, num_columns=n) to print more rows and columns."
            ]
          },
          "metadata": {
            "tags": []
          },
          "execution_count": 128
        }
      ]
    },
    {
      "cell_type": "code",
      "metadata": {
        "id": "PqhpppjpDpqj"
      },
      "source": [
        "def get_numpy_data(data_sframe, features, output):\r\n",
        "  data_sframe['constant'] = 1\r\n",
        "  features = ['constant'] + features\r\n",
        "  features_sframe=data_sframe[features]\r\n",
        "  features_matrix = features_sframe.to_numpy()\r\n",
        "  output_sframe=data_sframe[output]\r\n",
        "  output_array=output_sframe.to_numpy()\r\n",
        "  return(features_matrix, output_array)\r\n"
      ],
      "execution_count": null,
      "outputs": []
    },
    {
      "cell_type": "code",
      "metadata": {
        "id": "mFJqQ7_UIvrM"
      },
      "source": [
        "def predict_output(feature_matrix, weights):\r\n",
        "    predictions=np.dot(feature_matrix, weights)\r\n",
        "    return(predictions)"
      ],
      "execution_count": null,
      "outputs": []
    },
    {
      "cell_type": "code",
      "metadata": {
        "id": "5b6XHjIfJ3Sk"
      },
      "source": [
        "def feature_derivative(errors, feature):\r\n",
        "    derivative=2*np.dot(errors,feature)\r\n",
        "    return(derivative)\r\n"
      ],
      "execution_count": null,
      "outputs": []
    },
    {
      "cell_type": "code",
      "metadata": {
        "colab": {
          "base_uri": "https://localhost:8080/"
        },
        "id": "t4JKpjFHSuKn",
        "outputId": "cd398b13-e927-45e3-ebbf-16a2ec437487"
      },
      "source": [
        "\r\n",
        "(example_features, example_output) = get_numpy_data(sales, ['sqft_living'], 'price') \r\n",
        "my_weights = np.array([0., 0.]) # this makes all the predictions 0\r\n",
        "test_predictions = predict_output(example_features, my_weights) \r\n",
        "# just like SFrames 2 numpy arrays can be elementwise subtracted with '-': \r\n",
        "errors = test_predictions - example_output # prediction errors in this case is just the -example_output\r\n",
        "feature = example_features[:,0] # let's compute the derivative with respect to 'constant', the \":\" indicates \"all rows\"\r\n",
        "derivative = feature_derivative(errors, feature)\r\n",
        "print (derivative)\r\n",
        "print (-np.sum(example_output)*2)"
      ],
      "execution_count": null,
      "outputs": [
        {
          "output_type": "stream",
          "text": [
            "-23345850022.0\n",
            "-23345850022.0\n"
          ],
          "name": "stdout"
        }
      ]
    },
    {
      "cell_type": "code",
      "metadata": {
        "id": "KsUjbnt6R5Ki"
      },
      "source": [
        "from math import sqrt"
      ],
      "execution_count": null,
      "outputs": []
    },
    {
      "cell_type": "code",
      "metadata": {
        "id": "hb9FMU5wK2WE"
      },
      "source": [
        "def regression_gradient_descent(feature_matrix, output, initial_weights, step_size, tolerance):\r\n",
        "    converged = False\r\n",
        "    weights = np.array(initial_weights)\r\n",
        "    while not converged:\r\n",
        "        predictions=predict_outcome(feature_matrix, weights)#  compute the predictions based on feature_matrix and weights:\r\n",
        "        errors=predictions-output# compute the errors as predictions - output:\r\n",
        "        \r\n",
        "        gradient_sum_squares = 0 # initialize the gradient\r\n",
        "        # while not converged, update each weight individually:\r\n",
        "        for i in range(len(weights)):\r\n",
        "            feature=feature_matrix[:, i]# Recall that feature_matrix[:, i] is the feature column associated with weights[i]\r\n",
        "            derivative=feature_derivative(errors, feature)# compute the derivative for weight[i]:\r\n",
        "            \r\n",
        "            gradient_sum_squares+=derivative*derivative# add the squared derivative to the gradient magnitude\r\n",
        "            \r\n",
        "            weights-=2*step_size*derivative# update the weight based on step size and derivative:\r\n",
        "            \r\n",
        "        gradient_magnitude = sqrt(gradient_sum_squares)\r\n",
        "        if gradient_magnitude < tolerance:\r\n",
        "            converged = True\r\n",
        "    return(weights)\r\n"
      ],
      "execution_count": null,
      "outputs": []
    },
    {
      "cell_type": "code",
      "metadata": {
        "id": "_F5bX2ElQx1c"
      },
      "source": [
        "train_data,test_data = sales1.random_split(.8,seed=0)"
      ],
      "execution_count": null,
      "outputs": []
    },
    {
      "cell_type": "code",
      "metadata": {
        "colab": {
          "base_uri": "https://localhost:8080/"
        },
        "id": "QR26ZB9wRr08",
        "outputId": "fd518efd-3a38-4e33-9fc8-802b2ebd6aa8"
      },
      "source": [
        "\r\n",
        "test_weight  = regression_gradient_descent(simple_feature_matrix, output,initial_weights, step_size,tolerance)\r\n",
        "test_weight"
      ],
      "execution_count": null,
      "outputs": [
        {
          "output_type": "execute_result",
          "data": {
            "text/plain": [
              "array([-46999.88716555,    281.91211912])"
            ]
          },
          "metadata": {
            "tags": []
          },
          "execution_count": 175
        }
      ]
    },
    {
      "cell_type": "code",
      "metadata": {
        "colab": {
          "base_uri": "https://localhost:8080/"
        },
        "id": "riHxGYDsUAM1",
        "outputId": "fa8a16fe-77d1-4601-c6f7-b9dea8275cfe"
      },
      "source": [
        "\r\n",
        "(example_features, example_output) = get_numpy_data(sales, ['sqft_living'], 'price') # the [] around 'sqft_living' makes it a list\r\n",
        "print (example_features[0,:]) # this accesses the first row of the data the ':' indicates 'all columns'\r\n",
        "print (example_output[0]) # and the corresponding output"
      ],
      "execution_count": null,
      "outputs": [
        {
          "output_type": "stream",
          "text": [
            "[1.00e+00 1.18e+03]\n",
            "221900.0\n"
          ],
          "name": "stdout"
        }
      ]
    },
    {
      "cell_type": "code",
      "metadata": {
        "colab": {
          "base_uri": "https://localhost:8080/"
        },
        "id": "mf7o7ZFGUD4x",
        "outputId": "282d18e8-a112-4c8e-9269-20cb9daa856e"
      },
      "source": [
        "my_weights = np.array([1., 1.]) # the example weights\r\n",
        "my_features = example_features[0,] # we'll use the first data point\r\n",
        "predicted_value = np.dot(my_features, my_weights)\r\n",
        "print (predicted_value)"
      ],
      "execution_count": null,
      "outputs": [
        {
          "output_type": "stream",
          "text": [
            "1181.0\n"
          ],
          "name": "stdout"
        }
      ]
    },
    {
      "cell_type": "code",
      "metadata": {
        "colab": {
          "base_uri": "https://localhost:8080/"
        },
        "id": "bhYiRrdaUlNn",
        "outputId": "593f6f33-f38f-4baa-fd8b-931b9299123c"
      },
      "source": [
        "test_predictions = predict_output(example_features, my_weights)\r\n",
        "print (test_predictions[0] )# should be 1181.0\r\n",
        "print (test_predictions[1])"
      ],
      "execution_count": null,
      "outputs": [
        {
          "output_type": "stream",
          "text": [
            "1181.0\n",
            "2571.0\n"
          ],
          "name": "stdout"
        }
      ]
    },
    {
      "cell_type": "code",
      "metadata": {
        "colab": {
          "base_uri": "https://localhost:8080/"
        },
        "id": "OXgbsBeeU23h",
        "outputId": "c597a9bd-ba50-4068-ccd1-c593c48c8d58"
      },
      "source": [
        "print (example_output)\r\n",
        "print (errors)\r\n",
        "print (feature)"
      ],
      "execution_count": null,
      "outputs": [
        {
          "output_type": "stream",
          "text": [
            "[221900. 538000. 180000. ... 402101. 400000. 325000.]\n",
            "[-221900. -538000. -180000. ... -402101. -400000. -325000.]\n",
            "[1. 1. 1. ... 1. 1. 1.]\n"
          ],
          "name": "stdout"
        }
      ]
    },
    {
      "cell_type": "code",
      "metadata": {
        "id": "OgrQorMDVMPb"
      },
      "source": [
        "(test_simple_feature_matrix, test_output) = get_numpy_data(test_data, simple_features, my_output)\r\n"
      ],
      "execution_count": 177,
      "outputs": []
    },
    {
      "cell_type": "code",
      "metadata": {
        "colab": {
          "base_uri": "https://localhost:8080/"
        },
        "id": "yS1gKlluXonR",
        "outputId": "255f4250-3137-4307-dd9f-ac449f48d2b0"
      },
      "source": [
        "\r\n",
        "test_predictions = predict_output(test_simple_feature_matrix, test_weight)\r\n",
        "print (test_predictions)"
      ],
      "execution_count": 178,
      "outputs": [
        {
          "output_type": "stream",
          "text": [
            "[356134.44317093 784640.86422788 435069.83652353 ... 663418.65300782\n",
            " 604217.10799338 240550.4743332 ]\n"
          ],
          "name": "stdout"
        }
      ]
    },
    {
      "cell_type": "code",
      "metadata": {
        "colab": {
          "base_uri": "https://localhost:8080/"
        },
        "id": "riLtaIT2YLYo",
        "outputId": "d29842d1-7f26-4704-eac9-56675f41f971"
      },
      "source": [
        "len(test_predictions)"
      ],
      "execution_count": 179,
      "outputs": [
        {
          "output_type": "execute_result",
          "data": {
            "text/plain": [
              "4229"
            ]
          },
          "metadata": {
            "tags": []
          },
          "execution_count": 179
        }
      ]
    },
    {
      "cell_type": "code",
      "metadata": {
        "id": "390uyz9lYQkX"
      },
      "source": [
        "\r\n",
        "model_features = ['sqft_living', 'sqft_living15'] # sqft_living15 is the average squarefeet for the nearest 15 neighbors. \r\n",
        "my_output = 'price'\r\n",
        "(feature_matrix, output) = get_numpy_data(train_data, model_features, my_output)\r\n",
        "initial_weights = np.array([-100000., 1., 1.])\r\n",
        "step_size = 4e-12\r\n",
        "tolerance = 1e9\r\n"
      ],
      "execution_count": 180,
      "outputs": []
    },
    {
      "cell_type": "code",
      "metadata": {
        "colab": {
          "base_uri": "https://localhost:8080/"
        },
        "id": "4-i5slrBY8IH",
        "outputId": "ebd7e423-48f4-4720-832c-ef69a23c175a"
      },
      "source": [
        "weight_2 = regression_gradient_descent(feature_matrix, output, initial_weights, step_size, tolerance)\r\n",
        "print (weight_2)"
      ],
      "execution_count": 181,
      "outputs": [
        {
          "output_type": "stream",
          "text": [
            "[-9.99999688e+04  2.45072603e+02  6.52795277e+01]\n"
          ],
          "name": "stdout"
        }
      ]
    },
    {
      "cell_type": "code",
      "metadata": {
        "colab": {
          "base_uri": "https://localhost:8080/"
        },
        "id": "-vXPI-1fZCkw",
        "outputId": "6ed35641-3c87-477f-8647-712144b6e09c"
      },
      "source": [
        "\r\n",
        "(test_feature_matrix, test_output) = get_numpy_data(test_data, model_features, my_output)\r\n",
        "\r\n",
        "test_predictions_2 = predict_output(test_feature_matrix, weight_2)\r\n",
        "print (test_predictions_2)"
      ],
      "execution_count": 183,
      "outputs": [
        {
          "output_type": "stream",
          "text": [
            "[366651.41203656 762662.39786164 386312.09499712 ... 682087.39928241\n",
            " 585579.27865729 216559.20396617]\n"
          ],
          "name": "stdout"
        }
      ]
    },
    {
      "cell_type": "code",
      "metadata": {
        "colab": {
          "base_uri": "https://localhost:8080/"
        },
        "id": "0cGs4gJdZGbl",
        "outputId": "db9cee2f-0229-44c1-a2a5-eb10f234f1bc"
      },
      "source": [
        "print (test_data['price'][0])"
      ],
      "execution_count": 184,
      "outputs": [
        {
          "output_type": "stream",
          "text": [
            "310000.0\n"
          ],
          "name": "stdout"
        }
      ]
    },
    {
      "cell_type": "code",
      "metadata": {
        "colab": {
          "base_uri": "https://localhost:8080/"
        },
        "id": "5FJmjMgnZakr",
        "outputId": "2135fed1-0b09-4530-cd70-243ec940a2b2"
      },
      "source": [
        "test_residuals_2 = test_output - test_predictions_2\r\n",
        "test_RSS_2 = (test_residuals_2**2).sum()\r\n",
        "print (test_RSS_2)\r\n"
      ],
      "execution_count": 187,
      "outputs": [
        {
          "output_type": "stream",
          "text": [
            "270263446465244.06\n"
          ],
          "name": "stdout"
        }
      ]
    },
    {
      "cell_type": "code",
      "metadata": {
        "colab": {
          "base_uri": "https://localhost:8080/"
        },
        "id": "UgKv4fi_Zgxf",
        "outputId": "2f2ba596-b85c-4fb5-d5ca-cfb1678b724b"
      },
      "source": [
        "test_residuals = test_output - test_predictions\r\n",
        "test_RSS = (test_residuals * test_residuals).sum()\r\n",
        "print (test_RSS)"
      ],
      "execution_count": 186,
      "outputs": [
        {
          "output_type": "stream",
          "text": [
            "275400047593155.94\n"
          ],
          "name": "stdout"
        }
      ]
    },
    {
      "cell_type": "code",
      "metadata": {
        "id": "8Cva5eo8Znfc"
      },
      "source": [
        ""
      ],
      "execution_count": null,
      "outputs": []
    }
  ]
}